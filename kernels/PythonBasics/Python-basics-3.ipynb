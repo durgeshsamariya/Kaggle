{
 "cells": [
  {
   "cell_type": "markdown",
   "execution_count": null,
   "metadata": {
    "papermill": {
     "duration": 0.006828,
     "end_time": "2020-08-15T15:15:05.489776",
     "exception": false,
     "start_time": "2020-08-15T15:15:05.482948",
     "status": "completed"
    },
    "tags": []
   },
   "source": [
    "# Python Basics 3 : If Statements, User Input, While Loop\n",
    "\n",
    "### Day 3 of 100 Days of Machine Learning Code"
   ]
  },
  {
   "cell_type": "markdown",
   "execution_count": null,
   "metadata": {
    "papermill": {
     "duration": 0.004505,
     "end_time": "2020-08-15T15:15:05.499312",
     "exception": false,
     "start_time": "2020-08-15T15:15:05.494807",
     "status": "completed"
    },
    "tags": []
   },
   "source": [
    "#### Content\n",
    "- If Statement\n",
    "- Conditional Tests\n",
    "- If-Elif-Else Statement\n",
    "- User Input\n",
    "- While Loop\n",
    "- Break and Continue in the loop"
   ]
  },
  {
   "cell_type": "markdown",
   "execution_count": null,
   "metadata": {
    "papermill": {
     "duration": 0.004225,
     "end_time": "2020-08-15T15:15:05.508243",
     "exception": false,
     "start_time": "2020-08-15T15:15:05.504018",
     "status": "completed"
    },
    "tags": []
   },
   "source": [
    "## If Statement\n",
    "If statements are used to check conditions. Let’s have a look at the syntax.\n",
    "\n",
    "```\n",
    ". . .\n",
    ". . .\n",
    "if condition:\n",
    " . . . .\n",
    " do_something\n",
    " . . . .\n",
    "else:\n",
    " . . . .\n",
    " do_something\n",
    " . . . .\n",
    ". . . .\n",
    ". . . .\n",
    "```"
   ]
  },
  {
   "cell_type": "code",
   "execution_count": 1,
   "metadata": {
    "_cell_guid": "79c7e3d0-c299-4dcb-8224-4455121ee9b0",
    "_uuid": "d629ff2d2480ee46fbb7e2d37f6b5fab8052498a",
    "execution": {
     "iopub.execute_input": "2020-08-15T15:15:05.523476Z",
     "iopub.status.busy": "2020-08-15T15:15:05.522722Z",
     "iopub.status.idle": "2020-08-15T15:15:05.527240Z",
     "shell.execute_reply": "2020-08-15T15:15:05.526703Z"
    },
    "papermill": {
     "duration": 0.014407,
     "end_time": "2020-08-15T15:15:05.527402",
     "exception": false,
     "start_time": "2020-08-15T15:15:05.512995",
     "status": "completed"
    },
    "tags": []
   },
   "outputs": [
    {
     "name": "stdout",
     "output_type": "stream",
     "text": [
      "2\n"
     ]
    }
   ],
   "source": [
    "a = 2\n",
    "\n",
    "# check whether number equals to 2 or not\n",
    "if a == 2:\n",
    "  print(a)"
   ]
  },
  {
   "cell_type": "markdown",
   "execution_count": null,
   "metadata": {
    "papermill": {
     "duration": 0.004465,
     "end_time": "2020-08-15T15:15:05.536602",
     "exception": false,
     "start_time": "2020-08-15T15:15:05.532137",
     "status": "completed"
    },
    "tags": []
   },
   "source": [
    "## Conditional Tests"
   ]
  },
  {
   "cell_type": "code",
   "execution_count": 2,
   "metadata": {
    "execution": {
     "iopub.execute_input": "2020-08-15T15:15:05.558437Z",
     "iopub.status.busy": "2020-08-15T15:15:05.557303Z",
     "iopub.status.idle": "2020-08-15T15:15:05.562113Z",
     "shell.execute_reply": "2020-08-15T15:15:05.561144Z"
    },
    "papermill": {
     "duration": 0.020666,
     "end_time": "2020-08-15T15:15:05.562315",
     "exception": false,
     "start_time": "2020-08-15T15:15:05.541649",
     "status": "completed"
    },
    "tags": []
   },
   "outputs": [
    {
     "name": "stdout",
     "output_type": "stream",
     "text": [
      "Number is equal to 10, is it true or false? True\n",
      "Number is not equal to 10, is it true or false?  True\n",
      "Your age is between 10 to 20, is it true or false? True\n",
      "Your age is between 10 to 15, is it true or false? True\n",
      "Status is True\n",
      "I like pizza.\n"
     ]
    }
   ],
   "source": [
    "num = 10\n",
    "\n",
    "# equality checking\n",
    "if num == 10:\n",
    "  print('Number is equal to 10, is it true or false?', num == 10)\n",
    "  \n",
    "# output\n",
    "# Number is equal to 10, is it true or false?\n",
    "\n",
    "# inequality checking\n",
    "if num != 11:\n",
    "  print('Number is not equal to 10, is it true or false? ', num != 11)\n",
    "  \n",
    "# output\n",
    "# Number is not equal to 10, is it true or false?  True\n",
    "\n",
    "# multiple conditions\n",
    "age = 18\n",
    "\n",
    "# 'and' operator will check both conditions, if both conditions are true then only it run inner block.\n",
    "if (age > 10) and (age < 20):\n",
    "  print(\"Your age is between 10 to 20, is it true or false?\", (age>10) and (age<20))\n",
    "  \n",
    "# output\n",
    "# Your age is between 10 to 20, is it true or false? True\n",
    "\n",
    "# another example of multiple condition with 'and' operator\n",
    "if (age > 10) and (age < 15):\n",
    "  print(\"Your age is between 10 to 15, is it true or false?\", (age>10) and (age<15))\n",
    "  \n",
    "# output\n",
    "# Our condition returns False so there is no output. \n",
    "\n",
    "# Let's try same condition with 'or' operator.\n",
    "# While using 'or' operator if only one condition needs to be true for running code inside if statement.\n",
    "if (age > 10) or (age < 15):\n",
    "  print(\"Your age is between 10 to 15, is it true or false?\", (age > 10) or (age < 15))\n",
    "  \n",
    "# output\n",
    "# Your age is between 10 to 15, is it true or false? True\n",
    "\n",
    "status = True\n",
    "\n",
    "if status:\n",
    "  print(\"Status is\", status)\n",
    "\n",
    "# output\n",
    "# Status is True\n",
    "\n",
    "# checking whether item is in the list or not\n",
    "\n",
    "foods = ('pizza', 'falafel', 'carrot cake', 'cannoli', 'ice cream')\n",
    "\n",
    "if 'pizza' in foods:\n",
    "  print('I like pizza.')\n",
    "\n",
    "# output\n",
    "# I like pizza.\n",
    "\n",
    "# even you can chech whether item is not in the list condition\n",
    "if 'pizza' not in foods:\n",
    "  print('I don\\'t like pizza.')\n",
    "  \n",
    "# output\n",
    "# here condition is false because 'pizza' is in the list"
   ]
  },
  {
   "cell_type": "markdown",
   "execution_count": null,
   "metadata": {
    "papermill": {
     "duration": 0.005027,
     "end_time": "2020-08-15T15:15:05.572245",
     "exception": false,
     "start_time": "2020-08-15T15:15:05.567218",
     "status": "completed"
    },
    "tags": []
   },
   "source": [
    "## If-Elif-Else statementpercentage = 77"
   ]
  },
  {
   "cell_type": "code",
   "execution_count": 3,
   "metadata": {
    "execution": {
     "iopub.execute_input": "2020-08-15T15:15:05.590341Z",
     "iopub.status.busy": "2020-08-15T15:15:05.589452Z",
     "iopub.status.idle": "2020-08-15T15:15:05.592868Z",
     "shell.execute_reply": "2020-08-15T15:15:05.593367Z"
    },
    "papermill": {
     "duration": 0.014487,
     "end_time": "2020-08-15T15:15:05.593569",
     "exception": false,
     "start_time": "2020-08-15T15:15:05.579082",
     "status": "completed"
    },
    "tags": []
   },
   "outputs": [
    {
     "name": "stdout",
     "output_type": "stream",
     "text": [
      "You pass with first class.\n"
     ]
    }
   ],
   "source": [
    "percentage = 77\n",
    "\n",
    "if percentage < 35:\n",
    "  print(\"You fail in exam.\")\n",
    "  \n",
    "elif percentage >= 35 and percentage < 70:\n",
    "  print(\"You pass in exam.\")\n",
    "  \n",
    "else:\n",
    "  print(\"You pass with first class.\")\n",
    "  \n",
    "# output\n",
    "# You pass with first class."
   ]
  },
  {
   "cell_type": "code",
   "execution_count": 4,
   "metadata": {
    "execution": {
     "iopub.execute_input": "2020-08-15T15:15:05.611347Z",
     "iopub.status.busy": "2020-08-15T15:15:05.610469Z",
     "iopub.status.idle": "2020-08-15T15:15:05.614450Z",
     "shell.execute_reply": "2020-08-15T15:15:05.613817Z"
    },
    "papermill": {
     "duration": 0.015706,
     "end_time": "2020-08-15T15:15:05.614576",
     "exception": false,
     "start_time": "2020-08-15T15:15:05.598870",
     "status": "completed"
    },
    "tags": []
   },
   "outputs": [
    {
     "name": "stdout",
     "output_type": "stream",
     "text": [
      "Your percentage is between 51 to 70.\n"
     ]
    }
   ],
   "source": [
    "\n",
    "percentage = 67\n",
    "\n",
    "if percentage < 35:\n",
    "  print('You fail in exam.')\n",
    "  \n",
    "elif percentage == 35:\n",
    "  print('You passed exam with passing percentage.')\n",
    "  \n",
    "elif percentage > 35 and percentage <= 50:\n",
    "  print(\"Your percentage is between 35 to 50.\")\n",
    "  \n",
    "elif percentage > 50 and percentage <= 70:\n",
    "  print(\"Your percentage is between 51 to 70.\")\n",
    "  \n",
    "elif percentage > 70 and percentage <= 100:\n",
    "  print(\"Your percentage is between 71 to 100.\")\n",
    "  \n",
    "# output\n",
    "# Your percentage is between 51 to 70."
   ]
  },
  {
   "cell_type": "markdown",
   "execution_count": null,
   "metadata": {
    "papermill": {
     "duration": 0.00629,
     "end_time": "2020-08-15T15:15:05.625970",
     "exception": false,
     "start_time": "2020-08-15T15:15:05.619680",
     "status": "completed"
    },
    "tags": []
   },
   "source": [
    "## User Input"
   ]
  },
  {
   "cell_type": "code",
   "execution_count": 5,
   "metadata": {
    "execution": {
     "iopub.execute_input": "2020-08-15T15:15:05.641730Z",
     "iopub.status.busy": "2020-08-15T15:15:05.640879Z",
     "iopub.status.idle": "2020-08-15T15:15:05.673753Z",
     "shell.execute_reply": "2020-08-15T15:15:05.672996Z"
    },
    "papermill": {
     "duration": 0.042769,
     "end_time": "2020-08-15T15:15:05.673897",
     "exception": false,
     "start_time": "2020-08-15T15:15:05.631128",
     "status": "completed"
    },
    "tags": []
   },
   "outputs": [
    {
     "ename": "StdinNotImplementedError",
     "evalue": "raw_input was called, but this frontend does not support input requests.",
     "output_type": "error",
     "traceback": [
      "\u001b[0;31m---------------------------------------------------------------------------\u001b[0m",
      "\u001b[0;31mStdinNotImplementedError\u001b[0m                  Traceback (most recent call last)",
      "\u001b[0;32m<ipython-input-5-7347b13de9f8>\u001b[0m in \u001b[0;36m<module>\u001b[0;34m\u001b[0m\n\u001b[0;32m----> 1\u001b[0;31m \u001b[0mname\u001b[0m \u001b[0;34m=\u001b[0m \u001b[0minput\u001b[0m\u001b[0;34m(\u001b[0m\u001b[0;34m\"What\\'s your name?\"\u001b[0m\u001b[0;34m)\u001b[0m\u001b[0;34m\u001b[0m\u001b[0;34m\u001b[0m\u001b[0m\n\u001b[0m\u001b[1;32m      2\u001b[0m \u001b[0;34m\u001b[0m\u001b[0m\n\u001b[1;32m      3\u001b[0m \u001b[0mprint\u001b[0m\u001b[0;34m(\u001b[0m\u001b[0;34m\"Hello, \"\u001b[0m\u001b[0;34m,\u001b[0m \u001b[0mname\u001b[0m\u001b[0;34m.\u001b[0m\u001b[0mtitle\u001b[0m\u001b[0;34m(\u001b[0m\u001b[0;34m)\u001b[0m\u001b[0;34m)\u001b[0m\u001b[0;34m\u001b[0m\u001b[0;34m\u001b[0m\u001b[0m\n",
      "\u001b[0;32m/opt/conda/lib/python3.7/site-packages/ipykernel/kernelbase.py\u001b[0m in \u001b[0;36mraw_input\u001b[0;34m(self, prompt)\u001b[0m\n\u001b[1;32m    853\u001b[0m         \u001b[0;32mif\u001b[0m \u001b[0;32mnot\u001b[0m \u001b[0mself\u001b[0m\u001b[0;34m.\u001b[0m\u001b[0m_allow_stdin\u001b[0m\u001b[0;34m:\u001b[0m\u001b[0;34m\u001b[0m\u001b[0;34m\u001b[0m\u001b[0m\n\u001b[1;32m    854\u001b[0m             raise StdinNotImplementedError(\n\u001b[0;32m--> 855\u001b[0;31m                 \u001b[0;34m\"raw_input was called, but this frontend does not support input requests.\"\u001b[0m\u001b[0;34m\u001b[0m\u001b[0;34m\u001b[0m\u001b[0m\n\u001b[0m\u001b[1;32m    856\u001b[0m             )\n\u001b[1;32m    857\u001b[0m         return self._input_request(str(prompt),\n",
      "\u001b[0;31mStdinNotImplementedError\u001b[0m: raw_input was called, but this frontend does not support input requests."
     ]
    }
   ],
   "source": [
    "name = input(\"What\\'s your name?\")\n",
    "\n",
    "print(\"Hello, \", name.title())"
   ]
  },
  {
   "cell_type": "code",
   "execution_count": 6,
   "metadata": {
    "execution": {
     "iopub.execute_input": "2020-08-15T15:15:05.698198Z",
     "iopub.status.busy": "2020-08-15T15:15:05.695714Z",
     "iopub.status.idle": "2020-08-15T15:15:05.702709Z",
     "shell.execute_reply": "2020-08-15T15:15:05.703253Z"
    },
    "papermill": {
     "duration": 0.024007,
     "end_time": "2020-08-15T15:15:05.703437",
     "exception": false,
     "start_time": "2020-08-15T15:15:05.679430",
     "status": "completed"
    },
    "tags": []
   },
   "outputs": [
    {
     "ename": "StdinNotImplementedError",
     "evalue": "raw_input was called, but this frontend does not support input requests.",
     "output_type": "error",
     "traceback": [
      "\u001b[0;31m---------------------------------------------------------------------------\u001b[0m",
      "\u001b[0;31mStdinNotImplementedError\u001b[0m                  Traceback (most recent call last)",
      "\u001b[0;32m<ipython-input-6-52ba9d02641c>\u001b[0m in \u001b[0;36m<module>\u001b[0;34m\u001b[0m\n\u001b[0;32m----> 1\u001b[0;31m \u001b[0mage\u001b[0m \u001b[0;34m=\u001b[0m \u001b[0minput\u001b[0m\u001b[0;34m(\u001b[0m\u001b[0;34m\"What is your age?\"\u001b[0m\u001b[0;34m)\u001b[0m\u001b[0;34m\u001b[0m\u001b[0;34m\u001b[0m\u001b[0m\n\u001b[0m\u001b[1;32m      2\u001b[0m \u001b[0;34m\u001b[0m\u001b[0m\n\u001b[1;32m      3\u001b[0m \u001b[0mprint\u001b[0m\u001b[0;34m(\u001b[0m\u001b[0mtype\u001b[0m\u001b[0;34m(\u001b[0m\u001b[0mage\u001b[0m\u001b[0;34m)\u001b[0m\u001b[0;34m)\u001b[0m\u001b[0;34m\u001b[0m\u001b[0;34m\u001b[0m\u001b[0m\n\u001b[1;32m      4\u001b[0m \u001b[0;31m# output\u001b[0m\u001b[0;34m\u001b[0m\u001b[0;34m\u001b[0m\u001b[0;34m\u001b[0m\u001b[0m\n\u001b[1;32m      5\u001b[0m \u001b[0;31m# <class 'str'>\u001b[0m\u001b[0;34m\u001b[0m\u001b[0;34m\u001b[0m\u001b[0;34m\u001b[0m\u001b[0m\n",
      "\u001b[0;32m/opt/conda/lib/python3.7/site-packages/ipykernel/kernelbase.py\u001b[0m in \u001b[0;36mraw_input\u001b[0;34m(self, prompt)\u001b[0m\n\u001b[1;32m    853\u001b[0m         \u001b[0;32mif\u001b[0m \u001b[0;32mnot\u001b[0m \u001b[0mself\u001b[0m\u001b[0;34m.\u001b[0m\u001b[0m_allow_stdin\u001b[0m\u001b[0;34m:\u001b[0m\u001b[0;34m\u001b[0m\u001b[0;34m\u001b[0m\u001b[0m\n\u001b[1;32m    854\u001b[0m             raise StdinNotImplementedError(\n\u001b[0;32m--> 855\u001b[0;31m                 \u001b[0;34m\"raw_input was called, but this frontend does not support input requests.\"\u001b[0m\u001b[0;34m\u001b[0m\u001b[0;34m\u001b[0m\u001b[0m\n\u001b[0m\u001b[1;32m    856\u001b[0m             )\n\u001b[1;32m    857\u001b[0m         return self._input_request(str(prompt),\n",
      "\u001b[0;31mStdinNotImplementedError\u001b[0m: raw_input was called, but this frontend does not support input requests."
     ]
    }
   ],
   "source": [
    "\n",
    "age = input(\"What is your age?\")\n",
    "\n",
    "print(type(age))\n",
    "# output\n",
    "# <class 'str'>\n",
    "\n",
    "# convert age from string to int\n",
    "age = int(age)\n",
    "\n",
    "print(type(age))\n",
    "# output\n",
    "# <class 'int'>"
   ]
  },
  {
   "cell_type": "markdown",
   "execution_count": null,
   "metadata": {
    "papermill": {
     "duration": 0.005205,
     "end_time": "2020-08-15T15:15:05.715195",
     "exception": false,
     "start_time": "2020-08-15T15:15:05.709990",
     "status": "completed"
    },
    "tags": []
   },
   "source": [
    "## While Loop"
   ]
  },
  {
   "cell_type": "code",
   "execution_count": 7,
   "metadata": {
    "execution": {
     "iopub.execute_input": "2020-08-15T15:15:05.732785Z",
     "iopub.status.busy": "2020-08-15T15:15:05.731940Z",
     "iopub.status.idle": "2020-08-15T15:15:05.737670Z",
     "shell.execute_reply": "2020-08-15T15:15:05.736794Z"
    },
    "papermill": {
     "duration": 0.017218,
     "end_time": "2020-08-15T15:15:05.737860",
     "exception": false,
     "start_time": "2020-08-15T15:15:05.720642",
     "status": "completed"
    },
    "tags": []
   },
   "outputs": [
    {
     "name": "stdout",
     "output_type": "stream",
     "text": [
      "0\n",
      "1\n",
      "2\n",
      "3\n",
      "4\n",
      "5\n",
      "6\n",
      "7\n",
      "8\n",
      "9\n",
      "10\n"
     ]
    }
   ],
   "source": [
    "count = 0\n",
    "\n",
    "while count <= 10:\n",
    "  print(count)\n",
    "  count+=1\n",
    "\n",
    "# output\n",
    "# 1\n",
    "# 2\n",
    "# 3\n",
    "# 4\n",
    "# 5\n",
    "# 6\n",
    "# 7\n",
    "# 8\n",
    "# 9\n",
    "# 10"
   ]
  },
  {
   "cell_type": "markdown",
   "execution_count": null,
   "metadata": {
    "papermill": {
     "duration": 0.005199,
     "end_time": "2020-08-15T15:15:05.749242",
     "exception": false,
     "start_time": "2020-08-15T15:15:05.744043",
     "status": "completed"
    },
    "tags": []
   },
   "source": [
    "## Break and Continue in the loop"
   ]
  },
  {
   "cell_type": "code",
   "execution_count": 8,
   "metadata": {
    "execution": {
     "iopub.execute_input": "2020-08-15T15:15:05.773963Z",
     "iopub.status.busy": "2020-08-15T15:15:05.773117Z",
     "iopub.status.idle": "2020-08-15T15:15:05.779676Z",
     "shell.execute_reply": "2020-08-15T15:15:05.780189Z"
    },
    "papermill": {
     "duration": 0.025685,
     "end_time": "2020-08-15T15:15:05.780368",
     "exception": false,
     "start_time": "2020-08-15T15:15:05.754683",
     "status": "completed"
    },
    "tags": []
   },
   "outputs": [
    {
     "ename": "StdinNotImplementedError",
     "evalue": "raw_input was called, but this frontend does not support input requests.",
     "output_type": "error",
     "traceback": [
      "\u001b[0;31m---------------------------------------------------------------------------\u001b[0m",
      "\u001b[0;31mStdinNotImplementedError\u001b[0m                  Traceback (most recent call last)",
      "\u001b[0;32m<ipython-input-8-116ef55f54a8>\u001b[0m in \u001b[0;36m<module>\u001b[0;34m\u001b[0m\n\u001b[1;32m      5\u001b[0m \u001b[0;32mwhile\u001b[0m \u001b[0;32mTrue\u001b[0m\u001b[0;34m:\u001b[0m\u001b[0;34m\u001b[0m\u001b[0;34m\u001b[0m\u001b[0m\n\u001b[1;32m      6\u001b[0m   \u001b[0;31m# get country value from user\u001b[0m\u001b[0;34m\u001b[0m\u001b[0;34m\u001b[0m\u001b[0;34m\u001b[0m\u001b[0m\n\u001b[0;32m----> 7\u001b[0;31m   \u001b[0mcountry\u001b[0m \u001b[0;34m=\u001b[0m \u001b[0minput\u001b[0m\u001b[0;34m(\u001b[0m\u001b[0mmessage\u001b[0m\u001b[0;34m)\u001b[0m\u001b[0;34m\u001b[0m\u001b[0;34m\u001b[0m\u001b[0m\n\u001b[0m\u001b[1;32m      8\u001b[0m \u001b[0;34m\u001b[0m\u001b[0m\n\u001b[1;32m      9\u001b[0m   \u001b[0;31m# check whether user wrote exit\u001b[0m\u001b[0;34m\u001b[0m\u001b[0;34m\u001b[0m\u001b[0;34m\u001b[0m\u001b[0m\n",
      "\u001b[0;32m/opt/conda/lib/python3.7/site-packages/ipykernel/kernelbase.py\u001b[0m in \u001b[0;36mraw_input\u001b[0;34m(self, prompt)\u001b[0m\n\u001b[1;32m    853\u001b[0m         \u001b[0;32mif\u001b[0m \u001b[0;32mnot\u001b[0m \u001b[0mself\u001b[0m\u001b[0;34m.\u001b[0m\u001b[0m_allow_stdin\u001b[0m\u001b[0;34m:\u001b[0m\u001b[0;34m\u001b[0m\u001b[0;34m\u001b[0m\u001b[0m\n\u001b[1;32m    854\u001b[0m             raise StdinNotImplementedError(\n\u001b[0;32m--> 855\u001b[0;31m                 \u001b[0;34m\"raw_input was called, but this frontend does not support input requests.\"\u001b[0m\u001b[0;34m\u001b[0m\u001b[0;34m\u001b[0m\u001b[0m\n\u001b[0m\u001b[1;32m    856\u001b[0m             )\n\u001b[1;32m    857\u001b[0m         return self._input_request(str(prompt),\n",
      "\u001b[0;31mStdinNotImplementedError\u001b[0m: raw_input was called, but this frontend does not support input requests."
     ]
    }
   ],
   "source": [
    "message = \"Where do you live?\"\n",
    "message+= \"\\n(Enter 'exit' to stop program)\"\n",
    "\n",
    "# this loop runs always\n",
    "while True:\n",
    "  # get country value from user\n",
    "  country = input(message)\n",
    "  \n",
    "  # check whether user wrote exit\n",
    "  if country == 'exit':\n",
    "    #if user wrote exit break the loop\n",
    "    break\n",
    "    \n",
    "  # if user does not wrote exit\n",
    "  else:\n",
    "    print('You live in ' + country.title() + ' !')\n",
    "\n",
    "# output\n",
    "# >>> Where do you live?\n",
    "# (Enter 'exit' to stop program) -- Australia\n",
    "# You live in Australia !\n",
    "# >>> Where do you live?\n",
    "# (Enter 'exit' to stop program) -- exit"
   ]
  },
  {
   "cell_type": "code",
   "execution_count": 9,
   "metadata": {
    "execution": {
     "iopub.execute_input": "2020-08-15T15:15:05.797616Z",
     "iopub.status.busy": "2020-08-15T15:15:05.796932Z",
     "iopub.status.idle": "2020-08-15T15:15:05.800880Z",
     "shell.execute_reply": "2020-08-15T15:15:05.800093Z"
    },
    "papermill": {
     "duration": 0.015027,
     "end_time": "2020-08-15T15:15:05.801017",
     "exception": false,
     "start_time": "2020-08-15T15:15:05.785990",
     "status": "completed"
    },
    "tags": []
   },
   "outputs": [
    {
     "name": "stdout",
     "output_type": "stream",
     "text": [
      "2 is even number.\n",
      "4 is even number.\n"
     ]
    }
   ],
   "source": [
    "\n",
    "number = 0\n",
    "\n",
    "while number < 5:\n",
    "  # increament number\n",
    "  number += 1\n",
    "  # check modulo of number\n",
    "  # if modulo of number is equals to 0\n",
    "  # then print message and continue\n",
    "  if number % 2 == 0:\n",
    "    print(str(number) + \" is even number.\")\n",
    "    continue\n",
    "  \n",
    "# output\n",
    "# 2 is even number.\n",
    "# 4 is even number."
   ]
  },
  {
   "cell_type": "markdown",
   "execution_count": null,
   "metadata": {
    "papermill": {
     "duration": 0.005269,
     "end_time": "2020-08-15T15:15:05.812216",
     "exception": false,
     "start_time": "2020-08-15T15:15:05.806947",
     "status": "completed"
    },
    "tags": []
   },
   "source": [
    "Today we learned the Basics of python from Python Crash Coursebook (Chapters 5 and 7). My goal for this 100 Days of Machine Learning Challenge is to learn machine learning from scratch and help others who want to start their journey in machine learning. Many concepts are known to me, but I am starting from scratch to help beginners of the Machine Learning community and revise concepts.\n",
    "Thanks for reading."
   ]
  },
  {
   "cell_type": "markdown",
   "execution_count": null,
   "metadata": {
    "papermill": {
     "duration": 0.004921,
     "end_time": "2020-08-15T15:15:05.822929",
     "exception": false,
     "start_time": "2020-08-15T15:15:05.818008",
     "status": "completed"
    },
    "tags": []
   },
   "source": [
    "# <font color='red'>I hope you enjoyed this kernel , Please don't forget to appreciate me with an Upvote. </font>"
   ]
  }
 ],
 "metadata": {
  "kernelspec": {
   "display_name": "Python 3",
   "language": "python",
   "name": "python3"
  },
  "language_info": {
   "codemirror_mode": {
    "name": "ipython",
    "version": 3
   },
   "file_extension": ".py",
   "mimetype": "text/x-python",
   "name": "python",
   "nbconvert_exporter": "python",
   "pygments_lexer": "ipython3",
   "version": "3.7.6"
  },
  "papermill": {
   "duration": 5.917556,
   "end_time": "2020-08-15T15:15:06.910483",
   "environment_variables": {},
   "exception": null,
   "input_path": "__notebook__.ipynb",
   "output_path": "__notebook__.ipynb",
   "parameters": {},
   "start_time": "2020-08-15T15:15:00.992927",
   "version": "2.1.0"
  }
 },
 "nbformat": 4,
 "nbformat_minor": 4
}
