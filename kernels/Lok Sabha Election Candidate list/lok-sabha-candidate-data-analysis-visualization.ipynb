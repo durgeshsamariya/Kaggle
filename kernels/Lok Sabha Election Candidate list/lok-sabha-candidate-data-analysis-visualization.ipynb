{
 "cells": [
  {
   "cell_type": "markdown",
   "execution_count": null,
   "metadata": {
    "papermill": {
     "duration": 0.017138,
     "end_time": "2020-08-23T17:16:00.181876",
     "exception": false,
     "start_time": "2020-08-23T17:16:00.164738",
     "status": "completed"
    },
    "tags": []
   },
   "source": [
    "# List of Indian Cadidates for Lok Sabha Election Data Analysis and Visualization"
   ]
  },
  {
   "cell_type": "markdown",
   "execution_count": null,
   "metadata": {
    "papermill": {
     "duration": 0.014822,
     "end_time": "2020-08-23T17:16:00.213906",
     "exception": false,
     "start_time": "2020-08-23T17:16:00.199084",
     "status": "completed"
    },
    "tags": []
   },
   "source": [
    "![](https://www.jagranjosh.com/imported/images/E/Others/parliament1.webp)"
   ]
  },
  {
   "cell_type": "markdown",
   "execution_count": null,
   "metadata": {
    "papermill": {
     "duration": 0.014868,
     "end_time": "2020-08-23T17:16:00.244062",
     "exception": false,
     "start_time": "2020-08-23T17:16:00.229194",
     "status": "completed"
    },
    "tags": []
   },
   "source": [
    "## Import Required Libraries"
   ]
  },
  {
   "cell_type": "code",
   "execution_count": 1,
   "metadata": {
    "_cell_guid": "b1076dfc-b9ad-4769-8c92-a6c4dae69d19",
    "_uuid": "8f2839f25d086af736a60e9eeb907d3b93b6e0e5",
    "execution": {
     "iopub.execute_input": "2020-08-23T17:16:00.283305Z",
     "iopub.status.busy": "2020-08-23T17:16:00.282432Z",
     "iopub.status.idle": "2020-08-23T17:16:01.615633Z",
     "shell.execute_reply": "2020-08-23T17:16:01.614701Z"
    },
    "papermill": {
     "duration": 1.356531,
     "end_time": "2020-08-23T17:16:01.615793",
     "exception": false,
     "start_time": "2020-08-23T17:16:00.259262",
     "status": "completed"
    },
    "tags": []
   },
   "outputs": [],
   "source": [
    "import pandas as pd\n",
    "import matplotlib.pyplot as plt\n",
    "import seaborn as sns\n",
    "\n",
    "%matplotlib inline\n",
    "\n",
    "plt.style.use('fivethirtyeight')"
   ]
  },
  {
   "cell_type": "markdown",
   "execution_count": null,
   "metadata": {
    "papermill": {
     "duration": 0.0151,
     "end_time": "2020-08-23T17:16:01.648246",
     "exception": false,
     "start_time": "2020-08-23T17:16:01.633146",
     "status": "completed"
    },
    "tags": []
   },
   "source": [
    "## Load Dataset"
   ]
  },
  {
   "cell_type": "code",
   "execution_count": 2,
   "metadata": {
    "_cell_guid": "79c7e3d0-c299-4dcb-8224-4455121ee9b0",
    "_uuid": "d629ff2d2480ee46fbb7e2d37f6b5fab8052498a",
    "execution": {
     "iopub.execute_input": "2020-08-23T17:16:01.708367Z",
     "iopub.status.busy": "2020-08-23T17:16:01.707519Z",
     "iopub.status.idle": "2020-08-23T17:16:01.838269Z",
     "shell.execute_reply": "2020-08-23T17:16:01.837442Z"
    },
    "papermill": {
     "duration": 0.174701,
     "end_time": "2020-08-23T17:16:01.838403",
     "exception": false,
     "start_time": "2020-08-23T17:16:01.663702",
     "status": "completed"
    },
    "tags": []
   },
   "outputs": [
    {
     "name": "stdout",
     "output_type": "stream",
     "text": [
      "CPU times: user 11.6 ms, sys: 9.01 ms, total: 20.6 ms\n",
      "Wall time: 44.9 ms\n",
      "CPU times: user 14.9 ms, sys: 8.78 ms, total: 23.7 ms\n",
      "Wall time: 36.5 ms\n",
      "CPU times: user 16.5 ms, sys: 5.93 ms, total: 22.4 ms\n",
      "Wall time: 32 ms\n",
      "CPU times: user 16.4 ms, sys: 3.65 ms, total: 20.1 ms\n",
      "Wall time: 25.2 ms\n"
     ]
    }
   ],
   "source": [
    "%time candidates_2004 = pd.read_csv('../input/lok-sabha-election-candidate-list-2004-to-2019/LokSabha2004.csv')\n",
    "%time candidates_2009 = pd.read_csv('../input/lok-sabha-election-candidate-list-2004-to-2019/LokSabha2009.csv')\n",
    "%time candidates_2014 = pd.read_csv('../input/lok-sabha-election-candidate-list-2004-to-2019/LokSabha2014.csv')\n",
    "%time candidates_2019 = pd.read_csv('../input/lok-sabha-election-candidate-list-2004-to-2019/LokSabha2019.csv')"
   ]
  },
  {
   "cell_type": "markdown",
   "execution_count": null,
   "metadata": {
    "papermill": {
     "duration": 0.015084,
     "end_time": "2020-08-23T17:16:01.869135",
     "exception": false,
     "start_time": "2020-08-23T17:16:01.854051",
     "status": "completed"
    },
    "tags": []
   },
   "source": [
    "We have data file for each year. So let merge them in one file. before doing that I am going to add year column."
   ]
  },
  {
   "cell_type": "code",
   "execution_count": 3,
   "metadata": {
    "execution": {
     "iopub.execute_input": "2020-08-23T17:16:01.915654Z",
     "iopub.status.busy": "2020-08-23T17:16:01.914553Z",
     "iopub.status.idle": "2020-08-23T17:16:01.918067Z",
     "shell.execute_reply": "2020-08-23T17:16:01.917405Z"
    },
    "papermill": {
     "duration": 0.033085,
     "end_time": "2020-08-23T17:16:01.918210",
     "exception": false,
     "start_time": "2020-08-23T17:16:01.885125",
     "status": "completed"
    },
    "tags": []
   },
   "outputs": [],
   "source": [
    "candidates_2004['Year'] = 2004\n",
    "candidates_2009['Year'] = 2009\n",
    "candidates_2014['Year'] = 2014\n",
    "candidates_2019['Year'] = 2019"
   ]
  },
  {
   "cell_type": "markdown",
   "execution_count": null,
   "metadata": {
    "papermill": {
     "duration": 0.015771,
     "end_time": "2020-08-23T17:16:01.949514",
     "exception": false,
     "start_time": "2020-08-23T17:16:01.933743",
     "status": "completed"
    },
    "tags": []
   },
   "source": [
    "Now we have year column in each data frame. Let's merge them in once data frame using `pd.concat` method."
   ]
  },
  {
   "cell_type": "code",
   "execution_count": 4,
   "metadata": {
    "execution": {
     "iopub.execute_input": "2020-08-23T17:16:01.987965Z",
     "iopub.status.busy": "2020-08-23T17:16:01.987085Z",
     "iopub.status.idle": "2020-08-23T17:16:02.009255Z",
     "shell.execute_reply": "2020-08-23T17:16:02.009871Z"
    },
    "papermill": {
     "duration": 0.044742,
     "end_time": "2020-08-23T17:16:02.010088",
     "exception": false,
     "start_time": "2020-08-23T17:16:01.965346",
     "status": "completed"
    },
    "tags": []
   },
   "outputs": [],
   "source": [
    "candidates = pd.concat([candidates_2004, candidates_2009, candidates_2014, candidates_2019])"
   ]
  },
  {
   "cell_type": "markdown",
   "execution_count": null,
   "metadata": {
    "papermill": {
     "duration": 0.015449,
     "end_time": "2020-08-23T17:16:02.041388",
     "exception": false,
     "start_time": "2020-08-23T17:16:02.025939",
     "status": "completed"
    },
    "tags": []
   },
   "source": [
    "## Statistics of Data"
   ]
  },
  {
   "cell_type": "markdown",
   "execution_count": null,
   "metadata": {
    "papermill": {
     "duration": 0.015311,
     "end_time": "2020-08-23T17:16:02.072402",
     "exception": false,
     "start_time": "2020-08-23T17:16:02.057091",
     "status": "completed"
    },
    "tags": []
   },
   "source": [
    "Let's have a look at example samples."
   ]
  },
  {
   "cell_type": "code",
   "execution_count": 5,
   "metadata": {
    "execution": {
     "iopub.execute_input": "2020-08-23T17:16:02.121487Z",
     "iopub.status.busy": "2020-08-23T17:16:02.120626Z",
     "iopub.status.idle": "2020-08-23T17:16:02.133004Z",
     "shell.execute_reply": "2020-08-23T17:16:02.133555Z"
    },
    "papermill": {
     "duration": 0.044802,
     "end_time": "2020-08-23T17:16:02.133732",
     "exception": false,
     "start_time": "2020-08-23T17:16:02.088930",
     "status": "completed"
    },
    "tags": []
   },
   "outputs": [
    {
     "data": {
      "text/html": [
       "<div>\n",
       "<style scoped>\n",
       "    .dataframe tbody tr th:only-of-type {\n",
       "        vertical-align: middle;\n",
       "    }\n",
       "\n",
       "    .dataframe tbody tr th {\n",
       "        vertical-align: top;\n",
       "    }\n",
       "\n",
       "    .dataframe thead th {\n",
       "        text-align: right;\n",
       "    }\n",
       "</style>\n",
       "<table border=\"1\" class=\"dataframe\">\n",
       "  <thead>\n",
       "    <tr style=\"text-align: right;\">\n",
       "      <th></th>\n",
       "      <th>Candidate</th>\n",
       "      <th>Party</th>\n",
       "      <th>Criminal Cases</th>\n",
       "      <th>Education</th>\n",
       "      <th>Age</th>\n",
       "      <th>City</th>\n",
       "      <th>Year</th>\n",
       "    </tr>\n",
       "  </thead>\n",
       "  <tbody>\n",
       "    <tr>\n",
       "      <th>0</th>\n",
       "      <td>MANORANJAN BHAKTA</td>\n",
       "      <td>INC</td>\n",
       "      <td>0</td>\n",
       "      <td>Post Graduate</td>\n",
       "      <td>65</td>\n",
       "      <td>Andaman &amp; Nicobar Islands</td>\n",
       "      <td>2004</td>\n",
       "    </tr>\n",
       "    <tr>\n",
       "      <th>1</th>\n",
       "      <td>A K BISWAS</td>\n",
       "      <td>BSP</td>\n",
       "      <td>0</td>\n",
       "      <td>Graduate</td>\n",
       "      <td>61</td>\n",
       "      <td>Andaman &amp; Nicobar Islands</td>\n",
       "      <td>2004</td>\n",
       "    </tr>\n",
       "    <tr>\n",
       "      <th>2</th>\n",
       "      <td>ASIT BARAN DUTTA</td>\n",
       "      <td>IND</td>\n",
       "      <td>0</td>\n",
       "      <td>Graduate</td>\n",
       "      <td>50</td>\n",
       "      <td>Andaman &amp; Nicobar Islands</td>\n",
       "      <td>2004</td>\n",
       "    </tr>\n",
       "    <tr>\n",
       "      <th>3</th>\n",
       "      <td>BISHNU PADA RAY</td>\n",
       "      <td>BJP</td>\n",
       "      <td>0</td>\n",
       "      <td>Graduate</td>\n",
       "      <td>54</td>\n",
       "      <td>Andaman &amp; Nicobar Islands</td>\n",
       "      <td>2004</td>\n",
       "    </tr>\n",
       "    <tr>\n",
       "      <th>4</th>\n",
       "      <td>DEEPAK BISWAS</td>\n",
       "      <td>IND</td>\n",
       "      <td>0</td>\n",
       "      <td>Not Given</td>\n",
       "      <td>28</td>\n",
       "      <td>Andaman &amp; Nicobar Islands</td>\n",
       "      <td>2004</td>\n",
       "    </tr>\n",
       "    <tr>\n",
       "      <th>5</th>\n",
       "      <td>DR SHANMUGAM</td>\n",
       "      <td>LJNSP</td>\n",
       "      <td>0</td>\n",
       "      <td>Doctorate</td>\n",
       "      <td>66</td>\n",
       "      <td>Andaman &amp; Nicobar Islands</td>\n",
       "      <td>2004</td>\n",
       "    </tr>\n",
       "    <tr>\n",
       "      <th>6</th>\n",
       "      <td>GOUR CHANDRA MAJUMDER</td>\n",
       "      <td>IND</td>\n",
       "      <td>0</td>\n",
       "      <td>Graduate</td>\n",
       "      <td>37</td>\n",
       "      <td>Andaman &amp; Nicobar Islands</td>\n",
       "      <td>2004</td>\n",
       "    </tr>\n",
       "    <tr>\n",
       "      <th>7</th>\n",
       "      <td>K KALIMUTHU</td>\n",
       "      <td>IND</td>\n",
       "      <td>1</td>\n",
       "      <td>8th Pass</td>\n",
       "      <td>51</td>\n",
       "      <td>Andaman &amp; Nicobar Islands</td>\n",
       "      <td>2004</td>\n",
       "    </tr>\n",
       "    <tr>\n",
       "      <th>8</th>\n",
       "      <td>K PERUMAL</td>\n",
       "      <td>SWD</td>\n",
       "      <td>0</td>\n",
       "      <td>Literate</td>\n",
       "      <td>65</td>\n",
       "      <td>Andaman &amp; Nicobar Islands</td>\n",
       "      <td>2004</td>\n",
       "    </tr>\n",
       "    <tr>\n",
       "      <th>9</th>\n",
       "      <td>N K P NAIR</td>\n",
       "      <td>CPI(ML)(L)</td>\n",
       "      <td>0</td>\n",
       "      <td>Literate</td>\n",
       "      <td>49</td>\n",
       "      <td>Andaman &amp; Nicobar Islands</td>\n",
       "      <td>2004</td>\n",
       "    </tr>\n",
       "  </tbody>\n",
       "</table>\n",
       "</div>"
      ],
      "text/plain": [
       "               Candidate       Party  Criminal Cases      Education  Age  \\\n",
       "0      MANORANJAN BHAKTA         INC               0  Post Graduate   65   \n",
       "1             A K BISWAS         BSP               0       Graduate   61   \n",
       "2       ASIT BARAN DUTTA         IND               0       Graduate   50   \n",
       "3        BISHNU PADA RAY         BJP               0       Graduate   54   \n",
       "4          DEEPAK BISWAS         IND               0      Not Given   28   \n",
       "5           DR SHANMUGAM       LJNSP               0      Doctorate   66   \n",
       "6  GOUR CHANDRA MAJUMDER         IND               0       Graduate   37   \n",
       "7            K KALIMUTHU         IND               1       8th Pass   51   \n",
       "8              K PERUMAL         SWD               0       Literate   65   \n",
       "9             N K P NAIR  CPI(ML)(L)               0       Literate   49   \n",
       "\n",
       "                        City  Year  \n",
       "0  Andaman & Nicobar Islands  2004  \n",
       "1  Andaman & Nicobar Islands  2004  \n",
       "2  Andaman & Nicobar Islands  2004  \n",
       "3  Andaman & Nicobar Islands  2004  \n",
       "4  Andaman & Nicobar Islands  2004  \n",
       "5  Andaman & Nicobar Islands  2004  \n",
       "6  Andaman & Nicobar Islands  2004  \n",
       "7  Andaman & Nicobar Islands  2004  \n",
       "8  Andaman & Nicobar Islands  2004  \n",
       "9  Andaman & Nicobar Islands  2004  "
      ]
     },
     "execution_count": 5,
     "metadata": {},
     "output_type": "execute_result"
    }
   ],
   "source": [
    "candidates.head(10)"
   ]
  },
  {
   "cell_type": "code",
   "execution_count": 6,
   "metadata": {
    "execution": {
     "iopub.execute_input": "2020-08-23T17:16:02.174503Z",
     "iopub.status.busy": "2020-08-23T17:16:02.173708Z",
     "iopub.status.idle": "2020-08-23T17:16:02.216820Z",
     "shell.execute_reply": "2020-08-23T17:16:02.215901Z"
    },
    "papermill": {
     "duration": 0.065389,
     "end_time": "2020-08-23T17:16:02.216968",
     "exception": false,
     "start_time": "2020-08-23T17:16:02.151579",
     "status": "completed"
    },
    "tags": []
   },
   "outputs": [
    {
     "name": "stdout",
     "output_type": "stream",
     "text": [
      "<class 'pandas.core.frame.DataFrame'>\n",
      "Int64Index: 28014 entries, 0 to 7967\n",
      "Data columns (total 7 columns):\n",
      " #   Column          Non-Null Count  Dtype \n",
      "---  ------          --------------  ----- \n",
      " 0   Candidate       28014 non-null  object\n",
      " 1   Party           28014 non-null  object\n",
      " 2   Criminal Cases  28014 non-null  int64 \n",
      " 3   Education       28014 non-null  object\n",
      " 4   Age             28014 non-null  int64 \n",
      " 5   City            28014 non-null  object\n",
      " 6   Year            28014 non-null  int64 \n",
      "dtypes: int64(3), object(4)\n",
      "memory usage: 1.7+ MB\n"
     ]
    }
   ],
   "source": [
    "candidates.info()"
   ]
  },
  {
   "cell_type": "code",
   "execution_count": 7,
   "metadata": {
    "execution": {
     "iopub.execute_input": "2020-08-23T17:16:02.259391Z",
     "iopub.status.busy": "2020-08-23T17:16:02.258406Z",
     "iopub.status.idle": "2020-08-23T17:16:02.282689Z",
     "shell.execute_reply": "2020-08-23T17:16:02.282077Z"
    },
    "papermill": {
     "duration": 0.048986,
     "end_time": "2020-08-23T17:16:02.282823",
     "exception": false,
     "start_time": "2020-08-23T17:16:02.233837",
     "status": "completed"
    },
    "tags": []
   },
   "outputs": [
    {
     "data": {
      "text/html": [
       "<div>\n",
       "<style scoped>\n",
       "    .dataframe tbody tr th:only-of-type {\n",
       "        vertical-align: middle;\n",
       "    }\n",
       "\n",
       "    .dataframe tbody tr th {\n",
       "        vertical-align: top;\n",
       "    }\n",
       "\n",
       "    .dataframe thead th {\n",
       "        text-align: right;\n",
       "    }\n",
       "</style>\n",
       "<table border=\"1\" class=\"dataframe\">\n",
       "  <thead>\n",
       "    <tr style=\"text-align: right;\">\n",
       "      <th></th>\n",
       "      <th>Criminal Cases</th>\n",
       "      <th>Age</th>\n",
       "      <th>Year</th>\n",
       "    </tr>\n",
       "  </thead>\n",
       "  <tbody>\n",
       "    <tr>\n",
       "      <th>count</th>\n",
       "      <td>28014.000000</td>\n",
       "      <td>28014.000000</td>\n",
       "      <td>28014.000000</td>\n",
       "    </tr>\n",
       "    <tr>\n",
       "      <th>mean</th>\n",
       "      <td>0.483901</td>\n",
       "      <td>46.487078</td>\n",
       "      <td>2012.708503</td>\n",
       "    </tr>\n",
       "    <tr>\n",
       "      <th>std</th>\n",
       "      <td>4.164205</td>\n",
       "      <td>12.546241</td>\n",
       "      <td>5.050962</td>\n",
       "    </tr>\n",
       "    <tr>\n",
       "      <th>min</th>\n",
       "      <td>0.000000</td>\n",
       "      <td>0.000000</td>\n",
       "      <td>2004.000000</td>\n",
       "    </tr>\n",
       "    <tr>\n",
       "      <th>25%</th>\n",
       "      <td>0.000000</td>\n",
       "      <td>37.000000</td>\n",
       "      <td>2009.000000</td>\n",
       "    </tr>\n",
       "    <tr>\n",
       "      <th>50%</th>\n",
       "      <td>0.000000</td>\n",
       "      <td>46.000000</td>\n",
       "      <td>2014.000000</td>\n",
       "    </tr>\n",
       "    <tr>\n",
       "      <th>75%</th>\n",
       "      <td>0.000000</td>\n",
       "      <td>55.000000</td>\n",
       "      <td>2019.000000</td>\n",
       "    </tr>\n",
       "    <tr>\n",
       "      <th>max</th>\n",
       "      <td>382.000000</td>\n",
       "      <td>94.000000</td>\n",
       "      <td>2019.000000</td>\n",
       "    </tr>\n",
       "  </tbody>\n",
       "</table>\n",
       "</div>"
      ],
      "text/plain": [
       "       Criminal Cases           Age          Year\n",
       "count    28014.000000  28014.000000  28014.000000\n",
       "mean         0.483901     46.487078   2012.708503\n",
       "std          4.164205     12.546241      5.050962\n",
       "min          0.000000      0.000000   2004.000000\n",
       "25%          0.000000     37.000000   2009.000000\n",
       "50%          0.000000     46.000000   2014.000000\n",
       "75%          0.000000     55.000000   2019.000000\n",
       "max        382.000000     94.000000   2019.000000"
      ]
     },
     "execution_count": 7,
     "metadata": {},
     "output_type": "execute_result"
    }
   ],
   "source": [
    "candidates.describe()"
   ]
  },
  {
   "cell_type": "code",
   "execution_count": 8,
   "metadata": {
    "execution": {
     "iopub.execute_input": "2020-08-23T17:16:02.335985Z",
     "iopub.status.busy": "2020-08-23T17:16:02.335145Z",
     "iopub.status.idle": "2020-08-23T17:16:02.344506Z",
     "shell.execute_reply": "2020-08-23T17:16:02.343771Z"
    },
    "papermill": {
     "duration": 0.044251,
     "end_time": "2020-08-23T17:16:02.344655",
     "exception": false,
     "start_time": "2020-08-23T17:16:02.300404",
     "status": "completed"
    },
    "tags": []
   },
   "outputs": [
    {
     "data": {
      "text/plain": [
       "Candidate         0\n",
       "Party             0\n",
       "Criminal Cases    0\n",
       "Education         0\n",
       "Age               0\n",
       "City              0\n",
       "Year              0\n",
       "dtype: int64"
      ]
     },
     "execution_count": 8,
     "metadata": {},
     "output_type": "execute_result"
    }
   ],
   "source": [
    "candidates.isnull().sum()"
   ]
  },
  {
   "cell_type": "markdown",
   "execution_count": null,
   "metadata": {
    "papermill": {
     "duration": 0.016063,
     "end_time": "2020-08-23T17:16:02.377140",
     "exception": false,
     "start_time": "2020-08-23T17:16:02.361077",
     "status": "completed"
    },
    "tags": []
   },
   "source": [
    "As we can see there is no null value in the data. "
   ]
  },
  {
   "cell_type": "code",
   "execution_count": 9,
   "metadata": {
    "execution": {
     "iopub.execute_input": "2020-08-23T17:16:02.416765Z",
     "iopub.status.busy": "2020-08-23T17:16:02.415584Z",
     "iopub.status.idle": "2020-08-23T17:16:02.420656Z",
     "shell.execute_reply": "2020-08-23T17:16:02.419883Z"
    },
    "papermill": {
     "duration": 0.027118,
     "end_time": "2020-08-23T17:16:02.420786",
     "exception": false,
     "start_time": "2020-08-23T17:16:02.393668",
     "status": "completed"
    },
    "tags": []
   },
   "outputs": [
    {
     "data": {
      "text/plain": [
       "(28014, 7)"
      ]
     },
     "execution_count": 9,
     "metadata": {},
     "output_type": "execute_result"
    }
   ],
   "source": [
    "candidates.shape"
   ]
  },
  {
   "cell_type": "markdown",
   "execution_count": null,
   "metadata": {
    "papermill": {
     "duration": 0.016132,
     "end_time": "2020-08-23T17:16:02.453779",
     "exception": false,
     "start_time": "2020-08-23T17:16:02.437647",
     "status": "completed"
    },
    "tags": []
   },
   "source": [
    "We have 28 thousand candidates details."
   ]
  },
  {
   "cell_type": "markdown",
   "execution_count": null,
   "metadata": {
    "papermill": {
     "duration": 0.016403,
     "end_time": "2020-08-23T17:16:02.486828",
     "exception": false,
     "start_time": "2020-08-23T17:16:02.470425",
     "status": "completed"
    },
    "tags": []
   },
   "source": [
    "# Year wise Data Analysis and Visualization"
   ]
  },
  {
   "cell_type": "markdown",
   "execution_count": null,
   "metadata": {
    "papermill": {
     "duration": 0.016718,
     "end_time": "2020-08-23T17:16:02.520646",
     "exception": false,
     "start_time": "2020-08-23T17:16:02.503928",
     "status": "completed"
    },
    "tags": []
   },
   "source": [
    "## 1. Youngest Candidate who participated in Lok Sabha Election?"
   ]
  },
  {
   "cell_type": "markdown",
   "execution_count": null,
   "metadata": {
    "papermill": {
     "duration": 0.016587,
     "end_time": "2020-08-23T17:16:02.554093",
     "exception": false,
     "start_time": "2020-08-23T17:16:02.537506",
     "status": "completed"
    },
    "tags": []
   },
   "source": [
    "Some entries have value lesser than 18 so I am ignoring those value because that values are false."
   ]
  },
  {
   "cell_type": "code",
   "execution_count": 10,
   "metadata": {
    "execution": {
     "iopub.execute_input": "2020-08-23T17:16:02.595386Z",
     "iopub.status.busy": "2020-08-23T17:16:02.594547Z",
     "iopub.status.idle": "2020-08-23T17:16:02.622776Z",
     "shell.execute_reply": "2020-08-23T17:16:02.622016Z"
    },
    "papermill": {
     "duration": 0.052073,
     "end_time": "2020-08-23T17:16:02.622921",
     "exception": false,
     "start_time": "2020-08-23T17:16:02.570848",
     "status": "completed"
    },
    "tags": []
   },
   "outputs": [],
   "source": [
    "candidate_age_2004 = candidates_2004[candidates_2004['Age'] > 18]\n",
    "candidate_age_2009 = candidates_2009[candidates_2009['Age'] > 18]\n",
    "candidate_age_2014 = candidates_2014[candidates_2014['Age'] > 18]\n",
    "candidate_age_2019 = candidates_2019[candidates_2019['Age'] > 18]"
   ]
  },
  {
   "cell_type": "code",
   "execution_count": 11,
   "metadata": {
    "execution": {
     "iopub.execute_input": "2020-08-23T17:16:02.682875Z",
     "iopub.status.busy": "2020-08-23T17:16:02.681798Z",
     "iopub.status.idle": "2020-08-23T17:16:02.687715Z",
     "shell.execute_reply": "2020-08-23T17:16:02.686899Z"
    },
    "papermill": {
     "duration": 0.047984,
     "end_time": "2020-08-23T17:16:02.687851",
     "exception": false,
     "start_time": "2020-08-23T17:16:02.639867",
     "status": "completed"
    },
    "tags": []
   },
   "outputs": [
    {
     "data": {
      "text/html": [
       "<div>\n",
       "<style scoped>\n",
       "    .dataframe tbody tr th:only-of-type {\n",
       "        vertical-align: middle;\n",
       "    }\n",
       "\n",
       "    .dataframe tbody tr th {\n",
       "        vertical-align: top;\n",
       "    }\n",
       "\n",
       "    .dataframe thead th {\n",
       "        text-align: right;\n",
       "    }\n",
       "</style>\n",
       "<table border=\"1\" class=\"dataframe\">\n",
       "  <thead>\n",
       "    <tr style=\"text-align: right;\">\n",
       "      <th></th>\n",
       "      <th>Candidate</th>\n",
       "      <th>Party</th>\n",
       "      <th>Criminal Cases</th>\n",
       "      <th>Education</th>\n",
       "      <th>Age</th>\n",
       "      <th>City</th>\n",
       "      <th>Year</th>\n",
       "    </tr>\n",
       "  </thead>\n",
       "  <tbody>\n",
       "    <tr>\n",
       "      <th>393</th>\n",
       "      <td>OM PRAKASH PASWAN</td>\n",
       "      <td>AD</td>\n",
       "      <td>0</td>\n",
       "      <td>Not Given</td>\n",
       "      <td>25</td>\n",
       "      <td>Araria</td>\n",
       "      <td>2004</td>\n",
       "    </tr>\n",
       "    <tr>\n",
       "      <th>420</th>\n",
       "      <td>SARJOON PASWAN</td>\n",
       "      <td>IND</td>\n",
       "      <td>0</td>\n",
       "      <td>Not Given</td>\n",
       "      <td>25</td>\n",
       "      <td>Aurangabad</td>\n",
       "      <td>2004</td>\n",
       "    </tr>\n",
       "    <tr>\n",
       "      <th>550</th>\n",
       "      <td>SHAKTI RAJ</td>\n",
       "      <td>BSP</td>\n",
       "      <td>0</td>\n",
       "      <td>Graduate</td>\n",
       "      <td>25</td>\n",
       "      <td>Gaya</td>\n",
       "      <td>2004</td>\n",
       "    </tr>\n",
       "    <tr>\n",
       "      <th>556</th>\n",
       "      <td>MONIKA TIWARI</td>\n",
       "      <td>BED</td>\n",
       "      <td>0</td>\n",
       "      <td>Post Graduate</td>\n",
       "      <td>25</td>\n",
       "      <td>Gopalganj</td>\n",
       "      <td>2004</td>\n",
       "    </tr>\n",
       "    <tr>\n",
       "      <th>569</th>\n",
       "      <td>UTTAM CHOUDHARY UNNAT</td>\n",
       "      <td>JD(S)</td>\n",
       "      <td>0</td>\n",
       "      <td>Post Graduate</td>\n",
       "      <td>25</td>\n",
       "      <td>Hajipur</td>\n",
       "      <td>2004</td>\n",
       "    </tr>\n",
       "    <tr>\n",
       "      <th>597</th>\n",
       "      <td>PREM KUMAR</td>\n",
       "      <td>SHS</td>\n",
       "      <td>0</td>\n",
       "      <td>Graduate</td>\n",
       "      <td>25</td>\n",
       "      <td>Katihar</td>\n",
       "      <td>2004</td>\n",
       "    </tr>\n",
       "    <tr>\n",
       "      <th>679</th>\n",
       "      <td>ANURODH PRAGAT</td>\n",
       "      <td>IND</td>\n",
       "      <td>0</td>\n",
       "      <td>Graduate</td>\n",
       "      <td>25</td>\n",
       "      <td>Muzaffarpur</td>\n",
       "      <td>2004</td>\n",
       "    </tr>\n",
       "    <tr>\n",
       "      <th>724</th>\n",
       "      <td>KUNJ BIHARI</td>\n",
       "      <td>IND</td>\n",
       "      <td>0</td>\n",
       "      <td>Not Given</td>\n",
       "      <td>25</td>\n",
       "      <td>Patna</td>\n",
       "      <td>2004</td>\n",
       "    </tr>\n",
       "    <tr>\n",
       "      <th>886</th>\n",
       "      <td>BADKURAM DHRUW</td>\n",
       "      <td>IND</td>\n",
       "      <td>0</td>\n",
       "      <td>Literate</td>\n",
       "      <td>25</td>\n",
       "      <td>Janjgir</td>\n",
       "      <td>2004</td>\n",
       "    </tr>\n",
       "    <tr>\n",
       "      <th>1214</th>\n",
       "      <td>SHAHZAD KHAN</td>\n",
       "      <td>IND</td>\n",
       "      <td>0</td>\n",
       "      <td>Not Given</td>\n",
       "      <td>25</td>\n",
       "      <td>Jammu</td>\n",
       "      <td>2004</td>\n",
       "    </tr>\n",
       "    <tr>\n",
       "      <th>1215</th>\n",
       "      <td>SHARAZ AHMAD</td>\n",
       "      <td>IND</td>\n",
       "      <td>0</td>\n",
       "      <td>Not Given</td>\n",
       "      <td>25</td>\n",
       "      <td>Jammu</td>\n",
       "      <td>2004</td>\n",
       "    </tr>\n",
       "    <tr>\n",
       "      <th>1389</th>\n",
       "      <td>SANGANNA</td>\n",
       "      <td>IND</td>\n",
       "      <td>0</td>\n",
       "      <td>Post Graduate</td>\n",
       "      <td>25</td>\n",
       "      <td>Gulbarga</td>\n",
       "      <td>2004</td>\n",
       "    </tr>\n",
       "    <tr>\n",
       "      <th>1597</th>\n",
       "      <td>ALTAF AHMED</td>\n",
       "      <td>IND</td>\n",
       "      <td>0</td>\n",
       "      <td>10th Pass</td>\n",
       "      <td>25</td>\n",
       "      <td>Bhopal</td>\n",
       "      <td>2004</td>\n",
       "    </tr>\n",
       "    <tr>\n",
       "      <th>1800</th>\n",
       "      <td>JITENDRA ADKU RAUT</td>\n",
       "      <td>IND</td>\n",
       "      <td>0</td>\n",
       "      <td>Graduate</td>\n",
       "      <td>25</td>\n",
       "      <td>Chimur</td>\n",
       "      <td>2004</td>\n",
       "    </tr>\n",
       "    <tr>\n",
       "      <th>1821</th>\n",
       "      <td>ADV. PUNJABRAO RAMDHAN CHAVAN</td>\n",
       "      <td>IND</td>\n",
       "      <td>0</td>\n",
       "      <td>Post Graduate</td>\n",
       "      <td>25</td>\n",
       "      <td>Hingoli</td>\n",
       "      <td>2004</td>\n",
       "    </tr>\n",
       "    <tr>\n",
       "      <th>1940</th>\n",
       "      <td>RAJ SINGH</td>\n",
       "      <td>IND</td>\n",
       "      <td>0</td>\n",
       "      <td>10th Pass</td>\n",
       "      <td>25</td>\n",
       "      <td>Mumbai North West</td>\n",
       "      <td>2004</td>\n",
       "    </tr>\n",
       "    <tr>\n",
       "      <th>2199</th>\n",
       "      <td>SANJAY KUMAR YADAV</td>\n",
       "      <td>IND</td>\n",
       "      <td>0</td>\n",
       "      <td>10th Pass</td>\n",
       "      <td>25</td>\n",
       "      <td>New Delhi</td>\n",
       "      <td>2004</td>\n",
       "    </tr>\n",
       "    <tr>\n",
       "      <th>2318</th>\n",
       "      <td>SARABJEET SINGH</td>\n",
       "      <td>SAD(A)(Simranjit Singh Mann)</td>\n",
       "      <td>2</td>\n",
       "      <td>12th Pass</td>\n",
       "      <td>25</td>\n",
       "      <td>Bhatinda</td>\n",
       "      <td>2004</td>\n",
       "    </tr>\n",
       "    <tr>\n",
       "      <th>2419</th>\n",
       "      <td>COMRED SHYOPATRAM</td>\n",
       "      <td>CPM</td>\n",
       "      <td>0</td>\n",
       "      <td>Graduate</td>\n",
       "      <td>25</td>\n",
       "      <td>Ganganagar</td>\n",
       "      <td>2004</td>\n",
       "    </tr>\n",
       "    <tr>\n",
       "      <th>2712</th>\n",
       "      <td>VRAHASPATI GIRI</td>\n",
       "      <td>SHS</td>\n",
       "      <td>0</td>\n",
       "      <td>Illiterate</td>\n",
       "      <td>25</td>\n",
       "      <td>Bareilly</td>\n",
       "      <td>2004</td>\n",
       "    </tr>\n",
       "    <tr>\n",
       "      <th>2732</th>\n",
       "      <td>JAI MALA</td>\n",
       "      <td>IND</td>\n",
       "      <td>0</td>\n",
       "      <td>Not Given</td>\n",
       "      <td>25</td>\n",
       "      <td>Bijnor</td>\n",
       "      <td>2004</td>\n",
       "    </tr>\n",
       "    <tr>\n",
       "      <th>2982</th>\n",
       "      <td>VIVEK KUMAR SHARMA</td>\n",
       "      <td>AD</td>\n",
       "      <td>0</td>\n",
       "      <td>10th Pass</td>\n",
       "      <td>25</td>\n",
       "      <td>Jalesar</td>\n",
       "      <td>2004</td>\n",
       "    </tr>\n",
       "    <tr>\n",
       "      <th>2994</th>\n",
       "      <td>ASHU SHARMA URF ASHWANI SHARMA</td>\n",
       "      <td>BJVP</td>\n",
       "      <td>0</td>\n",
       "      <td>Not Given</td>\n",
       "      <td>25</td>\n",
       "      <td>Kairana</td>\n",
       "      <td>2004</td>\n",
       "    </tr>\n",
       "    <tr>\n",
       "      <th>3016</th>\n",
       "      <td>YOGESH</td>\n",
       "      <td>IND</td>\n",
       "      <td>0</td>\n",
       "      <td>Post Graduate</td>\n",
       "      <td>25</td>\n",
       "      <td>Kairana</td>\n",
       "      <td>2004</td>\n",
       "    </tr>\n",
       "    <tr>\n",
       "      <th>3139</th>\n",
       "      <td>AMIRUDDIN</td>\n",
       "      <td>AD</td>\n",
       "      <td>0</td>\n",
       "      <td>12th Pass</td>\n",
       "      <td>25</td>\n",
       "      <td>Padrauna</td>\n",
       "      <td>2004</td>\n",
       "    </tr>\n",
       "    <tr>\n",
       "      <th>3151</th>\n",
       "      <td>RAKESH CHANDRA PATEL</td>\n",
       "      <td>RSBP</td>\n",
       "      <td>0</td>\n",
       "      <td>Graduate</td>\n",
       "      <td>25</td>\n",
       "      <td>Phulpur</td>\n",
       "      <td>2004</td>\n",
       "    </tr>\n",
       "    <tr>\n",
       "      <th>3223</th>\n",
       "      <td>MANJU</td>\n",
       "      <td>IND</td>\n",
       "      <td>0</td>\n",
       "      <td>Not Given</td>\n",
       "      <td>25</td>\n",
       "      <td>Shahabad</td>\n",
       "      <td>2004</td>\n",
       "    </tr>\n",
       "    <tr>\n",
       "      <th>3232</th>\n",
       "      <td>DESH RAJ</td>\n",
       "      <td>IND</td>\n",
       "      <td>0</td>\n",
       "      <td>8th Pass</td>\n",
       "      <td>25</td>\n",
       "      <td>Shahjahanpur</td>\n",
       "      <td>2004</td>\n",
       "    </tr>\n",
       "  </tbody>\n",
       "</table>\n",
       "</div>"
      ],
      "text/plain": [
       "                           Candidate                         Party  \\\n",
       "393                OM PRAKASH PASWAN                            AD   \n",
       "420                   SARJOON PASWAN                           IND   \n",
       "550                       SHAKTI RAJ                           BSP   \n",
       "556                    MONIKA TIWARI                           BED   \n",
       "569            UTTAM CHOUDHARY UNNAT                         JD(S)   \n",
       "597                       PREM KUMAR                           SHS   \n",
       "679                   ANURODH PRAGAT                           IND   \n",
       "724                      KUNJ BIHARI                           IND   \n",
       "886                   BADKURAM DHRUW                           IND   \n",
       "1214                    SHAHZAD KHAN                           IND   \n",
       "1215                    SHARAZ AHMAD                           IND   \n",
       "1389                        SANGANNA                           IND   \n",
       "1597                     ALTAF AHMED                           IND   \n",
       "1800              JITENDRA ADKU RAUT                           IND   \n",
       "1821   ADV. PUNJABRAO RAMDHAN CHAVAN                           IND   \n",
       "1940                       RAJ SINGH                           IND   \n",
       "2199              SANJAY KUMAR YADAV                           IND   \n",
       "2318                 SARABJEET SINGH  SAD(A)(Simranjit Singh Mann)   \n",
       "2419               COMRED SHYOPATRAM                           CPM   \n",
       "2712                 VRAHASPATI GIRI                           SHS   \n",
       "2732                        JAI MALA                           IND   \n",
       "2982              VIVEK KUMAR SHARMA                            AD   \n",
       "2994  ASHU SHARMA URF ASHWANI SHARMA                          BJVP   \n",
       "3016                          YOGESH                           IND   \n",
       "3139                       AMIRUDDIN                            AD   \n",
       "3151            RAKESH CHANDRA PATEL                          RSBP   \n",
       "3223                           MANJU                           IND   \n",
       "3232                        DESH RAJ                           IND   \n",
       "\n",
       "      Criminal Cases      Education  Age               City  Year  \n",
       "393                0      Not Given   25             Araria  2004  \n",
       "420                0      Not Given   25         Aurangabad  2004  \n",
       "550                0       Graduate   25               Gaya  2004  \n",
       "556                0  Post Graduate   25          Gopalganj  2004  \n",
       "569                0  Post Graduate   25            Hajipur  2004  \n",
       "597                0       Graduate   25            Katihar  2004  \n",
       "679                0       Graduate   25        Muzaffarpur  2004  \n",
       "724                0      Not Given   25              Patna  2004  \n",
       "886                0       Literate   25            Janjgir  2004  \n",
       "1214               0      Not Given   25              Jammu  2004  \n",
       "1215               0      Not Given   25              Jammu  2004  \n",
       "1389               0  Post Graduate   25           Gulbarga  2004  \n",
       "1597               0      10th Pass   25             Bhopal  2004  \n",
       "1800               0       Graduate   25             Chimur  2004  \n",
       "1821               0  Post Graduate   25            Hingoli  2004  \n",
       "1940               0      10th Pass   25  Mumbai North West  2004  \n",
       "2199               0      10th Pass   25          New Delhi  2004  \n",
       "2318               2      12th Pass   25           Bhatinda  2004  \n",
       "2419               0       Graduate   25         Ganganagar  2004  \n",
       "2712               0     Illiterate   25           Bareilly  2004  \n",
       "2732               0      Not Given   25             Bijnor  2004  \n",
       "2982               0      10th Pass   25            Jalesar  2004  \n",
       "2994               0      Not Given   25            Kairana  2004  \n",
       "3016               0  Post Graduate   25            Kairana  2004  \n",
       "3139               0      12th Pass   25           Padrauna  2004  \n",
       "3151               0       Graduate   25            Phulpur  2004  \n",
       "3223               0      Not Given   25           Shahabad  2004  \n",
       "3232               0       8th Pass   25       Shahjahanpur  2004  "
      ]
     },
     "execution_count": 11,
     "metadata": {},
     "output_type": "execute_result"
    }
   ],
   "source": [
    "candidate_age_2004[candidate_age_2004['Age'] == candidate_age_2004['Age'].min()]"
   ]
  },
  {
   "cell_type": "markdown",
   "execution_count": null,
   "metadata": {
    "papermill": {
     "duration": 0.017157,
     "end_time": "2020-08-23T17:16:02.723194",
     "exception": false,
     "start_time": "2020-08-23T17:16:02.706037",
     "status": "completed"
    },
    "tags": []
   },
   "source": [
    "In 2004's Lok Sabha Election,yougest candidate age was 25 years."
   ]
  },
  {
   "cell_type": "code",
   "execution_count": 12,
   "metadata": {
    "execution": {
     "iopub.execute_input": "2020-08-23T17:16:02.793962Z",
     "iopub.status.busy": "2020-08-23T17:16:02.793097Z",
     "iopub.status.idle": "2020-08-23T17:16:02.799316Z",
     "shell.execute_reply": "2020-08-23T17:16:02.798464Z"
    },
    "papermill": {
     "duration": 0.058681,
     "end_time": "2020-08-23T17:16:02.799457",
     "exception": false,
     "start_time": "2020-08-23T17:16:02.740776",
     "status": "completed"
    },
    "tags": []
   },
   "outputs": [
    {
     "data": {
      "text/html": [
       "<div>\n",
       "<style scoped>\n",
       "    .dataframe tbody tr th:only-of-type {\n",
       "        vertical-align: middle;\n",
       "    }\n",
       "\n",
       "    .dataframe tbody tr th {\n",
       "        vertical-align: top;\n",
       "    }\n",
       "\n",
       "    .dataframe thead th {\n",
       "        text-align: right;\n",
       "    }\n",
       "</style>\n",
       "<table border=\"1\" class=\"dataframe\">\n",
       "  <thead>\n",
       "    <tr style=\"text-align: right;\">\n",
       "      <th></th>\n",
       "      <th>Candidate</th>\n",
       "      <th>Party</th>\n",
       "      <th>Criminal Cases</th>\n",
       "      <th>Education</th>\n",
       "      <th>Age</th>\n",
       "      <th>City</th>\n",
       "      <th>Year</th>\n",
       "    </tr>\n",
       "  </thead>\n",
       "  <tbody>\n",
       "    <tr>\n",
       "      <th>570</th>\n",
       "      <td>TABA TAKU</td>\n",
       "      <td>LB</td>\n",
       "      <td>0</td>\n",
       "      <td>Graduate</td>\n",
       "      <td>25</td>\n",
       "      <td>Arunachal West</td>\n",
       "      <td>2009</td>\n",
       "    </tr>\n",
       "    <tr>\n",
       "      <th>887</th>\n",
       "      <td>BINITA BAITHA</td>\n",
       "      <td>IND</td>\n",
       "      <td>0</td>\n",
       "      <td>Graduate</td>\n",
       "      <td>25</td>\n",
       "      <td>Gopalganj</td>\n",
       "      <td>2009</td>\n",
       "    </tr>\n",
       "    <tr>\n",
       "      <th>1017</th>\n",
       "      <td>MOHAMMAD NISSAR ALAM</td>\n",
       "      <td>JMM</td>\n",
       "      <td>0</td>\n",
       "      <td>8th Pass</td>\n",
       "      <td>25</td>\n",
       "      <td>Kishanganj</td>\n",
       "      <td>2009</td>\n",
       "    </tr>\n",
       "    <tr>\n",
       "      <th>1128</th>\n",
       "      <td>KUMAR RAJESH</td>\n",
       "      <td>IND</td>\n",
       "      <td>0</td>\n",
       "      <td>Graduate</td>\n",
       "      <td>25</td>\n",
       "      <td>Nalanda</td>\n",
       "      <td>2009</td>\n",
       "    </tr>\n",
       "    <tr>\n",
       "      <th>1174</th>\n",
       "      <td>DURGESH NANDAN SINGH</td>\n",
       "      <td>IND</td>\n",
       "      <td>0</td>\n",
       "      <td>Graduate Professional</td>\n",
       "      <td>25</td>\n",
       "      <td>Pataliputra</td>\n",
       "      <td>2009</td>\n",
       "    </tr>\n",
       "    <tr>\n",
       "      <th>1461</th>\n",
       "      <td>Santosh Banjare</td>\n",
       "      <td>IND</td>\n",
       "      <td>0</td>\n",
       "      <td>5th Pass</td>\n",
       "      <td>25</td>\n",
       "      <td>Korba</td>\n",
       "      <td>2009</td>\n",
       "    </tr>\n",
       "    <tr>\n",
       "      <th>1570</th>\n",
       "      <td>MULLA SALIM</td>\n",
       "      <td>IND</td>\n",
       "      <td>0</td>\n",
       "      <td>12th Pass</td>\n",
       "      <td>25</td>\n",
       "      <td>South Goa</td>\n",
       "      <td>2009</td>\n",
       "    </tr>\n",
       "    <tr>\n",
       "      <th>1625</th>\n",
       "      <td>BHARATBHAI BABUBHAI SOLANKI</td>\n",
       "      <td>IND</td>\n",
       "      <td>0</td>\n",
       "      <td>Literate</td>\n",
       "      <td>25</td>\n",
       "      <td>Anand</td>\n",
       "      <td>2009</td>\n",
       "    </tr>\n",
       "    <tr>\n",
       "      <th>1848</th>\n",
       "      <td>MEHULKUMAR KARSANBHAI CHANDRAVADIYA</td>\n",
       "      <td>BSP</td>\n",
       "      <td>3</td>\n",
       "      <td>Graduate</td>\n",
       "      <td>25</td>\n",
       "      <td>Porbandar</td>\n",
       "      <td>2009</td>\n",
       "    </tr>\n",
       "    <tr>\n",
       "      <th>1878</th>\n",
       "      <td>MAHESHBHAI HIRABHAI HARSODA</td>\n",
       "      <td>IND</td>\n",
       "      <td>0</td>\n",
       "      <td>Literate</td>\n",
       "      <td>25</td>\n",
       "      <td>Rajkot</td>\n",
       "      <td>2009</td>\n",
       "    </tr>\n",
       "    <tr>\n",
       "      <th>1917</th>\n",
       "      <td>ALTAFBHAI VALIBHAI KORADIA</td>\n",
       "      <td>IND</td>\n",
       "      <td>0</td>\n",
       "      <td>Illiterate</td>\n",
       "      <td>25</td>\n",
       "      <td>Surendranagar</td>\n",
       "      <td>2009</td>\n",
       "    </tr>\n",
       "    <tr>\n",
       "      <th>2025</th>\n",
       "      <td>SATENDER SINGH THAKRAN</td>\n",
       "      <td>IND</td>\n",
       "      <td>0</td>\n",
       "      <td>12th Pass</td>\n",
       "      <td>25</td>\n",
       "      <td>Gurgaon</td>\n",
       "      <td>2009</td>\n",
       "    </tr>\n",
       "    <tr>\n",
       "      <th>2059</th>\n",
       "      <td>SANDEEP</td>\n",
       "      <td>IND</td>\n",
       "      <td>0</td>\n",
       "      <td>Others</td>\n",
       "      <td>25</td>\n",
       "      <td>Hisar</td>\n",
       "      <td>2009</td>\n",
       "    </tr>\n",
       "    <tr>\n",
       "      <th>2060</th>\n",
       "      <td>SANJAY KUMAR</td>\n",
       "      <td>IND</td>\n",
       "      <td>0</td>\n",
       "      <td>12th Pass</td>\n",
       "      <td>25</td>\n",
       "      <td>Hisar</td>\n",
       "      <td>2009</td>\n",
       "    </tr>\n",
       "    <tr>\n",
       "      <th>2224</th>\n",
       "      <td>ASHIQ HUSSAIN GANIE</td>\n",
       "      <td>BCDP</td>\n",
       "      <td>0</td>\n",
       "      <td>8th Pass</td>\n",
       "      <td>25</td>\n",
       "      <td>Baramulla</td>\n",
       "      <td>2009</td>\n",
       "    </tr>\n",
       "    <tr>\n",
       "      <th>2341</th>\n",
       "      <td>PRADEEP YADAV</td>\n",
       "      <td>Samata Party</td>\n",
       "      <td>0</td>\n",
       "      <td>12th Pass</td>\n",
       "      <td>25</td>\n",
       "      <td>Godda</td>\n",
       "      <td>2009</td>\n",
       "    </tr>\n",
       "    <tr>\n",
       "      <th>2423</th>\n",
       "      <td>Padma Baraik</td>\n",
       "      <td>IND</td>\n",
       "      <td>1</td>\n",
       "      <td>8th Pass</td>\n",
       "      <td>25</td>\n",
       "      <td>Lohardaga</td>\n",
       "      <td>2009</td>\n",
       "    </tr>\n",
       "    <tr>\n",
       "      <th>2480</th>\n",
       "      <td>CHINCHOLLI SANTOSHKUMAR SAHEBGOUDA</td>\n",
       "      <td>IND</td>\n",
       "      <td>0</td>\n",
       "      <td>12th Pass</td>\n",
       "      <td>25</td>\n",
       "      <td>Bagalkot</td>\n",
       "      <td>2009</td>\n",
       "    </tr>\n",
       "    <tr>\n",
       "      <th>2971</th>\n",
       "      <td>Sajimon</td>\n",
       "      <td>IND</td>\n",
       "      <td>0</td>\n",
       "      <td>10th Pass</td>\n",
       "      <td>25</td>\n",
       "      <td>Attingal</td>\n",
       "      <td>2009</td>\n",
       "    </tr>\n",
       "    <tr>\n",
       "      <th>3204</th>\n",
       "      <td>SHAILENDRA SINGH ALIAS KALLU</td>\n",
       "      <td>IND</td>\n",
       "      <td>0</td>\n",
       "      <td>12th Pass</td>\n",
       "      <td>25</td>\n",
       "      <td>Bhind</td>\n",
       "      <td>2009</td>\n",
       "    </tr>\n",
       "    <tr>\n",
       "      <th>3274</th>\n",
       "      <td>SHIVRAJ BHAIYA BADE THAKUR</td>\n",
       "      <td>IND</td>\n",
       "      <td>0</td>\n",
       "      <td>5th Pass</td>\n",
       "      <td>25</td>\n",
       "      <td>Damoh</td>\n",
       "      <td>2009</td>\n",
       "    </tr>\n",
       "    <tr>\n",
       "      <th>3421</th>\n",
       "      <td>DEV SINGH BHALAVI</td>\n",
       "      <td>IND</td>\n",
       "      <td>0</td>\n",
       "      <td>5th Pass</td>\n",
       "      <td>25</td>\n",
       "      <td>Mandla</td>\n",
       "      <td>2009</td>\n",
       "    </tr>\n",
       "    <tr>\n",
       "      <th>3577</th>\n",
       "      <td>BHAI MUNSHILAL SILAWAT</td>\n",
       "      <td>RPI(A)</td>\n",
       "      <td>0</td>\n",
       "      <td>10th Pass</td>\n",
       "      <td>25</td>\n",
       "      <td>Vidisha</td>\n",
       "      <td>2009</td>\n",
       "    </tr>\n",
       "    <tr>\n",
       "      <th>3610</th>\n",
       "      <td>AMOL DEVIDASRAO JADHAV</td>\n",
       "      <td>IND</td>\n",
       "      <td>0</td>\n",
       "      <td>Literate</td>\n",
       "      <td>25</td>\n",
       "      <td>Amravati</td>\n",
       "      <td>2009</td>\n",
       "    </tr>\n",
       "    <tr>\n",
       "      <th>3638</th>\n",
       "      <td>KRISHNA DEVIDAS JADHAV</td>\n",
       "      <td>IND</td>\n",
       "      <td>1</td>\n",
       "      <td>Graduate</td>\n",
       "      <td>25</td>\n",
       "      <td>Aurangabad</td>\n",
       "      <td>2009</td>\n",
       "    </tr>\n",
       "    <tr>\n",
       "      <th>3728</th>\n",
       "      <td>GANESH ARJUN ZORE</td>\n",
       "      <td>IND</td>\n",
       "      <td>0</td>\n",
       "      <td>12th Pass</td>\n",
       "      <td>25</td>\n",
       "      <td>Buldhana</td>\n",
       "      <td>2009</td>\n",
       "    </tr>\n",
       "    <tr>\n",
       "      <th>3958</th>\n",
       "      <td>RAJKAMAL JAISINH YADAV</td>\n",
       "      <td>IND</td>\n",
       "      <td>0</td>\n",
       "      <td>10th Pass</td>\n",
       "      <td>25</td>\n",
       "      <td>Mumbai North Central</td>\n",
       "      <td>2009</td>\n",
       "    </tr>\n",
       "    <tr>\n",
       "      <th>4236</th>\n",
       "      <td>KOLI SANTOSH GOKUL</td>\n",
       "      <td>IND</td>\n",
       "      <td>0</td>\n",
       "      <td>Not Given</td>\n",
       "      <td>25</td>\n",
       "      <td>Raver</td>\n",
       "      <td>2009</td>\n",
       "    </tr>\n",
       "    <tr>\n",
       "      <th>4272</th>\n",
       "      <td>DHOTRE SUCHIT CHINTAMANI</td>\n",
       "      <td>KM</td>\n",
       "      <td>0</td>\n",
       "      <td>10th Pass</td>\n",
       "      <td>25</td>\n",
       "      <td>Shirdi</td>\n",
       "      <td>2009</td>\n",
       "    </tr>\n",
       "    <tr>\n",
       "      <th>4633</th>\n",
       "      <td>Akshaya Kumar Sethi</td>\n",
       "      <td>Samruddha Odisha</td>\n",
       "      <td>0</td>\n",
       "      <td>10th Pass</td>\n",
       "      <td>25</td>\n",
       "      <td>Jagatsinghpur</td>\n",
       "      <td>2009</td>\n",
       "    </tr>\n",
       "    <tr>\n",
       "      <th>4806</th>\n",
       "      <td>JAGMEET SINGH</td>\n",
       "      <td>IND</td>\n",
       "      <td>0</td>\n",
       "      <td>Graduate Professional</td>\n",
       "      <td>25</td>\n",
       "      <td>Firozpur</td>\n",
       "      <td>2009</td>\n",
       "    </tr>\n",
       "    <tr>\n",
       "      <th>4947</th>\n",
       "      <td>DEVENDRA</td>\n",
       "      <td>JGP</td>\n",
       "      <td>0</td>\n",
       "      <td>Graduate</td>\n",
       "      <td>25</td>\n",
       "      <td>Alwar</td>\n",
       "      <td>2009</td>\n",
       "    </tr>\n",
       "    <tr>\n",
       "      <th>5476</th>\n",
       "      <td>KARUPPUSAMY. S</td>\n",
       "      <td>IND</td>\n",
       "      <td>0</td>\n",
       "      <td>Not Given</td>\n",
       "      <td>25</td>\n",
       "      <td>Dharmapuri</td>\n",
       "      <td>2009</td>\n",
       "    </tr>\n",
       "    <tr>\n",
       "      <th>5591</th>\n",
       "      <td>SATHEES C</td>\n",
       "      <td>IND</td>\n",
       "      <td>0</td>\n",
       "      <td>10th Pass</td>\n",
       "      <td>25</td>\n",
       "      <td>Kanniyakumari</td>\n",
       "      <td>2009</td>\n",
       "    </tr>\n",
       "    <tr>\n",
       "      <th>5815</th>\n",
       "      <td>EZHILARASU M</td>\n",
       "      <td>IND</td>\n",
       "      <td>0</td>\n",
       "      <td>Graduate</td>\n",
       "      <td>25</td>\n",
       "      <td>Sriperumbudur</td>\n",
       "      <td>2009</td>\n",
       "    </tr>\n",
       "    <tr>\n",
       "      <th>5862</th>\n",
       "      <td>KAVITHA</td>\n",
       "      <td>BSP</td>\n",
       "      <td>0</td>\n",
       "      <td>Others</td>\n",
       "      <td>25</td>\n",
       "      <td>Theni</td>\n",
       "      <td>2009</td>\n",
       "    </tr>\n",
       "    <tr>\n",
       "      <th>6006</th>\n",
       "      <td>SURESHKUMAR P</td>\n",
       "      <td>IND</td>\n",
       "      <td>2</td>\n",
       "      <td>12th Pass</td>\n",
       "      <td>25</td>\n",
       "      <td>Vellore</td>\n",
       "      <td>2009</td>\n",
       "    </tr>\n",
       "    <tr>\n",
       "      <th>6186</th>\n",
       "      <td>SWAMI NATH</td>\n",
       "      <td>IND</td>\n",
       "      <td>0</td>\n",
       "      <td>Not Given</td>\n",
       "      <td>25</td>\n",
       "      <td>Amethi</td>\n",
       "      <td>2009</td>\n",
       "    </tr>\n",
       "    <tr>\n",
       "      <th>6204</th>\n",
       "      <td>SUMAN</td>\n",
       "      <td>IVD</td>\n",
       "      <td>0</td>\n",
       "      <td>Post Graduate</td>\n",
       "      <td>25</td>\n",
       "      <td>Amroha</td>\n",
       "      <td>2009</td>\n",
       "    </tr>\n",
       "    <tr>\n",
       "      <th>6253</th>\n",
       "      <td>OMPAL</td>\n",
       "      <td>IND</td>\n",
       "      <td>0</td>\n",
       "      <td>Graduate</td>\n",
       "      <td>25</td>\n",
       "      <td>Baghpat</td>\n",
       "      <td>2009</td>\n",
       "    </tr>\n",
       "    <tr>\n",
       "      <th>6322</th>\n",
       "      <td>DEPENDRA KUMAR RAWAT</td>\n",
       "      <td>IND</td>\n",
       "      <td>0</td>\n",
       "      <td>12th Pass</td>\n",
       "      <td>25</td>\n",
       "      <td>Barabanki</td>\n",
       "      <td>2009</td>\n",
       "    </tr>\n",
       "    <tr>\n",
       "      <th>6381</th>\n",
       "      <td>MONU KUMAR RAVI</td>\n",
       "      <td>IND</td>\n",
       "      <td>0</td>\n",
       "      <td>8th Pass</td>\n",
       "      <td>25</td>\n",
       "      <td>Bijnor</td>\n",
       "      <td>2009</td>\n",
       "    </tr>\n",
       "    <tr>\n",
       "      <th>6496</th>\n",
       "      <td>AJAY KUMAR</td>\n",
       "      <td>KKJHS</td>\n",
       "      <td>0</td>\n",
       "      <td>12th Pass</td>\n",
       "      <td>25</td>\n",
       "      <td>Faizabad</td>\n",
       "      <td>2009</td>\n",
       "    </tr>\n",
       "    <tr>\n",
       "      <th>6590</th>\n",
       "      <td>LUBNA ASHIF</td>\n",
       "      <td>All India Minorities Front</td>\n",
       "      <td>0</td>\n",
       "      <td>Post Graduate</td>\n",
       "      <td>25</td>\n",
       "      <td>Gautam Budhha Nagar</td>\n",
       "      <td>2009</td>\n",
       "    </tr>\n",
       "    <tr>\n",
       "      <th>6747</th>\n",
       "      <td>PRABHA VERMA</td>\n",
       "      <td>AD</td>\n",
       "      <td>0</td>\n",
       "      <td>Doctorate</td>\n",
       "      <td>25</td>\n",
       "      <td>Jalaun</td>\n",
       "      <td>2009</td>\n",
       "    </tr>\n",
       "    <tr>\n",
       "      <th>6787</th>\n",
       "      <td>ABHISHEK</td>\n",
       "      <td>IND</td>\n",
       "      <td>0</td>\n",
       "      <td>10th Pass</td>\n",
       "      <td>25</td>\n",
       "      <td>Kairana</td>\n",
       "      <td>2009</td>\n",
       "    </tr>\n",
       "    <tr>\n",
       "      <th>6833</th>\n",
       "      <td>SANJEEV</td>\n",
       "      <td>IND</td>\n",
       "      <td>0</td>\n",
       "      <td>Post Graduate</td>\n",
       "      <td>25</td>\n",
       "      <td>Kannauj</td>\n",
       "      <td>2009</td>\n",
       "    </tr>\n",
       "    <tr>\n",
       "      <th>6951</th>\n",
       "      <td>NITIN DWIVEDI</td>\n",
       "      <td>IND</td>\n",
       "      <td>0</td>\n",
       "      <td>12th Pass</td>\n",
       "      <td>25</td>\n",
       "      <td>Lucknow</td>\n",
       "      <td>2009</td>\n",
       "    </tr>\n",
       "    <tr>\n",
       "      <th>6955</th>\n",
       "      <td>RAJESH KUMAR</td>\n",
       "      <td>IND</td>\n",
       "      <td>1</td>\n",
       "      <td>8th Pass</td>\n",
       "      <td>25</td>\n",
       "      <td>Lucknow</td>\n",
       "      <td>2009</td>\n",
       "    </tr>\n",
       "    <tr>\n",
       "      <th>7017</th>\n",
       "      <td>GOPAL SAINI</td>\n",
       "      <td>IND</td>\n",
       "      <td>0</td>\n",
       "      <td>5th Pass</td>\n",
       "      <td>25</td>\n",
       "      <td>Mathura</td>\n",
       "      <td>2009</td>\n",
       "    </tr>\n",
       "    <tr>\n",
       "      <th>7269</th>\n",
       "      <td>MOHD.ASIF</td>\n",
       "      <td>IND</td>\n",
       "      <td>0</td>\n",
       "      <td>Post Graduate</td>\n",
       "      <td>25</td>\n",
       "      <td>Saharanpur</td>\n",
       "      <td>2009</td>\n",
       "    </tr>\n",
       "    <tr>\n",
       "      <th>7389</th>\n",
       "      <td>RAKESH</td>\n",
       "      <td>NYP</td>\n",
       "      <td>0</td>\n",
       "      <td>10th Pass</td>\n",
       "      <td>25</td>\n",
       "      <td>Sultanpur</td>\n",
       "      <td>2009</td>\n",
       "    </tr>\n",
       "    <tr>\n",
       "      <th>7411</th>\n",
       "      <td>UMESHCHANDRA</td>\n",
       "      <td>AD</td>\n",
       "      <td>0</td>\n",
       "      <td>Post Graduate</td>\n",
       "      <td>25</td>\n",
       "      <td>Unnao</td>\n",
       "      <td>2009</td>\n",
       "    </tr>\n",
       "    <tr>\n",
       "      <th>7435</th>\n",
       "      <td>SUSHAMA</td>\n",
       "      <td>CPI(ML)(L)</td>\n",
       "      <td>0</td>\n",
       "      <td>Post Graduate</td>\n",
       "      <td>25</td>\n",
       "      <td>Almora</td>\n",
       "      <td>2009</td>\n",
       "    </tr>\n",
       "    <tr>\n",
       "      <th>7579</th>\n",
       "      <td>RAJU MALIK</td>\n",
       "      <td>JDP</td>\n",
       "      <td>0</td>\n",
       "      <td>10th Pass</td>\n",
       "      <td>25</td>\n",
       "      <td>Bardhaman Purba</td>\n",
       "      <td>2009</td>\n",
       "    </tr>\n",
       "  </tbody>\n",
       "</table>\n",
       "</div>"
      ],
      "text/plain": [
       "                                Candidate                       Party  \\\n",
       "570                             TABA TAKU                          LB   \n",
       "887                         BINITA BAITHA                         IND   \n",
       "1017                 MOHAMMAD NISSAR ALAM                         JMM   \n",
       "1128                         KUMAR RAJESH                         IND   \n",
       "1174                 DURGESH NANDAN SINGH                         IND   \n",
       "1461                      Santosh Banjare                         IND   \n",
       "1570                          MULLA SALIM                         IND   \n",
       "1625          BHARATBHAI BABUBHAI SOLANKI                         IND   \n",
       "1848  MEHULKUMAR KARSANBHAI CHANDRAVADIYA                         BSP   \n",
       "1878          MAHESHBHAI HIRABHAI HARSODA                         IND   \n",
       "1917           ALTAFBHAI VALIBHAI KORADIA                         IND   \n",
       "2025               SATENDER SINGH THAKRAN                         IND   \n",
       "2059                              SANDEEP                         IND   \n",
       "2060                         SANJAY KUMAR                         IND   \n",
       "2224                  ASHIQ HUSSAIN GANIE                        BCDP   \n",
       "2341                        PRADEEP YADAV                Samata Party   \n",
       "2423                         Padma Baraik                         IND   \n",
       "2480   CHINCHOLLI SANTOSHKUMAR SAHEBGOUDA                         IND   \n",
       "2971                              Sajimon                         IND   \n",
       "3204         SHAILENDRA SINGH ALIAS KALLU                         IND   \n",
       "3274           SHIVRAJ BHAIYA BADE THAKUR                         IND   \n",
       "3421                    DEV SINGH BHALAVI                         IND   \n",
       "3577               BHAI MUNSHILAL SILAWAT                      RPI(A)   \n",
       "3610               AMOL DEVIDASRAO JADHAV                         IND   \n",
       "3638               KRISHNA DEVIDAS JADHAV                         IND   \n",
       "3728                    GANESH ARJUN ZORE                         IND   \n",
       "3958               RAJKAMAL JAISINH YADAV                         IND   \n",
       "4236                   KOLI SANTOSH GOKUL                         IND   \n",
       "4272             DHOTRE SUCHIT CHINTAMANI                          KM   \n",
       "4633                  Akshaya Kumar Sethi            Samruddha Odisha   \n",
       "4806                        JAGMEET SINGH                         IND   \n",
       "4947                             DEVENDRA                         JGP   \n",
       "5476                       KARUPPUSAMY. S                         IND   \n",
       "5591                            SATHEES C                         IND   \n",
       "5815                         EZHILARASU M                         IND   \n",
       "5862                              KAVITHA                         BSP   \n",
       "6006                        SURESHKUMAR P                         IND   \n",
       "6186                           SWAMI NATH                         IND   \n",
       "6204                                SUMAN                         IVD   \n",
       "6253                                OMPAL                         IND   \n",
       "6322                 DEPENDRA KUMAR RAWAT                         IND   \n",
       "6381                      MONU KUMAR RAVI                         IND   \n",
       "6496                           AJAY KUMAR                       KKJHS   \n",
       "6590                          LUBNA ASHIF  All India Minorities Front   \n",
       "6747                         PRABHA VERMA                          AD   \n",
       "6787                             ABHISHEK                         IND   \n",
       "6833                              SANJEEV                         IND   \n",
       "6951                        NITIN DWIVEDI                         IND   \n",
       "6955                         RAJESH KUMAR                         IND   \n",
       "7017                          GOPAL SAINI                         IND   \n",
       "7269                            MOHD.ASIF                         IND   \n",
       "7389                               RAKESH                         NYP   \n",
       "7411                         UMESHCHANDRA                          AD   \n",
       "7435                              SUSHAMA                  CPI(ML)(L)   \n",
       "7579                           RAJU MALIK                         JDP   \n",
       "\n",
       "      Criminal Cases              Education  Age                  City  Year  \n",
       "570                0               Graduate   25        Arunachal West  2009  \n",
       "887                0               Graduate   25             Gopalganj  2009  \n",
       "1017               0               8th Pass   25            Kishanganj  2009  \n",
       "1128               0               Graduate   25               Nalanda  2009  \n",
       "1174               0  Graduate Professional   25           Pataliputra  2009  \n",
       "1461               0               5th Pass   25                 Korba  2009  \n",
       "1570               0              12th Pass   25             South Goa  2009  \n",
       "1625               0               Literate   25                 Anand  2009  \n",
       "1848               3               Graduate   25             Porbandar  2009  \n",
       "1878               0               Literate   25                Rajkot  2009  \n",
       "1917               0             Illiterate   25         Surendranagar  2009  \n",
       "2025               0              12th Pass   25               Gurgaon  2009  \n",
       "2059               0                 Others   25                 Hisar  2009  \n",
       "2060               0              12th Pass   25                 Hisar  2009  \n",
       "2224               0               8th Pass   25             Baramulla  2009  \n",
       "2341               0              12th Pass   25                 Godda  2009  \n",
       "2423               1               8th Pass   25             Lohardaga  2009  \n",
       "2480               0              12th Pass   25              Bagalkot  2009  \n",
       "2971               0              10th Pass   25              Attingal  2009  \n",
       "3204               0              12th Pass   25                 Bhind  2009  \n",
       "3274               0               5th Pass   25                 Damoh  2009  \n",
       "3421               0               5th Pass   25                Mandla  2009  \n",
       "3577               0              10th Pass   25               Vidisha  2009  \n",
       "3610               0               Literate   25              Amravati  2009  \n",
       "3638               1               Graduate   25            Aurangabad  2009  \n",
       "3728               0              12th Pass   25              Buldhana  2009  \n",
       "3958               0              10th Pass   25  Mumbai North Central  2009  \n",
       "4236               0              Not Given   25                 Raver  2009  \n",
       "4272               0              10th Pass   25                Shirdi  2009  \n",
       "4633               0              10th Pass   25         Jagatsinghpur  2009  \n",
       "4806               0  Graduate Professional   25              Firozpur  2009  \n",
       "4947               0               Graduate   25                 Alwar  2009  \n",
       "5476               0              Not Given   25            Dharmapuri  2009  \n",
       "5591               0              10th Pass   25         Kanniyakumari  2009  \n",
       "5815               0               Graduate   25         Sriperumbudur  2009  \n",
       "5862               0                 Others   25                 Theni  2009  \n",
       "6006               2              12th Pass   25               Vellore  2009  \n",
       "6186               0              Not Given   25                Amethi  2009  \n",
       "6204               0          Post Graduate   25                Amroha  2009  \n",
       "6253               0               Graduate   25               Baghpat  2009  \n",
       "6322               0              12th Pass   25             Barabanki  2009  \n",
       "6381               0               8th Pass   25                Bijnor  2009  \n",
       "6496               0              12th Pass   25              Faizabad  2009  \n",
       "6590               0          Post Graduate   25   Gautam Budhha Nagar  2009  \n",
       "6747               0              Doctorate   25                Jalaun  2009  \n",
       "6787               0              10th Pass   25               Kairana  2009  \n",
       "6833               0          Post Graduate   25               Kannauj  2009  \n",
       "6951               0              12th Pass   25               Lucknow  2009  \n",
       "6955               1               8th Pass   25               Lucknow  2009  \n",
       "7017               0               5th Pass   25               Mathura  2009  \n",
       "7269               0          Post Graduate   25            Saharanpur  2009  \n",
       "7389               0              10th Pass   25             Sultanpur  2009  \n",
       "7411               0          Post Graduate   25                 Unnao  2009  \n",
       "7435               0          Post Graduate   25                Almora  2009  \n",
       "7579               0              10th Pass   25       Bardhaman Purba  2009  "
      ]
     },
     "execution_count": 12,
     "metadata": {},
     "output_type": "execute_result"
    }
   ],
   "source": [
    "candidate_age_2009[candidate_age_2009['Age'] == candidate_age_2009['Age'].min()]"
   ]
  },
  {
   "cell_type": "code",
   "execution_count": 13,
   "metadata": {
    "execution": {
     "iopub.execute_input": "2020-08-23T17:16:02.852185Z",
     "iopub.status.busy": "2020-08-23T17:16:02.851381Z",
     "iopub.status.idle": "2020-08-23T17:16:02.856415Z",
     "shell.execute_reply": "2020-08-23T17:16:02.856979Z"
    },
    "papermill": {
     "duration": 0.038744,
     "end_time": "2020-08-23T17:16:02.857174",
     "exception": false,
     "start_time": "2020-08-23T17:16:02.818430",
     "status": "completed"
    },
    "tags": []
   },
   "outputs": [
    {
     "data": {
      "text/html": [
       "<div>\n",
       "<style scoped>\n",
       "    .dataframe tbody tr th:only-of-type {\n",
       "        vertical-align: middle;\n",
       "    }\n",
       "\n",
       "    .dataframe tbody tr th {\n",
       "        vertical-align: top;\n",
       "    }\n",
       "\n",
       "    .dataframe thead th {\n",
       "        text-align: right;\n",
       "    }\n",
       "</style>\n",
       "<table border=\"1\" class=\"dataframe\">\n",
       "  <thead>\n",
       "    <tr style=\"text-align: right;\">\n",
       "      <th></th>\n",
       "      <th>Candidate</th>\n",
       "      <th>Party</th>\n",
       "      <th>Criminal Cases</th>\n",
       "      <th>Education</th>\n",
       "      <th>Age</th>\n",
       "      <th>City</th>\n",
       "      <th>Year</th>\n",
       "    </tr>\n",
       "  </thead>\n",
       "  <tbody>\n",
       "    <tr>\n",
       "      <th>7242</th>\n",
       "      <td>Ravikant Yadav</td>\n",
       "      <td>IND</td>\n",
       "      <td>0</td>\n",
       "      <td>Graduate</td>\n",
       "      <td>21</td>\n",
       "      <td>JAUNPUR</td>\n",
       "      <td>2014</td>\n",
       "    </tr>\n",
       "  </tbody>\n",
       "</table>\n",
       "</div>"
      ],
      "text/plain": [
       "           Candidate Party  Criminal Cases Education  Age     City  Year\n",
       "7242  Ravikant Yadav   IND               0  Graduate   21  JAUNPUR  2014"
      ]
     },
     "execution_count": 13,
     "metadata": {},
     "output_type": "execute_result"
    }
   ],
   "source": [
    "candidate_age_2014[candidate_age_2014['Age'] == candidate_age_2014['Age'].min()]"
   ]
  },
  {
   "cell_type": "code",
   "execution_count": 14,
   "metadata": {
    "execution": {
     "iopub.execute_input": "2020-08-23T17:16:02.911586Z",
     "iopub.status.busy": "2020-08-23T17:16:02.910491Z",
     "iopub.status.idle": "2020-08-23T17:16:02.915738Z",
     "shell.execute_reply": "2020-08-23T17:16:02.914987Z"
    },
    "papermill": {
     "duration": 0.038802,
     "end_time": "2020-08-23T17:16:02.915870",
     "exception": false,
     "start_time": "2020-08-23T17:16:02.877068",
     "status": "completed"
    },
    "tags": []
   },
   "outputs": [
    {
     "data": {
      "text/html": [
       "<div>\n",
       "<style scoped>\n",
       "    .dataframe tbody tr th:only-of-type {\n",
       "        vertical-align: middle;\n",
       "    }\n",
       "\n",
       "    .dataframe tbody tr th {\n",
       "        vertical-align: top;\n",
       "    }\n",
       "\n",
       "    .dataframe thead th {\n",
       "        text-align: right;\n",
       "    }\n",
       "</style>\n",
       "<table border=\"1\" class=\"dataframe\">\n",
       "  <thead>\n",
       "    <tr style=\"text-align: right;\">\n",
       "      <th></th>\n",
       "      <th>Candidate</th>\n",
       "      <th>Party</th>\n",
       "      <th>Criminal Cases</th>\n",
       "      <th>Education</th>\n",
       "      <th>Age</th>\n",
       "      <th>City</th>\n",
       "      <th>Year</th>\n",
       "    </tr>\n",
       "  </thead>\n",
       "  <tbody>\n",
       "    <tr>\n",
       "      <th>5774</th>\n",
       "      <td>Ponnuthai G</td>\n",
       "      <td>IND</td>\n",
       "      <td>0</td>\n",
       "      <td>12th Pass</td>\n",
       "      <td>24</td>\n",
       "      <td>TENKASI</td>\n",
       "      <td>2019</td>\n",
       "    </tr>\n",
       "  </tbody>\n",
       "</table>\n",
       "</div>"
      ],
      "text/plain": [
       "        Candidate Party  Criminal Cases  Education  Age     City  Year\n",
       "5774  Ponnuthai G   IND               0  12th Pass   24  TENKASI  2019"
      ]
     },
     "execution_count": 14,
     "metadata": {},
     "output_type": "execute_result"
    }
   ],
   "source": [
    "candidate_age_2019[candidate_age_2019['Age'] == candidate_age_2019['Age'].min()]"
   ]
  },
  {
   "cell_type": "markdown",
   "execution_count": null,
   "metadata": {
    "papermill": {
     "duration": 0.01966,
     "end_time": "2020-08-23T17:16:02.955677",
     "exception": false,
     "start_time": "2020-08-23T17:16:02.936017",
     "status": "completed"
    },
    "tags": []
   },
   "source": [
    "## Ravikant Yadav is youngest candidate, 21 Age who participated in 2014 lok sabha election."
   ]
  },
  {
   "cell_type": "code",
   "execution_count": 15,
   "metadata": {
    "execution": {
     "iopub.execute_input": "2020-08-23T17:16:03.010005Z",
     "iopub.status.busy": "2020-08-23T17:16:03.009137Z",
     "iopub.status.idle": "2020-08-23T17:16:03.915458Z",
     "shell.execute_reply": "2020-08-23T17:16:03.914708Z"
    },
    "papermill": {
     "duration": 0.940007,
     "end_time": "2020-08-23T17:16:03.915615",
     "exception": false,
     "start_time": "2020-08-23T17:16:02.975608",
     "status": "completed"
    },
    "tags": []
   },
   "outputs": [
    {
     "data": {
      "image/png": "[encoded data removed]",
      "text/plain": [
       "<Figure size 1440x864 with 1 Axes>"
      ]
     },
     "metadata": {},
     "output_type": "display_data"
    }
   ],
   "source": [
    "plt.figure(figsize=(20,12))\n",
    "edgecolor=(0,0,0),\n",
    "sns.countplot(candidate_age_2004['Age'].sort_values(), palette = \"Dark2\", edgecolor=(0,0,0))\n",
    "plt.title(\"2004 Election's Candidate Age Count\",fontsize=20)\n",
    "plt.xlabel('Age')\n",
    "plt.ylabel('Count')\n",
    "plt.xticks(fontsize=12,rotation=90)\n",
    "plt.show()"
   ]
  },
  {
   "cell_type": "code",
   "execution_count": 16,
   "metadata": {
    "execution": {
     "iopub.execute_input": "2020-08-23T17:16:03.967252Z",
     "iopub.status.busy": "2020-08-23T17:16:03.966401Z",
     "iopub.status.idle": "2020-08-23T17:16:04.775502Z",
     "shell.execute_reply": "2020-08-23T17:16:04.774884Z"
    },
    "papermill": {
     "duration": 0.840176,
     "end_time": "2020-08-23T17:16:04.775668",
     "exception": false,
     "start_time": "2020-08-23T17:16:03.935492",
     "status": "completed"
    },
    "tags": []
   },
   "outputs": [
    {
     "data": {
      "image/png": "[encoded data removed]",
      "text/plain": [
       "<Figure size 1440x864 with 1 Axes>"
      ]
     },
     "metadata": {},
     "output_type": "display_data"
    }
   ],
   "source": [
    "plt.figure(figsize=(20,12))\n",
    "edgecolor=(0,0,0),\n",
    "sns.countplot(candidate_age_2009['Age'].sort_values(), palette = \"Dark2\", edgecolor=(0,0,0))\n",
    "plt.title(\"Candidate Age Count\",fontsize=20)\n",
    "plt.xlabel('Age')\n",
    "plt.ylabel('Count')\n",
    "plt.xticks(fontsize=12,rotation=90)\n",
    "plt.show()"
   ]
  },
  {
   "cell_type": "code",
   "execution_count": 17,
   "metadata": {
    "execution": {
     "iopub.execute_input": "2020-08-23T17:16:04.828090Z",
     "iopub.status.busy": "2020-08-23T17:16:04.827187Z",
     "iopub.status.idle": "2020-08-23T17:16:05.722038Z",
     "shell.execute_reply": "2020-08-23T17:16:05.721357Z"
    },
    "papermill": {
     "duration": 0.925848,
     "end_time": "2020-08-23T17:16:05.722170",
     "exception": false,
     "start_time": "2020-08-23T17:16:04.796322",
     "status": "completed"
    },
    "tags": []
   },
   "outputs": [
    {
     "data": {
      "image/png": "[encoded data removed]",
      "text/plain": [
       "<Figure size 1440x864 with 1 Axes>"
      ]
     },
     "metadata": {},
     "output_type": "display_data"
    }
   ],
   "source": [
    "plt.figure(figsize=(20,12))\n",
    "edgecolor=(0,0,0),\n",
    "sns.countplot(candidate_age_2014['Age'].sort_values(), palette = \"Dark2\", edgecolor=(0,0,0))\n",
    "plt.title(\"Candidate Age Count\",fontsize=20)\n",
    "plt.xlabel('Age')\n",
    "plt.ylabel('Count')\n",
    "plt.xticks(fontsize=12,rotation=90)\n",
    "plt.show()"
   ]
  },
  {
   "cell_type": "code",
   "execution_count": 18,
   "metadata": {
    "execution": {
     "iopub.execute_input": "2020-08-23T17:16:05.775641Z",
     "iopub.status.busy": "2020-08-23T17:16:05.774807Z",
     "iopub.status.idle": "2020-08-23T17:16:06.584989Z",
     "shell.execute_reply": "2020-08-23T17:16:06.584193Z"
    },
    "papermill": {
     "duration": 0.841477,
     "end_time": "2020-08-23T17:16:06.585130",
     "exception": false,
     "start_time": "2020-08-23T17:16:05.743653",
     "status": "completed"
    },
    "tags": []
   },
   "outputs": [
    {
     "data": {
      "image/png": "[encoded data removed]",
      "text/plain": [
       "<Figure size 1440x864 with 1 Axes>"
      ]
     },
     "metadata": {},
     "output_type": "display_data"
    }
   ],
   "source": [
    "plt.figure(figsize=(20,12))\n",
    "edgecolor=(0,0,0),\n",
    "sns.countplot(candidate_age_2019['Age'].sort_values(), palette = \"Dark2\", edgecolor=(0,0,0))\n",
    "plt.title(\"Candidate Age Count\",fontsize=20)\n",
    "plt.xlabel('Age')\n",
    "plt.ylabel('Count')\n",
    "plt.xticks(fontsize=12,rotation=90)\n",
    "plt.show()"
   ]
  },
  {
   "cell_type": "code",
   "execution_count": 19,
   "metadata": {
    "execution": {
     "iopub.execute_input": "2020-08-23T17:16:06.636874Z",
     "iopub.status.busy": "2020-08-23T17:16:06.635734Z",
     "iopub.status.idle": "2020-08-23T17:16:06.645866Z",
     "shell.execute_reply": "2020-08-23T17:16:06.645191Z"
    },
    "papermill": {
     "duration": 0.037331,
     "end_time": "2020-08-23T17:16:06.646010",
     "exception": false,
     "start_time": "2020-08-23T17:16:06.608679",
     "status": "completed"
    },
    "tags": []
   },
   "outputs": [
    {
     "data": {
      "text/plain": [
       "38    904\n",
       "43    898\n",
       "42    875\n",
       "39    869\n",
       "40    859\n",
       "     ... \n",
       "88      1\n",
       "90      1\n",
       "93      1\n",
       "94      1\n",
       "24      1\n",
       "Name: Age, Length: 71, dtype: int64"
      ]
     },
     "execution_count": 19,
     "metadata": {},
     "output_type": "execute_result"
    }
   ],
   "source": [
    "candidates['Age'].value_counts()"
   ]
  },
  {
   "cell_type": "markdown",
   "execution_count": null,
   "metadata": {
    "papermill": {
     "duration": 0.021542,
     "end_time": "2020-08-23T17:16:06.688997",
     "exception": false,
     "start_time": "2020-08-23T17:16:06.667455",
     "status": "completed"
    },
    "tags": []
   },
   "source": [
    "## There are 904 candidates who are 38 years old. "
   ]
  },
  {
   "cell_type": "markdown",
   "execution_count": null,
   "metadata": {
    "papermill": {
     "duration": 0.021071,
     "end_time": "2020-08-23T17:16:06.731444",
     "exception": false,
     "start_time": "2020-08-23T17:16:06.710373",
     "status": "completed"
    },
    "tags": []
   },
   "source": [
    "## 2. Candidate with Highest number of Criminal Cases."
   ]
  },
  {
   "cell_type": "code",
   "execution_count": 20,
   "metadata": {
    "execution": {
     "iopub.execute_input": "2020-08-23T17:16:06.790468Z",
     "iopub.status.busy": "2020-08-23T17:16:06.789475Z",
     "iopub.status.idle": "2020-08-23T17:16:06.795220Z",
     "shell.execute_reply": "2020-08-23T17:16:06.794501Z"
    },
    "papermill": {
     "duration": 0.04232,
     "end_time": "2020-08-23T17:16:06.795361",
     "exception": false,
     "start_time": "2020-08-23T17:16:06.753041",
     "status": "completed"
    },
    "tags": []
   },
   "outputs": [
    {
     "data": {
      "text/html": [
       "<div>\n",
       "<style scoped>\n",
       "    .dataframe tbody tr th:only-of-type {\n",
       "        vertical-align: middle;\n",
       "    }\n",
       "\n",
       "    .dataframe tbody tr th {\n",
       "        vertical-align: top;\n",
       "    }\n",
       "\n",
       "    .dataframe thead th {\n",
       "        text-align: right;\n",
       "    }\n",
       "</style>\n",
       "<table border=\"1\" class=\"dataframe\">\n",
       "  <thead>\n",
       "    <tr style=\"text-align: right;\">\n",
       "      <th></th>\n",
       "      <th>Candidate</th>\n",
       "      <th>Party</th>\n",
       "      <th>Criminal Cases</th>\n",
       "      <th>Education</th>\n",
       "      <th>Age</th>\n",
       "      <th>City</th>\n",
       "      <th>Year</th>\n",
       "    </tr>\n",
       "  </thead>\n",
       "  <tbody>\n",
       "    <tr>\n",
       "      <th>3144</th>\n",
       "      <td>ATIQUE AHAMAD</td>\n",
       "      <td>SP</td>\n",
       "      <td>36</td>\n",
       "      <td>8th Pass</td>\n",
       "      <td>41</td>\n",
       "      <td>Phulpur</td>\n",
       "      <td>2004</td>\n",
       "    </tr>\n",
       "  </tbody>\n",
       "</table>\n",
       "</div>"
      ],
      "text/plain": [
       "          Candidate Party  Criminal Cases Education  Age     City  Year\n",
       "3144  ATIQUE AHAMAD    SP              36  8th Pass   41  Phulpur  2004"
      ]
     },
     "execution_count": 20,
     "metadata": {},
     "output_type": "execute_result"
    }
   ],
   "source": [
    "candidates_2004[candidates_2004['Criminal Cases'] == candidates_2004['Criminal Cases'].max()]"
   ]
  },
  {
   "cell_type": "code",
   "execution_count": 21,
   "metadata": {
    "execution": {
     "iopub.execute_input": "2020-08-23T17:16:06.910638Z",
     "iopub.status.busy": "2020-08-23T17:16:06.909736Z",
     "iopub.status.idle": "2020-08-23T17:16:06.915124Z",
     "shell.execute_reply": "2020-08-23T17:16:06.914359Z"
    },
    "papermill": {
     "duration": 0.097878,
     "end_time": "2020-08-23T17:16:06.915258",
     "exception": false,
     "start_time": "2020-08-23T17:16:06.817380",
     "status": "completed"
    },
    "tags": []
   },
   "outputs": [
    {
     "data": {
      "text/html": [
       "<div>\n",
       "<style scoped>\n",
       "    .dataframe tbody tr th:only-of-type {\n",
       "        vertical-align: middle;\n",
       "    }\n",
       "\n",
       "    .dataframe tbody tr th {\n",
       "        vertical-align: top;\n",
       "    }\n",
       "\n",
       "    .dataframe thead th {\n",
       "        text-align: right;\n",
       "    }\n",
       "</style>\n",
       "<table border=\"1\" class=\"dataframe\">\n",
       "  <thead>\n",
       "    <tr style=\"text-align: right;\">\n",
       "      <th></th>\n",
       "      <th>Candidate</th>\n",
       "      <th>Party</th>\n",
       "      <th>Criminal Cases</th>\n",
       "      <th>Education</th>\n",
       "      <th>Age</th>\n",
       "      <th>City</th>\n",
       "      <th>Year</th>\n",
       "    </tr>\n",
       "  </thead>\n",
       "  <tbody>\n",
       "    <tr>\n",
       "      <th>2427</th>\n",
       "      <td>KAMESHWAR BAITHA</td>\n",
       "      <td>JMM</td>\n",
       "      <td>46</td>\n",
       "      <td>10th Pass</td>\n",
       "      <td>56</td>\n",
       "      <td>Palamau</td>\n",
       "      <td>2009</td>\n",
       "    </tr>\n",
       "  </tbody>\n",
       "</table>\n",
       "</div>"
      ],
      "text/plain": [
       "             Candidate Party  Criminal Cases  Education  Age     City  Year\n",
       "2427  KAMESHWAR BAITHA   JMM              46  10th Pass   56  Palamau  2009"
      ]
     },
     "execution_count": 21,
     "metadata": {},
     "output_type": "execute_result"
    }
   ],
   "source": [
    "candidates_2009[candidates_2009['Criminal Cases'] == candidates_2009['Criminal Cases'].max()]"
   ]
  },
  {
   "cell_type": "code",
   "execution_count": 22,
   "metadata": {
    "execution": {
     "iopub.execute_input": "2020-08-23T17:16:06.974974Z",
     "iopub.status.busy": "2020-08-23T17:16:06.974050Z",
     "iopub.status.idle": "2020-08-23T17:16:06.979319Z",
     "shell.execute_reply": "2020-08-23T17:16:06.979889Z"
    },
    "papermill": {
     "duration": 0.042767,
     "end_time": "2020-08-23T17:16:06.980077",
     "exception": false,
     "start_time": "2020-08-23T17:16:06.937310",
     "status": "completed"
    },
    "tags": []
   },
   "outputs": [
    {
     "data": {
      "text/html": [
       "<div>\n",
       "<style scoped>\n",
       "    .dataframe tbody tr th:only-of-type {\n",
       "        vertical-align: middle;\n",
       "    }\n",
       "\n",
       "    .dataframe tbody tr th {\n",
       "        vertical-align: top;\n",
       "    }\n",
       "\n",
       "    .dataframe thead th {\n",
       "        text-align: right;\n",
       "    }\n",
       "</style>\n",
       "<table border=\"1\" class=\"dataframe\">\n",
       "  <thead>\n",
       "    <tr style=\"text-align: right;\">\n",
       "      <th></th>\n",
       "      <th>Candidate</th>\n",
       "      <th>Party</th>\n",
       "      <th>Criminal Cases</th>\n",
       "      <th>Education</th>\n",
       "      <th>Age</th>\n",
       "      <th>City</th>\n",
       "      <th>Year</th>\n",
       "    </tr>\n",
       "  </thead>\n",
       "  <tbody>\n",
       "    <tr>\n",
       "      <th>5714</th>\n",
       "      <td>Udayakumar S.p.</td>\n",
       "      <td>AAP</td>\n",
       "      <td>382</td>\n",
       "      <td>Doctorate</td>\n",
       "      <td>54</td>\n",
       "      <td>KANNIYAKUMARI</td>\n",
       "      <td>2014</td>\n",
       "    </tr>\n",
       "  </tbody>\n",
       "</table>\n",
       "</div>"
      ],
      "text/plain": [
       "            Candidate Party  Criminal Cases  Education  Age           City  \\\n",
       "5714  Udayakumar S.p.   AAP             382  Doctorate   54  KANNIYAKUMARI   \n",
       "\n",
       "      Year  \n",
       "5714  2014  "
      ]
     },
     "execution_count": 22,
     "metadata": {},
     "output_type": "execute_result"
    }
   ],
   "source": [
    "candidates_2014[candidates_2014['Criminal Cases'] == candidates_2014['Criminal Cases'].max()]"
   ]
  },
  {
   "cell_type": "code",
   "execution_count": 23,
   "metadata": {
    "execution": {
     "iopub.execute_input": "2020-08-23T17:16:07.041490Z",
     "iopub.status.busy": "2020-08-23T17:16:07.040576Z",
     "iopub.status.idle": "2020-08-23T17:16:07.045157Z",
     "shell.execute_reply": "2020-08-23T17:16:07.045876Z"
    },
    "papermill": {
     "duration": 0.042817,
     "end_time": "2020-08-23T17:16:07.046070",
     "exception": false,
     "start_time": "2020-08-23T17:16:07.003253",
     "status": "completed"
    },
    "tags": []
   },
   "outputs": [
    {
     "data": {
      "text/html": [
       "<div>\n",
       "<style scoped>\n",
       "    .dataframe tbody tr th:only-of-type {\n",
       "        vertical-align: middle;\n",
       "    }\n",
       "\n",
       "    .dataframe tbody tr th {\n",
       "        vertical-align: top;\n",
       "    }\n",
       "\n",
       "    .dataframe thead th {\n",
       "        text-align: right;\n",
       "    }\n",
       "</style>\n",
       "<table border=\"1\" class=\"dataframe\">\n",
       "  <thead>\n",
       "    <tr style=\"text-align: right;\">\n",
       "      <th></th>\n",
       "      <th>Candidate</th>\n",
       "      <th>Party</th>\n",
       "      <th>Criminal Cases</th>\n",
       "      <th>Education</th>\n",
       "      <th>Age</th>\n",
       "      <th>City</th>\n",
       "      <th>Year</th>\n",
       "    </tr>\n",
       "  </thead>\n",
       "  <tbody>\n",
       "    <tr>\n",
       "      <th>2908</th>\n",
       "      <td>K Surendran</td>\n",
       "      <td>BJP</td>\n",
       "      <td>240</td>\n",
       "      <td>Graduate</td>\n",
       "      <td>49</td>\n",
       "      <td>PATHANAMTHITTA</td>\n",
       "      <td>2019</td>\n",
       "    </tr>\n",
       "  </tbody>\n",
       "</table>\n",
       "</div>"
      ],
      "text/plain": [
       "        Candidate Party  Criminal Cases Education  Age            City  Year\n",
       "2908  K Surendran   BJP             240  Graduate   49  PATHANAMTHITTA  2019"
      ]
     },
     "execution_count": 23,
     "metadata": {},
     "output_type": "execute_result"
    }
   ],
   "source": [
    "candidates_2019[candidates_2019['Criminal Cases'] == candidates_2019['Criminal Cases'].max()]"
   ]
  },
  {
   "cell_type": "code",
   "execution_count": 24,
   "metadata": {
    "execution": {
     "iopub.execute_input": "2020-08-23T17:16:07.098813Z",
     "iopub.status.busy": "2020-08-23T17:16:07.097489Z",
     "iopub.status.idle": "2020-08-23T17:16:07.350767Z",
     "shell.execute_reply": "2020-08-23T17:16:07.349936Z"
    },
    "papermill": {
     "duration": 0.282218,
     "end_time": "2020-08-23T17:16:07.350902",
     "exception": false,
     "start_time": "2020-08-23T17:16:07.068684",
     "status": "completed"
    },
    "tags": []
   },
   "outputs": [
    {
     "data": {
      "text/html": [
       "<style  type=\"text/css\" >\n",
       "#T_54f9b156_e564_11ea_9617_0242ac130202row0_col2,#T_54f9b156_e564_11ea_9617_0242ac130202row0_col4,#T_54f9b156_e564_11ea_9617_0242ac130202row4_col4{\n",
       "            background-color:  #004529;\n",
       "            color:  #f1f1f1;\n",
       "        }#T_54f9b156_e564_11ea_9617_0242ac130202row1_col2{\n",
       "            background-color:  #004629;\n",
       "            color:  #f1f1f1;\n",
       "        }#T_54f9b156_e564_11ea_9617_0242ac130202row1_col4{\n",
       "            background-color:  #6bc072;\n",
       "            color:  #000000;\n",
       "        }#T_54f9b156_e564_11ea_9617_0242ac130202row2_col2{\n",
       "            background-color:  #5db96b;\n",
       "            color:  #000000;\n",
       "        }#T_54f9b156_e564_11ea_9617_0242ac130202row2_col4{\n",
       "            background-color:  #2e924c;\n",
       "            color:  #000000;\n",
       "        }#T_54f9b156_e564_11ea_9617_0242ac130202row3_col2{\n",
       "            background-color:  #8ed082;\n",
       "            color:  #000000;\n",
       "        }#T_54f9b156_e564_11ea_9617_0242ac130202row3_col4,#T_54f9b156_e564_11ea_9617_0242ac130202row4_col2{\n",
       "            background-color:  #ffffe5;\n",
       "            color:  #000000;\n",
       "        }</style><table id=\"T_54f9b156_e564_11ea_9617_0242ac130202\" ><thead>    <tr>        <th class=\"blank level0\" ></th>        <th class=\"col_heading level0 col0\" >Candidate</th>        <th class=\"col_heading level0 col1\" >Party</th>        <th class=\"col_heading level0 col2\" >Criminal Cases</th>        <th class=\"col_heading level0 col3\" >Education</th>        <th class=\"col_heading level0 col4\" >Age</th>        <th class=\"col_heading level0 col5\" >City</th>        <th class=\"col_heading level0 col6\" >Year</th>    </tr></thead><tbody>\n",
       "                <tr>\n",
       "                        <th id=\"T_54f9b156_e564_11ea_9617_0242ac130202level0_row0\" class=\"row_heading level0 row0\" >5714</th>\n",
       "                        <td id=\"T_54f9b156_e564_11ea_9617_0242ac130202row0_col0\" class=\"data row0 col0\" >Udayakumar S.p.</td>\n",
       "                        <td id=\"T_54f9b156_e564_11ea_9617_0242ac130202row0_col1\" class=\"data row0 col1\" >AAP</td>\n",
       "                        <td id=\"T_54f9b156_e564_11ea_9617_0242ac130202row0_col2\" class=\"data row0 col2\" >382</td>\n",
       "                        <td id=\"T_54f9b156_e564_11ea_9617_0242ac130202row0_col3\" class=\"data row0 col3\" >Doctorate</td>\n",
       "                        <td id=\"T_54f9b156_e564_11ea_9617_0242ac130202row0_col4\" class=\"data row0 col4\" >54</td>\n",
       "                        <td id=\"T_54f9b156_e564_11ea_9617_0242ac130202row0_col5\" class=\"data row0 col5\" >KANNIYAKUMARI</td>\n",
       "                        <td id=\"T_54f9b156_e564_11ea_9617_0242ac130202row0_col6\" class=\"data row0 col6\" >2014</td>\n",
       "            </tr>\n",
       "            <tr>\n",
       "                        <th id=\"T_54f9b156_e564_11ea_9617_0242ac130202level0_row1\" class=\"row_heading level0 row1\" >6056</th>\n",
       "                        <td id=\"T_54f9b156_e564_11ea_9617_0242ac130202row1_col0\" class=\"data row1 col0\" >M.pushparayan</td>\n",
       "                        <td id=\"T_54f9b156_e564_11ea_9617_0242ac130202row1_col1\" class=\"data row1 col1\" >AAP</td>\n",
       "                        <td id=\"T_54f9b156_e564_11ea_9617_0242ac130202row1_col2\" class=\"data row1 col2\" >380</td>\n",
       "                        <td id=\"T_54f9b156_e564_11ea_9617_0242ac130202row1_col3\" class=\"data row1 col3\" >Post Graduate</td>\n",
       "                        <td id=\"T_54f9b156_e564_11ea_9617_0242ac130202row1_col4\" class=\"data row1 col4\" >46</td>\n",
       "                        <td id=\"T_54f9b156_e564_11ea_9617_0242ac130202row1_col5\" class=\"data row1 col5\" >THOOTHUKKUDI</td>\n",
       "                        <td id=\"T_54f9b156_e564_11ea_9617_0242ac130202row1_col6\" class=\"data row1 col6\" >2014</td>\n",
       "            </tr>\n",
       "            <tr>\n",
       "                        <th id=\"T_54f9b156_e564_11ea_9617_0242ac130202level0_row2\" class=\"row_heading level0 row2\" >2908</th>\n",
       "                        <td id=\"T_54f9b156_e564_11ea_9617_0242ac130202row2_col0\" class=\"data row2 col0\" >K Surendran</td>\n",
       "                        <td id=\"T_54f9b156_e564_11ea_9617_0242ac130202row2_col1\" class=\"data row2 col1\" >BJP</td>\n",
       "                        <td id=\"T_54f9b156_e564_11ea_9617_0242ac130202row2_col2\" class=\"data row2 col2\" >240</td>\n",
       "                        <td id=\"T_54f9b156_e564_11ea_9617_0242ac130202row2_col3\" class=\"data row2 col3\" >Graduate</td>\n",
       "                        <td id=\"T_54f9b156_e564_11ea_9617_0242ac130202row2_col4\" class=\"data row2 col4\" >49</td>\n",
       "                        <td id=\"T_54f9b156_e564_11ea_9617_0242ac130202row2_col5\" class=\"data row2 col5\" >PATHANAMTHITTA</td>\n",
       "                        <td id=\"T_54f9b156_e564_11ea_9617_0242ac130202row2_col6\" class=\"data row2 col6\" >2019</td>\n",
       "            </tr>\n",
       "            <tr>\n",
       "                        <th id=\"T_54f9b156_e564_11ea_9617_0242ac130202level0_row3\" class=\"row_heading level0 row3\" >2818</th>\n",
       "                        <td id=\"T_54f9b156_e564_11ea_9617_0242ac130202row3_col0\" class=\"data row3 col0\" >Dean Kuriakose</td>\n",
       "                        <td id=\"T_54f9b156_e564_11ea_9617_0242ac130202row3_col1\" class=\"data row3 col1\" >INC</td>\n",
       "                        <td id=\"T_54f9b156_e564_11ea_9617_0242ac130202row3_col2\" class=\"data row3 col2\" >204</td>\n",
       "                        <td id=\"T_54f9b156_e564_11ea_9617_0242ac130202row3_col3\" class=\"data row3 col3\" >Post Graduate</td>\n",
       "                        <td id=\"T_54f9b156_e564_11ea_9617_0242ac130202row3_col4\" class=\"data row3 col4\" >37</td>\n",
       "                        <td id=\"T_54f9b156_e564_11ea_9617_0242ac130202row3_col5\" class=\"data row3 col5\" >IDUKKI</td>\n",
       "                        <td id=\"T_54f9b156_e564_11ea_9617_0242ac130202row3_col6\" class=\"data row3 col6\" >2019</td>\n",
       "            </tr>\n",
       "            <tr>\n",
       "                        <th id=\"T_54f9b156_e564_11ea_9617_0242ac130202level0_row4\" class=\"row_heading level0 row4\" >7432</th>\n",
       "                        <td id=\"T_54f9b156_e564_11ea_9617_0242ac130202row4_col0\" class=\"data row4 col0\" >Ateek Ahmad</td>\n",
       "                        <td id=\"T_54f9b156_e564_11ea_9617_0242ac130202row4_col1\" class=\"data row4 col1\" >IND</td>\n",
       "                        <td id=\"T_54f9b156_e564_11ea_9617_0242ac130202row4_col2\" class=\"data row4 col2\" >59</td>\n",
       "                        <td id=\"T_54f9b156_e564_11ea_9617_0242ac130202row4_col3\" class=\"data row4 col3\" >8th Pass</td>\n",
       "                        <td id=\"T_54f9b156_e564_11ea_9617_0242ac130202row4_col4\" class=\"data row4 col4\" >54</td>\n",
       "                        <td id=\"T_54f9b156_e564_11ea_9617_0242ac130202row4_col5\" class=\"data row4 col5\" >VARANASI</td>\n",
       "                        <td id=\"T_54f9b156_e564_11ea_9617_0242ac130202row4_col6\" class=\"data row4 col6\" >2019</td>\n",
       "            </tr>\n",
       "    </tbody></table>"
      ],
      "text/plain": [
       "<pandas.io.formats.style.Styler at 0x7ff27916a990>"
      ]
     },
     "execution_count": 24,
     "metadata": {},
     "output_type": "execute_result"
    }
   ],
   "source": [
    "candidates.sort_values(['Criminal Cases'], ascending=False).head().style.background_gradient(subset = ['Age', 'Criminal Cases'], cmap = 'YlGn')"
   ]
  },
  {
   "cell_type": "markdown",
   "execution_count": null,
   "metadata": {
    "papermill": {
     "duration": 0.022411,
     "end_time": "2020-08-23T17:16:07.396093",
     "exception": false,
     "start_time": "2020-08-23T17:16:07.373682",
     "status": "completed"
    },
    "tags": []
   },
   "source": [
    "## Candidate Udayakumar S.p. has highest number of criminal cases which are 382."
   ]
  },
  {
   "cell_type": "markdown",
   "execution_count": null,
   "metadata": {
    "papermill": {
     "duration": 0.022361,
     "end_time": "2020-08-23T17:16:07.441269",
     "exception": false,
     "start_time": "2020-08-23T17:16:07.418908",
     "status": "completed"
    },
    "tags": []
   },
   "source": [
    "## Parties with total number of criminal cases."
   ]
  },
  {
   "cell_type": "code",
   "execution_count": 25,
   "metadata": {
    "execution": {
     "iopub.execute_input": "2020-08-23T17:16:07.499824Z",
     "iopub.status.busy": "2020-08-23T17:16:07.496855Z",
     "iopub.status.idle": "2020-08-23T17:16:07.521397Z",
     "shell.execute_reply": "2020-08-23T17:16:07.520595Z"
    },
    "papermill": {
     "duration": 0.057646,
     "end_time": "2020-08-23T17:16:07.521555",
     "exception": false,
     "start_time": "2020-08-23T17:16:07.463909",
     "status": "completed"
    },
    "tags": []
   },
   "outputs": [],
   "source": [
    "criminal_cases_2004 = candidates_2004[['Party', 'Criminal Cases']].groupby('Party').sum('Criminal Cases')\n",
    "criminal_cases_2009 = candidates_2009[['Party', 'Criminal Cases']].groupby('Party').sum('Criminal Cases')\n",
    "criminal_cases_2014 = candidates_2014[['Party', 'Criminal Cases']].groupby('Party').sum('Criminal Cases')\n",
    "criminal_cases_2019 = candidates_2019[['Party', 'Criminal Cases']].groupby('Party').sum('Criminal Cases')"
   ]
  },
  {
   "cell_type": "code",
   "execution_count": 26,
   "metadata": {
    "execution": {
     "iopub.execute_input": "2020-08-23T17:16:07.585477Z",
     "iopub.status.busy": "2020-08-23T17:16:07.578704Z",
     "iopub.status.idle": "2020-08-23T17:16:07.591317Z",
     "shell.execute_reply": "2020-08-23T17:16:07.590623Z"
    },
    "papermill": {
     "duration": 0.046708,
     "end_time": "2020-08-23T17:16:07.591448",
     "exception": false,
     "start_time": "2020-08-23T17:16:07.544740",
     "status": "completed"
    },
    "tags": []
   },
   "outputs": [
    {
     "data": {
      "text/html": [
       "<style  type=\"text/css\" >\n",
       "#T_551f1662_e564_11ea_9617_0242ac130202row0_col0{\n",
       "            background-color:  #023858;\n",
       "            color:  #f1f1f1;\n",
       "        }#T_551f1662_e564_11ea_9617_0242ac130202row1_col0{\n",
       "            background-color:  #0d75b3;\n",
       "            color:  #f1f1f1;\n",
       "        }#T_551f1662_e564_11ea_9617_0242ac130202row2_col0{\n",
       "            background-color:  #2a88bc;\n",
       "            color:  #000000;\n",
       "        }#T_551f1662_e564_11ea_9617_0242ac130202row3_col0{\n",
       "            background-color:  #4c99c5;\n",
       "            color:  #000000;\n",
       "        }#T_551f1662_e564_11ea_9617_0242ac130202row4_col0{\n",
       "            background-color:  #b4c4df;\n",
       "            color:  #000000;\n",
       "        }#T_551f1662_e564_11ea_9617_0242ac130202row5_col0{\n",
       "            background-color:  #e4e1ef;\n",
       "            color:  #000000;\n",
       "        }#T_551f1662_e564_11ea_9617_0242ac130202row6_col0{\n",
       "            background-color:  #f0eaf4;\n",
       "            color:  #000000;\n",
       "        }#T_551f1662_e564_11ea_9617_0242ac130202row7_col0{\n",
       "            background-color:  #f4eef6;\n",
       "            color:  #000000;\n",
       "        }#T_551f1662_e564_11ea_9617_0242ac130202row8_col0{\n",
       "            background-color:  #f8f1f8;\n",
       "            color:  #000000;\n",
       "        }#T_551f1662_e564_11ea_9617_0242ac130202row9_col0{\n",
       "            background-color:  #fff7fb;\n",
       "            color:  #000000;\n",
       "        }</style><table id=\"T_551f1662_e564_11ea_9617_0242ac130202\" ><thead>    <tr>        <th class=\"blank level0\" ></th>        <th class=\"col_heading level0 col0\" >Criminal Cases</th>    </tr>    <tr>        <th class=\"index_name level0\" >Party</th>        <th class=\"blank\" ></th>    </tr></thead><tbody>\n",
       "                <tr>\n",
       "                        <th id=\"T_551f1662_e564_11ea_9617_0242ac130202level0_row0\" class=\"row_heading level0 row0\" >IND</th>\n",
       "                        <td id=\"T_551f1662_e564_11ea_9617_0242ac130202row0_col0\" class=\"data row0 col0\" >233</td>\n",
       "            </tr>\n",
       "            <tr>\n",
       "                        <th id=\"T_551f1662_e564_11ea_9617_0242ac130202level0_row1\" class=\"row_heading level0 row1\" >SP</th>\n",
       "                        <td id=\"T_551f1662_e564_11ea_9617_0242ac130202row1_col0\" class=\"data row1 col0\" >181</td>\n",
       "            </tr>\n",
       "            <tr>\n",
       "                        <th id=\"T_551f1662_e564_11ea_9617_0242ac130202level0_row2\" class=\"row_heading level0 row2\" >BSP</th>\n",
       "                        <td id=\"T_551f1662_e564_11ea_9617_0242ac130202row2_col0\" class=\"data row2 col0\" >167</td>\n",
       "            </tr>\n",
       "            <tr>\n",
       "                        <th id=\"T_551f1662_e564_11ea_9617_0242ac130202level0_row3\" class=\"row_heading level0 row3\" >BJP</th>\n",
       "                        <td id=\"T_551f1662_e564_11ea_9617_0242ac130202row3_col0\" class=\"data row3 col0\" >153</td>\n",
       "            </tr>\n",
       "            <tr>\n",
       "                        <th id=\"T_551f1662_e564_11ea_9617_0242ac130202level0_row4\" class=\"row_heading level0 row4\" >INC</th>\n",
       "                        <td id=\"T_551f1662_e564_11ea_9617_0242ac130202row4_col0\" class=\"data row4 col0\" >106</td>\n",
       "            </tr>\n",
       "            <tr>\n",
       "                        <th id=\"T_551f1662_e564_11ea_9617_0242ac130202level0_row5\" class=\"row_heading level0 row5\" >LJNSP</th>\n",
       "                        <td id=\"T_551f1662_e564_11ea_9617_0242ac130202row5_col0\" class=\"data row5 col0\" >73</td>\n",
       "            </tr>\n",
       "            <tr>\n",
       "                        <th id=\"T_551f1662_e564_11ea_9617_0242ac130202level0_row6\" class=\"row_heading level0 row6\" >SHS</th>\n",
       "                        <td id=\"T_551f1662_e564_11ea_9617_0242ac130202row6_col0\" class=\"data row6 col0\" >62</td>\n",
       "            </tr>\n",
       "            <tr>\n",
       "                        <th id=\"T_551f1662_e564_11ea_9617_0242ac130202level0_row7\" class=\"row_heading level0 row7\" >RJD</th>\n",
       "                        <td id=\"T_551f1662_e564_11ea_9617_0242ac130202row7_col0\" class=\"data row7 col0\" >56</td>\n",
       "            </tr>\n",
       "            <tr>\n",
       "                        <th id=\"T_551f1662_e564_11ea_9617_0242ac130202level0_row8\" class=\"row_heading level0 row8\" >CPI(ML)(L)</th>\n",
       "                        <td id=\"T_551f1662_e564_11ea_9617_0242ac130202row8_col0\" class=\"data row8 col0\" >51</td>\n",
       "            </tr>\n",
       "            <tr>\n",
       "                        <th id=\"T_551f1662_e564_11ea_9617_0242ac130202level0_row9\" class=\"row_heading level0 row9\" >CPM</th>\n",
       "                        <td id=\"T_551f1662_e564_11ea_9617_0242ac130202row9_col0\" class=\"data row9 col0\" >42</td>\n",
       "            </tr>\n",
       "    </tbody></table>"
      ],
      "text/plain": [
       "<pandas.io.formats.style.Styler at 0x7ff278fe2f90>"
      ]
     },
     "execution_count": 26,
     "metadata": {},
     "output_type": "execute_result"
    }
   ],
   "source": [
    "criminal_cases_2004.sort_values(['Criminal Cases'], ascending=False).head(10).style.background_gradient(subset = ['Criminal Cases'], cmap = 'PuBu')"
   ]
  },
  {
   "cell_type": "code",
   "execution_count": 27,
   "metadata": {
    "execution": {
     "iopub.execute_input": "2020-08-23T17:16:07.649070Z",
     "iopub.status.busy": "2020-08-23T17:16:07.648223Z",
     "iopub.status.idle": "2020-08-23T17:16:07.659512Z",
     "shell.execute_reply": "2020-08-23T17:16:07.658755Z"
    },
    "papermill": {
     "duration": 0.044703,
     "end_time": "2020-08-23T17:16:07.659669",
     "exception": false,
     "start_time": "2020-08-23T17:16:07.614966",
     "status": "completed"
    },
    "tags": []
   },
   "outputs": [
    {
     "data": {
      "text/html": [
       "<style  type=\"text/css\" >\n",
       "#T_55299f24_e564_11ea_9617_0242ac130202row0_col0{\n",
       "            background-color:  #023858;\n",
       "            color:  #f1f1f1;\n",
       "        }#T_55299f24_e564_11ea_9617_0242ac130202row1_col0{\n",
       "            background-color:  #b8c6e0;\n",
       "            color:  #000000;\n",
       "        }#T_55299f24_e564_11ea_9617_0242ac130202row2_col0{\n",
       "            background-color:  #cdd0e5;\n",
       "            color:  #000000;\n",
       "        }#T_55299f24_e564_11ea_9617_0242ac130202row3_col0{\n",
       "            background-color:  #d4d4e8;\n",
       "            color:  #000000;\n",
       "        }#T_55299f24_e564_11ea_9617_0242ac130202row4_col0{\n",
       "            background-color:  #e0deed;\n",
       "            color:  #000000;\n",
       "        }#T_55299f24_e564_11ea_9617_0242ac130202row5_col0{\n",
       "            background-color:  #f4edf6;\n",
       "            color:  #000000;\n",
       "        }#T_55299f24_e564_11ea_9617_0242ac130202row6_col0{\n",
       "            background-color:  #f5eef6;\n",
       "            color:  #000000;\n",
       "        }#T_55299f24_e564_11ea_9617_0242ac130202row7_col0,#T_55299f24_e564_11ea_9617_0242ac130202row8_col0{\n",
       "            background-color:  #fbf3f9;\n",
       "            color:  #000000;\n",
       "        }#T_55299f24_e564_11ea_9617_0242ac130202row9_col0{\n",
       "            background-color:  #fff7fb;\n",
       "            color:  #000000;\n",
       "        }</style><table id=\"T_55299f24_e564_11ea_9617_0242ac130202\" ><thead>    <tr>        <th class=\"blank level0\" ></th>        <th class=\"col_heading level0 col0\" >Criminal Cases</th>    </tr>    <tr>        <th class=\"index_name level0\" >Party</th>        <th class=\"blank\" ></th>    </tr></thead><tbody>\n",
       "                <tr>\n",
       "                        <th id=\"T_55299f24_e564_11ea_9617_0242ac130202level0_row0\" class=\"row_heading level0 row0\" >IND</th>\n",
       "                        <td id=\"T_55299f24_e564_11ea_9617_0242ac130202row0_col0\" class=\"data row0 col0\" >755</td>\n",
       "            </tr>\n",
       "            <tr>\n",
       "                        <th id=\"T_55299f24_e564_11ea_9617_0242ac130202level0_row1\" class=\"row_heading level0 row1\" >BJP</th>\n",
       "                        <td id=\"T_55299f24_e564_11ea_9617_0242ac130202row1_col0\" class=\"data row1 col0\" >284</td>\n",
       "            </tr>\n",
       "            <tr>\n",
       "                        <th id=\"T_55299f24_e564_11ea_9617_0242ac130202level0_row2\" class=\"row_heading level0 row2\" >BSP</th>\n",
       "                        <td id=\"T_55299f24_e564_11ea_9617_0242ac130202row2_col0\" class=\"data row2 col0\" >241</td>\n",
       "            </tr>\n",
       "            <tr>\n",
       "                        <th id=\"T_55299f24_e564_11ea_9617_0242ac130202level0_row3\" class=\"row_heading level0 row3\" >INC</th>\n",
       "                        <td id=\"T_55299f24_e564_11ea_9617_0242ac130202row3_col0\" class=\"data row3 col0\" >222</td>\n",
       "            </tr>\n",
       "            <tr>\n",
       "                        <th id=\"T_55299f24_e564_11ea_9617_0242ac130202level0_row4\" class=\"row_heading level0 row4\" >SP</th>\n",
       "                        <td id=\"T_55299f24_e564_11ea_9617_0242ac130202row4_col0\" class=\"data row4 col0\" >183</td>\n",
       "            </tr>\n",
       "            <tr>\n",
       "                        <th id=\"T_55299f24_e564_11ea_9617_0242ac130202level0_row5\" class=\"row_heading level0 row5\" >CPI(ML)(L)</th>\n",
       "                        <td id=\"T_55299f24_e564_11ea_9617_0242ac130202row5_col0\" class=\"data row5 col0\" >114</td>\n",
       "            </tr>\n",
       "            <tr>\n",
       "                        <th id=\"T_55299f24_e564_11ea_9617_0242ac130202level0_row6\" class=\"row_heading level0 row6\" >CPM</th>\n",
       "                        <td id=\"T_55299f24_e564_11ea_9617_0242ac130202row6_col0\" class=\"data row6 col0\" >109</td>\n",
       "            </tr>\n",
       "            <tr>\n",
       "                        <th id=\"T_55299f24_e564_11ea_9617_0242ac130202level0_row7\" class=\"row_heading level0 row7\" >JMM</th>\n",
       "                        <td id=\"T_55299f24_e564_11ea_9617_0242ac130202row7_col0\" class=\"data row7 col0\" >81</td>\n",
       "            </tr>\n",
       "            <tr>\n",
       "                        <th id=\"T_55299f24_e564_11ea_9617_0242ac130202level0_row8\" class=\"row_heading level0 row8\" >SHS</th>\n",
       "                        <td id=\"T_55299f24_e564_11ea_9617_0242ac130202row8_col0\" class=\"data row8 col0\" >80</td>\n",
       "            </tr>\n",
       "            <tr>\n",
       "                        <th id=\"T_55299f24_e564_11ea_9617_0242ac130202level0_row9\" class=\"row_heading level0 row9\" >JD(S)</th>\n",
       "                        <td id=\"T_55299f24_e564_11ea_9617_0242ac130202row9_col0\" class=\"data row9 col0\" >61</td>\n",
       "            </tr>\n",
       "    </tbody></table>"
      ],
      "text/plain": [
       "<pandas.io.formats.style.Styler at 0x7ff278ff63d0>"
      ]
     },
     "execution_count": 27,
     "metadata": {},
     "output_type": "execute_result"
    }
   ],
   "source": [
    "criminal_cases_2009.sort_values(['Criminal Cases'], ascending=False).head(10).style.background_gradient(subset = ['Criminal Cases'], cmap = 'PuBu')"
   ]
  },
  {
   "cell_type": "code",
   "execution_count": 28,
   "metadata": {
    "execution": {
     "iopub.execute_input": "2020-08-23T17:16:07.715559Z",
     "iopub.status.busy": "2020-08-23T17:16:07.714335Z",
     "iopub.status.idle": "2020-08-23T17:16:07.730279Z",
     "shell.execute_reply": "2020-08-23T17:16:07.730837Z"
    },
    "papermill": {
     "duration": 0.047239,
     "end_time": "2020-08-23T17:16:07.731027",
     "exception": false,
     "start_time": "2020-08-23T17:16:07.683788",
     "status": "completed"
    },
    "tags": []
   },
   "outputs": [
    {
     "data": {
      "text/html": [
       "<style  type=\"text/css\" >\n",
       "#T_553478d6_e564_11ea_9617_0242ac130202row0_col0{\n",
       "            background-color:  #023858;\n",
       "            color:  #f1f1f1;\n",
       "        }#T_553478d6_e564_11ea_9617_0242ac130202row1_col0{\n",
       "            background-color:  #197db7;\n",
       "            color:  #000000;\n",
       "        }#T_553478d6_e564_11ea_9617_0242ac130202row2_col0{\n",
       "            background-color:  #78abd0;\n",
       "            color:  #000000;\n",
       "        }#T_553478d6_e564_11ea_9617_0242ac130202row3_col0{\n",
       "            background-color:  #b3c3de;\n",
       "            color:  #000000;\n",
       "        }#T_553478d6_e564_11ea_9617_0242ac130202row4_col0{\n",
       "            background-color:  #d2d3e7;\n",
       "            color:  #000000;\n",
       "        }#T_553478d6_e564_11ea_9617_0242ac130202row5_col0{\n",
       "            background-color:  #dbdaeb;\n",
       "            color:  #000000;\n",
       "        }#T_553478d6_e564_11ea_9617_0242ac130202row6_col0{\n",
       "            background-color:  #f4eef6;\n",
       "            color:  #000000;\n",
       "        }#T_553478d6_e564_11ea_9617_0242ac130202row7_col0{\n",
       "            background-color:  #faf3f9;\n",
       "            color:  #000000;\n",
       "        }#T_553478d6_e564_11ea_9617_0242ac130202row8_col0,#T_553478d6_e564_11ea_9617_0242ac130202row9_col0{\n",
       "            background-color:  #fff7fb;\n",
       "            color:  #000000;\n",
       "        }</style><table id=\"T_553478d6_e564_11ea_9617_0242ac130202\" ><thead>    <tr>        <th class=\"blank level0\" ></th>        <th class=\"col_heading level0 col0\" >Criminal Cases</th>    </tr>    <tr>        <th class=\"index_name level0\" >Party</th>        <th class=\"blank\" ></th>    </tr></thead><tbody>\n",
       "                <tr>\n",
       "                        <th id=\"T_553478d6_e564_11ea_9617_0242ac130202level0_row0\" class=\"row_heading level0 row0\" >AAP</th>\n",
       "                        <td id=\"T_553478d6_e564_11ea_9617_0242ac130202row0_col0\" class=\"data row0 col0\" >911</td>\n",
       "            </tr>\n",
       "            <tr>\n",
       "                        <th id=\"T_553478d6_e564_11ea_9617_0242ac130202level0_row1\" class=\"row_heading level0 row1\" >IND</th>\n",
       "                        <td id=\"T_553478d6_e564_11ea_9617_0242ac130202row1_col0\" class=\"data row1 col0\" >663</td>\n",
       "            </tr>\n",
       "            <tr>\n",
       "                        <th id=\"T_553478d6_e564_11ea_9617_0242ac130202level0_row2\" class=\"row_heading level0 row2\" >BJP</th>\n",
       "                        <td id=\"T_553478d6_e564_11ea_9617_0242ac130202row2_col0\" class=\"data row2 col0\" >492</td>\n",
       "            </tr>\n",
       "            <tr>\n",
       "                        <th id=\"T_553478d6_e564_11ea_9617_0242ac130202level0_row3\" class=\"row_heading level0 row3\" >INC</th>\n",
       "                        <td id=\"T_553478d6_e564_11ea_9617_0242ac130202row3_col0\" class=\"data row3 col0\" >368</td>\n",
       "            </tr>\n",
       "            <tr>\n",
       "                        <th id=\"T_553478d6_e564_11ea_9617_0242ac130202level0_row4\" class=\"row_heading level0 row4\" >BSP</th>\n",
       "                        <td id=\"T_553478d6_e564_11ea_9617_0242ac130202row4_col0\" class=\"data row4 col0\" >288</td>\n",
       "            </tr>\n",
       "            <tr>\n",
       "                        <th id=\"T_553478d6_e564_11ea_9617_0242ac130202level0_row5\" class=\"row_heading level0 row5\" >SP</th>\n",
       "                        <td id=\"T_553478d6_e564_11ea_9617_0242ac130202row5_col0\" class=\"data row5 col0\" >257</td>\n",
       "            </tr>\n",
       "            <tr>\n",
       "                        <th id=\"T_553478d6_e564_11ea_9617_0242ac130202level0_row6\" class=\"row_heading level0 row6\" >CPI(M)</th>\n",
       "                        <td id=\"T_553478d6_e564_11ea_9617_0242ac130202row6_col0\" class=\"data row6 col0\" >152</td>\n",
       "            </tr>\n",
       "            <tr>\n",
       "                        <th id=\"T_553478d6_e564_11ea_9617_0242ac130202level0_row7\" class=\"row_heading level0 row7\" >CPI(ML)L</th>\n",
       "                        <td id=\"T_553478d6_e564_11ea_9617_0242ac130202row7_col0\" class=\"data row7 col0\" >120</td>\n",
       "            </tr>\n",
       "            <tr>\n",
       "                        <th id=\"T_553478d6_e564_11ea_9617_0242ac130202level0_row8\" class=\"row_heading level0 row8\" >JD(U)</th>\n",
       "                        <td id=\"T_553478d6_e564_11ea_9617_0242ac130202row8_col0\" class=\"data row8 col0\" >94</td>\n",
       "            </tr>\n",
       "            <tr>\n",
       "                        <th id=\"T_553478d6_e564_11ea_9617_0242ac130202level0_row9\" class=\"row_heading level0 row9\" >AITC</th>\n",
       "                        <td id=\"T_553478d6_e564_11ea_9617_0242ac130202row9_col0\" class=\"data row9 col0\" >92</td>\n",
       "            </tr>\n",
       "    </tbody></table>"
      ],
      "text/plain": [
       "<pandas.io.formats.style.Styler at 0x7ff278fe2e90>"
      ]
     },
     "execution_count": 28,
     "metadata": {},
     "output_type": "execute_result"
    }
   ],
   "source": [
    "criminal_cases_2014.sort_values(['Criminal Cases'], ascending=False).head(10).style.background_gradient(subset = ['Criminal Cases'], cmap = 'PuBu')"
   ]
  },
  {
   "cell_type": "code",
   "execution_count": 29,
   "metadata": {
    "execution": {
     "iopub.execute_input": "2020-08-23T17:16:07.789444Z",
     "iopub.status.busy": "2020-08-23T17:16:07.785772Z",
     "iopub.status.idle": "2020-08-23T17:16:07.801469Z",
     "shell.execute_reply": "2020-08-23T17:16:07.800730Z"
    },
    "papermill": {
     "duration": 0.046441,
     "end_time": "2020-08-23T17:16:07.801622",
     "exception": false,
     "start_time": "2020-08-23T17:16:07.755181",
     "status": "completed"
    },
    "tags": []
   },
   "outputs": [
    {
     "data": {
      "text/html": [
       "<style  type=\"text/css\" >\n",
       "#T_553f3ed8_e564_11ea_9617_0242ac130202row0_col0{\n",
       "            background-color:  #023858;\n",
       "            color:  #f1f1f1;\n",
       "        }#T_553f3ed8_e564_11ea_9617_0242ac130202row1_col0{\n",
       "            background-color:  #03446a;\n",
       "            color:  #f1f1f1;\n",
       "        }#T_553f3ed8_e564_11ea_9617_0242ac130202row2_col0{\n",
       "            background-color:  #056dab;\n",
       "            color:  #f1f1f1;\n",
       "        }#T_553f3ed8_e564_11ea_9617_0242ac130202row3_col0{\n",
       "            background-color:  #dddbec;\n",
       "            color:  #000000;\n",
       "        }#T_553f3ed8_e564_11ea_9617_0242ac130202row4_col0{\n",
       "            background-color:  #f1ebf5;\n",
       "            color:  #000000;\n",
       "        }#T_553f3ed8_e564_11ea_9617_0242ac130202row5_col0{\n",
       "            background-color:  #f6eff7;\n",
       "            color:  #000000;\n",
       "        }#T_553f3ed8_e564_11ea_9617_0242ac130202row6_col0{\n",
       "            background-color:  #faf3f9;\n",
       "            color:  #000000;\n",
       "        }#T_553f3ed8_e564_11ea_9617_0242ac130202row7_col0{\n",
       "            background-color:  #fef6fa;\n",
       "            color:  #000000;\n",
       "        }#T_553f3ed8_e564_11ea_9617_0242ac130202row8_col0,#T_553f3ed8_e564_11ea_9617_0242ac130202row9_col0{\n",
       "            background-color:  #fff7fb;\n",
       "            color:  #000000;\n",
       "        }</style><table id=\"T_553f3ed8_e564_11ea_9617_0242ac130202\" ><thead>    <tr>        <th class=\"blank level0\" ></th>        <th class=\"col_heading level0 col0\" >Criminal Cases</th>    </tr>    <tr>        <th class=\"index_name level0\" >Party</th>        <th class=\"blank\" ></th>    </tr></thead><tbody>\n",
       "                <tr>\n",
       "                        <th id=\"T_553f3ed8_e564_11ea_9617_0242ac130202level0_row0\" class=\"row_heading level0 row0\" >IND</th>\n",
       "                        <td id=\"T_553f3ed8_e564_11ea_9617_0242ac130202row0_col0\" class=\"data row0 col0\" >950</td>\n",
       "            </tr>\n",
       "            <tr>\n",
       "                        <th id=\"T_553f3ed8_e564_11ea_9617_0242ac130202level0_row1\" class=\"row_heading level0 row1\" >BJP</th>\n",
       "                        <td id=\"T_553f3ed8_e564_11ea_9617_0242ac130202row1_col0\" class=\"data row1 col0\" >910</td>\n",
       "            </tr>\n",
       "            <tr>\n",
       "                        <th id=\"T_553f3ed8_e564_11ea_9617_0242ac130202level0_row2\" class=\"row_heading level0 row2\" >INC</th>\n",
       "                        <td id=\"T_553f3ed8_e564_11ea_9617_0242ac130202row2_col0\" class=\"data row2 col0\" >743</td>\n",
       "            </tr>\n",
       "            <tr>\n",
       "                        <th id=\"T_553f3ed8_e564_11ea_9617_0242ac130202level0_row3\" class=\"row_heading level0 row3\" >BSP</th>\n",
       "                        <td id=\"T_553f3ed8_e564_11ea_9617_0242ac130202row3_col0\" class=\"data row3 col0\" >226</td>\n",
       "            </tr>\n",
       "            <tr>\n",
       "                        <th id=\"T_553f3ed8_e564_11ea_9617_0242ac130202level0_row4\" class=\"row_heading level0 row4\" >CPI(M)</th>\n",
       "                        <td id=\"T_553f3ed8_e564_11ea_9617_0242ac130202row4_col0\" class=\"data row4 col0\" >135</td>\n",
       "            </tr>\n",
       "            <tr>\n",
       "                        <th id=\"T_553f3ed8_e564_11ea_9617_0242ac130202level0_row5\" class=\"row_heading level0 row5\" >SHS</th>\n",
       "                        <td id=\"T_553f3ed8_e564_11ea_9617_0242ac130202row5_col0\" class=\"data row5 col0\" >105</td>\n",
       "            </tr>\n",
       "            <tr>\n",
       "                        <th id=\"T_553f3ed8_e564_11ea_9617_0242ac130202level0_row6\" class=\"row_heading level0 row6\" >SP</th>\n",
       "                        <td id=\"T_553f3ed8_e564_11ea_9617_0242ac130202row6_col0\" class=\"data row6 col0\" >81</td>\n",
       "            </tr>\n",
       "            <tr>\n",
       "                        <th id=\"T_553f3ed8_e564_11ea_9617_0242ac130202level0_row7\" class=\"row_heading level0 row7\" >NCP</th>\n",
       "                        <td id=\"T_553f3ed8_e564_11ea_9617_0242ac130202row7_col0\" class=\"data row7 col0\" >61</td>\n",
       "            </tr>\n",
       "            <tr>\n",
       "                        <th id=\"T_553f3ed8_e564_11ea_9617_0242ac130202level0_row8\" class=\"row_heading level0 row8\" >RJD</th>\n",
       "                        <td id=\"T_553f3ed8_e564_11ea_9617_0242ac130202row8_col0\" class=\"data row8 col0\" >52</td>\n",
       "            </tr>\n",
       "            <tr>\n",
       "                        <th id=\"T_553f3ed8_e564_11ea_9617_0242ac130202level0_row9\" class=\"row_heading level0 row9\" >AITC</th>\n",
       "                        <td id=\"T_553f3ed8_e564_11ea_9617_0242ac130202row9_col0\" class=\"data row9 col0\" >52</td>\n",
       "            </tr>\n",
       "    </tbody></table>"
      ],
      "text/plain": [
       "<pandas.io.formats.style.Styler at 0x7ff279105390>"
      ]
     },
     "execution_count": 29,
     "metadata": {},
     "output_type": "execute_result"
    }
   ],
   "source": [
    "criminal_cases_2019.sort_values(['Criminal Cases'], ascending=False).head(10).style.background_gradient(subset = ['Criminal Cases'], cmap = 'PuBu')"
   ]
  },
  {
   "cell_type": "markdown",
   "execution_count": null,
   "metadata": {
    "papermill": {
     "duration": 0.023944,
     "end_time": "2020-08-23T17:16:07.849944",
     "exception": false,
     "start_time": "2020-08-23T17:16:07.826000",
     "status": "completed"
    },
    "tags": []
   },
   "source": [
    "## Independent candidates have highest number of criminal cases each year except 2014. "
   ]
  },
  {
   "cell_type": "markdown",
   "execution_count": null,
   "metadata": {
    "papermill": {
     "duration": 0.02411,
     "end_time": "2020-08-23T17:16:07.898510",
     "exception": false,
     "start_time": "2020-08-23T17:16:07.874400",
     "status": "completed"
    },
    "tags": []
   },
   "source": [
    "## Number of candidate participated from each Party."
   ]
  },
  {
   "cell_type": "code",
   "execution_count": 30,
   "metadata": {
    "execution": {
     "iopub.execute_input": "2020-08-23T17:16:07.967983Z",
     "iopub.status.busy": "2020-08-23T17:16:07.964767Z",
     "iopub.status.idle": "2020-08-23T17:16:08.279074Z",
     "shell.execute_reply": "2020-08-23T17:16:08.278364Z"
    },
    "papermill": {
     "duration": 0.356203,
     "end_time": "2020-08-23T17:16:08.279214",
     "exception": false,
     "start_time": "2020-08-23T17:16:07.923011",
     "status": "completed"
    },
    "tags": []
   },
   "outputs": [
    {
     "data": {
      "text/plain": [
       "Text(0.5, 1.0, 'Different Political Party and Candidate Count')"
      ]
     },
     "execution_count": 30,
     "metadata": {},
     "output_type": "execute_result"
    },
    {
     "data": {
      "image/png": "[encoded data removed]",
      "text/plain": [
       "<Figure size 432x288 with 1 Axes>"
      ]
     },
     "metadata": {},
     "output_type": "display_data"
    }
   ],
   "source": [
    "loc = candidates[\"Party\"].value_counts()\n",
    "sns.set(style=\"whitegrid\")\n",
    "sns.barplot(y=loc[:10], x=loc[:10].index, palette=\"Set2\")\n",
    "plt.xticks(rotation=90)\n",
    "plt.xlabel('Party')\n",
    "plt.ylabel('Candidate Count')\n",
    "plt.title(\"Different Political Party and Candidate Count\", fontweight=\"bold\")"
   ]
  },
  {
   "cell_type": "code",
   "execution_count": 31,
   "metadata": {
    "execution": {
     "iopub.execute_input": "2020-08-23T17:16:08.363337Z",
     "iopub.status.busy": "2020-08-23T17:16:08.356751Z",
     "iopub.status.idle": "2020-08-23T17:16:08.727578Z",
     "shell.execute_reply": "2020-08-23T17:16:08.728154Z"
    },
    "papermill": {
     "duration": 0.42304,
     "end_time": "2020-08-23T17:16:08.728319",
     "exception": false,
     "start_time": "2020-08-23T17:16:08.305279",
     "status": "completed"
    },
    "tags": []
   },
   "outputs": [
    {
     "data": {
      "image/png": "[encoded data removed]",
      "text/plain": [
       "<Figure size 648x720 with 1 Axes>"
      ]
     },
     "metadata": {},
     "output_type": "display_data"
    }
   ],
   "source": [
    "plt.figure(figsize=(9,10))\n",
    "ax = sns.barplot(x=loc[:10], y=loc[:10].index,\n",
    "                 palette=\"tab20c\",\n",
    "                 linewidth = 1)\n",
    "for i,j in enumerate(loc[:10]):\n",
    "    ax.text(.5, i, j, weight=\"bold\", color = 'black', fontsize = 13)\n",
    "plt.title(\"Population of each country in 2020\")\n",
    "ax.set_xlabel(xlabel = 'Candidate Count', fontsize = 10)\n",
    "ax.set_ylabel(ylabel = 'Party', fontsize = 10)\n",
    "plt.show()"
   ]
  },
  {
   "cell_type": "markdown",
   "execution_count": null,
   "metadata": {
    "papermill": {
     "duration": 0.024582,
     "end_time": "2020-08-23T17:16:08.777979",
     "exception": false,
     "start_time": "2020-08-23T17:16:08.753397",
     "status": "completed"
    },
    "tags": []
   },
   "source": [
    "## Education of each candidate."
   ]
  },
  {
   "cell_type": "code",
   "execution_count": 32,
   "metadata": {
    "execution": {
     "iopub.execute_input": "2020-08-23T17:16:08.875232Z",
     "iopub.status.busy": "2020-08-23T17:16:08.841637Z",
     "iopub.status.idle": "2020-08-23T17:16:09.255382Z",
     "shell.execute_reply": "2020-08-23T17:16:09.254628Z"
    },
    "papermill": {
     "duration": 0.452277,
     "end_time": "2020-08-23T17:16:09.255515",
     "exception": false,
     "start_time": "2020-08-23T17:16:08.803238",
     "status": "completed"
    },
    "tags": []
   },
   "outputs": [
    {
     "data": {
      "image/png": "[encoded data removed]",
      "text/plain": [
       "<Figure size 1440x864 with 1 Axes>"
      ]
     },
     "metadata": {},
     "output_type": "display_data"
    }
   ],
   "source": [
    "plt.figure(figsize=(20,12))\n",
    "edgecolor=(0,0,0),\n",
    "sns.countplot(candidates['Education'].sort_values(), palette = \"Dark2\", edgecolor=(0,0,0))\n",
    "plt.title(\"Candidate Education Count\",fontsize=20)\n",
    "plt.xlabel('Education')\n",
    "plt.ylabel('Count')\n",
    "plt.xticks(fontsize=12,rotation=90)\n",
    "plt.show()"
   ]
  },
  {
   "cell_type": "markdown",
   "execution_count": null,
   "metadata": {
    "papermill": {
     "duration": 0.025443,
     "end_time": "2020-08-23T17:16:09.307106",
     "exception": false,
     "start_time": "2020-08-23T17:16:09.281663",
     "status": "completed"
    },
    "tags": []
   },
   "source": [
    "## Most comman education level is Graduation. "
   ]
  },
  {
   "cell_type": "code",
   "execution_count": 33,
   "metadata": {
    "execution": {
     "iopub.execute_input": "2020-08-23T17:16:09.374440Z",
     "iopub.status.busy": "2020-08-23T17:16:09.373363Z",
     "iopub.status.idle": "2020-08-23T17:16:09.376773Z",
     "shell.execute_reply": "2020-08-23T17:16:09.375997Z"
    },
    "papermill": {
     "duration": 0.044219,
     "end_time": "2020-08-23T17:16:09.376909",
     "exception": false,
     "start_time": "2020-08-23T17:16:09.332690",
     "status": "completed"
    },
    "tags": []
   },
   "outputs": [],
   "source": [
    "candidate_education = candidates['Education'].value_counts()"
   ]
  },
  {
   "cell_type": "code",
   "execution_count": 34,
   "metadata": {
    "execution": {
     "iopub.execute_input": "2020-08-23T17:16:09.436367Z",
     "iopub.status.busy": "2020-08-23T17:16:09.435311Z",
     "iopub.status.idle": "2020-08-23T17:16:09.439965Z",
     "shell.execute_reply": "2020-08-23T17:16:09.440557Z"
    },
    "papermill": {
     "duration": 0.037791,
     "end_time": "2020-08-23T17:16:09.440740",
     "exception": false,
     "start_time": "2020-08-23T17:16:09.402949",
     "status": "completed"
    },
    "tags": []
   },
   "outputs": [
    {
     "data": {
      "text/plain": [
       "Graduate                 5305\n",
       "Post Graduate            4606\n",
       "10th Pass                4082\n",
       "12th Pass                3773\n",
       "Graduate Professional    2715\n",
       "8th Pass                 2150\n",
       "Not Given                1276\n",
       "Literate                 1181\n",
       "5th Pass                 1167\n",
       "Others                    709\n",
       "Doctorate                 672\n",
       "Illiterate                378\n",
       "Name: Education, dtype: int64"
      ]
     },
     "execution_count": 34,
     "metadata": {},
     "output_type": "execute_result"
    }
   ],
   "source": [
    "candidate_education"
   ]
  },
  {
   "cell_type": "code",
   "execution_count": 35,
   "metadata": {
    "execution": {
     "iopub.execute_input": "2020-08-23T17:16:09.508221Z",
     "iopub.status.busy": "2020-08-23T17:16:09.501899Z",
     "iopub.status.idle": "2020-08-23T17:16:09.674602Z",
     "shell.execute_reply": "2020-08-23T17:16:09.675237Z"
    },
    "papermill": {
     "duration": 0.208166,
     "end_time": "2020-08-23T17:16:09.675412",
     "exception": false,
     "start_time": "2020-08-23T17:16:09.467246",
     "status": "completed"
    },
    "tags": []
   },
   "outputs": [
    {
     "data": {
      "image/png": "[encoded data removed]",
      "text/plain": [
       "<Figure size 1440x864 with 1 Axes>"
      ]
     },
     "metadata": {},
     "output_type": "display_data"
    }
   ],
   "source": [
    "plt.figure(figsize=(20,12))\n",
    "wedge_dict = {\n",
    "    'edgecolor': 'black',\n",
    "    'linewidth': 2        \n",
    "}\n",
    "\n",
    "explode = (0, 0.1, 0, 0.1, 0, 0.1, 0, 0.1, 0, 0, 0, 0)\n",
    "\n",
    "plt.pie(candidate_education, explode=explode, autopct='%1.2f%%', wedgeprops=wedge_dict, labels = candidate_education.index)\n",
    "plt.show()"
   ]
  },
  {
   "cell_type": "markdown",
   "execution_count": null,
   "metadata": {
    "papermill": {
     "duration": 0.027578,
     "end_time": "2020-08-23T17:16:09.731180",
     "exception": false,
     "start_time": "2020-08-23T17:16:09.703602",
     "status": "completed"
    },
    "tags": []
   },
   "source": [
    "## City with highest criminal cases"
   ]
  },
  {
   "cell_type": "code",
   "execution_count": 36,
   "metadata": {
    "execution": {
     "iopub.execute_input": "2020-08-23T17:16:09.799700Z",
     "iopub.status.busy": "2020-08-23T17:16:09.798445Z",
     "iopub.status.idle": "2020-08-23T17:16:09.820156Z",
     "shell.execute_reply": "2020-08-23T17:16:09.819485Z"
    },
    "papermill": {
     "duration": 0.061194,
     "end_time": "2020-08-23T17:16:09.820296",
     "exception": false,
     "start_time": "2020-08-23T17:16:09.759102",
     "status": "completed"
    },
    "tags": []
   },
   "outputs": [],
   "source": [
    "city_criminal_cases_2004 = candidates_2004[['City', 'Criminal Cases']].groupby('City').sum('Criminal Cases')\n",
    "city_criminal_cases_2009 = candidates_2009[['City', 'Criminal Cases']].groupby('City').sum('Criminal Cases')\n",
    "city_criminal_cases_2014 = candidates_2014[['City', 'Criminal Cases']].groupby('City').sum('Criminal Cases')\n",
    "city_criminal_cases_2019 = candidates_2019[['City', 'Criminal Cases']].groupby('City').sum('Criminal Cases')"
   ]
  },
  {
   "cell_type": "code",
   "execution_count": 37,
   "metadata": {
    "execution": {
     "iopub.execute_input": "2020-08-23T17:16:09.883299Z",
     "iopub.status.busy": "2020-08-23T17:16:09.882377Z",
     "iopub.status.idle": "2020-08-23T17:16:09.897199Z",
     "shell.execute_reply": "2020-08-23T17:16:09.896584Z"
    },
    "papermill": {
     "duration": 0.049281,
     "end_time": "2020-08-23T17:16:09.897331",
     "exception": false,
     "start_time": "2020-08-23T17:16:09.848050",
     "status": "completed"
    },
    "tags": []
   },
   "outputs": [
    {
     "data": {
      "text/html": [
       "<style  type=\"text/css\" >\n",
       "#T_567f1692_e564_11ea_9617_0242ac130202row0_col0{\n",
       "            background-color:  #023858;\n",
       "            color:  #f1f1f1;\n",
       "        }#T_567f1692_e564_11ea_9617_0242ac130202row1_col0{\n",
       "            background-color:  #4295c3;\n",
       "            color:  #000000;\n",
       "        }#T_567f1692_e564_11ea_9617_0242ac130202row2_col0,#T_567f1692_e564_11ea_9617_0242ac130202row3_col0{\n",
       "            background-color:  #63a2cb;\n",
       "            color:  #000000;\n",
       "        }#T_567f1692_e564_11ea_9617_0242ac130202row4_col0{\n",
       "            background-color:  #c0c9e2;\n",
       "            color:  #000000;\n",
       "        }#T_567f1692_e564_11ea_9617_0242ac130202row5_col0,#T_567f1692_e564_11ea_9617_0242ac130202row6_col0{\n",
       "            background-color:  #e3e0ee;\n",
       "            color:  #000000;\n",
       "        }#T_567f1692_e564_11ea_9617_0242ac130202row7_col0{\n",
       "            background-color:  #faf3f9;\n",
       "            color:  #000000;\n",
       "        }#T_567f1692_e564_11ea_9617_0242ac130202row8_col0,#T_567f1692_e564_11ea_9617_0242ac130202row9_col0{\n",
       "            background-color:  #fff7fb;\n",
       "            color:  #000000;\n",
       "        }</style><table id=\"T_567f1692_e564_11ea_9617_0242ac130202\" ><thead>    <tr>        <th class=\"blank level0\" ></th>        <th class=\"col_heading level0 col0\" >Criminal Cases</th>    </tr>    <tr>        <th class=\"index_name level0\" >City</th>        <th class=\"blank\" ></th>    </tr></thead><tbody>\n",
       "                <tr>\n",
       "                        <th id=\"T_567f1692_e564_11ea_9617_0242ac130202level0_row0\" class=\"row_heading level0 row0\" >Purnea</th>\n",
       "                        <td id=\"T_567f1692_e564_11ea_9617_0242ac130202row0_col0\" class=\"data row0 col0\" >52</td>\n",
       "            </tr>\n",
       "            <tr>\n",
       "                        <th id=\"T_567f1692_e564_11ea_9617_0242ac130202level0_row1\" class=\"row_heading level0 row1\" >Sheohar</th>\n",
       "                        <td id=\"T_567f1692_e564_11ea_9617_0242ac130202row1_col0\" class=\"data row1 col0\" >40</td>\n",
       "            </tr>\n",
       "            <tr>\n",
       "                        <th id=\"T_567f1692_e564_11ea_9617_0242ac130202level0_row2\" class=\"row_heading level0 row2\" >Maharajganj</th>\n",
       "                        <td id=\"T_567f1692_e564_11ea_9617_0242ac130202row2_col0\" class=\"data row2 col0\" >38</td>\n",
       "            </tr>\n",
       "            <tr>\n",
       "                        <th id=\"T_567f1692_e564_11ea_9617_0242ac130202level0_row3\" class=\"row_heading level0 row3\" >Phulpur</th>\n",
       "                        <td id=\"T_567f1692_e564_11ea_9617_0242ac130202row3_col0\" class=\"data row3 col0\" >38</td>\n",
       "            </tr>\n",
       "            <tr>\n",
       "                        <th id=\"T_567f1692_e564_11ea_9617_0242ac130202level0_row4\" class=\"row_heading level0 row4\" >Faizabad</th>\n",
       "                        <td id=\"T_567f1692_e564_11ea_9617_0242ac130202row4_col0\" class=\"data row4 col0\" >31</td>\n",
       "            </tr>\n",
       "            <tr>\n",
       "                        <th id=\"T_567f1692_e564_11ea_9617_0242ac130202level0_row5\" class=\"row_heading level0 row5\" >Siwan</th>\n",
       "                        <td id=\"T_567f1692_e564_11ea_9617_0242ac130202row5_col0\" class=\"data row5 col0\" >27</td>\n",
       "            </tr>\n",
       "            <tr>\n",
       "                        <th id=\"T_567f1692_e564_11ea_9617_0242ac130202level0_row6\" class=\"row_heading level0 row6\" >Pratapgarh</th>\n",
       "                        <td id=\"T_567f1692_e564_11ea_9617_0242ac130202row6_col0\" class=\"data row6 col0\" >27</td>\n",
       "            </tr>\n",
       "            <tr>\n",
       "                        <th id=\"T_567f1692_e564_11ea_9617_0242ac130202level0_row7\" class=\"row_heading level0 row7\" >Aurangabad</th>\n",
       "                        <td id=\"T_567f1692_e564_11ea_9617_0242ac130202row7_col0\" class=\"data row7 col0\" >23</td>\n",
       "            </tr>\n",
       "            <tr>\n",
       "                        <th id=\"T_567f1692_e564_11ea_9617_0242ac130202level0_row8\" class=\"row_heading level0 row8\" >Bettiah</th>\n",
       "                        <td id=\"T_567f1692_e564_11ea_9617_0242ac130202row8_col0\" class=\"data row8 col0\" >22</td>\n",
       "            </tr>\n",
       "            <tr>\n",
       "                        <th id=\"T_567f1692_e564_11ea_9617_0242ac130202level0_row9\" class=\"row_heading level0 row9\" >Chandrapur</th>\n",
       "                        <td id=\"T_567f1692_e564_11ea_9617_0242ac130202row9_col0\" class=\"data row9 col0\" >22</td>\n",
       "            </tr>\n",
       "    </tbody></table>"
      ],
      "text/plain": [
       "<pandas.io.formats.style.Styler at 0x7ff278cea1d0>"
      ]
     },
     "execution_count": 37,
     "metadata": {},
     "output_type": "execute_result"
    }
   ],
   "source": [
    "city_criminal_cases_2004.sort_values(['Criminal Cases'], ascending=False).head(10).style.background_gradient(subset = ['Criminal Cases'], cmap = 'PuBu')"
   ]
  },
  {
   "cell_type": "code",
   "execution_count": 38,
   "metadata": {
    "execution": {
     "iopub.execute_input": "2020-08-23T17:16:09.977564Z",
     "iopub.status.busy": "2020-08-23T17:16:09.963377Z",
     "iopub.status.idle": "2020-08-23T17:16:10.237520Z",
     "shell.execute_reply": "2020-08-23T17:16:10.236706Z"
    },
    "papermill": {
     "duration": 0.311481,
     "end_time": "2020-08-23T17:16:10.237702",
     "exception": false,
     "start_time": "2020-08-23T17:16:09.926221",
     "status": "completed"
    },
    "tags": []
   },
   "outputs": [
    {
     "data": {
      "text/plain": [
       "Text(0.5, 1.0, 'Different Cities and Criminal cases count in 2004 Elections')"
      ]
     },
     "execution_count": 38,
     "metadata": {},
     "output_type": "execute_result"
    },
    {
     "data": {
      "image/png": "[encoded data removed]",
      "text/plain": [
       "<Figure size 432x288 with 1 Axes>"
      ]
     },
     "metadata": {},
     "output_type": "display_data"
    }
   ],
   "source": [
    "cases_2004 = city_criminal_cases_2004.sort_values(['Criminal Cases'], ascending=False)['Criminal Cases'][:10]\n",
    "\n",
    "sns.barplot(y=cases_2004.values, x=cases_2004.index, palette=\"Set2\")\n",
    "plt.xticks(rotation=90)\n",
    "plt.xlabel('City')\n",
    "plt.ylabel('Criminal Cases')\n",
    "plt.title(\"Different Cities and Criminal cases count in 2004 Elections\", fontweight=\"bold\")"
   ]
  },
  {
   "cell_type": "code",
   "execution_count": 39,
   "metadata": {
    "execution": {
     "iopub.execute_input": "2020-08-23T17:16:10.312878Z",
     "iopub.status.busy": "2020-08-23T17:16:10.301984Z",
     "iopub.status.idle": "2020-08-23T17:16:10.318554Z",
     "shell.execute_reply": "2020-08-23T17:16:10.317646Z"
    },
    "papermill": {
     "duration": 0.052126,
     "end_time": "2020-08-23T17:16:10.318730",
     "exception": false,
     "start_time": "2020-08-23T17:16:10.266604",
     "status": "completed"
    },
    "tags": []
   },
   "outputs": [
    {
     "data": {
      "text/html": [
       "<style  type=\"text/css\" >\n",
       "#T_56bf41d6_e564_11ea_9617_0242ac130202row0_col0{\n",
       "            background-color:  #023858;\n",
       "            color:  #f1f1f1;\n",
       "        }#T_56bf41d6_e564_11ea_9617_0242ac130202row1_col0{\n",
       "            background-color:  #187cb6;\n",
       "            color:  #000000;\n",
       "        }#T_56bf41d6_e564_11ea_9617_0242ac130202row2_col0{\n",
       "            background-color:  #2383ba;\n",
       "            color:  #000000;\n",
       "        }#T_56bf41d6_e564_11ea_9617_0242ac130202row3_col0{\n",
       "            background-color:  #60a1ca;\n",
       "            color:  #000000;\n",
       "        }#T_56bf41d6_e564_11ea_9617_0242ac130202row4_col0{\n",
       "            background-color:  #c9cee4;\n",
       "            color:  #000000;\n",
       "        }#T_56bf41d6_e564_11ea_9617_0242ac130202row5_col0{\n",
       "            background-color:  #d2d2e7;\n",
       "            color:  #000000;\n",
       "        }#T_56bf41d6_e564_11ea_9617_0242ac130202row6_col0{\n",
       "            background-color:  #efe9f3;\n",
       "            color:  #000000;\n",
       "        }#T_56bf41d6_e564_11ea_9617_0242ac130202row7_col0{\n",
       "            background-color:  #f3edf5;\n",
       "            color:  #000000;\n",
       "        }#T_56bf41d6_e564_11ea_9617_0242ac130202row8_col0,#T_56bf41d6_e564_11ea_9617_0242ac130202row9_col0{\n",
       "            background-color:  #fff7fb;\n",
       "            color:  #000000;\n",
       "        }</style><table id=\"T_56bf41d6_e564_11ea_9617_0242ac130202\" ><thead>    <tr>        <th class=\"blank level0\" ></th>        <th class=\"col_heading level0 col0\" >Criminal Cases</th>    </tr>    <tr>        <th class=\"index_name level0\" >City</th>        <th class=\"blank\" ></th>    </tr></thead><tbody>\n",
       "                <tr>\n",
       "                        <th id=\"T_56bf41d6_e564_11ea_9617_0242ac130202level0_row0\" class=\"row_heading level0 row0\" >Chandauli</th>\n",
       "                        <td id=\"T_56bf41d6_e564_11ea_9617_0242ac130202row0_col0\" class=\"data row0 col0\" >67</td>\n",
       "            </tr>\n",
       "            <tr>\n",
       "                        <th id=\"T_56bf41d6_e564_11ea_9617_0242ac130202level0_row1\" class=\"row_heading level0 row1\" >Nawada</th>\n",
       "                        <td id=\"T_56bf41d6_e564_11ea_9617_0242ac130202row1_col0\" class=\"data row1 col0\" >56</td>\n",
       "            </tr>\n",
       "            <tr>\n",
       "                        <th id=\"T_56bf41d6_e564_11ea_9617_0242ac130202level0_row2\" class=\"row_heading level0 row2\" >Khagaria</th>\n",
       "                        <td id=\"T_56bf41d6_e564_11ea_9617_0242ac130202row2_col0\" class=\"data row2 col0\" >55</td>\n",
       "            </tr>\n",
       "            <tr>\n",
       "                        <th id=\"T_56bf41d6_e564_11ea_9617_0242ac130202level0_row3\" class=\"row_heading level0 row3\" >Palamau</th>\n",
       "                        <td id=\"T_56bf41d6_e564_11ea_9617_0242ac130202row3_col0\" class=\"data row3 col0\" >50</td>\n",
       "            </tr>\n",
       "            <tr>\n",
       "                        <th id=\"T_56bf41d6_e564_11ea_9617_0242ac130202level0_row4\" class=\"row_heading level0 row4\" >Chandrapur</th>\n",
       "                        <td id=\"T_56bf41d6_e564_11ea_9617_0242ac130202row4_col0\" class=\"data row4 col0\" >40</td>\n",
       "            </tr>\n",
       "            <tr>\n",
       "                        <th id=\"T_56bf41d6_e564_11ea_9617_0242ac130202level0_row5\" class=\"row_heading level0 row5\" >Dhule</th>\n",
       "                        <td id=\"T_56bf41d6_e564_11ea_9617_0242ac130202row5_col0\" class=\"data row5 col0\" >39</td>\n",
       "            </tr>\n",
       "            <tr>\n",
       "                        <th id=\"T_56bf41d6_e564_11ea_9617_0242ac130202level0_row6\" class=\"row_heading level0 row6\" >Araria</th>\n",
       "                        <td id=\"T_56bf41d6_e564_11ea_9617_0242ac130202row6_col0\" class=\"data row6 col0\" >34</td>\n",
       "            </tr>\n",
       "            <tr>\n",
       "                        <th id=\"T_56bf41d6_e564_11ea_9617_0242ac130202level0_row7\" class=\"row_heading level0 row7\" >Cuddalore</th>\n",
       "                        <td id=\"T_56bf41d6_e564_11ea_9617_0242ac130202row7_col0\" class=\"data row7 col0\" >33</td>\n",
       "            </tr>\n",
       "            <tr>\n",
       "                        <th id=\"T_56bf41d6_e564_11ea_9617_0242ac130202level0_row8\" class=\"row_heading level0 row8\" >Aurangabad</th>\n",
       "                        <td id=\"T_56bf41d6_e564_11ea_9617_0242ac130202row8_col0\" class=\"data row8 col0\" >30</td>\n",
       "            </tr>\n",
       "            <tr>\n",
       "                        <th id=\"T_56bf41d6_e564_11ea_9617_0242ac130202level0_row9\" class=\"row_heading level0 row9\" >Nagaur</th>\n",
       "                        <td id=\"T_56bf41d6_e564_11ea_9617_0242ac130202row9_col0\" class=\"data row9 col0\" >30</td>\n",
       "            </tr>\n",
       "    </tbody></table>"
      ],
      "text/plain": [
       "<pandas.io.formats.style.Styler at 0x7ff278c83b50>"
      ]
     },
     "execution_count": 39,
     "metadata": {},
     "output_type": "execute_result"
    }
   ],
   "source": [
    "city_criminal_cases_2009.sort_values(['Criminal Cases'], ascending=False).head(10).style.background_gradient(subset = ['Criminal Cases'], cmap = 'PuBu')"
   ]
  },
  {
   "cell_type": "code",
   "execution_count": 40,
   "metadata": {
    "execution": {
     "iopub.execute_input": "2020-08-23T17:16:10.387119Z",
     "iopub.status.busy": "2020-08-23T17:16:10.386266Z",
     "iopub.status.idle": "2020-08-23T17:16:10.662089Z",
     "shell.execute_reply": "2020-08-23T17:16:10.661398Z"
    },
    "papermill": {
     "duration": 0.313672,
     "end_time": "2020-08-23T17:16:10.662234",
     "exception": false,
     "start_time": "2020-08-23T17:16:10.348562",
     "status": "completed"
    },
    "tags": []
   },
   "outputs": [
    {
     "data": {
      "text/plain": [
       "Text(0.5, 1.0, 'Different Cities and Criminal cases count in 2009 Elections')"
      ]
     },
     "execution_count": 40,
     "metadata": {},
     "output_type": "execute_result"
    },
    {
     "data": {
      "image/png": "[encoded data removed]",
      "text/plain": [
       "<Figure size 432x288 with 1 Axes>"
      ]
     },
     "metadata": {},
     "output_type": "display_data"
    }
   ],
   "source": [
    "cases_2009 = city_criminal_cases_2009.sort_values(['Criminal Cases'], ascending=False)['Criminal Cases'][:10]\n",
    "sns.barplot(y=cases_2009.values, x=cases_2009.index, palette=\"Set2\")\n",
    "plt.xticks(rotation=90)\n",
    "plt.xlabel('City')\n",
    "plt.ylabel('Criminal Cases')\n",
    "plt.title(\"Different Cities and Criminal cases count in 2009 Elections\", fontweight=\"bold\")"
   ]
  },
  {
   "cell_type": "code",
   "execution_count": 41,
   "metadata": {
    "execution": {
     "iopub.execute_input": "2020-08-23T17:16:10.737891Z",
     "iopub.status.busy": "2020-08-23T17:16:10.727815Z",
     "iopub.status.idle": "2020-08-23T17:16:10.743073Z",
     "shell.execute_reply": "2020-08-23T17:16:10.742375Z"
    },
    "papermill": {
     "duration": 0.051332,
     "end_time": "2020-08-23T17:16:10.743218",
     "exception": false,
     "start_time": "2020-08-23T17:16:10.691886",
     "status": "completed"
    },
    "tags": []
   },
   "outputs": [
    {
     "data": {
      "text/html": [
       "<style  type=\"text/css\" >\n",
       "#T_570025de_e564_11ea_9617_0242ac130202row0_col0{\n",
       "            background-color:  #023858;\n",
       "            color:  #f1f1f1;\n",
       "        }#T_570025de_e564_11ea_9617_0242ac130202row1_col0{\n",
       "            background-color:  #034165;\n",
       "            color:  #f1f1f1;\n",
       "        }#T_570025de_e564_11ea_9617_0242ac130202row2_col0{\n",
       "            background-color:  #f5eff6;\n",
       "            color:  #000000;\n",
       "        }#T_570025de_e564_11ea_9617_0242ac130202row3_col0{\n",
       "            background-color:  #f6eff7;\n",
       "            color:  #000000;\n",
       "        }#T_570025de_e564_11ea_9617_0242ac130202row4_col0,#T_570025de_e564_11ea_9617_0242ac130202row5_col0{\n",
       "            background-color:  #f7f0f7;\n",
       "            color:  #000000;\n",
       "        }#T_570025de_e564_11ea_9617_0242ac130202row6_col0{\n",
       "            background-color:  #fbf3f9;\n",
       "            color:  #000000;\n",
       "        }#T_570025de_e564_11ea_9617_0242ac130202row7_col0{\n",
       "            background-color:  #fdf5fa;\n",
       "            color:  #000000;\n",
       "        }#T_570025de_e564_11ea_9617_0242ac130202row8_col0{\n",
       "            background-color:  #fef6fb;\n",
       "            color:  #000000;\n",
       "        }#T_570025de_e564_11ea_9617_0242ac130202row9_col0{\n",
       "            background-color:  #fff7fb;\n",
       "            color:  #000000;\n",
       "        }</style><table id=\"T_570025de_e564_11ea_9617_0242ac130202\" ><thead>    <tr>        <th class=\"blank level0\" ></th>        <th class=\"col_heading level0 col0\" >Criminal Cases</th>    </tr>    <tr>        <th class=\"index_name level0\" >City</th>        <th class=\"blank\" ></th>    </tr></thead><tbody>\n",
       "                <tr>\n",
       "                        <th id=\"T_570025de_e564_11ea_9617_0242ac130202level0_row0\" class=\"row_heading level0 row0\" >KANNIYAKUMARI</th>\n",
       "                        <td id=\"T_570025de_e564_11ea_9617_0242ac130202row0_col0\" class=\"data row0 col0\" >403</td>\n",
       "            </tr>\n",
       "            <tr>\n",
       "                        <th id=\"T_570025de_e564_11ea_9617_0242ac130202level0_row1\" class=\"row_heading level0 row1\" >THOOTHUKKUDI</th>\n",
       "                        <td id=\"T_570025de_e564_11ea_9617_0242ac130202row1_col0\" class=\"data row1 col0\" >391</td>\n",
       "            </tr>\n",
       "            <tr>\n",
       "                        <th id=\"T_570025de_e564_11ea_9617_0242ac130202level0_row2\" class=\"row_heading level0 row2\" >PHULPUR : BYE ELECTION ON 11-03-2018</th>\n",
       "                        <td id=\"T_570025de_e564_11ea_9617_0242ac130202row2_col0\" class=\"data row2 col0\" >61</td>\n",
       "            </tr>\n",
       "            <tr>\n",
       "                        <th id=\"T_570025de_e564_11ea_9617_0242ac130202level0_row3\" class=\"row_heading level0 row3\" >PALAMAU</th>\n",
       "                        <td id=\"T_570025de_e564_11ea_9617_0242ac130202row3_col0\" class=\"data row3 col0\" >60</td>\n",
       "            </tr>\n",
       "            <tr>\n",
       "                        <th id=\"T_570025de_e564_11ea_9617_0242ac130202level0_row4\" class=\"row_heading level0 row4\" >HOWRAH</th>\n",
       "                        <td id=\"T_570025de_e564_11ea_9617_0242ac130202row4_col0\" class=\"data row4 col0\" >59</td>\n",
       "            </tr>\n",
       "            <tr>\n",
       "                        <th id=\"T_570025de_e564_11ea_9617_0242ac130202level0_row5\" class=\"row_heading level0 row5\" >PURULIA</th>\n",
       "                        <td id=\"T_570025de_e564_11ea_9617_0242ac130202row5_col0\" class=\"data row5 col0\" >57</td>\n",
       "            </tr>\n",
       "            <tr>\n",
       "                        <th id=\"T_570025de_e564_11ea_9617_0242ac130202level0_row6\" class=\"row_heading level0 row6\" >SHRAWASTI</th>\n",
       "                        <td id=\"T_570025de_e564_11ea_9617_0242ac130202row6_col0\" class=\"data row6 col0\" >49</td>\n",
       "            </tr>\n",
       "            <tr>\n",
       "                        <th id=\"T_570025de_e564_11ea_9617_0242ac130202level0_row7\" class=\"row_heading level0 row7\" >SATARA</th>\n",
       "                        <td id=\"T_570025de_e564_11ea_9617_0242ac130202row7_col0\" class=\"data row7 col0\" >44</td>\n",
       "            </tr>\n",
       "            <tr>\n",
       "                        <th id=\"T_570025de_e564_11ea_9617_0242ac130202level0_row8\" class=\"row_heading level0 row8\" >KARAKAT</th>\n",
       "                        <td id=\"T_570025de_e564_11ea_9617_0242ac130202row8_col0\" class=\"data row8 col0\" >40</td>\n",
       "            </tr>\n",
       "            <tr>\n",
       "                        <th id=\"T_570025de_e564_11ea_9617_0242ac130202level0_row9\" class=\"row_heading level0 row9\" >MAHARAJGANJ</th>\n",
       "                        <td id=\"T_570025de_e564_11ea_9617_0242ac130202row9_col0\" class=\"data row9 col0\" >38</td>\n",
       "            </tr>\n",
       "    </tbody></table>"
      ],
      "text/plain": [
       "<pandas.io.formats.style.Styler at 0x7ff278b54690>"
      ]
     },
     "execution_count": 41,
     "metadata": {},
     "output_type": "execute_result"
    }
   ],
   "source": [
    "city_criminal_cases_2014.sort_values(['Criminal Cases'], ascending=False).head(10).style.background_gradient(subset = ['Criminal Cases'], cmap = 'PuBu')"
   ]
  },
  {
   "cell_type": "code",
   "execution_count": 42,
   "metadata": {
    "execution": {
     "iopub.execute_input": "2020-08-23T17:16:10.866461Z",
     "iopub.status.busy": "2020-08-23T17:16:10.862342Z",
     "iopub.status.idle": "2020-08-23T17:16:11.282698Z",
     "shell.execute_reply": "2020-08-23T17:16:11.281984Z"
    },
    "papermill": {
     "duration": 0.509621,
     "end_time": "2020-08-23T17:16:11.282830",
     "exception": false,
     "start_time": "2020-08-23T17:16:10.773209",
     "status": "completed"
    },
    "tags": []
   },
   "outputs": [
    {
     "data": {
      "text/plain": [
       "Text(0.5, 1.0, 'Different Cities and Criminal cases count in 2014 Elections')"
      ]
     },
     "execution_count": 42,
     "metadata": {},
     "output_type": "execute_result"
    },
    {
     "data": {
      "image/png": "[encoded data removed]",
      "text/plain": [
       "<Figure size 432x288 with 1 Axes>"
      ]
     },
     "metadata": {},
     "output_type": "display_data"
    }
   ],
   "source": [
    "cases_2014 = city_criminal_cases_2014.sort_values(['Criminal Cases'], ascending=False)['Criminal Cases'][:10]\n",
    "sns.barplot(y=cases_2014.values, x=cases_2014.index, palette=\"Set2\")\n",
    "plt.xticks(rotation=90)\n",
    "plt.xlabel('City')\n",
    "plt.ylabel('Criminal Cases')\n",
    "plt.title(\"Different Cities and Criminal cases count in 2014 Elections\", fontweight=\"bold\")"
   ]
  },
  {
   "cell_type": "code",
   "execution_count": 43,
   "metadata": {
    "execution": {
     "iopub.execute_input": "2020-08-23T17:16:11.355548Z",
     "iopub.status.busy": "2020-08-23T17:16:11.351623Z",
     "iopub.status.idle": "2020-08-23T17:16:11.367202Z",
     "shell.execute_reply": "2020-08-23T17:16:11.366578Z"
    },
    "papermill": {
     "duration": 0.053526,
     "end_time": "2020-08-23T17:16:11.367340",
     "exception": false,
     "start_time": "2020-08-23T17:16:11.313814",
     "status": "completed"
    },
    "tags": []
   },
   "outputs": [
    {
     "data": {
      "text/html": [
       "<style  type=\"text/css\" >\n",
       "#T_575f5bbc_e564_11ea_9617_0242ac130202row0_col0{\n",
       "            background-color:  #023858;\n",
       "            color:  #f1f1f1;\n",
       "        }#T_575f5bbc_e564_11ea_9617_0242ac130202row1_col0{\n",
       "            background-color:  #045483;\n",
       "            color:  #f1f1f1;\n",
       "        }#T_575f5bbc_e564_11ea_9617_0242ac130202row2_col0{\n",
       "            background-color:  #dbdaeb;\n",
       "            color:  #000000;\n",
       "        }#T_575f5bbc_e564_11ea_9617_0242ac130202row3_col0{\n",
       "            background-color:  #f2ecf5;\n",
       "            color:  #000000;\n",
       "        }#T_575f5bbc_e564_11ea_9617_0242ac130202row4_col0{\n",
       "            background-color:  #f5eef6;\n",
       "            color:  #000000;\n",
       "        }#T_575f5bbc_e564_11ea_9617_0242ac130202row5_col0{\n",
       "            background-color:  #f6eff7;\n",
       "            color:  #000000;\n",
       "        }#T_575f5bbc_e564_11ea_9617_0242ac130202row6_col0,#T_575f5bbc_e564_11ea_9617_0242ac130202row7_col0{\n",
       "            background-color:  #f8f1f8;\n",
       "            color:  #000000;\n",
       "        }#T_575f5bbc_e564_11ea_9617_0242ac130202row8_col0{\n",
       "            background-color:  #fbf4f9;\n",
       "            color:  #000000;\n",
       "        }#T_575f5bbc_e564_11ea_9617_0242ac130202row9_col0{\n",
       "            background-color:  #fff7fb;\n",
       "            color:  #000000;\n",
       "        }</style><table id=\"T_575f5bbc_e564_11ea_9617_0242ac130202\" ><thead>    <tr>        <th class=\"blank level0\" ></th>        <th class=\"col_heading level0 col0\" >Criminal Cases</th>    </tr>    <tr>        <th class=\"index_name level0\" >City</th>        <th class=\"blank\" ></th>    </tr></thead><tbody>\n",
       "                <tr>\n",
       "                        <th id=\"T_575f5bbc_e564_11ea_9617_0242ac130202level0_row0\" class=\"row_heading level0 row0\" >PATHANAMTHITTA</th>\n",
       "                        <td id=\"T_575f5bbc_e564_11ea_9617_0242ac130202row0_col0\" class=\"data row0 col0\" >241</td>\n",
       "            </tr>\n",
       "            <tr>\n",
       "                        <th id=\"T_575f5bbc_e564_11ea_9617_0242ac130202level0_row1\" class=\"row_heading level0 row1\" >IDUKKI</th>\n",
       "                        <td id=\"T_575f5bbc_e564_11ea_9617_0242ac130202row1_col0\" class=\"data row1 col0\" >220</td>\n",
       "            </tr>\n",
       "            <tr>\n",
       "                        <th id=\"T_575f5bbc_e564_11ea_9617_0242ac130202level0_row2\" class=\"row_heading level0 row2\" >VARANASI</th>\n",
       "                        <td id=\"T_575f5bbc_e564_11ea_9617_0242ac130202row2_col0\" class=\"data row2 col0\" >78</td>\n",
       "            </tr>\n",
       "            <tr>\n",
       "                        <th id=\"T_575f5bbc_e564_11ea_9617_0242ac130202level0_row3\" class=\"row_heading level0 row3\" >ADILABAD</th>\n",
       "                        <td id=\"T_575f5bbc_e564_11ea_9617_0242ac130202row3_col0\" class=\"data row3 col0\" >55</td>\n",
       "            </tr>\n",
       "            <tr>\n",
       "                        <th id=\"T_575f5bbc_e564_11ea_9617_0242ac130202level0_row4\" class=\"row_heading level0 row4\" >ATTINGAL</th>\n",
       "                        <td id=\"T_575f5bbc_e564_11ea_9617_0242ac130202row4_col0\" class=\"data row4 col0\" >51</td>\n",
       "            </tr>\n",
       "            <tr>\n",
       "                        <th id=\"T_575f5bbc_e564_11ea_9617_0242ac130202level0_row5\" class=\"row_heading level0 row5\" >AMETHI</th>\n",
       "                        <td id=\"T_575f5bbc_e564_11ea_9617_0242ac130202row5_col0\" class=\"data row5 col0\" >49</td>\n",
       "            </tr>\n",
       "            <tr>\n",
       "                        <th id=\"T_575f5bbc_e564_11ea_9617_0242ac130202level0_row6\" class=\"row_heading level0 row6\" >MALKAJGIRI</th>\n",
       "                        <td id=\"T_575f5bbc_e564_11ea_9617_0242ac130202row6_col0\" class=\"data row6 col0\" >46</td>\n",
       "            </tr>\n",
       "            <tr>\n",
       "                        <th id=\"T_575f5bbc_e564_11ea_9617_0242ac130202level0_row7\" class=\"row_heading level0 row7\" >SUNDARGARH</th>\n",
       "                        <td id=\"T_575f5bbc_e564_11ea_9617_0242ac130202row7_col0\" class=\"data row7 col0\" >46</td>\n",
       "            </tr>\n",
       "            <tr>\n",
       "                        <th id=\"T_575f5bbc_e564_11ea_9617_0242ac130202level0_row8\" class=\"row_heading level0 row8\" >BARRACKPUR</th>\n",
       "                        <td id=\"T_575f5bbc_e564_11ea_9617_0242ac130202row8_col0\" class=\"data row8 col0\" >42</td>\n",
       "            </tr>\n",
       "            <tr>\n",
       "                        <th id=\"T_575f5bbc_e564_11ea_9617_0242ac130202level0_row9\" class=\"row_heading level0 row9\" >BUXAR</th>\n",
       "                        <td id=\"T_575f5bbc_e564_11ea_9617_0242ac130202row9_col0\" class=\"data row9 col0\" >37</td>\n",
       "            </tr>\n",
       "    </tbody></table>"
      ],
      "text/plain": [
       "<pandas.io.formats.style.Styler at 0x7ff278ceaad0>"
      ]
     },
     "execution_count": 43,
     "metadata": {},
     "output_type": "execute_result"
    }
   ],
   "source": [
    "city_criminal_cases_2019.sort_values(['Criminal Cases'], ascending=False).head(10).style.background_gradient(subset = ['Criminal Cases'], cmap = 'PuBu')"
   ]
  },
  {
   "cell_type": "code",
   "execution_count": 44,
   "metadata": {
    "execution": {
     "iopub.execute_input": "2020-08-23T17:16:11.452614Z",
     "iopub.status.busy": "2020-08-23T17:16:11.446363Z",
     "iopub.status.idle": "2020-08-23T17:16:11.761075Z",
     "shell.execute_reply": "2020-08-23T17:16:11.760152Z"
    },
    "papermill": {
     "duration": 0.362994,
     "end_time": "2020-08-23T17:16:11.761227",
     "exception": false,
     "start_time": "2020-08-23T17:16:11.398233",
     "status": "completed"
    },
    "tags": []
   },
   "outputs": [
    {
     "data": {
      "text/plain": [
       "Text(0.5, 1.0, 'Different Cities and Criminal cases count in 2019 Elections')"
      ]
     },
     "execution_count": 44,
     "metadata": {},
     "output_type": "execute_result"
    },
    {
     "data": {
      "image/png": "[encoded data removed]",
      "text/plain": [
       "<Figure size 432x288 with 1 Axes>"
      ]
     },
     "metadata": {},
     "output_type": "display_data"
    }
   ],
   "source": [
    "cases_2019 = city_criminal_cases_2019.sort_values(['Criminal Cases'], ascending=False)['Criminal Cases'][:10]\n",
    "sns.barplot(y=cases_2019.values, x=cases_2019.index, palette=\"Set2\")\n",
    "plt.xticks(rotation=90)\n",
    "plt.xlabel('City')\n",
    "plt.ylabel('Criminal Cases')\n",
    "plt.title(\"Different Cities and Criminal cases count in 2019 Elections\", fontweight=\"bold\")"
   ]
  },
  {
   "cell_type": "markdown",
   "execution_count": null,
   "metadata": {
    "papermill": {
     "duration": 0.032299,
     "end_time": "2020-08-23T17:16:11.825691",
     "exception": false,
     "start_time": "2020-08-23T17:16:11.793392",
     "status": "completed"
    },
    "tags": []
   },
   "source": [
    "## Work in Progress... ⏳"
   ]
  }
 ],
 "metadata": {
  "kernelspec": {
   "display_name": "Python 3",
   "language": "python",
   "name": "python3"
  },
  "language_info": {
   "codemirror_mode": {
    "name": "ipython",
    "version": 3
   },
   "file_extension": ".py",
   "mimetype": "text/x-python",
   "name": "python",
   "nbconvert_exporter": "python",
   "pygments_lexer": "ipython3",
   "version": "3.7.6"
  },
  "papermill": {
   "duration": 18.070394,
   "end_time": "2020-08-23T17:16:12.912305",
   "environment_variables": {},
   "exception": null,
   "input_path": "__notebook__.ipynb",
   "output_path": "__notebook__.ipynb",
   "parameters": {},
   "start_time": "2020-08-23T17:15:54.841911",
   "version": "2.1.0"
  }
 },
 "nbformat": 4,
 "nbformat_minor": 4
}
