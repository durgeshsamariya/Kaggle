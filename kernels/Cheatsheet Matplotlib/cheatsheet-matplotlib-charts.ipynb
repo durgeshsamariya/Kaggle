{
 "cells": [
  {
   "cell_type": "markdown",
   "execution_count": null,
   "metadata": {
    "papermill": {
     "duration": 0.011683,
     "end_time": "2020-09-05T16:13:43.697215",
     "exception": false,
     "start_time": "2020-09-05T16:13:43.685532",
     "status": "completed"
    },
    "tags": []
   },
   "source": [
    "<font color='blue' size=10><center><u> Cheatsheet - Matplotlib Charts</u></center> </font>"
   ]
  },
  {
   "cell_type": "markdown",
   "execution_count": null,
   "metadata": {
    "papermill": {
     "duration": 0.011116,
     "end_time": "2020-09-05T16:13:43.718277",
     "exception": false,
     "start_time": "2020-09-05T16:13:43.707161",
     "status": "completed"
    },
    "tags": []
   },
   "source": [
    "This kernel is all about matplotlib charts -- the basic python data visualization tool."
   ]
  },
  {
   "cell_type": "markdown",
   "execution_count": null,
   "metadata": {
    "papermill": {
     "duration": 0.009476,
     "end_time": "2020-09-05T16:13:43.737504",
     "exception": false,
     "start_time": "2020-09-05T16:13:43.728028",
     "status": "completed"
    },
    "tags": []
   },
   "source": [
    "<font color='red' size=5> Please Upvote my kernel and keep it in your favourite section if you think it is helpful.</font>"
   ]
  },
  {
   "cell_type": "markdown",
   "execution_count": null,
   "metadata": {
    "papermill": {
     "duration": 0.00952,
     "end_time": "2020-09-05T16:13:43.756659",
     "exception": false,
     "start_time": "2020-09-05T16:13:43.747139",
     "status": "completed"
    },
    "tags": []
   },
   "source": [
    "In the last few months, I was working extensively on plots and to be honest it is hard to remember each and everything and I am tired of looking back and forth in my notebooks for the reference. This hectic process motivates me to prepare this notebook not only for me but also others. Now I dont have to look at different notebooks for the reference only this one enough. I am making this notebook specially copy paste purpose and for beginners to learn matplotlib.\n",
    "\n",
    "I used different datasets such as titanic, heart-disease, iris, pima-indians-diabetes, heart-failure-clinical data and pokemon datasets available on kaggle. All this datasets are used for visulization purpose only, I not trying to say or interpret any conclusion here. \n",
    "\n",
    "Enjoy! 😄"
   ]
  },
  {
   "cell_type": "markdown",
   "execution_count": null,
   "metadata": {
    "papermill": {
     "duration": 0.00946,
     "end_time": "2020-09-05T16:13:43.775836",
     "exception": false,
     "start_time": "2020-09-05T16:13:43.766376",
     "status": "completed"
    },
    "tags": []
   },
   "source": [
    "# Table of Content\n",
    "- Introduction\n",
    "- Libraries\n",
    "- Data\n",
    "- Scatter Plot\n",
    "- Line Plot\n",
    "- Multiline Plot\n",
    "- Histogram\n",
    "- Bar Plot\n",
    "- Horizontal Bar Plot\n",
    "- Error Bar Plot\n",
    "- Stacked Bar Plot\n",
    "- Box Plot\n",
    "- Area Plot\n",
    "- Stream Plot\n",
    "- Stacked Area Plot\n",
    "- Density Plot\n",
    "- Hexbin Plot"
   ]
  },
  {
   "cell_type": "markdown",
   "execution_count": null,
   "metadata": {
    "papermill": {
     "duration": 0.00986,
     "end_time": "2020-09-05T16:13:43.795787",
     "exception": false,
     "start_time": "2020-09-05T16:13:43.785927",
     "status": "completed"
    },
    "tags": []
   },
   "source": [
    "# Introduction"
   ]
  },
  {
   "cell_type": "markdown",
   "execution_count": null,
   "metadata": {
    "papermill": {
     "duration": 0.00949,
     "end_time": "2020-09-05T16:13:43.815011",
     "exception": false,
     "start_time": "2020-09-05T16:13:43.805521",
     "status": "completed"
    },
    "tags": []
   },
   "source": [
    "## Matplotlib\n",
    "Matplotlib is a plotting library for the Python programming language. It allows to make quality charts in few lines of code. Most of the other python plotting library are build on top of Matplotlib. It makes that a basic understanding of matplotlib is probably needed to make any chart with python.\n"
   ]
  },
  {
   "cell_type": "markdown",
   "execution_count": null,
   "metadata": {
    "papermill": {
     "duration": 0.009815,
     "end_time": "2020-09-05T16:13:43.834534",
     "exception": false,
     "start_time": "2020-09-05T16:13:43.824719",
     "status": "completed"
    },
    "tags": []
   },
   "source": [
    "# Library"
   ]
  },
  {
   "cell_type": "code",
   "execution_count": 1,
   "metadata": {
    "_cell_guid": "b1076dfc-b9ad-4769-8c92-a6c4dae69d19",
    "_uuid": "8f2839f25d086af736a60e9eeb907d3b93b6e0e5",
    "execution": {
     "iopub.execute_input": "2020-09-05T16:13:43.861436Z",
     "iopub.status.busy": "2020-09-05T16:13:43.860625Z",
     "iopub.status.idle": "2020-09-05T16:13:43.864714Z",
     "shell.execute_reply": "2020-09-05T16:13:43.863876Z"
    },
    "papermill": {
     "duration": 0.020044,
     "end_time": "2020-09-05T16:13:43.864892",
     "exception": false,
     "start_time": "2020-09-05T16:13:43.844848",
     "status": "completed"
    },
    "tags": []
   },
   "outputs": [],
   "source": [
    "# Import dependencies\n",
    "\n",
    "import numpy as np\n",
    "import pandas as pd\n",
    "\n",
    "import matplotlib.pyplot as plt"
   ]
  },
  {
   "cell_type": "markdown",
   "execution_count": null,
   "metadata": {
    "papermill": {
     "duration": 0.010381,
     "end_time": "2020-09-05T16:13:43.885681",
     "exception": false,
     "start_time": "2020-09-05T16:13:43.875300",
     "status": "completed"
    },
    "tags": []
   },
   "source": [
    "# Data"
   ]
  },
  {
   "cell_type": "code",
   "execution_count": 2,
   "metadata": {
    "_cell_guid": "79c7e3d0-c299-4dcb-8224-4455121ee9b0",
    "_uuid": "d629ff2d2480ee46fbb7e2d37f6b5fab8052498a",
    "execution": {
     "iopub.execute_input": "2020-09-05T16:13:43.916152Z",
     "iopub.status.busy": "2020-09-05T16:13:43.915124Z",
     "iopub.status.idle": "2020-09-05T16:13:43.962677Z",
     "shell.execute_reply": "2020-09-05T16:13:43.961621Z"
    },
    "papermill": {
     "duration": 0.067077,
     "end_time": "2020-09-05T16:13:43.962905",
     "exception": false,
     "start_time": "2020-09-05T16:13:43.895828",
     "status": "completed"
    },
    "tags": []
   },
   "outputs": [],
   "source": [
    "titanic=pd.read_csv('../input/titanic/train.csv')\n",
    "heart_diseases=pd.read_csv('../input/heart-disease-uci/heart.csv')\n",
    "iris=pd.read_csv('../input/iris/Iris.csv')\n",
    "diabetes=pd.read_csv('../input/pima-indians-diabetes-database/diabetes.csv')\n",
    "pokemon=pd.read_csv('../input/pokemon/Pokemon.csv')\n",
    "heart_failure=pd.read_csv('../input/heart-failure-clinical-data/heart_failure_clinical_records_dataset.csv')"
   ]
  },
  {
   "cell_type": "markdown",
   "execution_count": null,
   "metadata": {
    "papermill": {
     "duration": 0.010398,
     "end_time": "2020-09-05T16:13:43.986599",
     "exception": false,
     "start_time": "2020-09-05T16:13:43.976201",
     "status": "completed"
    },
    "tags": []
   },
   "source": [
    "# Scatter Plot"
   ]
  },
  {
   "cell_type": "markdown",
   "execution_count": null,
   "metadata": {
    "papermill": {
     "duration": 0.010062,
     "end_time": "2020-09-05T16:13:44.007014",
     "exception": false,
     "start_time": "2020-09-05T16:13:43.996952",
     "status": "completed"
    },
    "tags": []
   },
   "source": [
    "A Scatterplot displays the value of 2 sets of data on 2 dimensions. Each dot represents an observation. The position on the X (horizontal) and Y (vertical) axis represents the values of the 2 variables. It is really useful to study the relationship between both variables. It is common to provide even more information using colors or shapes (to show groups, or a third variable). It is also possible to map another variable to the size of each dot, what makes a bubble plot. If you have many dots and struggle with overplotting, consider using 2D density plot."
   ]
  },
  {
   "cell_type": "markdown",
   "execution_count": null,
   "metadata": {
    "papermill": {
     "duration": 0.009982,
     "end_time": "2020-09-05T16:13:44.027510",
     "exception": false,
     "start_time": "2020-09-05T16:13:44.017528",
     "status": "completed"
    },
    "tags": []
   },
   "source": [
    "![](https://datavizcatalogue.com/methods/images/anatomy/scatterplot.png)\n",
    "<font size=1><center> Source: [DataVizCatalogue](https://datavizcatalogue.com/methods/images/anatomy/scatterplot.png) </center></font>"
   ]
  },
  {
   "cell_type": "code",
   "execution_count": 3,
   "metadata": {
    "execution": {
     "iopub.execute_input": "2020-09-05T16:13:44.058866Z",
     "iopub.status.busy": "2020-09-05T16:13:44.057998Z",
     "iopub.status.idle": "2020-09-05T16:13:44.326186Z",
     "shell.execute_reply": "2020-09-05T16:13:44.326836Z"
    },
    "papermill": {
     "duration": 0.289482,
     "end_time": "2020-09-05T16:13:44.327009",
     "exception": false,
     "start_time": "2020-09-05T16:13:44.037527",
     "status": "completed"
    },
    "tags": []
   },
   "outputs": [
    {
     "data": {
      "image/png": "[encoded data removed]",
      "text/plain": [
       "<Figure size 432x288 with 1 Axes>"
      ]
     },
     "metadata": {
      "needs_background": "light"
     },
     "output_type": "display_data"
    }
   ],
   "source": [
    "plt.plot(iris['PetalLengthCm'], iris['PetalWidthCm'], linestyle='none', marker='o', color='b')\n",
    "plt.show()"
   ]
  },
  {
   "cell_type": "markdown",
   "execution_count": null,
   "metadata": {
    "papermill": {
     "duration": 0.009857,
     "end_time": "2020-09-05T16:13:44.347411",
     "exception": false,
     "start_time": "2020-09-05T16:13:44.337554",
     "status": "completed"
    },
    "tags": []
   },
   "source": [
    "# Line Plot"
   ]
  },
  {
   "cell_type": "markdown",
   "execution_count": null,
   "metadata": {
    "papermill": {
     "duration": 0.009859,
     "end_time": "2020-09-05T16:13:44.367533",
     "exception": false,
     "start_time": "2020-09-05T16:13:44.357674",
     "status": "completed"
    },
    "tags": []
   },
   "source": [
    "![](https://datavizcatalogue.com/methods/images/anatomy/line_graph.png)\n",
    "<font size=1><center>Source: [DataVizCatalogue](https://datavizcatalogue.com/methods/images/anatomy/line_graph.png)</center></font>"
   ]
  },
  {
   "cell_type": "code",
   "execution_count": 4,
   "metadata": {
    "execution": {
     "iopub.execute_input": "2020-09-05T16:13:44.472780Z",
     "iopub.status.busy": "2020-09-05T16:13:44.402238Z",
     "iopub.status.idle": "2020-09-05T16:13:44.686325Z",
     "shell.execute_reply": "2020-09-05T16:13:44.685435Z"
    },
    "papermill": {
     "duration": 0.308346,
     "end_time": "2020-09-05T16:13:44.686477",
     "exception": false,
     "start_time": "2020-09-05T16:13:44.378131",
     "status": "completed"
    },
    "tags": []
   },
   "outputs": [
    {
     "data": {
      "image/png": "[encoded data removed]",
      "text/plain": [
       "<Figure size 432x288 with 1 Axes>"
      ]
     },
     "metadata": {
      "needs_background": "light"
     },
     "output_type": "display_data"
    }
   ],
   "source": [
    "x = np.linspace(0, 20, 1000)\n",
    "y = np.cos(x)\n",
    "\n",
    "plt.plot(x,y, color='b', linestyle='--')\n",
    "plt.show()"
   ]
  },
  {
   "cell_type": "markdown",
   "execution_count": null,
   "metadata": {
    "papermill": {
     "duration": 0.01098,
     "end_time": "2020-09-05T16:13:44.708217",
     "exception": false,
     "start_time": "2020-09-05T16:13:44.697237",
     "status": "completed"
    },
    "tags": []
   },
   "source": [
    "# Histogram\n",
    "An histogram is an accurate graphical representation of the distribution of numerical data. It takes as input one numerical variable only. The variable is cut into several bins, and the\n",
    "number of observation per bin is represented by the height of the bar."
   ]
  },
  {
   "cell_type": "markdown",
   "execution_count": null,
   "metadata": {
    "papermill": {
     "duration": 0.010055,
     "end_time": "2020-09-05T16:13:44.730259",
     "exception": false,
     "start_time": "2020-09-05T16:13:44.720204",
     "status": "completed"
    },
    "tags": []
   },
   "source": [
    "![](https://datavizcatalogue.com/methods/images/anatomy/histogram.png)\n",
    "<font size=1><center>Source: [DataVizCatalogue](https://datavizcatalogue.com/methods/images/anatomy/histogram.png)</center></font>"
   ]
  },
  {
   "cell_type": "code",
   "execution_count": 5,
   "metadata": {
    "execution": {
     "iopub.execute_input": "2020-09-05T16:13:44.766968Z",
     "iopub.status.busy": "2020-09-05T16:13:44.765256Z",
     "iopub.status.idle": "2020-09-05T16:13:44.976379Z",
     "shell.execute_reply": "2020-09-05T16:13:44.975615Z"
    },
    "papermill": {
     "duration": 0.235665,
     "end_time": "2020-09-05T16:13:44.976551",
     "exception": false,
     "start_time": "2020-09-05T16:13:44.740886",
     "status": "completed"
    },
    "tags": []
   },
   "outputs": [
    {
     "data": {
      "text/plain": [
       "Text(0.5, 1.0, 'Age distribution.')"
      ]
     },
     "execution_count": 5,
     "metadata": {},
     "output_type": "execute_result"
    },
    {
     "data": {
      "image/png": "[encoded data removed]",
      "text/plain": [
       "<Figure size 432x288 with 1 Axes>"
      ]
     },
     "metadata": {
      "needs_background": "light"
     },
     "output_type": "display_data"
    }
   ],
   "source": [
    "plt.hist(heart_diseases['age'])\n",
    "plt.xlabel('Age')\n",
    "plt.ylabel('Count')\n",
    "plt.title('Age distribution.')"
   ]
  },
  {
   "cell_type": "markdown",
   "execution_count": null,
   "metadata": {
    "papermill": {
     "duration": 0.014737,
     "end_time": "2020-09-05T16:13:45.003878",
     "exception": false,
     "start_time": "2020-09-05T16:13:44.989141",
     "status": "completed"
    },
    "tags": []
   },
   "source": [
    "# Bar Plot\n",
    "A barplot (or barchart) is one of the most common type of plot. It shows the relationship between a numerical variable and a categorical variable. For example, you can display the height of several individuals using bar chart."
   ]
  },
  {
   "cell_type": "markdown",
   "execution_count": null,
   "metadata": {
    "papermill": {
     "duration": 0.011245,
     "end_time": "2020-09-05T16:13:45.026808",
     "exception": false,
     "start_time": "2020-09-05T16:13:45.015563",
     "status": "completed"
    },
    "tags": []
   },
   "source": [
    "![](https://datavizcatalogue.com/methods/images/anatomy/bar_chart.png)\n",
    "<font size=1><center>Source: [DataVizCatalogue](https://datavizcatalogue.com/methods/images/anatomy/bar_chart.png)</center></font>"
   ]
  },
  {
   "cell_type": "code",
   "execution_count": 6,
   "metadata": {
    "execution": {
     "iopub.execute_input": "2020-09-05T16:13:45.061164Z",
     "iopub.status.busy": "2020-09-05T16:13:45.060370Z",
     "iopub.status.idle": "2020-09-05T16:13:45.064039Z",
     "shell.execute_reply": "2020-09-05T16:13:45.063204Z"
    },
    "papermill": {
     "duration": 0.025995,
     "end_time": "2020-09-05T16:13:45.064192",
     "exception": false,
     "start_time": "2020-09-05T16:13:45.038197",
     "status": "completed"
    },
    "tags": []
   },
   "outputs": [],
   "source": [
    "bar_data = pokemon['Type 1'].value_counts().reset_index()\n",
    "bar_data['err'] = pokemon['Type 1'].value_counts().std()"
   ]
  },
  {
   "cell_type": "code",
   "execution_count": 7,
   "metadata": {
    "execution": {
     "iopub.execute_input": "2020-09-05T16:13:45.109866Z",
     "iopub.status.busy": "2020-09-05T16:13:45.103295Z",
     "iopub.status.idle": "2020-09-05T16:13:45.356869Z",
     "shell.execute_reply": "2020-09-05T16:13:45.356149Z"
    },
    "papermill": {
     "duration": 0.280679,
     "end_time": "2020-09-05T16:13:45.357012",
     "exception": false,
     "start_time": "2020-09-05T16:13:45.076333",
     "status": "completed"
    },
    "tags": []
   },
   "outputs": [
    {
     "data": {
      "text/plain": [
       "Text(0.5, 1.0, 'Abilities of Pokemons')"
      ]
     },
     "execution_count": 7,
     "metadata": {},
     "output_type": "execute_result"
    },
    {
     "data": {
      "image/png": "[encoded data removed]",
      "text/plain": [
       "<Figure size 432x288 with 1 Axes>"
      ]
     },
     "metadata": {
      "needs_background": "light"
     },
     "output_type": "display_data"
    }
   ],
   "source": [
    "plt.bar(bar_data['index'], bar_data['Type 1'])\n",
    "plt.xticks(rotation=90)\n",
    "plt.xlabel('Ability')\n",
    "plt.ylabel('Count')\n",
    "plt.title(\"Abilities of Pokemons\")"
   ]
  },
  {
   "cell_type": "code",
   "execution_count": 8,
   "metadata": {
    "execution": {
     "iopub.execute_input": "2020-09-05T16:13:45.395678Z",
     "iopub.status.busy": "2020-09-05T16:13:45.388544Z",
     "iopub.status.idle": "2020-09-05T16:13:45.649025Z",
     "shell.execute_reply": "2020-09-05T16:13:45.648237Z"
    },
    "papermill": {
     "duration": 0.27987,
     "end_time": "2020-09-05T16:13:45.649154",
     "exception": false,
     "start_time": "2020-09-05T16:13:45.369284",
     "status": "completed"
    },
    "tags": []
   },
   "outputs": [
    {
     "data": {
      "text/plain": [
       "Text(0.5, 1.0, 'Abilities of Pokemons')"
      ]
     },
     "execution_count": 8,
     "metadata": {},
     "output_type": "execute_result"
    },
    {
     "data": {
      "image/png": "[encoded data removed]",
      "text/plain": [
       "<Figure size 432x288 with 1 Axes>"
      ]
     },
     "metadata": {
      "needs_background": "light"
     },
     "output_type": "display_data"
    }
   ],
   "source": [
    "plt.bar(bar_data['index'], bar_data['Type 1'], yerr=bar_data['err'])\n",
    "plt.xticks(rotation=90)\n",
    "plt.xlabel('Ability')\n",
    "plt.ylabel('Count')\n",
    "plt.title(\"Abilities of Pokemons\")"
   ]
  },
  {
   "cell_type": "markdown",
   "execution_count": null,
   "metadata": {
    "papermill": {
     "duration": 0.012421,
     "end_time": "2020-09-05T16:13:45.674044",
     "exception": false,
     "start_time": "2020-09-05T16:13:45.661623",
     "status": "completed"
    },
    "tags": []
   },
   "source": [
    "# Horizontal Bar Chart"
   ]
  },
  {
   "cell_type": "code",
   "execution_count": 9,
   "metadata": {
    "execution": {
     "iopub.execute_input": "2020-09-05T16:13:45.711780Z",
     "iopub.status.busy": "2020-09-05T16:13:45.706067Z",
     "iopub.status.idle": "2020-09-05T16:13:45.990663Z",
     "shell.execute_reply": "2020-09-05T16:13:45.990004Z"
    },
    "papermill": {
     "duration": 0.304581,
     "end_time": "2020-09-05T16:13:45.990806",
     "exception": false,
     "start_time": "2020-09-05T16:13:45.686225",
     "status": "completed"
    },
    "tags": []
   },
   "outputs": [
    {
     "data": {
      "text/plain": [
       "Text(0.5, 1.0, 'Abilities of Pokemons')"
      ]
     },
     "execution_count": 9,
     "metadata": {},
     "output_type": "execute_result"
    },
    {
     "data": {
      "image/png": "[encoded data removed]",
      "text/plain": [
       "<Figure size 720x432 with 1 Axes>"
      ]
     },
     "metadata": {
      "needs_background": "light"
     },
     "output_type": "display_data"
    }
   ],
   "source": [
    "plt.figure(figsize=(10,6))\n",
    "plt.barh(bar_data['index'], bar_data['Type 1'])\n",
    "plt.xlabel('Ability')\n",
    "plt.ylabel('Count')\n",
    "plt.title(\"Abilities of Pokemons\")"
   ]
  },
  {
   "cell_type": "markdown",
   "execution_count": null,
   "metadata": {
    "papermill": {
     "duration": 0.013698,
     "end_time": "2020-09-05T16:13:46.017349",
     "exception": false,
     "start_time": "2020-09-05T16:13:46.003651",
     "status": "completed"
    },
    "tags": []
   },
   "source": [
    "# Box Plot\n",
    "A Box and Whisker Plot (or Box Plot) is a convenient way of visually displaying the data distribution through their quartiles."
   ]
  },
  {
   "cell_type": "markdown",
   "execution_count": null,
   "metadata": {
    "papermill": {
     "duration": 0.013159,
     "end_time": "2020-09-05T16:13:46.044115",
     "exception": false,
     "start_time": "2020-09-05T16:13:46.030956",
     "status": "completed"
    },
    "tags": []
   },
   "source": [
    "![](https://datavizcatalogue.com/methods/images/anatomy/box_plot.png)\n",
    "<font size=1><center>Source: [DataVizCatalogue](https://datavizcatalogue.com/methods/images/anatomy/box_plot.png)</center></font>"
   ]
  },
  {
   "cell_type": "markdown",
   "execution_count": null,
   "metadata": {
    "papermill": {
     "duration": 0.013286,
     "end_time": "2020-09-05T16:13:46.070693",
     "exception": false,
     "start_time": "2020-09-05T16:13:46.057407",
     "status": "completed"
    },
    "tags": []
   },
   "source": [
    "## Simple Box Plot"
   ]
  },
  {
   "cell_type": "code",
   "execution_count": 10,
   "metadata": {
    "execution": {
     "iopub.execute_input": "2020-09-05T16:13:46.114527Z",
     "iopub.status.busy": "2020-09-05T16:13:46.113695Z",
     "iopub.status.idle": "2020-09-05T16:13:46.262284Z",
     "shell.execute_reply": "2020-09-05T16:13:46.261414Z"
    },
    "papermill": {
     "duration": 0.17676,
     "end_time": "2020-09-05T16:13:46.262438",
     "exception": false,
     "start_time": "2020-09-05T16:13:46.085678",
     "status": "completed"
    },
    "tags": []
   },
   "outputs": [
    {
     "data": {
      "text/plain": [
       "Text(0.5, 1.0, 'Simple Box Plot')"
      ]
     },
     "execution_count": 10,
     "metadata": {},
     "output_type": "execute_result"
    },
    {
     "data": {
      "image/png": "[encoded data removed]",
      "text/plain": [
       "<Figure size 720x432 with 1 Axes>"
      ]
     },
     "metadata": {
      "needs_background": "light"
     },
     "output_type": "display_data"
    }
   ],
   "source": [
    "plt.figure(figsize=(10,6))\n",
    "plt.boxplot(heart_diseases['chol'])\n",
    "plt.ylabel('Value')\n",
    "plt.title(\"Simple Box Plot\")"
   ]
  },
  {
   "cell_type": "markdown",
   "execution_count": null,
   "metadata": {
    "papermill": {
     "duration": 0.017289,
     "end_time": "2020-09-05T16:13:46.295382",
     "exception": false,
     "start_time": "2020-09-05T16:13:46.278093",
     "status": "completed"
    },
    "tags": []
   },
   "source": [
    "## Multiple Box"
   ]
  },
  {
   "cell_type": "code",
   "execution_count": 11,
   "metadata": {
    "execution": {
     "iopub.execute_input": "2020-09-05T16:13:46.335433Z",
     "iopub.status.busy": "2020-09-05T16:13:46.334173Z",
     "iopub.status.idle": "2020-09-05T16:13:46.556418Z",
     "shell.execute_reply": "2020-09-05T16:13:46.555525Z"
    },
    "papermill": {
     "duration": 0.248214,
     "end_time": "2020-09-05T16:13:46.556561",
     "exception": false,
     "start_time": "2020-09-05T16:13:46.308347",
     "status": "completed"
    },
    "tags": []
   },
   "outputs": [
    {
     "data": {
      "text/plain": [
       "Text(0.5, 1.0, 'Box Plot')"
      ]
     },
     "execution_count": 11,
     "metadata": {},
     "output_type": "execute_result"
    },
    {
     "data": {
      "image/png": "[encoded data removed]",
      "text/plain": [
       "<Figure size 720x432 with 1 Axes>"
      ]
     },
     "metadata": {
      "needs_background": "light"
     },
     "output_type": "display_data"
    }
   ],
   "source": [
    "plt.figure(figsize=(10,6))\n",
    "plt.boxplot([diabetes['Age'], diabetes['BMI']])\n",
    "plt.ylabel('Value')\n",
    "plt.title(\"Box Plot\")"
   ]
  },
  {
   "cell_type": "markdown",
   "execution_count": null,
   "metadata": {
    "papermill": {
     "duration": 0.014337,
     "end_time": "2020-09-05T16:13:46.585976",
     "exception": false,
     "start_time": "2020-09-05T16:13:46.571639",
     "status": "completed"
    },
    "tags": []
   },
   "source": [
    "## Adding Xticks to Box Plot"
   ]
  },
  {
   "cell_type": "code",
   "execution_count": 12,
   "metadata": {
    "execution": {
     "iopub.execute_input": "2020-09-05T16:13:46.629534Z",
     "iopub.status.busy": "2020-09-05T16:13:46.628678Z",
     "iopub.status.idle": "2020-09-05T16:13:46.844721Z",
     "shell.execute_reply": "2020-09-05T16:13:46.843997Z"
    },
    "papermill": {
     "duration": 0.244566,
     "end_time": "2020-09-05T16:13:46.844876",
     "exception": false,
     "start_time": "2020-09-05T16:13:46.600310",
     "status": "completed"
    },
    "tags": []
   },
   "outputs": [
    {
     "data": {
      "text/plain": [
       "Text(0.5, 1.0, 'Box Plot')"
      ]
     },
     "execution_count": 12,
     "metadata": {},
     "output_type": "execute_result"
    },
    {
     "data": {
      "image/png": "[encoded data removed]",
      "text/plain": [
       "<Figure size 720x432 with 1 Axes>"
      ]
     },
     "metadata": {
      "needs_background": "light"
     },
     "output_type": "display_data"
    }
   ],
   "source": [
    "plt.figure(figsize=(10,6))\n",
    "plt.boxplot([diabetes['Age'], diabetes['BMI'], diabetes['BloodPressure'], diabetes['Glucose']])\n",
    "plt.xticks([1, 2, 3, 4], ['Age', 'BMI', 'BloodPressure', 'Glucose'])\n",
    "plt.ylabel('Value')\n",
    "plt.title(\"Box Plot\")"
   ]
  },
  {
   "cell_type": "markdown",
   "execution_count": null,
   "metadata": {
    "papermill": {
     "duration": 0.01436,
     "end_time": "2020-09-05T16:13:46.873782",
     "exception": false,
     "start_time": "2020-09-05T16:13:46.859422",
     "status": "completed"
    },
    "tags": []
   },
   "source": [
    "# Horizontal Box Plot"
   ]
  },
  {
   "cell_type": "code",
   "execution_count": 13,
   "metadata": {
    "execution": {
     "iopub.execute_input": "2020-09-05T16:13:46.926480Z",
     "iopub.status.busy": "2020-09-05T16:13:46.925512Z",
     "iopub.status.idle": "2020-09-05T16:13:47.146525Z",
     "shell.execute_reply": "2020-09-05T16:13:47.145687Z"
    },
    "papermill": {
     "duration": 0.258233,
     "end_time": "2020-09-05T16:13:47.146655",
     "exception": false,
     "start_time": "2020-09-05T16:13:46.888422",
     "status": "completed"
    },
    "tags": []
   },
   "outputs": [
    {
     "data": {
      "text/plain": [
       "Text(0.5, 1.0, 'Box Plot')"
      ]
     },
     "execution_count": 13,
     "metadata": {},
     "output_type": "execute_result"
    },
    {
     "data": {
      "image/png": "[encoded data removed]",
      "text/plain": [
       "<Figure size 720x432 with 1 Axes>"
      ]
     },
     "metadata": {
      "needs_background": "light"
     },
     "output_type": "display_data"
    }
   ],
   "source": [
    "plt.figure(figsize=(10,6))\n",
    "plt.boxplot([diabetes['Age'], diabetes['BMI'], diabetes['BloodPressure'], diabetes['Glucose']], vert=False)\n",
    "plt.yticks([1, 2, 3, 4], ['Age', 'BMI', 'BloodPressure', 'Glucose'])\n",
    "plt.xlabel('Value')\n",
    "plt.title(\"Box Plot\")"
   ]
  },
  {
   "cell_type": "markdown",
   "execution_count": null,
   "metadata": {
    "papermill": {
     "duration": 0.018069,
     "end_time": "2020-09-05T16:13:47.179402",
     "exception": false,
     "start_time": "2020-09-05T16:13:47.161333",
     "status": "completed"
    },
    "tags": []
   },
   "source": [
    "## Don't forget to upvote if you like it!. \n",
    "If you have any doubt reagrding any part of the notebook, feel free to comment your doubt in the comment box.\n",
    "\n",
    "Thank you!!\n",
    "\n",
    "## Work in Progress... ⏳"
   ]
  }
 ],
 "metadata": {
  "kernelspec": {
   "display_name": "Python 3",
   "language": "python",
   "name": "python3"
  },
  "language_info": {
   "codemirror_mode": {
    "name": "ipython",
    "version": 3
   },
   "file_extension": ".py",
   "mimetype": "text/x-python",
   "name": "python",
   "nbconvert_exporter": "python",
   "pygments_lexer": "ipython3",
   "version": "3.7.6"
  },
  "papermill": {
   "duration": 9.409313,
   "end_time": "2020-09-05T16:13:47.307294",
   "environment_variables": {},
   "exception": null,
   "input_path": "__notebook__.ipynb",
   "output_path": "__notebook__.ipynb",
   "parameters": {},
   "start_time": "2020-09-05T16:13:37.897981",
   "version": "2.1.0"
  }
 },
 "nbformat": 4,
 "nbformat_minor": 4
}
