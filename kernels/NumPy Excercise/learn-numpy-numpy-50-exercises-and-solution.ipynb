{
 "cells": [
  {
   "cell_type": "markdown",
   "execution_count": null,
   "metadata": {
    "papermill": {
     "duration": 0.026919,
     "end_time": "2020-09-06T17:12:40.261897",
     "exception": false,
     "start_time": "2020-09-06T17:12:40.234978",
     "status": "completed"
    },
    "tags": []
   },
   "source": [
    "# NumPy Exercises"
   ]
  },
  {
   "cell_type": "markdown",
   "execution_count": null,
   "metadata": {
    "papermill": {
     "duration": 0.022974,
     "end_time": "2020-09-06T17:12:40.308634",
     "exception": false,
     "start_time": "2020-09-06T17:12:40.285660",
     "status": "completed"
    },
    "tags": []
   },
   "source": [
    "This kernel uses exercises of NumPy from the Machine Learning Plus webpage --> https://www.machinelearningplus.com/python/101-numpy-exercises-python/"
   ]
  },
  {
   "cell_type": "markdown",
   "execution_count": null,
   "metadata": {
    "papermill": {
     "duration": 0.022836,
     "end_time": "2020-09-06T17:12:40.354774",
     "exception": false,
     "start_time": "2020-09-06T17:12:40.331938",
     "status": "completed"
    },
    "tags": []
   },
   "source": [
    "This kernel is part of my 100 days of machine learning challenge.\n",
    "Check out my progress on this challenge --> https://github.com/themlphdstudent/100DaysofMachineLearning"
   ]
  },
  {
   "cell_type": "markdown",
   "execution_count": null,
   "metadata": {
    "papermill": {
     "duration": 0.023005,
     "end_time": "2020-09-06T17:12:40.401150",
     "exception": false,
     "start_time": "2020-09-06T17:12:40.378145",
     "status": "completed"
    },
    "tags": []
   },
   "source": [
    "## <font color='red'> <center> I am continuously updating this kernel. </center> </font>\n",
    "\n",
    "## <font color='red'> <center> Don't forget to upvote. </center> </font>"
   ]
  },
  {
   "cell_type": "markdown",
   "execution_count": null,
   "metadata": {
    "papermill": {
     "duration": 0.023716,
     "end_time": "2020-09-06T17:12:40.447872",
     "exception": false,
     "start_time": "2020-09-06T17:12:40.424156",
     "status": "completed"
    },
    "tags": []
   },
   "source": [
    "<a id=\"top\"></a>\n",
    "# Table of Content\n",
    "- [Import required libraries](import_required_libraries)\n",
    "- [*Exercise 1*. Import numpy as np and see the version](#1)\n",
    "- [*Exercise 2*. How to create a 1D array?](#2)\n",
    "- [*Exercise 3*. How to create a boolean array?](#3)\n",
    "- [*Exercise 4*. How to extract items that satisfy a given condition from 1D array?](#4)\n",
    "- [*Exercise 5*. How to replace items that satisfy a condition with another value in numpy array?](#5)\n",
    "- [*Exercise 6*. How to replace items that satisfy a condition without affecting the original array?](#6)\n",
    "- [*Exercise 7*. How to reshape an array?](#7)\n",
    "- [*Exercise 8*. How to stack two arrays vertically?](#8)\n",
    "- [*Exercise 9*. How to stack two arrays horizontally?](#9)\n",
    "- [*Exercise 10*. How to generate custom sequences in numpy without hardcoding?](#10)\n",
    "- [*Exercise 11*. How to get the common items between two python numpy arrays?](#11)\n",
    "- [*Exercise 12*. How to remove from one array those items that exist in another?](#12)\n",
    "- [*Exercise 13*. How to get the positions where elements of two arrays match?](#13)\n",
    "- [*Exercise 14*. How to extract all numbers between a given range from a numpy array?](#14)\n",
    "- [*Exercise 15*. How to make a python function that handles scalars to work on numpy arrays?](#15)\n",
    "- [*Exercise 16*. How to swap two columns in a 2d numpy array?](#16)\n",
    "- [*Exercise 17*. How to swap two rows in a 2d numpy array?](#17)\n",
    "- [*Exercise 18*. How to reverse the rows of a 2D array?](#18)\n",
    "- [*Exercise 19*. How to reverse the columns of a 2D array?](#19)\n",
    "- [*Exercise 20*. How to create a 2D array containing random floats between 5 and 10?](#20)\n",
    "- [*Exercise 21*. How to print only 3 decimal places in python numpy array?](#21)\n",
    "- [*Exercise 22*. How to pretty print a numpy array by suppressing the scientific notation (like 1e10)?](#22)\n",
    "- [*Exercise 23*. How to limit the number of items printed in output of numpy array?](#23)\n",
    "- [*Exercise 24*. How to print the full numpy array without truncating](#24)\n",
    "- [*Exercise 25*. How to import a dataset with numbers and texts keeping the text intact in python numpy?](#25)\n",
    "- [*Exercise 26*. How to extract a particular column from 1D array of tuples?](#26)\n",
    "- [*Exercise 27*. How to convert a 1d array of tuples to a 2d numpy array? ](#27)\n",
    "- [*Exercise 28*. How to compute the mean, median, standard deviation of a numpy array?](#28)\n",
    "- [*Exercise 29*. How to normalize an array so the values range exactly between 0 and 1?](#29)\n",
    "- [*Exercise 30*. How to compute the softmax score?](#30)\n",
    "- [*Exercise 31*. How to find the percentile scores of a numpy array?](#31)\n",
    "- [*Exercise 32*. How to insert values at random positions in an array?](#32)\n",
    "- [*Exercise 33*. How to find the position of missing values in numpy array?](#33)\n",
    "- [*Exercise 34*. How to filter a numpy array based on two or more conditions?](#34)\n",
    "- [*Exercise 35*. How to drop rows that contain a missing value from a numpy array?](#35)\n",
    "- [*Exercise 36*. How to find the correlation between two columns of a numpy array?](#36)\n",
    "- [*Exercise 43*. How to get the second largest value of an array when grouped by another array?](#43)\n",
    "- [*Exercise 44*. How to sort a 2D array by a column](#44)\n",
    "- [*Exercise 45*. How to find the most frequent value in a numpy array?](#45)\n",
    "- [*Exercise 46*. How to find the position of the first occurrence of a value greater than a given value?](#46)\n",
    "- [*Exercise 47*. How to replace all values greater than a given value to a given cutoff?](#47)\n",
    "- [*Exercise 48*. How to get the positions of top n values from a numpy array?](#48)\n",
    "- [*Exercise 49*. How to compute the row wise counts of all possible values in an array?](#49)\n",
    "- [*Exercise 50*. How to convert an array of arrays into a flat 1d array?](#50)"
   ]
  },
  {
   "cell_type": "markdown",
   "execution_count": null,
   "metadata": {
    "papermill": {
     "duration": 0.02313,
     "end_time": "2020-09-06T17:12:40.494817",
     "exception": false,
     "start_time": "2020-09-06T17:12:40.471687",
     "status": "completed"
    },
    "tags": []
   },
   "source": [
    "<a id='import_required_libraries'></a>\n",
    "## Import required libraries\n",
    "<a href=\"#top\" class=\"btn btn-primary btn-sm\" role=\"button\" aria-pressed=\"true\" style=\"color:white\" data-toggle=\"popover\">Go to TOC</a>"
   ]
  },
  {
   "cell_type": "code",
   "execution_count": 1,
   "metadata": {
    "_cell_guid": "b1076dfc-b9ad-4769-8c92-a6c4dae69d19",
    "_uuid": "8f2839f25d086af736a60e9eeb907d3b93b6e0e5",
    "execution": {
     "iopub.execute_input": "2020-09-06T17:12:40.550211Z",
     "iopub.status.busy": "2020-09-06T17:12:40.549453Z",
     "iopub.status.idle": "2020-09-06T17:12:40.588035Z",
     "shell.execute_reply": "2020-09-06T17:12:40.587073Z"
    },
    "papermill": {
     "duration": 0.069299,
     "end_time": "2020-09-06T17:12:40.588215",
     "exception": false,
     "start_time": "2020-09-06T17:12:40.518916",
     "status": "completed"
    },
    "tags": []
   },
   "outputs": [
    {
     "name": "stdout",
     "output_type": "stream",
     "text": [
      "../input/red-wine-quality-cortez-et-al-2009/winequality-red.csv\n",
      "../input/pima-indians-diabetes-database/diabetes.csv\n",
      "../input/mushroom-classification/mushrooms.csv\n",
      "../input/iris/database.sqlite\n",
      "../input/iris/Iris.csv\n",
      "../input/heart-disease-uci/heart.csv\n"
     ]
    }
   ],
   "source": [
    "# importing the core library\n",
    "import numpy as np\n",
    "\n",
    "import os\n",
    "for dirname, _, filenames in os.walk('../input'):\n",
    "    for filename in filenames:\n",
    "        print(os.path.join(dirname, filename))\n",
    "        \n",
    "# print multiple output in single cell\n",
    "from IPython.core.interactiveshell import InteractiveShell\n",
    "InteractiveShell.ast_node_interactivity = \"all\""
   ]
  },
  {
   "cell_type": "markdown",
   "execution_count": null,
   "metadata": {
    "papermill": {
     "duration": 0.022985,
     "end_time": "2020-09-06T17:12:40.635421",
     "exception": false,
     "start_time": "2020-09-06T17:12:40.612436",
     "status": "completed"
    },
    "tags": []
   },
   "source": [
    "<a id='1'></a>\n",
    "### *Exercise 1*. Import numpy as np and see the version\n",
    "<a href=\"#top\" class=\"btn btn-primary btn-sm\" role=\"button\" aria-pressed=\"true\" style=\"color:white\" data-toggle=\"popover\">Go to TOC</a>"
   ]
  },
  {
   "cell_type": "code",
   "execution_count": 2,
   "metadata": {
    "_cell_guid": "79c7e3d0-c299-4dcb-8224-4455121ee9b0",
    "_uuid": "d629ff2d2480ee46fbb7e2d37f6b5fab8052498a",
    "execution": {
     "iopub.execute_input": "2020-09-06T17:12:40.688089Z",
     "iopub.status.busy": "2020-09-06T17:12:40.687337Z",
     "iopub.status.idle": "2020-09-06T17:12:40.691368Z",
     "shell.execute_reply": "2020-09-06T17:12:40.691961Z"
    },
    "papermill": {
     "duration": 0.033336,
     "end_time": "2020-09-06T17:12:40.692121",
     "exception": false,
     "start_time": "2020-09-06T17:12:40.658785",
     "status": "completed"
    },
    "tags": []
   },
   "outputs": [
    {
     "name": "stdout",
     "output_type": "stream",
     "text": [
      "1.18.5\n"
     ]
    }
   ],
   "source": [
    "\n",
    "import numpy as np\n",
    "print(np.__version__)"
   ]
  },
  {
   "cell_type": "markdown",
   "execution_count": null,
   "metadata": {
    "papermill": {
     "duration": 0.023217,
     "end_time": "2020-09-06T17:12:40.740072",
     "exception": false,
     "start_time": "2020-09-06T17:12:40.716855",
     "status": "completed"
    },
    "tags": []
   },
   "source": [
    "<a id='2'></a>\n",
    "### *Exercise 2*. How to create a 1D array?\n",
    "<a href=\"#top\" class=\"btn btn-primary btn-sm\" role=\"button\" aria-pressed=\"true\" style=\"color:white\" data-toggle=\"popover\">Go to TOC</a>"
   ]
  },
  {
   "cell_type": "code",
   "execution_count": 3,
   "metadata": {
    "execution": {
     "iopub.execute_input": "2020-09-06T17:12:40.797248Z",
     "iopub.status.busy": "2020-09-06T17:12:40.796310Z",
     "iopub.status.idle": "2020-09-06T17:12:40.800742Z",
     "shell.execute_reply": "2020-09-06T17:12:40.801349Z"
    },
    "papermill": {
     "duration": 0.037894,
     "end_time": "2020-09-06T17:12:40.801507",
     "exception": false,
     "start_time": "2020-09-06T17:12:40.763613",
     "status": "completed"
    },
    "tags": []
   },
   "outputs": [
    {
     "data": {
      "text/plain": [
       "array([0, 1, 2, 3, 4, 5, 6, 7, 8, 9])"
      ]
     },
     "execution_count": 3,
     "metadata": {},
     "output_type": "execute_result"
    }
   ],
   "source": [
    "# Question : Create a 1D array of numbers from 0 to 9\n",
    "# Output : #> array([0, 1, 2, 3, 4, 5, 6, 7, 8, 9])\n",
    "\n",
    "# Solution\n",
    "X = np.arange(10)\n",
    "X"
   ]
  },
  {
   "cell_type": "markdown",
   "execution_count": null,
   "metadata": {
    "papermill": {
     "duration": 0.02352,
     "end_time": "2020-09-06T17:12:40.849037",
     "exception": false,
     "start_time": "2020-09-06T17:12:40.825517",
     "status": "completed"
    },
    "tags": []
   },
   "source": [
    "<a id='3'></a>\n",
    "### *Exercise 3*. How to create a boolean array?\n",
    "<a href=\"#top\" class=\"btn btn-primary btn-sm\" role=\"button\" aria-pressed=\"true\" style=\"color:white\" data-toggle=\"popover\">Go to TOC</a>"
   ]
  },
  {
   "cell_type": "code",
   "execution_count": 4,
   "metadata": {
    "execution": {
     "iopub.execute_input": "2020-09-06T17:12:40.906065Z",
     "iopub.status.busy": "2020-09-06T17:12:40.905253Z",
     "iopub.status.idle": "2020-09-06T17:12:40.917600Z",
     "shell.execute_reply": "2020-09-06T17:12:40.918161Z"
    },
    "papermill": {
     "duration": 0.045602,
     "end_time": "2020-09-06T17:12:40.918390",
     "exception": false,
     "start_time": "2020-09-06T17:12:40.872788",
     "status": "completed"
    },
    "tags": []
   },
   "outputs": [
    {
     "data": {
      "text/plain": [
       "array([[ True,  True,  True],\n",
       "       [ True,  True,  True],\n",
       "       [ True,  True,  True]])"
      ]
     },
     "execution_count": 4,
     "metadata": {},
     "output_type": "execute_result"
    },
    {
     "data": {
      "text/plain": [
       "array([[ True,  True,  True],\n",
       "       [ True,  True,  True],\n",
       "       [ True,  True,  True]])"
      ]
     },
     "execution_count": 4,
     "metadata": {},
     "output_type": "execute_result"
    },
    {
     "data": {
      "text/plain": [
       "array([[ True,  True,  True],\n",
       "       [ True,  True,  True],\n",
       "       [ True,  True,  True]])"
      ]
     },
     "execution_count": 4,
     "metadata": {},
     "output_type": "execute_result"
    },
    {
     "data": {
      "text/plain": [
       "array([[ True,  True,  True],\n",
       "       [ True,  True,  True],\n",
       "       [ True,  True,  True]])"
      ]
     },
     "execution_count": 4,
     "metadata": {},
     "output_type": "execute_result"
    }
   ],
   "source": [
    "# Question : Create a 3×3 numpy array of all True’s\n",
    "\n",
    "# Solution\n",
    "np.full((3,3), True, dtype=bool)\n",
    "\n",
    "#or\n",
    "np.full((9), True, dtype=bool).reshape(3,3)\n",
    "\n",
    "#or\n",
    "np.ones((3,3), dtype=bool)\n",
    "\n",
    "#or\n",
    "np.ones((9), dtype=bool).reshape(3,3)"
   ]
  },
  {
   "cell_type": "markdown",
   "execution_count": null,
   "metadata": {
    "papermill": {
     "duration": 0.023817,
     "end_time": "2020-09-06T17:12:40.966365",
     "exception": false,
     "start_time": "2020-09-06T17:12:40.942548",
     "status": "completed"
    },
    "tags": []
   },
   "source": [
    "<a id='4'></a>\n",
    "### *Exercise 4*. How to extract items that satisfy a given condition from 1D array?\n",
    "<a href=\"#top\" class=\"btn btn-primary btn-sm\" role=\"button\" aria-pressed=\"true\" style=\"color:white\" data-toggle=\"popover\">Go to TOC</a>"
   ]
  },
  {
   "cell_type": "code",
   "execution_count": 5,
   "metadata": {
    "execution": {
     "iopub.execute_input": "2020-09-06T17:12:41.022525Z",
     "iopub.status.busy": "2020-09-06T17:12:41.021570Z",
     "iopub.status.idle": "2020-09-06T17:12:41.026062Z",
     "shell.execute_reply": "2020-09-06T17:12:41.025252Z"
    },
    "papermill": {
     "duration": 0.035606,
     "end_time": "2020-09-06T17:12:41.026208",
     "exception": false,
     "start_time": "2020-09-06T17:12:40.990602",
     "status": "completed"
    },
    "tags": []
   },
   "outputs": [
    {
     "data": {
      "text/plain": [
       "array([1, 3, 5, 7, 9])"
      ]
     },
     "execution_count": 5,
     "metadata": {},
     "output_type": "execute_result"
    }
   ],
   "source": [
    "# Question : Extract all odd numbers from array\n",
    "# input: arr = np.array([0, 1, 2, 3, 4, 5, 6, 7, 8, 9])\n",
    "# output: array([1, 3, 5, 7, 9])\n",
    "\n",
    "#Solution\n",
    "\n",
    "arr = np.arange(10)\n",
    "\n",
    "arr[arr%2 == 1]"
   ]
  },
  {
   "cell_type": "markdown",
   "execution_count": null,
   "metadata": {
    "papermill": {
     "duration": 0.024524,
     "end_time": "2020-09-06T17:12:41.075878",
     "exception": false,
     "start_time": "2020-09-06T17:12:41.051354",
     "status": "completed"
    },
    "tags": []
   },
   "source": [
    "<a id='5'></a>\n",
    "### *Exercise 5*. How to replace items that satisfy a condition with another value in numpy array?\n",
    "<a href=\"#top\" class=\"btn btn-primary btn-sm\" role=\"button\" aria-pressed=\"true\" style=\"color:white\" data-toggle=\"popover\">Go to TOC</a>"
   ]
  },
  {
   "cell_type": "code",
   "execution_count": 6,
   "metadata": {
    "execution": {
     "iopub.execute_input": "2020-09-06T17:12:41.134422Z",
     "iopub.status.busy": "2020-09-06T17:12:41.132941Z",
     "iopub.status.idle": "2020-09-06T17:12:41.140642Z",
     "shell.execute_reply": "2020-09-06T17:12:41.139582Z"
    },
    "papermill": {
     "duration": 0.040263,
     "end_time": "2020-09-06T17:12:41.140823",
     "exception": false,
     "start_time": "2020-09-06T17:12:41.100560",
     "status": "completed"
    },
    "tags": []
   },
   "outputs": [
    {
     "data": {
      "text/plain": [
       "array([ 0, -1,  2, -1,  4, -1,  6, -1,  8, -1])"
      ]
     },
     "execution_count": 6,
     "metadata": {},
     "output_type": "execute_result"
    }
   ],
   "source": [
    "# Question: Replace all odd numbers in arr with -1\n",
    "# input: arr = np.array([0, 1, 2, 3, 4, 5, 6, 7, 8, 9])\n",
    "# output: array([ 0, -1,  2, -1,  4, -1,  6, -1,  8, -1])\n",
    "\n",
    "# Solution\n",
    "\n",
    "arr = np.arange(10)\n",
    "\n",
    "arr[arr%2 == 1] = -1\n",
    "arr"
   ]
  },
  {
   "cell_type": "markdown",
   "execution_count": null,
   "metadata": {
    "papermill": {
     "duration": 0.031636,
     "end_time": "2020-09-06T17:12:41.202791",
     "exception": false,
     "start_time": "2020-09-06T17:12:41.171155",
     "status": "completed"
    },
    "tags": []
   },
   "source": [
    "<a id='6'></a>\n",
    "### *Exercise 6*. How to replace items that satisfy a condition without affecting the original array?\n",
    "<a href=\"#top\" class=\"btn btn-primary btn-sm\" role=\"button\" aria-pressed=\"true\" style=\"color:white\" data-toggle=\"popover\">Go to TOC</a>"
   ]
  },
  {
   "cell_type": "code",
   "execution_count": 7,
   "metadata": {
    "execution": {
     "iopub.execute_input": "2020-09-06T17:12:41.275921Z",
     "iopub.status.busy": "2020-09-06T17:12:41.275030Z",
     "iopub.status.idle": "2020-09-06T17:12:41.285479Z",
     "shell.execute_reply": "2020-09-06T17:12:41.288338Z"
    },
    "papermill": {
     "duration": 0.056423,
     "end_time": "2020-09-06T17:12:41.288564",
     "exception": false,
     "start_time": "2020-09-06T17:12:41.232141",
     "status": "completed"
    },
    "tags": []
   },
   "outputs": [
    {
     "name": "stdout",
     "output_type": "stream",
     "text": [
      "Modified Array\n"
     ]
    },
    {
     "data": {
      "text/plain": [
       "array([ 0, -1,  2, -1,  4, -1,  6, -1,  8, -1])"
      ]
     },
     "execution_count": 7,
     "metadata": {},
     "output_type": "execute_result"
    },
    {
     "name": "stdout",
     "output_type": "stream",
     "text": [
      "\n",
      "Original Array\n"
     ]
    },
    {
     "data": {
      "text/plain": [
       "array([0, 1, 2, 3, 4, 5, 6, 7, 8, 9])"
      ]
     },
     "execution_count": 7,
     "metadata": {},
     "output_type": "execute_result"
    }
   ],
   "source": [
    "# Question: Replace all odd numbers in arr with -1 without changing arr\n",
    "# input: arr = np.array([0, 1, 2, 3, 4, 5, 6, 7, 8, 9])\n",
    "# output: out\n",
    "# array([ 0, -1,  2, -1,  4, -1,  6, -1,  8, -1])\n",
    "# arr\n",
    "# array([0, 1, 2, 3, 4, 5, 6, 7, 8, 9])\n",
    "\n",
    "# Solution\n",
    "\n",
    "arr = np.arange(10)\n",
    "\n",
    "out = arr.copy()\n",
    "\n",
    "out[out%2 == 1] = -1\n",
    "\n",
    "print('Modified Array')\n",
    "out\n",
    "\n",
    "print('\\nOriginal Array')\n",
    "arr"
   ]
  },
  {
   "cell_type": "markdown",
   "execution_count": null,
   "metadata": {
    "papermill": {
     "duration": 0.025133,
     "end_time": "2020-09-06T17:12:41.341587",
     "exception": false,
     "start_time": "2020-09-06T17:12:41.316454",
     "status": "completed"
    },
    "tags": []
   },
   "source": [
    "<a id='7'></a>\n",
    "### *Exercise 7*. How to reshape an array?\n",
    "<a href=\"#top\" class=\"btn btn-primary btn-sm\" role=\"button\" aria-pressed=\"true\" style=\"color:white\" data-toggle=\"popover\">Go to TOC</a>"
   ]
  },
  {
   "cell_type": "code",
   "execution_count": 8,
   "metadata": {
    "execution": {
     "iopub.execute_input": "2020-09-06T17:12:41.399908Z",
     "iopub.status.busy": "2020-09-06T17:12:41.399070Z",
     "iopub.status.idle": "2020-09-06T17:12:41.406971Z",
     "shell.execute_reply": "2020-09-06T17:12:41.406176Z"
    },
    "papermill": {
     "duration": 0.040323,
     "end_time": "2020-09-06T17:12:41.407110",
     "exception": false,
     "start_time": "2020-09-06T17:12:41.366787",
     "status": "completed"
    },
    "tags": []
   },
   "outputs": [
    {
     "data": {
      "text/plain": [
       "array([[0, 1, 2, 3, 4],\n",
       "       [5, 6, 7, 8, 9]])"
      ]
     },
     "execution_count": 8,
     "metadata": {},
     "output_type": "execute_result"
    },
    {
     "data": {
      "text/plain": [
       "array([[0, 1, 2, 3, 4],\n",
       "       [5, 6, 7, 8, 9]])"
      ]
     },
     "execution_count": 8,
     "metadata": {},
     "output_type": "execute_result"
    }
   ],
   "source": [
    "# Question: Convert a 1D array to a 2D array with 2 rows\n",
    "# input: np.arange(10)\n",
    "# output array([[0, 1, 2, 3, 4],\n",
    "#               [5, 6, 7, 8, 9]])\n",
    "\n",
    "# Solution\n",
    "\n",
    "arr = np.arange(10)\n",
    "arr.reshape(2,5)\n",
    "\n",
    "# Another solution\n",
    "arr = np.arange(10)\n",
    "arr.reshape(2, -1)  # Setting to -1 automatically decides the number of cols"
   ]
  },
  {
   "cell_type": "markdown",
   "execution_count": null,
   "metadata": {
    "papermill": {
     "duration": 0.025478,
     "end_time": "2020-09-06T17:12:41.457954",
     "exception": false,
     "start_time": "2020-09-06T17:12:41.432476",
     "status": "completed"
    },
    "tags": []
   },
   "source": [
    "<a id='8'></a>\n",
    "### *Exercise 8*. How to stack two arrays vertically?\n",
    "<a href=\"#top\" class=\"btn btn-primary btn-sm\" role=\"button\" aria-pressed=\"true\" style=\"color:white\" data-toggle=\"popover\">Go to TOC</a>"
   ]
  },
  {
   "cell_type": "code",
   "execution_count": 9,
   "metadata": {
    "execution": {
     "iopub.execute_input": "2020-09-06T17:12:41.517686Z",
     "iopub.status.busy": "2020-09-06T17:12:41.516664Z",
     "iopub.status.idle": "2020-09-06T17:12:41.521642Z",
     "shell.execute_reply": "2020-09-06T17:12:41.520926Z"
    },
    "papermill": {
     "duration": 0.038342,
     "end_time": "2020-09-06T17:12:41.521766",
     "exception": false,
     "start_time": "2020-09-06T17:12:41.483424",
     "status": "completed"
    },
    "tags": []
   },
   "outputs": [
    {
     "data": {
      "text/plain": [
       "array([[0, 1, 2, 3, 4],\n",
       "       [5, 6, 7, 8, 9],\n",
       "       [1, 1, 1, 1, 1],\n",
       "       [1, 1, 1, 1, 1]])"
      ]
     },
     "execution_count": 9,
     "metadata": {},
     "output_type": "execute_result"
    }
   ],
   "source": [
    "# Question: Stack arrays a and b vertically\n",
    "# input: a = np.arange(10).reshape(2,-1)\n",
    "#        b = np.repeat(1, 10).reshape(2,-1)\n",
    "\n",
    "# output: array([[0, 1, 2, 3, 4],\n",
    "#                [5, 6, 7, 8, 9],\n",
    "#                [1, 1, 1, 1, 1],\n",
    "#                [1, 1, 1, 1, 1]])\n",
    "\n",
    "# Solution\n",
    "\n",
    "a = np.arange(10).reshape(2,-1)\n",
    "b = np.repeat(1, 10).reshape(2,-1)\n",
    "\n",
    "np.vstack([a,b])"
   ]
  },
  {
   "cell_type": "markdown",
   "execution_count": null,
   "metadata": {
    "papermill": {
     "duration": 0.025035,
     "end_time": "2020-09-06T17:12:41.572498",
     "exception": false,
     "start_time": "2020-09-06T17:12:41.547463",
     "status": "completed"
    },
    "tags": []
   },
   "source": [
    "<a id='9'></a>\n",
    "### *Exercise 9*. How to stack two arrays horizontally?\n",
    "<a href=\"#top\" class=\"btn btn-primary btn-sm\" role=\"button\" aria-pressed=\"true\" style=\"color:white\" data-toggle=\"popover\">Go to TOC</a>"
   ]
  },
  {
   "cell_type": "code",
   "execution_count": 10,
   "metadata": {
    "execution": {
     "iopub.execute_input": "2020-09-06T17:12:41.637649Z",
     "iopub.status.busy": "2020-09-06T17:12:41.636615Z",
     "iopub.status.idle": "2020-09-06T17:12:41.641282Z",
     "shell.execute_reply": "2020-09-06T17:12:41.640664Z"
    },
    "papermill": {
     "duration": 0.038746,
     "end_time": "2020-09-06T17:12:41.641430",
     "exception": false,
     "start_time": "2020-09-06T17:12:41.602684",
     "status": "completed"
    },
    "tags": []
   },
   "outputs": [
    {
     "data": {
      "text/plain": [
       "array([[0, 1, 2, 3, 4, 1, 1, 1, 1, 1],\n",
       "       [5, 6, 7, 8, 9, 1, 1, 1, 1, 1]])"
      ]
     },
     "execution_count": 10,
     "metadata": {},
     "output_type": "execute_result"
    }
   ],
   "source": [
    "# Question: Stack the arrays a and b horizontally.\n",
    "\n",
    "# Input: a = np.arange(10).reshape(2,-1)\n",
    "#        b = np.repeat(1, 10).reshape(2,-1)\n",
    "# Output: array([[0, 1, 2, 3, 4, 1, 1, 1, 1, 1],\n",
    "#                [5, 6, 7, 8, 9, 1, 1, 1, 1, 1]])\n",
    "\n",
    "\n",
    "# Solution:\n",
    "a = np.arange(10).reshape(2,-1)\n",
    "b = np.repeat(1, 10).reshape(2,-1)\n",
    "\n",
    "np.hstack([a,b])"
   ]
  },
  {
   "cell_type": "markdown",
   "execution_count": null,
   "metadata": {
    "papermill": {
     "duration": 0.025307,
     "end_time": "2020-09-06T17:12:41.692158",
     "exception": false,
     "start_time": "2020-09-06T17:12:41.666851",
     "status": "completed"
    },
    "tags": []
   },
   "source": [
    "<a id='10'></a>\n",
    "### *Exercise 10*. How to generate custom sequences in numpy without hardcoding?\n",
    "<a href=\"#top\" class=\"btn btn-primary btn-sm\" role=\"button\" aria-pressed=\"true\" style=\"color:white\" data-toggle=\"popover\">Go to TOC</a>"
   ]
  },
  {
   "cell_type": "code",
   "execution_count": 11,
   "metadata": {
    "execution": {
     "iopub.execute_input": "2020-09-06T17:12:41.752934Z",
     "iopub.status.busy": "2020-09-06T17:12:41.752115Z",
     "iopub.status.idle": "2020-09-06T17:12:41.759837Z",
     "shell.execute_reply": "2020-09-06T17:12:41.759194Z"
    },
    "papermill": {
     "duration": 0.04229,
     "end_time": "2020-09-06T17:12:41.759968",
     "exception": false,
     "start_time": "2020-09-06T17:12:41.717678",
     "status": "completed"
    },
    "tags": []
   },
   "outputs": [
    {
     "data": {
      "text/plain": [
       "array([1, 1, 1, 2, 2, 2, 3, 3, 3, 1, 2, 3, 1, 2, 3, 1, 2, 3])"
      ]
     },
     "execution_count": 11,
     "metadata": {},
     "output_type": "execute_result"
    },
    {
     "data": {
      "text/plain": [
       "array([1, 1, 1, 2, 2, 2, 3, 3, 3, 1, 2, 3, 1, 2, 3, 1, 2, 3])"
      ]
     },
     "execution_count": 11,
     "metadata": {},
     "output_type": "execute_result"
    }
   ],
   "source": [
    "# Question: Create the following pattern without hardcoding. Use only numpy functions and the below input array a.\n",
    "\n",
    "# Input: a = np.array([1,2,3])\n",
    "# Output: array([1, 1, 1, 2, 2, 2, 3, 3, 3, 1, 2, 3, 1, 2, 3, 1, 2, 3])\n",
    "\n",
    "\n",
    "# Solution\n",
    "\n",
    "a = np.array([1,2,3])\n",
    "np.r_[np.repeat(a, 3), np.tile(a, 3)]\n",
    "\n",
    "#other solution\n",
    "np.hstack((np.repeat(a, 3), np.tile(a, 3)))"
   ]
  },
  {
   "cell_type": "markdown",
   "execution_count": null,
   "metadata": {
    "papermill": {
     "duration": 0.025035,
     "end_time": "2020-09-06T17:12:41.810862",
     "exception": false,
     "start_time": "2020-09-06T17:12:41.785827",
     "status": "completed"
    },
    "tags": []
   },
   "source": [
    "<a id='11'></a>\n",
    "### *Exercise 11*. How to get the common items between two python numpy arrays?\n",
    "<a href=\"#top\" class=\"btn btn-primary btn-sm\" role=\"button\" aria-pressed=\"true\" style=\"color:white\" data-toggle=\"popover\">Go to TOC</a>"
   ]
  },
  {
   "cell_type": "code",
   "execution_count": 12,
   "metadata": {
    "execution": {
     "iopub.execute_input": "2020-09-06T17:12:41.872091Z",
     "iopub.status.busy": "2020-09-06T17:12:41.871059Z",
     "iopub.status.idle": "2020-09-06T17:12:41.876216Z",
     "shell.execute_reply": "2020-09-06T17:12:41.875477Z"
    },
    "papermill": {
     "duration": 0.03976,
     "end_time": "2020-09-06T17:12:41.876365",
     "exception": false,
     "start_time": "2020-09-06T17:12:41.836605",
     "status": "completed"
    },
    "tags": []
   },
   "outputs": [
    {
     "data": {
      "text/plain": [
       "array([2, 4])"
      ]
     },
     "execution_count": 12,
     "metadata": {},
     "output_type": "execute_result"
    }
   ],
   "source": [
    "# Question: Get the common items between a and b\n",
    "\n",
    "# Input: a = np.array([1,2,3,2,3,4,3,4,5,6])\n",
    "#        b = np.array([7,2,10,2,7,4,9,4,9,8])\n",
    "\n",
    "# Output: array([2, 4])\n",
    "\n",
    "\n",
    "# Solution:\n",
    "a = np.array([1,2,3,2,3,4,3,4,5,6])\n",
    "b = np.array([7,2,10,2,7,4,9,4,9,8])\n",
    "np.intersect1d(a,b)"
   ]
  },
  {
   "cell_type": "markdown",
   "execution_count": null,
   "metadata": {
    "papermill": {
     "duration": 0.025328,
     "end_time": "2020-09-06T17:12:41.927794",
     "exception": false,
     "start_time": "2020-09-06T17:12:41.902466",
     "status": "completed"
    },
    "tags": []
   },
   "source": [
    "<a id='12'></a>\n",
    "### *Exercise 12*. How to remove from one array those items that exist in another?\n",
    "<a href=\"#top\" class=\"btn btn-primary btn-sm\" role=\"button\" aria-pressed=\"true\" style=\"color:white\" data-toggle=\"popover\">Go to TOC</a>"
   ]
  },
  {
   "cell_type": "code",
   "execution_count": 13,
   "metadata": {
    "execution": {
     "iopub.execute_input": "2020-09-06T17:12:41.988880Z",
     "iopub.status.busy": "2020-09-06T17:12:41.987773Z",
     "iopub.status.idle": "2020-09-06T17:12:41.992448Z",
     "shell.execute_reply": "2020-09-06T17:12:41.991687Z"
    },
    "papermill": {
     "duration": 0.038973,
     "end_time": "2020-09-06T17:12:41.992580",
     "exception": false,
     "start_time": "2020-09-06T17:12:41.953607",
     "status": "completed"
    },
    "tags": []
   },
   "outputs": [
    {
     "data": {
      "text/plain": [
       "array([1, 2, 3, 4])"
      ]
     },
     "execution_count": 13,
     "metadata": {},
     "output_type": "execute_result"
    }
   ],
   "source": [
    "# Question: From array a remove all items present in array b\n",
    "\n",
    "# Input: a = np.array([1,2,3,4,5])\n",
    "#        b = np.array([5,6,7,8,9])\n",
    "\n",
    "# Output: array([1,2,3,4])\n",
    "\n",
    "\n",
    "# Solution\n",
    "a = np.array([1,2,3,4,5])\n",
    "b = np.array([5,6,7,8,9])\n",
    "\n",
    "np.setdiff1d(a,b)"
   ]
  },
  {
   "cell_type": "markdown",
   "execution_count": null,
   "metadata": {
    "papermill": {
     "duration": 0.025547,
     "end_time": "2020-09-06T17:12:42.044041",
     "exception": false,
     "start_time": "2020-09-06T17:12:42.018494",
     "status": "completed"
    },
    "tags": []
   },
   "source": [
    "<a id='13'></a>\n",
    "### *Exercise 13*. How to get the positions where elements of two arrays match?\n",
    "<a href=\"#top\" class=\"btn btn-primary btn-sm\" role=\"button\" aria-pressed=\"true\" style=\"color:white\" data-toggle=\"popover\">Go to TOC</a>"
   ]
  },
  {
   "cell_type": "code",
   "execution_count": 14,
   "metadata": {
    "execution": {
     "iopub.execute_input": "2020-09-06T17:12:42.106342Z",
     "iopub.status.busy": "2020-09-06T17:12:42.105119Z",
     "iopub.status.idle": "2020-09-06T17:12:42.110226Z",
     "shell.execute_reply": "2020-09-06T17:12:42.109581Z"
    },
    "papermill": {
     "duration": 0.039847,
     "end_time": "2020-09-06T17:12:42.110372",
     "exception": false,
     "start_time": "2020-09-06T17:12:42.070525",
     "status": "completed"
    },
    "tags": []
   },
   "outputs": [
    {
     "data": {
      "text/plain": [
       "(array([1, 3, 5, 7]),)"
      ]
     },
     "execution_count": 14,
     "metadata": {},
     "output_type": "execute_result"
    }
   ],
   "source": [
    "# Question: Get the positions where elements of a and b match\n",
    "\n",
    "# Input: a = np.array([1,2,3,2,3,4,3,4,5,6])\n",
    "#        b = np.array([7,2,10,2,7,4,9,4,9,8])\n",
    "\n",
    "# Output: (array([1, 3, 5, 7]),)\n",
    "\n",
    "\n",
    "# Solution\n",
    "\n",
    "a = np.array([1,2,3,2,3,4,3,4,5,6])\n",
    "b = np.array([7,2,10,2,7,4,9,4,9,8])\n",
    "\n",
    "np.where(a == b)"
   ]
  },
  {
   "cell_type": "markdown",
   "execution_count": null,
   "metadata": {
    "papermill": {
     "duration": 0.076634,
     "end_time": "2020-09-06T17:12:42.213556",
     "exception": false,
     "start_time": "2020-09-06T17:12:42.136922",
     "status": "completed"
    },
    "tags": []
   },
   "source": [
    "<a id='14'></a>\n",
    "### *Exercise 14*. How to extract all numbers between a given range from a numpy array?\n",
    "<a href=\"#top\" class=\"btn btn-primary btn-sm\" role=\"button\" aria-pressed=\"true\" style=\"color:white\" data-toggle=\"popover\">Go to TOC</a>"
   ]
  },
  {
   "cell_type": "code",
   "execution_count": 15,
   "metadata": {
    "execution": {
     "iopub.execute_input": "2020-09-06T17:12:42.275713Z",
     "iopub.status.busy": "2020-09-06T17:12:42.274594Z",
     "iopub.status.idle": "2020-09-06T17:12:42.278591Z",
     "shell.execute_reply": "2020-09-06T17:12:42.279181Z"
    },
    "papermill": {
     "duration": 0.038949,
     "end_time": "2020-09-06T17:12:42.279369",
     "exception": false,
     "start_time": "2020-09-06T17:12:42.240420",
     "status": "completed"
    },
    "tags": []
   },
   "outputs": [
    {
     "data": {
      "text/plain": [
       "array([ 6,  9, 10])"
      ]
     },
     "execution_count": 15,
     "metadata": {},
     "output_type": "execute_result"
    }
   ],
   "source": [
    "# Question: Get all items between 5 and 10 from a.\n",
    "\n",
    "# Input: a = np.array([2, 6, 1, 9, 10, 3, 27])\n",
    "# Output: (array([6, 9, 10]),)\n",
    "\n",
    "\n",
    "# Solution\n",
    "\n",
    "a = np.array([2, 6, 1, 9, 10, 3, 27])\n",
    "a[(a >= 5) & (a <= 10)]"
   ]
  },
  {
   "cell_type": "markdown",
   "execution_count": null,
   "metadata": {
    "papermill": {
     "duration": 0.026251,
     "end_time": "2020-09-06T17:12:42.332093",
     "exception": false,
     "start_time": "2020-09-06T17:12:42.305842",
     "status": "completed"
    },
    "tags": []
   },
   "source": [
    "<a id='15'></a>\n",
    "### *Exercise 15*. How to make a python function that handles scalars to work on numpy arrays?\n",
    "<a href=\"#top\" class=\"btn btn-primary btn-sm\" role=\"button\" aria-pressed=\"true\" style=\"color:white\" data-toggle=\"popover\">Go to TOC</a>"
   ]
  },
  {
   "cell_type": "code",
   "execution_count": 16,
   "metadata": {
    "execution": {
     "iopub.execute_input": "2020-09-06T17:12:42.398789Z",
     "iopub.status.busy": "2020-09-06T17:12:42.393890Z",
     "iopub.status.idle": "2020-09-06T17:12:42.403608Z",
     "shell.execute_reply": "2020-09-06T17:12:42.402813Z"
    },
    "papermill": {
     "duration": 0.045205,
     "end_time": "2020-09-06T17:12:42.403777",
     "exception": false,
     "start_time": "2020-09-06T17:12:42.358572",
     "status": "completed"
    },
    "tags": []
   },
   "outputs": [
    {
     "data": {
      "text/plain": [
       "array([6, 7, 9, 8, 9, 7, 5])"
      ]
     },
     "execution_count": 16,
     "metadata": {},
     "output_type": "execute_result"
    }
   ],
   "source": [
    "# Question: Convert the function maxx that works on two scalars, to work on two arrays.\n",
    "# Input:\n",
    "\n",
    "def maxx(x, y):\n",
    "    \"\"\"Get the maximum of two items\"\"\"\n",
    "    if x >= y:\n",
    "        return x\n",
    "    else:\n",
    "        return y\n",
    "\n",
    "# maxx(1, 5)\n",
    "#> 5\n",
    "\n",
    "# Output:\n",
    "# a = np.array([5, 7, 9, 8, 6, 4, 5])\n",
    "# b = np.array([6, 3, 4, 8, 9, 7, 1])\n",
    "# pair_max(a, b)\n",
    "# array([ 6.,  7.,  9.,  8.,  9.,  7.,  5.])\n",
    "\n",
    "# Solution\n",
    "\n",
    "def pair_max(x, y):\n",
    "    # here I am using map to make tuple from a and b, other solution is using zip(a,b)\n",
    "    maximum = [maxx(a,b) for a,b in map(lambda a,b:(a,b),x,y)]\n",
    "    # using zip\n",
    "    # maximum = [maxx(a,b) for a,b in zip(x,y)]\n",
    "    return np.array(maximum)\n",
    "\n",
    "a = np.array([5, 7, 9, 8, 6, 4, 5])\n",
    "b = np.array([6, 3, 4, 8, 9, 7, 1])\n",
    "\n",
    "pair_max(a,b)"
   ]
  },
  {
   "cell_type": "markdown",
   "execution_count": null,
   "metadata": {
    "papermill": {
     "duration": 0.026638,
     "end_time": "2020-09-06T17:12:42.457283",
     "exception": false,
     "start_time": "2020-09-06T17:12:42.430645",
     "status": "completed"
    },
    "tags": []
   },
   "source": [
    "<a id='16'></a>\n",
    "### *Exercise 16*. How to swap two columns in a 2d numpy array?\n",
    "<a href=\"#top\" class=\"btn btn-primary btn-sm\" role=\"button\" aria-pressed=\"true\" style=\"color:white\" data-toggle=\"popover\">Go to TOC</a>"
   ]
  },
  {
   "cell_type": "code",
   "execution_count": 17,
   "metadata": {
    "execution": {
     "iopub.execute_input": "2020-09-06T17:12:42.519456Z",
     "iopub.status.busy": "2020-09-06T17:12:42.518681Z",
     "iopub.status.idle": "2020-09-06T17:12:42.528254Z",
     "shell.execute_reply": "2020-09-06T17:12:42.527517Z"
    },
    "papermill": {
     "duration": 0.043691,
     "end_time": "2020-09-06T17:12:42.528482",
     "exception": false,
     "start_time": "2020-09-06T17:12:42.484791",
     "status": "completed"
    },
    "tags": []
   },
   "outputs": [
    {
     "name": "stdout",
     "output_type": "stream",
     "text": [
      "Original array\n"
     ]
    },
    {
     "data": {
      "text/plain": [
       "array([[0, 1, 2],\n",
       "       [3, 4, 5],\n",
       "       [6, 7, 8]])"
      ]
     },
     "execution_count": 17,
     "metadata": {},
     "output_type": "execute_result"
    },
    {
     "name": "stdout",
     "output_type": "stream",
     "text": [
      "\n",
      "Modified array\n"
     ]
    },
    {
     "data": {
      "text/plain": [
       "array([[1, 0, 2],\n",
       "       [4, 3, 5],\n",
       "       [7, 6, 8]])"
      ]
     },
     "execution_count": 17,
     "metadata": {},
     "output_type": "execute_result"
    }
   ],
   "source": [
    "# Question: Swap columns 1 and 2 in the array arr.\n",
    "\n",
    "# Input:\n",
    "\n",
    "arr = np.arange(9).reshape(3,3)\n",
    "\n",
    "print('Original array')\n",
    "arr\n",
    "\n",
    "# Solution\n",
    "\n",
    "print(\"\\nModified array\")\n",
    "arr[:, [1,0,2]]"
   ]
  },
  {
   "cell_type": "markdown",
   "execution_count": null,
   "metadata": {
    "papermill": {
     "duration": 0.02784,
     "end_time": "2020-09-06T17:12:42.583416",
     "exception": false,
     "start_time": "2020-09-06T17:12:42.555576",
     "status": "completed"
    },
    "tags": []
   },
   "source": [
    "<a id='17'></a>\n",
    "### *Exercise 17*. How to swap two rows in a 2d numpy array?\n",
    "<a href=\"#top\" class=\"btn btn-primary btn-sm\" role=\"button\" aria-pressed=\"true\" style=\"color:white\" data-toggle=\"popover\">Go to TOC</a>"
   ]
  },
  {
   "cell_type": "code",
   "execution_count": 18,
   "metadata": {
    "execution": {
     "iopub.execute_input": "2020-09-06T17:12:42.646284Z",
     "iopub.status.busy": "2020-09-06T17:12:42.645449Z",
     "iopub.status.idle": "2020-09-06T17:12:42.653431Z",
     "shell.execute_reply": "2020-09-06T17:12:42.654131Z"
    },
    "papermill": {
     "duration": 0.043812,
     "end_time": "2020-09-06T17:12:42.654308",
     "exception": false,
     "start_time": "2020-09-06T17:12:42.610496",
     "status": "completed"
    },
    "tags": []
   },
   "outputs": [
    {
     "name": "stdout",
     "output_type": "stream",
     "text": [
      "Original array\n"
     ]
    },
    {
     "data": {
      "text/plain": [
       "array([[0, 1, 2],\n",
       "       [3, 4, 5],\n",
       "       [6, 7, 8]])"
      ]
     },
     "execution_count": 18,
     "metadata": {},
     "output_type": "execute_result"
    },
    {
     "name": "stdout",
     "output_type": "stream",
     "text": [
      "\n",
      "Modified array\n"
     ]
    },
    {
     "data": {
      "text/plain": [
       "array([[3, 4, 5],\n",
       "       [0, 1, 2],\n",
       "       [6, 7, 8]])"
      ]
     },
     "execution_count": 18,
     "metadata": {},
     "output_type": "execute_result"
    }
   ],
   "source": [
    "# Question: Swap rows 1 and 2 in the array arr:\n",
    "\n",
    "# Input: \n",
    "\n",
    "arr = np.arange(9).reshape(3,3)\n",
    "print('Original array')\n",
    "arr\n",
    "\n",
    "# Solution\n",
    "\n",
    "print(\"\\nModified array\")\n",
    "arr[[1,0,2], :]"
   ]
  },
  {
   "cell_type": "markdown",
   "execution_count": null,
   "metadata": {
    "papermill": {
     "duration": 0.02698,
     "end_time": "2020-09-06T17:12:42.708808",
     "exception": false,
     "start_time": "2020-09-06T17:12:42.681828",
     "status": "completed"
    },
    "tags": []
   },
   "source": [
    "<a id='18'></a>\n",
    "### *Exercise 18*. How to reverse the rows of a 2D array?\n",
    "<a href=\"#top\" class=\"btn btn-primary btn-sm\" role=\"button\" aria-pressed=\"true\" style=\"color:white\" data-toggle=\"popover\">Go to TOC</a>"
   ]
  },
  {
   "cell_type": "code",
   "execution_count": 19,
   "metadata": {
    "execution": {
     "iopub.execute_input": "2020-09-06T17:12:42.772283Z",
     "iopub.status.busy": "2020-09-06T17:12:42.771405Z",
     "iopub.status.idle": "2020-09-06T17:12:42.780027Z",
     "shell.execute_reply": "2020-09-06T17:12:42.779448Z"
    },
    "papermill": {
     "duration": 0.04371,
     "end_time": "2020-09-06T17:12:42.780163",
     "exception": false,
     "start_time": "2020-09-06T17:12:42.736453",
     "status": "completed"
    },
    "tags": []
   },
   "outputs": [
    {
     "name": "stdout",
     "output_type": "stream",
     "text": [
      "Original array\n"
     ]
    },
    {
     "data": {
      "text/plain": [
       "array([[0, 1, 2],\n",
       "       [3, 4, 5],\n",
       "       [6, 7, 8]])"
      ]
     },
     "execution_count": 19,
     "metadata": {},
     "output_type": "execute_result"
    },
    {
     "name": "stdout",
     "output_type": "stream",
     "text": [
      "\n",
      "Modified array\n"
     ]
    },
    {
     "data": {
      "text/plain": [
       "array([[6, 7, 8],\n",
       "       [3, 4, 5],\n",
       "       [0, 1, 2]])"
      ]
     },
     "execution_count": 19,
     "metadata": {},
     "output_type": "execute_result"
    }
   ],
   "source": [
    "# Question: Reverse the rows of a 2D array arr.\n",
    "\n",
    "# Input:\n",
    "\n",
    "arr = np.arange(9).reshape(3,3)\n",
    "\n",
    "print('Original array')\n",
    "arr\n",
    "\n",
    "# Solution\n",
    "\n",
    "print(\"\\nModified array\")\n",
    "arr[::-1, :]"
   ]
  },
  {
   "cell_type": "markdown",
   "execution_count": null,
   "metadata": {
    "papermill": {
     "duration": 0.027858,
     "end_time": "2020-09-06T17:12:42.835737",
     "exception": false,
     "start_time": "2020-09-06T17:12:42.807879",
     "status": "completed"
    },
    "tags": []
   },
   "source": [
    "<a id='19'></a>\n",
    "### *Exercise 19*. How to reverse the columns of a 2D array?\n",
    "<a href=\"#top\" class=\"btn btn-primary btn-sm\" role=\"button\" aria-pressed=\"true\" style=\"color:white\" data-toggle=\"popover\">Go to TOC</a>"
   ]
  },
  {
   "cell_type": "code",
   "execution_count": 20,
   "metadata": {
    "execution": {
     "iopub.execute_input": "2020-09-06T17:12:42.900334Z",
     "iopub.status.busy": "2020-09-06T17:12:42.899168Z",
     "iopub.status.idle": "2020-09-06T17:12:42.909050Z",
     "shell.execute_reply": "2020-09-06T17:12:42.908287Z"
    },
    "papermill": {
     "duration": 0.045381,
     "end_time": "2020-09-06T17:12:42.909173",
     "exception": false,
     "start_time": "2020-09-06T17:12:42.863792",
     "status": "completed"
    },
    "tags": []
   },
   "outputs": [
    {
     "name": "stdout",
     "output_type": "stream",
     "text": [
      "Original array\n"
     ]
    },
    {
     "data": {
      "text/plain": [
       "array([[0, 1, 2],\n",
       "       [3, 4, 5],\n",
       "       [6, 7, 8]])"
      ]
     },
     "execution_count": 20,
     "metadata": {},
     "output_type": "execute_result"
    },
    {
     "name": "stdout",
     "output_type": "stream",
     "text": [
      "\n",
      "Modified array\n"
     ]
    },
    {
     "data": {
      "text/plain": [
       "array([[2, 1, 0],\n",
       "       [5, 4, 3],\n",
       "       [8, 7, 6]])"
      ]
     },
     "execution_count": 20,
     "metadata": {},
     "output_type": "execute_result"
    }
   ],
   "source": [
    "# Question: Reverse the columns of a 2D array arr.\n",
    "\n",
    "# Input: arr = np.arange(9).reshape(3,3)\n",
    "\n",
    "# Solution\n",
    "\n",
    "arr = np.arange(9).reshape(3,3)\n",
    "print('Original array')\n",
    "arr\n",
    "\n",
    "\n",
    "print(\"\\nModified array\")\n",
    "arr[:, ::-1]"
   ]
  },
  {
   "cell_type": "markdown",
   "execution_count": null,
   "metadata": {
    "papermill": {
     "duration": 0.028758,
     "end_time": "2020-09-06T17:12:42.966944",
     "exception": false,
     "start_time": "2020-09-06T17:12:42.938186",
     "status": "completed"
    },
    "tags": []
   },
   "source": [
    "<a id='20'></a>\n",
    "### *Exercise 20*. How to create a 2D array containing random floats between 5 and 10?\n",
    "<a href=\"#top\" class=\"btn btn-primary btn-sm\" role=\"button\" aria-pressed=\"true\" style=\"color:white\" data-toggle=\"popover\">Go to TOC</a>"
   ]
  },
  {
   "cell_type": "code",
   "execution_count": 21,
   "metadata": {
    "execution": {
     "iopub.execute_input": "2020-09-06T17:12:43.034217Z",
     "iopub.status.busy": "2020-09-06T17:12:43.033217Z",
     "iopub.status.idle": "2020-09-06T17:12:43.038208Z",
     "shell.execute_reply": "2020-09-06T17:12:43.037602Z"
    },
    "papermill": {
     "duration": 0.042496,
     "end_time": "2020-09-06T17:12:43.038382",
     "exception": false,
     "start_time": "2020-09-06T17:12:42.995886",
     "status": "completed"
    },
    "tags": []
   },
   "outputs": [
    {
     "data": {
      "text/plain": [
       "array([[6.74461561, 7.74899427, 5.60397622],\n",
       "       [7.5099093 , 6.75945549, 7.29056908],\n",
       "       [6.82193128, 7.91870471, 7.30990547],\n",
       "       [9.58903954, 9.7366851 , 6.00840368],\n",
       "       [7.43184133, 5.33488406, 5.04751183]])"
      ]
     },
     "execution_count": 21,
     "metadata": {},
     "output_type": "execute_result"
    }
   ],
   "source": [
    "# Question: Create a 2D array of shape 5x3 to contain random decimal numbers between 5 and 10.\n",
    "\n",
    "# Solution:\n",
    "\n",
    "rand_arr = np.random.uniform(5,10, size=(5,3))\n",
    "rand_arr"
   ]
  },
  {
   "cell_type": "markdown",
   "execution_count": null,
   "metadata": {
    "papermill": {
     "duration": 0.029389,
     "end_time": "2020-09-06T17:12:43.097210",
     "exception": false,
     "start_time": "2020-09-06T17:12:43.067821",
     "status": "completed"
    },
    "tags": []
   },
   "source": [
    "<a id='21'></a>\n",
    "### *Exercise 21*. How to print only 3 decimal places in python numpy array?\n",
    "<a href=\"#top\" class=\"btn btn-primary btn-sm\" role=\"button\" aria-pressed=\"true\" style=\"color:white\" data-toggle=\"popover\">Go to TOC</a>"
   ]
  },
  {
   "cell_type": "code",
   "execution_count": 22,
   "metadata": {
    "execution": {
     "iopub.execute_input": "2020-09-06T17:12:43.164754Z",
     "iopub.status.busy": "2020-09-06T17:12:43.163920Z",
     "iopub.status.idle": "2020-09-06T17:12:43.169509Z",
     "shell.execute_reply": "2020-09-06T17:12:43.168838Z"
    },
    "papermill": {
     "duration": 0.042366,
     "end_time": "2020-09-06T17:12:43.169651",
     "exception": false,
     "start_time": "2020-09-06T17:12:43.127285",
     "status": "completed"
    },
    "tags": []
   },
   "outputs": [
    {
     "data": {
      "text/plain": [
       "array([[0.371, 0.597, 0.492],\n",
       "       [0.122, 0.146, 0.378],\n",
       "       [0.932, 0.453, 0.307],\n",
       "       [0.786, 0.625, 0.897],\n",
       "       [0.595, 0.695, 0.246]])"
      ]
     },
     "execution_count": 22,
     "metadata": {},
     "output_type": "execute_result"
    }
   ],
   "source": [
    "# Question: Print or show only 3 decimal places of the numpy array rand_arr.\n",
    "\n",
    "# Input: rand_arr = np.random.random((5,3))\n",
    "\n",
    "rand_arr = np.random.random((5,3))\n",
    "np.set_printoptions(precision=3)\n",
    "rand_arr"
   ]
  },
  {
   "cell_type": "markdown",
   "execution_count": null,
   "metadata": {
    "papermill": {
     "duration": 0.02919,
     "end_time": "2020-09-06T17:12:43.228438",
     "exception": false,
     "start_time": "2020-09-06T17:12:43.199248",
     "status": "completed"
    },
    "tags": []
   },
   "source": [
    "<a id='22'></a>\n",
    "### *Exercise 22*. How to pretty print a numpy array by suppressing the scientific notation (like 1e10)?\n",
    "<a href=\"#top\" class=\"btn btn-primary btn-sm\" role=\"button\" aria-pressed=\"true\" style=\"color:white\" data-toggle=\"popover\">Go to TOC</a>"
   ]
  },
  {
   "cell_type": "code",
   "execution_count": 23,
   "metadata": {
    "execution": {
     "iopub.execute_input": "2020-09-06T17:12:43.295663Z",
     "iopub.status.busy": "2020-09-06T17:12:43.294847Z",
     "iopub.status.idle": "2020-09-06T17:12:43.301593Z",
     "shell.execute_reply": "2020-09-06T17:12:43.302370Z"
    },
    "papermill": {
     "duration": 0.044973,
     "end_time": "2020-09-06T17:12:43.302534",
     "exception": false,
     "start_time": "2020-09-06T17:12:43.257561",
     "status": "completed"
    },
    "tags": []
   },
   "outputs": [
    {
     "data": {
      "text/plain": [
       "array([[5.434e-04, 2.784e-04, 4.245e-04],\n",
       "       [8.448e-04, 4.719e-06, 1.216e-04],\n",
       "       [6.707e-04, 8.259e-04, 1.367e-04]])"
      ]
     },
     "execution_count": 23,
     "metadata": {},
     "output_type": "execute_result"
    },
    {
     "data": {
      "text/plain": [
       "array([[0.001, 0.   , 0.   ],\n",
       "       [0.001, 0.   , 0.   ],\n",
       "       [0.001, 0.001, 0.   ]])"
      ]
     },
     "execution_count": 23,
     "metadata": {},
     "output_type": "execute_result"
    }
   ],
   "source": [
    "# Pretty print rand_arr by suppressing the scientific notation (like 1e10)\n",
    "\n",
    "# Input: \n",
    "# Create the random array\n",
    "np.random.seed(100)\n",
    "rand_arr = np.random.random([3,3])/1e3\n",
    "np.set_printoptions(suppress=False)\n",
    "rand_arr\n",
    "\n",
    "# Output:\n",
    "#> array([[ 0.000543,  0.000278,  0.000425],\n",
    "#>        [ 0.000845,  0.000005,  0.000122],\n",
    "#>        [ 0.000671,  0.000826,  0.000137]])\n",
    "\n",
    "np.set_printoptions(suppress=True)\n",
    "rand_arr\n",
    "#> array([[ 0.000543,  0.000278,  0.000425],\n",
    "#>        [ 0.000845,  0.000005,  0.000122],\n",
    "#>        [ 0.000671,  0.000826,  0.000137]])"
   ]
  },
  {
   "cell_type": "markdown",
   "execution_count": null,
   "metadata": {
    "papermill": {
     "duration": 0.02955,
     "end_time": "2020-09-06T17:12:43.362382",
     "exception": false,
     "start_time": "2020-09-06T17:12:43.332832",
     "status": "completed"
    },
    "tags": []
   },
   "source": [
    "<a id='23'></a>\n",
    "### *Exercise 23*. How to limit the number of items printed in output of numpy array?\n",
    "<a href=\"#top\" class=\"btn btn-primary btn-sm\" role=\"button\" aria-pressed=\"true\" style=\"color:white\" data-toggle=\"popover\">Go to TOC</a>"
   ]
  },
  {
   "cell_type": "code",
   "execution_count": 24,
   "metadata": {
    "execution": {
     "iopub.execute_input": "2020-09-06T17:12:43.430018Z",
     "iopub.status.busy": "2020-09-06T17:12:43.428878Z",
     "iopub.status.idle": "2020-09-06T17:12:43.433690Z",
     "shell.execute_reply": "2020-09-06T17:12:43.433001Z"
    },
    "papermill": {
     "duration": 0.041069,
     "end_time": "2020-09-06T17:12:43.433826",
     "exception": false,
     "start_time": "2020-09-06T17:12:43.392757",
     "status": "completed"
    },
    "tags": []
   },
   "outputs": [
    {
     "data": {
      "text/plain": [
       "array([ 0,  1,  2, ..., 12, 13, 14])"
      ]
     },
     "execution_count": 24,
     "metadata": {},
     "output_type": "execute_result"
    }
   ],
   "source": [
    "# Question: Limit the number of items printed in python numpy array a to a maximum of 6 elements.\n",
    "a = np.arange(15)\n",
    "np.set_printoptions(threshold=6)\n",
    "a"
   ]
  },
  {
   "cell_type": "markdown",
   "execution_count": null,
   "metadata": {
    "papermill": {
     "duration": 0.029323,
     "end_time": "2020-09-06T17:12:43.494129",
     "exception": false,
     "start_time": "2020-09-06T17:12:43.464806",
     "status": "completed"
    },
    "tags": []
   },
   "source": [
    "<a id='24'></a>\n",
    "### *Exercise 24*. How to print the full numpy array without truncating\n",
    "<a href=\"#top\" class=\"btn btn-primary btn-sm\" role=\"button\" aria-pressed=\"true\" style=\"color:white\" data-toggle=\"popover\">Go to TOC</a>"
   ]
  },
  {
   "cell_type": "code",
   "execution_count": 25,
   "metadata": {
    "execution": {
     "iopub.execute_input": "2020-09-06T17:12:43.561128Z",
     "iopub.status.busy": "2020-09-06T17:12:43.560088Z",
     "iopub.status.idle": "2020-09-06T17:12:43.564339Z",
     "shell.execute_reply": "2020-09-06T17:12:43.564878Z"
    },
    "papermill": {
     "duration": 0.041433,
     "end_time": "2020-09-06T17:12:43.565049",
     "exception": false,
     "start_time": "2020-09-06T17:12:43.523616",
     "status": "completed"
    },
    "tags": []
   },
   "outputs": [
    {
     "data": {
      "text/plain": [
       "array([ 0,  1,  2,  3,  4,  5,  6,  7,  8,  9, 10, 11, 12, 13, 14])"
      ]
     },
     "execution_count": 25,
     "metadata": {},
     "output_type": "execute_result"
    }
   ],
   "source": [
    "# Question: Print the full numpy array a without truncating.\n",
    "\n",
    "# Input: np.set_printoptions(threshold=6)\n",
    "# a = np.arange(15)\n",
    "# a\n",
    "\n",
    "# Output: a\n",
    "#> array([ 0,  1,  2,  3,  4,  5,  6,  7,  8,  9, 10, 11, 12, 13, 14])\n",
    "\n",
    "# Solution\n",
    "\n",
    "a = np.arange(15)\n",
    "\n",
    "\n",
    "np.set_printoptions(threshold=15)\n",
    "a"
   ]
  },
  {
   "cell_type": "markdown",
   "execution_count": null,
   "metadata": {
    "papermill": {
     "duration": 0.029469,
     "end_time": "2020-09-06T17:12:43.625373",
     "exception": false,
     "start_time": "2020-09-06T17:12:43.595904",
     "status": "completed"
    },
    "tags": []
   },
   "source": [
    "<a id='25'></a>\n",
    "### *Exercise 25*. How to import a dataset with numbers and texts keeping the text intact in python numpy?\n",
    "<a href=\"#top\" class=\"btn btn-primary btn-sm\" role=\"button\" aria-pressed=\"true\" style=\"color:white\" data-toggle=\"popover\">Go to TOC</a>"
   ]
  },
  {
   "cell_type": "code",
   "execution_count": 26,
   "metadata": {
    "execution": {
     "iopub.execute_input": "2020-09-06T17:12:43.691945Z",
     "iopub.status.busy": "2020-09-06T17:12:43.690999Z",
     "iopub.status.idle": "2020-09-06T17:12:43.706913Z",
     "shell.execute_reply": "2020-09-06T17:12:43.706102Z"
    },
    "papermill": {
     "duration": 0.052006,
     "end_time": "2020-09-06T17:12:43.707050",
     "exception": false,
     "start_time": "2020-09-06T17:12:43.655044",
     "status": "completed"
    },
    "tags": []
   },
   "outputs": [
    {
     "data": {
      "text/plain": [
       "array([[b'1', b'5.1', b'3.5', b'1.4', b'0.2', b'Iris-setosa'],\n",
       "       [b'2', b'4.9', b'3.0', b'1.4', b'0.2', b'Iris-setosa'],\n",
       "       [b'3', b'4.7', b'3.2', b'1.3', b'0.2', b'Iris-setosa'],\n",
       "       ...,\n",
       "       [b'148', b'6.5', b'3.0', b'5.2', b'2.0', b'Iris-virginica'],\n",
       "       [b'149', b'6.2', b'3.4', b'5.4', b'2.3', b'Iris-virginica'],\n",
       "       [b'150', b'5.9', b'3.0', b'5.1', b'1.8', b'Iris-virginica']],\n",
       "      dtype=object)"
      ]
     },
     "execution_count": 26,
     "metadata": {},
     "output_type": "execute_result"
    }
   ],
   "source": [
    "# Question: Import the iris dataset keeping the text intact.\n",
    "\n",
    "# Solution:\n",
    "iris_data = np.genfromtxt('../input/iris/Iris.csv', delimiter=',', skip_header=1, \n",
    "                          usecols = [0,1,2,3,4,5], dtype = object)\n",
    "iris_data"
   ]
  },
  {
   "cell_type": "markdown",
   "execution_count": null,
   "metadata": {
    "papermill": {
     "duration": 0.029994,
     "end_time": "2020-09-06T17:12:43.767436",
     "exception": false,
     "start_time": "2020-09-06T17:12:43.737442",
     "status": "completed"
    },
    "tags": []
   },
   "source": [
    "<a id='26'></a>\n",
    "### *Exercise 26*. How to extract a particular column from 1D array of tuples?\n",
    "<a href=\"#top\" class=\"btn btn-primary btn-sm\" role=\"button\" aria-pressed=\"true\" style=\"color:white\" data-toggle=\"popover\">Go to TOC</a>"
   ]
  },
  {
   "cell_type": "code",
   "execution_count": 27,
   "metadata": {
    "execution": {
     "iopub.execute_input": "2020-09-06T17:12:43.834450Z",
     "iopub.status.busy": "2020-09-06T17:12:43.833575Z",
     "iopub.status.idle": "2020-09-06T17:12:43.841860Z",
     "shell.execute_reply": "2020-09-06T17:12:43.841164Z"
    },
    "papermill": {
     "duration": 0.044382,
     "end_time": "2020-09-06T17:12:43.842001",
     "exception": false,
     "start_time": "2020-09-06T17:12:43.797619",
     "status": "completed"
    },
    "tags": []
   },
   "outputs": [
    {
     "data": {
      "text/plain": [
       "array([b'Iris-setosa', b'Iris-setosa', b'Iris-setosa', ...,\n",
       "       b'Iris-virginica', b'Iris-virginica', b'Iris-virginica'],\n",
       "      dtype=object)"
      ]
     },
     "execution_count": 27,
     "metadata": {},
     "output_type": "execute_result"
    }
   ],
   "source": [
    "# Question: Extract the text column species from the 1D iris imported in previous question.\n",
    "\n",
    "data = np.genfromtxt('../input/iris/Iris.csv', delimiter=',', skip_header=1, \n",
    "                          usecols = [-1], dtype = object)\n",
    "data"
   ]
  },
  {
   "cell_type": "markdown",
   "execution_count": null,
   "metadata": {
    "papermill": {
     "duration": 0.030103,
     "end_time": "2020-09-06T17:12:43.902688",
     "exception": false,
     "start_time": "2020-09-06T17:12:43.872585",
     "status": "completed"
    },
    "tags": []
   },
   "source": [
    "<a id='27'></a>\n",
    "### *Exercise 27*. How to convert a 1d array of tuples to a 2d numpy array? \n",
    "<a href=\"#top\" class=\"btn btn-primary btn-sm\" role=\"button\" aria-pressed=\"true\" style=\"color:white\" data-toggle=\"popover\">Go to TOC</a>"
   ]
  },
  {
   "cell_type": "code",
   "execution_count": 28,
   "metadata": {
    "execution": {
     "iopub.execute_input": "2020-09-06T17:12:43.969874Z",
     "iopub.status.busy": "2020-09-06T17:12:43.969053Z",
     "iopub.status.idle": "2020-09-06T17:12:43.977558Z",
     "shell.execute_reply": "2020-09-06T17:12:43.976879Z"
    },
    "papermill": {
     "duration": 0.044812,
     "end_time": "2020-09-06T17:12:43.977691",
     "exception": false,
     "start_time": "2020-09-06T17:12:43.932879",
     "status": "completed"
    },
    "tags": []
   },
   "outputs": [
    {
     "data": {
      "text/plain": [
       "array([[  1. ,   5.1,   3.5,   1.4],\n",
       "       [  2. ,   4.9,   3. ,   1.4],\n",
       "       [  3. ,   4.7,   3.2,   1.3],\n",
       "       ...,\n",
       "       [148. ,   6.5,   3. ,   5.2],\n",
       "       [149. ,   6.2,   3.4,   5.4],\n",
       "       [150. ,   5.9,   3. ,   5.1]])"
      ]
     },
     "execution_count": 28,
     "metadata": {},
     "output_type": "execute_result"
    }
   ],
   "source": [
    "# Question: Convert the 1D iris to 2D array iris_2d by omitting the species text field.\n",
    "iris_data = np.genfromtxt('../input/iris/Iris.csv', delimiter=',', skip_header=1, dtype='float', usecols=[0,1,2,3])\n",
    "iris_data"
   ]
  },
  {
   "cell_type": "markdown",
   "execution_count": null,
   "metadata": {
    "papermill": {
     "duration": 0.030427,
     "end_time": "2020-09-06T17:12:44.039097",
     "exception": false,
     "start_time": "2020-09-06T17:12:44.008670",
     "status": "completed"
    },
    "tags": []
   },
   "source": [
    "<a id='28'></a>\n",
    "### *Exercise 28*. How to compute the mean, median, standard deviation of a numpy array?\n",
    "<a href=\"#top\" class=\"btn btn-primary btn-sm\" role=\"button\" aria-pressed=\"true\" style=\"color:white\" data-toggle=\"popover\">Go to TOC</a>"
   ]
  },
  {
   "cell_type": "code",
   "execution_count": 29,
   "metadata": {
    "execution": {
     "iopub.execute_input": "2020-09-06T17:12:44.108501Z",
     "iopub.status.busy": "2020-09-06T17:12:44.107617Z",
     "iopub.status.idle": "2020-09-06T17:12:44.117050Z",
     "shell.execute_reply": "2020-09-06T17:12:44.116248Z"
    },
    "papermill": {
     "duration": 0.047153,
     "end_time": "2020-09-06T17:12:44.117195",
     "exception": false,
     "start_time": "2020-09-06T17:12:44.070042",
     "status": "completed"
    },
    "tags": []
   },
   "outputs": [
    {
     "name": "stdout",
     "output_type": "stream",
     "text": [
      "Mean 5.843333333333334\n",
      "Median 5.8\n",
      "Standard Deviation 0.8253012917851409\n"
     ]
    }
   ],
   "source": [
    "# Question: Find the mean, median, standard deviation of iris's sepallength (1st column)\n",
    "\n",
    "iris_data = np.genfromtxt('../input/iris/Iris.csv', delimiter=',', skip_header=1, usecols = [1])\n",
    "\n",
    "print('Mean', np.mean(iris_data))\n",
    "print('Median', np.median(iris_data))\n",
    "print('Standard Deviation', np.std(iris_data))"
   ]
  },
  {
   "cell_type": "markdown",
   "execution_count": null,
   "metadata": {
    "papermill": {
     "duration": 0.030275,
     "end_time": "2020-09-06T17:12:44.178099",
     "exception": false,
     "start_time": "2020-09-06T17:12:44.147824",
     "status": "completed"
    },
    "tags": []
   },
   "source": [
    "<a id='29'></a>\n",
    "### *Exercise 29*. How to normalize an array so the values range exactly between 0 and 1?\n",
    "<a href=\"#top\" class=\"btn btn-primary btn-sm\" role=\"button\" aria-pressed=\"true\" style=\"color:white\" data-toggle=\"popover\">Go to TOC</a>"
   ]
  },
  {
   "cell_type": "code",
   "execution_count": 30,
   "metadata": {
    "execution": {
     "iopub.execute_input": "2020-09-06T17:12:44.247711Z",
     "iopub.status.busy": "2020-09-06T17:12:44.246749Z",
     "iopub.status.idle": "2020-09-06T17:12:44.257261Z",
     "shell.execute_reply": "2020-09-06T17:12:44.256327Z"
    },
    "papermill": {
     "duration": 0.048897,
     "end_time": "2020-09-06T17:12:44.257442",
     "exception": false,
     "start_time": "2020-09-06T17:12:44.208545",
     "status": "completed"
    },
    "tags": []
   },
   "outputs": [
    {
     "data": {
      "text/plain": [
       "array([0.222, 0.167, 0.111, ..., 0.611, 0.528, 0.444])"
      ]
     },
     "execution_count": 30,
     "metadata": {},
     "output_type": "execute_result"
    }
   ],
   "source": [
    "# Question: Create a normalized form of iris's sepallength whose values range exactly between 0 and 1 so that the minimum has value 0 and maximum has value 1.\n",
    "\n",
    "# Solution\n",
    "\n",
    "iris_data = np.genfromtxt('../input/iris/Iris.csv', delimiter=',', dtype='float', usecols=[1], skip_header=1)\n",
    "\n",
    "(iris_data - np.min(iris_data))/(np.max(iris_data) - np.min(iris_data))"
   ]
  },
  {
   "cell_type": "markdown",
   "execution_count": null,
   "metadata": {
    "papermill": {
     "duration": 0.030387,
     "end_time": "2020-09-06T17:12:44.319013",
     "exception": false,
     "start_time": "2020-09-06T17:12:44.288626",
     "status": "completed"
    },
    "tags": []
   },
   "source": [
    "<a id='30'></a>\n",
    "### *Exercise 30*. How to compute the softmax score?\n",
    "<a href=\"#top\" class=\"btn btn-primary btn-sm\" role=\"button\" aria-pressed=\"true\" style=\"color:white\" data-toggle=\"popover\">Go to TOC</a>"
   ]
  },
  {
   "cell_type": "code",
   "execution_count": 31,
   "metadata": {
    "execution": {
     "iopub.execute_input": "2020-09-06T17:12:44.388057Z",
     "iopub.status.busy": "2020-09-06T17:12:44.387260Z",
     "iopub.status.idle": "2020-09-06T17:12:44.402206Z",
     "shell.execute_reply": "2020-09-06T17:12:44.401540Z"
    },
    "papermill": {
     "duration": 0.052877,
     "end_time": "2020-09-06T17:12:44.402348",
     "exception": false,
     "start_time": "2020-09-06T17:12:44.349471",
     "status": "completed"
    },
    "tags": []
   },
   "outputs": [
    {
     "data": {
      "text/plain": [
       "0.9999999999999997"
      ]
     },
     "execution_count": 31,
     "metadata": {},
     "output_type": "execute_result"
    },
    {
     "data": {
      "text/plain": [
       "array([0.002, 0.002, 0.001, ..., 0.009, 0.007, 0.005])"
      ]
     },
     "execution_count": 31,
     "metadata": {},
     "output_type": "execute_result"
    }
   ],
   "source": [
    "# Question: Compute the softmax score of sepallength.\n",
    "\n",
    "iris_data = np.genfromtxt('../input/iris/Iris.csv', delimiter=',', dtype='float', usecols=[1], skip_header=1)\n",
    "softmax = np.exp(iris_data)/sum(np.exp(iris_data))\n",
    "softmax.sum() # it must sum 1\n",
    "softmax"
   ]
  },
  {
   "cell_type": "markdown",
   "execution_count": null,
   "metadata": {
    "papermill": {
     "duration": 0.031207,
     "end_time": "2020-09-06T17:12:44.465038",
     "exception": false,
     "start_time": "2020-09-06T17:12:44.433831",
     "status": "completed"
    },
    "tags": []
   },
   "source": [
    "<a id='31'></a>\n",
    "### *Exercise 31*. How to find the percentile scores of a numpy array?\n",
    "<a href=\"#top\" class=\"btn btn-primary btn-sm\" role=\"button\" aria-pressed=\"true\" style=\"color:white\" data-toggle=\"popover\">Go to TOC</a>"
   ]
  },
  {
   "cell_type": "code",
   "execution_count": 32,
   "metadata": {
    "execution": {
     "iopub.execute_input": "2020-09-06T17:12:44.540273Z",
     "iopub.status.busy": "2020-09-06T17:12:44.539329Z",
     "iopub.status.idle": "2020-09-06T17:12:44.548367Z",
     "shell.execute_reply": "2020-09-06T17:12:44.547586Z"
    },
    "papermill": {
     "duration": 0.046913,
     "end_time": "2020-09-06T17:12:44.548496",
     "exception": false,
     "start_time": "2020-09-06T17:12:44.501583",
     "status": "completed"
    },
    "tags": []
   },
   "outputs": [
    {
     "data": {
      "text/plain": [
       "array([4.6  , 7.255])"
      ]
     },
     "execution_count": 32,
     "metadata": {},
     "output_type": "execute_result"
    }
   ],
   "source": [
    "# Question. Find the 5th and 95th percentile of iris's sepallength\n",
    "iris_data = np.genfromtxt('../input/iris/Iris.csv', delimiter=',', dtype='float', usecols=[1], skip_header=1)\n",
    "\n",
    "np.percentile(iris_data, q=[5, 95])"
   ]
  },
  {
   "cell_type": "markdown",
   "execution_count": null,
   "metadata": {
    "papermill": {
     "duration": 0.031155,
     "end_time": "2020-09-06T17:12:44.611581",
     "exception": false,
     "start_time": "2020-09-06T17:12:44.580426",
     "status": "completed"
    },
    "tags": []
   },
   "source": [
    "<a id='32'></a>\n",
    "### *Exercise 32*. How to insert values at random positions in an array?\n",
    "<a href=\"#top\" class=\"btn btn-primary btn-sm\" role=\"button\" aria-pressed=\"true\" style=\"color:white\" data-toggle=\"popover\">Go to TOC</a>"
   ]
  },
  {
   "cell_type": "code",
   "execution_count": 33,
   "metadata": {
    "execution": {
     "iopub.execute_input": "2020-09-06T17:12:44.682894Z",
     "iopub.status.busy": "2020-09-06T17:12:44.681826Z",
     "iopub.status.idle": "2020-09-06T17:12:44.691766Z",
     "shell.execute_reply": "2020-09-06T17:12:44.692358Z"
    },
    "papermill": {
     "duration": 0.049696,
     "end_time": "2020-09-06T17:12:44.692530",
     "exception": false,
     "start_time": "2020-09-06T17:12:44.642834",
     "status": "completed"
    },
    "tags": []
   },
   "outputs": [
    {
     "data": {
      "text/plain": [
       "array([[5.1, 3.5, 1.4, 0.2],\n",
       "       [4.9, 3. , 1.4, 0.2],\n",
       "       [4.7, 3.2, 1.3, 0.2],\n",
       "       ...,\n",
       "       [6.5, 3. , 5.2, 2. ],\n",
       "       [6.2, 3.4, 5.4, 2.3],\n",
       "       [5.9, 3. , 5.1, 1.8]])"
      ]
     },
     "execution_count": 33,
     "metadata": {},
     "output_type": "execute_result"
    }
   ],
   "source": [
    "# Question: Insert np.nan values at 20 random positions in iris_2d dataset\n",
    "\n",
    "# Solution\n",
    "iris_data = np.genfromtxt('../input/iris/Iris.csv', delimiter=',', dtype='float', usecols=[1,2,3,4], skip_header=1)\n",
    "for i in np.random.randint(0, len(iris_data), 20):\n",
    "    iris_data[i]=np.nan\n",
    "iris_data"
   ]
  },
  {
   "cell_type": "markdown",
   "execution_count": null,
   "metadata": {
    "papermill": {
     "duration": 0.031249,
     "end_time": "2020-09-06T17:12:44.755224",
     "exception": false,
     "start_time": "2020-09-06T17:12:44.723975",
     "status": "completed"
    },
    "tags": []
   },
   "source": [
    "<a id='33'></a>\n",
    "### *Exercise 33*. How to find the position of missing values in numpy array?\n",
    "<a href=\"#top\" class=\"btn btn-primary btn-sm\" role=\"button\" aria-pressed=\"true\" style=\"color:white\" data-toggle=\"popover\">Go to TOC</a>"
   ]
  },
  {
   "cell_type": "code",
   "execution_count": 34,
   "metadata": {
    "execution": {
     "iopub.execute_input": "2020-09-06T17:12:44.830138Z",
     "iopub.status.busy": "2020-09-06T17:12:44.829349Z",
     "iopub.status.idle": "2020-09-06T17:12:44.837873Z",
     "shell.execute_reply": "2020-09-06T17:12:44.836869Z"
    },
    "papermill": {
     "duration": 0.051042,
     "end_time": "2020-09-06T17:12:44.838043",
     "exception": false,
     "start_time": "2020-09-06T17:12:44.787001",
     "status": "completed"
    },
    "tags": []
   },
   "outputs": [
    {
     "name": "stdout",
     "output_type": "stream",
     "text": [
      "Number of missing values in Iris data: \n",
      " 20\n",
      "Number of missing values in any one feature of Iris data: \n",
      " 5\n",
      "Position of missing values: \n",
      " (array([ 38,  80, 106, 113, 121]),)\n"
     ]
    }
   ],
   "source": [
    "# Question: Find the number and position of missing values in iris_2d's sepallength (1st column)\n",
    "\n",
    "iris_data = np.genfromtxt('../input/iris/Iris.csv', delimiter=',', dtype='float', usecols=[1,2,3,4], skip_header=1)\n",
    "iris_data[np.random.randint(len(iris_data), size=20),np.random.randint(4,size=20)] = np.nan\n",
    "\n",
    "# Find total mising value in complete data\n",
    "print(\"Number of missing values in Iris data: \\n\", np.isnan(iris_data[:, :]).sum())\n",
    "\n",
    "# Find total mising value in 1D data\n",
    "print(\"Number of missing values in any one feature of Iris data: \\n\", np.isnan(iris_data[:, 0]).sum())\n",
    "\n",
    "print(\"Position of missing values: \\n\", np.where(np.isnan(iris_data[:, 0])))"
   ]
  },
  {
   "cell_type": "markdown",
   "execution_count": null,
   "metadata": {
    "papermill": {
     "duration": 0.031705,
     "end_time": "2020-09-06T17:12:44.902653",
     "exception": false,
     "start_time": "2020-09-06T17:12:44.870948",
     "status": "completed"
    },
    "tags": []
   },
   "source": [
    "<a id='34'></a>\n",
    "### *Exercise 34*. How to filter a numpy array based on two or more conditions?\n",
    "<a href=\"#top\" class=\"btn btn-primary btn-sm\" role=\"button\" aria-pressed=\"true\" style=\"color:white\" data-toggle=\"popover\">Go to TOC</a>"
   ]
  },
  {
   "cell_type": "code",
   "execution_count": 35,
   "metadata": {
    "execution": {
     "iopub.execute_input": "2020-09-06T17:12:44.975767Z",
     "iopub.status.busy": "2020-09-06T17:12:44.974944Z",
     "iopub.status.idle": "2020-09-06T17:12:44.983994Z",
     "shell.execute_reply": "2020-09-06T17:12:44.983159Z"
    },
    "papermill": {
     "duration": 0.049114,
     "end_time": "2020-09-06T17:12:44.984136",
     "exception": false,
     "start_time": "2020-09-06T17:12:44.935022",
     "status": "completed"
    },
    "tags": []
   },
   "outputs": [
    {
     "data": {
      "text/plain": [
       "array([[4.8, 3.4, 1.6, 0.2],\n",
       "       [4.8, 3.4, 1.9, 0.2],\n",
       "       [4.7, 3.2, 1.6, 0.2],\n",
       "       [4.8, 3.1, 1.6, 0.2],\n",
       "       [4.9, 2.4, 3.3, 1. ],\n",
       "       [4.9, 2.5, 4.5, 1.7]])"
      ]
     },
     "execution_count": 35,
     "metadata": {},
     "output_type": "execute_result"
    }
   ],
   "source": [
    "# Question: Filter the rows of iris_2d that has petallength (3rd column) > 1.5 and sepallength (1st column) < 5.0\n",
    "\n",
    "iris_data = np.genfromtxt('../input/iris/Iris.csv', delimiter=',', dtype='float', usecols=[1,2,3,4], skip_header=1)\n",
    "\n",
    "# Solution\n",
    "iris_data[(iris_data[:, 2] > 1.5) & (iris_data[:, 0] < 5.0)]"
   ]
  },
  {
   "cell_type": "markdown",
   "execution_count": null,
   "metadata": {
    "papermill": {
     "duration": 0.032048,
     "end_time": "2020-09-06T17:12:45.048913",
     "exception": false,
     "start_time": "2020-09-06T17:12:45.016865",
     "status": "completed"
    },
    "tags": []
   },
   "source": [
    "<a id='35'></a>\n",
    "### *Exercise 35*. How to drop rows that contain a missing value from a numpy array?\n",
    "<a href=\"#top\" class=\"btn btn-primary btn-sm\" role=\"button\" aria-pressed=\"true\" style=\"color:white\" data-toggle=\"popover\">Go to TOC</a>"
   ]
  },
  {
   "cell_type": "code",
   "execution_count": 36,
   "metadata": {
    "execution": {
     "iopub.execute_input": "2020-09-06T17:12:45.122749Z",
     "iopub.status.busy": "2020-09-06T17:12:45.121878Z",
     "iopub.status.idle": "2020-09-06T17:12:45.167874Z",
     "shell.execute_reply": "2020-09-06T17:12:45.167019Z"
    },
    "papermill": {
     "duration": 0.087202,
     "end_time": "2020-09-06T17:12:45.168015",
     "exception": false,
     "start_time": "2020-09-06T17:12:45.080813",
     "status": "completed"
    },
    "tags": []
   },
   "outputs": [
    {
     "data": {
      "text/plain": [
       "array([[  1.   ,  85.   ,  66.   , ...,  26.6  ,   0.351,  31.   ],\n",
       "       [  8.   , 183.   ,  64.   , ...,  23.3  ,   0.672,  32.   ],\n",
       "       [  1.   ,  89.   ,  66.   , ...,  28.1  ,   0.167,  21.   ],\n",
       "       [  0.   , 137.   ,  40.   , ...,  43.1  ,   2.288,  33.   ],\n",
       "       [  3.   ,  78.   ,  50.   , ...,  31.   ,   0.248,  26.   ]])"
      ]
     },
     "execution_count": 36,
     "metadata": {},
     "output_type": "execute_result"
    }
   ],
   "source": [
    "# Question: Select the rows of iris_2d that does not have any nan value.\n",
    "\n",
    "diabetes_data = np.genfromtxt('../input/pima-indians-diabetes-database/diabetes.csv', delimiter=',', dtype='float', usecols=[0,1,2,3,4,5,6,7], skip_header=1)\n",
    "diabetes_data[np.random.randint(150, size=20), np.random.randint(4, size=20)] = np.nan\n",
    "diabetes_data[np.sum(np.isnan(diabetes_data), axis = 1) == 0][:5]"
   ]
  },
  {
   "cell_type": "markdown",
   "execution_count": null,
   "metadata": {
    "papermill": {
     "duration": 0.032895,
     "end_time": "2020-09-06T17:12:45.233341",
     "exception": false,
     "start_time": "2020-09-06T17:12:45.200446",
     "status": "completed"
    },
    "tags": []
   },
   "source": [
    "<a id='36'></a>\n",
    "### *Exercise 36*. How to find the correlation between two columns of a numpy array?\n",
    "<a href=\"#top\" class=\"btn btn-primary btn-sm\" role=\"button\" aria-pressed=\"true\" style=\"color:white\" data-toggle=\"popover\">Go to TOC</a>"
   ]
  },
  {
   "cell_type": "code",
   "execution_count": 37,
   "metadata": {
    "execution": {
     "iopub.execute_input": "2020-09-06T17:12:45.338268Z",
     "iopub.status.busy": "2020-09-06T17:12:45.337411Z",
     "iopub.status.idle": "2020-09-06T17:12:45.394432Z",
     "shell.execute_reply": "2020-09-06T17:12:45.393723Z"
    },
    "papermill": {
     "duration": 0.128917,
     "end_time": "2020-09-06T17:12:45.394568",
     "exception": false,
     "start_time": "2020-09-06T17:12:45.265651",
     "status": "completed"
    },
    "tags": []
   },
   "outputs": [
    {
     "name": "stdout",
     "output_type": "stream",
     "text": [
      "[[1.    0.221]\n",
      " [0.221 1.   ]]\n",
      "\n",
      "\n",
      "0.221071069458983\n"
     ]
    }
   ],
   "source": [
    "# question: Find the correlation between SepalLength(1st column) and PetalLength(3rd column) in iris_2d\n",
    "# insted or using iris data I am going to used pima diabetes data and going to find corelation between BP(1st column) and BMI (5th column).\n",
    "\n",
    "diabetes_data = np.genfromtxt('../input/pima-indians-diabetes-database/diabetes.csv',\n",
    "                              delimiter=',', dtype='float', usecols=[0,1,2,3,4,5,6,7], skip_header=1)\n",
    "\n",
    "print(np.corrcoef(diabetes_data[:, 1], diabetes_data[:, 5]))\n",
    "\n",
    "print('\\n')\n",
    "# you can get correlation by getting value at index [0,1] or [1,0]\n",
    "print(np.corrcoef(diabetes_data[:, 1], diabetes_data[:, 5])[0,1])"
   ]
  },
  {
   "cell_type": "markdown",
   "execution_count": null,
   "metadata": {
    "papermill": {
     "duration": 0.031736,
     "end_time": "2020-09-06T17:12:45.458569",
     "exception": false,
     "start_time": "2020-09-06T17:12:45.426833",
     "status": "completed"
    },
    "tags": []
   },
   "source": [
    "<a id='37'></a>\n",
    "### *Exercise 37*. How to find if a given array has any null values?\n",
    "<a href=\"#top\" class=\"btn btn-primary btn-sm\" role=\"button\" aria-pressed=\"true\" style=\"color:white\" data-toggle=\"popover\">Go to TOC</a>"
   ]
  },
  {
   "cell_type": "code",
   "execution_count": 38,
   "metadata": {
    "execution": {
     "iopub.execute_input": "2020-09-06T17:12:45.531678Z",
     "iopub.status.busy": "2020-09-06T17:12:45.530768Z",
     "iopub.status.idle": "2020-09-06T17:12:45.548142Z",
     "shell.execute_reply": "2020-09-06T17:12:45.547336Z"
    },
    "papermill": {
     "duration": 0.056738,
     "end_time": "2020-09-06T17:12:45.548273",
     "exception": false,
     "start_time": "2020-09-06T17:12:45.491535",
     "status": "completed"
    },
    "tags": []
   },
   "outputs": [
    {
     "data": {
      "text/plain": [
       "False"
      ]
     },
     "execution_count": 38,
     "metadata": {},
     "output_type": "execute_result"
    }
   ],
   "source": [
    "# question: Find out if iris_2d has any missing values.\n",
    "diabetes_data = np.genfromtxt('../input/pima-indians-diabetes-database/diabetes.csv',\n",
    "                              delimiter=',', dtype='float', usecols=[0,1,2,3,4,5,6,7], skip_header=1)\n",
    "\n",
    "np.isnan(diabetes_data).any()"
   ]
  },
  {
   "cell_type": "markdown",
   "execution_count": null,
   "metadata": {
    "papermill": {
     "duration": 0.032734,
     "end_time": "2020-09-06T17:12:45.614063",
     "exception": false,
     "start_time": "2020-09-06T17:12:45.581329",
     "status": "completed"
    },
    "tags": []
   },
   "source": [
    "<a id='38'></a>\n",
    "### *Exercise 38*. How to replace all missing values with 0 in a numpy array?\n",
    "<a href=\"#top\" class=\"btn btn-primary btn-sm\" role=\"button\" aria-pressed=\"true\" style=\"color:white\" data-toggle=\"popover\">Go to TOC</a>"
   ]
  },
  {
   "cell_type": "code",
   "execution_count": 39,
   "metadata": {
    "execution": {
     "iopub.execute_input": "2020-09-06T17:12:45.689334Z",
     "iopub.status.busy": "2020-09-06T17:12:45.688431Z",
     "iopub.status.idle": "2020-09-06T17:12:45.739981Z",
     "shell.execute_reply": "2020-09-06T17:12:45.739141Z"
    },
    "papermill": {
     "duration": 0.093661,
     "end_time": "2020-09-06T17:12:45.740115",
     "exception": false,
     "start_time": "2020-09-06T17:12:45.646454",
     "status": "completed"
    },
    "tags": []
   },
   "outputs": [
    {
     "name": "stdout",
     "output_type": "stream",
     "text": [
      "Does dataset have any Nan value: True\n",
      "Does dataset have any Nan value: False\n"
     ]
    }
   ],
   "source": [
    "# Question: Replace all ccurrences of nan with 0 in numpy array\n",
    "\n",
    "wine_quality = np.genfromtxt('../input/red-wine-quality-cortez-et-al-2009/winequality-red.csv',\n",
    "                             delimiter=',', dtype='float', usecols=[0,1,2,3,4,5,6,7,8,9,10], skip_header=1)\n",
    "\n",
    "wine_quality[np.random.randint(len(wine_quality), size=20), np.random.randint(11, size=20)] = np.nan\n",
    "\n",
    "print(\"Does dataset have any Nan value:\",np.isnan(wine_quality).any())\n",
    "\n",
    "wine_quality[np.isnan(wine_quality)] = 0\n",
    "\n",
    "print(\"Does dataset have any Nan value:\",np.isnan(wine_quality).any())"
   ]
  },
  {
   "cell_type": "markdown",
   "execution_count": null,
   "metadata": {
    "papermill": {
     "duration": 0.032013,
     "end_time": "2020-09-06T17:12:45.804820",
     "exception": false,
     "start_time": "2020-09-06T17:12:45.772807",
     "status": "completed"
    },
    "tags": []
   },
   "source": [
    "<a id='39'></a>\n",
    "### *Exercise 39*. How to find the count of unique values in a numpy array?\n",
    "\n",
    "<a href=\"#top\" class=\"btn btn-primary btn-sm\" role=\"button\" aria-pressed=\"true\" style=\"color:white\" data-toggle=\"popover\">Go to TOC</a>"
   ]
  },
  {
   "cell_type": "code",
   "execution_count": 40,
   "metadata": {
    "execution": {
     "iopub.execute_input": "2020-09-06T17:12:45.876554Z",
     "iopub.status.busy": "2020-09-06T17:12:45.875741Z",
     "iopub.status.idle": "2020-09-06T17:12:46.031942Z",
     "shell.execute_reply": "2020-09-06T17:12:46.032556Z"
    },
    "papermill": {
     "duration": 0.19563,
     "end_time": "2020-09-06T17:12:46.032741",
     "exception": false,
     "start_time": "2020-09-06T17:12:45.837111",
     "status": "completed"
    },
    "tags": []
   },
   "outputs": [
    {
     "data": {
      "text/plain": [
       "(array([b'e', b'p'], dtype=object), array([4208, 3916]))"
      ]
     },
     "execution_count": 40,
     "metadata": {},
     "output_type": "execute_result"
    }
   ],
   "source": [
    "# Question: Find the unique values and the count of unique values in mashroom data's habitat (22 column) column\n",
    "\n",
    "mushroom = np.genfromtxt('../input/mushroom-classification/mushrooms.csv',\n",
    "                             delimiter=',', dtype=object, usecols=[0], skip_header=1)\n",
    "#mushroom\n",
    "np.unique(mushroom, return_counts=True)"
   ]
  },
  {
   "cell_type": "markdown",
   "execution_count": null,
   "metadata": {
    "papermill": {
     "duration": 0.03236,
     "end_time": "2020-09-06T17:12:46.099008",
     "exception": false,
     "start_time": "2020-09-06T17:12:46.066648",
     "status": "completed"
    },
    "tags": []
   },
   "source": [
    "<a id='40'></a>\n",
    "### *Exercise 40*. How to convert a numeric to a categorical (text) array?\n",
    "<a href=\"#top\" class=\"btn btn-primary btn-sm\" role=\"button\" aria-pressed=\"true\" style=\"color:white\" data-toggle=\"popover\">Go to TOC</a>"
   ]
  },
  {
   "cell_type": "code",
   "execution_count": 41,
   "metadata": {
    "execution": {
     "iopub.execute_input": "2020-09-06T17:12:46.174253Z",
     "iopub.status.busy": "2020-09-06T17:12:46.173462Z",
     "iopub.status.idle": "2020-09-06T17:12:46.190717Z",
     "shell.execute_reply": "2020-09-06T17:12:46.191279Z"
    },
    "papermill": {
     "duration": 0.05979,
     "end_time": "2020-09-06T17:12:46.191466",
     "exception": false,
     "start_time": "2020-09-06T17:12:46.131676",
     "status": "completed"
    },
    "tags": []
   },
   "outputs": [
    {
     "data": {
      "text/plain": [
       "['small',\n",
       " 'small',\n",
       " 'small',\n",
       " 'small',\n",
       " 'small',\n",
       " 'small',\n",
       " 'small',\n",
       " 'small',\n",
       " 'small',\n",
       " 'small']"
      ]
     },
     "execution_count": 41,
     "metadata": {},
     "output_type": "execute_result"
    }
   ],
   "source": [
    "# Question: Bin the petal length (3rd) column of iris_2d to form a text array, such that if petal length is:\n",
    "\n",
    "# Less than 3 --> 'small'\n",
    "# 3-5 --> 'medium'\n",
    "# >=5 --> 'large'\n",
    "\n",
    "# Solution\n",
    "\n",
    "iris_data = np.genfromtxt('../input/iris/Iris.csv', delimiter=',', dtype=object, usecols=[3], skip_header=1)\n",
    "\n",
    "bins = np.array([0, 3, 5, 7])\n",
    "inds = np.digitize(iris_data.astype('float'), bins)\n",
    "\n",
    "labels = {1:'small', 2: 'medium', 3:'large'}\n",
    "iris_cat_data = [labels[x] for x in inds]\n",
    "iris_cat_data[:10]"
   ]
  },
  {
   "cell_type": "markdown",
   "execution_count": null,
   "metadata": {
    "papermill": {
     "duration": 0.032759,
     "end_time": "2020-09-06T17:12:46.257428",
     "exception": false,
     "start_time": "2020-09-06T17:12:46.224669",
     "status": "completed"
    },
    "tags": []
   },
   "source": [
    "<a id='41'></a>\n",
    "### *Exercise 41*. How to create a new column from existing columns of a numpy array?\n",
    "<a href=\"#top\" class=\"btn btn-primary btn-sm\" role=\"button\" aria-pressed=\"true\" style=\"color:white\" data-toggle=\"popover\">Go to TOC</a>"
   ]
  },
  {
   "cell_type": "code",
   "execution_count": 42,
   "metadata": {
    "execution": {
     "iopub.execute_input": "2020-09-06T17:12:46.333139Z",
     "iopub.status.busy": "2020-09-06T17:12:46.332274Z",
     "iopub.status.idle": "2020-09-06T17:12:46.348859Z",
     "shell.execute_reply": "2020-09-06T17:12:46.348085Z"
    },
    "papermill": {
     "duration": 0.058649,
     "end_time": "2020-09-06T17:12:46.349000",
     "exception": false,
     "start_time": "2020-09-06T17:12:46.290351",
     "status": "completed"
    },
    "tags": []
   },
   "outputs": [
    {
     "data": {
      "text/plain": [
       "array([[b'5.1', b'3.5', b'1.4', b'0.2', 38.13265162927291],\n",
       "       [b'4.9', b'3.0', b'1.4', b'0.2', 35.200498485922445],\n",
       "       [b'4.7', b'3.2', b'1.3', b'0.2', 30.0723720777127],\n",
       "       [b'4.6', b'3.1', b'1.5', b'0.2', 33.238050274980004]], dtype=object)"
      ]
     },
     "execution_count": 42,
     "metadata": {},
     "output_type": "execute_result"
    }
   ],
   "source": [
    "# Question: Create a new column for volume in iris_2d, where volume is (pi x petallength x sepal_length^2)/3\n",
    "\n",
    "iris_data = np.genfromtxt('../input/iris/Iris.csv', delimiter=',', \n",
    "                          dtype=object, usecols=[1,2,3,4], skip_header=1)\n",
    "\n",
    "sepallength = iris_data[:, 0].astype('float')\n",
    "petallength = iris_data[:, 2].astype('float')\n",
    "\n",
    "new_column = (np.pi * petallength * (sepallength**2))/3\n",
    "\n",
    "new_column = new_column[:, np.newaxis]\n",
    "#new_column\n",
    "\n",
    "# Add the new column\n",
    "out = np.hstack([iris_data, new_column])\n",
    "\n",
    "# View\n",
    "out[:4]"
   ]
  },
  {
   "cell_type": "markdown",
   "execution_count": null,
   "metadata": {
    "papermill": {
     "duration": 0.03414,
     "end_time": "2020-09-06T17:12:46.416941",
     "exception": false,
     "start_time": "2020-09-06T17:12:46.382801",
     "status": "completed"
    },
    "tags": []
   },
   "source": [
    "<a id='42'></a>\n",
    "### *Exercise 42*. How to do probabilistic sampling in numpy?\n",
    "<a href=\"#top\" class=\"btn btn-primary btn-sm\" role=\"button\" aria-pressed=\"true\" style=\"color:white\" data-toggle=\"popover\">Go to TOC</a>"
   ]
  },
  {
   "cell_type": "code",
   "execution_count": 43,
   "metadata": {
    "execution": {
     "iopub.execute_input": "2020-09-06T17:12:46.494206Z",
     "iopub.status.busy": "2020-09-06T17:12:46.493366Z",
     "iopub.status.idle": "2020-09-06T17:12:46.506386Z",
     "shell.execute_reply": "2020-09-06T17:12:46.505747Z"
    },
    "papermill": {
     "duration": 0.055352,
     "end_time": "2020-09-06T17:12:46.506514",
     "exception": false,
     "start_time": "2020-09-06T17:12:46.451162",
     "status": "completed"
    },
    "tags": []
   },
   "outputs": [
    {
     "name": "stdout",
     "output_type": "stream",
     "text": [
      "(array(['Iris-setosa', 'Iris-versicolor', 'Iris-virginica'], dtype='<U15'), array([77, 37, 36]))\n"
     ]
    }
   ],
   "source": [
    "# Question: Randomly sample iris's species such that setose is twice the number of versicolor and virginica\n",
    "\n",
    "iris_data = np.genfromtxt('../input/iris/Iris.csv', delimiter=',', \n",
    "                          dtype=object, usecols=[1,2,3,4,5], skip_header=1)\n",
    "\n",
    "np.random.seed(100)\n",
    "a = np.array(['Iris-setosa', 'Iris-versicolor', 'Iris-virginica'])\n",
    "species_out = np.random.choice(a, 150, p=[0.5, 0.25, 0.25])\n",
    "print(np.unique(species_out, return_counts=True))"
   ]
  },
  {
   "cell_type": "markdown",
   "execution_count": null,
   "metadata": {
    "papermill": {
     "duration": 0.033801,
     "end_time": "2020-09-06T17:12:46.573898",
     "exception": false,
     "start_time": "2020-09-06T17:12:46.540097",
     "status": "completed"
    },
    "tags": []
   },
   "source": [
    "<a id='43'></a>\n",
    "### *Exercise 43*. How to get the second largest value of an array when grouped by another array?\n",
    "<a href=\"#top\" class=\"btn btn-primary btn-sm\" role=\"button\" aria-pressed=\"true\" style=\"color:white\" data-toggle=\"popover\">Go to TOC</a>"
   ]
  },
  {
   "cell_type": "code",
   "execution_count": 44,
   "metadata": {
    "execution": {
     "iopub.execute_input": "2020-09-06T17:12:46.649790Z",
     "iopub.status.busy": "2020-09-06T17:12:46.648972Z",
     "iopub.status.idle": "2020-09-06T17:12:46.676072Z",
     "shell.execute_reply": "2020-09-06T17:12:46.675247Z"
    },
    "papermill": {
     "duration": 0.068841,
     "end_time": "2020-09-06T17:12:46.676214",
     "exception": false,
     "start_time": "2020-09-06T17:12:46.607373",
     "status": "completed"
    },
    "tags": []
   },
   "outputs": [
    {
     "data": {
      "text/plain": [
       "110.0"
      ]
     },
     "execution_count": 44,
     "metadata": {},
     "output_type": "execute_result"
    }
   ],
   "source": [
    "# Question: What is the value of second longest petallength of species setosa\n",
    "# For this question I am going to find second highest bloodpressure (2nd column) where outcome is 1\n",
    "diabetes_data = np.genfromtxt('../input/pima-indians-diabetes-database/diabetes.csv',\n",
    "                              delimiter=',', dtype=object, usecols=[0,1,2,3,4,5,6,7,8], skip_header=1)\n",
    "\n",
    "# Solution\n",
    "bloodpressure= diabetes_data[diabetes_data[:, 8]==b'1', [2]].astype('float')\n",
    "\n",
    "np.unique(np.sort(bloodpressure))[-2]"
   ]
  },
  {
   "cell_type": "markdown",
   "execution_count": null,
   "metadata": {
    "papermill": {
     "duration": 0.03336,
     "end_time": "2020-09-06T17:12:46.743275",
     "exception": false,
     "start_time": "2020-09-06T17:12:46.709915",
     "status": "completed"
    },
    "tags": []
   },
   "source": [
    "<a id='44'></a>\n",
    "### *Exercise 44*. How to sort a 2D array by a column\n",
    "<a href=\"#top\" class=\"btn btn-primary btn-sm\" role=\"button\" aria-pressed=\"true\" style=\"color:white\" data-toggle=\"popover\">Go to TOC</a>"
   ]
  },
  {
   "cell_type": "code",
   "execution_count": 45,
   "metadata": {
    "execution": {
     "iopub.execute_input": "2020-09-06T17:12:46.818550Z",
     "iopub.status.busy": "2020-09-06T17:12:46.817733Z",
     "iopub.status.idle": "2020-09-06T17:12:46.844567Z",
     "shell.execute_reply": "2020-09-06T17:12:46.843849Z"
    },
    "papermill": {
     "duration": 0.067907,
     "end_time": "2020-09-06T17:12:46.844718",
     "exception": false,
     "start_time": "2020-09-06T17:12:46.776811",
     "status": "completed"
    },
    "tags": []
   },
   "outputs": [
    {
     "data": {
      "text/plain": [
       "array([[b'1', b'0', b'74', ..., b'0.299', b'21', b'0'],\n",
       "       [b'5', b'0', b'80', ..., b'0.346', b'37', b'1'],\n",
       "       [b'1', b'0', b'68', ..., b'0.389', b'22', b'0'],\n",
       "       ...,\n",
       "       [b'4', b'99', b'72', ..., b'0.294', b'28', b'0'],\n",
       "       [b'4', b'99', b'76', ..., b'0.223', b'21', b'0'],\n",
       "       [b'2', b'99', b'60', ..., b'0.453', b'21', b'0']], dtype=object)"
      ]
     },
     "execution_count": 45,
     "metadata": {},
     "output_type": "execute_result"
    }
   ],
   "source": [
    "# Question: Sort the iris dataset based on sepallength column.\n",
    "# In this problem, I am going to sort the diabetes dataset based on Glucose (1th column)\n",
    "diabetes_data = np.genfromtxt('../input/pima-indians-diabetes-database/diabetes.csv',\n",
    "                              delimiter=',', dtype=object, usecols=[0,1,2,3,4,5,6,7,8], skip_header=1)\n",
    "\n",
    "diabetes_data[diabetes_data[:,1].argsort()]"
   ]
  },
  {
   "cell_type": "markdown",
   "execution_count": null,
   "metadata": {
    "papermill": {
     "duration": 0.033557,
     "end_time": "2020-09-06T17:12:46.913007",
     "exception": false,
     "start_time": "2020-09-06T17:12:46.879450",
     "status": "completed"
    },
    "tags": []
   },
   "source": [
    "<a id='45'></a>\n",
    "### *Exercise 45*. How to find the most frequent value in a numpy array?\n",
    "<a href=\"#top\" class=\"btn btn-primary btn-sm\" role=\"button\" aria-pressed=\"true\" style=\"color:white\" data-toggle=\"popover\">Go to TOC</a>"
   ]
  },
  {
   "cell_type": "code",
   "execution_count": 46,
   "metadata": {
    "execution": {
     "iopub.execute_input": "2020-09-06T17:12:46.988837Z",
     "iopub.status.busy": "2020-09-06T17:12:46.987997Z",
     "iopub.status.idle": "2020-09-06T17:12:46.997105Z",
     "shell.execute_reply": "2020-09-06T17:12:46.996353Z"
    },
    "papermill": {
     "duration": 0.050232,
     "end_time": "2020-09-06T17:12:46.997247",
     "exception": false,
     "start_time": "2020-09-06T17:12:46.947015",
     "status": "completed"
    },
    "tags": []
   },
   "outputs": [
    {
     "data": {
      "text/plain": [
       "b'1.5'"
      ]
     },
     "execution_count": 46,
     "metadata": {},
     "output_type": "execute_result"
    }
   ],
   "source": [
    "# Question: Find the most frequent value of petal length (3rd column) in iris dataset.\n",
    "\n",
    "iris_data = np.genfromtxt('../input/iris/Iris.csv', delimiter=',', \n",
    "                          dtype=object, usecols=[1,2,3,4,5], skip_header=1)\n",
    "\n",
    "v,c = np.unique(iris_data[:, 2], return_counts=True)\n",
    "v[np.argmax(c)]"
   ]
  },
  {
   "cell_type": "markdown",
   "execution_count": null,
   "metadata": {
    "papermill": {
     "duration": 0.034656,
     "end_time": "2020-09-06T17:12:47.066546",
     "exception": false,
     "start_time": "2020-09-06T17:12:47.031890",
     "status": "completed"
    },
    "tags": []
   },
   "source": [
    "<a id='46'></a>\n",
    "### *Exercise 46*. How to find the position of the first occurrence of a value greater than a given value?\n",
    "<a href=\"#top\" class=\"btn btn-primary btn-sm\" role=\"button\" aria-pressed=\"true\" style=\"color:white\" data-toggle=\"popover\">Go to TOC</a>"
   ]
  },
  {
   "cell_type": "code",
   "execution_count": 47,
   "metadata": {
    "execution": {
     "iopub.execute_input": "2020-09-06T17:12:47.141924Z",
     "iopub.status.busy": "2020-09-06T17:12:47.141085Z",
     "iopub.status.idle": "2020-09-06T17:12:47.148525Z",
     "shell.execute_reply": "2020-09-06T17:12:47.147742Z"
    },
    "papermill": {
     "duration": 0.048053,
     "end_time": "2020-09-06T17:12:47.148654",
     "exception": false,
     "start_time": "2020-09-06T17:12:47.100601",
     "status": "completed"
    },
    "tags": []
   },
   "outputs": [
    {
     "data": {
      "text/plain": [
       "array([50])"
      ]
     },
     "execution_count": 47,
     "metadata": {},
     "output_type": "execute_result"
    }
   ],
   "source": [
    "# Question: Find the position of the first occurrence of a value greater than 1.0 in \n",
    "# petalwidth 4th column of iris dataset.\n",
    "iris_data = np.genfromtxt('../input/iris/Iris.csv', delimiter=',', \n",
    "                          dtype=object, usecols=[4], skip_header=1)\n",
    "\n",
    "np.argwhere(iris_data[:].astype(float) > 1.0)[0]"
   ]
  },
  {
   "cell_type": "markdown",
   "execution_count": null,
   "metadata": {
    "papermill": {
     "duration": 0.033808,
     "end_time": "2020-09-06T17:12:47.217250",
     "exception": false,
     "start_time": "2020-09-06T17:12:47.183442",
     "status": "completed"
    },
    "tags": []
   },
   "source": [
    "<a id='47'></a>\n",
    "### *Exercise 47*. How to replace all values greater than a given value to a given cutoff?\n",
    "<a href=\"#top\" class=\"btn btn-primary btn-sm\" role=\"button\" aria-pressed=\"true\" style=\"color:white\" data-toggle=\"popover\">Go to TOC</a>"
   ]
  },
  {
   "cell_type": "code",
   "execution_count": 48,
   "metadata": {
    "execution": {
     "iopub.execute_input": "2020-09-06T17:12:47.297120Z",
     "iopub.status.busy": "2020-09-06T17:12:47.295966Z",
     "iopub.status.idle": "2020-09-06T17:12:47.301233Z",
     "shell.execute_reply": "2020-09-06T17:12:47.300470Z"
    },
    "papermill": {
     "duration": 0.049517,
     "end_time": "2020-09-06T17:12:47.301389",
     "exception": false,
     "start_time": "2020-09-06T17:12:47.251872",
     "status": "completed"
    },
    "tags": []
   },
   "outputs": [
    {
     "data": {
      "text/plain": [
       "array([27.63, 14.64, 21.8 , 30.  , 10.  , 10.  , 30.  , 30.  , 10.  ,\n",
       "       29.18, 30.  , 11.25, 10.08, 10.  , 11.77, 30.  , 30.  , 10.  ,\n",
       "       30.  , 14.43])"
      ]
     },
     "execution_count": 48,
     "metadata": {},
     "output_type": "execute_result"
    }
   ],
   "source": [
    "# Question: From the array a, replace all values greater than 30 to 30 and less than 10 to 10.\n",
    "\n",
    "# Solution\n",
    "\n",
    "np.set_printoptions(precision=2)\n",
    "np.random.seed(100)\n",
    "a = np.random.uniform(1,50, 20)\n",
    "\n",
    "a[a<10]=10\n",
    "a[a>30]=30\n",
    "np.set_printoptions(threshold=20)\n",
    "a"
   ]
  },
  {
   "cell_type": "markdown",
   "execution_count": null,
   "metadata": {
    "papermill": {
     "duration": 0.034317,
     "end_time": "2020-09-06T17:12:47.370481",
     "exception": false,
     "start_time": "2020-09-06T17:12:47.336164",
     "status": "completed"
    },
    "tags": []
   },
   "source": [
    "<a id='48'></a>\n",
    "### *Exercise 48*. How to get the positions of top n values from a numpy array?\n",
    "<a href=\"#top\" class=\"btn btn-primary btn-sm\" role=\"button\" aria-pressed=\"true\" style=\"color:white\" data-toggle=\"popover\">Go to TOC</a>"
   ]
  },
  {
   "cell_type": "code",
   "execution_count": 49,
   "metadata": {
    "execution": {
     "iopub.execute_input": "2020-09-06T17:12:47.459966Z",
     "iopub.status.busy": "2020-09-06T17:12:47.458805Z",
     "iopub.status.idle": "2020-09-06T17:12:47.484405Z",
     "shell.execute_reply": "2020-09-06T17:12:47.483337Z"
    },
    "papermill": {
     "duration": 0.079753,
     "end_time": "2020-09-06T17:12:47.484632",
     "exception": false,
     "start_time": "2020-09-06T17:12:47.404879",
     "status": "completed"
    },
    "tags": []
   },
   "outputs": [
    {
     "data": {
      "text/plain": [
       "array([27.63, 14.64, 21.8 , 42.39,  1.23,  6.96, 33.87, 41.47,  7.7 ,\n",
       "       29.18, 44.67, 11.25, 10.08,  6.31, 11.77, 48.95, 40.77,  9.43,\n",
       "       41.  , 14.43])"
      ]
     },
     "execution_count": 49,
     "metadata": {},
     "output_type": "execute_result"
    },
    {
     "name": "stdout",
     "output_type": "stream",
     "text": [
      "Positions\n"
     ]
    },
    {
     "data": {
      "text/plain": [
       "array([15, 10,  3,  7, 18])"
      ]
     },
     "execution_count": 49,
     "metadata": {},
     "output_type": "execute_result"
    },
    {
     "name": "stdout",
     "output_type": "stream",
     "text": [
      "Values\n"
     ]
    },
    {
     "data": {
      "text/plain": [
       "array([48.95, 44.67, 42.39, 41.47, 41.  ])"
      ]
     },
     "execution_count": 49,
     "metadata": {},
     "output_type": "execute_result"
    }
   ],
   "source": [
    "# Question: Get the positions of top 5 maximum values in a given array a.\n",
    "np.random.seed(100)\n",
    "a = np.random.uniform(1,50, 20)\n",
    "a\n",
    "sort = a.argsort()\n",
    "print('Positions')\n",
    "sort[-5:][::-1]\n",
    "print('Values')\n",
    "a[sort][-5:][::-1]"
   ]
  },
  {
   "cell_type": "markdown",
   "execution_count": null,
   "metadata": {
    "papermill": {
     "duration": 0.036162,
     "end_time": "2020-09-06T17:12:47.572083",
     "exception": false,
     "start_time": "2020-09-06T17:12:47.535921",
     "status": "completed"
    },
    "tags": []
   },
   "source": [
    "<a id='49'></a>\n",
    "### *Exercise 49*. How to compute the row wise counts of all possible values in an array?\n",
    "<a href=\"#top\" class=\"btn btn-primary btn-sm\" role=\"button\" aria-pressed=\"true\" style=\"color:white\" data-toggle=\"popover\">Go to TOC</a>"
   ]
  },
  {
   "cell_type": "code",
   "execution_count": 50,
   "metadata": {
    "execution": {
     "iopub.execute_input": "2020-09-06T17:12:47.656180Z",
     "iopub.status.busy": "2020-09-06T17:12:47.651505Z",
     "iopub.status.idle": "2020-09-06T17:12:47.669111Z",
     "shell.execute_reply": "2020-09-06T17:12:47.669737Z"
    },
    "papermill": {
     "duration": 0.062656,
     "end_time": "2020-09-06T17:12:47.669897",
     "exception": false,
     "start_time": "2020-09-06T17:12:47.607241",
     "status": "completed"
    },
    "tags": []
   },
   "outputs": [
    {
     "data": {
      "text/plain": [
       "array([[ 9,  9,  4, ...,  3,  6,  3],\n",
       "       [ 3,  3,  2, ..., 10,  7,  3],\n",
       "       [ 5,  2,  6, ...,  8,  2,  2],\n",
       "       [ 8,  8,  1, ...,  3,  6,  9],\n",
       "       [ 2,  1,  8, ...,  3,  6,  2],\n",
       "       [ 9,  2,  6, ...,  6,  1, 10]])"
      ]
     },
     "execution_count": 50,
     "metadata": {},
     "output_type": "execute_result"
    },
    {
     "name": "stdout",
     "output_type": "stream",
     "text": [
      "[ 1  2  3  4  5  6  7  8  9 10]\n"
     ]
    },
    {
     "data": {
      "text/plain": [
       "[[1, 0, 2, 1, 1, 1, 0, 2, 2, 0],\n",
       " [2, 1, 3, 0, 1, 0, 1, 0, 1, 1],\n",
       " [0, 3, 0, 2, 3, 1, 0, 1, 0, 0],\n",
       " [1, 0, 2, 1, 0, 1, 0, 2, 1, 2],\n",
       " [2, 2, 2, 0, 0, 1, 1, 1, 1, 0],\n",
       " [1, 1, 1, 1, 1, 2, 0, 0, 2, 1]]"
      ]
     },
     "execution_count": 50,
     "metadata": {},
     "output_type": "execute_result"
    }
   ],
   "source": [
    "# Question: Compute the counts of unique values row-wise.\n",
    "\n",
    "# Solution\n",
    "def counts_of_all_values_rowwise(arr2d):\n",
    "    # Unique values and its counts row wise\n",
    "    num_counts_array = [np.unique(row, return_counts=True) for row in arr2d]\n",
    "\n",
    "    # Counts of all values row wise\n",
    "    return([[int(b[a==i]) if i in a else 0 for i in np.unique(arr2d)] for a, b in num_counts_array])\n",
    "\n",
    "np.random.seed(100)\n",
    "np.set_printoptions(threshold=10)\n",
    "arr = np.random.randint(1,11,size=(6, 10))\n",
    "arr\n",
    "print(np.arange(1,11))\n",
    "counts_of_all_values_rowwise(arr)"
   ]
  },
  {
   "cell_type": "markdown",
   "execution_count": null,
   "metadata": {
    "papermill": {
     "duration": 0.035987,
     "end_time": "2020-09-06T17:12:47.741641",
     "exception": false,
     "start_time": "2020-09-06T17:12:47.705654",
     "status": "completed"
    },
    "tags": []
   },
   "source": [
    "<a id='50'></a>\n",
    "### *Exercise 50*. How to convert an array of arrays into a flat 1d array?\n",
    "<a href=\"#top\" class=\"btn btn-primary btn-sm\" role=\"button\" aria-pressed=\"true\" style=\"color:white\" data-toggle=\"popover\">Go to TOC</a>"
   ]
  },
  {
   "cell_type": "code",
   "execution_count": 51,
   "metadata": {
    "execution": {
     "iopub.execute_input": "2020-09-06T17:12:47.826071Z",
     "iopub.status.busy": "2020-09-06T17:12:47.825066Z",
     "iopub.status.idle": "2020-09-06T17:12:47.829109Z",
     "shell.execute_reply": "2020-09-06T17:12:47.829699Z"
    },
    "papermill": {
     "duration": 0.047129,
     "end_time": "2020-09-06T17:12:47.829867",
     "exception": false,
     "start_time": "2020-09-06T17:12:47.782738",
     "status": "completed"
    },
    "tags": []
   },
   "outputs": [
    {
     "name": "stdout",
     "output_type": "stream",
     "text": [
      "[0 1 2 3 4 5 6 7 8 9]\n"
     ]
    }
   ],
   "source": [
    "# Question: Convert array_of_arrays into a flat linear 1d array.\n",
    "arr1 = np.arange(3)\n",
    "arr2 = np.arange(3,7)\n",
    "arr3 = np.arange(7,10)\n",
    "\n",
    "arr_2d = np.concatenate([arr1, arr2, arr3])\n",
    "print(arr_2d)"
   ]
  },
  {
   "cell_type": "markdown",
   "execution_count": null,
   "metadata": {
    "papermill": {
     "duration": 0.035957,
     "end_time": "2020-09-06T17:12:47.901479",
     "exception": false,
     "start_time": "2020-09-06T17:12:47.865522",
     "status": "completed"
    },
    "tags": []
   },
   "source": [
    "## I hope you have learned something in this kernel.\n",
    "## <font color='red'> If you like this kernel, Don't forget to upvote. </font>"
   ]
  },
  {
   "cell_type": "markdown",
   "execution_count": null,
   "metadata": {
    "papermill": {
     "duration": 0.036775,
     "end_time": "2020-09-06T17:12:47.974019",
     "exception": false,
     "start_time": "2020-09-06T17:12:47.937244",
     "status": "completed"
    },
    "tags": []
   },
   "source": [
    "## Happy Learning"
   ]
  }
 ],
 "metadata": {
  "kernelspec": {
   "display_name": "Python 3",
   "language": "python",
   "name": "python3"
  },
  "language_info": {
   "codemirror_mode": {
    "name": "ipython",
    "version": 3
   },
   "file_extension": ".py",
   "mimetype": "text/x-python",
   "name": "python",
   "nbconvert_exporter": "python",
   "pygments_lexer": "ipython3",
   "version": "3.7.6"
  },
  "papermill": {
   "duration": 14.061704,
   "end_time": "2020-09-06T17:12:48.120409",
   "environment_variables": {},
   "exception": null,
   "input_path": "__notebook__.ipynb",
   "output_path": "__notebook__.ipynb",
   "parameters": {},
   "start_time": "2020-09-06T17:12:34.058705",
   "version": "2.1.0"
  }
 },
 "nbformat": 4,
 "nbformat_minor": 4
}
