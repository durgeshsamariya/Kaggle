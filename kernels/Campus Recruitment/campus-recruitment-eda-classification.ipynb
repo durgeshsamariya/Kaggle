{
 "cells": [
  {
   "cell_type": "markdown",
   "execution_count": null,
   "metadata": {
    "papermill": {
     "duration": 0.018934,
     "end_time": "2020-09-02T18:49:52.301721",
     "exception": false,
     "start_time": "2020-09-02T18:49:52.282787",
     "status": "completed"
    },
    "tags": []
   },
   "source": [
    "<font color='blue' size='9.5'><b><i>\n",
    "    Campus Recruitment: EDA and Classification</b></i>\n",
    "</font>\n",
    "\n",
    "<font size='2'>Durgesh Samariya | The ML PhD Student</font>"
   ]
  },
  {
   "cell_type": "markdown",
   "execution_count": null,
   "metadata": {
    "papermill": {
     "duration": 0.016887,
     "end_time": "2020-09-02T18:49:52.336046",
     "exception": false,
     "start_time": "2020-09-02T18:49:52.319159",
     "status": "completed"
    },
    "tags": []
   },
   "source": [
    "![]()\n",
    "<center>\n",
    "    <img src='https://d8it4huxumps7.cloudfront.net/bites/wp-content/banners/2020/7/5f02f3ca4efab_campus_recruitment_process_heres_everything_you_need_to_know.png?d=700x400'>\n",
    "    <font size='1'> Source: https://d8it4huxumps7.cloudfront.net/bites/wp-content/banners/2020/7/5f02f3ca4efab_campus_recruitment_process_heres_everything_you_need_to_know.png?d=700x400 </font>\n",
    "</center>\n"
   ]
  },
  {
   "cell_type": "markdown",
   "execution_count": null,
   "metadata": {
    "papermill": {
     "duration": 0.017214,
     "end_time": "2020-09-02T18:49:52.370584",
     "exception": false,
     "start_time": "2020-09-02T18:49:52.353370",
     "status": "completed"
    },
    "tags": []
   },
   "source": [
    "<font color='red' size='5'>\n",
    "    <center>\n",
    "        Please Upvote my kernel if you like my work.\n",
    "    </center>\n",
    "</font>"
   ]
  },
  {
   "cell_type": "markdown",
   "execution_count": null,
   "metadata": {
    "papermill": {
     "duration": 0.016906,
     "end_time": "2020-09-02T18:49:52.404641",
     "exception": false,
     "start_time": "2020-09-02T18:49:52.387735",
     "status": "completed"
    },
    "tags": []
   },
   "source": [
    "<a id=\"top\"></a>\n",
    "## Table of Content\n",
    "\n",
    "* [1. Summary](#1)\n",
    "* [2. Loading and Exploring Data](#2)\n",
    "    - [2.1 Loading libraries required and reading the data into Python DataFrame](#2.1)\n",
    "    - [2.2 Data size and structure](#2.2)\n",
    "* [3. Exploring features and relation with target class](#4)\n",
    "    - [3.1. Target Class; Status](#4.1)\n",
    "    - [3.2. Gender](#4.2)\n",
    "    - [3.3. SSC Percentage](#4.3)\n",
    "    - [3.4. SSC Board](#4.4)\n",
    "    - [3.5. HSC Percentage](#4.5)\n",
    "    - [3.6. HSC Board](#4.6)\n",
    "    - [3.7. HSC Specialization](#4.7)\n",
    "    - [3.8. Degree Percentage](#4.8)\n",
    "    - [3.9. Degree Type](#4.9)\n",
    "    - [3.10. Work Experience](#4.10)\n",
    "    - [3.11. Employment Test Percentage](#4.11)\n",
    "    - [3.12. MBA Specialization](#4.12)\n",
    "    - [3.13. MBA Percentage](#4.13)\n",
    "    - [3.14. Most Important Factor; Salary](#4.14)\n",
    "    - [3.15. Correlation between features](#4.15)\n",
    "* [4. Feature mapping and generation](#5)\n",
    "    - [4.1. Additional feature generation](#5.1)\n",
    "* [5. Model Prediction](#6)\n",
    "    - [5.1. Train and Test Split](#6.1)\n",
    "    - [5.2. KNN Classification](#6.2)\n",
    "    - [5.3. Decision Tree Classification](#6.3)\n",
    "    - [5.4. Support Vector Machine](#6.4)\n",
    "    - [5.5. Random Forest](#6.5)\n",
    "    - [5.6. Gaussian Naive Bayes](#6.6)\n",
    "    - [5.7. Stochastic Gradient Descent](#6.7)\n",
    "    - [5.8. Linear SVC](#6.8)\n",
    "    - [5.9. Best Performing Model](#6.9)"
   ]
  },
  {
   "cell_type": "markdown",
   "execution_count": null,
   "metadata": {
    "papermill": {
     "duration": 0.016835,
     "end_time": "2020-09-02T18:49:52.439729",
     "exception": false,
     "start_time": "2020-09-02T18:49:52.422894",
     "status": "completed"
    },
    "tags": []
   },
   "source": [
    "<a id='#1'></a>\n",
    "<font color=\"darkslateblue\" size=+2.5><b>1. Summary</b></font>\n",
    "\n",
    "<a href=\"#top\" class=\"btn btn-primary btn-sm\" role=\"button\" aria-pressed=\"true\" style=\"color:white\" data-toggle=\"popover\">Go to TOC</a>"
   ]
  },
  {
   "cell_type": "markdown",
   "execution_count": null,
   "metadata": {
    "papermill": {
     "duration": 0.016914,
     "end_time": "2020-09-02T18:49:52.473728",
     "exception": false,
     "start_time": "2020-09-02T18:49:52.456814",
     "status": "completed"
    },
    "tags": []
   },
   "source": [
    "<font size=3>Campus placement or campus recruiting is a program conducted within universities or other educational institutions to provide jobs to students nearing completion of their studies. </font>\n",
    "<center>\n",
    "    <img src='https://annamacharyagroup.org/wp-content/uploads/2018/05/Tip-for-campus-placements-2-05-2018.jpg'>\n",
    "    <text size=2> Source: https://annamacharyagroup.org/wp-content/uploads/2018/05/Tip-for-campus-placements-2-05-2018.jpg</text>\n",
    "</center>\n",
    "<hr>\n",
    "\n",
    "<font size=5>Problem Statement:</font>\n",
    "\n",
    "XYZ University wants to build machine learning model to know whethere student will get placed or not. So that they can provide special attention and help them to get job. Given dataset can be trated as classification or regression problem. In this project, I am going to focus on classification problem, where task is to find whethere candidate will placed or not. This is binary classification problem.\n",
    "\n",
    "In this project, I used following classification algorithms.\n",
    "- KNN Classification\n",
    "- Decision Tree Classification\n",
    "- Support Vector Machine\n",
    "- Random Forest\n",
    "- Gaussian Naive Bayes\n",
    "- Stochastic Gradient Descent\n",
    "- Linear SVC"
   ]
  },
  {
   "cell_type": "markdown",
   "execution_count": null,
   "metadata": {
    "papermill": {
     "duration": 0.016666,
     "end_time": "2020-09-02T18:49:52.507596",
     "exception": false,
     "start_time": "2020-09-02T18:49:52.490930",
     "status": "completed"
    },
    "tags": []
   },
   "source": [
    "<a id='#2'></a>\n",
    "<font color=\"darkslateblue\" size=+2.5><b>2. Loading and Exploring Data</b></font>\n",
    "\n",
    "<a href=\"#top\" class=\"btn btn-primary btn-sm\" role=\"button\" aria-pressed=\"true\" style=\"color:white\" data-toggle=\"popover\">Go to TOC</a>"
   ]
  },
  {
   "cell_type": "markdown",
   "execution_count": null,
   "metadata": {
    "papermill": {
     "duration": 0.017386,
     "end_time": "2020-09-02T18:49:52.542818",
     "exception": false,
     "start_time": "2020-09-02T18:49:52.525432",
     "status": "completed"
    },
    "tags": []
   },
   "source": [
    "<a id='#2.1'></a>\n",
    "<font color=\"darkslateblue\" size=3.5><b>2.1. Loading libraries required and reading the data into Python DataFrame</b></font>"
   ]
  },
  {
   "cell_type": "code",
   "execution_count": 1,
   "metadata": {
    "_cell_guid": "79c7e3d0-c299-4dcb-8224-4455121ee9b0",
    "_uuid": "d629ff2d2480ee46fbb7e2d37f6b5fab8052498a",
    "execution": {
     "iopub.execute_input": "2020-09-02T18:49:52.587125Z",
     "iopub.status.busy": "2020-09-02T18:49:52.586343Z",
     "iopub.status.idle": "2020-09-02T18:49:54.076152Z",
     "shell.execute_reply": "2020-09-02T18:49:54.074960Z"
    },
    "papermill": {
     "duration": 1.515688,
     "end_time": "2020-09-02T18:49:54.076308",
     "exception": false,
     "start_time": "2020-09-02T18:49:52.560620",
     "status": "completed"
    },
    "tags": []
   },
   "outputs": [
    {
     "name": "stdout",
     "output_type": "stream",
     "text": [
      "/kaggle/input/factors-affecting-campus-placement/Placement_Data_Full_Class.csv\n"
     ]
    }
   ],
   "source": [
    "import numpy as np\n",
    "import pandas as pd\n",
    "\n",
    "# data visualization\n",
    "import matplotlib.pyplot as plt\n",
    "import seaborn as sns\n",
    "\n",
    "# machine learning\n",
    "from sklearn.svm import SVC, LinearSVC\n",
    "from sklearn.ensemble import RandomForestClassifier\n",
    "from sklearn.neighbors import KNeighborsClassifier\n",
    "from sklearn.naive_bayes import GaussianNB\n",
    "from sklearn.linear_model import SGDClassifier\n",
    "from sklearn.tree import DecisionTreeClassifier\n",
    "from sklearn.model_selection import train_test_split\n",
    "from sklearn.metrics import confusion_matrix, classification_report\n",
    "from sklearn import preprocessing\n",
    "\n",
    "import os\n",
    "for dirname, _, filenames in os.walk('/kaggle/input'):\n",
    "    for filename in filenames:\n",
    "        print(os.path.join(dirname, filename))\n",
    "\n",
    "# setting color for all graphs\n",
    "colors = ['#e79c2a','#d54062', '#ebdc87', '#ffa36c']\n",
    "sns.set_palette(sns.color_palette(colors))"
   ]
  },
  {
   "cell_type": "code",
   "execution_count": 2,
   "metadata": {
    "execution": {
     "iopub.execute_input": "2020-09-02T18:49:54.122604Z",
     "iopub.status.busy": "2020-09-02T18:49:54.121932Z",
     "iopub.status.idle": "2020-09-02T18:49:54.140486Z",
     "shell.execute_reply": "2020-09-02T18:49:54.139860Z"
    },
    "papermill": {
     "duration": 0.045152,
     "end_time": "2020-09-02T18:49:54.140607",
     "exception": false,
     "start_time": "2020-09-02T18:49:54.095455",
     "status": "completed"
    },
    "tags": []
   },
   "outputs": [],
   "source": [
    "data = pd.read_csv(\"/kaggle/input/factors-affecting-campus-placement/Placement_Data_Full_Class.csv\")"
   ]
  },
  {
   "cell_type": "markdown",
   "execution_count": null,
   "metadata": {
    "papermill": {
     "duration": 0.016725,
     "end_time": "2020-09-02T18:49:54.175132",
     "exception": false,
     "start_time": "2020-09-02T18:49:54.158407",
     "status": "completed"
    },
    "tags": []
   },
   "source": [
    "<a id='#2.2'></a>\n",
    "<font color=\"darkslateblue\" size=3.5><b>2.2. Data size and Structure</b></font>"
   ]
  },
  {
   "cell_type": "markdown",
   "execution_count": null,
   "metadata": {
    "papermill": {
     "duration": 0.016666,
     "end_time": "2020-09-02T18:49:54.209062",
     "exception": false,
     "start_time": "2020-09-02T18:49:54.192396",
     "status": "completed"
    },
    "tags": []
   },
   "source": [
    "Let's have look at example samples."
   ]
  },
  {
   "cell_type": "code",
   "execution_count": 3,
   "metadata": {
    "execution": {
     "iopub.execute_input": "2020-09-02T18:49:54.264520Z",
     "iopub.status.busy": "2020-09-02T18:49:54.263798Z",
     "iopub.status.idle": "2020-09-02T18:49:54.278492Z",
     "shell.execute_reply": "2020-09-02T18:49:54.278932Z"
    },
    "papermill": {
     "duration": 0.05205,
     "end_time": "2020-09-02T18:49:54.279117",
     "exception": false,
     "start_time": "2020-09-02T18:49:54.227067",
     "status": "completed"
    },
    "tags": []
   },
   "outputs": [
    {
     "data": {
      "text/html": [
       "<div>\n",
       "<style scoped>\n",
       "    .dataframe tbody tr th:only-of-type {\n",
       "        vertical-align: middle;\n",
       "    }\n",
       "\n",
       "    .dataframe tbody tr th {\n",
       "        vertical-align: top;\n",
       "    }\n",
       "\n",
       "    .dataframe thead th {\n",
       "        text-align: right;\n",
       "    }\n",
       "</style>\n",
       "<table border=\"1\" class=\"dataframe\">\n",
       "  <thead>\n",
       "    <tr style=\"text-align: right;\">\n",
       "      <th></th>\n",
       "      <th>sl_no</th>\n",
       "      <th>gender</th>\n",
       "      <th>ssc_p</th>\n",
       "      <th>ssc_b</th>\n",
       "      <th>hsc_p</th>\n",
       "      <th>hsc_b</th>\n",
       "      <th>hsc_s</th>\n",
       "      <th>degree_p</th>\n",
       "      <th>degree_t</th>\n",
       "      <th>workex</th>\n",
       "      <th>etest_p</th>\n",
       "      <th>specialisation</th>\n",
       "      <th>mba_p</th>\n",
       "      <th>status</th>\n",
       "      <th>salary</th>\n",
       "    </tr>\n",
       "  </thead>\n",
       "  <tbody>\n",
       "    <tr>\n",
       "      <th>0</th>\n",
       "      <td>1</td>\n",
       "      <td>M</td>\n",
       "      <td>67.00</td>\n",
       "      <td>Others</td>\n",
       "      <td>91.00</td>\n",
       "      <td>Others</td>\n",
       "      <td>Commerce</td>\n",
       "      <td>58.00</td>\n",
       "      <td>Sci&amp;Tech</td>\n",
       "      <td>No</td>\n",
       "      <td>55.0</td>\n",
       "      <td>Mkt&amp;HR</td>\n",
       "      <td>58.80</td>\n",
       "      <td>Placed</td>\n",
       "      <td>270000.0</td>\n",
       "    </tr>\n",
       "    <tr>\n",
       "      <th>1</th>\n",
       "      <td>2</td>\n",
       "      <td>M</td>\n",
       "      <td>79.33</td>\n",
       "      <td>Central</td>\n",
       "      <td>78.33</td>\n",
       "      <td>Others</td>\n",
       "      <td>Science</td>\n",
       "      <td>77.48</td>\n",
       "      <td>Sci&amp;Tech</td>\n",
       "      <td>Yes</td>\n",
       "      <td>86.5</td>\n",
       "      <td>Mkt&amp;Fin</td>\n",
       "      <td>66.28</td>\n",
       "      <td>Placed</td>\n",
       "      <td>200000.0</td>\n",
       "    </tr>\n",
       "    <tr>\n",
       "      <th>2</th>\n",
       "      <td>3</td>\n",
       "      <td>M</td>\n",
       "      <td>65.00</td>\n",
       "      <td>Central</td>\n",
       "      <td>68.00</td>\n",
       "      <td>Central</td>\n",
       "      <td>Arts</td>\n",
       "      <td>64.00</td>\n",
       "      <td>Comm&amp;Mgmt</td>\n",
       "      <td>No</td>\n",
       "      <td>75.0</td>\n",
       "      <td>Mkt&amp;Fin</td>\n",
       "      <td>57.80</td>\n",
       "      <td>Placed</td>\n",
       "      <td>250000.0</td>\n",
       "    </tr>\n",
       "    <tr>\n",
       "      <th>3</th>\n",
       "      <td>4</td>\n",
       "      <td>M</td>\n",
       "      <td>56.00</td>\n",
       "      <td>Central</td>\n",
       "      <td>52.00</td>\n",
       "      <td>Central</td>\n",
       "      <td>Science</td>\n",
       "      <td>52.00</td>\n",
       "      <td>Sci&amp;Tech</td>\n",
       "      <td>No</td>\n",
       "      <td>66.0</td>\n",
       "      <td>Mkt&amp;HR</td>\n",
       "      <td>59.43</td>\n",
       "      <td>Not Placed</td>\n",
       "      <td>NaN</td>\n",
       "    </tr>\n",
       "    <tr>\n",
       "      <th>4</th>\n",
       "      <td>5</td>\n",
       "      <td>M</td>\n",
       "      <td>85.80</td>\n",
       "      <td>Central</td>\n",
       "      <td>73.60</td>\n",
       "      <td>Central</td>\n",
       "      <td>Commerce</td>\n",
       "      <td>73.30</td>\n",
       "      <td>Comm&amp;Mgmt</td>\n",
       "      <td>No</td>\n",
       "      <td>96.8</td>\n",
       "      <td>Mkt&amp;Fin</td>\n",
       "      <td>55.50</td>\n",
       "      <td>Placed</td>\n",
       "      <td>425000.0</td>\n",
       "    </tr>\n",
       "  </tbody>\n",
       "</table>\n",
       "</div>"
      ],
      "text/plain": [
       "   sl_no gender  ssc_p    ssc_b  hsc_p    hsc_b     hsc_s  degree_p  \\\n",
       "0      1      M  67.00   Others  91.00   Others  Commerce     58.00   \n",
       "1      2      M  79.33  Central  78.33   Others   Science     77.48   \n",
       "2      3      M  65.00  Central  68.00  Central      Arts     64.00   \n",
       "3      4      M  56.00  Central  52.00  Central   Science     52.00   \n",
       "4      5      M  85.80  Central  73.60  Central  Commerce     73.30   \n",
       "\n",
       "    degree_t workex  etest_p specialisation  mba_p      status    salary  \n",
       "0   Sci&Tech     No     55.0         Mkt&HR  58.80      Placed  270000.0  \n",
       "1   Sci&Tech    Yes     86.5        Mkt&Fin  66.28      Placed  200000.0  \n",
       "2  Comm&Mgmt     No     75.0        Mkt&Fin  57.80      Placed  250000.0  \n",
       "3   Sci&Tech     No     66.0         Mkt&HR  59.43  Not Placed       NaN  \n",
       "4  Comm&Mgmt     No     96.8        Mkt&Fin  55.50      Placed  425000.0  "
      ]
     },
     "execution_count": 3,
     "metadata": {},
     "output_type": "execute_result"
    }
   ],
   "source": [
    "data.head()"
   ]
  },
  {
   "cell_type": "markdown",
   "execution_count": null,
   "metadata": {
    "papermill": {
     "duration": 0.017212,
     "end_time": "2020-09-02T18:49:54.314732",
     "exception": false,
     "start_time": "2020-09-02T18:49:54.297520",
     "status": "completed"
    },
    "tags": []
   },
   "source": [
    "### Features in data."
   ]
  },
  {
   "cell_type": "code",
   "execution_count": 4,
   "metadata": {
    "execution": {
     "iopub.execute_input": "2020-09-02T18:49:54.355845Z",
     "iopub.status.busy": "2020-09-02T18:49:54.355181Z",
     "iopub.status.idle": "2020-09-02T18:49:54.358582Z",
     "shell.execute_reply": "2020-09-02T18:49:54.357930Z"
    },
    "papermill": {
     "duration": 0.026321,
     "end_time": "2020-09-02T18:49:54.358700",
     "exception": false,
     "start_time": "2020-09-02T18:49:54.332379",
     "status": "completed"
    },
    "tags": []
   },
   "outputs": [
    {
     "name": "stdout",
     "output_type": "stream",
     "text": [
      "==================================================\n",
      "Columns in data\n",
      "==================================================\n",
      "['sl_no' 'gender' 'ssc_p' 'ssc_b' 'hsc_p' 'hsc_b' 'hsc_s' 'degree_p'\n",
      " 'degree_t' 'workex' 'etest_p' 'specialisation' 'mba_p' 'status' 'salary']\n"
     ]
    }
   ],
   "source": [
    "print('='*50)\n",
    "print(\"Columns in data\")\n",
    "print('='*50)\n",
    "print(data.columns.values)"
   ]
  },
  {
   "cell_type": "markdown",
   "execution_count": null,
   "metadata": {
    "papermill": {
     "duration": 0.017417,
     "end_time": "2020-09-02T18:49:54.393764",
     "exception": false,
     "start_time": "2020-09-02T18:49:54.376347",
     "status": "completed"
    },
    "tags": []
   },
   "source": [
    "### Let's have look at each column information.\n",
    "\n",
    "* sl_no : Serial Number\n",
    "\n",
    "* gender : Candidate gender --> Male='M',Female='F'\n",
    "\n",
    "* ssc_p : SSC (10th) Percentage\n",
    "\n",
    "* ssc_b : SSC Board of Education --> Central (or) Others\n",
    "\n",
    "* hsc_p : HSC (12th) percentage\n",
    "\n",
    "* hsc_b : HSC Board of Education --> Central/ Others\n",
    "\n",
    "* hsc_s : Specialization in HSC\n",
    "\n",
    "* degree_p : Degree Percentage\n",
    "\n",
    "* degree_t : Under Graduation (Degree type)- Field of degree education\n",
    "\n",
    "* workex : Work Experience\n",
    "\n",
    "* etest_p : Employability test percentage ( conducted by college)\n",
    "\n",
    "* specialisation : Post Graduation(MBA)- Specialization\n",
    "\n",
    "* mba_p : MBA percentage\n",
    "\n",
    "* status : Status of placement- Placed/Not placed\n",
    "\n",
    "* salary : Salary offered by corporate to candidates"
   ]
  },
  {
   "cell_type": "code",
   "execution_count": 5,
   "metadata": {
    "execution": {
     "iopub.execute_input": "2020-09-02T18:49:54.434862Z",
     "iopub.status.busy": "2020-09-02T18:49:54.434079Z",
     "iopub.status.idle": "2020-09-02T18:49:54.438038Z",
     "shell.execute_reply": "2020-09-02T18:49:54.437328Z"
    },
    "papermill": {
     "duration": 0.026826,
     "end_time": "2020-09-02T18:49:54.438153",
     "exception": false,
     "start_time": "2020-09-02T18:49:54.411327",
     "status": "completed"
    },
    "tags": []
   },
   "outputs": [
    {
     "name": "stdout",
     "output_type": "stream",
     "text": [
      "====================\n",
      "Data shape\n",
      "====================\n",
      "(215, 15)\n"
     ]
    }
   ],
   "source": [
    "print('='*20)\n",
    "print(\"Data shape\")\n",
    "print('='*20)\n",
    "print(data.shape)"
   ]
  },
  {
   "cell_type": "markdown",
   "execution_count": null,
   "metadata": {
    "papermill": {
     "duration": 0.017322,
     "end_time": "2020-09-02T18:49:54.472979",
     "exception": false,
     "start_time": "2020-09-02T18:49:54.455657",
     "status": "completed"
    },
    "tags": []
   },
   "source": [
    "We have only 215 samples in our dataset. I hope this is enough to train models."
   ]
  },
  {
   "cell_type": "code",
   "execution_count": 6,
   "metadata": {
    "execution": {
     "iopub.execute_input": "2020-09-02T18:49:54.520002Z",
     "iopub.status.busy": "2020-09-02T18:49:54.513224Z",
     "iopub.status.idle": "2020-09-02T18:49:54.549073Z",
     "shell.execute_reply": "2020-09-02T18:49:54.548164Z"
    },
    "papermill": {
     "duration": 0.058017,
     "end_time": "2020-09-02T18:49:54.549230",
     "exception": false,
     "start_time": "2020-09-02T18:49:54.491213",
     "status": "completed"
    },
    "tags": []
   },
   "outputs": [
    {
     "name": "stdout",
     "output_type": "stream",
     "text": [
      "==================================================\n",
      "\n",
      "Describe data\n",
      "\n",
      "==================================================\n",
      "            sl_no       ssc_p       hsc_p    degree_p     etest_p       mba_p  \\\n",
      "count  215.000000  215.000000  215.000000  215.000000  215.000000  215.000000   \n",
      "mean   108.000000   67.303395   66.333163   66.370186   72.100558   62.278186   \n",
      "std     62.209324   10.827205   10.897509    7.358743   13.275956    5.833385   \n",
      "min      1.000000   40.890000   37.000000   50.000000   50.000000   51.210000   \n",
      "25%     54.500000   60.600000   60.900000   61.000000   60.000000   57.945000   \n",
      "50%    108.000000   67.000000   65.000000   66.000000   71.000000   62.000000   \n",
      "75%    161.500000   75.700000   73.000000   72.000000   83.500000   66.255000   \n",
      "max    215.000000   89.400000   97.700000   91.000000   98.000000   77.890000   \n",
      "\n",
      "              salary  \n",
      "count     148.000000  \n",
      "mean   288655.405405  \n",
      "std     93457.452420  \n",
      "min    200000.000000  \n",
      "25%    240000.000000  \n",
      "50%    265000.000000  \n",
      "75%    300000.000000  \n",
      "max    940000.000000  \n"
     ]
    }
   ],
   "source": [
    "print('='*50)\n",
    "print(\"\\nDescribe data\\n\")\n",
    "print('='*50) \n",
    "print(data.describe())"
   ]
  },
  {
   "cell_type": "code",
   "execution_count": 7,
   "metadata": {
    "execution": {
     "iopub.execute_input": "2020-09-02T18:49:54.600831Z",
     "iopub.status.busy": "2020-09-02T18:49:54.599840Z",
     "iopub.status.idle": "2020-09-02T18:49:54.603310Z",
     "shell.execute_reply": "2020-09-02T18:49:54.603822Z"
    },
    "papermill": {
     "duration": 0.036275,
     "end_time": "2020-09-02T18:49:54.603990",
     "exception": false,
     "start_time": "2020-09-02T18:49:54.567715",
     "status": "completed"
    },
    "tags": []
   },
   "outputs": [
    {
     "name": "stdout",
     "output_type": "stream",
     "text": [
      "==================================================\n",
      "\n",
      "Data Information\n",
      "\n",
      "==================================================\n",
      "<class 'pandas.core.frame.DataFrame'>\n",
      "RangeIndex: 215 entries, 0 to 214\n",
      "Data columns (total 15 columns):\n",
      " #   Column          Non-Null Count  Dtype  \n",
      "---  ------          --------------  -----  \n",
      " 0   sl_no           215 non-null    int64  \n",
      " 1   gender          215 non-null    object \n",
      " 2   ssc_p           215 non-null    float64\n",
      " 3   ssc_b           215 non-null    object \n",
      " 4   hsc_p           215 non-null    float64\n",
      " 5   hsc_b           215 non-null    object \n",
      " 6   hsc_s           215 non-null    object \n",
      " 7   degree_p        215 non-null    float64\n",
      " 8   degree_t        215 non-null    object \n",
      " 9   workex          215 non-null    object \n",
      " 10  etest_p         215 non-null    float64\n",
      " 11  specialisation  215 non-null    object \n",
      " 12  mba_p           215 non-null    float64\n",
      " 13  status          215 non-null    object \n",
      " 14  salary          148 non-null    float64\n",
      "dtypes: float64(6), int64(1), object(8)\n",
      "memory usage: 25.3+ KB\n",
      "None\n"
     ]
    }
   ],
   "source": [
    "print('='*50)\n",
    "print(\"\\nData Information\\n\")\n",
    "print('='*50) \n",
    "print(data.info())"
   ]
  },
  {
   "cell_type": "markdown",
   "execution_count": null,
   "metadata": {
    "papermill": {
     "duration": 0.017543,
     "end_time": "2020-09-02T18:49:54.639527",
     "exception": false,
     "start_time": "2020-09-02T18:49:54.621984",
     "status": "completed"
    },
    "tags": []
   },
   "source": [
    "As it is clear that we don't need sl_no in training model or in EDA. Thus I am dropping sl_no column. Rest of them I will keep as it is. After performing EDA I will drop other if needed."
   ]
  },
  {
   "cell_type": "code",
   "execution_count": 8,
   "metadata": {
    "execution": {
     "iopub.execute_input": "2020-09-02T18:49:54.683533Z",
     "iopub.status.busy": "2020-09-02T18:49:54.682634Z",
     "iopub.status.idle": "2020-09-02T18:49:54.685419Z",
     "shell.execute_reply": "2020-09-02T18:49:54.685902Z"
    },
    "papermill": {
     "duration": 0.027687,
     "end_time": "2020-09-02T18:49:54.686113",
     "exception": false,
     "start_time": "2020-09-02T18:49:54.658426",
     "status": "completed"
    },
    "tags": []
   },
   "outputs": [],
   "source": [
    "data = data.drop(['sl_no'], axis=1)"
   ]
  },
  {
   "cell_type": "markdown",
   "execution_count": null,
   "metadata": {
    "papermill": {
     "duration": 0.017587,
     "end_time": "2020-09-02T18:49:54.721979",
     "exception": false,
     "start_time": "2020-09-02T18:49:54.704392",
     "status": "completed"
    },
    "tags": []
   },
   "source": [
    "<a id='#4'></a>\n",
    "<font color=\"darkslateblue\" size=+2.5><b>3. Exploring important features</b></font>\n",
    "\n",
    "<a href=\"#top\" class=\"btn btn-primary btn-sm\" role=\"button\" aria-pressed=\"true\" style=\"color:white\" data-toggle=\"popover\">Go to TOC</a>"
   ]
  },
  {
   "cell_type": "markdown",
   "execution_count": null,
   "metadata": {
    "papermill": {
     "duration": 0.017722,
     "end_time": "2020-09-02T18:49:54.758414",
     "exception": false,
     "start_time": "2020-09-02T18:49:54.740692",
     "status": "completed"
    },
    "tags": []
   },
   "source": [
    "<a id='#4.1'></a>\n",
    "<font color=\"darkslateblue\" size=3.5><b>3.1. The Class Variable; Status</b></font>"
   ]
  },
  {
   "cell_type": "code",
   "execution_count": 9,
   "metadata": {
    "execution": {
     "iopub.execute_input": "2020-09-02T18:49:54.802843Z",
     "iopub.status.busy": "2020-09-02T18:49:54.801121Z",
     "iopub.status.idle": "2020-09-02T18:49:54.968530Z",
     "shell.execute_reply": "2020-09-02T18:49:54.967850Z"
    },
    "papermill": {
     "duration": 0.192181,
     "end_time": "2020-09-02T18:49:54.968649",
     "exception": false,
     "start_time": "2020-09-02T18:49:54.776468",
     "status": "completed"
    },
    "tags": []
   },
   "outputs": [
    {
     "data": {
      "text/plain": [
       "<matplotlib.axes._subplots.AxesSubplot at 0x7f1fb6b4b090>"
      ]
     },
     "execution_count": 9,
     "metadata": {},
     "output_type": "execute_result"
    },
    {
     "data": {
      "image/png": "[encoded data removed]",
      "text/plain": [
       "<Figure size 432x288 with 1 Axes>"
      ]
     },
     "metadata": {
      "needs_background": "light"
     },
     "output_type": "display_data"
    }
   ],
   "source": [
    "sns.countplot('status', data=data)"
   ]
  },
  {
   "cell_type": "markdown",
   "execution_count": null,
   "metadata": {
    "papermill": {
     "duration": 0.017989,
     "end_time": "2020-09-02T18:49:55.004967",
     "exception": false,
     "start_time": "2020-09-02T18:49:54.986978",
     "status": "completed"
    },
    "tags": []
   },
   "source": [
    "<a id='#4.2'></a>\n",
    "<font color=\"darkslateblue\" size=3.5><b>3.2. Gender</b></font>\n",
    "\n",
    "Let's check whethere gender affect on placement.\n",
    "- Out of 215 candidates, 139 are male and 76 are female."
   ]
  },
  {
   "cell_type": "code",
   "execution_count": 10,
   "metadata": {
    "execution": {
     "iopub.execute_input": "2020-09-02T18:49:55.052909Z",
     "iopub.status.busy": "2020-09-02T18:49:55.051822Z",
     "iopub.status.idle": "2020-09-02T18:49:55.056597Z",
     "shell.execute_reply": "2020-09-02T18:49:55.056035Z"
    },
    "papermill": {
     "duration": 0.031449,
     "end_time": "2020-09-02T18:49:55.056709",
     "exception": false,
     "start_time": "2020-09-02T18:49:55.025260",
     "status": "completed"
    },
    "tags": []
   },
   "outputs": [
    {
     "data": {
      "text/plain": [
       "M    139\n",
       "F     76\n",
       "Name: gender, dtype: int64"
      ]
     },
     "execution_count": 10,
     "metadata": {},
     "output_type": "execute_result"
    }
   ],
   "source": [
    "data['gender'].value_counts()"
   ]
  },
  {
   "cell_type": "code",
   "execution_count": 11,
   "metadata": {
    "execution": {
     "iopub.execute_input": "2020-09-02T18:49:55.107982Z",
     "iopub.status.busy": "2020-09-02T18:49:55.104848Z",
     "iopub.status.idle": "2020-09-02T18:49:55.113254Z",
     "shell.execute_reply": "2020-09-02T18:49:55.112691Z"
    },
    "papermill": {
     "duration": 0.037742,
     "end_time": "2020-09-02T18:49:55.113370",
     "exception": false,
     "start_time": "2020-09-02T18:49:55.075628",
     "status": "completed"
    },
    "tags": []
   },
   "outputs": [
    {
     "data": {
      "text/html": [
       "<div>\n",
       "<style scoped>\n",
       "    .dataframe tbody tr th:only-of-type {\n",
       "        vertical-align: middle;\n",
       "    }\n",
       "\n",
       "    .dataframe tbody tr th {\n",
       "        vertical-align: top;\n",
       "    }\n",
       "\n",
       "    .dataframe thead th {\n",
       "        text-align: right;\n",
       "    }\n",
       "</style>\n",
       "<table border=\"1\" class=\"dataframe\">\n",
       "  <thead>\n",
       "    <tr style=\"text-align: right;\">\n",
       "      <th></th>\n",
       "      <th></th>\n",
       "      <th>status</th>\n",
       "    </tr>\n",
       "    <tr>\n",
       "      <th>gender</th>\n",
       "      <th>status</th>\n",
       "      <th></th>\n",
       "    </tr>\n",
       "  </thead>\n",
       "  <tbody>\n",
       "    <tr>\n",
       "      <th rowspan=\"2\" valign=\"top\">F</th>\n",
       "      <th>Not Placed</th>\n",
       "      <td>28</td>\n",
       "    </tr>\n",
       "    <tr>\n",
       "      <th>Placed</th>\n",
       "      <td>48</td>\n",
       "    </tr>\n",
       "    <tr>\n",
       "      <th rowspan=\"2\" valign=\"top\">M</th>\n",
       "      <th>Not Placed</th>\n",
       "      <td>39</td>\n",
       "    </tr>\n",
       "    <tr>\n",
       "      <th>Placed</th>\n",
       "      <td>100</td>\n",
       "    </tr>\n",
       "  </tbody>\n",
       "</table>\n",
       "</div>"
      ],
      "text/plain": [
       "                   status\n",
       "gender status            \n",
       "F      Not Placed      28\n",
       "       Placed          48\n",
       "M      Not Placed      39\n",
       "       Placed         100"
      ]
     },
     "execution_count": 11,
     "metadata": {},
     "output_type": "execute_result"
    }
   ],
   "source": [
    "df = pd.DataFrame(data.groupby(['gender','status'])['status'].count())\n",
    "df"
   ]
  },
  {
   "cell_type": "code",
   "execution_count": 12,
   "metadata": {
    "execution": {
     "iopub.execute_input": "2020-09-02T18:49:55.157737Z",
     "iopub.status.busy": "2020-09-02T18:49:55.157044Z",
     "iopub.status.idle": "2020-09-02T18:49:55.283114Z",
     "shell.execute_reply": "2020-09-02T18:49:55.282417Z"
    },
    "papermill": {
     "duration": 0.15122,
     "end_time": "2020-09-02T18:49:55.283234",
     "exception": false,
     "start_time": "2020-09-02T18:49:55.132014",
     "status": "completed"
    },
    "tags": []
   },
   "outputs": [
    {
     "data": {
      "text/plain": [
       "<matplotlib.axes._subplots.AxesSubplot at 0x7f1fb4a76b50>"
      ]
     },
     "execution_count": 12,
     "metadata": {},
     "output_type": "execute_result"
    },
    {
     "data": {
      "image/png": "[encoded data removed]",
      "text/plain": [
       "<Figure size 432x288 with 1 Axes>"
      ]
     },
     "metadata": {
      "needs_background": "light"
     },
     "output_type": "display_data"
    }
   ],
   "source": [
    "sns.countplot(x='gender', hue='status', data=data)"
   ]
  },
  {
   "cell_type": "markdown",
   "execution_count": null,
   "metadata": {
    "papermill": {
     "duration": 0.018405,
     "end_time": "2020-09-02T18:49:55.321094",
     "exception": false,
     "start_time": "2020-09-02T18:49:55.302689",
     "status": "completed"
    },
    "tags": []
   },
   "source": [
    "Male have high chances of getting placed compared to females."
   ]
  },
  {
   "cell_type": "markdown",
   "execution_count": null,
   "metadata": {
    "papermill": {
     "duration": 0.018212,
     "end_time": "2020-09-02T18:49:55.405906",
     "exception": false,
     "start_time": "2020-09-02T18:49:55.387694",
     "status": "completed"
    },
    "tags": []
   },
   "source": [
    "<a id='#4.3'></a>\n",
    "<font color=\"darkslateblue\" size=3.5><b>3.3. SSC Percentage</b></font>"
   ]
  },
  {
   "cell_type": "code",
   "execution_count": 13,
   "metadata": {
    "execution": {
     "iopub.execute_input": "2020-09-02T18:49:55.454454Z",
     "iopub.status.busy": "2020-09-02T18:49:55.453727Z",
     "iopub.status.idle": "2020-09-02T18:49:55.689667Z",
     "shell.execute_reply": "2020-09-02T18:49:55.690149Z"
    },
    "papermill": {
     "duration": 0.265813,
     "end_time": "2020-09-02T18:49:55.690373",
     "exception": false,
     "start_time": "2020-09-02T18:49:55.424560",
     "status": "completed"
    },
    "tags": []
   },
   "outputs": [
    {
     "data": {
      "text/plain": [
       "Text(0.5, 0, 'SSC %')"
      ]
     },
     "execution_count": 13,
     "metadata": {},
     "output_type": "execute_result"
    },
    {
     "data": {
      "image/png": "[encoded data removed]",
      "text/plain": [
       "<Figure size 432x288 with 1 Axes>"
      ]
     },
     "metadata": {
      "needs_background": "light"
     },
     "output_type": "display_data"
    }
   ],
   "source": [
    "sns.distplot(data['ssc_p'], kde=False)\n",
    "plt.title('Distribution of SSC Percentage')\n",
    "plt.xlabel('SSC %')"
   ]
  },
  {
   "cell_type": "code",
   "execution_count": 14,
   "metadata": {
    "execution": {
     "iopub.execute_input": "2020-09-02T18:49:55.750977Z",
     "iopub.status.busy": "2020-09-02T18:49:55.749989Z",
     "iopub.status.idle": "2020-09-02T18:49:55.939142Z",
     "shell.execute_reply": "2020-09-02T18:49:55.938297Z"
    },
    "papermill": {
     "duration": 0.224817,
     "end_time": "2020-09-02T18:49:55.939267",
     "exception": false,
     "start_time": "2020-09-02T18:49:55.714450",
     "status": "completed"
    },
    "tags": []
   },
   "outputs": [
    {
     "data": {
      "text/plain": [
       "Text(10.049999999999997, 0.5, 'SSC %')"
      ]
     },
     "execution_count": 14,
     "metadata": {},
     "output_type": "execute_result"
    },
    {
     "data": {
      "image/png": "[encoded data removed]",
      "text/plain": [
       "<Figure size 360x360 with 1 Axes>"
      ]
     },
     "metadata": {
      "needs_background": "light"
     },
     "output_type": "display_data"
    }
   ],
   "source": [
    "sns.catplot(y='ssc_p', x='status', data=data)\n",
    "plt.xlabel('Employment Status')\n",
    "plt.ylabel('SSC %')"
   ]
  },
  {
   "cell_type": "markdown",
   "execution_count": null,
   "metadata": {
    "papermill": {
     "duration": 0.019508,
     "end_time": "2020-09-02T18:49:55.979043",
     "exception": false,
     "start_time": "2020-09-02T18:49:55.959535",
     "status": "completed"
    },
    "tags": []
   },
   "source": [
    "Students who are place have higer percentage in SSC."
   ]
  },
  {
   "cell_type": "markdown",
   "execution_count": null,
   "metadata": {
    "papermill": {
     "duration": 0.020627,
     "end_time": "2020-09-02T18:49:56.019780",
     "exception": false,
     "start_time": "2020-09-02T18:49:55.999153",
     "status": "completed"
    },
    "tags": []
   },
   "source": [
    "<a id='#4.4'></a>\n",
    "<font color=\"darkslateblue\" size=3.5><b>3.4. SSC Board</b></font>"
   ]
  },
  {
   "cell_type": "code",
   "execution_count": 15,
   "metadata": {
    "execution": {
     "iopub.execute_input": "2020-09-02T18:49:56.069318Z",
     "iopub.status.busy": "2020-09-02T18:49:56.068478Z",
     "iopub.status.idle": "2020-09-02T18:49:56.073037Z",
     "shell.execute_reply": "2020-09-02T18:49:56.072415Z"
    },
    "papermill": {
     "duration": 0.032168,
     "end_time": "2020-09-02T18:49:56.073154",
     "exception": false,
     "start_time": "2020-09-02T18:49:56.040986",
     "status": "completed"
    },
    "tags": []
   },
   "outputs": [
    {
     "data": {
      "text/plain": [
       "Central    116\n",
       "Others      99\n",
       "Name: ssc_b, dtype: int64"
      ]
     },
     "execution_count": 15,
     "metadata": {},
     "output_type": "execute_result"
    }
   ],
   "source": [
    "data['ssc_b'].value_counts()"
   ]
  },
  {
   "cell_type": "code",
   "execution_count": 16,
   "metadata": {
    "execution": {
     "iopub.execute_input": "2020-09-02T18:49:56.126287Z",
     "iopub.status.busy": "2020-09-02T18:49:56.125280Z",
     "iopub.status.idle": "2020-09-02T18:49:56.129837Z",
     "shell.execute_reply": "2020-09-02T18:49:56.129148Z"
    },
    "papermill": {
     "duration": 0.036525,
     "end_time": "2020-09-02T18:49:56.129979",
     "exception": false,
     "start_time": "2020-09-02T18:49:56.093454",
     "status": "completed"
    },
    "tags": []
   },
   "outputs": [
    {
     "data": {
      "text/html": [
       "<div>\n",
       "<style scoped>\n",
       "    .dataframe tbody tr th:only-of-type {\n",
       "        vertical-align: middle;\n",
       "    }\n",
       "\n",
       "    .dataframe tbody tr th {\n",
       "        vertical-align: top;\n",
       "    }\n",
       "\n",
       "    .dataframe thead th {\n",
       "        text-align: right;\n",
       "    }\n",
       "</style>\n",
       "<table border=\"1\" class=\"dataframe\">\n",
       "  <thead>\n",
       "    <tr style=\"text-align: right;\">\n",
       "      <th></th>\n",
       "      <th></th>\n",
       "      <th>status</th>\n",
       "    </tr>\n",
       "    <tr>\n",
       "      <th>ssc_b</th>\n",
       "      <th>status</th>\n",
       "      <th></th>\n",
       "    </tr>\n",
       "  </thead>\n",
       "  <tbody>\n",
       "    <tr>\n",
       "      <th rowspan=\"2\" valign=\"top\">Central</th>\n",
       "      <th>Not Placed</th>\n",
       "      <td>38</td>\n",
       "    </tr>\n",
       "    <tr>\n",
       "      <th>Placed</th>\n",
       "      <td>78</td>\n",
       "    </tr>\n",
       "    <tr>\n",
       "      <th rowspan=\"2\" valign=\"top\">Others</th>\n",
       "      <th>Not Placed</th>\n",
       "      <td>29</td>\n",
       "    </tr>\n",
       "    <tr>\n",
       "      <th>Placed</th>\n",
       "      <td>70</td>\n",
       "    </tr>\n",
       "  </tbody>\n",
       "</table>\n",
       "</div>"
      ],
      "text/plain": [
       "                    status\n",
       "ssc_b   status            \n",
       "Central Not Placed      38\n",
       "        Placed          78\n",
       "Others  Not Placed      29\n",
       "        Placed          70"
      ]
     },
     "execution_count": 16,
     "metadata": {},
     "output_type": "execute_result"
    }
   ],
   "source": [
    "df = pd.DataFrame(data.groupby(['ssc_b','status'])['status'].count())\n",
    "df"
   ]
  },
  {
   "cell_type": "code",
   "execution_count": 17,
   "metadata": {
    "execution": {
     "iopub.execute_input": "2020-09-02T18:49:56.176600Z",
     "iopub.status.busy": "2020-09-02T18:49:56.175847Z",
     "iopub.status.idle": "2020-09-02T18:49:56.320221Z",
     "shell.execute_reply": "2020-09-02T18:49:56.319546Z"
    },
    "papermill": {
     "duration": 0.169984,
     "end_time": "2020-09-02T18:49:56.320341",
     "exception": false,
     "start_time": "2020-09-02T18:49:56.150357",
     "status": "completed"
    },
    "tags": []
   },
   "outputs": [
    {
     "data": {
      "text/plain": [
       "<matplotlib.axes._subplots.AxesSubplot at 0x7f1fb488b310>"
      ]
     },
     "execution_count": 17,
     "metadata": {},
     "output_type": "execute_result"
    },
    {
     "data": {
      "image/png": "[encoded data removed]",
      "text/plain": [
       "<Figure size 432x288 with 1 Axes>"
      ]
     },
     "metadata": {
      "needs_background": "light"
     },
     "output_type": "display_data"
    }
   ],
   "source": [
    "sns.countplot(x='ssc_b', hue='status', data=data)"
   ]
  },
  {
   "cell_type": "markdown",
   "execution_count": null,
   "metadata": {
    "papermill": {
     "duration": 0.019892,
     "end_time": "2020-09-02T18:49:56.361101",
     "exception": false,
     "start_time": "2020-09-02T18:49:56.341209",
     "status": "completed"
    },
    "tags": []
   },
   "source": [
    "From the above analysis I can say that, SSC board is not important to recruiters when it come to hiring candidates.\n",
    "So I am not going to use this feature while training model."
   ]
  },
  {
   "cell_type": "markdown",
   "execution_count": null,
   "metadata": {
    "papermill": {
     "duration": 0.020347,
     "end_time": "2020-09-02T18:49:56.401900",
     "exception": false,
     "start_time": "2020-09-02T18:49:56.381553",
     "status": "completed"
    },
    "tags": []
   },
   "source": [
    "<a id='#4.5'></a>\n",
    "<font color=\"darkslateblue\" size=3.5><b>3.5. HSC Percentage </b></font>"
   ]
  },
  {
   "cell_type": "code",
   "execution_count": 18,
   "metadata": {
    "execution": {
     "iopub.execute_input": "2020-09-02T18:49:56.454235Z",
     "iopub.status.busy": "2020-09-02T18:49:56.453245Z",
     "iopub.status.idle": "2020-09-02T18:49:56.621587Z",
     "shell.execute_reply": "2020-09-02T18:49:56.622101Z"
    },
    "papermill": {
     "duration": 0.199788,
     "end_time": "2020-09-02T18:49:56.622257",
     "exception": false,
     "start_time": "2020-09-02T18:49:56.422469",
     "status": "completed"
    },
    "tags": []
   },
   "outputs": [
    {
     "data": {
      "text/plain": [
       "Text(0.5, 0, 'HSC %')"
      ]
     },
     "execution_count": 18,
     "metadata": {},
     "output_type": "execute_result"
    },
    {
     "data": {
      "image/png": "[encoded data removed]",
      "text/plain": [
       "<Figure size 432x288 with 1 Axes>"
      ]
     },
     "metadata": {
      "needs_background": "light"
     },
     "output_type": "display_data"
    }
   ],
   "source": [
    "sns.distplot(data['hsc_p'], kde=False)\n",
    "plt.title('Distribution of SSC Percentage')\n",
    "plt.xlabel('HSC %')"
   ]
  },
  {
   "cell_type": "code",
   "execution_count": 19,
   "metadata": {
    "execution": {
     "iopub.execute_input": "2020-09-02T18:49:56.672091Z",
     "iopub.status.busy": "2020-09-02T18:49:56.670997Z",
     "iopub.status.idle": "2020-09-02T18:49:56.845789Z",
     "shell.execute_reply": "2020-09-02T18:49:56.844987Z"
    },
    "papermill": {
     "duration": 0.20211,
     "end_time": "2020-09-02T18:49:56.845912",
     "exception": false,
     "start_time": "2020-09-02T18:49:56.643802",
     "status": "completed"
    },
    "tags": []
   },
   "outputs": [
    {
     "data": {
      "text/plain": [
       "Text(3.674999999999997, 0.5, 'HSC %')"
      ]
     },
     "execution_count": 19,
     "metadata": {},
     "output_type": "execute_result"
    },
    {
     "data": {
      "image/png": "[encoded data removed]",
      "text/plain": [
       "<Figure size 360x360 with 1 Axes>"
      ]
     },
     "metadata": {
      "needs_background": "light"
     },
     "output_type": "display_data"
    }
   ],
   "source": [
    "sns.catplot(y='hsc_p', x='status', data=data)\n",
    "plt.xlabel('Employment Status')\n",
    "plt.ylabel('HSC %')"
   ]
  },
  {
   "cell_type": "markdown",
   "execution_count": null,
   "metadata": {
    "papermill": {
     "duration": 0.021516,
     "end_time": "2020-09-02T18:49:56.888894",
     "exception": false,
     "start_time": "2020-09-02T18:49:56.867378",
     "status": "completed"
    },
    "tags": []
   },
   "source": [
    "HSC percentage are important features. As all placed students have higher percentages."
   ]
  },
  {
   "cell_type": "markdown",
   "execution_count": null,
   "metadata": {
    "papermill": {
     "duration": 0.021181,
     "end_time": "2020-09-02T18:49:56.932393",
     "exception": false,
     "start_time": "2020-09-02T18:49:56.911212",
     "status": "completed"
    },
    "tags": []
   },
   "source": [
    "<a id='#4.6'></a>\n",
    "<font color=\"darkslateblue\" size=3.5><b>3.6. HSC Board</b></font>"
   ]
  },
  {
   "cell_type": "code",
   "execution_count": 20,
   "metadata": {
    "execution": {
     "iopub.execute_input": "2020-09-02T18:49:56.983740Z",
     "iopub.status.busy": "2020-09-02T18:49:56.982857Z",
     "iopub.status.idle": "2020-09-02T18:49:56.986834Z",
     "shell.execute_reply": "2020-09-02T18:49:56.986285Z"
    },
    "papermill": {
     "duration": 0.033101,
     "end_time": "2020-09-02T18:49:56.986976",
     "exception": false,
     "start_time": "2020-09-02T18:49:56.953875",
     "status": "completed"
    },
    "tags": []
   },
   "outputs": [
    {
     "data": {
      "text/plain": [
       "Others     131\n",
       "Central     84\n",
       "Name: hsc_b, dtype: int64"
      ]
     },
     "execution_count": 20,
     "metadata": {},
     "output_type": "execute_result"
    }
   ],
   "source": [
    "data['hsc_b'].value_counts()"
   ]
  },
  {
   "cell_type": "code",
   "execution_count": 21,
   "metadata": {
    "execution": {
     "iopub.execute_input": "2020-09-02T18:49:57.039002Z",
     "iopub.status.busy": "2020-09-02T18:49:57.038301Z",
     "iopub.status.idle": "2020-09-02T18:49:57.049050Z",
     "shell.execute_reply": "2020-09-02T18:49:57.048380Z"
    },
    "papermill": {
     "duration": 0.038754,
     "end_time": "2020-09-02T18:49:57.049184",
     "exception": false,
     "start_time": "2020-09-02T18:49:57.010430",
     "status": "completed"
    },
    "tags": []
   },
   "outputs": [
    {
     "data": {
      "text/html": [
       "<div>\n",
       "<style scoped>\n",
       "    .dataframe tbody tr th:only-of-type {\n",
       "        vertical-align: middle;\n",
       "    }\n",
       "\n",
       "    .dataframe tbody tr th {\n",
       "        vertical-align: top;\n",
       "    }\n",
       "\n",
       "    .dataframe thead th {\n",
       "        text-align: right;\n",
       "    }\n",
       "</style>\n",
       "<table border=\"1\" class=\"dataframe\">\n",
       "  <thead>\n",
       "    <tr style=\"text-align: right;\">\n",
       "      <th></th>\n",
       "      <th></th>\n",
       "      <th>status</th>\n",
       "    </tr>\n",
       "    <tr>\n",
       "      <th>hsc_b</th>\n",
       "      <th>status</th>\n",
       "      <th></th>\n",
       "    </tr>\n",
       "  </thead>\n",
       "  <tbody>\n",
       "    <tr>\n",
       "      <th rowspan=\"2\" valign=\"top\">Central</th>\n",
       "      <th>Not Placed</th>\n",
       "      <td>27</td>\n",
       "    </tr>\n",
       "    <tr>\n",
       "      <th>Placed</th>\n",
       "      <td>57</td>\n",
       "    </tr>\n",
       "    <tr>\n",
       "      <th rowspan=\"2\" valign=\"top\">Others</th>\n",
       "      <th>Not Placed</th>\n",
       "      <td>40</td>\n",
       "    </tr>\n",
       "    <tr>\n",
       "      <th>Placed</th>\n",
       "      <td>91</td>\n",
       "    </tr>\n",
       "  </tbody>\n",
       "</table>\n",
       "</div>"
      ],
      "text/plain": [
       "                    status\n",
       "hsc_b   status            \n",
       "Central Not Placed      27\n",
       "        Placed          57\n",
       "Others  Not Placed      40\n",
       "        Placed          91"
      ]
     },
     "execution_count": 21,
     "metadata": {},
     "output_type": "execute_result"
    }
   ],
   "source": [
    "df = pd.DataFrame(data.groupby(['hsc_b','status'])['status'].count())\n",
    "df"
   ]
  },
  {
   "cell_type": "code",
   "execution_count": 22,
   "metadata": {
    "execution": {
     "iopub.execute_input": "2020-09-02T18:49:57.100365Z",
     "iopub.status.busy": "2020-09-02T18:49:57.099641Z",
     "iopub.status.idle": "2020-09-02T18:49:57.226065Z",
     "shell.execute_reply": "2020-09-02T18:49:57.225428Z"
    },
    "papermill": {
     "duration": 0.154927,
     "end_time": "2020-09-02T18:49:57.226184",
     "exception": false,
     "start_time": "2020-09-02T18:49:57.071257",
     "status": "completed"
    },
    "tags": []
   },
   "outputs": [
    {
     "data": {
      "text/plain": [
       "<matplotlib.axes._subplots.AxesSubplot at 0x7f1fb470dd10>"
      ]
     },
     "execution_count": 22,
     "metadata": {},
     "output_type": "execute_result"
    },
    {
     "data": {
      "image/png": "[encoded data removed]",
      "text/plain": [
       "<Figure size 432x288 with 1 Axes>"
      ]
     },
     "metadata": {
      "needs_background": "light"
     },
     "output_type": "display_data"
    }
   ],
   "source": [
    "sns.countplot(x='hsc_b', hue='status', data=data)"
   ]
  },
  {
   "cell_type": "markdown",
   "execution_count": null,
   "metadata": {
    "papermill": {
     "duration": 0.020957,
     "end_time": "2020-09-02T18:49:57.268657",
     "exception": false,
     "start_time": "2020-09-02T18:49:57.247700",
     "status": "completed"
    },
    "tags": []
   },
   "source": [
    "From the above analysis I can say that, SSC board is not important to recruiters when it come to hiring candidates.\n",
    "So I am not going to use this feature while training model."
   ]
  },
  {
   "cell_type": "markdown",
   "execution_count": null,
   "metadata": {
    "papermill": {
     "duration": 0.020827,
     "end_time": "2020-09-02T18:49:57.310726",
     "exception": false,
     "start_time": "2020-09-02T18:49:57.289899",
     "status": "completed"
    },
    "tags": []
   },
   "source": [
    "<a id='#4.7'></a>\n",
    "<font color=\"darkslateblue\" size=3.5><b>3.7. HSC Specialisation</b></font>"
   ]
  },
  {
   "cell_type": "code",
   "execution_count": 23,
   "metadata": {
    "execution": {
     "iopub.execute_input": "2020-09-02T18:49:57.361062Z",
     "iopub.status.busy": "2020-09-02T18:49:57.360240Z",
     "iopub.status.idle": "2020-09-02T18:49:57.364639Z",
     "shell.execute_reply": "2020-09-02T18:49:57.364129Z"
    },
    "papermill": {
     "duration": 0.032858,
     "end_time": "2020-09-02T18:49:57.364756",
     "exception": false,
     "start_time": "2020-09-02T18:49:57.331898",
     "status": "completed"
    },
    "tags": []
   },
   "outputs": [
    {
     "data": {
      "text/plain": [
       "Commerce    113\n",
       "Science      91\n",
       "Arts         11\n",
       "Name: hsc_s, dtype: int64"
      ]
     },
     "execution_count": 23,
     "metadata": {},
     "output_type": "execute_result"
    }
   ],
   "source": [
    "data['hsc_s'].value_counts()"
   ]
  },
  {
   "cell_type": "code",
   "execution_count": 24,
   "metadata": {
    "execution": {
     "iopub.execute_input": "2020-09-02T18:49:57.422482Z",
     "iopub.status.busy": "2020-09-02T18:49:57.421615Z",
     "iopub.status.idle": "2020-09-02T18:49:57.425379Z",
     "shell.execute_reply": "2020-09-02T18:49:57.424806Z"
    },
    "papermill": {
     "duration": 0.038409,
     "end_time": "2020-09-02T18:49:57.425514",
     "exception": false,
     "start_time": "2020-09-02T18:49:57.387105",
     "status": "completed"
    },
    "tags": []
   },
   "outputs": [
    {
     "data": {
      "text/html": [
       "<div>\n",
       "<style scoped>\n",
       "    .dataframe tbody tr th:only-of-type {\n",
       "        vertical-align: middle;\n",
       "    }\n",
       "\n",
       "    .dataframe tbody tr th {\n",
       "        vertical-align: top;\n",
       "    }\n",
       "\n",
       "    .dataframe thead th {\n",
       "        text-align: right;\n",
       "    }\n",
       "</style>\n",
       "<table border=\"1\" class=\"dataframe\">\n",
       "  <thead>\n",
       "    <tr style=\"text-align: right;\">\n",
       "      <th></th>\n",
       "      <th></th>\n",
       "      <th>status</th>\n",
       "    </tr>\n",
       "    <tr>\n",
       "      <th>hsc_s</th>\n",
       "      <th>status</th>\n",
       "      <th></th>\n",
       "    </tr>\n",
       "  </thead>\n",
       "  <tbody>\n",
       "    <tr>\n",
       "      <th rowspan=\"2\" valign=\"top\">Arts</th>\n",
       "      <th>Not Placed</th>\n",
       "      <td>5</td>\n",
       "    </tr>\n",
       "    <tr>\n",
       "      <th>Placed</th>\n",
       "      <td>6</td>\n",
       "    </tr>\n",
       "    <tr>\n",
       "      <th rowspan=\"2\" valign=\"top\">Commerce</th>\n",
       "      <th>Not Placed</th>\n",
       "      <td>34</td>\n",
       "    </tr>\n",
       "    <tr>\n",
       "      <th>Placed</th>\n",
       "      <td>79</td>\n",
       "    </tr>\n",
       "    <tr>\n",
       "      <th rowspan=\"2\" valign=\"top\">Science</th>\n",
       "      <th>Not Placed</th>\n",
       "      <td>28</td>\n",
       "    </tr>\n",
       "    <tr>\n",
       "      <th>Placed</th>\n",
       "      <td>63</td>\n",
       "    </tr>\n",
       "  </tbody>\n",
       "</table>\n",
       "</div>"
      ],
      "text/plain": [
       "                     status\n",
       "hsc_s    status            \n",
       "Arts     Not Placed       5\n",
       "         Placed           6\n",
       "Commerce Not Placed      34\n",
       "         Placed          79\n",
       "Science  Not Placed      28\n",
       "         Placed          63"
      ]
     },
     "execution_count": 24,
     "metadata": {},
     "output_type": "execute_result"
    }
   ],
   "source": [
    "df = pd.DataFrame(data.groupby(['hsc_s','status'])['status'].count())\n",
    "df"
   ]
  },
  {
   "cell_type": "code",
   "execution_count": 25,
   "metadata": {
    "execution": {
     "iopub.execute_input": "2020-09-02T18:49:57.478228Z",
     "iopub.status.busy": "2020-09-02T18:49:57.477372Z",
     "iopub.status.idle": "2020-09-02T18:49:57.625236Z",
     "shell.execute_reply": "2020-09-02T18:49:57.625774Z"
    },
    "papermill": {
     "duration": 0.177744,
     "end_time": "2020-09-02T18:49:57.625964",
     "exception": false,
     "start_time": "2020-09-02T18:49:57.448220",
     "status": "completed"
    },
    "tags": []
   },
   "outputs": [
    {
     "data": {
      "text/plain": [
       "<matplotlib.axes._subplots.AxesSubplot at 0x7f1fb46ee9d0>"
      ]
     },
     "execution_count": 25,
     "metadata": {},
     "output_type": "execute_result"
    },
    {
     "data": {
      "image/png": "[encoded data removed]",
      "text/plain": [
       "<Figure size 432x288 with 1 Axes>"
      ]
     },
     "metadata": {
      "needs_background": "light"
     },
     "output_type": "display_data"
    }
   ],
   "source": [
    "sns.countplot(x='hsc_s', hue='status', data=data)"
   ]
  },
  {
   "cell_type": "markdown",
   "execution_count": null,
   "metadata": {
    "papermill": {
     "duration": 0.033357,
     "end_time": "2020-09-02T18:49:57.682697",
     "exception": false,
     "start_time": "2020-09-02T18:49:57.649340",
     "status": "completed"
    },
    "tags": []
   },
   "source": [
    "<a id='#4.8'></a>\n",
    "<font color=\"darkslateblue\" size=3.5><b>3.8. Degree Percentage</b></font>"
   ]
  },
  {
   "cell_type": "code",
   "execution_count": 26,
   "metadata": {
    "execution": {
     "iopub.execute_input": "2020-09-02T18:49:57.734075Z",
     "iopub.status.busy": "2020-09-02T18:49:57.733320Z",
     "iopub.status.idle": "2020-09-02T18:49:57.892749Z",
     "shell.execute_reply": "2020-09-02T18:49:57.893317Z"
    },
    "papermill": {
     "duration": 0.187796,
     "end_time": "2020-09-02T18:49:57.893480",
     "exception": false,
     "start_time": "2020-09-02T18:49:57.705684",
     "status": "completed"
    },
    "tags": []
   },
   "outputs": [
    {
     "data": {
      "text/plain": [
       "Text(0.5, 0, 'Degree %')"
      ]
     },
     "execution_count": 26,
     "metadata": {},
     "output_type": "execute_result"
    },
    {
     "data": {
      "image/png": "[encoded data removed]",
      "text/plain": [
       "<Figure size 432x288 with 1 Axes>"
      ]
     },
     "metadata": {
      "needs_background": "light"
     },
     "output_type": "display_data"
    }
   ],
   "source": [
    "sns.distplot(data['degree_p'], kde=False)\n",
    "plt.title('Distribution of Degree Percentage')\n",
    "plt.xlabel('Degree %')"
   ]
  },
  {
   "cell_type": "code",
   "execution_count": 27,
   "metadata": {
    "execution": {
     "iopub.execute_input": "2020-09-02T18:49:57.952793Z",
     "iopub.status.busy": "2020-09-02T18:49:57.951771Z",
     "iopub.status.idle": "2020-09-02T18:49:58.105662Z",
     "shell.execute_reply": "2020-09-02T18:49:58.104983Z"
    },
    "papermill": {
     "duration": 0.188778,
     "end_time": "2020-09-02T18:49:58.105781",
     "exception": false,
     "start_time": "2020-09-02T18:49:57.917003",
     "status": "completed"
    },
    "tags": []
   },
   "outputs": [
    {
     "data": {
      "text/plain": [
       "Text(10.049999999999997, 0.5, 'Degree %')"
      ]
     },
     "execution_count": 27,
     "metadata": {},
     "output_type": "execute_result"
    },
    {
     "data": {
      "image/png": "[encoded data removed]",
      "text/plain": [
       "<Figure size 360x360 with 1 Axes>"
      ]
     },
     "metadata": {
      "needs_background": "light"
     },
     "output_type": "display_data"
    }
   ],
   "source": [
    "sns.catplot(y='degree_p', x='status', data=data)\n",
    "plt.xlabel('Employment Status')\n",
    "plt.ylabel('Degree %')"
   ]
  },
  {
   "cell_type": "markdown",
   "execution_count": null,
   "metadata": {
    "papermill": {
     "duration": 0.023131,
     "end_time": "2020-09-02T18:49:58.153140",
     "exception": false,
     "start_time": "2020-09-02T18:49:58.130009",
     "status": "completed"
    },
    "tags": []
   },
   "source": [
    "Like SSC and HSC percentages, Degree Percentages are also impotant factor to get placed."
   ]
  },
  {
   "cell_type": "markdown",
   "execution_count": null,
   "metadata": {
    "papermill": {
     "duration": 0.022642,
     "end_time": "2020-09-02T18:49:58.199002",
     "exception": false,
     "start_time": "2020-09-02T18:49:58.176360",
     "status": "completed"
    },
    "tags": []
   },
   "source": [
    "<a id='#4.9'></a>\n",
    "<font color=\"darkslateblue\" size=3.5><b>3.9. Degree Type</b></font>"
   ]
  },
  {
   "cell_type": "code",
   "execution_count": 28,
   "metadata": {
    "execution": {
     "iopub.execute_input": "2020-09-02T18:49:58.253579Z",
     "iopub.status.busy": "2020-09-02T18:49:58.252611Z",
     "iopub.status.idle": "2020-09-02T18:49:58.256669Z",
     "shell.execute_reply": "2020-09-02T18:49:58.256072Z"
    },
    "papermill": {
     "duration": 0.034191,
     "end_time": "2020-09-02T18:49:58.256785",
     "exception": false,
     "start_time": "2020-09-02T18:49:58.222594",
     "status": "completed"
    },
    "tags": []
   },
   "outputs": [
    {
     "data": {
      "text/plain": [
       "Comm&Mgmt    145\n",
       "Sci&Tech      59\n",
       "Others        11\n",
       "Name: degree_t, dtype: int64"
      ]
     },
     "execution_count": 28,
     "metadata": {},
     "output_type": "execute_result"
    }
   ],
   "source": [
    "data['degree_t'].value_counts()"
   ]
  },
  {
   "cell_type": "code",
   "execution_count": 29,
   "metadata": {
    "execution": {
     "iopub.execute_input": "2020-09-02T18:49:58.316750Z",
     "iopub.status.busy": "2020-09-02T18:49:58.310161Z",
     "iopub.status.idle": "2020-09-02T18:49:58.321141Z",
     "shell.execute_reply": "2020-09-02T18:49:58.320603Z"
    },
    "papermill": {
     "duration": 0.040807,
     "end_time": "2020-09-02T18:49:58.321264",
     "exception": false,
     "start_time": "2020-09-02T18:49:58.280457",
     "status": "completed"
    },
    "tags": []
   },
   "outputs": [
    {
     "data": {
      "text/html": [
       "<div>\n",
       "<style scoped>\n",
       "    .dataframe tbody tr th:only-of-type {\n",
       "        vertical-align: middle;\n",
       "    }\n",
       "\n",
       "    .dataframe tbody tr th {\n",
       "        vertical-align: top;\n",
       "    }\n",
       "\n",
       "    .dataframe thead th {\n",
       "        text-align: right;\n",
       "    }\n",
       "</style>\n",
       "<table border=\"1\" class=\"dataframe\">\n",
       "  <thead>\n",
       "    <tr style=\"text-align: right;\">\n",
       "      <th></th>\n",
       "      <th></th>\n",
       "      <th>status</th>\n",
       "    </tr>\n",
       "    <tr>\n",
       "      <th>degree_t</th>\n",
       "      <th>status</th>\n",
       "      <th></th>\n",
       "    </tr>\n",
       "  </thead>\n",
       "  <tbody>\n",
       "    <tr>\n",
       "      <th rowspan=\"2\" valign=\"top\">Comm&amp;Mgmt</th>\n",
       "      <th>Not Placed</th>\n",
       "      <td>43</td>\n",
       "    </tr>\n",
       "    <tr>\n",
       "      <th>Placed</th>\n",
       "      <td>102</td>\n",
       "    </tr>\n",
       "    <tr>\n",
       "      <th rowspan=\"2\" valign=\"top\">Others</th>\n",
       "      <th>Not Placed</th>\n",
       "      <td>6</td>\n",
       "    </tr>\n",
       "    <tr>\n",
       "      <th>Placed</th>\n",
       "      <td>5</td>\n",
       "    </tr>\n",
       "    <tr>\n",
       "      <th rowspan=\"2\" valign=\"top\">Sci&amp;Tech</th>\n",
       "      <th>Not Placed</th>\n",
       "      <td>18</td>\n",
       "    </tr>\n",
       "    <tr>\n",
       "      <th>Placed</th>\n",
       "      <td>41</td>\n",
       "    </tr>\n",
       "  </tbody>\n",
       "</table>\n",
       "</div>"
      ],
      "text/plain": [
       "                      status\n",
       "degree_t  status            \n",
       "Comm&Mgmt Not Placed      43\n",
       "          Placed         102\n",
       "Others    Not Placed       6\n",
       "          Placed           5\n",
       "Sci&Tech  Not Placed      18\n",
       "          Placed          41"
      ]
     },
     "execution_count": 29,
     "metadata": {},
     "output_type": "execute_result"
    }
   ],
   "source": [
    "df = pd.DataFrame(data.groupby(['degree_t','status'])['status'].count())\n",
    "df"
   ]
  },
  {
   "cell_type": "code",
   "execution_count": 30,
   "metadata": {
    "execution": {
     "iopub.execute_input": "2020-09-02T18:49:58.384844Z",
     "iopub.status.busy": "2020-09-02T18:49:58.380329Z",
     "iopub.status.idle": "2020-09-02T18:49:58.517995Z",
     "shell.execute_reply": "2020-09-02T18:49:58.517360Z"
    },
    "papermill": {
     "duration": 0.173432,
     "end_time": "2020-09-02T18:49:58.518114",
     "exception": false,
     "start_time": "2020-09-02T18:49:58.344682",
     "status": "completed"
    },
    "tags": []
   },
   "outputs": [
    {
     "data": {
      "text/plain": [
       "<matplotlib.axes._subplots.AxesSubplot at 0x7f1fb45546d0>"
      ]
     },
     "execution_count": 30,
     "metadata": {},
     "output_type": "execute_result"
    },
    {
     "data": {
      "image/png": "[encoded data removed]",
      "text/plain": [
       "<Figure size 432x288 with 1 Axes>"
      ]
     },
     "metadata": {
      "needs_background": "light"
     },
     "output_type": "display_data"
    }
   ],
   "source": [
    "sns.countplot(x='degree_t', hue='status', data=data)"
   ]
  },
  {
   "cell_type": "markdown",
   "execution_count": null,
   "metadata": {
    "papermill": {
     "duration": 0.024584,
     "end_time": "2020-09-02T18:49:58.567234",
     "exception": false,
     "start_time": "2020-09-02T18:49:58.542650",
     "status": "completed"
    },
    "tags": []
   },
   "source": [
    "<a id='#4.10'></a>\n",
    "<font color=\"darkslateblue\" size=3.5><b>3.10. Work Experience</b></font>"
   ]
  },
  {
   "cell_type": "code",
   "execution_count": 31,
   "metadata": {
    "execution": {
     "iopub.execute_input": "2020-09-02T18:49:58.623368Z",
     "iopub.status.busy": "2020-09-02T18:49:58.622655Z",
     "iopub.status.idle": "2020-09-02T18:49:58.628907Z",
     "shell.execute_reply": "2020-09-02T18:49:58.628317Z"
    },
    "papermill": {
     "duration": 0.037794,
     "end_time": "2020-09-02T18:49:58.629041",
     "exception": false,
     "start_time": "2020-09-02T18:49:58.591247",
     "status": "completed"
    },
    "tags": []
   },
   "outputs": [
    {
     "data": {
      "text/plain": [
       "No     141\n",
       "Yes     74\n",
       "Name: workex, dtype: int64"
      ]
     },
     "execution_count": 31,
     "metadata": {},
     "output_type": "execute_result"
    }
   ],
   "source": [
    "data['workex'].value_counts()"
   ]
  },
  {
   "cell_type": "code",
   "execution_count": 32,
   "metadata": {
    "execution": {
     "iopub.execute_input": "2020-09-02T18:49:58.689290Z",
     "iopub.status.busy": "2020-09-02T18:49:58.688447Z",
     "iopub.status.idle": "2020-09-02T18:49:58.692487Z",
     "shell.execute_reply": "2020-09-02T18:49:58.691993Z"
    },
    "papermill": {
     "duration": 0.039518,
     "end_time": "2020-09-02T18:49:58.692597",
     "exception": false,
     "start_time": "2020-09-02T18:49:58.653079",
     "status": "completed"
    },
    "tags": []
   },
   "outputs": [
    {
     "data": {
      "text/html": [
       "<div>\n",
       "<style scoped>\n",
       "    .dataframe tbody tr th:only-of-type {\n",
       "        vertical-align: middle;\n",
       "    }\n",
       "\n",
       "    .dataframe tbody tr th {\n",
       "        vertical-align: top;\n",
       "    }\n",
       "\n",
       "    .dataframe thead th {\n",
       "        text-align: right;\n",
       "    }\n",
       "</style>\n",
       "<table border=\"1\" class=\"dataframe\">\n",
       "  <thead>\n",
       "    <tr style=\"text-align: right;\">\n",
       "      <th></th>\n",
       "      <th></th>\n",
       "      <th>status</th>\n",
       "    </tr>\n",
       "    <tr>\n",
       "      <th>workex</th>\n",
       "      <th>status</th>\n",
       "      <th></th>\n",
       "    </tr>\n",
       "  </thead>\n",
       "  <tbody>\n",
       "    <tr>\n",
       "      <th rowspan=\"2\" valign=\"top\">No</th>\n",
       "      <th>Not Placed</th>\n",
       "      <td>57</td>\n",
       "    </tr>\n",
       "    <tr>\n",
       "      <th>Placed</th>\n",
       "      <td>84</td>\n",
       "    </tr>\n",
       "    <tr>\n",
       "      <th rowspan=\"2\" valign=\"top\">Yes</th>\n",
       "      <th>Not Placed</th>\n",
       "      <td>10</td>\n",
       "    </tr>\n",
       "    <tr>\n",
       "      <th>Placed</th>\n",
       "      <td>64</td>\n",
       "    </tr>\n",
       "  </tbody>\n",
       "</table>\n",
       "</div>"
      ],
      "text/plain": [
       "                   status\n",
       "workex status            \n",
       "No     Not Placed      57\n",
       "       Placed          84\n",
       "Yes    Not Placed      10\n",
       "       Placed          64"
      ]
     },
     "execution_count": 32,
     "metadata": {},
     "output_type": "execute_result"
    }
   ],
   "source": [
    "df = pd.DataFrame(data.groupby(['workex','status'])['status'].count())\n",
    "df"
   ]
  },
  {
   "cell_type": "code",
   "execution_count": 33,
   "metadata": {
    "execution": {
     "iopub.execute_input": "2020-09-02T18:49:58.747504Z",
     "iopub.status.busy": "2020-09-02T18:49:58.746686Z",
     "iopub.status.idle": "2020-09-02T18:49:58.885655Z",
     "shell.execute_reply": "2020-09-02T18:49:58.884908Z"
    },
    "papermill": {
     "duration": 0.169015,
     "end_time": "2020-09-02T18:49:58.885777",
     "exception": false,
     "start_time": "2020-09-02T18:49:58.716762",
     "status": "completed"
    },
    "tags": []
   },
   "outputs": [
    {
     "data": {
      "text/plain": [
       "<matplotlib.axes._subplots.AxesSubplot at 0x7f1fb44e2350>"
      ]
     },
     "execution_count": 33,
     "metadata": {},
     "output_type": "execute_result"
    },
    {
     "data": {
      "image/png": "[encoded data removed]",
      "text/plain": [
       "<Figure size 432x288 with 1 Axes>"
      ]
     },
     "metadata": {
      "needs_background": "light"
     },
     "output_type": "display_data"
    }
   ],
   "source": [
    "sns.countplot(x='workex', hue='status', data=data)"
   ]
  },
  {
   "cell_type": "markdown",
   "execution_count": null,
   "metadata": {
    "papermill": {
     "duration": 0.024968,
     "end_time": "2020-09-02T18:49:58.936747",
     "exception": false,
     "start_time": "2020-09-02T18:49:58.911779",
     "status": "completed"
    },
    "tags": []
   },
   "source": [
    "It is clear that candidate with work experience have higher chance of getting placed."
   ]
  },
  {
   "cell_type": "markdown",
   "execution_count": null,
   "metadata": {
    "papermill": {
     "duration": 0.024615,
     "end_time": "2020-09-02T18:49:58.986231",
     "exception": false,
     "start_time": "2020-09-02T18:49:58.961616",
     "status": "completed"
    },
    "tags": []
   },
   "source": [
    "<a id='#4.11'></a>\n",
    "<font color=\"darkslateblue\" size=3.5><b>3.11. Employment Test Percentage</b></font>"
   ]
  },
  {
   "cell_type": "code",
   "execution_count": 34,
   "metadata": {
    "execution": {
     "iopub.execute_input": "2020-09-02T18:49:59.046870Z",
     "iopub.status.busy": "2020-09-02T18:49:59.041588Z",
     "iopub.status.idle": "2020-09-02T18:49:59.193673Z",
     "shell.execute_reply": "2020-09-02T18:49:59.192983Z"
    },
    "papermill": {
     "duration": 0.182193,
     "end_time": "2020-09-02T18:49:59.193797",
     "exception": false,
     "start_time": "2020-09-02T18:49:59.011604",
     "status": "completed"
    },
    "tags": []
   },
   "outputs": [
    {
     "data": {
      "text/plain": [
       "Text(0.5, 0, 'Employment Test %')"
      ]
     },
     "execution_count": 34,
     "metadata": {},
     "output_type": "execute_result"
    },
    {
     "data": {
      "image/png": "[encoded data removed]",
      "text/plain": [
       "<Figure size 432x288 with 1 Axes>"
      ]
     },
     "metadata": {
      "needs_background": "light"
     },
     "output_type": "display_data"
    }
   ],
   "source": [
    "sns.distplot(data['etest_p'], kde=False)\n",
    "plt.title('Distribution of MBA Percentage')\n",
    "plt.xlabel('Employment Test %')"
   ]
  },
  {
   "cell_type": "code",
   "execution_count": 35,
   "metadata": {
    "execution": {
     "iopub.execute_input": "2020-09-02T18:49:59.257635Z",
     "iopub.status.busy": "2020-09-02T18:49:59.251743Z",
     "iopub.status.idle": "2020-09-02T18:49:59.408887Z",
     "shell.execute_reply": "2020-09-02T18:49:59.408266Z"
    },
    "papermill": {
     "duration": 0.1897,
     "end_time": "2020-09-02T18:49:59.409017",
     "exception": false,
     "start_time": "2020-09-02T18:49:59.219317",
     "status": "completed"
    },
    "tags": []
   },
   "outputs": [
    {
     "data": {
      "text/plain": [
       "Text(3.674999999999997, 0.5, 'Employment Test %')"
      ]
     },
     "execution_count": 35,
     "metadata": {},
     "output_type": "execute_result"
    },
    {
     "data": {
      "image/png": "[encoded data removed]",
      "text/plain": [
       "<Figure size 360x360 with 1 Axes>"
      ]
     },
     "metadata": {
      "needs_background": "light"
     },
     "output_type": "display_data"
    }
   ],
   "source": [
    "sns.catplot(y='etest_p', x='status', data=data)\n",
    "plt.xlabel('Employment Status')\n",
    "plt.ylabel('Employment Test %')"
   ]
  },
  {
   "cell_type": "markdown",
   "execution_count": null,
   "metadata": {
    "papermill": {
     "duration": 0.025719,
     "end_time": "2020-09-02T18:49:59.459964",
     "exception": false,
     "start_time": "2020-09-02T18:49:59.434245",
     "status": "completed"
    },
    "tags": []
   },
   "source": [
    "<a id='#4.12'></a>\n",
    "<font color=\"darkslateblue\" size=3.5><b>3.12. MBA Specialization</b></font>"
   ]
  },
  {
   "cell_type": "code",
   "execution_count": 36,
   "metadata": {
    "execution": {
     "iopub.execute_input": "2020-09-02T18:49:59.520554Z",
     "iopub.status.busy": "2020-09-02T18:49:59.519852Z",
     "iopub.status.idle": "2020-09-02T18:49:59.524819Z",
     "shell.execute_reply": "2020-09-02T18:49:59.524203Z"
    },
    "papermill": {
     "duration": 0.037683,
     "end_time": "2020-09-02T18:49:59.524929",
     "exception": false,
     "start_time": "2020-09-02T18:49:59.487246",
     "status": "completed"
    },
    "tags": []
   },
   "outputs": [
    {
     "data": {
      "text/plain": [
       "Mkt&Fin    120\n",
       "Mkt&HR      95\n",
       "Name: specialisation, dtype: int64"
      ]
     },
     "execution_count": 36,
     "metadata": {},
     "output_type": "execute_result"
    }
   ],
   "source": [
    "data['specialisation'].value_counts()"
   ]
  },
  {
   "cell_type": "code",
   "execution_count": 37,
   "metadata": {
    "execution": {
     "iopub.execute_input": "2020-09-02T18:49:59.589634Z",
     "iopub.status.busy": "2020-09-02T18:49:59.588791Z",
     "iopub.status.idle": "2020-09-02T18:49:59.592886Z",
     "shell.execute_reply": "2020-09-02T18:49:59.593454Z"
    },
    "papermill": {
     "duration": 0.042354,
     "end_time": "2020-09-02T18:49:59.593620",
     "exception": false,
     "start_time": "2020-09-02T18:49:59.551266",
     "status": "completed"
    },
    "tags": []
   },
   "outputs": [
    {
     "data": {
      "text/html": [
       "<div>\n",
       "<style scoped>\n",
       "    .dataframe tbody tr th:only-of-type {\n",
       "        vertical-align: middle;\n",
       "    }\n",
       "\n",
       "    .dataframe tbody tr th {\n",
       "        vertical-align: top;\n",
       "    }\n",
       "\n",
       "    .dataframe thead th {\n",
       "        text-align: right;\n",
       "    }\n",
       "</style>\n",
       "<table border=\"1\" class=\"dataframe\">\n",
       "  <thead>\n",
       "    <tr style=\"text-align: right;\">\n",
       "      <th></th>\n",
       "      <th></th>\n",
       "      <th>status</th>\n",
       "    </tr>\n",
       "    <tr>\n",
       "      <th>specialisation</th>\n",
       "      <th>status</th>\n",
       "      <th></th>\n",
       "    </tr>\n",
       "  </thead>\n",
       "  <tbody>\n",
       "    <tr>\n",
       "      <th rowspan=\"2\" valign=\"top\">Mkt&amp;Fin</th>\n",
       "      <th>Not Placed</th>\n",
       "      <td>25</td>\n",
       "    </tr>\n",
       "    <tr>\n",
       "      <th>Placed</th>\n",
       "      <td>95</td>\n",
       "    </tr>\n",
       "    <tr>\n",
       "      <th rowspan=\"2\" valign=\"top\">Mkt&amp;HR</th>\n",
       "      <th>Not Placed</th>\n",
       "      <td>42</td>\n",
       "    </tr>\n",
       "    <tr>\n",
       "      <th>Placed</th>\n",
       "      <td>53</td>\n",
       "    </tr>\n",
       "  </tbody>\n",
       "</table>\n",
       "</div>"
      ],
      "text/plain": [
       "                           status\n",
       "specialisation status            \n",
       "Mkt&Fin        Not Placed      25\n",
       "               Placed          95\n",
       "Mkt&HR         Not Placed      42\n",
       "               Placed          53"
      ]
     },
     "execution_count": 37,
     "metadata": {},
     "output_type": "execute_result"
    }
   ],
   "source": [
    "df = pd.DataFrame(data.groupby(['specialisation','status'])['status'].count())\n",
    "df"
   ]
  },
  {
   "cell_type": "code",
   "execution_count": 38,
   "metadata": {
    "execution": {
     "iopub.execute_input": "2020-09-02T18:49:59.666194Z",
     "iopub.status.busy": "2020-09-02T18:49:59.655421Z",
     "iopub.status.idle": "2020-09-02T18:49:59.784867Z",
     "shell.execute_reply": "2020-09-02T18:49:59.784220Z"
    },
    "papermill": {
     "duration": 0.166101,
     "end_time": "2020-09-02T18:49:59.785021",
     "exception": false,
     "start_time": "2020-09-02T18:49:59.618920",
     "status": "completed"
    },
    "tags": []
   },
   "outputs": [
    {
     "data": {
      "text/plain": [
       "Text(0.5, 0, 'MBA Specialization')"
      ]
     },
     "execution_count": 38,
     "metadata": {},
     "output_type": "execute_result"
    },
    {
     "data": {
      "image/png": "[encoded data removed]",
      "text/plain": [
       "<Figure size 432x288 with 1 Axes>"
      ]
     },
     "metadata": {
      "needs_background": "light"
     },
     "output_type": "display_data"
    }
   ],
   "source": [
    "sns.countplot(x='specialisation', hue='status', data=data)\n",
    "plt.xlabel('MBA Specialization')"
   ]
  },
  {
   "cell_type": "markdown",
   "execution_count": null,
   "metadata": {
    "papermill": {
     "duration": 0.025485,
     "end_time": "2020-09-02T18:49:59.836566",
     "exception": false,
     "start_time": "2020-09-02T18:49:59.811081",
     "status": "completed"
    },
    "tags": []
   },
   "source": [
    "<a id='#4.13'></a>\n",
    "<font color=\"darkslateblue\" size=3.5><b>3.13. MBA Percentage</b></font>"
   ]
  },
  {
   "cell_type": "code",
   "execution_count": 39,
   "metadata": {
    "execution": {
     "iopub.execute_input": "2020-09-02T18:49:59.899892Z",
     "iopub.status.busy": "2020-09-02T18:49:59.893362Z",
     "iopub.status.idle": "2020-09-02T18:50:00.061718Z",
     "shell.execute_reply": "2020-09-02T18:50:00.061019Z"
    },
    "papermill": {
     "duration": 0.199967,
     "end_time": "2020-09-02T18:50:00.061848",
     "exception": false,
     "start_time": "2020-09-02T18:49:59.861881",
     "status": "completed"
    },
    "tags": []
   },
   "outputs": [
    {
     "data": {
      "text/plain": [
       "Text(0.5, 0, 'MBA %')"
      ]
     },
     "execution_count": 39,
     "metadata": {},
     "output_type": "execute_result"
    },
    {
     "data": {
      "image/png": "[encoded data removed]",
      "text/plain": [
       "<Figure size 432x288 with 1 Axes>"
      ]
     },
     "metadata": {
      "needs_background": "light"
     },
     "output_type": "display_data"
    }
   ],
   "source": [
    "sns.distplot(data['mba_p'], kde=False)\n",
    "plt.title('Distribution of MBA Percentage')\n",
    "plt.xlabel('MBA %')"
   ]
  },
  {
   "cell_type": "code",
   "execution_count": 40,
   "metadata": {
    "execution": {
     "iopub.execute_input": "2020-09-02T18:50:00.127138Z",
     "iopub.status.busy": "2020-09-02T18:50:00.122081Z",
     "iopub.status.idle": "2020-09-02T18:50:00.278393Z",
     "shell.execute_reply": "2020-09-02T18:50:00.277802Z"
    },
    "papermill": {
     "duration": 0.19009,
     "end_time": "2020-09-02T18:50:00.278512",
     "exception": false,
     "start_time": "2020-09-02T18:50:00.088422",
     "status": "completed"
    },
    "tags": []
   },
   "outputs": [
    {
     "data": {
      "text/plain": [
       "Text(10.049999999999997, 0.5, 'MBA %')"
      ]
     },
     "execution_count": 40,
     "metadata": {},
     "output_type": "execute_result"
    },
    {
     "data": {
      "image/png": "[encoded data removed]",
      "text/plain": [
       "<Figure size 360x360 with 1 Axes>"
      ]
     },
     "metadata": {
      "needs_background": "light"
     },
     "output_type": "display_data"
    }
   ],
   "source": [
    "sns.catplot(y='mba_p', x='status', data=data)\n",
    "plt.xlabel('Employment Status')\n",
    "plt.ylabel('MBA %')"
   ]
  },
  {
   "cell_type": "markdown",
   "execution_count": null,
   "metadata": {
    "papermill": {
     "duration": 0.026518,
     "end_time": "2020-09-02T18:50:00.331863",
     "exception": false,
     "start_time": "2020-09-02T18:50:00.305345",
     "status": "completed"
    },
    "tags": []
   },
   "source": [
    "<a id='#4.14'></a>\n",
    "<font color=\"darkslateblue\" size=3.5><b>3.14. Most Important Factor; Salary</b></font>"
   ]
  },
  {
   "cell_type": "code",
   "execution_count": 41,
   "metadata": {
    "execution": {
     "iopub.execute_input": "2020-09-02T18:50:00.397162Z",
     "iopub.status.busy": "2020-09-02T18:50:00.396389Z",
     "iopub.status.idle": "2020-09-02T18:50:00.598817Z",
     "shell.execute_reply": "2020-09-02T18:50:00.598125Z"
    },
    "papermill": {
     "duration": 0.239854,
     "end_time": "2020-09-02T18:50:00.598937",
     "exception": false,
     "start_time": "2020-09-02T18:50:00.359083",
     "status": "completed"
    },
    "tags": []
   },
   "outputs": [
    {
     "data": {
      "text/plain": [
       "Text(0.5, 0, 'Salary')"
      ]
     },
     "execution_count": 41,
     "metadata": {},
     "output_type": "execute_result"
    },
    {
     "data": {
      "image/png": "[encoded data removed]",
      "text/plain": [
       "<Figure size 432x288 with 1 Axes>"
      ]
     },
     "metadata": {
      "needs_background": "light"
     },
     "output_type": "display_data"
    }
   ],
   "source": [
    "sns.distplot(data['salary'], kde=False)\n",
    "plt.title('Distribution of Salary')\n",
    "plt.xlabel('Salary')"
   ]
  },
  {
   "cell_type": "code",
   "execution_count": 42,
   "metadata": {
    "execution": {
     "iopub.execute_input": "2020-09-02T18:50:00.661530Z",
     "iopub.status.busy": "2020-09-02T18:50:00.660467Z",
     "iopub.status.idle": "2020-09-02T18:50:00.936995Z",
     "shell.execute_reply": "2020-09-02T18:50:00.937608Z"
    },
    "papermill": {
     "duration": 0.31094,
     "end_time": "2020-09-02T18:50:00.937764",
     "exception": false,
     "start_time": "2020-09-02T18:50:00.626824",
     "status": "completed"
    },
    "tags": []
   },
   "outputs": [
    {
     "data": {
      "text/plain": [
       "Text(-15.450000000000003, 0.5, 'Salary')"
      ]
     },
     "execution_count": 42,
     "metadata": {},
     "output_type": "execute_result"
    },
    {
     "data": {
      "image/png": "[encoded data removed]",
      "text/plain": [
       "<Figure size 360x360 with 1 Axes>"
      ]
     },
     "metadata": {
      "needs_background": "light"
     },
     "output_type": "display_data"
    }
   ],
   "source": [
    "sns.catplot(y='salary', x='status', data=data)\n",
    "plt.xlabel('Employment Status')\n",
    "plt.ylabel('Salary')"
   ]
  },
  {
   "cell_type": "markdown",
   "execution_count": null,
   "metadata": {
    "papermill": {
     "duration": 0.032378,
     "end_time": "2020-09-02T18:50:00.998475",
     "exception": false,
     "start_time": "2020-09-02T18:50:00.966097",
     "status": "completed"
    },
    "tags": []
   },
   "source": [
    "It is obvious, we dont have salary details of Un-Placed candidate. Salary feature alone is enough to classify the placement status of candidate (if salary > 0 then placed else not placed). However, if we want to use only salary feature then we dont need machine learning for that, by looking only we can do that. So I am going to drop this column while performing classification model training."
   ]
  },
  {
   "cell_type": "markdown",
   "execution_count": null,
   "metadata": {
    "papermill": {
     "duration": 0.030981,
     "end_time": "2020-09-02T18:50:01.060070",
     "exception": false,
     "start_time": "2020-09-02T18:50:01.029089",
     "status": "completed"
    },
    "tags": []
   },
   "source": [
    "<a id='#4.15'></a>\n",
    "<font color=\"darkslateblue\" size=3.5><b>3.15. Correlation between features</b></font>"
   ]
  },
  {
   "cell_type": "code",
   "execution_count": 43,
   "metadata": {
    "execution": {
     "iopub.execute_input": "2020-09-02T18:50:01.127658Z",
     "iopub.status.busy": "2020-09-02T18:50:01.126581Z",
     "iopub.status.idle": "2020-09-02T18:50:13.629240Z",
     "shell.execute_reply": "2020-09-02T18:50:13.629767Z"
    },
    "papermill": {
     "duration": 12.540103,
     "end_time": "2020-09-02T18:50:13.629914",
     "exception": false,
     "start_time": "2020-09-02T18:50:01.089811",
     "status": "completed"
    },
    "tags": []
   },
   "outputs": [
    {
     "data": {
      "text/plain": [
       "<seaborn.axisgrid.PairGrid at 0x7f1fb478ba10>"
      ]
     },
     "execution_count": 43,
     "metadata": {},
     "output_type": "execute_result"
    },
    {
     "data": {
      "image/png": "[encoded data removed]",
      "text/plain": [
       "<Figure size 1169.5x1080 with 42 Axes>"
      ]
     },
     "metadata": {
      "needs_background": "light"
     },
     "output_type": "display_data"
    }
   ],
   "source": [
    "sns.pairplot(data=data[['ssc_p','hsc_p','degree_p', 'etest_p','mba_p','salary', 'status']], hue=\"status\", diag_kind='hist')"
   ]
  },
  {
   "cell_type": "markdown",
   "execution_count": null,
   "metadata": {
    "papermill": {
     "duration": 0.029321,
     "end_time": "2020-09-02T18:50:13.689070",
     "exception": false,
     "start_time": "2020-09-02T18:50:13.659749",
     "status": "completed"
    },
    "tags": []
   },
   "source": [
    "<a id='#5'></a>\n",
    "<font color=\"darkslateblue\" size=+2.5><b>4. Feature mapping and generation</b></font>\n",
    "\n",
    "<a href=\"#top\" class=\"btn btn-primary btn-sm\" role=\"button\" aria-pressed=\"true\" style=\"color:white\" data-toggle=\"popover\">Go to TOC</a>"
   ]
  },
  {
   "cell_type": "markdown",
   "execution_count": null,
   "metadata": {
    "papermill": {
     "duration": 0.02961,
     "end_time": "2020-09-02T18:50:13.747918",
     "exception": false,
     "start_time": "2020-09-02T18:50:13.718308",
     "status": "completed"
    },
    "tags": []
   },
   "source": [
    "Let's drop all unwanted columns as menstioned in above section.\n",
    "- SSC Board\n",
    "- HSC Board\n",
    "- HSC Specialisation\n",
    "- Degree Type\n",
    "- Salart"
   ]
  },
  {
   "cell_type": "code",
   "execution_count": 44,
   "metadata": {
    "execution": {
     "iopub.execute_input": "2020-09-02T18:50:13.815470Z",
     "iopub.status.busy": "2020-09-02T18:50:13.814747Z",
     "iopub.status.idle": "2020-09-02T18:50:13.818408Z",
     "shell.execute_reply": "2020-09-02T18:50:13.817763Z"
    },
    "papermill": {
     "duration": 0.040795,
     "end_time": "2020-09-02T18:50:13.818522",
     "exception": false,
     "start_time": "2020-09-02T18:50:13.777727",
     "status": "completed"
    },
    "tags": []
   },
   "outputs": [],
   "source": [
    "data.drop(['ssc_b','hsc_b', 'hsc_s', 'degree_t', 'salary'], axis=1, inplace=True)"
   ]
  },
  {
   "cell_type": "markdown",
   "execution_count": null,
   "metadata": {
    "papermill": {
     "duration": 0.029316,
     "end_time": "2020-09-02T18:50:13.878896",
     "exception": false,
     "start_time": "2020-09-02T18:50:13.849580",
     "status": "completed"
    },
    "tags": []
   },
   "source": [
    "Let's map categorical feature to numeric one.\n",
    "Categorical features:\n",
    "- Gender : Gender feature have male and female values. I am going to map 0 for male and 1 for female.\n",
    "- Work Experience : Work Experience feature have Yes and No values. I am going to map 0 for No and 1 for Yes.\n",
    "- Status : Status feature have Not Placed and Placed values. Again for this features I am mapping 0 for not placed and 1 for placed values.\n",
    "- Specialisation : Specialisation feature have two values Mkt&HR and Mkt&Fin. I am going to map 0 to Mkt&HR and 1 to Mkt&Fin."
   ]
  },
  {
   "cell_type": "code",
   "execution_count": 45,
   "metadata": {
    "execution": {
     "iopub.execute_input": "2020-09-02T18:50:13.951493Z",
     "iopub.status.busy": "2020-09-02T18:50:13.950519Z",
     "iopub.status.idle": "2020-09-02T18:50:13.953614Z",
     "shell.execute_reply": "2020-09-02T18:50:13.953114Z"
    },
    "papermill": {
     "duration": 0.045106,
     "end_time": "2020-09-02T18:50:13.953731",
     "exception": false,
     "start_time": "2020-09-02T18:50:13.908625",
     "status": "completed"
    },
    "tags": []
   },
   "outputs": [],
   "source": [
    "data[\"gender\"] = data.gender.map({\"M\":0,\"F\":1})\n",
    "data[\"workex\"] = data.workex.map({\"No\":0, \"Yes\":1})\n",
    "data[\"status\"] = data.status.map({\"Not Placed\":0, \"Placed\":1})\n",
    "data[\"specialisation\"] = data.specialisation.map({\"Mkt&HR\":0, \"Mkt&Fin\":1})"
   ]
  },
  {
   "cell_type": "code",
   "execution_count": 46,
   "metadata": {
    "execution": {
     "iopub.execute_input": "2020-09-02T18:50:14.024040Z",
     "iopub.status.busy": "2020-09-02T18:50:14.022222Z",
     "iopub.status.idle": "2020-09-02T18:50:14.029535Z",
     "shell.execute_reply": "2020-09-02T18:50:14.030112Z"
    },
    "papermill": {
     "duration": 0.046644,
     "end_time": "2020-09-02T18:50:14.030287",
     "exception": false,
     "start_time": "2020-09-02T18:50:13.983643",
     "status": "completed"
    },
    "tags": []
   },
   "outputs": [
    {
     "data": {
      "text/plain": [
       "Index(['gender', 'ssc_p', 'hsc_p', 'degree_p', 'workex', 'etest_p',\n",
       "       'specialisation', 'mba_p', 'status'],\n",
       "      dtype='object')"
      ]
     },
     "execution_count": 46,
     "metadata": {},
     "output_type": "execute_result"
    }
   ],
   "source": [
    "data.columns"
   ]
  },
  {
   "cell_type": "code",
   "execution_count": 47,
   "metadata": {
    "execution": {
     "iopub.execute_input": "2020-09-02T18:50:14.110086Z",
     "iopub.status.busy": "2020-09-02T18:50:14.109175Z",
     "iopub.status.idle": "2020-09-02T18:50:14.115114Z",
     "shell.execute_reply": "2020-09-02T18:50:14.114461Z"
    },
    "papermill": {
     "duration": 0.052524,
     "end_time": "2020-09-02T18:50:14.115237",
     "exception": false,
     "start_time": "2020-09-02T18:50:14.062713",
     "status": "completed"
    },
    "tags": []
   },
   "outputs": [
    {
     "data": {
      "text/html": [
       "<div>\n",
       "<style scoped>\n",
       "    .dataframe tbody tr th:only-of-type {\n",
       "        vertical-align: middle;\n",
       "    }\n",
       "\n",
       "    .dataframe tbody tr th {\n",
       "        vertical-align: top;\n",
       "    }\n",
       "\n",
       "    .dataframe thead th {\n",
       "        text-align: right;\n",
       "    }\n",
       "</style>\n",
       "<table border=\"1\" class=\"dataframe\">\n",
       "  <thead>\n",
       "    <tr style=\"text-align: right;\">\n",
       "      <th></th>\n",
       "      <th>gender</th>\n",
       "      <th>ssc_p</th>\n",
       "      <th>hsc_p</th>\n",
       "      <th>degree_p</th>\n",
       "      <th>workex</th>\n",
       "      <th>etest_p</th>\n",
       "      <th>specialisation</th>\n",
       "      <th>mba_p</th>\n",
       "      <th>status</th>\n",
       "    </tr>\n",
       "  </thead>\n",
       "  <tbody>\n",
       "    <tr>\n",
       "      <th>0</th>\n",
       "      <td>0</td>\n",
       "      <td>67.00</td>\n",
       "      <td>91.00</td>\n",
       "      <td>58.00</td>\n",
       "      <td>0</td>\n",
       "      <td>55.0</td>\n",
       "      <td>0</td>\n",
       "      <td>58.80</td>\n",
       "      <td>1</td>\n",
       "    </tr>\n",
       "    <tr>\n",
       "      <th>1</th>\n",
       "      <td>0</td>\n",
       "      <td>79.33</td>\n",
       "      <td>78.33</td>\n",
       "      <td>77.48</td>\n",
       "      <td>1</td>\n",
       "      <td>86.5</td>\n",
       "      <td>1</td>\n",
       "      <td>66.28</td>\n",
       "      <td>1</td>\n",
       "    </tr>\n",
       "    <tr>\n",
       "      <th>2</th>\n",
       "      <td>0</td>\n",
       "      <td>65.00</td>\n",
       "      <td>68.00</td>\n",
       "      <td>64.00</td>\n",
       "      <td>0</td>\n",
       "      <td>75.0</td>\n",
       "      <td>1</td>\n",
       "      <td>57.80</td>\n",
       "      <td>1</td>\n",
       "    </tr>\n",
       "    <tr>\n",
       "      <th>3</th>\n",
       "      <td>0</td>\n",
       "      <td>56.00</td>\n",
       "      <td>52.00</td>\n",
       "      <td>52.00</td>\n",
       "      <td>0</td>\n",
       "      <td>66.0</td>\n",
       "      <td>0</td>\n",
       "      <td>59.43</td>\n",
       "      <td>0</td>\n",
       "    </tr>\n",
       "    <tr>\n",
       "      <th>4</th>\n",
       "      <td>0</td>\n",
       "      <td>85.80</td>\n",
       "      <td>73.60</td>\n",
       "      <td>73.30</td>\n",
       "      <td>0</td>\n",
       "      <td>96.8</td>\n",
       "      <td>1</td>\n",
       "      <td>55.50</td>\n",
       "      <td>1</td>\n",
       "    </tr>\n",
       "  </tbody>\n",
       "</table>\n",
       "</div>"
      ],
      "text/plain": [
       "   gender  ssc_p  hsc_p  degree_p  workex  etest_p  specialisation  mba_p  \\\n",
       "0       0  67.00  91.00     58.00       0     55.0               0  58.80   \n",
       "1       0  79.33  78.33     77.48       1     86.5               1  66.28   \n",
       "2       0  65.00  68.00     64.00       0     75.0               1  57.80   \n",
       "3       0  56.00  52.00     52.00       0     66.0               0  59.43   \n",
       "4       0  85.80  73.60     73.30       0     96.8               1  55.50   \n",
       "\n",
       "   status  \n",
       "0       1  \n",
       "1       1  \n",
       "2       1  \n",
       "3       0  \n",
       "4       1  "
      ]
     },
     "execution_count": 47,
     "metadata": {},
     "output_type": "execute_result"
    }
   ],
   "source": [
    "data.head()"
   ]
  },
  {
   "cell_type": "markdown",
   "execution_count": null,
   "metadata": {
    "papermill": {
     "duration": 0.029746,
     "end_time": "2020-09-02T18:50:14.174980",
     "exception": false,
     "start_time": "2020-09-02T18:50:14.145234",
     "status": "completed"
    },
    "tags": []
   },
   "source": [
    "<a id='#5.1'></a>\n",
    "<font color=\"darkslateblue\" size=3.5><b>4.1. Additional feature generation</b></font>"
   ]
  },
  {
   "cell_type": "code",
   "execution_count": 48,
   "metadata": {
    "execution": {
     "iopub.execute_input": "2020-09-02T18:50:14.245692Z",
     "iopub.status.busy": "2020-09-02T18:50:14.244699Z",
     "iopub.status.idle": "2020-09-02T18:50:14.248423Z",
     "shell.execute_reply": "2020-09-02T18:50:14.247720Z"
    },
    "papermill": {
     "duration": 0.04361,
     "end_time": "2020-09-02T18:50:14.248542",
     "exception": false,
     "start_time": "2020-09-02T18:50:14.204932",
     "status": "completed"
    },
    "tags": []
   },
   "outputs": [],
   "source": [
    "def new_features(df):\n",
    "    df['hsc_to_ssc'] = df['hsc_p'] / df['ssc_p']\n",
    "    df['degree_to_hsc'] = df['degree_p'] / df['hsc_p']\n",
    "    df['degree_to_ssc'] = df['degree_p'] / df['ssc_p']\n",
    "    df['mba_to_degree'] = df['mba_p'] / df['degree_p']\n",
    "    df['mba_to_etest'] = df['mba_p'] / df['etest_p']\n",
    "        \n",
    "    return df"
   ]
  },
  {
   "cell_type": "code",
   "execution_count": 49,
   "metadata": {
    "execution": {
     "iopub.execute_input": "2020-09-02T18:50:14.322336Z",
     "iopub.status.busy": "2020-09-02T18:50:14.321593Z",
     "iopub.status.idle": "2020-09-02T18:50:14.324860Z",
     "shell.execute_reply": "2020-09-02T18:50:14.323998Z"
    },
    "papermill": {
     "duration": 0.043552,
     "end_time": "2020-09-02T18:50:14.325182",
     "exception": false,
     "start_time": "2020-09-02T18:50:14.281630",
     "status": "completed"
    },
    "tags": []
   },
   "outputs": [],
   "source": [
    "data = new_features(data)"
   ]
  },
  {
   "cell_type": "markdown",
   "execution_count": null,
   "metadata": {
    "papermill": {
     "duration": 0.032674,
     "end_time": "2020-09-02T18:50:14.388202",
     "exception": false,
     "start_time": "2020-09-02T18:50:14.355528",
     "status": "completed"
    },
    "tags": []
   },
   "source": [
    "<a id='#6'></a>\n",
    "<font color=\"darkslateblue\" size=+2.5><b>5. Model Prediction</b></font>\n",
    "\n",
    "<a href=\"#top\" class=\"btn btn-primary btn-sm\" role=\"button\" aria-pressed=\"true\" style=\"color:white\" data-toggle=\"popover\">Go to TOC</a>"
   ]
  },
  {
   "cell_type": "markdown",
   "execution_count": null,
   "metadata": {
    "papermill": {
     "duration": 0.032645,
     "end_time": "2020-09-02T18:50:14.453800",
     "exception": false,
     "start_time": "2020-09-02T18:50:14.421155",
     "status": "completed"
    },
    "tags": []
   },
   "source": [
    "Now our data is ready to prepare model to predict solution. There is plenty of predictive algorithm out there to try. In this project, I am going to use classification and regression algorithms."
   ]
  },
  {
   "cell_type": "markdown",
   "execution_count": null,
   "metadata": {
    "papermill": {
     "duration": 0.031052,
     "end_time": "2020-09-02T18:50:14.516384",
     "exception": false,
     "start_time": "2020-09-02T18:50:14.485332",
     "status": "completed"
    },
    "tags": []
   },
   "source": [
    "<a id='#6.1'></a>\n",
    "<font color=\"darkslateblue\" size=3.5><b>5.1. Train and Test Split</b></font>"
   ]
  },
  {
   "cell_type": "code",
   "execution_count": 50,
   "metadata": {
    "execution": {
     "iopub.execute_input": "2020-09-02T18:50:14.590132Z",
     "iopub.status.busy": "2020-09-02T18:50:14.589079Z",
     "iopub.status.idle": "2020-09-02T18:50:14.592781Z",
     "shell.execute_reply": "2020-09-02T18:50:14.592287Z"
    },
    "papermill": {
     "duration": 0.044968,
     "end_time": "2020-09-02T18:50:14.592996",
     "exception": false,
     "start_time": "2020-09-02T18:50:14.548028",
     "status": "completed"
    },
    "tags": []
   },
   "outputs": [],
   "source": [
    "# Seperating Features and Target\n",
    "X = data.copy().drop('status', axis=1)\n",
    "y = data['status']"
   ]
  },
  {
   "cell_type": "code",
   "execution_count": 51,
   "metadata": {
    "execution": {
     "iopub.execute_input": "2020-09-02T18:50:14.665499Z",
     "iopub.status.busy": "2020-09-02T18:50:14.664693Z",
     "iopub.status.idle": "2020-09-02T18:50:14.668782Z",
     "shell.execute_reply": "2020-09-02T18:50:14.668082Z"
    },
    "papermill": {
     "duration": 0.044428,
     "end_time": "2020-09-02T18:50:14.668967",
     "exception": false,
     "start_time": "2020-09-02T18:50:14.624539",
     "status": "completed"
    },
    "tags": []
   },
   "outputs": [],
   "source": [
    "# scale each features\n",
    "X_scaled = preprocessing.scale(X)"
   ]
  },
  {
   "cell_type": "code",
   "execution_count": 52,
   "metadata": {
    "execution": {
     "iopub.execute_input": "2020-09-02T18:50:14.739621Z",
     "iopub.status.busy": "2020-09-02T18:50:14.738848Z",
     "iopub.status.idle": "2020-09-02T18:50:14.743569Z",
     "shell.execute_reply": "2020-09-02T18:50:14.742868Z"
    },
    "papermill": {
     "duration": 0.043511,
     "end_time": "2020-09-02T18:50:14.743694",
     "exception": false,
     "start_time": "2020-09-02T18:50:14.700183",
     "status": "completed"
    },
    "tags": []
   },
   "outputs": [
    {
     "data": {
      "text/plain": [
       "((150, 13), (150,), (65, 13))"
      ]
     },
     "execution_count": 52,
     "metadata": {},
     "output_type": "execute_result"
    }
   ],
   "source": [
    "#Train Test Split\n",
    "X_train, X_test, Y_train, Y_test = train_test_split(X_scaled, y, test_size=0.3)\n",
    "X_train.shape, Y_train.shape, X_test.shape"
   ]
  },
  {
   "cell_type": "markdown",
   "execution_count": null,
   "metadata": {
    "papermill": {
     "duration": 0.030395,
     "end_time": "2020-09-02T18:50:14.805871",
     "exception": false,
     "start_time": "2020-09-02T18:50:14.775476",
     "status": "completed"
    },
    "tags": []
   },
   "source": [
    "<a id='#6.2'></a>\n",
    "<font color=\"darkslateblue\" size=3.5><b>5.2. KNN Classification</b></font>"
   ]
  },
  {
   "cell_type": "code",
   "execution_count": 53,
   "metadata": {
    "execution": {
     "iopub.execute_input": "2020-09-02T18:50:14.879156Z",
     "iopub.status.busy": "2020-09-02T18:50:14.878160Z",
     "iopub.status.idle": "2020-09-02T18:50:14.891871Z",
     "shell.execute_reply": "2020-09-02T18:50:14.891374Z"
    },
    "papermill": {
     "duration": 0.054847,
     "end_time": "2020-09-02T18:50:14.892019",
     "exception": false,
     "start_time": "2020-09-02T18:50:14.837172",
     "status": "completed"
    },
    "tags": []
   },
   "outputs": [
    {
     "data": {
      "text/plain": [
       "0.8769230769230769"
      ]
     },
     "execution_count": 53,
     "metadata": {},
     "output_type": "execute_result"
    }
   ],
   "source": [
    "# k-nearest neighbor\n",
    "knn = KNeighborsClassifier(n_neighbors = 3)\n",
    "knn.fit(X_train, Y_train)\n",
    "knn_Y_pred = knn.predict(X_test)\n",
    "knn_accuracy = knn.score(X_test, Y_test)\n",
    "knn_accuracy"
   ]
  },
  {
   "cell_type": "code",
   "execution_count": 54,
   "metadata": {
    "execution": {
     "iopub.execute_input": "2020-09-02T18:50:14.964088Z",
     "iopub.status.busy": "2020-09-02T18:50:14.963354Z",
     "iopub.status.idle": "2020-09-02T18:50:15.170493Z",
     "shell.execute_reply": "2020-09-02T18:50:15.169795Z"
    },
    "papermill": {
     "duration": 0.247514,
     "end_time": "2020-09-02T18:50:15.170611",
     "exception": false,
     "start_time": "2020-09-02T18:50:14.923097",
     "status": "completed"
    },
    "tags": []
   },
   "outputs": [
    {
     "data": {
      "image/png": "[encoded data removed]",
      "text/plain": [
       "<Figure size 720x504 with 2 Axes>"
      ]
     },
     "metadata": {
      "needs_background": "light"
     },
     "output_type": "display_data"
    }
   ],
   "source": [
    "# creating confusion matrix heatmap\n",
    "\n",
    "conf_mat = confusion_matrix(Y_test, knn_Y_pred)\n",
    "fig = plt.figure(figsize=(10,7))\n",
    "group_names = ['True Neg','False Pos','False Neg','True Pos']\n",
    "group_counts = [\"{0:0.0f}\".format(value) for value in\n",
    "                conf_mat.flatten()]\n",
    "labels = [f\"{v1}\\n{v2}\" for v1, v2 in zip(group_names,group_counts)]\n",
    "labels = np.asarray(labels).reshape(2,2)\n",
    "sns.heatmap(conf_mat, annot=labels, annot_kws={\"size\": 16}, fmt='')\n",
    "plt.title(\"Confusion Matrix\")\n",
    "plt.xlabel(\"Predicted Label\")\n",
    "plt.ylabel(\"True Label\")\n",
    "plt.show()"
   ]
  },
  {
   "cell_type": "code",
   "execution_count": 55,
   "metadata": {
    "execution": {
     "iopub.execute_input": "2020-09-02T18:50:15.240699Z",
     "iopub.status.busy": "2020-09-02T18:50:15.239325Z",
     "iopub.status.idle": "2020-09-02T18:50:15.250071Z",
     "shell.execute_reply": "2020-09-02T18:50:15.249517Z"
    },
    "papermill": {
     "duration": 0.04831,
     "end_time": "2020-09-02T18:50:15.250194",
     "exception": false,
     "start_time": "2020-09-02T18:50:15.201884",
     "status": "completed"
    },
    "tags": []
   },
   "outputs": [
    {
     "name": "stdout",
     "output_type": "stream",
     "text": [
      "              precision    recall  f1-score   support\n",
      "\n",
      "           0       0.75      0.83      0.79        18\n",
      "           1       0.93      0.89      0.91        47\n",
      "\n",
      "    accuracy                           0.88        65\n",
      "   macro avg       0.84      0.86      0.85        65\n",
      "weighted avg       0.88      0.88      0.88        65\n",
      "\n"
     ]
    }
   ],
   "source": [
    "# getting precision, recall and f1-score via classification report\n",
    "\n",
    "print(classification_report(Y_test, knn_Y_pred))"
   ]
  },
  {
   "cell_type": "markdown",
   "execution_count": null,
   "metadata": {
    "papermill": {
     "duration": 0.030781,
     "end_time": "2020-09-02T18:50:15.312422",
     "exception": false,
     "start_time": "2020-09-02T18:50:15.281641",
     "status": "completed"
    },
    "tags": []
   },
   "source": [
    "<a id='#6.3'></a>\n",
    "<font color=\"darkslateblue\" size=3.5><b>5.3. Decision Tree Classification</b></font>"
   ]
  },
  {
   "cell_type": "code",
   "execution_count": 56,
   "metadata": {
    "execution": {
     "iopub.execute_input": "2020-09-02T18:50:15.385160Z",
     "iopub.status.busy": "2020-09-02T18:50:15.383982Z",
     "iopub.status.idle": "2020-09-02T18:50:15.392275Z",
     "shell.execute_reply": "2020-09-02T18:50:15.391635Z"
    },
    "papermill": {
     "duration": 0.048114,
     "end_time": "2020-09-02T18:50:15.392391",
     "exception": false,
     "start_time": "2020-09-02T18:50:15.344277",
     "status": "completed"
    },
    "tags": []
   },
   "outputs": [
    {
     "data": {
      "text/plain": [
       "0.8615384615384616"
      ]
     },
     "execution_count": 56,
     "metadata": {},
     "output_type": "execute_result"
    }
   ],
   "source": [
    "# Decision Tree\n",
    "\n",
    "decision_tree = DecisionTreeClassifier()\n",
    "decision_tree.fit(X_train, Y_train)\n",
    "decision_tree_Y_pred = decision_tree.predict(X_test)\n",
    "decision_tree_accuracy = decision_tree.score(X_test, Y_test)\n",
    "decision_tree_accuracy"
   ]
  },
  {
   "cell_type": "code",
   "execution_count": 57,
   "metadata": {
    "execution": {
     "iopub.execute_input": "2020-09-02T18:50:15.484401Z",
     "iopub.status.busy": "2020-09-02T18:50:15.463788Z",
     "iopub.status.idle": "2020-09-02T18:50:15.660049Z",
     "shell.execute_reply": "2020-09-02T18:50:15.659358Z"
    },
    "papermill": {
     "duration": 0.236935,
     "end_time": "2020-09-02T18:50:15.660186",
     "exception": false,
     "start_time": "2020-09-02T18:50:15.423251",
     "status": "completed"
    },
    "tags": []
   },
   "outputs": [
    {
     "data": {
      "image/png": "[encoded data removed]",
      "text/plain": [
       "<Figure size 720x504 with 2 Axes>"
      ]
     },
     "metadata": {
      "needs_background": "light"
     },
     "output_type": "display_data"
    }
   ],
   "source": [
    "# creating confusion matrix heatmap\n",
    "\n",
    "conf_mat = confusion_matrix(Y_test, decision_tree_Y_pred)\n",
    "fig = plt.figure(figsize=(10,7))\n",
    "group_names = ['True Neg','False Pos','False Neg','True Pos']\n",
    "group_counts = [\"{0:0.0f}\".format(value) for value in\n",
    "                conf_mat.flatten()]\n",
    "labels = [f\"{v1}\\n{v2}\" for v1, v2 in zip(group_names,group_counts)]\n",
    "labels = np.asarray(labels).reshape(2,2)\n",
    "sns.heatmap(conf_mat, annot=labels, annot_kws={\"size\": 16}, fmt='')\n",
    "plt.title(\"Confusion Matrix\")\n",
    "plt.xlabel(\"Predicted Label\")\n",
    "plt.ylabel(\"True Label\")\n",
    "plt.show()"
   ]
  },
  {
   "cell_type": "code",
   "execution_count": 58,
   "metadata": {
    "execution": {
     "iopub.execute_input": "2020-09-02T18:50:15.742842Z",
     "iopub.status.busy": "2020-09-02T18:50:15.741673Z",
     "iopub.status.idle": "2020-09-02T18:50:15.752332Z",
     "shell.execute_reply": "2020-09-02T18:50:15.751372Z"
    },
    "papermill": {
     "duration": 0.050319,
     "end_time": "2020-09-02T18:50:15.752493",
     "exception": false,
     "start_time": "2020-09-02T18:50:15.702174",
     "status": "completed"
    },
    "tags": []
   },
   "outputs": [
    {
     "name": "stdout",
     "output_type": "stream",
     "text": [
      "              precision    recall  f1-score   support\n",
      "\n",
      "           0       0.70      0.89      0.78        18\n",
      "           1       0.95      0.85      0.90        47\n",
      "\n",
      "    accuracy                           0.86        65\n",
      "   macro avg       0.82      0.87      0.84        65\n",
      "weighted avg       0.88      0.86      0.87        65\n",
      "\n"
     ]
    }
   ],
   "source": [
    "# getting precision, recall and f1-score via classification report\n",
    "\n",
    "print(classification_report(Y_test, decision_tree_Y_pred))"
   ]
  },
  {
   "cell_type": "markdown",
   "execution_count": null,
   "metadata": {
    "papermill": {
     "duration": 0.034971,
     "end_time": "2020-09-02T18:50:15.824372",
     "exception": false,
     "start_time": "2020-09-02T18:50:15.789401",
     "status": "completed"
    },
    "tags": []
   },
   "source": [
    "<a id='#6.4'></a>\n",
    "<font color=\"darkslateblue\" size=3.5><b>5.4. Support Vector Machine</b></font>"
   ]
  },
  {
   "cell_type": "code",
   "execution_count": 59,
   "metadata": {
    "execution": {
     "iopub.execute_input": "2020-09-02T18:50:15.900258Z",
     "iopub.status.busy": "2020-09-02T18:50:15.899276Z",
     "iopub.status.idle": "2020-09-02T18:50:15.908110Z",
     "shell.execute_reply": "2020-09-02T18:50:15.908713Z"
    },
    "papermill": {
     "duration": 0.049287,
     "end_time": "2020-09-02T18:50:15.908883",
     "exception": false,
     "start_time": "2020-09-02T18:50:15.859596",
     "status": "completed"
    },
    "tags": []
   },
   "outputs": [
    {
     "data": {
      "text/plain": [
       "0.8615384615384616"
      ]
     },
     "execution_count": 59,
     "metadata": {},
     "output_type": "execute_result"
    }
   ],
   "source": [
    "# Support Vector Machine\n",
    "svc = SVC()\n",
    "svc.fit(X_train, Y_train)\n",
    "svm_Y_pred = svc.predict(X_test)\n",
    "svc_accuracy = svc.score(X_test, Y_test)\n",
    "svc_accuracy"
   ]
  },
  {
   "cell_type": "code",
   "execution_count": 60,
   "metadata": {
    "execution": {
     "iopub.execute_input": "2020-09-02T18:50:15.987710Z",
     "iopub.status.busy": "2020-09-02T18:50:15.986895Z",
     "iopub.status.idle": "2020-09-02T18:50:16.377073Z",
     "shell.execute_reply": "2020-09-02T18:50:16.376398Z"
    },
    "papermill": {
     "duration": 0.433925,
     "end_time": "2020-09-02T18:50:16.377197",
     "exception": false,
     "start_time": "2020-09-02T18:50:15.943272",
     "status": "completed"
    },
    "tags": []
   },
   "outputs": [
    {
     "data": {
      "image/png": "[encoded data removed]",
      "text/plain": [
       "<Figure size 720x504 with 2 Axes>"
      ]
     },
     "metadata": {
      "needs_background": "light"
     },
     "output_type": "display_data"
    }
   ],
   "source": [
    "# creating confusion matrix heatmap\n",
    "\n",
    "conf_mat = confusion_matrix(Y_test, svm_Y_pred)\n",
    "fig = plt.figure(figsize=(10,7))\n",
    "group_names = ['True Neg','False Pos','False Neg','True Pos']\n",
    "group_counts = [\"{0:0.0f}\".format(value) for value in\n",
    "                conf_mat.flatten()]\n",
    "labels = [f\"{v1}\\n{v2}\" for v1, v2 in zip(group_names,group_counts)]\n",
    "labels = np.asarray(labels).reshape(2,2)\n",
    "sns.heatmap(conf_mat, annot=labels, annot_kws={\"size\": 16}, fmt='')\n",
    "plt.title(\"Confusion Matrix\")\n",
    "plt.xlabel(\"Predicted Label\")\n",
    "plt.ylabel(\"True Label\")\n",
    "plt.show()"
   ]
  },
  {
   "cell_type": "code",
   "execution_count": 61,
   "metadata": {
    "execution": {
     "iopub.execute_input": "2020-09-02T18:50:16.452046Z",
     "iopub.status.busy": "2020-09-02T18:50:16.450736Z",
     "iopub.status.idle": "2020-09-02T18:50:16.461574Z",
     "shell.execute_reply": "2020-09-02T18:50:16.460615Z"
    },
    "papermill": {
     "duration": 0.050443,
     "end_time": "2020-09-02T18:50:16.461730",
     "exception": false,
     "start_time": "2020-09-02T18:50:16.411287",
     "status": "completed"
    },
    "tags": []
   },
   "outputs": [
    {
     "name": "stdout",
     "output_type": "stream",
     "text": [
      "              precision    recall  f1-score   support\n",
      "\n",
      "           0       0.70      0.89      0.78        18\n",
      "           1       0.95      0.85      0.90        47\n",
      "\n",
      "    accuracy                           0.86        65\n",
      "   macro avg       0.82      0.87      0.84        65\n",
      "weighted avg       0.88      0.86      0.87        65\n",
      "\n"
     ]
    }
   ],
   "source": [
    "# getting precision, recall and f1-score via classification report\n",
    "\n",
    "print(classification_report(Y_test, svm_Y_pred))"
   ]
  },
  {
   "cell_type": "markdown",
   "execution_count": null,
   "metadata": {
    "papermill": {
     "duration": 0.036303,
     "end_time": "2020-09-02T18:50:16.534203",
     "exception": false,
     "start_time": "2020-09-02T18:50:16.497900",
     "status": "completed"
    },
    "tags": []
   },
   "source": [
    "<a id='#6.5'></a>\n",
    "<font color=\"darkslateblue\" size=3.5><b>5.5. Random Forest</b></font>"
   ]
  },
  {
   "cell_type": "code",
   "execution_count": 62,
   "metadata": {
    "execution": {
     "iopub.execute_input": "2020-09-02T18:50:16.625445Z",
     "iopub.status.busy": "2020-09-02T18:50:16.620214Z",
     "iopub.status.idle": "2020-09-02T18:50:18.526106Z",
     "shell.execute_reply": "2020-09-02T18:50:18.525322Z"
    },
    "papermill": {
     "duration": 1.956036,
     "end_time": "2020-09-02T18:50:18.526237",
     "exception": false,
     "start_time": "2020-09-02T18:50:16.570201",
     "status": "completed"
    },
    "tags": []
   },
   "outputs": [
    {
     "data": {
      "text/plain": [
       "0.8461538461538461"
      ]
     },
     "execution_count": 62,
     "metadata": {},
     "output_type": "execute_result"
    }
   ],
   "source": [
    "# Random Forest\n",
    "\n",
    "random_forest = RandomForestClassifier(n_estimators=1000)\n",
    "random_forest.fit(X_train, Y_train)\n",
    "random_forest_Y_pred = random_forest.predict(X_test)\n",
    "random_forest.score(X_train, Y_train)\n",
    "random_forest_accuracy = random_forest.score(X_test, Y_test)\n",
    "random_forest_accuracy"
   ]
  },
  {
   "cell_type": "code",
   "execution_count": 63,
   "metadata": {
    "execution": {
     "iopub.execute_input": "2020-09-02T18:50:18.619458Z",
     "iopub.status.busy": "2020-09-02T18:50:18.618648Z",
     "iopub.status.idle": "2020-09-02T18:50:18.796827Z",
     "shell.execute_reply": "2020-09-02T18:50:18.795859Z"
    },
    "papermill": {
     "duration": 0.237231,
     "end_time": "2020-09-02T18:50:18.796984",
     "exception": false,
     "start_time": "2020-09-02T18:50:18.559753",
     "status": "completed"
    },
    "tags": []
   },
   "outputs": [
    {
     "data": {
      "image/png": "[encoded data removed]",
      "text/plain": [
       "<Figure size 720x504 with 2 Axes>"
      ]
     },
     "metadata": {
      "needs_background": "light"
     },
     "output_type": "display_data"
    }
   ],
   "source": [
    "# creating confusion matrix heatmap\n",
    "\n",
    "conf_mat = confusion_matrix(Y_test, random_forest_Y_pred)\n",
    "fig = plt.figure(figsize=(10,7))\n",
    "group_names = ['True Neg','False Pos','False Neg','True Pos']\n",
    "group_counts = [\"{0:0.0f}\".format(value) for value in\n",
    "                conf_mat.flatten()]\n",
    "labels = [f\"{v1}\\n{v2}\" for v1, v2 in zip(group_names,group_counts)]\n",
    "labels = np.asarray(labels).reshape(2,2)\n",
    "sns.heatmap(conf_mat, annot=labels, annot_kws={\"size\": 16}, fmt='')\n",
    "plt.title(\"Confusion Matrix\")\n",
    "plt.xlabel(\"Predicted Label\")\n",
    "plt.ylabel(\"True Label\")\n",
    "plt.show()"
   ]
  },
  {
   "cell_type": "code",
   "execution_count": 64,
   "metadata": {
    "execution": {
     "iopub.execute_input": "2020-09-02T18:50:18.869062Z",
     "iopub.status.busy": "2020-09-02T18:50:18.868387Z",
     "iopub.status.idle": "2020-09-02T18:50:18.878486Z",
     "shell.execute_reply": "2020-09-02T18:50:18.877786Z"
    },
    "papermill": {
     "duration": 0.048099,
     "end_time": "2020-09-02T18:50:18.878604",
     "exception": false,
     "start_time": "2020-09-02T18:50:18.830505",
     "status": "completed"
    },
    "tags": []
   },
   "outputs": [
    {
     "name": "stdout",
     "output_type": "stream",
     "text": [
      "              precision    recall  f1-score   support\n",
      "\n",
      "           0       0.68      0.83      0.75        18\n",
      "           1       0.93      0.85      0.89        47\n",
      "\n",
      "    accuracy                           0.85        65\n",
      "   macro avg       0.81      0.84      0.82        65\n",
      "weighted avg       0.86      0.85      0.85        65\n",
      "\n"
     ]
    }
   ],
   "source": [
    "# getting precision, recall and f1-score via classification report\n",
    "\n",
    "print(classification_report(Y_test, random_forest_Y_pred))"
   ]
  },
  {
   "cell_type": "markdown",
   "execution_count": null,
   "metadata": {
    "papermill": {
     "duration": 0.032015,
     "end_time": "2020-09-02T18:50:18.943895",
     "exception": false,
     "start_time": "2020-09-02T18:50:18.911880",
     "status": "completed"
    },
    "tags": []
   },
   "source": [
    "<a id='#6.6'></a>\n",
    "<font color=\"darkslateblue\" size=3.5><b>5.6. Gaussian Naive Bayes</b></font>"
   ]
  },
  {
   "cell_type": "code",
   "execution_count": 65,
   "metadata": {
    "execution": {
     "iopub.execute_input": "2020-09-02T18:50:19.023686Z",
     "iopub.status.busy": "2020-09-02T18:50:19.022742Z",
     "iopub.status.idle": "2020-09-02T18:50:19.034148Z",
     "shell.execute_reply": "2020-09-02T18:50:19.033370Z"
    },
    "papermill": {
     "duration": 0.056802,
     "end_time": "2020-09-02T18:50:19.034279",
     "exception": false,
     "start_time": "2020-09-02T18:50:18.977477",
     "status": "completed"
    },
    "tags": []
   },
   "outputs": [
    {
     "data": {
      "text/plain": [
       "0.8153846153846154"
      ]
     },
     "execution_count": 65,
     "metadata": {},
     "output_type": "execute_result"
    }
   ],
   "source": [
    "# Gaussian Naive Bayes\n",
    "\n",
    "gaussian = GaussianNB()\n",
    "gaussian.fit(X_train, Y_train)\n",
    "gaussian_Y_pred = gaussian.predict(X_test)\n",
    "gaussian_accuracy = gaussian.score(X_test, Y_test)\n",
    "gaussian_accuracy"
   ]
  },
  {
   "cell_type": "code",
   "execution_count": 66,
   "metadata": {
    "execution": {
     "iopub.execute_input": "2020-09-02T18:50:19.128851Z",
     "iopub.status.busy": "2020-09-02T18:50:19.110982Z",
     "iopub.status.idle": "2020-09-02T18:50:19.302842Z",
     "shell.execute_reply": "2020-09-02T18:50:19.302176Z"
    },
    "papermill": {
     "duration": 0.234432,
     "end_time": "2020-09-02T18:50:19.302973",
     "exception": false,
     "start_time": "2020-09-02T18:50:19.068541",
     "status": "completed"
    },
    "tags": []
   },
   "outputs": [
    {
     "data": {
      "image/png": "[encoded data removed]",
      "text/plain": [
       "<Figure size 720x504 with 2 Axes>"
      ]
     },
     "metadata": {
      "needs_background": "light"
     },
     "output_type": "display_data"
    }
   ],
   "source": [
    "# creating confusion matrix heatmap\n",
    "\n",
    "conf_mat = confusion_matrix(Y_test, gaussian_Y_pred)\n",
    "fig = plt.figure(figsize=(10,7))\n",
    "group_names = ['True Neg','False Pos','False Neg','True Pos']\n",
    "group_counts = [\"{0:0.0f}\".format(value) for value in\n",
    "                conf_mat.flatten()]\n",
    "labels = [f\"{v1}\\n{v2}\" for v1, v2 in zip(group_names,group_counts)]\n",
    "labels = np.asarray(labels).reshape(2,2)\n",
    "sns.heatmap(conf_mat, annot=labels, annot_kws={\"size\": 16}, fmt='')\n",
    "plt.title(\"Confusion Matrix\")\n",
    "plt.xlabel(\"Predicted Label\")\n",
    "plt.ylabel(\"True Label\")\n",
    "plt.show()"
   ]
  },
  {
   "cell_type": "code",
   "execution_count": 67,
   "metadata": {
    "execution": {
     "iopub.execute_input": "2020-09-02T18:50:19.377391Z",
     "iopub.status.busy": "2020-09-02T18:50:19.376112Z",
     "iopub.status.idle": "2020-09-02T18:50:19.387977Z",
     "shell.execute_reply": "2020-09-02T18:50:19.387150Z"
    },
    "papermill": {
     "duration": 0.051036,
     "end_time": "2020-09-02T18:50:19.388127",
     "exception": false,
     "start_time": "2020-09-02T18:50:19.337091",
     "status": "completed"
    },
    "tags": []
   },
   "outputs": [
    {
     "name": "stdout",
     "output_type": "stream",
     "text": [
      "              precision    recall  f1-score   support\n",
      "\n",
      "           0       0.62      0.83      0.71        18\n",
      "           1       0.93      0.81      0.86        47\n",
      "\n",
      "    accuracy                           0.82        65\n",
      "   macro avg       0.78      0.82      0.79        65\n",
      "weighted avg       0.84      0.82      0.82        65\n",
      "\n"
     ]
    }
   ],
   "source": [
    "# getting precision, recall and f1-score via classification report\n",
    "\n",
    "print(classification_report(Y_test, gaussian_Y_pred))"
   ]
  },
  {
   "cell_type": "markdown",
   "execution_count": null,
   "metadata": {
    "papermill": {
     "duration": 0.03388,
     "end_time": "2020-09-02T18:50:19.459097",
     "exception": false,
     "start_time": "2020-09-02T18:50:19.425217",
     "status": "completed"
    },
    "tags": []
   },
   "source": [
    "<a id='#6.7'></a>\n",
    "<font color=\"darkslateblue\" size=3.5><b>5.7. Stochastic Gradient Descent</b></font>"
   ]
  },
  {
   "cell_type": "code",
   "execution_count": 68,
   "metadata": {
    "execution": {
     "iopub.execute_input": "2020-09-02T18:50:19.544113Z",
     "iopub.status.busy": "2020-09-02T18:50:19.541294Z",
     "iopub.status.idle": "2020-09-02T18:50:19.549202Z",
     "shell.execute_reply": "2020-09-02T18:50:19.549668Z"
    },
    "papermill": {
     "duration": 0.054271,
     "end_time": "2020-09-02T18:50:19.549833",
     "exception": false,
     "start_time": "2020-09-02T18:50:19.495562",
     "status": "completed"
    },
    "tags": []
   },
   "outputs": [
    {
     "data": {
      "text/plain": [
       "0.8923076923076924"
      ]
     },
     "execution_count": 68,
     "metadata": {},
     "output_type": "execute_result"
    }
   ],
   "source": [
    "# Stochastic Gradient Descent\n",
    "\n",
    "sgd = SGDClassifier()\n",
    "sgd.fit(X_train, Y_train)\n",
    "sgd_Y_pred = sgd.predict(X_test)\n",
    "sgd_accuracy = sgd.score(X_test, Y_test)\n",
    "sgd_accuracy"
   ]
  },
  {
   "cell_type": "code",
   "execution_count": 69,
   "metadata": {
    "execution": {
     "iopub.execute_input": "2020-09-02T18:50:19.645627Z",
     "iopub.status.busy": "2020-09-02T18:50:19.629026Z",
     "iopub.status.idle": "2020-09-02T18:50:19.822719Z",
     "shell.execute_reply": "2020-09-02T18:50:19.821928Z"
    },
    "papermill": {
     "duration": 0.236179,
     "end_time": "2020-09-02T18:50:19.822854",
     "exception": false,
     "start_time": "2020-09-02T18:50:19.586675",
     "status": "completed"
    },
    "tags": []
   },
   "outputs": [
    {
     "data": {
      "image/png": "[encoded data removed]",
      "text/plain": [
       "<Figure size 720x504 with 2 Axes>"
      ]
     },
     "metadata": {
      "needs_background": "light"
     },
     "output_type": "display_data"
    }
   ],
   "source": [
    "# creating confusion matrix heatmap\n",
    "\n",
    "conf_mat = confusion_matrix(Y_test, sgd_Y_pred)\n",
    "fig = plt.figure(figsize=(10,7))\n",
    "group_names = ['True Neg','False Pos','False Neg','True Pos']\n",
    "group_counts = [\"{0:0.0f}\".format(value) for value in\n",
    "                conf_mat.flatten()]\n",
    "labels = [f\"{v1}\\n{v2}\" for v1, v2 in zip(group_names,group_counts)]\n",
    "labels = np.asarray(labels).reshape(2,2)\n",
    "sns.heatmap(conf_mat, annot=labels, annot_kws={\"size\": 16}, fmt='')\n",
    "plt.title(\"Confusion Matrix\")\n",
    "plt.xlabel(\"Predicted Label\")\n",
    "plt.ylabel(\"True Label\")\n",
    "plt.show()"
   ]
  },
  {
   "cell_type": "code",
   "execution_count": 70,
   "metadata": {
    "execution": {
     "iopub.execute_input": "2020-09-02T18:50:19.902381Z",
     "iopub.status.busy": "2020-09-02T18:50:19.900233Z",
     "iopub.status.idle": "2020-09-02T18:50:19.910980Z",
     "shell.execute_reply": "2020-09-02T18:50:19.909772Z"
    },
    "papermill": {
     "duration": 0.052483,
     "end_time": "2020-09-02T18:50:19.911167",
     "exception": false,
     "start_time": "2020-09-02T18:50:19.858684",
     "status": "completed"
    },
    "tags": []
   },
   "outputs": [
    {
     "name": "stdout",
     "output_type": "stream",
     "text": [
      "              precision    recall  f1-score   support\n",
      "\n",
      "           0       0.74      0.94      0.83        18\n",
      "           1       0.98      0.87      0.92        47\n",
      "\n",
      "    accuracy                           0.89        65\n",
      "   macro avg       0.86      0.91      0.88        65\n",
      "weighted avg       0.91      0.89      0.90        65\n",
      "\n"
     ]
    }
   ],
   "source": [
    "# getting precision, recall and f1-score via classification report\n",
    "\n",
    "print(classification_report(Y_test, sgd_Y_pred))"
   ]
  },
  {
   "cell_type": "markdown",
   "execution_count": null,
   "metadata": {
    "papermill": {
     "duration": 0.03398,
     "end_time": "2020-09-02T18:50:19.981296",
     "exception": false,
     "start_time": "2020-09-02T18:50:19.947316",
     "status": "completed"
    },
    "tags": []
   },
   "source": [
    "<a id='#6.8'></a>\n",
    "<font color=\"darkslateblue\" size=3.5><b>5.8. Linear SVC</b></font>"
   ]
  },
  {
   "cell_type": "code",
   "execution_count": 71,
   "metadata": {
    "execution": {
     "iopub.execute_input": "2020-09-02T18:50:20.066534Z",
     "iopub.status.busy": "2020-09-02T18:50:20.065478Z",
     "iopub.status.idle": "2020-09-02T18:50:20.079423Z",
     "shell.execute_reply": "2020-09-02T18:50:20.078681Z"
    },
    "papermill": {
     "duration": 0.059452,
     "end_time": "2020-09-02T18:50:20.079545",
     "exception": false,
     "start_time": "2020-09-02T18:50:20.020093",
     "status": "completed"
    },
    "tags": []
   },
   "outputs": [
    {
     "data": {
      "text/plain": [
       "0.8461538461538461"
      ]
     },
     "execution_count": 71,
     "metadata": {},
     "output_type": "execute_result"
    }
   ],
   "source": [
    "# Linear SVC\n",
    "\n",
    "linear_svc = LinearSVC()\n",
    "linear_svc.fit(X_train, Y_train)\n",
    "linear_svc_Y_pred = linear_svc.predict(X_test)\n",
    "linear_svc_accuracy = linear_svc.score(X_test, Y_test)\n",
    "linear_svc_accuracy"
   ]
  },
  {
   "cell_type": "code",
   "execution_count": 72,
   "metadata": {
    "execution": {
     "iopub.execute_input": "2020-09-02T18:50:20.162166Z",
     "iopub.status.busy": "2020-09-02T18:50:20.159340Z",
     "iopub.status.idle": "2020-09-02T18:50:20.348160Z",
     "shell.execute_reply": "2020-09-02T18:50:20.347473Z"
    },
    "papermill": {
     "duration": 0.23331,
     "end_time": "2020-09-02T18:50:20.348278",
     "exception": false,
     "start_time": "2020-09-02T18:50:20.114968",
     "status": "completed"
    },
    "tags": []
   },
   "outputs": [
    {
     "data": {
      "image/png": "[encoded data removed]",
      "text/plain": [
       "<Figure size 720x504 with 2 Axes>"
      ]
     },
     "metadata": {
      "needs_background": "light"
     },
     "output_type": "display_data"
    }
   ],
   "source": [
    "# creating confusion matrix heatmap\n",
    "\n",
    "conf_mat = confusion_matrix(Y_test, linear_svc_Y_pred)\n",
    "fig = plt.figure(figsize=(10,7))\n",
    "group_names = ['True Neg','False Pos','False Neg','True Pos']\n",
    "group_counts = [\"{0:0.0f}\".format(value) for value in\n",
    "                conf_mat.flatten()]\n",
    "labels = [f\"{v1}\\n{v2}\" for v1, v2 in zip(group_names,group_counts)]\n",
    "labels = np.asarray(labels).reshape(2,2)\n",
    "sns.heatmap(conf_mat, annot=labels, annot_kws={\"size\": 16}, fmt='')\n",
    "plt.title(\"Confusion Matrix\")\n",
    "plt.xlabel(\"Predicted Label\")\n",
    "plt.ylabel(\"True Label\")\n",
    "plt.show()"
   ]
  },
  {
   "cell_type": "code",
   "execution_count": 73,
   "metadata": {
    "execution": {
     "iopub.execute_input": "2020-09-02T18:50:20.423372Z",
     "iopub.status.busy": "2020-09-02T18:50:20.422555Z",
     "iopub.status.idle": "2020-09-02T18:50:20.431898Z",
     "shell.execute_reply": "2020-09-02T18:50:20.431333Z"
    },
    "papermill": {
     "duration": 0.049338,
     "end_time": "2020-09-02T18:50:20.432045",
     "exception": false,
     "start_time": "2020-09-02T18:50:20.382707",
     "status": "completed"
    },
    "tags": []
   },
   "outputs": [
    {
     "name": "stdout",
     "output_type": "stream",
     "text": [
      "              precision    recall  f1-score   support\n",
      "\n",
      "           0       0.67      0.89      0.76        18\n",
      "           1       0.95      0.83      0.89        47\n",
      "\n",
      "    accuracy                           0.85        65\n",
      "   macro avg       0.81      0.86      0.82        65\n",
      "weighted avg       0.87      0.85      0.85        65\n",
      "\n"
     ]
    }
   ],
   "source": [
    "# getting precision, recall and f1-score via classification report\n",
    "\n",
    "print(classification_report(Y_test, linear_svc_Y_pred))"
   ]
  },
  {
   "cell_type": "markdown",
   "execution_count": null,
   "metadata": {
    "papermill": {
     "duration": 0.03865,
     "end_time": "2020-09-02T18:50:20.506011",
     "exception": false,
     "start_time": "2020-09-02T18:50:20.467361",
     "status": "completed"
    },
    "tags": []
   },
   "source": [
    "<a id='#6.9'></a>\n",
    "<font color=\"darkslateblue\" size=3.5><b>5.9. Best Performing Model</b></font>"
   ]
  },
  {
   "cell_type": "code",
   "execution_count": 74,
   "metadata": {
    "execution": {
     "iopub.execute_input": "2020-09-02T18:50:20.629791Z",
     "iopub.status.busy": "2020-09-02T18:50:20.628751Z",
     "iopub.status.idle": "2020-09-02T18:50:20.633579Z",
     "shell.execute_reply": "2020-09-02T18:50:20.632645Z"
    },
    "papermill": {
     "duration": 0.065108,
     "end_time": "2020-09-02T18:50:20.633752",
     "exception": false,
     "start_time": "2020-09-02T18:50:20.568644",
     "status": "completed"
    },
    "tags": []
   },
   "outputs": [
    {
     "data": {
      "text/html": [
       "<div>\n",
       "<style scoped>\n",
       "    .dataframe tbody tr th:only-of-type {\n",
       "        vertical-align: middle;\n",
       "    }\n",
       "\n",
       "    .dataframe tbody tr th {\n",
       "        vertical-align: top;\n",
       "    }\n",
       "\n",
       "    .dataframe thead th {\n",
       "        text-align: right;\n",
       "    }\n",
       "</style>\n",
       "<table border=\"1\" class=\"dataframe\">\n",
       "  <thead>\n",
       "    <tr style=\"text-align: right;\">\n",
       "      <th></th>\n",
       "      <th>Model</th>\n",
       "      <th>Score</th>\n",
       "    </tr>\n",
       "  </thead>\n",
       "  <tbody>\n",
       "    <tr>\n",
       "      <th>5</th>\n",
       "      <td>Stochastic Gradient Descent</td>\n",
       "      <td>0.892308</td>\n",
       "    </tr>\n",
       "    <tr>\n",
       "      <th>1</th>\n",
       "      <td>KNN</td>\n",
       "      <td>0.876923</td>\n",
       "    </tr>\n",
       "    <tr>\n",
       "      <th>0</th>\n",
       "      <td>Support Vector Machines</td>\n",
       "      <td>0.861538</td>\n",
       "    </tr>\n",
       "    <tr>\n",
       "      <th>3</th>\n",
       "      <td>Decision Tree</td>\n",
       "      <td>0.861538</td>\n",
       "    </tr>\n",
       "    <tr>\n",
       "      <th>2</th>\n",
       "      <td>Linear SVC</td>\n",
       "      <td>0.846154</td>\n",
       "    </tr>\n",
       "    <tr>\n",
       "      <th>4</th>\n",
       "      <td>Random Forest</td>\n",
       "      <td>0.846154</td>\n",
       "    </tr>\n",
       "    <tr>\n",
       "      <th>6</th>\n",
       "      <td>Gaussian Naive Bayes</td>\n",
       "      <td>0.815385</td>\n",
       "    </tr>\n",
       "  </tbody>\n",
       "</table>\n",
       "</div>"
      ],
      "text/plain": [
       "                         Model     Score\n",
       "5  Stochastic Gradient Descent  0.892308\n",
       "1                          KNN  0.876923\n",
       "0      Support Vector Machines  0.861538\n",
       "3                Decision Tree  0.861538\n",
       "2                   Linear SVC  0.846154\n",
       "4                Random Forest  0.846154\n",
       "6         Gaussian Naive Bayes  0.815385"
      ]
     },
     "execution_count": 74,
     "metadata": {},
     "output_type": "execute_result"
    }
   ],
   "source": [
    "models = pd.DataFrame({\n",
    "    'Model': ['Support Vector Machines', 'KNN', 'Linear SVC', 'Decision Tree','Random Forest', 'Stochastic Gradient Descent', 'Gaussian Naive Bayes'],\n",
    "    'Score': [svc_accuracy, knn_accuracy, linear_svc_accuracy, decision_tree_accuracy, random_forest_accuracy, sgd_accuracy, gaussian_accuracy]})\n",
    "models.sort_values(by='Score', ascending=False)"
   ]
  },
  {
   "cell_type": "markdown",
   "execution_count": null,
   "metadata": {
    "papermill": {
     "duration": 0.03732,
     "end_time": "2020-09-02T18:50:20.710849",
     "exception": false,
     "start_time": "2020-09-02T18:50:20.673529",
     "status": "completed"
    },
    "tags": []
   },
   "source": [
    "<font color='red' size=5>\n",
    "    <center>\n",
    "        I hope you enjoyed this kernel, Please don't forget to appreciate me with an Upvote. :)\n",
    "    </center>\n",
    "</font>"
   ]
  }
 ],
 "metadata": {
  "kernelspec": {
   "display_name": "Python 3",
   "language": "python",
   "name": "python3"
  },
  "language_info": {
   "codemirror_mode": {
    "name": "ipython",
    "version": 3
   },
   "file_extension": ".py",
   "mimetype": "text/x-python",
   "name": "python",
   "nbconvert_exporter": "python",
   "pygments_lexer": "ipython3",
   "version": "3.7.6"
  },
  "papermill": {
   "duration": 33.339071,
   "end_time": "2020-09-02T18:50:20.858245",
   "environment_variables": {},
   "exception": null,
   "input_path": "__notebook__.ipynb",
   "output_path": "__notebook__.ipynb",
   "parameters": {},
   "start_time": "2020-09-02T18:49:47.519174",
   "version": "2.1.0"
  }
 },
 "nbformat": 4,
 "nbformat_minor": 4
}
