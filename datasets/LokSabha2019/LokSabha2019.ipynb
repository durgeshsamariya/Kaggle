{
 "cells": [
  {
   "cell_type": "markdown",
   "metadata": {},
   "source": [
    "# Import Libraries\n",
    "Importing libraries are necessary for any project.\n",
    "We're going to import commonly used Webscrapping and Data Analysis libraries. Make sure all libraries are installed."
   ]
  },
  {
   "cell_type": "code",
   "execution_count": 1,
   "metadata": {
    "ExecuteTime": {
     "end_time": "2020-09-10T09:54:43.415995Z",
     "start_time": "2020-09-10T09:54:41.551763Z"
    }
   },
   "outputs": [],
   "source": [
    "import requests # for getting web contents\n",
    "from bs4 import BeautifulSoup # for scraping web contents\n",
    "import pandas as pd # for data analysis\n",
    "import numpy as np\n",
    "from progressbar import ProgressBar, Percentage, Bar"
   ]
  },
  {
   "cell_type": "markdown",
   "metadata": {},
   "source": [
    "# URL\n",
    "For web scrapping it's important to have url."
   ]
  },
  {
   "cell_type": "markdown",
   "metadata": {},
   "source": [
    "## Candidate List"
   ]
  },
  {
   "cell_type": "code",
   "execution_count": 2,
   "metadata": {
    "ExecuteTime": {
     "end_time": "2020-09-10T09:54:49.085185Z",
     "start_time": "2020-09-10T09:54:43.421384Z"
    }
   },
   "outputs": [],
   "source": [
    "# link from where you want to scrap data\n",
    "base_url = 'https://myneta.info/loksabha2019/'\n",
    "\n",
    "# get web data\n",
    "page = requests.get(base_url)\n",
    "                        \n",
    "# parse web data\n",
    "soup = BeautifulSoup(page.content, \"html.parser\")"
   ]
  },
  {
   "cell_type": "code",
   "execution_count": 3,
   "metadata": {
    "ExecuteTime": {
     "end_time": "2020-09-10T09:54:49.283238Z",
     "start_time": "2020-09-10T09:54:49.159847Z"
    }
   },
   "outputs": [],
   "source": [
    "# find the table\n",
    "# our trageted table is last\n",
    "\n",
    "# this link have lists of links so first get all the links, all links stored in table so getting last table\n",
    "table = soup.find_all('table')[-1]\n",
    "\n",
    "# links stored in div class='items'\n",
    "divs = table.find_all('div', class_=\"items\")\n",
    "\n",
    "links = []\n",
    "cities = []\n",
    "\n",
    "for div in divs:\n",
    "    for a in div.find_all('a', href=True):\n",
    "        link = a['href']\n",
    "        if '/' in link:\n",
    "            link = link.split('/')[-1:]\n",
    "            links.append(link)\n",
    "        elif '/' not in link:\n",
    "            links.append(link)\n",
    "        city = a.text.strip().title()\n",
    "        cities.append(city)"
   ]
  },
  {
   "cell_type": "code",
   "execution_count": 4,
   "metadata": {
    "ExecuteTime": {
     "end_time": "2020-09-10T09:54:49.474156Z",
     "start_time": "2020-09-10T09:54:49.346730Z"
    }
   },
   "outputs": [],
   "source": [
    "# function to scrape values from each url\n",
    "def url_scrraper(url,city):\n",
    "    page = requests.get(url)\n",
    "    soup = BeautifulSoup(page.content, \"html.parser\")\n",
    "    table = soup.find_all('table')[-1]\n",
    "    thead = [th for th in table.find_all('th')]\n",
    "    for i in thead:\n",
    "        headings.append(i.text)\n",
    "    headings.insert(-1,'Constituency')\n",
    "    \n",
    "    html_text = [tr for tr in table.find_all('tr')][1:]\n",
    "    \n",
    "    for text in html_text:\n",
    "        td = [cells for cells in text.find_all('td')]\n",
    "        if len(td)!= 0 :\n",
    "            name = td[0].find('a').get_text().title()\n",
    "            party = td[1].get_text()\n",
    "            case = td[2].get_text()\n",
    "            edu = td[3].get_text()\n",
    "            age = td[4].get_text()\n",
    "            ta = td[5].contents[0].strip().replace(u'Rs\\xa0',u'').replace(',','')\n",
    "            la = td[6].contents[0].strip().replace(u'Rs\\xa0',u'').replace(',','')\n",
    "            if(ta == 'Nil'):\n",
    "                ta = np.NaN\n",
    "            if(la == 'Nil'):\n",
    "                la = np.NaN\n",
    "            row = [name, party, case, edu, age, ta, la]\n",
    "            row.insert(-1,city)\n",
    "            content.append(row)"
   ]
  },
  {
   "cell_type": "code",
   "execution_count": 5,
   "metadata": {
    "ExecuteTime": {
     "end_time": "2020-09-10T10:00:35.948863Z",
     "start_time": "2020-09-10T09:54:49.497513Z"
    }
   },
   "outputs": [
    {
     "name": "stderr",
     "output_type": "stream",
     "text": [
      "100%|#########################################################################|\n"
     ]
    }
   ],
   "source": [
    "content = []\n",
    "\n",
    "pbar = ProgressBar(widgets=[Percentage(), Bar()], maxval=len(cities)).start()\n",
    "\n",
    "for i in range(len(cities)):\n",
    "    pbar.update(i+1)\n",
    "    headings = []\n",
    "    if type(links[i]) == list:\n",
    "        url = base_url + links[i][0]\n",
    "    else:\n",
    "        url = base_url + links[i]\n",
    "    url_scrraper(url, cities[i])\n",
    "    \n",
    "pbar.finish()"
   ]
  },
  {
   "cell_type": "code",
   "execution_count": 6,
   "metadata": {
    "ExecuteTime": {
     "end_time": "2020-09-10T10:00:35.978981Z",
     "start_time": "2020-09-10T10:00:35.953144Z"
    }
   },
   "outputs": [],
   "source": [
    "# save contents in a dataframe\n",
    "data = pd.DataFrame(content[:], columns=headings)"
   ]
  },
  {
   "cell_type": "markdown",
   "metadata": {},
   "source": [
    "## Winner List"
   ]
  },
  {
   "cell_type": "code",
   "execution_count": 7,
   "metadata": {
    "ExecuteTime": {
     "end_time": "2020-09-10T10:00:48.017985Z",
     "start_time": "2020-09-10T10:00:35.981987Z"
    }
   },
   "outputs": [],
   "source": [
    "# link from where you want to scrap data\n",
    "winner_url = '/index.php?action=show_winners&sort=default'\n",
    "\n",
    "# get web data\n",
    "page = requests.get(base_url+winner_url)\n",
    "\n",
    "# parse web data\n",
    "soup = BeautifulSoup(page.content, \"html.parser\")"
   ]
  },
  {
   "cell_type": "code",
   "execution_count": 8,
   "metadata": {
    "ExecuteTime": {
     "end_time": "2020-09-10T10:00:48.112566Z",
     "start_time": "2020-09-10T10:00:48.027107Z"
    }
   },
   "outputs": [],
   "source": [
    "table = soup.find_all('table')[-2]\n",
    "thead = [th for th in table.find_all('th')]\n",
    "winner_headings = []\n",
    "\n",
    "for i in thead:\n",
    "    winner_headings.append(i.text.strip())\n",
    "\n",
    "winner_content = []\n",
    "html_text = [tr for tr in table.find_all('tr')][1:]\n",
    "    \n",
    "for text in html_text:\n",
    "    td = [cells for cells in text.find_all('td')]\n",
    "    if len(td)!= 0 :\n",
    "        name = td[1].find('a').get_text()\n",
    "        city = td[2].get_text().title()\n",
    "        party = td[3].get_text().strip()\n",
    "        case = td[4].get_text().strip()\n",
    "        edu = td[5].get_text().strip()\n",
    "        ta = td[6].contents[0].strip().replace(u'Rs\\xa0',u'').replace(',','')\n",
    "        la = td[7].contents[0].strip().replace(u'Rs\\xa0',u'').replace(',','')\n",
    "        if(ta == 'Nil'):\n",
    "            ta = np.NaN\n",
    "        if(la == 'Nil'):\n",
    "            la = np.NaN\n",
    "        row = [name, city, party, case, edu, ta, la]\n",
    "        winner_content.append(row)"
   ]
  },
  {
   "cell_type": "code",
   "execution_count": 9,
   "metadata": {
    "ExecuteTime": {
     "end_time": "2020-09-10T10:00:48.126022Z",
     "start_time": "2020-09-10T10:00:48.117756Z"
    }
   },
   "outputs": [],
   "source": [
    "# save contents in a dataframe\n",
    "winner_data = pd.DataFrame(winner_content[:], columns=winner_headings[1:])"
   ]
  },
  {
   "cell_type": "code",
   "execution_count": 10,
   "metadata": {
    "ExecuteTime": {
     "end_time": "2020-09-10T10:00:48.140245Z",
     "start_time": "2020-09-10T10:00:48.130941Z"
    }
   },
   "outputs": [],
   "source": [
    "winner_data = winner_data.rename(columns={'Constituency ∇':'Constituency', 'Criminal Case':'Criminal Cases'})"
   ]
  },
  {
   "cell_type": "code",
   "execution_count": 11,
   "metadata": {
    "ExecuteTime": {
     "end_time": "2020-09-10T10:00:48.159312Z",
     "start_time": "2020-09-10T10:00:48.146074Z"
    }
   },
   "outputs": [],
   "source": [
    "winner_data['Winner'] = 1"
   ]
  },
  {
   "cell_type": "markdown",
   "metadata": {},
   "source": [
    "## Women Candidates"
   ]
  },
  {
   "cell_type": "code",
   "execution_count": 12,
   "metadata": {
    "ExecuteTime": {
     "end_time": "2020-09-10T10:00:49.941985Z",
     "start_time": "2020-09-10T10:00:48.163208Z"
    }
   },
   "outputs": [],
   "source": [
    "women_url = \"index.php?action=summary&subAction=women_candidate&sort=candidate#summary\"\n",
    "page = requests.get(base_url + women_url)\n",
    "soup = BeautifulSoup(page.content, 'html.parser')\n",
    "\n",
    "women_headings = []\n",
    "\n",
    "table = soup.find_all('table')[-1]\n",
    "thead = [th for th in table.find_all('th')]\n",
    "\n",
    "for i in thead:\n",
    "    women_headings.append(i.text.strip())\n",
    "\n",
    "women_content = []\n",
    "html_text = [tr for tr in table.find_all('tr')][1:]\n",
    "    \n",
    "for text in html_text:\n",
    "    td = [cells for cells in text.find_all('td')]\n",
    "    if len(td)!= 0 :\n",
    "        name = td[1].find('a').get_text()\n",
    "        city = td[2].get_text().title()\n",
    "        party = td[3].get_text().strip()\n",
    "        case = td[4].get_text().strip()\n",
    "        edu = td[5].get_text().strip()\n",
    "        ta = td[6].contents[0].strip().replace(u'Rs\\xa0',u'').replace(',','')\n",
    "        la = td[7].contents[0].strip().replace(u'Rs\\xa0',u'').replace(',','')\n",
    "        if(ta == 'Nil'):\n",
    "            ta = np.NaN\n",
    "        if(la == 'Nil'):\n",
    "            la = np.NaN\n",
    "        row = [name, city, party, case, edu, ta, la]\n",
    "        women_content.append(row)"
   ]
  },
  {
   "cell_type": "code",
   "execution_count": 13,
   "metadata": {
    "ExecuteTime": {
     "end_time": "2020-09-10T10:00:49.955526Z",
     "start_time": "2020-09-10T10:00:49.945113Z"
    }
   },
   "outputs": [],
   "source": [
    "# save contents in a dataframe\n",
    "women_data = pd.DataFrame(women_content[:], columns=women_headings[1:])"
   ]
  },
  {
   "cell_type": "code",
   "execution_count": 14,
   "metadata": {
    "ExecuteTime": {
     "end_time": "2020-09-10T10:00:49.973387Z",
     "start_time": "2020-09-10T10:00:49.960174Z"
    }
   },
   "outputs": [],
   "source": [
    "women_data = women_data.rename(columns={'Candidate∇':'Candidate', 'Criminal Case':'Criminal Cases'})"
   ]
  },
  {
   "cell_type": "code",
   "execution_count": 15,
   "metadata": {
    "ExecuteTime": {
     "end_time": "2020-09-10T10:00:49.985943Z",
     "start_time": "2020-09-10T10:00:49.977581Z"
    }
   },
   "outputs": [],
   "source": [
    "women_data['Gender'] = 'F'"
   ]
  },
  {
   "cell_type": "code",
   "execution_count": 16,
   "metadata": {
    "ExecuteTime": {
     "end_time": "2020-09-10T10:00:50.069782Z",
     "start_time": "2020-09-10T10:00:49.989930Z"
    }
   },
   "outputs": [],
   "source": [
    "final_data = pd.merge(left=data, right=winner_data, \n",
    "                      how ='left', on=['Candidate', 'Criminal Cases', \\\n",
    "                                       'Constituency', 'Party', 'Education', \\\n",
    "                                       'Liabilities','Total Assets'])\n",
    "\n",
    "final_data = pd.merge(left=final_data, right=women_data, \n",
    "                      how ='left', on=['Candidate', 'Criminal Cases', \\\n",
    "                                       'Constituency', 'Party', 'Education', \\\n",
    "                                       'Liabilities','Total Assets'])"
   ]
  },
  {
   "cell_type": "code",
   "execution_count": 17,
   "metadata": {
    "ExecuteTime": {
     "end_time": "2020-09-10T10:00:50.113228Z",
     "start_time": "2020-09-10T10:00:50.073761Z"
    }
   },
   "outputs": [
    {
     "data": {
      "text/html": [
       "<div>\n",
       "<style scoped>\n",
       "    .dataframe tbody tr th:only-of-type {\n",
       "        vertical-align: middle;\n",
       "    }\n",
       "\n",
       "    .dataframe tbody tr th {\n",
       "        vertical-align: top;\n",
       "    }\n",
       "\n",
       "    .dataframe thead th {\n",
       "        text-align: right;\n",
       "    }\n",
       "</style>\n",
       "<table border=\"1\" class=\"dataframe\">\n",
       "  <thead>\n",
       "    <tr style=\"text-align: right;\">\n",
       "      <th></th>\n",
       "      <th>Candidate</th>\n",
       "      <th>Party</th>\n",
       "      <th>Criminal Cases</th>\n",
       "      <th>Education</th>\n",
       "      <th>Age</th>\n",
       "      <th>Total Assets</th>\n",
       "      <th>Constituency</th>\n",
       "      <th>Liabilities</th>\n",
       "      <th>Winner</th>\n",
       "      <th>Gender</th>\n",
       "    </tr>\n",
       "  </thead>\n",
       "  <tbody>\n",
       "    <tr>\n",
       "      <th>0</th>\n",
       "      <td>Kuldeep Rai Sharma</td>\n",
       "      <td>INC</td>\n",
       "      <td>0</td>\n",
       "      <td>Graduate Professional</td>\n",
       "      <td>52</td>\n",
       "      <td>132233012</td>\n",
       "      <td>Andaman And Nicobar Islands</td>\n",
       "      <td>80450870</td>\n",
       "      <td>1.0</td>\n",
       "      <td>NaN</td>\n",
       "    </tr>\n",
       "    <tr>\n",
       "      <th>1</th>\n",
       "      <td>Ayan Mandal</td>\n",
       "      <td>AITC</td>\n",
       "      <td>0</td>\n",
       "      <td>Graduate</td>\n",
       "      <td>30</td>\n",
       "      <td>7270440</td>\n",
       "      <td>Andaman And Nicobar Islands</td>\n",
       "      <td>1500000</td>\n",
       "      <td>NaN</td>\n",
       "      <td>NaN</td>\n",
       "    </tr>\n",
       "    <tr>\n",
       "      <th>2</th>\n",
       "      <td>C G Saji Kumar</td>\n",
       "      <td>All India Hindustan Congress Party</td>\n",
       "      <td>0</td>\n",
       "      <td>12th Pass</td>\n",
       "      <td>48</td>\n",
       "      <td>120000</td>\n",
       "      <td>Andaman And Nicobar Islands</td>\n",
       "      <td>0</td>\n",
       "      <td>NaN</td>\n",
       "      <td>NaN</td>\n",
       "    </tr>\n",
       "    <tr>\n",
       "      <th>3</th>\n",
       "      <td>C U Rasheed</td>\n",
       "      <td>IND</td>\n",
       "      <td>0</td>\n",
       "      <td>12th Pass</td>\n",
       "      <td>34</td>\n",
       "      <td>202808</td>\n",
       "      <td>Andaman And Nicobar Islands</td>\n",
       "      <td>1700000</td>\n",
       "      <td>NaN</td>\n",
       "      <td>NaN</td>\n",
       "    </tr>\n",
       "    <tr>\n",
       "      <th>4</th>\n",
       "      <td>Gour Chandra Majumder</td>\n",
       "      <td>IND</td>\n",
       "      <td>0</td>\n",
       "      <td>Graduate</td>\n",
       "      <td>52</td>\n",
       "      <td>6062000</td>\n",
       "      <td>Andaman And Nicobar Islands</td>\n",
       "      <td>0</td>\n",
       "      <td>NaN</td>\n",
       "      <td>NaN</td>\n",
       "    </tr>\n",
       "    <tr>\n",
       "      <th>...</th>\n",
       "      <td>...</td>\n",
       "      <td>...</td>\n",
       "      <td>...</td>\n",
       "      <td>...</td>\n",
       "      <td>...</td>\n",
       "      <td>...</td>\n",
       "      <td>...</td>\n",
       "      <td>...</td>\n",
       "      <td>...</td>\n",
       "      <td>...</td>\n",
       "    </tr>\n",
       "    <tr>\n",
       "      <th>7963</th>\n",
       "      <td>Maksuda Khatun</td>\n",
       "      <td>CPI(M)</td>\n",
       "      <td>0</td>\n",
       "      <td>Doctorate</td>\n",
       "      <td>58</td>\n",
       "      <td>12578736</td>\n",
       "      <td>Uluberia</td>\n",
       "      <td>2876353</td>\n",
       "      <td>NaN</td>\n",
       "      <td>F</td>\n",
       "    </tr>\n",
       "    <tr>\n",
       "      <th>7964</th>\n",
       "      <td>Minati Sarkar</td>\n",
       "      <td>SUCI(C)</td>\n",
       "      <td>0</td>\n",
       "      <td>Graduate</td>\n",
       "      <td>61</td>\n",
       "      <td>1091556</td>\n",
       "      <td>Uluberia</td>\n",
       "      <td>0</td>\n",
       "      <td>NaN</td>\n",
       "      <td>F</td>\n",
       "    </tr>\n",
       "    <tr>\n",
       "      <th>7965</th>\n",
       "      <td>Shoma Ranisree Roy\\t</td>\n",
       "      <td>INC</td>\n",
       "      <td>0</td>\n",
       "      <td>Post Graduate</td>\n",
       "      <td>40</td>\n",
       "      <td>5400000</td>\n",
       "      <td>Uluberia</td>\n",
       "      <td>0</td>\n",
       "      <td>NaN</td>\n",
       "      <td>F</td>\n",
       "    </tr>\n",
       "    <tr>\n",
       "      <th>7966</th>\n",
       "      <td>Simal Saren</td>\n",
       "      <td>Indian Unity Centre</td>\n",
       "      <td>0</td>\n",
       "      <td>Graduate Professional</td>\n",
       "      <td>33</td>\n",
       "      <td>946406</td>\n",
       "      <td>Uluberia</td>\n",
       "      <td>601000</td>\n",
       "      <td>NaN</td>\n",
       "      <td>NaN</td>\n",
       "    </tr>\n",
       "    <tr>\n",
       "      <th>7967</th>\n",
       "      <td>Susanta Kumar Dalui</td>\n",
       "      <td>IND</td>\n",
       "      <td>0</td>\n",
       "      <td>10th Pass</td>\n",
       "      <td>54</td>\n",
       "      <td>910236</td>\n",
       "      <td>Uluberia</td>\n",
       "      <td>43553</td>\n",
       "      <td>NaN</td>\n",
       "      <td>NaN</td>\n",
       "    </tr>\n",
       "  </tbody>\n",
       "</table>\n",
       "<p>7968 rows × 10 columns</p>\n",
       "</div>"
      ],
      "text/plain": [
       "                  Candidate                               Party  \\\n",
       "0        Kuldeep Rai Sharma                                 INC   \n",
       "1               Ayan Mandal                                AITC   \n",
       "2            C G Saji Kumar  All India Hindustan Congress Party   \n",
       "3               C U Rasheed                                 IND   \n",
       "4     Gour Chandra Majumder                                 IND   \n",
       "...                     ...                                 ...   \n",
       "7963         Maksuda Khatun                              CPI(M)   \n",
       "7964          Minati Sarkar                             SUCI(C)   \n",
       "7965   Shoma Ranisree Roy\\t                                 INC   \n",
       "7966            Simal Saren                 Indian Unity Centre   \n",
       "7967    Susanta Kumar Dalui                                 IND   \n",
       "\n",
       "     Criminal Cases              Education Age Total Assets  \\\n",
       "0                 0  Graduate Professional  52    132233012   \n",
       "1                 0               Graduate  30      7270440   \n",
       "2                 0              12th Pass  48       120000   \n",
       "3                 0              12th Pass  34       202808   \n",
       "4                 0               Graduate  52      6062000   \n",
       "...             ...                    ...  ..          ...   \n",
       "7963              0              Doctorate  58     12578736   \n",
       "7964              0               Graduate  61      1091556   \n",
       "7965              0          Post Graduate  40      5400000   \n",
       "7966              0  Graduate Professional  33       946406   \n",
       "7967              0              10th Pass  54       910236   \n",
       "\n",
       "                     Constituency Liabilities  Winner Gender  \n",
       "0     Andaman And Nicobar Islands    80450870     1.0    NaN  \n",
       "1     Andaman And Nicobar Islands     1500000     NaN    NaN  \n",
       "2     Andaman And Nicobar Islands           0     NaN    NaN  \n",
       "3     Andaman And Nicobar Islands     1700000     NaN    NaN  \n",
       "4     Andaman And Nicobar Islands           0     NaN    NaN  \n",
       "...                           ...         ...     ...    ...  \n",
       "7963                     Uluberia     2876353     NaN      F  \n",
       "7964                     Uluberia           0     NaN      F  \n",
       "7965                     Uluberia           0     NaN      F  \n",
       "7966                     Uluberia      601000     NaN    NaN  \n",
       "7967                     Uluberia       43553     NaN    NaN  \n",
       "\n",
       "[7968 rows x 10 columns]"
      ]
     },
     "execution_count": 17,
     "metadata": {},
     "output_type": "execute_result"
    }
   ],
   "source": [
    "final_data"
   ]
  },
  {
   "cell_type": "code",
   "execution_count": 18,
   "metadata": {
    "ExecuteTime": {
     "end_time": "2020-09-10T10:00:50.129858Z",
     "start_time": "2020-09-10T10:00:50.117470Z"
    }
   },
   "outputs": [],
   "source": [
    "final_data['Winner'] = final_data['Winner'].fillna(0)\n",
    "final_data['Gender'] = final_data['Gender'].fillna('M')"
   ]
  },
  {
   "cell_type": "code",
   "execution_count": 19,
   "metadata": {
    "ExecuteTime": {
     "end_time": "2020-09-10T10:00:50.153116Z",
     "start_time": "2020-09-10T10:00:50.135066Z"
    }
   },
   "outputs": [],
   "source": [
    "final_data.Winner = final_data.Winner.astype('object')\n",
    "final_data['Criminal Cases'] = final_data['Criminal Cases'].astype('int')"
   ]
  },
  {
   "cell_type": "markdown",
   "metadata": {},
   "source": [
    "# Data Analysis"
   ]
  },
  {
   "cell_type": "markdown",
   "metadata": {},
   "source": [
    "## Check Data Shape"
   ]
  },
  {
   "cell_type": "code",
   "execution_count": 20,
   "metadata": {
    "ExecuteTime": {
     "end_time": "2020-09-10T10:00:50.165806Z",
     "start_time": "2020-09-10T10:00:50.157295Z"
    }
   },
   "outputs": [
    {
     "name": "stdout",
     "output_type": "stream",
     "text": [
      "(7968, 10)\n"
     ]
    }
   ],
   "source": [
    "# data shape\n",
    "print(final_data.shape)"
   ]
  },
  {
   "cell_type": "markdown",
   "metadata": {},
   "source": [
    "## Look at Example Records"
   ]
  },
  {
   "cell_type": "code",
   "execution_count": 21,
   "metadata": {
    "ExecuteTime": {
     "end_time": "2020-09-10T10:00:50.195772Z",
     "start_time": "2020-09-10T10:00:50.171243Z"
    }
   },
   "outputs": [
    {
     "data": {
      "text/html": [
       "<div>\n",
       "<style scoped>\n",
       "    .dataframe tbody tr th:only-of-type {\n",
       "        vertical-align: middle;\n",
       "    }\n",
       "\n",
       "    .dataframe tbody tr th {\n",
       "        vertical-align: top;\n",
       "    }\n",
       "\n",
       "    .dataframe thead th {\n",
       "        text-align: right;\n",
       "    }\n",
       "</style>\n",
       "<table border=\"1\" class=\"dataframe\">\n",
       "  <thead>\n",
       "    <tr style=\"text-align: right;\">\n",
       "      <th></th>\n",
       "      <th>Candidate</th>\n",
       "      <th>Party</th>\n",
       "      <th>Criminal Cases</th>\n",
       "      <th>Education</th>\n",
       "      <th>Age</th>\n",
       "      <th>Total Assets</th>\n",
       "      <th>Constituency</th>\n",
       "      <th>Liabilities</th>\n",
       "      <th>Winner</th>\n",
       "      <th>Gender</th>\n",
       "    </tr>\n",
       "  </thead>\n",
       "  <tbody>\n",
       "    <tr>\n",
       "      <th>0</th>\n",
       "      <td>Kuldeep Rai Sharma</td>\n",
       "      <td>INC</td>\n",
       "      <td>0</td>\n",
       "      <td>Graduate Professional</td>\n",
       "      <td>52</td>\n",
       "      <td>132233012</td>\n",
       "      <td>Andaman And Nicobar Islands</td>\n",
       "      <td>80450870</td>\n",
       "      <td>1</td>\n",
       "      <td>M</td>\n",
       "    </tr>\n",
       "    <tr>\n",
       "      <th>1</th>\n",
       "      <td>Ayan Mandal</td>\n",
       "      <td>AITC</td>\n",
       "      <td>0</td>\n",
       "      <td>Graduate</td>\n",
       "      <td>30</td>\n",
       "      <td>7270440</td>\n",
       "      <td>Andaman And Nicobar Islands</td>\n",
       "      <td>1500000</td>\n",
       "      <td>0</td>\n",
       "      <td>M</td>\n",
       "    </tr>\n",
       "    <tr>\n",
       "      <th>2</th>\n",
       "      <td>C G Saji Kumar</td>\n",
       "      <td>All India Hindustan Congress Party</td>\n",
       "      <td>0</td>\n",
       "      <td>12th Pass</td>\n",
       "      <td>48</td>\n",
       "      <td>120000</td>\n",
       "      <td>Andaman And Nicobar Islands</td>\n",
       "      <td>0</td>\n",
       "      <td>0</td>\n",
       "      <td>M</td>\n",
       "    </tr>\n",
       "    <tr>\n",
       "      <th>3</th>\n",
       "      <td>C U Rasheed</td>\n",
       "      <td>IND</td>\n",
       "      <td>0</td>\n",
       "      <td>12th Pass</td>\n",
       "      <td>34</td>\n",
       "      <td>202808</td>\n",
       "      <td>Andaman And Nicobar Islands</td>\n",
       "      <td>1700000</td>\n",
       "      <td>0</td>\n",
       "      <td>M</td>\n",
       "    </tr>\n",
       "    <tr>\n",
       "      <th>4</th>\n",
       "      <td>Gour Chandra Majumder</td>\n",
       "      <td>IND</td>\n",
       "      <td>0</td>\n",
       "      <td>Graduate</td>\n",
       "      <td>52</td>\n",
       "      <td>6062000</td>\n",
       "      <td>Andaman And Nicobar Islands</td>\n",
       "      <td>0</td>\n",
       "      <td>0</td>\n",
       "      <td>M</td>\n",
       "    </tr>\n",
       "  </tbody>\n",
       "</table>\n",
       "</div>"
      ],
      "text/plain": [
       "               Candidate                               Party  Criminal Cases  \\\n",
       "0     Kuldeep Rai Sharma                                 INC               0   \n",
       "1            Ayan Mandal                                AITC               0   \n",
       "2         C G Saji Kumar  All India Hindustan Congress Party               0   \n",
       "3            C U Rasheed                                 IND               0   \n",
       "4  Gour Chandra Majumder                                 IND               0   \n",
       "\n",
       "               Education Age Total Assets                 Constituency  \\\n",
       "0  Graduate Professional  52    132233012  Andaman And Nicobar Islands   \n",
       "1               Graduate  30      7270440  Andaman And Nicobar Islands   \n",
       "2              12th Pass  48       120000  Andaman And Nicobar Islands   \n",
       "3              12th Pass  34       202808  Andaman And Nicobar Islands   \n",
       "4               Graduate  52      6062000  Andaman And Nicobar Islands   \n",
       "\n",
       "  Liabilities Winner Gender  \n",
       "0    80450870      1      M  \n",
       "1     1500000      0      M  \n",
       "2           0      0      M  \n",
       "3     1700000      0      M  \n",
       "4           0      0      M  "
      ]
     },
     "execution_count": 21,
     "metadata": {},
     "output_type": "execute_result"
    }
   ],
   "source": [
    "# check few top rows of data\n",
    "final_data.head()"
   ]
  },
  {
   "cell_type": "markdown",
   "metadata": {},
   "source": [
    "## Descriptive Statistics"
   ]
  },
  {
   "cell_type": "code",
   "execution_count": 22,
   "metadata": {
    "ExecuteTime": {
     "end_time": "2020-09-10T10:00:50.227477Z",
     "start_time": "2020-09-10T10:00:50.200612Z"
    }
   },
   "outputs": [
    {
     "data": {
      "text/html": [
       "<div>\n",
       "<style scoped>\n",
       "    .dataframe tbody tr th:only-of-type {\n",
       "        vertical-align: middle;\n",
       "    }\n",
       "\n",
       "    .dataframe tbody tr th {\n",
       "        vertical-align: top;\n",
       "    }\n",
       "\n",
       "    .dataframe thead th {\n",
       "        text-align: right;\n",
       "    }\n",
       "</style>\n",
       "<table border=\"1\" class=\"dataframe\">\n",
       "  <thead>\n",
       "    <tr style=\"text-align: right;\">\n",
       "      <th></th>\n",
       "      <th>Criminal Cases</th>\n",
       "    </tr>\n",
       "  </thead>\n",
       "  <tbody>\n",
       "    <tr>\n",
       "      <th>count</th>\n",
       "      <td>7968.000000</td>\n",
       "    </tr>\n",
       "    <tr>\n",
       "      <th>mean</th>\n",
       "      <td>0.573168</td>\n",
       "    </tr>\n",
       "    <tr>\n",
       "      <th>std</th>\n",
       "      <td>4.061399</td>\n",
       "    </tr>\n",
       "    <tr>\n",
       "      <th>min</th>\n",
       "      <td>0.000000</td>\n",
       "    </tr>\n",
       "    <tr>\n",
       "      <th>25%</th>\n",
       "      <td>0.000000</td>\n",
       "    </tr>\n",
       "    <tr>\n",
       "      <th>50%</th>\n",
       "      <td>0.000000</td>\n",
       "    </tr>\n",
       "    <tr>\n",
       "      <th>75%</th>\n",
       "      <td>0.000000</td>\n",
       "    </tr>\n",
       "    <tr>\n",
       "      <th>max</th>\n",
       "      <td>240.000000</td>\n",
       "    </tr>\n",
       "  </tbody>\n",
       "</table>\n",
       "</div>"
      ],
      "text/plain": [
       "       Criminal Cases\n",
       "count     7968.000000\n",
       "mean         0.573168\n",
       "std          4.061399\n",
       "min          0.000000\n",
       "25%          0.000000\n",
       "50%          0.000000\n",
       "75%          0.000000\n",
       "max        240.000000"
      ]
     },
     "execution_count": 22,
     "metadata": {},
     "output_type": "execute_result"
    }
   ],
   "source": [
    "# getting Generate descriptive statistics of data. Generate descriptive statistics include count, mean, std, min_value, 25%, 50%, 75%, max_value\n",
    "final_data.describe()"
   ]
  },
  {
   "cell_type": "markdown",
   "metadata": {},
   "source": [
    "## Summary of data-type, columns, non-null values, memory usage."
   ]
  },
  {
   "cell_type": "code",
   "execution_count": 23,
   "metadata": {
    "ExecuteTime": {
     "end_time": "2020-09-10T10:00:50.265320Z",
     "start_time": "2020-09-10T10:00:50.246119Z"
    }
   },
   "outputs": [
    {
     "name": "stdout",
     "output_type": "stream",
     "text": [
      "<class 'pandas.core.frame.DataFrame'>\n",
      "Int64Index: 7968 entries, 0 to 7967\n",
      "Data columns (total 10 columns):\n",
      " #   Column          Non-Null Count  Dtype \n",
      "---  ------          --------------  ----- \n",
      " 0   Candidate       7968 non-null   object\n",
      " 1   Party           7968 non-null   object\n",
      " 2   Criminal Cases  7968 non-null   int64 \n",
      " 3   Education       7968 non-null   object\n",
      " 4   Age             7968 non-null   object\n",
      " 5   Total Assets    7908 non-null   object\n",
      " 6   Constituency    7968 non-null   object\n",
      " 7   Liabilities     7968 non-null   object\n",
      " 8   Winner          7968 non-null   object\n",
      " 9   Gender          7968 non-null   object\n",
      "dtypes: int64(1), object(9)\n",
      "memory usage: 684.8+ KB\n"
     ]
    }
   ],
   "source": [
    "# data info\n",
    "final_data.info()"
   ]
  },
  {
   "cell_type": "markdown",
   "metadata": {},
   "source": [
    "## Column labels"
   ]
  },
  {
   "cell_type": "code",
   "execution_count": 24,
   "metadata": {
    "ExecuteTime": {
     "end_time": "2020-09-10T10:00:50.284247Z",
     "start_time": "2020-09-10T10:00:50.275670Z"
    }
   },
   "outputs": [
    {
     "data": {
      "text/plain": [
       "Index(['Candidate', 'Party', 'Criminal Cases', 'Education', 'Age',\n",
       "       'Total Assets', 'Constituency', 'Liabilities', 'Winner', 'Gender'],\n",
       "      dtype='object')"
      ]
     },
     "execution_count": 24,
     "metadata": {},
     "output_type": "execute_result"
    }
   ],
   "source": [
    "# get the column labels of the data.\n",
    "final_data.columns"
   ]
  },
  {
   "cell_type": "markdown",
   "metadata": {},
   "source": [
    "# Save Data into CSV"
   ]
  },
  {
   "cell_type": "code",
   "execution_count": 25,
   "metadata": {
    "ExecuteTime": {
     "end_time": "2020-09-10T10:00:50.353437Z",
     "start_time": "2020-09-10T10:00:50.289033Z"
    }
   },
   "outputs": [],
   "source": [
    "# save data\n",
    "final_data.to_csv('LokSabha2019.csv', index=False)"
   ]
  }
 ],
 "metadata": {
  "kernelspec": {
   "display_name": "Python 3",
   "language": "python",
   "name": "python3"
  },
  "language_info": {
   "codemirror_mode": {
    "name": "ipython",
    "version": 3
   },
   "file_extension": ".py",
   "mimetype": "text/x-python",
   "name": "python",
   "nbconvert_exporter": "python",
   "pygments_lexer": "ipython3",
   "version": "3.8.4"
  },
  "latex_envs": {
   "LaTeX_envs_menu_present": true,
   "autoclose": false,
   "autocomplete": true,
   "bibliofile": "biblio.bib",
   "cite_by": "apalike",
   "current_citInitial": 1,
   "eqLabelWithNumbers": true,
   "eqNumInitial": 1,
   "hotkeys": {
    "equation": "Ctrl-E",
    "itemize": "Ctrl-I"
   },
   "labels_anchors": false,
   "latex_user_defs": false,
   "report_style_numbering": false,
   "user_envs_cfg": false
  },
  "toc": {
   "base_numbering": 1,
   "nav_menu": {},
   "number_sections": true,
   "sideBar": true,
   "skip_h1_title": false,
   "title_cell": "Table of Contents",
   "title_sidebar": "Contents",
   "toc_cell": false,
   "toc_position": {},
   "toc_section_display": true,
   "toc_window_display": false
  },
  "varInspector": {
   "cols": {
    "lenName": 16,
    "lenType": 16,
    "lenVar": 40
   },
   "kernels_config": {
    "python": {
     "delete_cmd_postfix": "",
     "delete_cmd_prefix": "del ",
     "library": "var_list.py",
     "varRefreshCmd": "print(var_dic_list())"
    },
    "r": {
     "delete_cmd_postfix": ") ",
     "delete_cmd_prefix": "rm(",
     "library": "var_list.r",
     "varRefreshCmd": "cat(var_dic_list()) "
    }
   },
   "types_to_exclude": [
    "module",
    "function",
    "builtin_function_or_method",
    "instance",
    "_Feature"
   ],
   "window_display": false
  }
 },
 "nbformat": 4,
 "nbformat_minor": 4
}
