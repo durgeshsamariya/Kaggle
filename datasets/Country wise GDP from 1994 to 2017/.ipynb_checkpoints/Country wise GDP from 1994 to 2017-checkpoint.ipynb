{
 "cells": [
  {
   "cell_type": "markdown",
   "metadata": {},
   "source": [
    "# Import Libraries\n",
    "Importing libraries are necessary for any project.\n",
    "We're going to import commonly used Webscrapping and Data Analysis libraries. Make sure all libraries are installed."
   ]
  },
  {
   "cell_type": "code",
   "execution_count": 1,
   "metadata": {
    "ExecuteTime": {
     "end_time": "2020-08-14T16:10:32.955309Z",
     "start_time": "2020-08-14T16:10:31.449773Z"
    }
   },
   "outputs": [],
   "source": [
    "import requests # for getting web contents\n",
    "from bs4 import BeautifulSoup # for scraping web contents\n",
    "import pandas as pd # for data analysis"
   ]
  },
  {
   "cell_type": "markdown",
   "metadata": {},
   "source": [
    "# URL\n",
    "For web scrapping it's important to have url."
   ]
  },
  {
   "cell_type": "code",
   "execution_count": 2,
   "metadata": {
    "ExecuteTime": {
     "end_time": "2020-08-14T16:11:01.554929Z",
     "start_time": "2020-08-14T16:10:59.517443Z"
    }
   },
   "outputs": [],
   "source": [
    "# link of web page that you want to scrap data\n",
    "URL = 'https://www.worldometers.info/gdp/gdp-by-country/'\n",
    "\n",
    "# get web data\n",
    "page = requests.get(URL)\n",
    "\n",
    "# parse web data\n",
    "soup = BeautifulSoup(page.content, \"html.parser\")"
   ]
  },
  {
   "cell_type": "code",
   "execution_count": 3,
   "metadata": {
    "ExecuteTime": {
     "end_time": "2020-08-14T16:11:09.630080Z",
     "start_time": "2020-08-14T16:11:09.566094Z"
    }
   },
   "outputs": [],
   "source": [
    "# find the table\n",
    "# our trageted table is last\n",
    "\n",
    "# getting the table body\n",
    "html_tbody = soup.find_all('tbody')[-1]\n",
    "\n",
    "#getting all the rows in table body\n",
    "html_text = [tr for tr in html_tbody.find_all('tr')]\n",
    "\n",
    "urls = []\n",
    "countries = []\n",
    "\n",
    "# loop through table body\n",
    "for tr in html_text:\n",
    "    # getting all th, td\n",
    "    th = tr.find_all(['th','td'])\n",
    "    # storing all th value in row and removing white space\n",
    "    # append content\n",
    "    country = th[1].get_text()\n",
    "    url = th[1].find('a')['href']\n",
    "    urls.append(url)\n",
    "    countries.append(country)"
   ]
  },
  {
   "cell_type": "code",
   "execution_count": 5,
   "metadata": {
    "ExecuteTime": {
     "end_time": "2020-08-14T16:12:05.561462Z",
     "start_time": "2020-08-14T16:12:05.547556Z"
    }
   },
   "outputs": [],
   "source": [
    "# function to scrape values from each url\n",
    "def url_scrraper(url,country):\n",
    "    page = requests.get(url)\n",
    "    soup = BeautifulSoup(page.content, \"html.parser\")\n",
    "    table = soup.find_all('table')[0]\n",
    "    # getting the table head because it may contains headings (column names)\n",
    "    html_thead = soup.find_all('thead')[0]\n",
    "\n",
    "    #getting all the rows in table head\n",
    "    html_tr = [tr for tr in html_thead.find_all('tr')]\n",
    "\n",
    "    # loop through table head\n",
    "    for tr in html_tr:\n",
    "        # getting all th\n",
    "        th = tr.find_all(['th'])\n",
    "        # storing all th value in row and removing white space\n",
    "        row = [i.text.strip() for i in th]\n",
    "        row.insert(1, 'Country')\n",
    "        # append headings \n",
    "        headings.append(row)\n",
    "    \n",
    "    # getting the table body\n",
    "    html_tbody = soup.find_all('tbody')[0]\n",
    "\n",
    "    #getting all the rows in table body\n",
    "    html_text = [tr for tr in html_tbody.find_all('tr')]\n",
    "\n",
    "\n",
    "    # loop through table body\n",
    "    for tr in html_text:\n",
    "        # getting all th, td\n",
    "        th = tr.find_all(['th','td'])\n",
    "        # storing all th value in row and removing white space\n",
    "        row = [i.text.strip() for i in th]\n",
    "        row.insert(1, country)\n",
    "        # append content\n",
    "        content.append(row)"
   ]
  },
  {
   "cell_type": "code",
   "execution_count": null,
   "metadata": {
    "ExecuteTime": {
     "start_time": "2020-08-14T16:12:13.580Z"
    }
   },
   "outputs": [],
   "source": [
    "base_url = 'https://www.worldometers.info'\n",
    "content = []\n",
    "\n",
    "for i in range(len(countries)):\n",
    "    headings = []\n",
    "    if type(urls[i]) == list:\n",
    "        url = base_url + urls[i][0]\n",
    "    else:\n",
    "        url = base_url + urls[i]\n",
    "    url_scrraper(url, countries[i])"
   ]
  },
  {
   "cell_type": "code",
   "execution_count": null,
   "metadata": {
    "ExecuteTime": {
     "start_time": "2020-08-14T16:12:23.146Z"
    }
   },
   "outputs": [],
   "source": [
    "# save contents in a dataframe\n",
    "data = pd.DataFrame(content[:], columns=headings[0])"
   ]
  },
  {
   "cell_type": "markdown",
   "metadata": {},
   "source": [
    "# Data Analysis"
   ]
  },
  {
   "cell_type": "markdown",
   "metadata": {},
   "source": [
    "## Look at Example Records"
   ]
  },
  {
   "cell_type": "code",
   "execution_count": null,
   "metadata": {
    "ExecuteTime": {
     "start_time": "2020-08-14T16:12:27.328Z"
    }
   },
   "outputs": [],
   "source": [
    "# check few top rows of data\n",
    "data.head()"
   ]
  },
  {
   "cell_type": "markdown",
   "metadata": {},
   "source": [
    "## Descriptive Statistics"
   ]
  },
  {
   "cell_type": "code",
   "execution_count": null,
   "metadata": {},
   "outputs": [],
   "source": [
    "# getting Generate descriptive statistics of data. Generate descriptive statistics include count, mean, std, min_value, 25%, 50%, 75%, max_value\n",
    "data.describe()"
   ]
  },
  {
   "cell_type": "markdown",
   "metadata": {},
   "source": [
    "## Summary of data-type, columns, non-null values, memory usage."
   ]
  },
  {
   "cell_type": "code",
   "execution_count": null,
   "metadata": {},
   "outputs": [],
   "source": [
    "# data info\n",
    "data.info()"
   ]
  },
  {
   "cell_type": "markdown",
   "metadata": {},
   "source": [
    "## Column labels"
   ]
  },
  {
   "cell_type": "code",
   "execution_count": null,
   "metadata": {},
   "outputs": [],
   "source": [
    "# get the column labels of the data.\n",
    "data.columns"
   ]
  },
  {
   "cell_type": "markdown",
   "metadata": {},
   "source": [
    "# Data Cleaning"
   ]
  },
  {
   "cell_type": "markdown",
   "metadata": {},
   "source": [
    "## Rename Column Name"
   ]
  },
  {
   "cell_type": "code",
   "execution_count": null,
   "metadata": {},
   "outputs": [],
   "source": [
    "# rename column name if required\n",
    "data = data.rename(columns={'First Column Name':'New Name', 'Second Column Name':'New Name'})"
   ]
  },
  {
   "cell_type": "markdown",
   "metadata": {},
   "source": [
    "## Remove unwanted symbols (like % and thousand comma from integer)"
   ]
  },
  {
   "cell_type": "code",
   "execution_count": null,
   "metadata": {},
   "outputs": [],
   "source": [
    "# remove extra characters from columns\n",
    "data['column name'] = data['column name'].str.replace('%','')\n",
    "data['column name'] = data['column name'].str.replace(',','')"
   ]
  },
  {
   "cell_type": "markdown",
   "metadata": {},
   "source": [
    "# Save Data into CSV"
   ]
  },
  {
   "cell_type": "code",
   "execution_count": null,
   "metadata": {},
   "outputs": [],
   "source": [
    "# save data\n",
    "data.to_csv('fileName.csv', index=False)"
   ]
  }
 ],
 "metadata": {
  "kernelspec": {
   "display_name": "Python 3",
   "language": "python",
   "name": "python3"
  },
  "language_info": {
   "codemirror_mode": {
    "name": "ipython",
    "version": 3
   },
   "file_extension": ".py",
   "mimetype": "text/x-python",
   "name": "python",
   "nbconvert_exporter": "python",
   "pygments_lexer": "ipython3",
   "version": "3.8.4"
  },
  "latex_envs": {
   "LaTeX_envs_menu_present": true,
   "autoclose": false,
   "autocomplete": true,
   "bibliofile": "biblio.bib",
   "cite_by": "apalike",
   "current_citInitial": 1,
   "eqLabelWithNumbers": true,
   "eqNumInitial": 1,
   "hotkeys": {
    "equation": "Ctrl-E",
    "itemize": "Ctrl-I"
   },
   "labels_anchors": false,
   "latex_user_defs": false,
   "report_style_numbering": false,
   "user_envs_cfg": false
  },
  "toc": {
   "base_numbering": 1,
   "nav_menu": {},
   "number_sections": true,
   "sideBar": true,
   "skip_h1_title": false,
   "title_cell": "Table of Contents",
   "title_sidebar": "Contents",
   "toc_cell": false,
   "toc_position": {},
   "toc_section_display": true,
   "toc_window_display": false
  },
  "varInspector": {
   "cols": {
    "lenName": 16,
    "lenType": 16,
    "lenVar": 40
   },
   "kernels_config": {
    "python": {
     "delete_cmd_postfix": "",
     "delete_cmd_prefix": "del ",
     "library": "var_list.py",
     "varRefreshCmd": "print(var_dic_list())"
    },
    "r": {
     "delete_cmd_postfix": ") ",
     "delete_cmd_prefix": "rm(",
     "library": "var_list.r",
     "varRefreshCmd": "cat(var_dic_list()) "
    }
   },
   "types_to_exclude": [
    "module",
    "function",
    "builtin_function_or_method",
    "instance",
    "_Feature"
   ],
   "window_display": false
  }
 },
 "nbformat": 4,
 "nbformat_minor": 4
}
