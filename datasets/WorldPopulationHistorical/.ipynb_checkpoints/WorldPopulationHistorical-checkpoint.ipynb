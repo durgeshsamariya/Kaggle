{
 "cells": [
  {
   "cell_type": "markdown",
   "metadata": {},
   "source": [
    "# Import Library"
   ]
  },
  {
   "cell_type": "code",
   "execution_count": 1,
   "metadata": {
    "ExecuteTime": {
     "end_time": "2020-07-29T12:08:44.448629Z",
     "start_time": "2020-07-29T12:08:43.071780Z"
    }
   },
   "outputs": [],
   "source": [
    "#import libraries\n",
    "\n",
    "import requests\n",
    "from bs4 import BeautifulSoup\n",
    "import pandas as pd\n",
    "import numpy as np"
   ]
  },
  {
   "cell_type": "code",
   "execution_count": 2,
   "metadata": {
    "ExecuteTime": {
     "end_time": "2020-07-29T12:08:44.461351Z",
     "start_time": "2020-07-29T12:08:44.454711Z"
    }
   },
   "outputs": [],
   "source": [
    "# URL\n",
    "URL = 'https://www.worldometers.info/world-population/world-population-by-year/'"
   ]
  },
  {
   "cell_type": "code",
   "execution_count": 3,
   "metadata": {
    "ExecuteTime": {
     "end_time": "2020-07-29T12:08:45.766832Z",
     "start_time": "2020-07-29T12:08:44.468590Z"
    }
   },
   "outputs": [
    {
     "data": {
      "text/plain": [
       "[['Year',\n",
       "  'World Population',\n",
       "  'YearlyChange',\n",
       "  'NetChange',\n",
       "  'Density(P/Km²)',\n",
       "  'UrbanPop',\n",
       "  'UrbanPop %']]"
      ]
     },
     "execution_count": 3,
     "metadata": {},
     "output_type": "execute_result"
    }
   ],
   "source": [
    "page = requests.get(URL)\n",
    "soup = BeautifulSoup(page.content, \"html.parser\")\n",
    "html_thead = soup.find_all('thead')[-1]\n",
    "html_th = [tr for tr in html_thead.find_all('tr')]\n",
    "\n",
    "headings = []\n",
    "\n",
    "for tr in html_th:\n",
    "    th = tr.find_all(['th'])\n",
    "    row = [i.text.strip() for i in th]\n",
    "    headings.append(row)\n",
    "    \n",
    "headings"
   ]
  },
  {
   "cell_type": "code",
   "execution_count": 4,
   "metadata": {
    "ExecuteTime": {
     "end_time": "2020-07-29T12:08:45.806551Z",
     "start_time": "2020-07-29T12:08:45.773130Z"
    }
   },
   "outputs": [],
   "source": [
    "html_tbody = soup.find_all('tbody')[-1]\n",
    "html_text = [tr for tr in html_tbody.find_all('tr')]\n",
    "\n",
    "content = []\n",
    "\n",
    "for tr in html_text:\n",
    "    th = tr.find_all(['th','td'])\n",
    "    #td = tr.find_all()\n",
    "    row = [i.text for i in th]\n",
    "    content.append(row)\n",
    "\n",
    "# content"
   ]
  },
  {
   "cell_type": "code",
   "execution_count": 5,
   "metadata": {
    "ExecuteTime": {
     "end_time": "2020-07-29T12:08:45.844347Z",
     "start_time": "2020-07-29T12:08:45.810672Z"
    }
   },
   "outputs": [
    {
     "data": {
      "text/html": [
       "<div>\n",
       "<style scoped>\n",
       "    .dataframe tbody tr th:only-of-type {\n",
       "        vertical-align: middle;\n",
       "    }\n",
       "\n",
       "    .dataframe tbody tr th {\n",
       "        vertical-align: top;\n",
       "    }\n",
       "\n",
       "    .dataframe thead th {\n",
       "        text-align: right;\n",
       "    }\n",
       "</style>\n",
       "<table border=\"1\" class=\"dataframe\">\n",
       "  <thead>\n",
       "    <tr style=\"text-align: right;\">\n",
       "      <th></th>\n",
       "      <th>Year</th>\n",
       "      <th>World Population</th>\n",
       "      <th>YearlyChange</th>\n",
       "      <th>NetChange</th>\n",
       "      <th>Density(P/Km²)</th>\n",
       "      <th>UrbanPop</th>\n",
       "      <th>UrbanPop %</th>\n",
       "    </tr>\n",
       "  </thead>\n",
       "  <tbody>\n",
       "    <tr>\n",
       "      <th>0</th>\n",
       "      <td>2020</td>\n",
       "      <td>7,794,798,739</td>\n",
       "      <td>1.05 %</td>\n",
       "      <td>81,330,639</td>\n",
       "      <td>52</td>\n",
       "      <td>4,378,993,944</td>\n",
       "      <td>56 %</td>\n",
       "    </tr>\n",
       "    <tr>\n",
       "      <th>1</th>\n",
       "      <td>2019</td>\n",
       "      <td>7,713,468,100</td>\n",
       "      <td>1.08 %</td>\n",
       "      <td>82,377,060</td>\n",
       "      <td>52</td>\n",
       "      <td>4,299,438,618</td>\n",
       "      <td>56 %</td>\n",
       "    </tr>\n",
       "    <tr>\n",
       "      <th>2</th>\n",
       "      <td>2018</td>\n",
       "      <td>7,631,091,040</td>\n",
       "      <td>1.10 %</td>\n",
       "      <td>83,232,115</td>\n",
       "      <td>51</td>\n",
       "      <td>4,219,817,318</td>\n",
       "      <td>55 %</td>\n",
       "    </tr>\n",
       "    <tr>\n",
       "      <th>3</th>\n",
       "      <td>2017</td>\n",
       "      <td>7,547,858,925</td>\n",
       "      <td>1.12 %</td>\n",
       "      <td>83,836,876</td>\n",
       "      <td>51</td>\n",
       "      <td>4,140,188,594</td>\n",
       "      <td>55 %</td>\n",
       "    </tr>\n",
       "    <tr>\n",
       "      <th>4</th>\n",
       "      <td>2016</td>\n",
       "      <td>7,464,022,049</td>\n",
       "      <td>1.14 %</td>\n",
       "      <td>84,224,910</td>\n",
       "      <td>50</td>\n",
       "      <td>4,060,652,683</td>\n",
       "      <td>54 %</td>\n",
       "    </tr>\n",
       "  </tbody>\n",
       "</table>\n",
       "</div>"
      ],
      "text/plain": [
       "   Year World Population YearlyChange   NetChange Density(P/Km²)  \\\n",
       "0  2020    7,794,798,739       1.05 %  81,330,639             52   \n",
       "1  2019    7,713,468,100       1.08 %  82,377,060             52   \n",
       "2  2018    7,631,091,040       1.10 %  83,232,115             51   \n",
       "3  2017    7,547,858,925       1.12 %  83,836,876             51   \n",
       "4  2016    7,464,022,049       1.14 %  84,224,910             50   \n",
       "\n",
       "        UrbanPop UrbanPop %  \n",
       "0  4,378,993,944       56 %  \n",
       "1  4,299,438,618       56 %  \n",
       "2  4,219,817,318       55 %  \n",
       "3  4,140,188,594       55 %  \n",
       "4  4,060,652,683       54 %  "
      ]
     },
     "execution_count": 5,
     "metadata": {},
     "output_type": "execute_result"
    }
   ],
   "source": [
    "data = pd.DataFrame(content[:], columns=headings[0])\n",
    "data.head()"
   ]
  },
  {
   "cell_type": "code",
   "execution_count": 6,
   "metadata": {
    "ExecuteTime": {
     "end_time": "2020-07-29T12:08:45.876894Z",
     "start_time": "2020-07-29T12:08:45.848995Z"
    }
   },
   "outputs": [
    {
     "name": "stdout",
     "output_type": "stream",
     "text": [
      "<class 'pandas.core.frame.DataFrame'>\n",
      "RangeIndex: 94 entries, 0 to 93\n",
      "Data columns (total 7 columns):\n",
      " #   Column            Non-Null Count  Dtype \n",
      "---  ------            --------------  ----- \n",
      " 0   Year              94 non-null     object\n",
      " 1   World Population  94 non-null     object\n",
      " 2   YearlyChange      94 non-null     object\n",
      " 3   NetChange         94 non-null     object\n",
      " 4   Density(P/Km²)    94 non-null     object\n",
      " 5   UrbanPop          94 non-null     object\n",
      " 6   UrbanPop %        94 non-null     object\n",
      "dtypes: object(7)\n",
      "memory usage: 5.3+ KB\n"
     ]
    }
   ],
   "source": [
    "data.info()"
   ]
  },
  {
   "cell_type": "code",
   "execution_count": 7,
   "metadata": {
    "ExecuteTime": {
     "end_time": "2020-07-29T12:08:45.895704Z",
     "start_time": "2020-07-29T12:08:45.882391Z"
    }
   },
   "outputs": [
    {
     "data": {
      "text/plain": [
       "Index(['Year', 'World Population', 'YearlyChange', 'NetChange',\n",
       "       'Density(P/Km²)', 'UrbanPop', 'UrbanPop %'],\n",
       "      dtype='object')"
      ]
     },
     "execution_count": 7,
     "metadata": {},
     "output_type": "execute_result"
    }
   ],
   "source": [
    "data.columns"
   ]
  },
  {
   "cell_type": "code",
   "execution_count": 8,
   "metadata": {
    "ExecuteTime": {
     "end_time": "2020-07-29T12:08:45.916303Z",
     "start_time": "2020-07-29T12:08:45.906231Z"
    }
   },
   "outputs": [],
   "source": [
    "data = data.rename(columns={\"World Population\": \"WorldPopulation\"})\n",
    "data = data.rename(columns={\"UrbanPop %\": \"UrbanPopPer\"})\n"
   ]
  },
  {
   "cell_type": "code",
   "execution_count": 9,
   "metadata": {
    "ExecuteTime": {
     "end_time": "2020-07-29T12:08:45.947474Z",
     "start_time": "2020-07-29T12:08:45.923144Z"
    }
   },
   "outputs": [
    {
     "data": {
      "text/html": [
       "<div>\n",
       "<style scoped>\n",
       "    .dataframe tbody tr th:only-of-type {\n",
       "        vertical-align: middle;\n",
       "    }\n",
       "\n",
       "    .dataframe tbody tr th {\n",
       "        vertical-align: top;\n",
       "    }\n",
       "\n",
       "    .dataframe thead th {\n",
       "        text-align: right;\n",
       "    }\n",
       "</style>\n",
       "<table border=\"1\" class=\"dataframe\">\n",
       "  <thead>\n",
       "    <tr style=\"text-align: right;\">\n",
       "      <th></th>\n",
       "      <th>Year</th>\n",
       "      <th>WorldPopulation</th>\n",
       "      <th>YearlyChange</th>\n",
       "      <th>NetChange</th>\n",
       "      <th>Density(P/Km²)</th>\n",
       "      <th>UrbanPop</th>\n",
       "      <th>UrbanPopPer</th>\n",
       "    </tr>\n",
       "  </thead>\n",
       "  <tbody>\n",
       "    <tr>\n",
       "      <th>0</th>\n",
       "      <td>2020</td>\n",
       "      <td>7,794,798,739</td>\n",
       "      <td>1.05 %</td>\n",
       "      <td>81,330,639</td>\n",
       "      <td>52</td>\n",
       "      <td>4,378,993,944</td>\n",
       "      <td>56 %</td>\n",
       "    </tr>\n",
       "    <tr>\n",
       "      <th>1</th>\n",
       "      <td>2019</td>\n",
       "      <td>7,713,468,100</td>\n",
       "      <td>1.08 %</td>\n",
       "      <td>82,377,060</td>\n",
       "      <td>52</td>\n",
       "      <td>4,299,438,618</td>\n",
       "      <td>56 %</td>\n",
       "    </tr>\n",
       "    <tr>\n",
       "      <th>2</th>\n",
       "      <td>2018</td>\n",
       "      <td>7,631,091,040</td>\n",
       "      <td>1.10 %</td>\n",
       "      <td>83,232,115</td>\n",
       "      <td>51</td>\n",
       "      <td>4,219,817,318</td>\n",
       "      <td>55 %</td>\n",
       "    </tr>\n",
       "    <tr>\n",
       "      <th>3</th>\n",
       "      <td>2017</td>\n",
       "      <td>7,547,858,925</td>\n",
       "      <td>1.12 %</td>\n",
       "      <td>83,836,876</td>\n",
       "      <td>51</td>\n",
       "      <td>4,140,188,594</td>\n",
       "      <td>55 %</td>\n",
       "    </tr>\n",
       "    <tr>\n",
       "      <th>4</th>\n",
       "      <td>2016</td>\n",
       "      <td>7,464,022,049</td>\n",
       "      <td>1.14 %</td>\n",
       "      <td>84,224,910</td>\n",
       "      <td>50</td>\n",
       "      <td>4,060,652,683</td>\n",
       "      <td>54 %</td>\n",
       "    </tr>\n",
       "  </tbody>\n",
       "</table>\n",
       "</div>"
      ],
      "text/plain": [
       "   Year WorldPopulation YearlyChange   NetChange Density(P/Km²)  \\\n",
       "0  2020   7,794,798,739       1.05 %  81,330,639             52   \n",
       "1  2019   7,713,468,100       1.08 %  82,377,060             52   \n",
       "2  2018   7,631,091,040       1.10 %  83,232,115             51   \n",
       "3  2017   7,547,858,925       1.12 %  83,836,876             51   \n",
       "4  2016   7,464,022,049       1.14 %  84,224,910             50   \n",
       "\n",
       "        UrbanPop UrbanPopPer  \n",
       "0  4,378,993,944        56 %  \n",
       "1  4,299,438,618        56 %  \n",
       "2  4,219,817,318        55 %  \n",
       "3  4,140,188,594        55 %  \n",
       "4  4,060,652,683        54 %  "
      ]
     },
     "execution_count": 9,
     "metadata": {},
     "output_type": "execute_result"
    }
   ],
   "source": [
    "data.head()"
   ]
  },
  {
   "cell_type": "code",
   "execution_count": 10,
   "metadata": {
    "ExecuteTime": {
     "end_time": "2020-07-29T12:08:45.992937Z",
     "start_time": "2020-07-29T12:08:45.953047Z"
    }
   },
   "outputs": [
    {
     "data": {
      "text/html": [
       "<div>\n",
       "<style scoped>\n",
       "    .dataframe tbody tr th:only-of-type {\n",
       "        vertical-align: middle;\n",
       "    }\n",
       "\n",
       "    .dataframe tbody tr th {\n",
       "        vertical-align: top;\n",
       "    }\n",
       "\n",
       "    .dataframe thead th {\n",
       "        text-align: right;\n",
       "    }\n",
       "</style>\n",
       "<table border=\"1\" class=\"dataframe\">\n",
       "  <thead>\n",
       "    <tr style=\"text-align: right;\">\n",
       "      <th></th>\n",
       "      <th>Year</th>\n",
       "      <th>WorldPopulation</th>\n",
       "      <th>YearlyChange</th>\n",
       "      <th>NetChange</th>\n",
       "      <th>Density(P/Km²)</th>\n",
       "      <th>UrbanPop</th>\n",
       "      <th>UrbanPopPer</th>\n",
       "    </tr>\n",
       "  </thead>\n",
       "  <tbody>\n",
       "    <tr>\n",
       "      <th>84</th>\n",
       "      <td>700</td>\n",
       "      <td>210,000,000</td>\n",
       "      <td></td>\n",
       "      <td></td>\n",
       "      <td></td>\n",
       "      <td></td>\n",
       "      <td></td>\n",
       "    </tr>\n",
       "    <tr>\n",
       "      <th>85</th>\n",
       "      <td>600</td>\n",
       "      <td>200,000,000</td>\n",
       "      <td></td>\n",
       "      <td></td>\n",
       "      <td></td>\n",
       "      <td></td>\n",
       "      <td></td>\n",
       "    </tr>\n",
       "    <tr>\n",
       "      <th>86</th>\n",
       "      <td>200</td>\n",
       "      <td>190,000,000</td>\n",
       "      <td></td>\n",
       "      <td></td>\n",
       "      <td></td>\n",
       "      <td></td>\n",
       "      <td></td>\n",
       "    </tr>\n",
       "    <tr>\n",
       "      <th>87</th>\n",
       "      <td>-200</td>\n",
       "      <td>150,000,000</td>\n",
       "      <td></td>\n",
       "      <td></td>\n",
       "      <td></td>\n",
       "      <td></td>\n",
       "      <td></td>\n",
       "    </tr>\n",
       "    <tr>\n",
       "      <th>88</th>\n",
       "      <td>-500</td>\n",
       "      <td>100,000,000</td>\n",
       "      <td></td>\n",
       "      <td></td>\n",
       "      <td></td>\n",
       "      <td></td>\n",
       "      <td></td>\n",
       "    </tr>\n",
       "    <tr>\n",
       "      <th>89</th>\n",
       "      <td>-1000</td>\n",
       "      <td>50,000,000</td>\n",
       "      <td></td>\n",
       "      <td></td>\n",
       "      <td></td>\n",
       "      <td></td>\n",
       "      <td></td>\n",
       "    </tr>\n",
       "    <tr>\n",
       "      <th>90</th>\n",
       "      <td>-2000</td>\n",
       "      <td>27,000,000</td>\n",
       "      <td></td>\n",
       "      <td></td>\n",
       "      <td></td>\n",
       "      <td></td>\n",
       "      <td></td>\n",
       "    </tr>\n",
       "    <tr>\n",
       "      <th>91</th>\n",
       "      <td>-3000</td>\n",
       "      <td>14,000,000</td>\n",
       "      <td></td>\n",
       "      <td></td>\n",
       "      <td></td>\n",
       "      <td></td>\n",
       "      <td></td>\n",
       "    </tr>\n",
       "    <tr>\n",
       "      <th>92</th>\n",
       "      <td>-4000</td>\n",
       "      <td>7,000,000</td>\n",
       "      <td></td>\n",
       "      <td></td>\n",
       "      <td></td>\n",
       "      <td></td>\n",
       "      <td></td>\n",
       "    </tr>\n",
       "    <tr>\n",
       "      <th>93</th>\n",
       "      <td>-5000</td>\n",
       "      <td>5,000,000</td>\n",
       "      <td></td>\n",
       "      <td></td>\n",
       "      <td></td>\n",
       "      <td></td>\n",
       "      <td></td>\n",
       "    </tr>\n",
       "  </tbody>\n",
       "</table>\n",
       "</div>"
      ],
      "text/plain": [
       "     Year WorldPopulation YearlyChange NetChange Density(P/Km²) UrbanPop  \\\n",
       "84    700     210,000,000                                                  \n",
       "85    600     200,000,000                                                  \n",
       "86    200     190,000,000                                                  \n",
       "87   -200     150,000,000                                                  \n",
       "88   -500     100,000,000                                                  \n",
       "89  -1000      50,000,000                                                  \n",
       "90  -2000      27,000,000                                                  \n",
       "91  -3000      14,000,000                                                  \n",
       "92  -4000       7,000,000                                                  \n",
       "93  -5000       5,000,000                                                  \n",
       "\n",
       "   UrbanPopPer  \n",
       "84              \n",
       "85              \n",
       "86              \n",
       "87              \n",
       "88              \n",
       "89              \n",
       "90              \n",
       "91              \n",
       "92              \n",
       "93              "
      ]
     },
     "execution_count": 10,
     "metadata": {},
     "output_type": "execute_result"
    }
   ],
   "source": [
    "data.tail(10)"
   ]
  },
  {
   "cell_type": "markdown",
   "metadata": {},
   "source": [
    "# Data Cleaning\n",
    "As we can see that from index 70 to 93 we have only population data. Thus I am removing all rows from 70 to 93."
   ]
  },
  {
   "cell_type": "code",
   "execution_count": 11,
   "metadata": {
    "ExecuteTime": {
     "end_time": "2020-07-29T12:08:46.012714Z",
     "start_time": "2020-07-29T12:08:45.998026Z"
    }
   },
   "outputs": [],
   "source": [
    "population = data.loc[0:69]"
   ]
  },
  {
   "cell_type": "code",
   "execution_count": 12,
   "metadata": {
    "ExecuteTime": {
     "end_time": "2020-07-29T12:08:46.041239Z",
     "start_time": "2020-07-29T12:08:46.018491Z"
    }
   },
   "outputs": [
    {
     "data": {
      "text/html": [
       "<div>\n",
       "<style scoped>\n",
       "    .dataframe tbody tr th:only-of-type {\n",
       "        vertical-align: middle;\n",
       "    }\n",
       "\n",
       "    .dataframe tbody tr th {\n",
       "        vertical-align: top;\n",
       "    }\n",
       "\n",
       "    .dataframe thead th {\n",
       "        text-align: right;\n",
       "    }\n",
       "</style>\n",
       "<table border=\"1\" class=\"dataframe\">\n",
       "  <thead>\n",
       "    <tr style=\"text-align: right;\">\n",
       "      <th></th>\n",
       "      <th>Year</th>\n",
       "      <th>WorldPopulation</th>\n",
       "      <th>YearlyChange</th>\n",
       "      <th>NetChange</th>\n",
       "      <th>Density(P/Km²)</th>\n",
       "      <th>UrbanPop</th>\n",
       "      <th>UrbanPopPer</th>\n",
       "    </tr>\n",
       "  </thead>\n",
       "  <tbody>\n",
       "    <tr>\n",
       "      <th>0</th>\n",
       "      <td>2020</td>\n",
       "      <td>7,794,798,739</td>\n",
       "      <td>1.05 %</td>\n",
       "      <td>81,330,639</td>\n",
       "      <td>52</td>\n",
       "      <td>4,378,993,944</td>\n",
       "      <td>56 %</td>\n",
       "    </tr>\n",
       "    <tr>\n",
       "      <th>1</th>\n",
       "      <td>2019</td>\n",
       "      <td>7,713,468,100</td>\n",
       "      <td>1.08 %</td>\n",
       "      <td>82,377,060</td>\n",
       "      <td>52</td>\n",
       "      <td>4,299,438,618</td>\n",
       "      <td>56 %</td>\n",
       "    </tr>\n",
       "    <tr>\n",
       "      <th>2</th>\n",
       "      <td>2018</td>\n",
       "      <td>7,631,091,040</td>\n",
       "      <td>1.10 %</td>\n",
       "      <td>83,232,115</td>\n",
       "      <td>51</td>\n",
       "      <td>4,219,817,318</td>\n",
       "      <td>55 %</td>\n",
       "    </tr>\n",
       "    <tr>\n",
       "      <th>3</th>\n",
       "      <td>2017</td>\n",
       "      <td>7,547,858,925</td>\n",
       "      <td>1.12 %</td>\n",
       "      <td>83,836,876</td>\n",
       "      <td>51</td>\n",
       "      <td>4,140,188,594</td>\n",
       "      <td>55 %</td>\n",
       "    </tr>\n",
       "    <tr>\n",
       "      <th>4</th>\n",
       "      <td>2016</td>\n",
       "      <td>7,464,022,049</td>\n",
       "      <td>1.14 %</td>\n",
       "      <td>84,224,910</td>\n",
       "      <td>50</td>\n",
       "      <td>4,060,652,683</td>\n",
       "      <td>54 %</td>\n",
       "    </tr>\n",
       "  </tbody>\n",
       "</table>\n",
       "</div>"
      ],
      "text/plain": [
       "   Year WorldPopulation YearlyChange   NetChange Density(P/Km²)  \\\n",
       "0  2020   7,794,798,739       1.05 %  81,330,639             52   \n",
       "1  2019   7,713,468,100       1.08 %  82,377,060             52   \n",
       "2  2018   7,631,091,040       1.10 %  83,232,115             51   \n",
       "3  2017   7,547,858,925       1.12 %  83,836,876             51   \n",
       "4  2016   7,464,022,049       1.14 %  84,224,910             50   \n",
       "\n",
       "        UrbanPop UrbanPopPer  \n",
       "0  4,378,993,944        56 %  \n",
       "1  4,299,438,618        56 %  \n",
       "2  4,219,817,318        55 %  \n",
       "3  4,140,188,594        55 %  \n",
       "4  4,060,652,683        54 %  "
      ]
     },
     "execution_count": 12,
     "metadata": {},
     "output_type": "execute_result"
    }
   ],
   "source": [
    "population.head()"
   ]
  },
  {
   "cell_type": "markdown",
   "metadata": {},
   "source": [
    "Now we have data with out null value. However, our data needs to be cleand as data have comma(,) and percentage(%) sign in it. Lets remove all this signs."
   ]
  },
  {
   "cell_type": "code",
   "execution_count": 13,
   "metadata": {
    "ExecuteTime": {
     "end_time": "2020-07-29T12:08:46.080766Z",
     "start_time": "2020-07-29T12:08:46.050385Z"
    }
   },
   "outputs": [
    {
     "name": "stderr",
     "output_type": "stream",
     "text": [
      "<ipython-input-13-144af678162a>:2: SettingWithCopyWarning: \n",
      "A value is trying to be set on a copy of a slice from a DataFrame.\n",
      "Try using .loc[row_indexer,col_indexer] = value instead\n",
      "\n",
      "See the caveats in the documentation: https://pandas.pydata.org/pandas-docs/stable/user_guide/indexing.html#returning-a-view-versus-a-copy\n",
      "  population['WorldPopulation'] = data.WorldPopulation.apply(lambda x: x.replace(',',''))\n",
      "<ipython-input-13-144af678162a>:3: SettingWithCopyWarning: \n",
      "A value is trying to be set on a copy of a slice from a DataFrame.\n",
      "Try using .loc[row_indexer,col_indexer] = value instead\n",
      "\n",
      "See the caveats in the documentation: https://pandas.pydata.org/pandas-docs/stable/user_guide/indexing.html#returning-a-view-versus-a-copy\n",
      "  population['UrbanPop'] = data.UrbanPop.apply(lambda x: x.replace(',',''))\n",
      "<ipython-input-13-144af678162a>:4: SettingWithCopyWarning: \n",
      "A value is trying to be set on a copy of a slice from a DataFrame.\n",
      "Try using .loc[row_indexer,col_indexer] = value instead\n",
      "\n",
      "See the caveats in the documentation: https://pandas.pydata.org/pandas-docs/stable/user_guide/indexing.html#returning-a-view-versus-a-copy\n",
      "  population['NetChange'] = data.NetChange.apply(lambda x: x.replace(',',''))\n",
      "<ipython-input-13-144af678162a>:7: SettingWithCopyWarning: \n",
      "A value is trying to be set on a copy of a slice from a DataFrame.\n",
      "Try using .loc[row_indexer,col_indexer] = value instead\n",
      "\n",
      "See the caveats in the documentation: https://pandas.pydata.org/pandas-docs/stable/user_guide/indexing.html#returning-a-view-versus-a-copy\n",
      "  population['YearlyChange'] = data.YearlyChange.apply(lambda x: x.replace('%',''))\n",
      "<ipython-input-13-144af678162a>:8: SettingWithCopyWarning: \n",
      "A value is trying to be set on a copy of a slice from a DataFrame.\n",
      "Try using .loc[row_indexer,col_indexer] = value instead\n",
      "\n",
      "See the caveats in the documentation: https://pandas.pydata.org/pandas-docs/stable/user_guide/indexing.html#returning-a-view-versus-a-copy\n",
      "  population['UrbanPopPer'] = data.UrbanPopPer.apply(lambda x: x.replace('%',''))\n"
     ]
    }
   ],
   "source": [
    "# replace thousand format to integer\n",
    "population['WorldPopulation'] = data.WorldPopulation.apply(lambda x: x.replace(',',''))\n",
    "population['UrbanPop'] = data.UrbanPop.apply(lambda x: x.replace(',',''))\n",
    "population['NetChange'] = data.NetChange.apply(lambda x: x.replace(',',''))\n",
    "\n",
    "# replace % sign\n",
    "population['YearlyChange'] = data.YearlyChange.apply(lambda x: x.replace('%',''))\n",
    "population['UrbanPopPer'] = data.UrbanPopPer.apply(lambda x: x.replace('%',''))\n"
   ]
  },
  {
   "cell_type": "code",
   "execution_count": 14,
   "metadata": {
    "ExecuteTime": {
     "end_time": "2020-07-29T12:08:46.109727Z",
     "start_time": "2020-07-29T12:08:46.086145Z"
    }
   },
   "outputs": [
    {
     "data": {
      "text/html": [
       "<div>\n",
       "<style scoped>\n",
       "    .dataframe tbody tr th:only-of-type {\n",
       "        vertical-align: middle;\n",
       "    }\n",
       "\n",
       "    .dataframe tbody tr th {\n",
       "        vertical-align: top;\n",
       "    }\n",
       "\n",
       "    .dataframe thead th {\n",
       "        text-align: right;\n",
       "    }\n",
       "</style>\n",
       "<table border=\"1\" class=\"dataframe\">\n",
       "  <thead>\n",
       "    <tr style=\"text-align: right;\">\n",
       "      <th></th>\n",
       "      <th>Year</th>\n",
       "      <th>WorldPopulation</th>\n",
       "      <th>YearlyChange</th>\n",
       "      <th>NetChange</th>\n",
       "      <th>Density(P/Km²)</th>\n",
       "      <th>UrbanPop</th>\n",
       "      <th>UrbanPopPer</th>\n",
       "    </tr>\n",
       "  </thead>\n",
       "  <tbody>\n",
       "    <tr>\n",
       "      <th>0</th>\n",
       "      <td>2020</td>\n",
       "      <td>7794798739</td>\n",
       "      <td>1.05</td>\n",
       "      <td>81330639</td>\n",
       "      <td>52</td>\n",
       "      <td>4378993944</td>\n",
       "      <td>56</td>\n",
       "    </tr>\n",
       "    <tr>\n",
       "      <th>1</th>\n",
       "      <td>2019</td>\n",
       "      <td>7713468100</td>\n",
       "      <td>1.08</td>\n",
       "      <td>82377060</td>\n",
       "      <td>52</td>\n",
       "      <td>4299438618</td>\n",
       "      <td>56</td>\n",
       "    </tr>\n",
       "    <tr>\n",
       "      <th>2</th>\n",
       "      <td>2018</td>\n",
       "      <td>7631091040</td>\n",
       "      <td>1.10</td>\n",
       "      <td>83232115</td>\n",
       "      <td>51</td>\n",
       "      <td>4219817318</td>\n",
       "      <td>55</td>\n",
       "    </tr>\n",
       "    <tr>\n",
       "      <th>3</th>\n",
       "      <td>2017</td>\n",
       "      <td>7547858925</td>\n",
       "      <td>1.12</td>\n",
       "      <td>83836876</td>\n",
       "      <td>51</td>\n",
       "      <td>4140188594</td>\n",
       "      <td>55</td>\n",
       "    </tr>\n",
       "    <tr>\n",
       "      <th>4</th>\n",
       "      <td>2016</td>\n",
       "      <td>7464022049</td>\n",
       "      <td>1.14</td>\n",
       "      <td>84224910</td>\n",
       "      <td>50</td>\n",
       "      <td>4060652683</td>\n",
       "      <td>54</td>\n",
       "    </tr>\n",
       "  </tbody>\n",
       "</table>\n",
       "</div>"
      ],
      "text/plain": [
       "   Year WorldPopulation YearlyChange NetChange Density(P/Km²)    UrbanPop  \\\n",
       "0  2020      7794798739        1.05   81330639             52  4378993944   \n",
       "1  2019      7713468100        1.08   82377060             52  4299438618   \n",
       "2  2018      7631091040        1.10   83232115             51  4219817318   \n",
       "3  2017      7547858925        1.12   83836876             51  4140188594   \n",
       "4  2016      7464022049        1.14   84224910             50  4060652683   \n",
       "\n",
       "  UrbanPopPer  \n",
       "0         56   \n",
       "1         56   \n",
       "2         55   \n",
       "3         55   \n",
       "4         54   "
      ]
     },
     "execution_count": 14,
     "metadata": {},
     "output_type": "execute_result"
    }
   ],
   "source": [
    "population.head()"
   ]
  },
  {
   "cell_type": "code",
   "execution_count": 15,
   "metadata": {
    "ExecuteTime": {
     "end_time": "2020-07-29T12:08:46.124295Z",
     "start_time": "2020-07-29T12:08:46.113013Z"
    }
   },
   "outputs": [],
   "source": [
    "data.to_csv('WorldPopulation.csv', index=False)"
   ]
  },
  {
   "cell_type": "code",
   "execution_count": null,
   "metadata": {},
   "outputs": [],
   "source": []
  }
 ],
 "metadata": {
  "kernelspec": {
   "display_name": "Python 3",
   "language": "python",
   "name": "python3"
  },
  "language_info": {
   "codemirror_mode": {
    "name": "ipython",
    "version": 3
   },
   "file_extension": ".py",
   "mimetype": "text/x-python",
   "name": "python",
   "nbconvert_exporter": "python",
   "pygments_lexer": "ipython3",
   "version": "3.8.4"
  },
  "latex_envs": {
   "LaTeX_envs_menu_present": true,
   "autoclose": false,
   "autocomplete": true,
   "bibliofile": "biblio.bib",
   "cite_by": "apalike",
   "current_citInitial": 1,
   "eqLabelWithNumbers": true,
   "eqNumInitial": 1,
   "hotkeys": {
    "equation": "Ctrl-E",
    "itemize": "Ctrl-I"
   },
   "labels_anchors": false,
   "latex_user_defs": false,
   "report_style_numbering": false,
   "user_envs_cfg": false
  },
  "toc": {
   "base_numbering": 1,
   "nav_menu": {},
   "number_sections": true,
   "sideBar": true,
   "skip_h1_title": false,
   "title_cell": "Table of Contents",
   "title_sidebar": "Contents",
   "toc_cell": false,
   "toc_position": {},
   "toc_section_display": true,
   "toc_window_display": false
  },
  "varInspector": {
   "cols": {
    "lenName": 16,
    "lenType": 16,
    "lenVar": 40
   },
   "kernels_config": {
    "python": {
     "delete_cmd_postfix": "",
     "delete_cmd_prefix": "del ",
     "library": "var_list.py",
     "varRefreshCmd": "print(var_dic_list())"
    },
    "r": {
     "delete_cmd_postfix": ") ",
     "delete_cmd_prefix": "rm(",
     "library": "var_list.r",
     "varRefreshCmd": "cat(var_dic_list()) "
    }
   },
   "types_to_exclude": [
    "module",
    "function",
    "builtin_function_or_method",
    "instance",
    "_Feature"
   ],
   "window_display": false
  }
 },
 "nbformat": 4,
 "nbformat_minor": 4
}
