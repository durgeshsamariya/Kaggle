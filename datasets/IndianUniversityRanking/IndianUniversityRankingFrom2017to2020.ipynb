{
 "cells": [
  {
   "cell_type": "markdown",
   "metadata": {},
   "source": [
    "# Import Libraries\n",
    "Importing libraries are necessary for any project.\n",
    "We're going to import commonly used Webscrapping and Data Analysis libraries. Make sure all libraries are installed."
   ]
  },
  {
   "cell_type": "code",
   "execution_count": 1,
   "metadata": {
    "ExecuteTime": {
     "end_time": "2020-08-09T06:18:08.208310Z",
     "start_time": "2020-08-09T06:18:06.778479Z"
    }
   },
   "outputs": [],
   "source": [
    "import requests # for getting web contents\n",
    "from bs4 import BeautifulSoup # for scraping web contents\n",
    "import pandas as pd # for data analysis\n",
    "from datetime import datetime # for datatime"
   ]
  },
  {
   "cell_type": "markdown",
   "metadata": {},
   "source": [
    "# URL\n",
    "For web scrapping it's important to have url."
   ]
  },
  {
   "cell_type": "code",
   "execution_count": 2,
   "metadata": {
    "ExecuteTime": {
     "end_time": "2020-08-09T06:18:12.645538Z",
     "start_time": "2020-08-09T06:18:08.213463Z"
    }
   },
   "outputs": [
    {
     "name": "stdout",
     "output_type": "stream",
     "text": [
      "[['Institute ID', 'Name', 'City', 'State', 'PR Score', 'PR Rank', 'Score', 'Year', 'Rank']]\n",
      "[['Institute ID', 'Name', 'City', 'State', 'PR Score', 'PR Rank', 'Score', 'Year', 'Rank']]\n",
      "[['Institute ID', 'Name', 'City', 'State', 'PR Score', 'PR Rank', 'Score', 'Year', 'Rank']]\n",
      "[['Institute ID', 'Name', 'City', 'State', 'PR Score', 'PR Rank', 'Score', 'Year', 'Rank']]\n"
     ]
    }
   ],
   "source": [
    "# link from where you want to scrap data\n",
    "years = [2017, 2018, 2019, 2020]\n",
    "\n",
    "content = []\n",
    "\n",
    "for year in years:\n",
    "    URL = 'https://www.nirfindia.org/' + str(year) + '/UniversityRanking.html'\n",
    "\n",
    "    # get web data\n",
    "    page = requests.get(URL)\n",
    "\n",
    "    # parse web data\n",
    "    soup = BeautifulSoup(page.content, \"html.parser\")\n",
    "    \n",
    "    # find the table\n",
    "    # our trageted table is last\n",
    "\n",
    "    # getting the table head because it may contains headings (column names)\n",
    "    html_thead = soup.find_all('thead')[-1]\n",
    "\n",
    "    #getting all the rows in table head\n",
    "    html_tr = [tr for tr in html_thead.find_all('tr')]\n",
    "\n",
    "    # list to store all table headings\n",
    "    headings = []\n",
    "\n",
    "    # loop through table head\n",
    "    for tr in html_tr:\n",
    "        # getting all th\n",
    "        th = tr.find_all(['th'])\n",
    "        # storing all th value in row and removing white space\n",
    "        row = [i.text.strip() for i in th]\n",
    "        row.insert(-1, 'Year')\n",
    "        # append headings \n",
    "        headings.append(row)\n",
    "    \n",
    "    # print heading\n",
    "    print(headings)\n",
    "    \n",
    "    # getting the table body\n",
    "    html_tbody = soup.find_all('tbody')[-1]\n",
    "\n",
    "    #getting all the rows in table body\n",
    "    html_text = [tr for tr in html_tbody.find_all('tr')]    \n",
    "\n",
    "    # loop through table body\n",
    "    for tr in html_text:\n",
    "    # getting all th, td\n",
    "        th = tr.find_all(['th','td'])\n",
    "        # storing all th value in row and removing white space\n",
    "        row = [i.text.strip() for i in th]\n",
    "        row.insert(-1, year)\n",
    "        # append content \n",
    "        content.append(row)  "
   ]
  },
  {
   "cell_type": "code",
   "execution_count": 3,
   "metadata": {
    "ExecuteTime": {
     "end_time": "2020-08-09T06:18:12.683663Z",
     "start_time": "2020-08-09T06:18:12.662433Z"
    }
   },
   "outputs": [
    {
     "data": {
      "text/plain": [
       "400"
      ]
     },
     "execution_count": 3,
     "metadata": {},
     "output_type": "execute_result"
    }
   ],
   "source": [
    "len(content)"
   ]
  },
  {
   "cell_type": "code",
   "execution_count": 4,
   "metadata": {
    "ExecuteTime": {
     "end_time": "2020-08-09T06:18:12.705546Z",
     "start_time": "2020-08-09T06:18:12.693401Z"
    }
   },
   "outputs": [],
   "source": [
    "# save contents in a dataframe\n",
    "data = pd.DataFrame(content[:], columns=headings[0])"
   ]
  },
  {
   "cell_type": "markdown",
   "metadata": {},
   "source": [
    "# Data Analysis"
   ]
  },
  {
   "cell_type": "markdown",
   "metadata": {},
   "source": [
    "## Look at Data and Example Records"
   ]
  },
  {
   "cell_type": "code",
   "execution_count": 5,
   "metadata": {
    "ExecuteTime": {
     "end_time": "2020-08-09T06:18:12.792182Z",
     "start_time": "2020-08-09T06:18:12.712508Z"
    }
   },
   "outputs": [
    {
     "data": {
      "text/html": [
       "<div>\n",
       "<style scoped>\n",
       "    .dataframe tbody tr th:only-of-type {\n",
       "        vertical-align: middle;\n",
       "    }\n",
       "\n",
       "    .dataframe tbody tr th {\n",
       "        vertical-align: top;\n",
       "    }\n",
       "\n",
       "    .dataframe thead th {\n",
       "        text-align: right;\n",
       "    }\n",
       "</style>\n",
       "<table border=\"1\" class=\"dataframe\">\n",
       "  <thead>\n",
       "    <tr style=\"text-align: right;\">\n",
       "      <th></th>\n",
       "      <th>Institute ID</th>\n",
       "      <th>Name</th>\n",
       "      <th>City</th>\n",
       "      <th>State</th>\n",
       "      <th>PR Score</th>\n",
       "      <th>PR Rank</th>\n",
       "      <th>Score</th>\n",
       "      <th>Year</th>\n",
       "      <th>Rank</th>\n",
       "    </tr>\n",
       "  </thead>\n",
       "  <tbody>\n",
       "    <tr>\n",
       "      <th>0</th>\n",
       "      <td>IR17-I-2-18243</td>\n",
       "      <td>Indian Institute of Science Bangalore</td>\n",
       "      <td>Bengaluru</td>\n",
       "      <td>Karnataka</td>\n",
       "      <td>83.33</td>\n",
       "      <td>1</td>\n",
       "      <td>83.28</td>\n",
       "      <td>2017</td>\n",
       "      <td>1</td>\n",
       "    </tr>\n",
       "    <tr>\n",
       "      <th>1</th>\n",
       "      <td>IR17-I-2-1-319</td>\n",
       "      <td>Jawaharlal Nehru University</td>\n",
       "      <td>New Delhi</td>\n",
       "      <td>Delhi</td>\n",
       "      <td>47.27</td>\n",
       "      <td>3</td>\n",
       "      <td>61.53</td>\n",
       "      <td>2017</td>\n",
       "      <td>2</td>\n",
       "    </tr>\n",
       "    <tr>\n",
       "      <th>2</th>\n",
       "      <td>IR17-I-2-18500</td>\n",
       "      <td>Banaras Hindu University</td>\n",
       "      <td>Varanasi</td>\n",
       "      <td>Uttar Pradesh</td>\n",
       "      <td>44.01</td>\n",
       "      <td>4</td>\n",
       "      <td>58.92</td>\n",
       "      <td>2017</td>\n",
       "      <td>3</td>\n",
       "    </tr>\n",
       "    <tr>\n",
       "      <th>3</th>\n",
       "      <td>IR17-I-2-30673</td>\n",
       "      <td>Jawaharlal Nehru Centre for Advanced Scientifi...</td>\n",
       "      <td>Bengaluru</td>\n",
       "      <td>Karnataka</td>\n",
       "      <td>6.92</td>\n",
       "      <td>55</td>\n",
       "      <td>58.25</td>\n",
       "      <td>2017</td>\n",
       "      <td>4</td>\n",
       "    </tr>\n",
       "    <tr>\n",
       "      <th>4</th>\n",
       "      <td>IR17-I-2-10326</td>\n",
       "      <td>Jadavpur University</td>\n",
       "      <td>Kolkata</td>\n",
       "      <td>West Bengal</td>\n",
       "      <td>28.81</td>\n",
       "      <td>9</td>\n",
       "      <td>57.32</td>\n",
       "      <td>2017</td>\n",
       "      <td>5</td>\n",
       "    </tr>\n",
       "    <tr>\n",
       "      <th>...</th>\n",
       "      <td>...</td>\n",
       "      <td>...</td>\n",
       "      <td>...</td>\n",
       "      <td>...</td>\n",
       "      <td>...</td>\n",
       "      <td>...</td>\n",
       "      <td>...</td>\n",
       "      <td>...</td>\n",
       "      <td>...</td>\n",
       "    </tr>\n",
       "    <tr>\n",
       "      <th>395</th>\n",
       "      <td>IR-O-U-0366</td>\n",
       "      <td>Utkal University</td>\n",
       "      <td>Bhubaneswar</td>\n",
       "      <td>Odisha</td>\n",
       "      <td>39.00</td>\n",
       "      <td>20</td>\n",
       "      <td>40.05</td>\n",
       "      <td>2020</td>\n",
       "      <td>96</td>\n",
       "    </tr>\n",
       "    <tr>\n",
       "      <th>396</th>\n",
       "      <td>IR-O-U-0555</td>\n",
       "      <td>Graphic Era University</td>\n",
       "      <td>Dehradun</td>\n",
       "      <td>Uttarakhand</td>\n",
       "      <td>26.73</td>\n",
       "      <td>64</td>\n",
       "      <td>40.04</td>\n",
       "      <td>2020</td>\n",
       "      <td>97</td>\n",
       "    </tr>\n",
       "    <tr>\n",
       "      <th>397</th>\n",
       "      <td>IR-O-U-0451</td>\n",
       "      <td>Chettinad Academy of Research and Education</td>\n",
       "      <td>Kanchipuram District</td>\n",
       "      <td>Tamil Nadu</td>\n",
       "      <td>18.74</td>\n",
       "      <td>129</td>\n",
       "      <td>39.97</td>\n",
       "      <td>2020</td>\n",
       "      <td>98</td>\n",
       "    </tr>\n",
       "    <tr>\n",
       "      <th>398</th>\n",
       "      <td>IR-O-U-0164</td>\n",
       "      <td>Kurukshetra University</td>\n",
       "      <td>Kurukshetra</td>\n",
       "      <td>Haryana</td>\n",
       "      <td>33.21</td>\n",
       "      <td>37</td>\n",
       "      <td>39.79</td>\n",
       "      <td>2020</td>\n",
       "      <td>99</td>\n",
       "    </tr>\n",
       "    <tr>\n",
       "      <th>399</th>\n",
       "      <td>IR-O-U-0043</td>\n",
       "      <td>Vignan's Foundation for Science, Technology &amp; ...</td>\n",
       "      <td>Guntur</td>\n",
       "      <td>Andhra Pradesh</td>\n",
       "      <td>20.52</td>\n",
       "      <td>100</td>\n",
       "      <td>39.71</td>\n",
       "      <td>2020</td>\n",
       "      <td>100</td>\n",
       "    </tr>\n",
       "  </tbody>\n",
       "</table>\n",
       "<p>400 rows × 9 columns</p>\n",
       "</div>"
      ],
      "text/plain": [
       "       Institute ID                                               Name  \\\n",
       "0    IR17-I-2-18243              Indian Institute of Science Bangalore   \n",
       "1    IR17-I-2-1-319                        Jawaharlal Nehru University   \n",
       "2    IR17-I-2-18500                           Banaras Hindu University   \n",
       "3    IR17-I-2-30673  Jawaharlal Nehru Centre for Advanced Scientifi...   \n",
       "4    IR17-I-2-10326                                Jadavpur University   \n",
       "..              ...                                                ...   \n",
       "395     IR-O-U-0366                                   Utkal University   \n",
       "396     IR-O-U-0555                             Graphic Era University   \n",
       "397     IR-O-U-0451        Chettinad Academy of Research and Education   \n",
       "398     IR-O-U-0164                             Kurukshetra University   \n",
       "399     IR-O-U-0043  Vignan's Foundation for Science, Technology & ...   \n",
       "\n",
       "                     City           State PR Score PR Rank  Score  Year Rank  \n",
       "0               Bengaluru       Karnataka    83.33       1  83.28  2017    1  \n",
       "1               New Delhi           Delhi    47.27       3  61.53  2017    2  \n",
       "2                Varanasi   Uttar Pradesh    44.01       4  58.92  2017    3  \n",
       "3               Bengaluru       Karnataka     6.92      55  58.25  2017    4  \n",
       "4                 Kolkata     West Bengal    28.81       9  57.32  2017    5  \n",
       "..                    ...             ...      ...     ...    ...   ...  ...  \n",
       "395           Bhubaneswar          Odisha    39.00      20  40.05  2020   96  \n",
       "396              Dehradun     Uttarakhand    26.73      64  40.04  2020   97  \n",
       "397  Kanchipuram District      Tamil Nadu    18.74     129  39.97  2020   98  \n",
       "398           Kurukshetra         Haryana    33.21      37  39.79  2020   99  \n",
       "399                Guntur  Andhra Pradesh    20.52     100  39.71  2020  100  \n",
       "\n",
       "[400 rows x 9 columns]"
      ]
     },
     "execution_count": 5,
     "metadata": {},
     "output_type": "execute_result"
    }
   ],
   "source": [
    "data"
   ]
  },
  {
   "cell_type": "code",
   "execution_count": 6,
   "metadata": {
    "ExecuteTime": {
     "end_time": "2020-08-09T06:18:12.840547Z",
     "start_time": "2020-08-09T06:18:12.799955Z"
    }
   },
   "outputs": [
    {
     "data": {
      "text/html": [
       "<div>\n",
       "<style scoped>\n",
       "    .dataframe tbody tr th:only-of-type {\n",
       "        vertical-align: middle;\n",
       "    }\n",
       "\n",
       "    .dataframe tbody tr th {\n",
       "        vertical-align: top;\n",
       "    }\n",
       "\n",
       "    .dataframe thead th {\n",
       "        text-align: right;\n",
       "    }\n",
       "</style>\n",
       "<table border=\"1\" class=\"dataframe\">\n",
       "  <thead>\n",
       "    <tr style=\"text-align: right;\">\n",
       "      <th></th>\n",
       "      <th>Institute ID</th>\n",
       "      <th>Name</th>\n",
       "      <th>City</th>\n",
       "      <th>State</th>\n",
       "      <th>PR Score</th>\n",
       "      <th>PR Rank</th>\n",
       "      <th>Score</th>\n",
       "      <th>Year</th>\n",
       "      <th>Rank</th>\n",
       "    </tr>\n",
       "  </thead>\n",
       "  <tbody>\n",
       "    <tr>\n",
       "      <th>0</th>\n",
       "      <td>IR17-I-2-18243</td>\n",
       "      <td>Indian Institute of Science Bangalore</td>\n",
       "      <td>Bengaluru</td>\n",
       "      <td>Karnataka</td>\n",
       "      <td>83.33</td>\n",
       "      <td>1</td>\n",
       "      <td>83.28</td>\n",
       "      <td>2017</td>\n",
       "      <td>1</td>\n",
       "    </tr>\n",
       "    <tr>\n",
       "      <th>1</th>\n",
       "      <td>IR17-I-2-1-319</td>\n",
       "      <td>Jawaharlal Nehru University</td>\n",
       "      <td>New Delhi</td>\n",
       "      <td>Delhi</td>\n",
       "      <td>47.27</td>\n",
       "      <td>3</td>\n",
       "      <td>61.53</td>\n",
       "      <td>2017</td>\n",
       "      <td>2</td>\n",
       "    </tr>\n",
       "    <tr>\n",
       "      <th>2</th>\n",
       "      <td>IR17-I-2-18500</td>\n",
       "      <td>Banaras Hindu University</td>\n",
       "      <td>Varanasi</td>\n",
       "      <td>Uttar Pradesh</td>\n",
       "      <td>44.01</td>\n",
       "      <td>4</td>\n",
       "      <td>58.92</td>\n",
       "      <td>2017</td>\n",
       "      <td>3</td>\n",
       "    </tr>\n",
       "    <tr>\n",
       "      <th>3</th>\n",
       "      <td>IR17-I-2-30673</td>\n",
       "      <td>Jawaharlal Nehru Centre for Advanced Scientifi...</td>\n",
       "      <td>Bengaluru</td>\n",
       "      <td>Karnataka</td>\n",
       "      <td>6.92</td>\n",
       "      <td>55</td>\n",
       "      <td>58.25</td>\n",
       "      <td>2017</td>\n",
       "      <td>4</td>\n",
       "    </tr>\n",
       "    <tr>\n",
       "      <th>4</th>\n",
       "      <td>IR17-I-2-10326</td>\n",
       "      <td>Jadavpur University</td>\n",
       "      <td>Kolkata</td>\n",
       "      <td>West Bengal</td>\n",
       "      <td>28.81</td>\n",
       "      <td>9</td>\n",
       "      <td>57.32</td>\n",
       "      <td>2017</td>\n",
       "      <td>5</td>\n",
       "    </tr>\n",
       "  </tbody>\n",
       "</table>\n",
       "</div>"
      ],
      "text/plain": [
       "     Institute ID                                               Name  \\\n",
       "0  IR17-I-2-18243              Indian Institute of Science Bangalore   \n",
       "1  IR17-I-2-1-319                        Jawaharlal Nehru University   \n",
       "2  IR17-I-2-18500                           Banaras Hindu University   \n",
       "3  IR17-I-2-30673  Jawaharlal Nehru Centre for Advanced Scientifi...   \n",
       "4  IR17-I-2-10326                                Jadavpur University   \n",
       "\n",
       "        City          State PR Score PR Rank  Score  Year Rank  \n",
       "0  Bengaluru      Karnataka    83.33       1  83.28  2017    1  \n",
       "1  New Delhi          Delhi    47.27       3  61.53  2017    2  \n",
       "2   Varanasi  Uttar Pradesh    44.01       4  58.92  2017    3  \n",
       "3  Bengaluru      Karnataka     6.92      55  58.25  2017    4  \n",
       "4    Kolkata    West Bengal    28.81       9  57.32  2017    5  "
      ]
     },
     "execution_count": 6,
     "metadata": {},
     "output_type": "execute_result"
    }
   ],
   "source": [
    "# check few top rows of data\n",
    "data.head()"
   ]
  },
  {
   "cell_type": "markdown",
   "metadata": {},
   "source": [
    "## Descriptive Statistics"
   ]
  },
  {
   "cell_type": "code",
   "execution_count": 7,
   "metadata": {
    "ExecuteTime": {
     "end_time": "2020-08-09T06:18:12.881193Z",
     "start_time": "2020-08-09T06:18:12.847981Z"
    }
   },
   "outputs": [
    {
     "data": {
      "text/html": [
       "<div>\n",
       "<style scoped>\n",
       "    .dataframe tbody tr th:only-of-type {\n",
       "        vertical-align: middle;\n",
       "    }\n",
       "\n",
       "    .dataframe tbody tr th {\n",
       "        vertical-align: top;\n",
       "    }\n",
       "\n",
       "    .dataframe thead th {\n",
       "        text-align: right;\n",
       "    }\n",
       "</style>\n",
       "<table border=\"1\" class=\"dataframe\">\n",
       "  <thead>\n",
       "    <tr style=\"text-align: right;\">\n",
       "      <th></th>\n",
       "      <th>Year</th>\n",
       "    </tr>\n",
       "  </thead>\n",
       "  <tbody>\n",
       "    <tr>\n",
       "      <th>count</th>\n",
       "      <td>400.000000</td>\n",
       "    </tr>\n",
       "    <tr>\n",
       "      <th>mean</th>\n",
       "      <td>2018.500000</td>\n",
       "    </tr>\n",
       "    <tr>\n",
       "      <th>std</th>\n",
       "      <td>1.119434</td>\n",
       "    </tr>\n",
       "    <tr>\n",
       "      <th>min</th>\n",
       "      <td>2017.000000</td>\n",
       "    </tr>\n",
       "    <tr>\n",
       "      <th>25%</th>\n",
       "      <td>2017.750000</td>\n",
       "    </tr>\n",
       "    <tr>\n",
       "      <th>50%</th>\n",
       "      <td>2018.500000</td>\n",
       "    </tr>\n",
       "    <tr>\n",
       "      <th>75%</th>\n",
       "      <td>2019.250000</td>\n",
       "    </tr>\n",
       "    <tr>\n",
       "      <th>max</th>\n",
       "      <td>2020.000000</td>\n",
       "    </tr>\n",
       "  </tbody>\n",
       "</table>\n",
       "</div>"
      ],
      "text/plain": [
       "              Year\n",
       "count   400.000000\n",
       "mean   2018.500000\n",
       "std       1.119434\n",
       "min    2017.000000\n",
       "25%    2017.750000\n",
       "50%    2018.500000\n",
       "75%    2019.250000\n",
       "max    2020.000000"
      ]
     },
     "execution_count": 7,
     "metadata": {},
     "output_type": "execute_result"
    }
   ],
   "source": [
    "# getting Generate descriptive statistics of data. Generate descriptive statistics include count, mean, std, min_value, 25%, 50%, 75%, max_value\n",
    "data.describe()"
   ]
  },
  {
   "cell_type": "markdown",
   "metadata": {},
   "source": [
    "## Summary of data-type, columns, non-null values, memory usage."
   ]
  },
  {
   "cell_type": "code",
   "execution_count": 8,
   "metadata": {
    "ExecuteTime": {
     "end_time": "2020-08-09T06:18:12.912203Z",
     "start_time": "2020-08-09T06:18:12.889996Z"
    }
   },
   "outputs": [
    {
     "name": "stdout",
     "output_type": "stream",
     "text": [
      "<class 'pandas.core.frame.DataFrame'>\n",
      "RangeIndex: 400 entries, 0 to 399\n",
      "Data columns (total 9 columns):\n",
      " #   Column        Non-Null Count  Dtype \n",
      "---  ------        --------------  ----- \n",
      " 0   Institute ID  400 non-null    object\n",
      " 1   Name          400 non-null    object\n",
      " 2   City          400 non-null    object\n",
      " 3   State         400 non-null    object\n",
      " 4   PR Score      400 non-null    object\n",
      " 5   PR Rank       400 non-null    object\n",
      " 6   Score         400 non-null    object\n",
      " 7   Year          400 non-null    int64 \n",
      " 8   Rank          400 non-null    object\n",
      "dtypes: int64(1), object(8)\n",
      "memory usage: 28.2+ KB\n"
     ]
    }
   ],
   "source": [
    "# data info such as data type, columns, non-null values and memory usage\n",
    "data.info()"
   ]
  },
  {
   "cell_type": "markdown",
   "metadata": {},
   "source": [
    "## Column labels"
   ]
  },
  {
   "cell_type": "code",
   "execution_count": 9,
   "metadata": {
    "ExecuteTime": {
     "end_time": "2020-08-09T06:18:12.935260Z",
     "start_time": "2020-08-09T06:18:12.919521Z"
    }
   },
   "outputs": [
    {
     "data": {
      "text/plain": [
       "Index(['Institute ID', 'Name', 'City', 'State', 'PR Score', 'PR Rank', 'Score',\n",
       "       'Year', 'Rank'],\n",
       "      dtype='object')"
      ]
     },
     "execution_count": 9,
     "metadata": {},
     "output_type": "execute_result"
    }
   ],
   "source": [
    "# get the column labels of the data.\n",
    "data.columns"
   ]
  },
  {
   "cell_type": "markdown",
   "metadata": {},
   "source": [
    "# Save Data into CSV"
   ]
  },
  {
   "cell_type": "code",
   "execution_count": 10,
   "metadata": {
    "ExecuteTime": {
     "end_time": "2020-08-09T06:18:12.964739Z",
     "start_time": "2020-08-09T06:18:12.945612Z"
    }
   },
   "outputs": [],
   "source": [
    "# save data\n",
    "data.to_csv('IndianUniversityRankingFrom2017to2020.csv', index=False)"
   ]
  }
 ],
 "metadata": {
  "kernelspec": {
   "display_name": "Python 3",
   "language": "python",
   "name": "python3"
  },
  "language_info": {
   "codemirror_mode": {
    "name": "ipython",
    "version": 3
   },
   "file_extension": ".py",
   "mimetype": "text/x-python",
   "name": "python",
   "nbconvert_exporter": "python",
   "pygments_lexer": "ipython3",
   "version": "3.8.4"
  },
  "latex_envs": {
   "LaTeX_envs_menu_present": true,
   "autoclose": false,
   "autocomplete": true,
   "bibliofile": "biblio.bib",
   "cite_by": "apalike",
   "current_citInitial": 1,
   "eqLabelWithNumbers": true,
   "eqNumInitial": 1,
   "hotkeys": {
    "equation": "Ctrl-E",
    "itemize": "Ctrl-I"
   },
   "labels_anchors": false,
   "latex_user_defs": false,
   "report_style_numbering": false,
   "user_envs_cfg": false
  },
  "toc": {
   "base_numbering": 1,
   "nav_menu": {},
   "number_sections": true,
   "sideBar": true,
   "skip_h1_title": false,
   "title_cell": "Table of Contents",
   "title_sidebar": "Contents",
   "toc_cell": false,
   "toc_position": {},
   "toc_section_display": true,
   "toc_window_display": false
  },
  "varInspector": {
   "cols": {
    "lenName": 16,
    "lenType": 16,
    "lenVar": 40
   },
   "kernels_config": {
    "python": {
     "delete_cmd_postfix": "",
     "delete_cmd_prefix": "del ",
     "library": "var_list.py",
     "varRefreshCmd": "print(var_dic_list())"
    },
    "r": {
     "delete_cmd_postfix": ") ",
     "delete_cmd_prefix": "rm(",
     "library": "var_list.r",
     "varRefreshCmd": "cat(var_dic_list()) "
    }
   },
   "types_to_exclude": [
    "module",
    "function",
    "builtin_function_or_method",
    "instance",
    "_Feature"
   ],
   "window_display": false
  }
 },
 "nbformat": 4,
 "nbformat_minor": 4
}
