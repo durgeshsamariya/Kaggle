{
 "cells": [
  {
   "cell_type": "markdown",
   "metadata": {},
   "source": [
    "# CORONA VIRUS (COVID-19)"
   ]
  },
  {
   "cell_type": "markdown",
   "metadata": {},
   "source": [
    "## Import Libraries"
   ]
  },
  {
   "cell_type": "code",
   "execution_count": 1,
   "metadata": {
    "ExecuteTime": {
     "end_time": "2020-07-21T03:37:37.206650Z",
     "start_time": "2020-07-21T03:37:36.060852Z"
    }
   },
   "outputs": [],
   "source": [
    "import os #for files and folder handling\n",
    "import re #for reguler expression\n",
    "import glob #for listing files in a folder\n",
    "import requests # for getting web contents\n",
    "import pandas as pd # storing and analysing data\n",
    "from bs4 import BeautifulSoup # for scraping web contents\n",
    "import numpy as np # for numerical analysis\n",
    "from datetime import datetime #for date and time operations"
   ]
  },
  {
   "cell_type": "markdown",
   "metadata": {},
   "source": [
    "## Web Scrapping"
   ]
  },
  {
   "cell_type": "code",
   "execution_count": 2,
   "metadata": {
    "ExecuteTime": {
     "end_time": "2020-07-21T03:37:37.660210Z",
     "start_time": "2020-07-21T03:37:37.211037Z"
    }
   },
   "outputs": [],
   "source": [
    "# url of Ministry of Health and Family Welfare where data is available\n",
    "url = 'https://www.mohfw.gov.in/'\n",
    "\n",
    "# getting web data\n",
    "page = requests.get(url)\n",
    "\n",
    "# parse web data\n",
    "soup = BeautifulSoup(page.content, \"html.parser\")"
   ]
  },
  {
   "cell_type": "code",
   "execution_count": 3,
   "metadata": {
    "ExecuteTime": {
     "end_time": "2020-07-21T03:37:37.688751Z",
     "start_time": "2020-07-21T03:37:37.667357Z"
    }
   },
   "outputs": [],
   "source": [
    "#getting table\n",
    "\n",
    "html_thead = soup.find_all('thead')[-1]\n",
    "head = [tr for tr in html_thead.find_all('tr')]\n",
    "\n",
    "html_tbody = soup.find_all('tbody')[-1]\n",
    "text = [tr for tr in html_tbody.find_all('tr')]\n",
    "\n",
    "headings = []\n",
    "\n",
    "for tr in head:\n",
    "    th = tr.find_all(['th'])\n",
    "    row = [i.text for i in th]\n",
    "    headings.append(row)\n",
    "    \n",
    "content = []\n",
    "for tr in text:\n",
    "    td = tr.find_all(['td'])\n",
    "    row = [i.text for i in td]\n",
    "    content.append(row)\n"
   ]
  },
  {
   "cell_type": "code",
   "execution_count": 4,
   "metadata": {
    "ExecuteTime": {
     "end_time": "2020-07-21T03:37:37.718926Z",
     "start_time": "2020-07-21T03:37:37.693082Z"
    }
   },
   "outputs": [
    {
     "data": {
      "text/plain": [
       "[['1', 'Andaman and Nicobar Islands', '55', '152', '0', '207'],\n",
       " ['2', 'Andhra Pradesh', '28800', '24228', '696', '53724'],\n",
       " ['3', 'Arunachal Pradesh', '502', '285', '3', '790'],\n",
       " ['4', 'Assam', '8229', '17095', '58', '25382'],\n",
       " ['5', 'Bihar', '9996', '17433', '217', '27646'],\n",
       " ['6', 'Chandigarh', '207', '518', '12', '737'],\n",
       " ['7', 'Chhattisgarh', '1592', '3944', '25', '5561'],\n",
       " ['8', 'Dadra and Nagar Haveli and Daman and Diu', '234', '448', '2', '684'],\n",
       " ['9', 'Delhi', '15166', '104918', '3663', '123747'],\n",
       " ['10', 'Goa', '1469', '2361', '23', '3853'],\n",
       " ['11', 'Gujarat', '11513', '35678', '2162', '49353'],\n",
       " ['12', 'Haryana', '6277', '20226', '355', '26858'],\n",
       " ['13', 'Himachal Pradesh', '553', '1067', '11', '1631'],\n",
       " ['14', 'Jammu and Kashmir', '6122', '8274', '254', '14650'],\n",
       " ['15', 'Jharkhand', '2893', '2810', '53', '5756'],\n",
       " ['16', 'Karnataka', '42222', '23795', '1403', '67420'],\n",
       " ['17', 'Kerala', '7615', '5616', '43', '13274'],\n",
       " ['18', 'Ladakh', '186', '1007', '2', '1195'],\n",
       " ['19', 'Madhya Pradesh', '6888', '15684', '738', '23310'],\n",
       " ['20', 'Maharashtra', '131636', '175029', '12030', '318695'],\n",
       " ['21', 'Manipur', '618', '1307', '0', '1925'],\n",
       " ['22', 'Meghalaya', '396', '66', '4', '466'],\n",
       " ['23', 'Mizoram', '129', '168', '0', '297'],\n",
       " ['24', 'Nagaland', '537', '484', '0', '1021'],\n",
       " ['25', 'Odisha', '5103', '12910', '97', '18110'],\n",
       " ['26', 'Puducherry', '798', '1265', '29', '2092'],\n",
       " ['27', 'Punjab', '3130', '7118', '262', '10510'],\n",
       " ['28', 'Rajasthan', '7627', '22195', '568', '30390'],\n",
       " ['29', 'Sikkim', '213', '92', '0', '305'],\n",
       " ['30', 'Tamil Nadu', '51351', '121776', '2551', '175678'],\n",
       " ['31', 'Telangana', '11529', '34323', '422', '46274'],\n",
       " ['32', 'Tripura', '1227', '1845', '7', '3079'],\n",
       " ['33', 'Uttarakhand', '1375', '3212', '55', '4642'],\n",
       " ['34', 'Uttar Pradesh', '19137', '30831', '1192', '51160'],\n",
       " ['35', 'West Bengal', '17204', '26418', '1147', '44769'],\n",
       " ['', 'Total#', '402529', '\\n724578\\n', '\\n28084\\n', '\\n1155191\\n'],\n",
       " ['*(Including foreign Nationals)\\n\\n'],\n",
       " ['**( more than 70% cases due to comorbidities )\\n'],\n",
       " ['#States wise distribution is subject to further verification and reconciliation\\n'],\n",
       " ['#Our figures are being reconciled with ICMR']]"
      ]
     },
     "execution_count": 4,
     "metadata": {},
     "output_type": "execute_result"
    }
   ],
   "source": [
    "content"
   ]
  },
  {
   "cell_type": "code",
   "execution_count": 5,
   "metadata": {
    "ExecuteTime": {
     "end_time": "2020-07-21T03:37:37.738728Z",
     "start_time": "2020-07-21T03:37:37.724138Z"
    }
   },
   "outputs": [],
   "source": [
    "#save data in data frames\n",
    "\n",
    "#last five row contains unwanted information\n",
    "df= pd.DataFrame(content[:-5], columns=headings[0])\n",
    "\n",
    "# Drop 'S. No.' column\n",
    "df.drop('S. No.', axis=1, inplace=True)\n",
    "\n",
    "# print df\n",
    "#df"
   ]
  },
  {
   "cell_type": "markdown",
   "metadata": {},
   "source": [
    "## Add Date, Latitiude and Longitude"
   ]
  },
  {
   "cell_type": "code",
   "execution_count": 6,
   "metadata": {
    "ExecuteTime": {
     "end_time": "2020-07-21T03:37:37.772752Z",
     "start_time": "2020-07-21T03:37:37.741729Z"
    }
   },
   "outputs": [
    {
     "data": {
      "text/html": [
       "<div>\n",
       "<style scoped>\n",
       "    .dataframe tbody tr th:only-of-type {\n",
       "        vertical-align: middle;\n",
       "    }\n",
       "\n",
       "    .dataframe tbody tr th {\n",
       "        vertical-align: top;\n",
       "    }\n",
       "\n",
       "    .dataframe thead th {\n",
       "        text-align: right;\n",
       "    }\n",
       "</style>\n",
       "<table border=\"1\" class=\"dataframe\">\n",
       "  <thead>\n",
       "    <tr style=\"text-align: right;\">\n",
       "      <th></th>\n",
       "      <th>Name of State / UT</th>\n",
       "      <th>Active Cases*</th>\n",
       "      <th>Cured/Discharged/Migrated*</th>\n",
       "      <th>Deaths**</th>\n",
       "      <th>Total Confirmed cases*</th>\n",
       "      <th>Date</th>\n",
       "    </tr>\n",
       "  </thead>\n",
       "  <tbody>\n",
       "    <tr>\n",
       "      <th>0</th>\n",
       "      <td>Andaman and Nicobar Islands</td>\n",
       "      <td>55</td>\n",
       "      <td>152</td>\n",
       "      <td>0</td>\n",
       "      <td>207</td>\n",
       "      <td>2020-07-21</td>\n",
       "    </tr>\n",
       "    <tr>\n",
       "      <th>1</th>\n",
       "      <td>Andhra Pradesh</td>\n",
       "      <td>28800</td>\n",
       "      <td>24228</td>\n",
       "      <td>696</td>\n",
       "      <td>53724</td>\n",
       "      <td>2020-07-21</td>\n",
       "    </tr>\n",
       "    <tr>\n",
       "      <th>2</th>\n",
       "      <td>Arunachal Pradesh</td>\n",
       "      <td>502</td>\n",
       "      <td>285</td>\n",
       "      <td>3</td>\n",
       "      <td>790</td>\n",
       "      <td>2020-07-21</td>\n",
       "    </tr>\n",
       "    <tr>\n",
       "      <th>3</th>\n",
       "      <td>Assam</td>\n",
       "      <td>8229</td>\n",
       "      <td>17095</td>\n",
       "      <td>58</td>\n",
       "      <td>25382</td>\n",
       "      <td>2020-07-21</td>\n",
       "    </tr>\n",
       "    <tr>\n",
       "      <th>4</th>\n",
       "      <td>Bihar</td>\n",
       "      <td>9996</td>\n",
       "      <td>17433</td>\n",
       "      <td>217</td>\n",
       "      <td>27646</td>\n",
       "      <td>2020-07-21</td>\n",
       "    </tr>\n",
       "  </tbody>\n",
       "</table>\n",
       "</div>"
      ],
      "text/plain": [
       "            Name of State / UT Active Cases* Cured/Discharged/Migrated*  \\\n",
       "0  Andaman and Nicobar Islands            55                        152   \n",
       "1               Andhra Pradesh         28800                      24228   \n",
       "2            Arunachal Pradesh           502                        285   \n",
       "3                        Assam          8229                      17095   \n",
       "4                        Bihar          9996                      17433   \n",
       "\n",
       "  Deaths** Total Confirmed cases*       Date  \n",
       "0        0                    207 2020-07-21  \n",
       "1      696                  53724 2020-07-21  \n",
       "2        3                    790 2020-07-21  \n",
       "3       58                  25382 2020-07-21  \n",
       "4      217                  27646 2020-07-21  "
      ]
     },
     "execution_count": 6,
     "metadata": {},
     "output_type": "execute_result"
    }
   ],
   "source": [
    "#add today's date and create new column\n",
    "now  = datetime.now()\n",
    "df['Date'] = now.strftime(\"%m/%d/%Y\") \n",
    "df['Date'] = pd.to_datetime(df['Date'], format='%m/%d/%Y')\n",
    "df.head()"
   ]
  },
  {
   "cell_type": "code",
   "execution_count": 7,
   "metadata": {
    "ExecuteTime": {
     "end_time": "2020-07-21T03:37:37.813686Z",
     "start_time": "2020-07-21T03:37:37.776988Z"
    }
   },
   "outputs": [
    {
     "data": {
      "text/html": [
       "<div>\n",
       "<style scoped>\n",
       "    .dataframe tbody tr th:only-of-type {\n",
       "        vertical-align: middle;\n",
       "    }\n",
       "\n",
       "    .dataframe tbody tr th {\n",
       "        vertical-align: top;\n",
       "    }\n",
       "\n",
       "    .dataframe thead th {\n",
       "        text-align: right;\n",
       "    }\n",
       "</style>\n",
       "<table border=\"1\" class=\"dataframe\">\n",
       "  <thead>\n",
       "    <tr style=\"text-align: right;\">\n",
       "      <th></th>\n",
       "      <th>Name of State / UT</th>\n",
       "      <th>Active Cases*</th>\n",
       "      <th>Cured/Discharged/Migrated*</th>\n",
       "      <th>Deaths**</th>\n",
       "      <th>Total Confirmed cases*</th>\n",
       "      <th>Date</th>\n",
       "      <th>Latitude</th>\n",
       "      <th>Longitude</th>\n",
       "    </tr>\n",
       "  </thead>\n",
       "  <tbody>\n",
       "    <tr>\n",
       "      <th>0</th>\n",
       "      <td>Andaman and Nicobar Islands</td>\n",
       "      <td>55</td>\n",
       "      <td>152</td>\n",
       "      <td>0</td>\n",
       "      <td>207</td>\n",
       "      <td>2020-07-21</td>\n",
       "      <td>11.7401</td>\n",
       "      <td>92.6586</td>\n",
       "    </tr>\n",
       "    <tr>\n",
       "      <th>1</th>\n",
       "      <td>Andhra Pradesh</td>\n",
       "      <td>28800</td>\n",
       "      <td>24228</td>\n",
       "      <td>696</td>\n",
       "      <td>53724</td>\n",
       "      <td>2020-07-21</td>\n",
       "      <td>15.9129</td>\n",
       "      <td>79.7400</td>\n",
       "    </tr>\n",
       "    <tr>\n",
       "      <th>2</th>\n",
       "      <td>Arunachal Pradesh</td>\n",
       "      <td>502</td>\n",
       "      <td>285</td>\n",
       "      <td>3</td>\n",
       "      <td>790</td>\n",
       "      <td>2020-07-21</td>\n",
       "      <td>28.2180</td>\n",
       "      <td>94.7278</td>\n",
       "    </tr>\n",
       "    <tr>\n",
       "      <th>3</th>\n",
       "      <td>Assam</td>\n",
       "      <td>8229</td>\n",
       "      <td>17095</td>\n",
       "      <td>58</td>\n",
       "      <td>25382</td>\n",
       "      <td>2020-07-21</td>\n",
       "      <td>26.2006</td>\n",
       "      <td>92.9376</td>\n",
       "    </tr>\n",
       "    <tr>\n",
       "      <th>4</th>\n",
       "      <td>Bihar</td>\n",
       "      <td>9996</td>\n",
       "      <td>17433</td>\n",
       "      <td>217</td>\n",
       "      <td>27646</td>\n",
       "      <td>2020-07-21</td>\n",
       "      <td>25.0961</td>\n",
       "      <td>85.3131</td>\n",
       "    </tr>\n",
       "  </tbody>\n",
       "</table>\n",
       "</div>"
      ],
      "text/plain": [
       "            Name of State / UT Active Cases* Cured/Discharged/Migrated*  \\\n",
       "0  Andaman and Nicobar Islands            55                        152   \n",
       "1               Andhra Pradesh         28800                      24228   \n",
       "2            Arunachal Pradesh           502                        285   \n",
       "3                        Assam          8229                      17095   \n",
       "4                        Bihar          9996                      17433   \n",
       "\n",
       "  Deaths** Total Confirmed cases*       Date  Latitude  Longitude  \n",
       "0        0                    207 2020-07-21   11.7401    92.6586  \n",
       "1      696                  53724 2020-07-21   15.9129    79.7400  \n",
       "2        3                    790 2020-07-21   28.2180    94.7278  \n",
       "3       58                  25382 2020-07-21   26.2006    92.9376  \n",
       "4      217                  27646 2020-07-21   25.0961    85.3131  "
      ]
     },
     "execution_count": 7,
     "metadata": {},
     "output_type": "execute_result"
    }
   ],
   "source": [
    "#add latitude and longitude\n",
    "lat = {'Delhi':28.7041, 'Haryana':29.0588, 'Kerala':10.8505, 'Rajasthan':27.0238,\n",
    "       'Telengana':18.1124, 'Uttar Pradesh':26.8467, 'Ladakh':34.2996, 'Tamil Nadu':11.1271,\n",
    "       'Andhra Pradesh':15.9129, 'Odisha':20.9517, 'Uttarakhand':30.0668, 'West Bengal':22.9868, \n",
    "       'Puducherry': 11.9416, 'Chandigarh': 30.7333, 'Chhattisgarh':21.2787, \n",
    "       'Jammu and Kashmir':33.7782, 'Punjab':31.1471, 'Karnataka':15.3173, \n",
    "       'Maharashtra':19.7515, 'Gujarat': 22.2587, \n",
    "       'Himachal Pradesh': 31.1048, 'Madhya Pradesh': 22.9734, 'Bihar': 25.0961, 'Manipur':24.6637, \n",
    "       'Mizoram':23.1645, 'Goa': 15.2993, 'Andaman and Nicobar Islands': 11.7401, 'Assam' : 26.2006, \n",
    "       'Jharkhand': 23.6102, 'Arunachal Pradesh': 28.2180, 'Tripura': 23.9408, 'Nagaland': 26.1584, \n",
    "       'Meghalaya' : 25.4670}\n",
    "\n",
    "long = {'Delhi':77.1025, 'Haryana':76.0856, 'Kerala':76.2711, 'Rajasthan':74.2179,\n",
    "        'Telengana':79.0193, 'Uttar Pradesh':80.9462, 'Ladakh':78.2932, 'Tamil Nadu':78.6569,\n",
    "        'Andhra Pradesh':79.7400, 'Odisha':85.0985, 'Uttarakhand':79.0193, 'West Bengal':87.8550, \n",
    "        'Puducherry': 79.8083, 'Chandigarh': 76.7794, 'Chhattisgarh':81.8661,\n",
    "        'Jammu and Kashmir':76.5762, 'Punjab':75.3412, 'Karnataka':75.7139, \n",
    "        'Maharashtra':75.7139, 'Gujarat': 71.1924, \n",
    "        'Himachal Pradesh': 77.1734, 'Madhya Pradesh': 78.6569, 'Bihar': 85.3131, 'Manipur':93.9063, \n",
    "        'Mizoram':92.9376, 'Goa': 74.1240, 'Andaman and Nicobar Islands': 92.6586, 'Assam' : 92.9376, \n",
    "        'Jharkhand': 85.2799, 'Arunachal Pradesh': 94.7278, 'Tripura': 91.9882, 'Nagaland': 94.5624,\n",
    "        'Meghalaya' : 91.3662}\n",
    "\n",
    "df['Latitude'] = df['Name of State / UT'].map(lat)\n",
    "df['Longitude'] = df['Name of State / UT'].map(long)\n",
    "df.head()"
   ]
  },
  {
   "cell_type": "markdown",
   "metadata": {},
   "source": [
    "## Data Cleaning"
   ]
  },
  {
   "cell_type": "code",
   "execution_count": 8,
   "metadata": {
    "ExecuteTime": {
     "end_time": "2020-07-21T03:37:37.849736Z",
     "start_time": "2020-07-21T03:37:37.824125Z"
    }
   },
   "outputs": [],
   "source": [
    "#rename column names\n",
    "# =====\n",
    "# Changing Name of State / UT to States\n",
    "df = df.rename(columns={'Name of State / UT':'States'})\n",
    "\n",
    "# Active Cases* to Active Cases\n",
    "df = df.rename(columns={'Active Cases*':'Active Cases'})\n",
    "\n",
    "# Deaths** to Deaths\n",
    "df = df.rename(columns={'Deaths**':'Death'})\n",
    "df = df.rename(columns=lambda x: re.sub('Deaths \\( more than 70% cases due to comorbidities \\)',\n",
    "                                                      'Deaths', x))\n",
    "df = df.rename(columns={'Deaths':'Death'})\n",
    "\n",
    "# Total Confirmes cases* to Total Cases\n",
    "df = df.rename(columns=lambda x: re.sub('Total Confirmed cases \\(Including .* foreign Nationals\\) ',\n",
    "                                                      'Total Cases',x))\n",
    "df = df.rename(columns={'Total Confirmed cases*': 'Total Cases'})\n",
    "\n",
    "# Cured/Discharged/Migrated* to Recovered\n",
    "df = df.rename(columns={'Cured/Discharged/Migrated*':'Recovered'})\n",
    "\n",
    "\n",
    "# remove extra characters from 'Name of State/UT' column\n",
    "df['States'] = df['States'].str.replace('#', '')\n",
    "\n",
    "# remove extra characters from 'Name of State/UT' column\n",
    "df['Death'] = df['Death'].str.replace('#', '')\n",
    "\n",
    "# drop active cases colum\n",
    "df = df.drop('Active Cases', axis=1)"
   ]
  },
  {
   "cell_type": "markdown",
   "metadata": {},
   "source": [
    "## Save Data"
   ]
  },
  {
   "cell_type": "code",
   "execution_count": 9,
   "metadata": {
    "ExecuteTime": {
     "end_time": "2020-07-21T03:37:37.870660Z",
     "start_time": "2020-07-21T03:37:37.855186Z"
    }
   },
   "outputs": [],
   "source": [
    "# Created hidden folder\n",
    "my_folder = './.daily_update/'\n",
    "if not os.path.exists(my_folder):\n",
    "    os.makedirs(my_folder)\n",
    "\n",
    "# saving data as year_month_day.csv\n",
    "file_name = my_folder + now.strftime(\"%Y_%m_%d\") + '.csv'\n",
    "\n",
    "#saving data frame in csv file\n",
    "df.to_csv(file_name, index=False)"
   ]
  },
  {
   "cell_type": "markdown",
   "metadata": {},
   "source": [
    "## Merge all CSV files"
   ]
  },
  {
   "cell_type": "code",
   "execution_count": 10,
   "metadata": {
    "ExecuteTime": {
     "end_time": "2020-07-21T03:37:38.294588Z",
     "start_time": "2020-07-21T03:37:37.873732Z"
    }
   },
   "outputs": [],
   "source": [
    "#reading all daily cases csv file from folder\n",
    "csv_files = glob.glob(my_folder + '*.csv')\n",
    "\n",
    "all_data = []\n",
    "for i in csv_files:\n",
    "    temp = pd.read_csv(i)\n",
    "    all_data.append(temp)"
   ]
  },
  {
   "cell_type": "code",
   "execution_count": 11,
   "metadata": {
    "ExecuteTime": {
     "end_time": "2020-07-21T03:37:38.422141Z",
     "start_time": "2020-07-21T03:37:38.300967Z"
    }
   },
   "outputs": [],
   "source": [
    "#merging(concat) all daily csv files in one data frame \n",
    "data = pd.concat(all_data, ignore_index=True).sort_values(['Date'], ascending=True).reset_index(drop=True)\n",
    "data['Date'] = pd.to_datetime(data['Date'])\n",
    "\n",
    "#creating new colum active cases from total cases - recovered - deaths\n",
    "data['Active'] = data['Total Cases'] - data['Recovered'] - data['Death']\n",
    "\n",
    "#sorting data according to date and states name\n",
    "data = data.sort_values(['Date', 'States']).reset_index(drop=True)\n",
    "#data"
   ]
  },
  {
   "cell_type": "code",
   "execution_count": 12,
   "metadata": {
    "ExecuteTime": {
     "end_time": "2020-07-21T03:37:38.531195Z",
     "start_time": "2020-07-21T03:37:38.428646Z"
    }
   },
   "outputs": [],
   "source": [
    "#saving data in csv file\n",
    "data.to_csv('COVID-19-INDIA.csv', index=False)"
   ]
  },
  {
   "cell_type": "code",
   "execution_count": null,
   "metadata": {},
   "outputs": [],
   "source": []
  }
 ],
 "metadata": {
  "kernelspec": {
   "display_name": "Python 3",
   "language": "python",
   "name": "python3"
  },
  "language_info": {
   "codemirror_mode": {
    "name": "ipython",
    "version": 3
   },
   "file_extension": ".py",
   "mimetype": "text/x-python",
   "name": "python",
   "nbconvert_exporter": "python",
   "pygments_lexer": "ipython3",
   "version": "3.8.4"
  },
  "latex_envs": {
   "LaTeX_envs_menu_present": true,
   "autoclose": false,
   "autocomplete": true,
   "bibliofile": "biblio.bib",
   "cite_by": "apalike",
   "current_citInitial": 1,
   "eqLabelWithNumbers": true,
   "eqNumInitial": 1,
   "hotkeys": {
    "equation": "Ctrl-E",
    "itemize": "Ctrl-I"
   },
   "labels_anchors": false,
   "latex_user_defs": false,
   "report_style_numbering": false,
   "user_envs_cfg": false
  },
  "toc": {
   "base_numbering": 1,
   "nav_menu": {},
   "number_sections": true,
   "sideBar": true,
   "skip_h1_title": false,
   "title_cell": "Table of Contents",
   "title_sidebar": "Contents",
   "toc_cell": false,
   "toc_position": {},
   "toc_section_display": true,
   "toc_window_display": false
  },
  "varInspector": {
   "cols": {
    "lenName": 16,
    "lenType": 16,
    "lenVar": 40
   },
   "kernels_config": {
    "python": {
     "delete_cmd_postfix": "",
     "delete_cmd_prefix": "del ",
     "library": "var_list.py",
     "varRefreshCmd": "print(var_dic_list())"
    },
    "r": {
     "delete_cmd_postfix": ") ",
     "delete_cmd_prefix": "rm(",
     "library": "var_list.r",
     "varRefreshCmd": "cat(var_dic_list()) "
    }
   },
   "types_to_exclude": [
    "module",
    "function",
    "builtin_function_or_method",
    "instance",
    "_Feature"
   ],
   "window_display": false
  }
 },
 "nbformat": 4,
 "nbformat_minor": 4
}
