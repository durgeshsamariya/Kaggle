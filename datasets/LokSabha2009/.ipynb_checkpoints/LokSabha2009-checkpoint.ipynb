{
 "cells": [
  {
   "cell_type": "markdown",
   "metadata": {},
   "source": [
    "# Import Libraries\n",
    "Importing libraries are necessary for any project.\n",
    "We're going to import commonly used Webscrapping and Data Analysis libraries. Make sure all libraries are installed."
   ]
  },
  {
   "cell_type": "code",
   "execution_count": 1,
   "metadata": {
    "ExecuteTime": {
     "end_time": "2020-08-31T19:44:32.865719Z",
     "start_time": "2020-08-31T19:44:31.831955Z"
    }
   },
   "outputs": [],
   "source": [
    "import requests # for getting web contents\n",
    "from bs4 import BeautifulSoup # for scraping web contents\n",
    "import pandas as pd # for data analysis\n",
    "from progressbar import ProgressBar, Percentage, Bar"
   ]
  },
  {
   "cell_type": "markdown",
   "metadata": {},
   "source": [
    "# URL\n",
    "For web scrapping it's important to have url."
   ]
  },
  {
   "cell_type": "code",
   "execution_count": 2,
   "metadata": {
    "ExecuteTime": {
     "end_time": "2020-08-31T19:44:41.020292Z",
     "start_time": "2020-08-31T19:44:37.452926Z"
    }
   },
   "outputs": [],
   "source": [
    "# link from where you want to scrap data\n",
    "base_url = 'https://myneta.info/ls2009/'\n",
    "\n",
    "# get web data\n",
    "page = requests.get(base_url)\n",
    "\n",
    "# parse web data\n",
    "soup = BeautifulSoup(page.content, \"html.parser\")"
   ]
  },
  {
   "cell_type": "code",
   "execution_count": 3,
   "metadata": {
    "ExecuteTime": {
     "end_time": "2020-08-31T19:44:41.397304Z",
     "start_time": "2020-08-31T19:44:41.313594Z"
    }
   },
   "outputs": [],
   "source": [
    "# find the table\n",
    "# our trageted table is last\n",
    "\n",
    "# this link have lists of links so first get all the links, all links stored in table so getting last table\n",
    "table = soup.find_all('table')[-1]\n",
    "\n",
    "# links stored in div class='items'\n",
    "divs = table.find_all('div', class_=\"items\")\n",
    "\n",
    "links = []\n",
    "cities = []\n",
    "\n",
    "for div in divs:\n",
    "    for a in div.find_all('a', href=True):\n",
    "        link = a['href']\n",
    "        if '/' in link:\n",
    "            link = link.split('/')[-1:]\n",
    "            links.append(link)\n",
    "        elif '/' not in link:\n",
    "            links.append(link)\n",
    "        city = a.text.strip()\n",
    "        cities.append(city)"
   ]
  },
  {
   "cell_type": "code",
   "execution_count": 4,
   "metadata": {
    "ExecuteTime": {
     "end_time": "2020-08-31T19:45:00.100009Z",
     "start_time": "2020-08-31T19:45:00.087274Z"
    }
   },
   "outputs": [],
   "source": [
    "# function to scrape values from each url\n",
    "def url_scrraper(url,city):\n",
    "    page = requests.get(url)\n",
    "    soup = BeautifulSoup(page.content, \"html.parser\")\n",
    "    table = soup.find_all('table')[-1]\n",
    "    thead = [th for th in table.find_all('th')]\n",
    "    for i in thead:\n",
    "        headings.append(i.text)\n",
    "    headings.insert(-1,'Constituency')\n",
    "    \n",
    "    html_text = [tr for tr in table.find_all('tr')][1:]\n",
    "    \n",
    "    for text in html_text:\n",
    "        td = [cells for cells in text.find_all('td')]\n",
    "        if len(td)!= 0 :\n",
    "            name = td[0].find('a').get_text().title()\n",
    "            party = td[1].get_text()\n",
    "            case = td[2].get_text()\n",
    "            edu = td[3].get_text()\n",
    "            age = td[4].get_text()\n",
    "            ta = td[5].contents[0].strip().replace(u'Rs\\xa0',u'').replace(',','')\n",
    "            la = td[6].contents[0].strip().replace(u'Rs\\xa0',u'').replace(',','')\n",
    "            row = [name, party, case, edu, age, ta, la]\n",
    "            row.insert(-1,city)\n",
    "\n",
    "            #print(row)\n",
    "            content.append(row)"
   ]
  },
  {
   "cell_type": "code",
   "execution_count": 6,
   "metadata": {
    "ExecuteTime": {
     "end_time": "2020-08-31T20:07:55.251319Z",
     "start_time": "2020-08-31T20:00:31.406505Z"
    },
    "scrolled": false
   },
   "outputs": [
    {
     "name": "stderr",
     "output_type": "stream",
     "text": [
      "100%|#########################################################################|\n"
     ]
    }
   ],
   "source": [
    "content = []\n",
    "pbar = ProgressBar(widgets=[Percentage(), Bar()], maxval=len(cities)).start()\n",
    "\n",
    "for i in range(len(cities)):\n",
    "    pbar.update(i+1)\n",
    "    headings = []\n",
    "    if type(links[i]) == list:\n",
    "        url = base_url + links[i][0]\n",
    "    else:\n",
    "        url = base_url + links[i]\n",
    "    url_scrraper(url, cities[i])\n",
    "    \n",
    "    \n",
    "pbar.finish()"
   ]
  },
  {
   "cell_type": "code",
   "execution_count": 7,
   "metadata": {
    "ExecuteTime": {
     "end_time": "2020-08-31T20:23:08.659518Z",
     "start_time": "2020-08-31T20:23:08.319134Z"
    }
   },
   "outputs": [],
   "source": [
    "# save contents in a dataframe\n",
    "data = pd.DataFrame(content[:], columns=headings)"
   ]
  },
  {
   "cell_type": "code",
   "execution_count": 8,
   "metadata": {
    "ExecuteTime": {
     "end_time": "2020-08-31T20:23:18.295026Z",
     "start_time": "2020-08-31T20:23:09.586292Z"
    }
   },
   "outputs": [],
   "source": [
    "# link from where you want to scrap data\n",
    "winner_url = 'index.php?action=show_winners&sort=default'\n",
    "\n",
    "# get web data\n",
    "page = requests.get(base_url+winner_url)\n",
    "\n",
    "# parse web data\n",
    "soup = BeautifulSoup(page.content, \"html.parser\")"
   ]
  },
  {
   "cell_type": "code",
   "execution_count": 9,
   "metadata": {
    "ExecuteTime": {
     "end_time": "2020-08-31T20:23:20.997665Z",
     "start_time": "2020-08-31T20:23:20.847217Z"
    }
   },
   "outputs": [],
   "source": [
    "table = soup.find_all('table')[-2]\n",
    "thead = [th for th in table.find_all('th')]\n",
    "winner_headings = []\n",
    "\n",
    "for i in thead:\n",
    "    winner_headings.append(i.text.strip())\n",
    "\n",
    "winner_content = []\n",
    "html_text = [tr for tr in table.find_all('tr')][1:]\n",
    "    \n",
    "for text in html_text:\n",
    "    td = [cells for cells in text.find_all('td')]\n",
    "    if len(td)!= 0 :\n",
    "        name = td[1].find('a').get_text().title()\n",
    "        city = td[2].get_text().title()\n",
    "        party = td[3].get_text().strip()\n",
    "        case = td[4].get_text().strip()\n",
    "        edu = td[5].get_text().strip()\n",
    "        ta = td[6].contents[0].strip().replace(u'Rs\\xa0',u'').replace(',','')\n",
    "        la = td[7].contents[0].strip().replace(u'Rs\\xa0',u'').replace(',','')\n",
    "        row = [name, city, party, case, edu, ta, la]\n",
    "        winner_content.append(row)"
   ]
  },
  {
   "cell_type": "code",
   "execution_count": 10,
   "metadata": {
    "ExecuteTime": {
     "end_time": "2020-08-31T20:23:23.097497Z",
     "start_time": "2020-08-31T20:23:23.070534Z"
    }
   },
   "outputs": [],
   "source": [
    "# save contents in a dataframe\n",
    "winner_data = pd.DataFrame(winner_content[:], columns=winner_headings[1:])"
   ]
  },
  {
   "cell_type": "code",
   "execution_count": 11,
   "metadata": {
    "ExecuteTime": {
     "end_time": "2020-08-31T20:23:25.777225Z",
     "start_time": "2020-08-31T20:23:25.734715Z"
    }
   },
   "outputs": [],
   "source": [
    "winner_data = winner_data.rename(columns={'Constituency ∇':'Constituency', 'Criminal Case':'Criminal Cases'})"
   ]
  },
  {
   "cell_type": "code",
   "execution_count": 12,
   "metadata": {
    "ExecuteTime": {
     "end_time": "2020-08-31T20:23:28.261583Z",
     "start_time": "2020-08-31T20:23:28.228465Z"
    }
   },
   "outputs": [],
   "source": [
    "winner_data['Winner'] = '1'"
   ]
  },
  {
   "cell_type": "code",
   "execution_count": 13,
   "metadata": {
    "ExecuteTime": {
     "end_time": "2020-08-31T20:23:32.426840Z",
     "start_time": "2020-08-31T20:23:30.582306Z"
    }
   },
   "outputs": [],
   "source": [
    "women_url = \"index.php?action=summary&subAction=women_candidate&sort=candidate#summary\"\n",
    "page = requests.get(base_url + women_url)\n",
    "soup = BeautifulSoup(page.content, 'html.parser')\n",
    "\n",
    "women_headings = []\n",
    "\n",
    "table = soup.find_all('table')[-1]\n",
    "thead = [th for th in table.find_all('th')]\n",
    "\n",
    "for i in thead:\n",
    "    women_headings.append(i.text.strip())\n",
    "\n",
    "women_content = []\n",
    "html_text = [tr for tr in table.find_all('tr')][1:]\n",
    "    \n",
    "for text in html_text:\n",
    "    td = [cells for cells in text.find_all('td')]\n",
    "    if len(td)!= 0 :\n",
    "        name = td[1].find('a').get_text().title()\n",
    "        city = td[2].get_text().title()\n",
    "        party = td[3].get_text().strip()\n",
    "        case = td[4].get_text().strip()\n",
    "        edu = td[5].get_text().strip()\n",
    "        ta = td[6].contents[0].strip().replace(u'Rs\\xa0',u'').replace(',','')\n",
    "        la = td[7].contents[0].strip().replace(u'Rs\\xa0',u'').replace(',','')\n",
    "        row = [name, city, party, case, edu, ta, la]\n",
    "        women_content.append(row)"
   ]
  },
  {
   "cell_type": "code",
   "execution_count": 14,
   "metadata": {
    "ExecuteTime": {
     "end_time": "2020-08-31T20:23:33.982143Z",
     "start_time": "2020-08-31T20:23:33.971592Z"
    }
   },
   "outputs": [],
   "source": [
    "# save contents in a dataframe\n",
    "women_data = pd.DataFrame(women_content[:], columns=women_headings[1:])"
   ]
  },
  {
   "cell_type": "code",
   "execution_count": 15,
   "metadata": {
    "ExecuteTime": {
     "end_time": "2020-08-31T20:23:35.654181Z",
     "start_time": "2020-08-31T20:23:35.646704Z"
    }
   },
   "outputs": [],
   "source": [
    "women_data = women_data.rename(columns={'Candidate∇':'Candidate', 'Criminal Case':'Criminal Cases'})"
   ]
  },
  {
   "cell_type": "code",
   "execution_count": 16,
   "metadata": {
    "ExecuteTime": {
     "end_time": "2020-08-31T20:23:37.412687Z",
     "start_time": "2020-08-31T20:23:37.388037Z"
    }
   },
   "outputs": [],
   "source": [
    "women_data['Gender'] = 'F'"
   ]
  },
  {
   "cell_type": "code",
   "execution_count": 17,
   "metadata": {
    "ExecuteTime": {
     "end_time": "2020-08-31T20:23:44.062096Z",
     "start_time": "2020-08-31T20:23:43.490901Z"
    }
   },
   "outputs": [],
   "source": [
    "final_data = pd.merge(left=data, right=winner_data, \n",
    "                      how ='left', on=['Candidate', 'Criminal Cases', \\\n",
    "                                       'Constituency', 'Party', 'Education', \\\n",
    "                                       'Liabilities','Total Assets'])\n",
    "\n",
    "final_data = pd.merge(left=final_data, right=women_data, \n",
    "                      how ='left', on=['Candidate', 'Criminal Cases', \\\n",
    "                                       'Constituency', 'Party', 'Education', \\\n",
    "                                       'Liabilities','Total Assets'])"
   ]
  },
  {
   "cell_type": "code",
   "execution_count": 18,
   "metadata": {
    "ExecuteTime": {
     "end_time": "2020-08-31T20:23:47.815880Z",
     "start_time": "2020-08-31T20:23:47.740871Z"
    }
   },
   "outputs": [
    {
     "data": {
      "text/html": [
       "<div>\n",
       "<style scoped>\n",
       "    .dataframe tbody tr th:only-of-type {\n",
       "        vertical-align: middle;\n",
       "    }\n",
       "\n",
       "    .dataframe tbody tr th {\n",
       "        vertical-align: top;\n",
       "    }\n",
       "\n",
       "    .dataframe thead th {\n",
       "        text-align: right;\n",
       "    }\n",
       "</style>\n",
       "<table border=\"1\" class=\"dataframe\">\n",
       "  <thead>\n",
       "    <tr style=\"text-align: right;\">\n",
       "      <th></th>\n",
       "      <th>Candidate</th>\n",
       "      <th>Party</th>\n",
       "      <th>Criminal Cases</th>\n",
       "      <th>Education</th>\n",
       "      <th>Age</th>\n",
       "      <th>Total Assets</th>\n",
       "      <th>Constituency</th>\n",
       "      <th>Liabilities</th>\n",
       "      <th>Winner</th>\n",
       "      <th>Gender</th>\n",
       "    </tr>\n",
       "  </thead>\n",
       "  <tbody>\n",
       "    <tr>\n",
       "      <th>0</th>\n",
       "      <td>Shri Bishnu Pada Ray</td>\n",
       "      <td>BJP</td>\n",
       "      <td>1</td>\n",
       "      <td>Graduate</td>\n",
       "      <td>59</td>\n",
       "      <td>1241034</td>\n",
       "      <td>Andaman &amp; Nicobar Islands</td>\n",
       "      <td>0</td>\n",
       "      <td>NaN</td>\n",
       "      <td>NaN</td>\n",
       "    </tr>\n",
       "    <tr>\n",
       "      <th>1</th>\n",
       "      <td>Shri P. R. Ganeshan</td>\n",
       "      <td>RJD</td>\n",
       "      <td>0</td>\n",
       "      <td>Not Given</td>\n",
       "      <td>71</td>\n",
       "      <td>329563</td>\n",
       "      <td>Andaman &amp; Nicobar Islands</td>\n",
       "      <td>0</td>\n",
       "      <td>NaN</td>\n",
       "      <td>NaN</td>\n",
       "    </tr>\n",
       "    <tr>\n",
       "      <th>2</th>\n",
       "      <td>Shri Pradeep Kumar Ekka</td>\n",
       "      <td>JDP</td>\n",
       "      <td>0</td>\n",
       "      <td>Others</td>\n",
       "      <td>37</td>\n",
       "      <td>410000</td>\n",
       "      <td>Andaman &amp; Nicobar Islands</td>\n",
       "      <td>0</td>\n",
       "      <td>NaN</td>\n",
       "      <td>NaN</td>\n",
       "    </tr>\n",
       "    <tr>\n",
       "      <th>3</th>\n",
       "      <td>Shri T. Ali</td>\n",
       "      <td>IND</td>\n",
       "      <td>0</td>\n",
       "      <td>12th Pass</td>\n",
       "      <td>37</td>\n",
       "      <td>445957</td>\n",
       "      <td>Andaman &amp; Nicobar Islands</td>\n",
       "      <td>296000</td>\n",
       "      <td>NaN</td>\n",
       "      <td>NaN</td>\n",
       "    </tr>\n",
       "    <tr>\n",
       "      <th>4</th>\n",
       "      <td>Shri Tapan Kumar Bepari</td>\n",
       "      <td>CPM</td>\n",
       "      <td>0</td>\n",
       "      <td>Post Graduate</td>\n",
       "      <td>52</td>\n",
       "      <td>3986000</td>\n",
       "      <td>Andaman &amp; Nicobar Islands</td>\n",
       "      <td>0</td>\n",
       "      <td>NaN</td>\n",
       "      <td>NaN</td>\n",
       "    </tr>\n",
       "    <tr>\n",
       "      <th>...</th>\n",
       "      <td>...</td>\n",
       "      <td>...</td>\n",
       "      <td>...</td>\n",
       "      <td>...</td>\n",
       "      <td>...</td>\n",
       "      <td>...</td>\n",
       "      <td>...</td>\n",
       "      <td>...</td>\n",
       "      <td>...</td>\n",
       "      <td>...</td>\n",
       "    </tr>\n",
       "    <tr>\n",
       "      <th>7915</th>\n",
       "      <td>Narendra Nath Mandal</td>\n",
       "      <td>BSP</td>\n",
       "      <td>0</td>\n",
       "      <td>Graduate Professional</td>\n",
       "      <td>67</td>\n",
       "      <td>2726000</td>\n",
       "      <td>Uluberia</td>\n",
       "      <td>0</td>\n",
       "      <td>NaN</td>\n",
       "      <td>NaN</td>\n",
       "    </tr>\n",
       "    <tr>\n",
       "      <th>7916</th>\n",
       "      <td>Rabin Dalui</td>\n",
       "      <td>RDMP</td>\n",
       "      <td>0</td>\n",
       "      <td>12th Pass</td>\n",
       "      <td>45</td>\n",
       "      <td>1685600</td>\n",
       "      <td>Uluberia</td>\n",
       "      <td>124</td>\n",
       "      <td>NaN</td>\n",
       "      <td>NaN</td>\n",
       "    </tr>\n",
       "    <tr>\n",
       "      <th>7917</th>\n",
       "      <td>Rahul Chakrabarty</td>\n",
       "      <td>BJP</td>\n",
       "      <td>0</td>\n",
       "      <td>Graduate</td>\n",
       "      <td>38</td>\n",
       "      <td>3100000</td>\n",
       "      <td>Uluberia</td>\n",
       "      <td>0</td>\n",
       "      <td>NaN</td>\n",
       "      <td>NaN</td>\n",
       "    </tr>\n",
       "    <tr>\n",
       "      <th>7918</th>\n",
       "      <td>Sekh Aorangjeb</td>\n",
       "      <td>IND</td>\n",
       "      <td>0</td>\n",
       "      <td>Post Graduate</td>\n",
       "      <td>44</td>\n",
       "      <td>389102</td>\n",
       "      <td>Uluberia</td>\n",
       "      <td>0</td>\n",
       "      <td>NaN</td>\n",
       "      <td>NaN</td>\n",
       "    </tr>\n",
       "    <tr>\n",
       "      <th>7919</th>\n",
       "      <td>Swapan Das</td>\n",
       "      <td>IND</td>\n",
       "      <td>0</td>\n",
       "      <td>10th Pass</td>\n",
       "      <td>31</td>\n",
       "      <td>6000</td>\n",
       "      <td>Uluberia</td>\n",
       "      <td>0</td>\n",
       "      <td>NaN</td>\n",
       "      <td>NaN</td>\n",
       "    </tr>\n",
       "  </tbody>\n",
       "</table>\n",
       "<p>7920 rows × 10 columns</p>\n",
       "</div>"
      ],
      "text/plain": [
       "                    Candidate Party Criminal Cases              Education Age  \\\n",
       "0        Shri Bishnu Pada Ray   BJP             1                Graduate  59   \n",
       "1         Shri P. R. Ganeshan   RJD              0              Not Given  71   \n",
       "2     Shri Pradeep Kumar Ekka   JDP              0                 Others  37   \n",
       "3                 Shri T. Ali   IND              0              12th Pass  37   \n",
       "4     Shri Tapan Kumar Bepari   CPM              0          Post Graduate  52   \n",
       "...                       ...   ...            ...                    ...  ..   \n",
       "7915     Narendra Nath Mandal   BSP              0  Graduate Professional  67   \n",
       "7916              Rabin Dalui  RDMP              0              12th Pass  45   \n",
       "7917        Rahul Chakrabarty   BJP              0               Graduate  38   \n",
       "7918           Sekh Aorangjeb   IND              0          Post Graduate  44   \n",
       "7919               Swapan Das   IND              0              10th Pass  31   \n",
       "\n",
       "     Total Assets               Constituency Liabilities Winner Gender  \n",
       "0         1241034  Andaman & Nicobar Islands           0    NaN    NaN  \n",
       "1          329563  Andaman & Nicobar Islands           0    NaN    NaN  \n",
       "2          410000  Andaman & Nicobar Islands           0    NaN    NaN  \n",
       "3          445957  Andaman & Nicobar Islands      296000    NaN    NaN  \n",
       "4         3986000  Andaman & Nicobar Islands           0    NaN    NaN  \n",
       "...           ...                        ...         ...    ...    ...  \n",
       "7915      2726000                   Uluberia           0    NaN    NaN  \n",
       "7916      1685600                   Uluberia         124    NaN    NaN  \n",
       "7917      3100000                   Uluberia           0    NaN    NaN  \n",
       "7918       389102                   Uluberia           0    NaN    NaN  \n",
       "7919         6000                   Uluberia           0    NaN    NaN  \n",
       "\n",
       "[7920 rows x 10 columns]"
      ]
     },
     "execution_count": 18,
     "metadata": {},
     "output_type": "execute_result"
    }
   ],
   "source": [
    "final_data"
   ]
  },
  {
   "cell_type": "code",
   "execution_count": 19,
   "metadata": {
    "ExecuteTime": {
     "end_time": "2020-08-31T20:23:53.146492Z",
     "start_time": "2020-08-31T20:23:53.105954Z"
    }
   },
   "outputs": [],
   "source": [
    "final_data['Winner'] = final_data['Winner'].fillna('0')\n",
    "final_data['Gender'] = final_data['Gender'].fillna('M')"
   ]
  },
  {
   "cell_type": "code",
   "execution_count": 24,
   "metadata": {
    "ExecuteTime": {
     "end_time": "2020-08-31T20:28:51.462187Z",
     "start_time": "2020-08-31T20:28:51.436632Z"
    }
   },
   "outputs": [],
   "source": [
    "final_data.Winner = final_data.Winner.astype('object')\n",
    "final_data['Criminal Cases'] = final_data['Criminal Cases'].astype('int')"
   ]
  },
  {
   "cell_type": "markdown",
   "metadata": {},
   "source": [
    "# Data Analysis"
   ]
  },
  {
   "cell_type": "markdown",
   "metadata": {},
   "source": [
    "## Check Data Shape"
   ]
  },
  {
   "cell_type": "code",
   "execution_count": 25,
   "metadata": {
    "ExecuteTime": {
     "end_time": "2020-08-31T20:28:56.363926Z",
     "start_time": "2020-08-31T20:28:56.332734Z"
    }
   },
   "outputs": [
    {
     "name": "stdout",
     "output_type": "stream",
     "text": [
      "(7920, 10)\n"
     ]
    }
   ],
   "source": [
    "# data shape\n",
    "print(final_data.shape)"
   ]
  },
  {
   "cell_type": "markdown",
   "metadata": {},
   "source": [
    "## Look at Example Records"
   ]
  },
  {
   "cell_type": "code",
   "execution_count": 26,
   "metadata": {
    "ExecuteTime": {
     "end_time": "2020-08-31T20:28:59.717065Z",
     "start_time": "2020-08-31T20:28:59.657600Z"
    }
   },
   "outputs": [
    {
     "data": {
      "text/html": [
       "<div>\n",
       "<style scoped>\n",
       "    .dataframe tbody tr th:only-of-type {\n",
       "        vertical-align: middle;\n",
       "    }\n",
       "\n",
       "    .dataframe tbody tr th {\n",
       "        vertical-align: top;\n",
       "    }\n",
       "\n",
       "    .dataframe thead th {\n",
       "        text-align: right;\n",
       "    }\n",
       "</style>\n",
       "<table border=\"1\" class=\"dataframe\">\n",
       "  <thead>\n",
       "    <tr style=\"text-align: right;\">\n",
       "      <th></th>\n",
       "      <th>Candidate</th>\n",
       "      <th>Party</th>\n",
       "      <th>Criminal Cases</th>\n",
       "      <th>Education</th>\n",
       "      <th>Age</th>\n",
       "      <th>Total Assets</th>\n",
       "      <th>Constituency</th>\n",
       "      <th>Liabilities</th>\n",
       "      <th>Winner</th>\n",
       "      <th>Gender</th>\n",
       "    </tr>\n",
       "  </thead>\n",
       "  <tbody>\n",
       "    <tr>\n",
       "      <th>0</th>\n",
       "      <td>Shri Bishnu Pada Ray</td>\n",
       "      <td>BJP</td>\n",
       "      <td>1</td>\n",
       "      <td>Graduate</td>\n",
       "      <td>59</td>\n",
       "      <td>1241034</td>\n",
       "      <td>Andaman &amp; Nicobar Islands</td>\n",
       "      <td>0</td>\n",
       "      <td>0</td>\n",
       "      <td>M</td>\n",
       "    </tr>\n",
       "    <tr>\n",
       "      <th>1</th>\n",
       "      <td>Shri P. R. Ganeshan</td>\n",
       "      <td>RJD</td>\n",
       "      <td>0</td>\n",
       "      <td>Not Given</td>\n",
       "      <td>71</td>\n",
       "      <td>329563</td>\n",
       "      <td>Andaman &amp; Nicobar Islands</td>\n",
       "      <td>0</td>\n",
       "      <td>0</td>\n",
       "      <td>M</td>\n",
       "    </tr>\n",
       "    <tr>\n",
       "      <th>2</th>\n",
       "      <td>Shri Pradeep Kumar Ekka</td>\n",
       "      <td>JDP</td>\n",
       "      <td>0</td>\n",
       "      <td>Others</td>\n",
       "      <td>37</td>\n",
       "      <td>410000</td>\n",
       "      <td>Andaman &amp; Nicobar Islands</td>\n",
       "      <td>0</td>\n",
       "      <td>0</td>\n",
       "      <td>M</td>\n",
       "    </tr>\n",
       "    <tr>\n",
       "      <th>3</th>\n",
       "      <td>Shri T. Ali</td>\n",
       "      <td>IND</td>\n",
       "      <td>0</td>\n",
       "      <td>12th Pass</td>\n",
       "      <td>37</td>\n",
       "      <td>445957</td>\n",
       "      <td>Andaman &amp; Nicobar Islands</td>\n",
       "      <td>296000</td>\n",
       "      <td>0</td>\n",
       "      <td>M</td>\n",
       "    </tr>\n",
       "    <tr>\n",
       "      <th>4</th>\n",
       "      <td>Shri Tapan Kumar Bepari</td>\n",
       "      <td>CPM</td>\n",
       "      <td>0</td>\n",
       "      <td>Post Graduate</td>\n",
       "      <td>52</td>\n",
       "      <td>3986000</td>\n",
       "      <td>Andaman &amp; Nicobar Islands</td>\n",
       "      <td>0</td>\n",
       "      <td>0</td>\n",
       "      <td>M</td>\n",
       "    </tr>\n",
       "  </tbody>\n",
       "</table>\n",
       "</div>"
      ],
      "text/plain": [
       "                 Candidate Party  Criminal Cases      Education Age  \\\n",
       "0     Shri Bishnu Pada Ray   BJP               1       Graduate  59   \n",
       "1      Shri P. R. Ganeshan   RJD               0      Not Given  71   \n",
       "2  Shri Pradeep Kumar Ekka   JDP               0         Others  37   \n",
       "3              Shri T. Ali   IND               0      12th Pass  37   \n",
       "4  Shri Tapan Kumar Bepari   CPM               0  Post Graduate  52   \n",
       "\n",
       "  Total Assets               Constituency Liabilities Winner Gender  \n",
       "0      1241034  Andaman & Nicobar Islands           0      0      M  \n",
       "1       329563  Andaman & Nicobar Islands           0      0      M  \n",
       "2       410000  Andaman & Nicobar Islands           0      0      M  \n",
       "3       445957  Andaman & Nicobar Islands      296000      0      M  \n",
       "4      3986000  Andaman & Nicobar Islands           0      0      M  "
      ]
     },
     "execution_count": 26,
     "metadata": {},
     "output_type": "execute_result"
    }
   ],
   "source": [
    "# check few top rows of data\n",
    "final_data.head()"
   ]
  },
  {
   "cell_type": "markdown",
   "metadata": {},
   "source": [
    "## Descriptive Statistics"
   ]
  },
  {
   "cell_type": "code",
   "execution_count": 27,
   "metadata": {
    "ExecuteTime": {
     "end_time": "2020-08-31T20:29:02.638104Z",
     "start_time": "2020-08-31T20:29:02.595148Z"
    }
   },
   "outputs": [
    {
     "data": {
      "text/html": [
       "<div>\n",
       "<style scoped>\n",
       "    .dataframe tbody tr th:only-of-type {\n",
       "        vertical-align: middle;\n",
       "    }\n",
       "\n",
       "    .dataframe tbody tr th {\n",
       "        vertical-align: top;\n",
       "    }\n",
       "\n",
       "    .dataframe thead th {\n",
       "        text-align: right;\n",
       "    }\n",
       "</style>\n",
       "<table border=\"1\" class=\"dataframe\">\n",
       "  <thead>\n",
       "    <tr style=\"text-align: right;\">\n",
       "      <th></th>\n",
       "      <th>Criminal Cases</th>\n",
       "    </tr>\n",
       "  </thead>\n",
       "  <tbody>\n",
       "    <tr>\n",
       "      <th>count</th>\n",
       "      <td>7920.000000</td>\n",
       "    </tr>\n",
       "    <tr>\n",
       "      <th>mean</th>\n",
       "      <td>0.373359</td>\n",
       "    </tr>\n",
       "    <tr>\n",
       "      <th>std</th>\n",
       "      <td>1.651129</td>\n",
       "    </tr>\n",
       "    <tr>\n",
       "      <th>min</th>\n",
       "      <td>0.000000</td>\n",
       "    </tr>\n",
       "    <tr>\n",
       "      <th>25%</th>\n",
       "      <td>0.000000</td>\n",
       "    </tr>\n",
       "    <tr>\n",
       "      <th>50%</th>\n",
       "      <td>0.000000</td>\n",
       "    </tr>\n",
       "    <tr>\n",
       "      <th>75%</th>\n",
       "      <td>0.000000</td>\n",
       "    </tr>\n",
       "    <tr>\n",
       "      <th>max</th>\n",
       "      <td>46.000000</td>\n",
       "    </tr>\n",
       "  </tbody>\n",
       "</table>\n",
       "</div>"
      ],
      "text/plain": [
       "       Criminal Cases\n",
       "count     7920.000000\n",
       "mean         0.373359\n",
       "std          1.651129\n",
       "min          0.000000\n",
       "25%          0.000000\n",
       "50%          0.000000\n",
       "75%          0.000000\n",
       "max         46.000000"
      ]
     },
     "execution_count": 27,
     "metadata": {},
     "output_type": "execute_result"
    }
   ],
   "source": [
    "# getting Generate descriptive statistics of data. Generate descriptive statistics include count, mean, std, min_value, 25%, 50%, 75%, max_value\n",
    "final_data.describe()"
   ]
  },
  {
   "cell_type": "markdown",
   "metadata": {},
   "source": [
    "## Summary of data-type, columns, non-null values, memory usage."
   ]
  },
  {
   "cell_type": "code",
   "execution_count": 28,
   "metadata": {
    "ExecuteTime": {
     "end_time": "2020-08-31T20:29:06.465030Z",
     "start_time": "2020-08-31T20:29:06.430727Z"
    }
   },
   "outputs": [
    {
     "name": "stdout",
     "output_type": "stream",
     "text": [
      "<class 'pandas.core.frame.DataFrame'>\n",
      "Int64Index: 7920 entries, 0 to 7919\n",
      "Data columns (total 10 columns):\n",
      " #   Column          Non-Null Count  Dtype \n",
      "---  ------          --------------  ----- \n",
      " 0   Candidate       7920 non-null   object\n",
      " 1   Party           7920 non-null   object\n",
      " 2   Criminal Cases  7920 non-null   int64 \n",
      " 3   Education       7920 non-null   object\n",
      " 4   Age             7920 non-null   object\n",
      " 5   Total Assets    7920 non-null   object\n",
      " 6   Constituency    7920 non-null   object\n",
      " 7   Liabilities     7920 non-null   object\n",
      " 8   Winner          7920 non-null   object\n",
      " 9   Gender          7920 non-null   object\n",
      "dtypes: int64(1), object(9)\n",
      "memory usage: 680.6+ KB\n"
     ]
    }
   ],
   "source": [
    "# data info\n",
    "final_data.info()"
   ]
  },
  {
   "cell_type": "markdown",
   "metadata": {},
   "source": [
    "## Column labels"
   ]
  },
  {
   "cell_type": "code",
   "execution_count": 29,
   "metadata": {
    "ExecuteTime": {
     "end_time": "2020-08-31T20:29:10.039496Z",
     "start_time": "2020-08-31T20:29:10.032163Z"
    }
   },
   "outputs": [
    {
     "data": {
      "text/plain": [
       "Index(['Candidate', 'Party', 'Criminal Cases', 'Education', 'Age',\n",
       "       'Total Assets', 'Constituency', 'Liabilities', 'Winner', 'Gender'],\n",
       "      dtype='object')"
      ]
     },
     "execution_count": 29,
     "metadata": {},
     "output_type": "execute_result"
    }
   ],
   "source": [
    "# get the column labels of the data.\n",
    "final_data.columns"
   ]
  },
  {
   "cell_type": "markdown",
   "metadata": {},
   "source": [
    "# Save Data into CSV"
   ]
  },
  {
   "cell_type": "code",
   "execution_count": 30,
   "metadata": {
    "ExecuteTime": {
     "end_time": "2020-08-31T20:29:12.617518Z",
     "start_time": "2020-08-31T20:29:12.374089Z"
    }
   },
   "outputs": [],
   "source": [
    "# save data\n",
    "data.to_csv('LokSabha2009.csv', index=False)"
   ]
  }
 ],
 "metadata": {
  "kernelspec": {
   "display_name": "Python 3",
   "language": "python",
   "name": "python3"
  },
  "language_info": {
   "codemirror_mode": {
    "name": "ipython",
    "version": 3
   },
   "file_extension": ".py",
   "mimetype": "text/x-python",
   "name": "python",
   "nbconvert_exporter": "python",
   "pygments_lexer": "ipython3",
   "version": "3.8.4"
  },
  "latex_envs": {
   "LaTeX_envs_menu_present": true,
   "autoclose": false,
   "autocomplete": true,
   "bibliofile": "biblio.bib",
   "cite_by": "apalike",
   "current_citInitial": 1,
   "eqLabelWithNumbers": true,
   "eqNumInitial": 1,
   "hotkeys": {
    "equation": "Ctrl-E",
    "itemize": "Ctrl-I"
   },
   "labels_anchors": false,
   "latex_user_defs": false,
   "report_style_numbering": false,
   "user_envs_cfg": false
  },
  "toc": {
   "base_numbering": 1,
   "nav_menu": {},
   "number_sections": true,
   "sideBar": true,
   "skip_h1_title": false,
   "title_cell": "Table of Contents",
   "title_sidebar": "Contents",
   "toc_cell": false,
   "toc_position": {},
   "toc_section_display": true,
   "toc_window_display": false
  },
  "varInspector": {
   "cols": {
    "lenName": 16,
    "lenType": 16,
    "lenVar": 40
   },
   "kernels_config": {
    "python": {
     "delete_cmd_postfix": "",
     "delete_cmd_prefix": "del ",
     "library": "var_list.py",
     "varRefreshCmd": "print(var_dic_list())"
    },
    "r": {
     "delete_cmd_postfix": ") ",
     "delete_cmd_prefix": "rm(",
     "library": "var_list.r",
     "varRefreshCmd": "cat(var_dic_list()) "
    }
   },
   "types_to_exclude": [
    "module",
    "function",
    "builtin_function_or_method",
    "instance",
    "_Feature"
   ],
   "window_display": false
  }
 },
 "nbformat": 4,
 "nbformat_minor": 4
}
