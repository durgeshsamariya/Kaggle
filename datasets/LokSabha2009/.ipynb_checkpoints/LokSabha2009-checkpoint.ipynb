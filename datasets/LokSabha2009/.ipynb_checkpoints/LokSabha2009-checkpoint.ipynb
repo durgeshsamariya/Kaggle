{
 "cells": [
  {
   "cell_type": "markdown",
   "metadata": {},
   "source": [
    "# Import Libraries\n",
    "Importing libraries are necessary for any project.\n",
    "We're going to import commonly used Webscrapping and Data Analysis libraries. Make sure all libraries are installed."
   ]
  },
  {
   "cell_type": "code",
   "execution_count": null,
   "metadata": {
    "ExecuteTime": {
     "end_time": "2020-08-07T11:51:37.348509Z",
     "start_time": "2020-08-07T11:51:35.700487Z"
    }
   },
   "outputs": [],
   "source": [
    "import requests # for getting web contents\n",
    "from bs4 import BeautifulSoup # for scraping web contents\n",
    "import pandas as pd # for data analysis"
   ]
  },
  {
   "cell_type": "markdown",
   "metadata": {},
   "source": [
    "# URL\n",
    "For web scrapping it's important to have url."
   ]
  },
  {
   "cell_type": "code",
   "execution_count": null,
   "metadata": {
    "ExecuteTime": {
     "end_time": "2020-08-07T11:51:41.918842Z",
     "start_time": "2020-08-07T11:51:38.491561Z"
    }
   },
   "outputs": [],
   "source": [
    "# link from where you want to scrap data\n",
    "URL = 'https://myneta.info/ls2009/'\n",
    "\n",
    "# get web data\n",
    "page = requests.get(URL)\n",
    "\n",
    "# parse web data\n",
    "soup = BeautifulSoup(page.content, \"html.parser\")"
   ]
  },
  {
   "cell_type": "code",
   "execution_count": null,
   "metadata": {
    "ExecuteTime": {
     "end_time": "2020-08-07T11:51:42.103323Z",
     "start_time": "2020-08-07T11:51:42.026241Z"
    }
   },
   "outputs": [],
   "source": [
    "# find the table\n",
    "# our trageted table is last\n",
    "\n",
    "# this link have lists of links so first get all the links, all links stored in table so getting last table\n",
    "table = soup.find_all('table')[-1]\n",
    "\n",
    "# links stored in div class='items'\n",
    "divs = table.find_all('div', class_=\"items\")\n",
    "\n",
    "links = []\n",
    "cities = []\n",
    "\n",
    "for div in divs:\n",
    "    for a in div.find_all('a', href=True):\n",
    "        link = a['href']\n",
    "        if '/' in link:\n",
    "            link = link.split('/')[-1:]\n",
    "            links.append(link)\n",
    "        elif '/' not in link:\n",
    "            links.append(link)\n",
    "        city = a.text.strip()\n",
    "        cities.append(city)"
   ]
  },
  {
   "cell_type": "code",
   "execution_count": null,
   "metadata": {
    "ExecuteTime": {
     "end_time": "2020-08-07T11:51:42.361281Z",
     "start_time": "2020-08-07T11:51:42.347010Z"
    }
   },
   "outputs": [],
   "source": [
    "# function to scrape values from each url\n",
    "def url_scrraper(url,city):\n",
    "    page = requests.get(url)\n",
    "    soup = BeautifulSoup(page.content, \"html.parser\")\n",
    "    table = soup.find_all('table')[-1]\n",
    "    thead = [th for th in table.find_all('th')]\n",
    "    for i in thead:\n",
    "        headings.append(i.text)\n",
    "    headings.insert(-1,'City')\n",
    "    \n",
    "    html_text = [tr for tr in table.find_all('tr')][1:]\n",
    "    \n",
    "    for text in html_text:\n",
    "        td = [cells for cells in text.find_all('td')]\n",
    "        if len(td)!= 0 :\n",
    "            name = td[0].find('a').get_text()\n",
    "            party = td[1].get_text()\n",
    "            case = td[2].get_text()\n",
    "            edu = td[3].get_text()\n",
    "            age = td[4].get_text()\n",
    "            ta = td[5].get_text()\n",
    "            la = td[6].get_text()\n",
    "            row = [name, party, case, edu, age, ta, la]\n",
    "            row.insert(-1,city)\n",
    "\n",
    "            #print(row)\n",
    "            content.append(row)"
   ]
  },
  {
   "cell_type": "code",
   "execution_count": null,
   "metadata": {
    "ExecuteTime": {
     "end_time": "2020-08-07T12:00:21.020780Z",
     "start_time": "2020-08-07T11:51:43.669552Z"
    },
    "scrolled": false
   },
   "outputs": [],
   "source": [
    "base_url = 'https://myneta.info/ls2009/'\n",
    "content = []\n",
    "\n",
    "for i in range(len(cities)):\n",
    "    headings = []\n",
    "    if type(links[i]) == list:\n",
    "        url = base_url + links[i][0]\n",
    "    else:\n",
    "        url = base_url + links[i]\n",
    "    url_scrraper(url, cities[i])"
   ]
  },
  {
   "cell_type": "code",
   "execution_count": null,
   "metadata": {
    "ExecuteTime": {
     "end_time": "2020-08-07T12:19:30.748557Z",
     "start_time": "2020-08-07T12:19:30.576032Z"
    }
   },
   "outputs": [],
   "source": [
    "# save contents in a dataframe\n",
    "data = pd.DataFrame(content[:], columns=headings)"
   ]
  },
  {
   "cell_type": "markdown",
   "metadata": {},
   "source": [
    "# Data Analysis"
   ]
  },
  {
   "cell_type": "markdown",
   "metadata": {},
   "source": [
    "## Check Data Shape"
   ]
  },
  {
   "cell_type": "code",
   "execution_count": null,
   "metadata": {
    "ExecuteTime": {
     "end_time": "2020-08-07T12:19:34.080548Z",
     "start_time": "2020-08-07T12:19:34.075140Z"
    }
   },
   "outputs": [],
   "source": [
    "# data shape\n",
    "print(data.shape)"
   ]
  },
  {
   "cell_type": "markdown",
   "metadata": {},
   "source": [
    "## Look at Example Records"
   ]
  },
  {
   "cell_type": "code",
   "execution_count": null,
   "metadata": {
    "ExecuteTime": {
     "end_time": "2020-08-07T12:19:37.398469Z",
     "start_time": "2020-08-07T12:19:37.371878Z"
    }
   },
   "outputs": [],
   "source": [
    "# check few top rows of data\n",
    "data.head()"
   ]
  },
  {
   "cell_type": "markdown",
   "metadata": {},
   "source": [
    "## Descriptive Statistics"
   ]
  },
  {
   "cell_type": "code",
   "execution_count": null,
   "metadata": {
    "ExecuteTime": {
     "end_time": "2020-08-07T12:19:39.992681Z",
     "start_time": "2020-08-07T12:19:39.889312Z"
    }
   },
   "outputs": [],
   "source": [
    "# getting Generate descriptive statistics of data. Generate descriptive statistics include count, mean, std, min_value, 25%, 50%, 75%, max_value\n",
    "data.describe()"
   ]
  },
  {
   "cell_type": "markdown",
   "metadata": {},
   "source": [
    "## Summary of data-type, columns, non-null values, memory usage."
   ]
  },
  {
   "cell_type": "code",
   "execution_count": null,
   "metadata": {
    "ExecuteTime": {
     "end_time": "2020-08-07T12:19:43.640719Z",
     "start_time": "2020-08-07T12:19:43.619201Z"
    }
   },
   "outputs": [],
   "source": [
    "# data info\n",
    "data.info()"
   ]
  },
  {
   "cell_type": "markdown",
   "metadata": {},
   "source": [
    "## Column labels"
   ]
  },
  {
   "cell_type": "code",
   "execution_count": null,
   "metadata": {
    "ExecuteTime": {
     "end_time": "2020-08-07T12:19:45.680377Z",
     "start_time": "2020-08-07T12:19:45.673124Z"
    }
   },
   "outputs": [],
   "source": [
    "# get the column labels of the data.\n",
    "data.columns"
   ]
  },
  {
   "cell_type": "markdown",
   "metadata": {},
   "source": [
    "# Data Cleaning"
   ]
  },
  {
   "cell_type": "markdown",
   "metadata": {},
   "source": [
    "## Drop Column"
   ]
  },
  {
   "cell_type": "code",
   "execution_count": null,
   "metadata": {
    "ExecuteTime": {
     "end_time": "2020-08-07T12:19:50.387010Z",
     "start_time": "2020-08-07T12:19:50.368237Z"
    }
   },
   "outputs": [],
   "source": [
    "# drop column\n",
    "data = data.drop(['Total Assets', 'Liabilities'], axis=1)"
   ]
  },
  {
   "cell_type": "code",
   "execution_count": null,
   "metadata": {
    "ExecuteTime": {
     "end_time": "2020-08-07T12:19:52.487884Z",
     "start_time": "2020-08-07T12:19:52.467502Z"
    }
   },
   "outputs": [],
   "source": [
    "# data\n",
    "data"
   ]
  },
  {
   "cell_type": "markdown",
   "metadata": {},
   "source": [
    "# Save Data into CSV"
   ]
  },
  {
   "cell_type": "code",
   "execution_count": null,
   "metadata": {
    "ExecuteTime": {
     "end_time": "2020-08-07T12:19:59.752322Z",
     "start_time": "2020-08-07T12:19:59.687656Z"
    }
   },
   "outputs": [],
   "source": [
    "# save data\n",
    "data.to_csv('LokSabha2009.csv', index=False)"
   ]
  }
 ],
 "metadata": {
  "kernelspec": {
   "display_name": "Python 3",
   "language": "python",
   "name": "python3"
  },
  "language_info": {
   "codemirror_mode": {
    "name": "ipython",
    "version": 3
   },
   "file_extension": ".py",
   "mimetype": "text/x-python",
   "name": "python",
   "nbconvert_exporter": "python",
   "pygments_lexer": "ipython3",
   "version": "3.8.4"
  },
  "latex_envs": {
   "LaTeX_envs_menu_present": true,
   "autoclose": false,
   "autocomplete": true,
   "bibliofile": "biblio.bib",
   "cite_by": "apalike",
   "current_citInitial": 1,
   "eqLabelWithNumbers": true,
   "eqNumInitial": 1,
   "hotkeys": {
    "equation": "Ctrl-E",
    "itemize": "Ctrl-I"
   },
   "labels_anchors": false,
   "latex_user_defs": false,
   "report_style_numbering": false,
   "user_envs_cfg": false
  },
  "toc": {
   "base_numbering": 1,
   "nav_menu": {},
   "number_sections": true,
   "sideBar": true,
   "skip_h1_title": false,
   "title_cell": "Table of Contents",
   "title_sidebar": "Contents",
   "toc_cell": false,
   "toc_position": {},
   "toc_section_display": true,
   "toc_window_display": false
  },
  "varInspector": {
   "cols": {
    "lenName": 16,
    "lenType": 16,
    "lenVar": 40
   },
   "kernels_config": {
    "python": {
     "delete_cmd_postfix": "",
     "delete_cmd_prefix": "del ",
     "library": "var_list.py",
     "varRefreshCmd": "print(var_dic_list())"
    },
    "r": {
     "delete_cmd_postfix": ") ",
     "delete_cmd_prefix": "rm(",
     "library": "var_list.r",
     "varRefreshCmd": "cat(var_dic_list()) "
    }
   },
   "types_to_exclude": [
    "module",
    "function",
    "builtin_function_or_method",
    "instance",
    "_Feature"
   ],
   "window_display": false
  }
 },
 "nbformat": 4,
 "nbformat_minor": 4
}
