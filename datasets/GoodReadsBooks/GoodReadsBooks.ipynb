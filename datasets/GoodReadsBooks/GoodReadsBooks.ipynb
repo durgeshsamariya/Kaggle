{
 "cells": [
  {
   "cell_type": "code",
   "execution_count": 1,
   "metadata": {
    "ExecuteTime": {
     "end_time": "2020-09-04T17:28:25.012941Z",
     "start_time": "2020-09-04T17:28:24.198186Z"
    }
   },
   "outputs": [],
   "source": [
    "import requests\n",
    "from bs4 import BeautifulSoup as bs\n",
    "import numpy as np\n",
    "import pandas as pd"
   ]
  },
  {
   "cell_type": "code",
   "execution_count": 2,
   "metadata": {
    "ExecuteTime": {
     "end_time": "2020-09-04T17:28:25.707053Z",
     "start_time": "2020-09-04T17:28:25.697780Z"
    }
   },
   "outputs": [],
   "source": [
    "def goodread_book_scapper(genres):\n",
    "    genre_url = \"https://www.goodreads.com/shelf/show/\"\n",
    "    for genre in genres:\n",
    "        for i in range(1,26):\n",
    "            # https://www.goodreads.com/shelf/show/[science]?page=1\n",
    "            url = genre_url + genre.lower() + \"?page=\" + str(i)\n",
    "            page = requests.get(url)\n",
    "            soup = bs(page.content, 'html.parser')\n",
    "        \n",
    "            titles = soup.find_all('a', class_='bookTitle')\n",
    "            authors = soup.find_all('a', class_='authorName')\n",
    "            books_save = 0\n",
    "            for title in titles:\n",
    "                single_book(title['href'], genre)\n",
    "                books_save += 1\n",
    "            print(\"%d %s books saved.\" % (books_save, genre)) \n"
   ]
  },
  {
   "cell_type": "code",
   "execution_count": 3,
   "metadata": {
    "ExecuteTime": {
     "end_time": "2020-09-04T17:28:27.446298Z",
     "start_time": "2020-09-04T17:28:27.435945Z"
    }
   },
   "outputs": [],
   "source": [
    "def single_book(url, genre):\n",
    "    #print(url)\n",
    "    base_url = \"https://www.goodreads.com\"\n",
    "    book_url = base_url + url #title['href']\n",
    "    book_page = requests.get(book_url)\n",
    "    soup = bs(book_page.content, 'html.parser')\n",
    "    book_title = soup.find('h1', id='bookTitle').get_text().strip()\n",
    "    #print(book_title)\n",
    "    book_author = soup.find('a', class_='authorName').get_text().strip()\n",
    "    ratings = soup.find('span', itemprop='ratingValue').get_text().strip()\n",
    "    total_ratings = soup.find('meta', itemprop=\"ratingCount\")['content']\n",
    "    total_reviews = soup.find('meta', itemprop=\"reviewCount\")['content']\n",
    "    #description=soup.find('div', id='description').get_text().strip()\n",
    "    num_pages = soup.find('span', itemprop='numberOfPages').get_text().split(' ')[0]\n",
    "    isbn = soup.select_one('div.infoBoxRowItem:contains(\"ISBN\")')\n",
    "    if isbn != None:\n",
    "        isbn = isbn.get_text().split('(')[0].strip()\n",
    "    else:\n",
    "        isbn = np.nan\n",
    "    isbn13 = soup.find('span', itemprop='isbn')\n",
    "    if isbn13 != None:\n",
    "        isbn13 = isbn13.get_text().strip()\n",
    "    else:\n",
    "        isbn13 = np.nan\n",
    "    row = [book_title, book_author, ratings, total_ratings, total_reviews, num_pages, isbn, isbn13, genre]\n",
    "    contents.append(row)"
   ]
  },
  {
   "cell_type": "code",
   "execution_count": 4,
   "metadata": {
    "ExecuteTime": {
     "end_time": "2020-09-04T17:28:30.508946Z",
     "start_time": "2020-09-04T17:28:30.504540Z"
    }
   },
   "outputs": [],
   "source": [
    "genres = ['Biography', 'Science', 'Fantasy', 'Fiction', 'Business', 'Historical-Fiction', 'Comics']"
   ]
  },
  {
   "cell_type": "code",
   "execution_count": 5,
   "metadata": {
    "ExecuteTime": {
     "end_time": "2020-09-04T17:28:31.663608Z",
     "start_time": "2020-09-04T17:28:31.659602Z"
    }
   },
   "outputs": [],
   "source": [
    "contents = []"
   ]
  },
  {
   "cell_type": "code",
   "execution_count": null,
   "metadata": {
    "ExecuteTime": {
     "start_time": "2020-09-04T17:28:37.266Z"
    }
   },
   "outputs": [
    {
     "name": "stdout",
     "output_type": "stream",
     "text": [
      "50 Biography books saved.\n",
      "50 Biography books saved.\n",
      "50 Biography books saved.\n",
      "50 Biography books saved.\n",
      "50 Biography books saved.\n",
      "50 Biography books saved.\n",
      "50 Biography books saved.\n",
      "50 Biography books saved.\n"
     ]
    }
   ],
   "source": [
    "goodread_book_scapper(genres)"
   ]
  },
  {
   "cell_type": "code",
   "execution_count": null,
   "metadata": {
    "ExecuteTime": {
     "start_time": "2020-09-04T17:31:37.057Z"
    }
   },
   "outputs": [],
   "source": [
    "headings=['book_title', 'book_author', 'ratings', 'total_ratings', 'total_reviews', 'num_of_pages', 'isbn', 'isbn13', 'genre']"
   ]
  },
  {
   "cell_type": "code",
   "execution_count": null,
   "metadata": {
    "ExecuteTime": {
     "start_time": "2020-09-04T17:31:38.930Z"
    }
   },
   "outputs": [],
   "source": [
    "# save contents in a dataframe\n",
    "data = pd.DataFrame(content[:], columns=headings)"
   ]
  },
  {
   "cell_type": "code",
   "execution_count": null,
   "metadata": {
    "ExecuteTime": {
     "end_time": "2020-09-04T12:45:50.505818Z",
     "start_time": "2020-09-04T12:45:42.750Z"
    }
   },
   "outputs": [],
   "source": [
    "data"
   ]
  }
 ],
 "metadata": {
  "kernelspec": {
   "display_name": "Python 3",
   "language": "python",
   "name": "python3"
  },
  "language_info": {
   "codemirror_mode": {
    "name": "ipython",
    "version": 3
   },
   "file_extension": ".py",
   "mimetype": "text/x-python",
   "name": "python",
   "nbconvert_exporter": "python",
   "pygments_lexer": "ipython3",
   "version": "3.8.4"
  },
  "latex_envs": {
   "LaTeX_envs_menu_present": true,
   "autoclose": false,
   "autocomplete": true,
   "bibliofile": "biblio.bib",
   "cite_by": "apalike",
   "current_citInitial": 1,
   "eqLabelWithNumbers": true,
   "eqNumInitial": 1,
   "hotkeys": {
    "equation": "Ctrl-E",
    "itemize": "Ctrl-I"
   },
   "labels_anchors": false,
   "latex_user_defs": false,
   "report_style_numbering": false,
   "user_envs_cfg": false
  },
  "toc": {
   "base_numbering": 1,
   "nav_menu": {},
   "number_sections": true,
   "sideBar": true,
   "skip_h1_title": false,
   "title_cell": "Table of Contents",
   "title_sidebar": "Contents",
   "toc_cell": false,
   "toc_position": {},
   "toc_section_display": true,
   "toc_window_display": false
  },
  "varInspector": {
   "cols": {
    "lenName": 16,
    "lenType": 16,
    "lenVar": 40
   },
   "kernels_config": {
    "python": {
     "delete_cmd_postfix": "",
     "delete_cmd_prefix": "del ",
     "library": "var_list.py",
     "varRefreshCmd": "print(var_dic_list())"
    },
    "r": {
     "delete_cmd_postfix": ") ",
     "delete_cmd_prefix": "rm(",
     "library": "var_list.r",
     "varRefreshCmd": "cat(var_dic_list()) "
    }
   },
   "types_to_exclude": [
    "module",
    "function",
    "builtin_function_or_method",
    "instance",
    "_Feature"
   ],
   "window_display": false
  }
 },
 "nbformat": 4,
 "nbformat_minor": 4
}
