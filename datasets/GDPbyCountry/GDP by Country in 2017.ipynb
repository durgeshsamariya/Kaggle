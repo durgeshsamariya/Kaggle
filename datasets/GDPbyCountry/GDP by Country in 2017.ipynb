{
 "cells": [
  {
   "cell_type": "markdown",
   "metadata": {},
   "source": [
    "# Import Libraries\n",
    "Importing libraries are necessary for any project.\n",
    "We're going to import commonly used Webscrapping and Data Analysis libraries. Make sure all libraries are installed."
   ]
  },
  {
   "cell_type": "code",
   "execution_count": 1,
   "metadata": {
    "ExecuteTime": {
     "end_time": "2020-08-14T14:39:05.649587Z",
     "start_time": "2020-08-14T14:39:03.228574Z"
    }
   },
   "outputs": [],
   "source": [
    "import requests # for getting web contents\n",
    "from bs4 import BeautifulSoup # for scraping web contents\n",
    "import pandas as pd # for data analysis"
   ]
  },
  {
   "cell_type": "markdown",
   "metadata": {},
   "source": [
    "# URL\n",
    "For web scrapping it's important to have url."
   ]
  },
  {
   "cell_type": "code",
   "execution_count": 2,
   "metadata": {
    "ExecuteTime": {
     "end_time": "2020-08-14T14:39:07.879481Z",
     "start_time": "2020-08-14T14:39:05.668715Z"
    }
   },
   "outputs": [],
   "source": [
    "# link of web page that you want to scrap data\n",
    "URL = 'https://www.worldometers.info/gdp/gdp-by-country/'\n",
    "\n",
    "# get web data\n",
    "page = requests.get(URL)\n",
    "\n",
    "# parse web data\n",
    "soup = BeautifulSoup(page.content, \"html.parser\")"
   ]
  },
  {
   "cell_type": "code",
   "execution_count": 3,
   "metadata": {
    "ExecuteTime": {
     "end_time": "2020-08-14T14:39:07.957100Z",
     "start_time": "2020-08-14T14:39:07.912870Z"
    }
   },
   "outputs": [],
   "source": [
    "# find the table\n",
    "# our trageted table is last\n",
    "\n",
    "# getting the table head because it may contains headings (column names)\n",
    "html_thead = soup.find_all('thead')[-1]\n",
    "\n",
    "#getting all the rows in table head\n",
    "html_tr = [tr for tr in html_thead.find_all('tr')]\n",
    "\n",
    "# list to store all table headings\n",
    "headings = []\n",
    "\n",
    "# loop through table head\n",
    "for tr in html_tr:\n",
    "    # getting all th\n",
    "    th = tr.find_all(['th'])\n",
    "    # storing all th value in row and removing white space\n",
    "    row = [i.text.strip() for i in th]\n",
    "    # append headings \n",
    "    headings.append(row)\n",
    "    \n",
    "# print heading\n",
    "# print(headings)"
   ]
  },
  {
   "cell_type": "code",
   "execution_count": 4,
   "metadata": {
    "ExecuteTime": {
     "end_time": "2020-08-14T14:39:08.114095Z",
     "start_time": "2020-08-14T14:39:07.976562Z"
    }
   },
   "outputs": [],
   "source": [
    "# getting the table body\n",
    "html_tbody = soup.find_all('tbody')[-1]\n",
    "\n",
    "#getting all the rows in table body\n",
    "html_text = [tr for tr in html_tbody.find_all('tr')]\n",
    "\n",
    "# list to store all content\n",
    "content = []\n",
    "\n",
    "# loop through table body\n",
    "for tr in html_text:\n",
    "    # getting all th, td\n",
    "    th = tr.find_all(['th','td'])\n",
    "    # storing all th value in row and removing white space\n",
    "    row = [i.text.strip() for i in th]\n",
    "    # append content \n",
    "    content.append(row)\n",
    "    \n",
    "# print content\n",
    "#print(content)"
   ]
  },
  {
   "cell_type": "code",
   "execution_count": 5,
   "metadata": {
    "ExecuteTime": {
     "end_time": "2020-08-14T14:39:08.144541Z",
     "start_time": "2020-08-14T14:39:08.126543Z"
    }
   },
   "outputs": [],
   "source": [
    "# save contents in a dataframe\n",
    "data = pd.DataFrame(content[:], columns=headings[0])"
   ]
  },
  {
   "cell_type": "markdown",
   "metadata": {},
   "source": [
    "# Data Analysis"
   ]
  },
  {
   "cell_type": "markdown",
   "metadata": {},
   "source": [
    "## Look at Example Records"
   ]
  },
  {
   "cell_type": "code",
   "execution_count": 6,
   "metadata": {
    "ExecuteTime": {
     "end_time": "2020-08-14T14:39:08.278985Z",
     "start_time": "2020-08-14T14:39:08.161655Z"
    }
   },
   "outputs": [
    {
     "data": {
      "text/html": [
       "<div>\n",
       "<style scoped>\n",
       "    .dataframe tbody tr th:only-of-type {\n",
       "        vertical-align: middle;\n",
       "    }\n",
       "\n",
       "    .dataframe tbody tr th {\n",
       "        vertical-align: top;\n",
       "    }\n",
       "\n",
       "    .dataframe thead th {\n",
       "        text-align: right;\n",
       "    }\n",
       "</style>\n",
       "<table border=\"1\" class=\"dataframe\">\n",
       "  <thead>\n",
       "    <tr style=\"text-align: right;\">\n",
       "      <th></th>\n",
       "      <th>#</th>\n",
       "      <th>Country</th>\n",
       "      <th>GDP (nominal, 2017)</th>\n",
       "      <th>GDP (abbrev.)</th>\n",
       "      <th>GDP  growth</th>\n",
       "      <th>Population (2017)</th>\n",
       "      <th>GDP  per capita</th>\n",
       "      <th>Share of World GDP</th>\n",
       "    </tr>\n",
       "  </thead>\n",
       "  <tbody>\n",
       "    <tr>\n",
       "      <th>0</th>\n",
       "      <td>1</td>\n",
       "      <td>United States</td>\n",
       "      <td>$19,485,394,000,000</td>\n",
       "      <td>$19.485 trillion</td>\n",
       "      <td>2.27%</td>\n",
       "      <td>325,084,756</td>\n",
       "      <td>$59,939</td>\n",
       "      <td>24.08%</td>\n",
       "    </tr>\n",
       "    <tr>\n",
       "      <th>1</th>\n",
       "      <td>2</td>\n",
       "      <td>China</td>\n",
       "      <td>$12,237,700,479,375</td>\n",
       "      <td>$12.238 trillion</td>\n",
       "      <td>6.90%</td>\n",
       "      <td>1,421,021,791</td>\n",
       "      <td>$8,612</td>\n",
       "      <td>15.12%</td>\n",
       "    </tr>\n",
       "    <tr>\n",
       "      <th>2</th>\n",
       "      <td>3</td>\n",
       "      <td>Japan</td>\n",
       "      <td>$4,872,415,104,315</td>\n",
       "      <td>$4.872 trillion</td>\n",
       "      <td>1.71%</td>\n",
       "      <td>127,502,725</td>\n",
       "      <td>$38,214</td>\n",
       "      <td>6.02%</td>\n",
       "    </tr>\n",
       "    <tr>\n",
       "      <th>3</th>\n",
       "      <td>4</td>\n",
       "      <td>Germany</td>\n",
       "      <td>$3,693,204,332,230</td>\n",
       "      <td>$3.693 trillion</td>\n",
       "      <td>2.22%</td>\n",
       "      <td>82,658,409</td>\n",
       "      <td>$44,680</td>\n",
       "      <td>4.56%</td>\n",
       "    </tr>\n",
       "    <tr>\n",
       "      <th>4</th>\n",
       "      <td>5</td>\n",
       "      <td>India</td>\n",
       "      <td>$2,650,725,335,364</td>\n",
       "      <td>$2.651 trillion</td>\n",
       "      <td>6.68%</td>\n",
       "      <td>1,338,676,785</td>\n",
       "      <td>$1,980</td>\n",
       "      <td>3.28%</td>\n",
       "    </tr>\n",
       "  </tbody>\n",
       "</table>\n",
       "</div>"
      ],
      "text/plain": [
       "   #        Country  GDP (nominal, 2017)     GDP (abbrev.) GDP  growth  \\\n",
       "0  1  United States  $19,485,394,000,000  $19.485 trillion       2.27%   \n",
       "1  2          China  $12,237,700,479,375  $12.238 trillion       6.90%   \n",
       "2  3          Japan   $4,872,415,104,315   $4.872 trillion       1.71%   \n",
       "3  4        Germany   $3,693,204,332,230   $3.693 trillion       2.22%   \n",
       "4  5          India   $2,650,725,335,364   $2.651 trillion       6.68%   \n",
       "\n",
       "  Population (2017) GDP  per capita Share of World GDP  \n",
       "0       325,084,756         $59,939             24.08%  \n",
       "1     1,421,021,791          $8,612             15.12%  \n",
       "2       127,502,725         $38,214              6.02%  \n",
       "3        82,658,409         $44,680              4.56%  \n",
       "4     1,338,676,785          $1,980              3.28%  "
      ]
     },
     "execution_count": 6,
     "metadata": {},
     "output_type": "execute_result"
    }
   ],
   "source": [
    "# check few top rows of data\n",
    "data.head()"
   ]
  },
  {
   "cell_type": "markdown",
   "metadata": {},
   "source": [
    "## Descriptive Statistics"
   ]
  },
  {
   "cell_type": "code",
   "execution_count": 7,
   "metadata": {
    "ExecuteTime": {
     "end_time": "2020-08-14T14:39:08.395341Z",
     "start_time": "2020-08-14T14:39:08.290373Z"
    }
   },
   "outputs": [
    {
     "data": {
      "text/html": [
       "<div>\n",
       "<style scoped>\n",
       "    .dataframe tbody tr th:only-of-type {\n",
       "        vertical-align: middle;\n",
       "    }\n",
       "\n",
       "    .dataframe tbody tr th {\n",
       "        vertical-align: top;\n",
       "    }\n",
       "\n",
       "    .dataframe thead th {\n",
       "        text-align: right;\n",
       "    }\n",
       "</style>\n",
       "<table border=\"1\" class=\"dataframe\">\n",
       "  <thead>\n",
       "    <tr style=\"text-align: right;\">\n",
       "      <th></th>\n",
       "      <th>#</th>\n",
       "      <th>Country</th>\n",
       "      <th>GDP (nominal, 2017)</th>\n",
       "      <th>GDP (abbrev.)</th>\n",
       "      <th>GDP  growth</th>\n",
       "      <th>Population (2017)</th>\n",
       "      <th>GDP  per capita</th>\n",
       "      <th>Share of World GDP</th>\n",
       "    </tr>\n",
       "  </thead>\n",
       "  <tbody>\n",
       "    <tr>\n",
       "      <th>count</th>\n",
       "      <td>189</td>\n",
       "      <td>189</td>\n",
       "      <td>189</td>\n",
       "      <td>189</td>\n",
       "      <td>189</td>\n",
       "      <td>189</td>\n",
       "      <td>189</td>\n",
       "      <td>189</td>\n",
       "    </tr>\n",
       "    <tr>\n",
       "      <th>unique</th>\n",
       "      <td>189</td>\n",
       "      <td>189</td>\n",
       "      <td>189</td>\n",
       "      <td>188</td>\n",
       "      <td>166</td>\n",
       "      <td>189</td>\n",
       "      <td>188</td>\n",
       "      <td>63</td>\n",
       "    </tr>\n",
       "    <tr>\n",
       "      <th>top</th>\n",
       "      <td>47</td>\n",
       "      <td>Slovenia</td>\n",
       "      <td>$1,510,084,751</td>\n",
       "      <td>$314 billion</td>\n",
       "      <td>1.87%</td>\n",
       "      <td>96,418</td>\n",
       "      <td>$3,494</td>\n",
       "      <td>0.00%</td>\n",
       "    </tr>\n",
       "    <tr>\n",
       "      <th>freq</th>\n",
       "      <td>1</td>\n",
       "      <td>1</td>\n",
       "      <td>1</td>\n",
       "      <td>2</td>\n",
       "      <td>3</td>\n",
       "      <td>1</td>\n",
       "      <td>2</td>\n",
       "      <td>35</td>\n",
       "    </tr>\n",
       "  </tbody>\n",
       "</table>\n",
       "</div>"
      ],
      "text/plain": [
       "          #   Country GDP (nominal, 2017) GDP (abbrev.) GDP  growth  \\\n",
       "count   189       189                 189           189         189   \n",
       "unique  189       189                 189           188         166   \n",
       "top      47  Slovenia      $1,510,084,751  $314 billion       1.87%   \n",
       "freq      1         1                   1             2           3   \n",
       "\n",
       "       Population (2017) GDP  per capita Share of World GDP  \n",
       "count                189             189                189  \n",
       "unique               189             188                 63  \n",
       "top               96,418          $3,494              0.00%  \n",
       "freq                   1               2                 35  "
      ]
     },
     "execution_count": 7,
     "metadata": {},
     "output_type": "execute_result"
    }
   ],
   "source": [
    "# getting Generate descriptive statistics of data. Generate descriptive statistics include count, mean, std, min_value, 25%, 50%, 75%, max_value\n",
    "data.describe()"
   ]
  },
  {
   "cell_type": "markdown",
   "metadata": {},
   "source": [
    "## Summary of data-type, columns, non-null values, memory usage."
   ]
  },
  {
   "cell_type": "code",
   "execution_count": 8,
   "metadata": {
    "ExecuteTime": {
     "end_time": "2020-08-14T14:39:08.441817Z",
     "start_time": "2020-08-14T14:39:08.410981Z"
    }
   },
   "outputs": [
    {
     "name": "stdout",
     "output_type": "stream",
     "text": [
      "<class 'pandas.core.frame.DataFrame'>\n",
      "RangeIndex: 189 entries, 0 to 188\n",
      "Data columns (total 8 columns):\n",
      " #   Column               Non-Null Count  Dtype \n",
      "---  ------               --------------  ----- \n",
      " 0   #                    189 non-null    object\n",
      " 1   Country              189 non-null    object\n",
      " 2   GDP (nominal, 2017)  189 non-null    object\n",
      " 3   GDP (abbrev.)        189 non-null    object\n",
      " 4   GDP  growth          189 non-null    object\n",
      " 5   Population (2017)    189 non-null    object\n",
      " 6   GDP  per capita      189 non-null    object\n",
      " 7   Share of World GDP   189 non-null    object\n",
      "dtypes: object(8)\n",
      "memory usage: 11.9+ KB\n"
     ]
    }
   ],
   "source": [
    "# data info\n",
    "data.info()"
   ]
  },
  {
   "cell_type": "markdown",
   "metadata": {},
   "source": [
    "## Column labels"
   ]
  },
  {
   "cell_type": "code",
   "execution_count": 9,
   "metadata": {
    "ExecuteTime": {
     "end_time": "2020-08-14T14:39:08.483275Z",
     "start_time": "2020-08-14T14:39:08.463524Z"
    }
   },
   "outputs": [
    {
     "data": {
      "text/plain": [
       "Index(['#', 'Country', 'GDP (nominal, 2017)', 'GDP (abbrev.)', 'GDP  growth',\n",
       "       'Population (2017)', 'GDP  per capita', 'Share of World GDP'],\n",
       "      dtype='object')"
      ]
     },
     "execution_count": 9,
     "metadata": {},
     "output_type": "execute_result"
    }
   ],
   "source": [
    "# get the column labels of the data.\n",
    "data.columns"
   ]
  },
  {
   "cell_type": "markdown",
   "metadata": {},
   "source": [
    "# Data Cleaning"
   ]
  },
  {
   "cell_type": "markdown",
   "metadata": {},
   "source": [
    "## Rename Column Name"
   ]
  },
  {
   "cell_type": "code",
   "execution_count": 10,
   "metadata": {
    "ExecuteTime": {
     "end_time": "2020-08-14T14:39:08.524745Z",
     "start_time": "2020-08-14T14:39:08.492914Z"
    }
   },
   "outputs": [],
   "source": [
    "# rename column name if required\n",
    "data = data.rename(columns={'#':'Rank', 'GDP (nominal, 2017)':'GDP(in US$)', \n",
    "                            'GDP  growth':'GDP growth %', 'GDP  per capita':'GDP per capita(in US$)', \n",
    "                            'Share of World GDP':'Share of World GDP %'})"
   ]
  },
  {
   "cell_type": "code",
   "execution_count": 11,
   "metadata": {
    "ExecuteTime": {
     "end_time": "2020-08-14T14:39:08.575152Z",
     "start_time": "2020-08-14T14:39:08.531823Z"
    }
   },
   "outputs": [
    {
     "data": {
      "text/plain": [
       "Index(['Rank', 'Country', 'GDP(in US$)', 'GDP (abbrev.)', 'GDP growth %',\n",
       "       'Population (2017)', 'GDP per capita(in US$)', 'Share of World GDP %'],\n",
       "      dtype='object')"
      ]
     },
     "execution_count": 11,
     "metadata": {},
     "output_type": "execute_result"
    }
   ],
   "source": [
    "data.columns"
   ]
  },
  {
   "cell_type": "markdown",
   "metadata": {},
   "source": [
    "## Remove unwanted symbols (like % and thousand comma from integer)"
   ]
  },
  {
   "cell_type": "code",
   "execution_count": 12,
   "metadata": {
    "ExecuteTime": {
     "end_time": "2020-08-14T14:39:08.610966Z",
     "start_time": "2020-08-14T14:39:08.580005Z"
    }
   },
   "outputs": [],
   "source": [
    "# remove extra characters from columns\n",
    "\n",
    "# remove $ sign\n",
    "data['GDP(in US$)'] = data['GDP(in US$)'].str.replace('$','')\n",
    "data['GDP per capita(in US$)'] = data['GDP per capita(in US$)'].str.replace('$','')\n",
    "\n",
    "# remove % sign\n",
    "data['GDP growth %'] = data['GDP growth %'].str.replace('%','')\n",
    "data['Share of World GDP %'] = data['Share of World GDP %'].str.replace('%','')\n",
    "\n",
    "# remove thoudand comma\n",
    "data['GDP(in US$)'] = data['GDP(in US$)'].str.replace(',','')\n",
    "data['Population (2017)'] = data['Population (2017)'].str.replace(',','')\n",
    "data['GDP per capita(in US$)'] = data['GDP per capita(in US$)'].str.replace(',','')"
   ]
  },
  {
   "cell_type": "markdown",
   "metadata": {},
   "source": [
    "# Save Data into CSV"
   ]
  },
  {
   "cell_type": "code",
   "execution_count": 13,
   "metadata": {
    "ExecuteTime": {
     "end_time": "2020-08-14T14:39:08.630048Z",
     "start_time": "2020-08-14T14:39:08.614677Z"
    }
   },
   "outputs": [],
   "source": [
    "# save data\n",
    "data.to_csv('GDP by Country in 2017.csv', index=False)"
   ]
  }
 ],
 "metadata": {
  "kernelspec": {
   "display_name": "Python 3",
   "language": "python",
   "name": "python3"
  },
  "language_info": {
   "codemirror_mode": {
    "name": "ipython",
    "version": 3
   },
   "file_extension": ".py",
   "mimetype": "text/x-python",
   "name": "python",
   "nbconvert_exporter": "python",
   "pygments_lexer": "ipython3",
   "version": "3.8.4"
  },
  "latex_envs": {
   "LaTeX_envs_menu_present": true,
   "autoclose": false,
   "autocomplete": true,
   "bibliofile": "biblio.bib",
   "cite_by": "apalike",
   "current_citInitial": 1,
   "eqLabelWithNumbers": true,
   "eqNumInitial": 1,
   "hotkeys": {
    "equation": "Ctrl-E",
    "itemize": "Ctrl-I"
   },
   "labels_anchors": false,
   "latex_user_defs": false,
   "report_style_numbering": false,
   "user_envs_cfg": false
  },
  "toc": {
   "base_numbering": 1,
   "nav_menu": {},
   "number_sections": true,
   "sideBar": true,
   "skip_h1_title": false,
   "title_cell": "Table of Contents",
   "title_sidebar": "Contents",
   "toc_cell": false,
   "toc_position": {},
   "toc_section_display": true,
   "toc_window_display": false
  },
  "varInspector": {
   "cols": {
    "lenName": 16,
    "lenType": 16,
    "lenVar": 40
   },
   "kernels_config": {
    "python": {
     "delete_cmd_postfix": "",
     "delete_cmd_prefix": "del ",
     "library": "var_list.py",
     "varRefreshCmd": "print(var_dic_list())"
    },
    "r": {
     "delete_cmd_postfix": ") ",
     "delete_cmd_prefix": "rm(",
     "library": "var_list.r",
     "varRefreshCmd": "cat(var_dic_list()) "
    }
   },
   "types_to_exclude": [
    "module",
    "function",
    "builtin_function_or_method",
    "instance",
    "_Feature"
   ],
   "window_display": false
  }
 },
 "nbformat": 4,
 "nbformat_minor": 4
}
