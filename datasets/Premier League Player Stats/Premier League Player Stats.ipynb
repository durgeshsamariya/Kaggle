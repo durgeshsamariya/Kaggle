{
 "cells": [
  {
   "cell_type": "markdown",
   "metadata": {},
   "source": [
    "## Import Library"
   ]
  },
  {
   "cell_type": "code",
   "execution_count": 1,
   "metadata": {
    "ExecuteTime": {
     "end_time": "2020-07-27T14:03:13.620781Z",
     "start_time": "2020-07-27T14:03:10.589999Z"
    }
   },
   "outputs": [],
   "source": [
    "#import libraries\n",
    "\n",
    "import requests\n",
    "from bs4 import BeautifulSoup\n",
    "import pandas as pd\n",
    "import numpy as np"
   ]
  },
  {
   "cell_type": "code",
   "execution_count": 2,
   "metadata": {
    "ExecuteTime": {
     "end_time": "2020-07-27T14:03:13.668729Z",
     "start_time": "2020-07-27T14:03:13.637698Z"
    }
   },
   "outputs": [],
   "source": [
    "URL = \"https://www.msn.com/en-us/Sports/soccer/premier-league/player-stats/\""
   ]
  },
  {
   "cell_type": "code",
   "execution_count": 3,
   "metadata": {
    "ExecuteTime": {
     "end_time": "2020-07-27T14:03:15.285933Z",
     "start_time": "2020-07-27T14:03:13.752635Z"
    }
   },
   "outputs": [
    {
     "data": {
      "text/plain": [
       "[['Rank', 'PLAYER', 'TEAM', 'GP', 'GS', 'MIN', 'G', 'ASST', 'SHOTS', 'SOG']]"
      ]
     },
     "execution_count": 3,
     "metadata": {},
     "output_type": "execute_result"
    }
   ],
   "source": [
    "page = requests.get(URL)\n",
    "soup = BeautifulSoup(page.content, \"html.parser\")\n",
    "html_thead = soup.find_all('thead')[-1]\n",
    "html_th = [tr for tr in html_thead.find_all('tr')]\n",
    "\n",
    "headings = []\n",
    "\n",
    "for tr in html_th:\n",
    "    th = tr.find_all(['th'])\n",
    "    row = [i.text.strip() for i in th]\n",
    "    headings.append(row)\n",
    "    \n",
    "headings"
   ]
  },
  {
   "cell_type": "code",
   "execution_count": 4,
   "metadata": {
    "ExecuteTime": {
     "end_time": "2020-07-27T14:03:15.695433Z",
     "start_time": "2020-07-27T14:03:15.293304Z"
    }
   },
   "outputs": [],
   "source": [
    "html_tbody = soup.find_all('tbody')[-1]\n",
    "html_text = [tr for tr in html_tbody.find_all('tr')]\n",
    "\n",
    "content = []\n",
    "\n",
    "for tr in html_text:\n",
    "    th = tr.find_all(['th','td'])\n",
    "    #td = tr.find_all()\n",
    "    row = [i.text for i in th]\n",
    "    content.append(row)\n"
   ]
  },
  {
   "cell_type": "code",
   "execution_count": 5,
   "metadata": {
    "ExecuteTime": {
     "end_time": "2020-07-27T14:03:15.808956Z",
     "start_time": "2020-07-27T14:03:15.734405Z"
    }
   },
   "outputs": [],
   "source": [
    "headings[0].insert(3, 'Team LA')"
   ]
  },
  {
   "cell_type": "code",
   "execution_count": 6,
   "metadata": {
    "ExecuteTime": {
     "end_time": "2020-07-27T14:03:15.994146Z",
     "start_time": "2020-07-27T14:03:15.864572Z"
    }
   },
   "outputs": [
    {
     "data": {
      "text/html": [
       "<div>\n",
       "<style scoped>\n",
       "    .dataframe tbody tr th:only-of-type {\n",
       "        vertical-align: middle;\n",
       "    }\n",
       "\n",
       "    .dataframe tbody tr th {\n",
       "        vertical-align: top;\n",
       "    }\n",
       "\n",
       "    .dataframe thead th {\n",
       "        text-align: right;\n",
       "    }\n",
       "</style>\n",
       "<table border=\"1\" class=\"dataframe\">\n",
       "  <thead>\n",
       "    <tr style=\"text-align: right;\">\n",
       "      <th></th>\n",
       "      <th>Rank</th>\n",
       "      <th>PLAYER</th>\n",
       "      <th>TEAM</th>\n",
       "      <th>Team LA</th>\n",
       "      <th>GP</th>\n",
       "      <th>GS</th>\n",
       "      <th>MIN</th>\n",
       "      <th>G</th>\n",
       "      <th>ASST</th>\n",
       "      <th>SHOTS</th>\n",
       "      <th>SOG</th>\n",
       "    </tr>\n",
       "  </thead>\n",
       "  <tbody>\n",
       "    <tr>\n",
       "      <th>0</th>\n",
       "      <td>1</td>\n",
       "      <td>Jamie Vardy</td>\n",
       "      <td>Leicester City</td>\n",
       "      <td>LEI</td>\n",
       "      <td>35</td>\n",
       "      <td>34</td>\n",
       "      <td>3,034</td>\n",
       "      <td>23</td>\n",
       "      <td>5</td>\n",
       "      <td>71</td>\n",
       "      <td>43</td>\n",
       "    </tr>\n",
       "    <tr>\n",
       "      <th>1</th>\n",
       "      <td>2</td>\n",
       "      <td>Danny Ings</td>\n",
       "      <td>Southampton</td>\n",
       "      <td>SOU</td>\n",
       "      <td>38</td>\n",
       "      <td>32</td>\n",
       "      <td>2,812</td>\n",
       "      <td>22</td>\n",
       "      <td>2</td>\n",
       "      <td>66</td>\n",
       "      <td>38</td>\n",
       "    </tr>\n",
       "    <tr>\n",
       "      <th>2</th>\n",
       "      <td>3</td>\n",
       "      <td>Pierre-Emerick Aubameyang</td>\n",
       "      <td>Arsenal</td>\n",
       "      <td>ARS</td>\n",
       "      <td>36</td>\n",
       "      <td>35</td>\n",
       "      <td>3,138</td>\n",
       "      <td>22</td>\n",
       "      <td>3</td>\n",
       "      <td>70</td>\n",
       "      <td>42</td>\n",
       "    </tr>\n",
       "    <tr>\n",
       "      <th>3</th>\n",
       "      <td>4</td>\n",
       "      <td>Raheem Shaquille Sterling</td>\n",
       "      <td>Manchester City</td>\n",
       "      <td>MCI</td>\n",
       "      <td>33</td>\n",
       "      <td>30</td>\n",
       "      <td>2,660</td>\n",
       "      <td>20</td>\n",
       "      <td>1</td>\n",
       "      <td>68</td>\n",
       "      <td>38</td>\n",
       "    </tr>\n",
       "    <tr>\n",
       "      <th>4</th>\n",
       "      <td>5</td>\n",
       "      <td>Mohamed Salah Ghaly</td>\n",
       "      <td>Liverpool</td>\n",
       "      <td>LIV</td>\n",
       "      <td>34</td>\n",
       "      <td>33</td>\n",
       "      <td>2,884</td>\n",
       "      <td>19</td>\n",
       "      <td>10</td>\n",
       "      <td>95</td>\n",
       "      <td>59</td>\n",
       "    </tr>\n",
       "  </tbody>\n",
       "</table>\n",
       "</div>"
      ],
      "text/plain": [
       "  Rank                     PLAYER             TEAM Team LA  GP  GS    MIN   G  \\\n",
       "0    1                Jamie Vardy   Leicester City     LEI  35  34  3,034  23   \n",
       "1    2                 Danny Ings      Southampton     SOU  38  32  2,812  22   \n",
       "2    3  Pierre-Emerick Aubameyang          Arsenal     ARS  36  35  3,138  22   \n",
       "3    4  Raheem Shaquille Sterling  Manchester City     MCI  33  30  2,660  20   \n",
       "4    5        Mohamed Salah Ghaly        Liverpool     LIV  34  33  2,884  19   \n",
       "\n",
       "  ASST SHOTS SOG  \n",
       "0    5    71  43  \n",
       "1    2    66  38  \n",
       "2    3    70  42  \n",
       "3    1    68  38  \n",
       "4   10    95  59  "
      ]
     },
     "execution_count": 6,
     "metadata": {},
     "output_type": "execute_result"
    }
   ],
   "source": [
    "data = pd.DataFrame(content[:], columns=headings[0])\n",
    "data.head()"
   ]
  },
  {
   "cell_type": "code",
   "execution_count": 7,
   "metadata": {
    "ExecuteTime": {
     "end_time": "2020-07-27T14:03:16.150701Z",
     "start_time": "2020-07-27T14:03:16.012005Z"
    }
   },
   "outputs": [
    {
     "name": "stdout",
     "output_type": "stream",
     "text": [
      "<class 'pandas.core.frame.DataFrame'>\n",
      "RangeIndex: 540 entries, 0 to 539\n",
      "Data columns (total 11 columns):\n",
      " #   Column   Non-Null Count  Dtype \n",
      "---  ------   --------------  ----- \n",
      " 0   Rank     540 non-null    object\n",
      " 1   PLAYER   540 non-null    object\n",
      " 2   TEAM     540 non-null    object\n",
      " 3   Team LA  540 non-null    object\n",
      " 4   GP       540 non-null    object\n",
      " 5   GS       540 non-null    object\n",
      " 6   MIN      540 non-null    object\n",
      " 7   G        540 non-null    object\n",
      " 8   ASST     540 non-null    object\n",
      " 9   SHOTS    540 non-null    object\n",
      " 10  SOG      540 non-null    object\n",
      "dtypes: object(11)\n",
      "memory usage: 46.5+ KB\n"
     ]
    }
   ],
   "source": [
    "data.info()"
   ]
  },
  {
   "cell_type": "code",
   "execution_count": 8,
   "metadata": {
    "ExecuteTime": {
     "end_time": "2020-07-27T14:03:16.227245Z",
     "start_time": "2020-07-27T14:03:16.211252Z"
    }
   },
   "outputs": [],
   "source": [
    "# replace thousand format to integer\n",
    "data['MIN'] = data.MIN.apply(lambda x: x.replace(',',''))"
   ]
  },
  {
   "cell_type": "code",
   "execution_count": 9,
   "metadata": {
    "ExecuteTime": {
     "end_time": "2020-07-27T14:03:16.294146Z",
     "start_time": "2020-07-27T14:03:16.267521Z"
    }
   },
   "outputs": [],
   "source": [
    "data = data.drop(['Team LA'], axis=1)"
   ]
  },
  {
   "cell_type": "code",
   "execution_count": 10,
   "metadata": {
    "ExecuteTime": {
     "end_time": "2020-07-27T14:03:16.334682Z",
     "start_time": "2020-07-27T14:03:16.310542Z"
    }
   },
   "outputs": [],
   "source": [
    "data.to_csv('Fifa.csv', index=False)"
   ]
  },
  {
   "cell_type": "code",
   "execution_count": null,
   "metadata": {},
   "outputs": [],
   "source": []
  }
 ],
 "metadata": {
  "kernelspec": {
   "display_name": "Python 3",
   "language": "python",
   "name": "python3"
  },
  "language_info": {
   "codemirror_mode": {
    "name": "ipython",
    "version": 3
   },
   "file_extension": ".py",
   "mimetype": "text/x-python",
   "name": "python",
   "nbconvert_exporter": "python",
   "pygments_lexer": "ipython3",
   "version": "3.8.4"
  },
  "latex_envs": {
   "LaTeX_envs_menu_present": true,
   "autoclose": false,
   "autocomplete": true,
   "bibliofile": "biblio.bib",
   "cite_by": "apalike",
   "current_citInitial": 1,
   "eqLabelWithNumbers": true,
   "eqNumInitial": 1,
   "hotkeys": {
    "equation": "Ctrl-E",
    "itemize": "Ctrl-I"
   },
   "labels_anchors": false,
   "latex_user_defs": false,
   "report_style_numbering": false,
   "user_envs_cfg": false
  },
  "toc": {
   "base_numbering": 1,
   "nav_menu": {},
   "number_sections": true,
   "sideBar": true,
   "skip_h1_title": false,
   "title_cell": "Table of Contents",
   "title_sidebar": "Contents",
   "toc_cell": false,
   "toc_position": {},
   "toc_section_display": true,
   "toc_window_display": false
  },
  "varInspector": {
   "cols": {
    "lenName": 16,
    "lenType": 16,
    "lenVar": 40
   },
   "kernels_config": {
    "python": {
     "delete_cmd_postfix": "",
     "delete_cmd_prefix": "del ",
     "library": "var_list.py",
     "varRefreshCmd": "print(var_dic_list())"
    },
    "r": {
     "delete_cmd_postfix": ") ",
     "delete_cmd_prefix": "rm(",
     "library": "var_list.r",
     "varRefreshCmd": "cat(var_dic_list()) "
    }
   },
   "types_to_exclude": [
    "module",
    "function",
    "builtin_function_or_method",
    "instance",
    "_Feature"
   ],
   "window_display": false
  }
 },
 "nbformat": 4,
 "nbformat_minor": 4
}
