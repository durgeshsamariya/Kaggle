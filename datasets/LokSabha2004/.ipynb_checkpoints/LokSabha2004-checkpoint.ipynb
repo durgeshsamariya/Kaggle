{
 "cells": [
  {
   "cell_type": "markdown",
   "metadata": {},
   "source": [
    "# Import Libraries\n",
    "Importing libraries are necessary for any project.\n",
    "We're going to import commonly used Webscrapping and Data Analysis libraries. Make sure all libraries are installed."
   ]
  },
  {
   "cell_type": "code",
   "execution_count": 1,
   "metadata": {
    "ExecuteTime": {
     "end_time": "2020-08-31T20:30:53.190304Z",
     "start_time": "2020-08-31T20:30:52.003811Z"
    }
   },
   "outputs": [],
   "source": [
    "import requests # for getting web contents\n",
    "from bs4 import BeautifulSoup # for scraping web contents\n",
    "import pandas as pd # for data analysis\n",
    "from progressbar import ProgressBar, Percentage, Bar"
   ]
  },
  {
   "cell_type": "markdown",
   "metadata": {},
   "source": [
    "# URL\n",
    "For web scrapping it's important to have url."
   ]
  },
  {
   "cell_type": "code",
   "execution_count": 2,
   "metadata": {
    "ExecuteTime": {
     "end_time": "2020-08-31T20:31:03.533976Z",
     "start_time": "2020-08-31T20:31:00.791146Z"
    }
   },
   "outputs": [],
   "source": [
    "# link from where you want to scrap data\n",
    "base_url = 'https://myneta.info/loksabha2004/'\n",
    "\n",
    "# get web data\n",
    "page = requests.get(base_url)\n",
    "\n",
    "# parse web data\n",
    "soup = BeautifulSoup(page.content, \"html.parser\")"
   ]
  },
  {
   "cell_type": "code",
   "execution_count": 3,
   "metadata": {
    "ExecuteTime": {
     "end_time": "2020-08-31T20:31:03.776935Z",
     "start_time": "2020-08-31T20:31:03.716103Z"
    }
   },
   "outputs": [],
   "source": [
    "# find the table\n",
    "# our trageted table is last\n",
    "\n",
    "# this link have lists of links so first get all the links, all links stored in table so getting last table\n",
    "table = soup.find_all('table')[-1]\n",
    "\n",
    "# links stored in div class='items'\n",
    "divs = table.find_all('div', class_=\"items\")\n",
    "\n",
    "links = []\n",
    "cities = []\n",
    "\n",
    "for div in divs:\n",
    "    for a in div.find_all('a', href=True):\n",
    "        link = a['href']\n",
    "        if '/' in link:\n",
    "            link = link.split('/')[-1:]\n",
    "            links.append(link)\n",
    "        elif '/' not in link:\n",
    "            links.append(link)\n",
    "        city = a.text.strip()\n",
    "        cities.append(city)"
   ]
  },
  {
   "cell_type": "code",
   "execution_count": 6,
   "metadata": {
    "ExecuteTime": {
     "end_time": "2020-08-31T20:37:33.077980Z",
     "start_time": "2020-08-31T20:37:33.018318Z"
    }
   },
   "outputs": [],
   "source": [
    "# function to scrape values from each url\n",
    "def url_scrraper(url,city):\n",
    "    page = requests.get(url)\n",
    "    soup = BeautifulSoup(page.content, \"html.parser\")\n",
    "    table = soup.find_all('table', id='table1')\n",
    "    if len(table) != 0:\n",
    "        for tab in table:\n",
    "            thead = tab.find_all('th')\n",
    "    \n",
    "            for i in thead:\n",
    "                headings.append(i.text)\n",
    "            headings.insert(-1,'Constituency')\n",
    "    \n",
    "            html_text = [tr for tr in tab.find_all('tr')][1:]\n",
    "    \n",
    "            for text in html_text:\n",
    "                td = [cells for cells in text.find_all('td')]\n",
    "                if len(td)!= 0 :\n",
    "                    name = td[0].find('a').get_text().title()\n",
    "                    party = td[1].get_text()\n",
    "                    case = td[2].get_text()\n",
    "                    edu = td[3].get_text()\n",
    "                    age = td[4].get_text()\n",
    "                    ta = td[5].contents[0].strip().replace(u'Rs\\xa0',u'').replace(',','')\n",
    "                    la = td[6].contents[0].strip().replace(u'Rs\\xa0',u'').replace(',','')\n",
    "                    row = [name, party, case, edu, age, ta, la]\n",
    "                    row.insert(-1,city)\n",
    "                    content.append(row)"
   ]
  },
  {
   "cell_type": "code",
   "execution_count": 7,
   "metadata": {
    "ExecuteTime": {
     "end_time": "2020-08-31T20:43:58.071217Z",
     "start_time": "2020-08-31T20:37:35.074689Z"
    },
    "scrolled": true
   },
   "outputs": [
    {
     "name": "stderr",
     "output_type": "stream",
     "text": [
      "100%|#########################################################################|\n"
     ]
    }
   ],
   "source": [
    "content = []\n",
    "\n",
    "pbar = ProgressBar(widgets=[Percentage(), Bar()], maxval=len(cities)).start()\n",
    "\n",
    "for i in range(len(cities)):\n",
    "    pbar.update(i+1)\n",
    "    headings = []\n",
    "    if type(links[i]) == list:\n",
    "        url = base_url + links[i][0]\n",
    "    else:\n",
    "        url = base_url + links[i]\n",
    "    url_scrraper(url, cities[i])\n",
    "\n",
    "pbar.finish()"
   ]
  },
  {
   "cell_type": "code",
   "execution_count": 8,
   "metadata": {
    "ExecuteTime": {
     "end_time": "2020-08-31T20:43:58.699046Z",
     "start_time": "2020-08-31T20:43:58.626630Z"
    }
   },
   "outputs": [],
   "source": [
    "# save contents in a dataframe\n",
    "data = pd.DataFrame(content[:], columns=headings)"
   ]
  },
  {
   "cell_type": "code",
   "execution_count": 9,
   "metadata": {
    "ExecuteTime": {
     "end_time": "2020-08-31T20:44:05.551613Z",
     "start_time": "2020-08-31T20:43:59.205338Z"
    }
   },
   "outputs": [],
   "source": [
    "# link from where you want to scrap data\n",
    "winner_url = 'index.php?action=show_winners&sort=default'\n",
    "\n",
    "# get web data\n",
    "page = requests.get(base_url+winner_url)\n",
    "\n",
    "# parse web data\n",
    "soup = BeautifulSoup(page.content, \"html.parser\")"
   ]
  },
  {
   "cell_type": "code",
   "execution_count": 10,
   "metadata": {
    "ExecuteTime": {
     "end_time": "2020-08-31T20:44:06.268445Z",
     "start_time": "2020-08-31T20:44:06.177446Z"
    }
   },
   "outputs": [],
   "source": [
    "table = soup.find_all('table')[-1]\n",
    "thead = [th for th in table.find_all('th')]\n",
    "winner_headings = []\n",
    "\n",
    "for i in thead:\n",
    "    winner_headings.append(i.text.strip())\n",
    "\n",
    "winner_content = []\n",
    "html_text = [tr for tr in table.find_all('tr')][1:]\n",
    "    \n",
    "for text in html_text:\n",
    "    td = [cells for cells in text.find_all('td')]\n",
    "    if len(td)!= 0 :\n",
    "        name = td[1].find('a').get_text().title()\n",
    "        city = td[2].get_text().title()\n",
    "        party = td[3].get_text().strip()\n",
    "        case = td[4].get_text().strip()\n",
    "        edu = td[5].get_text().strip()\n",
    "        ta = td[6].contents[0].strip().replace(u'Rs\\xa0',u'').replace(',','')\n",
    "        la = td[7].contents[0].strip().replace(u'Rs\\xa0',u'').replace(',','')\n",
    "        row = [name, city, party, case, edu, ta, la]\n",
    "        winner_content.append(row)"
   ]
  },
  {
   "cell_type": "code",
   "execution_count": 11,
   "metadata": {
    "ExecuteTime": {
     "end_time": "2020-08-31T20:44:07.466232Z",
     "start_time": "2020-08-31T20:44:07.458200Z"
    }
   },
   "outputs": [],
   "source": [
    "# save contents in a dataframe\n",
    "winner_data = pd.DataFrame(winner_content[:], columns=winner_headings[1:])"
   ]
  },
  {
   "cell_type": "code",
   "execution_count": 12,
   "metadata": {
    "ExecuteTime": {
     "end_time": "2020-08-31T20:44:08.676672Z",
     "start_time": "2020-08-31T20:44:08.656026Z"
    }
   },
   "outputs": [],
   "source": [
    "winner_data = winner_data.rename(columns={'Constituency ∇':'Constituency', 'Criminal Case':'Criminal Cases'})"
   ]
  },
  {
   "cell_type": "code",
   "execution_count": 13,
   "metadata": {
    "ExecuteTime": {
     "end_time": "2020-08-31T20:44:09.886217Z",
     "start_time": "2020-08-31T20:44:09.866546Z"
    }
   },
   "outputs": [],
   "source": [
    "winner_data['Winner'] = '1'"
   ]
  },
  {
   "cell_type": "code",
   "execution_count": 14,
   "metadata": {
    "ExecuteTime": {
     "end_time": "2020-08-31T20:44:12.061892Z",
     "start_time": "2020-08-31T20:44:11.043314Z"
    }
   },
   "outputs": [],
   "source": [
    "women_url = \"index.php?action=summary&subAction=women_candidate&sort=candidate#summary\"\n",
    "page = requests.get(base_url + women_url)\n",
    "soup = BeautifulSoup(page.content, 'html.parser')\n",
    "\n",
    "women_headings = []\n",
    "\n",
    "table = soup.find_all('table')[-1]\n",
    "thead = [th for th in table.find_all('th')]\n",
    "\n",
    "for i in thead:\n",
    "    women_headings.append(i.text.strip())\n",
    "\n",
    "women_content = []\n",
    "html_text = [tr for tr in table.find_all('tr')][1:]\n",
    "    \n",
    "for text in html_text:\n",
    "    td = [cells for cells in text.find_all('td')]\n",
    "    if len(td)!= 0 :\n",
    "        name = td[1].find('a').get_text().title()\n",
    "        city = td[2].get_text().title()\n",
    "        party = td[3].get_text().strip()\n",
    "        case = td[4].get_text().strip()\n",
    "        edu = td[5].get_text().strip()\n",
    "        ta = td[6].contents[0].strip().replace(u'Rs\\xa0',u'').replace(',','')\n",
    "        la = td[7].contents[0].strip().replace(u'Rs\\xa0',u'').replace(',','')\n",
    "        row = [name, city, party, case, edu, ta, la]\n",
    "        women_content.append(row)"
   ]
  },
  {
   "cell_type": "code",
   "execution_count": 15,
   "metadata": {
    "ExecuteTime": {
     "end_time": "2020-08-31T20:44:12.646671Z",
     "start_time": "2020-08-31T20:44:12.640450Z"
    }
   },
   "outputs": [],
   "source": [
    "# save contents in a dataframe\n",
    "women_data = pd.DataFrame(women_content[:], columns=women_headings[1:])"
   ]
  },
  {
   "cell_type": "code",
   "execution_count": 16,
   "metadata": {
    "ExecuteTime": {
     "end_time": "2020-08-31T20:44:13.220985Z",
     "start_time": "2020-08-31T20:44:13.212616Z"
    }
   },
   "outputs": [],
   "source": [
    "women_data = women_data.rename(columns={'Candidate∇':'Candidate', 'Criminal Case':'Criminal Cases'})"
   ]
  },
  {
   "cell_type": "code",
   "execution_count": 17,
   "metadata": {
    "ExecuteTime": {
     "end_time": "2020-08-31T20:44:13.792654Z",
     "start_time": "2020-08-31T20:44:13.786857Z"
    }
   },
   "outputs": [],
   "source": [
    "women_data['Gender'] = 'F'"
   ]
  },
  {
   "cell_type": "code",
   "execution_count": 18,
   "metadata": {
    "ExecuteTime": {
     "end_time": "2020-08-31T20:44:14.709936Z",
     "start_time": "2020-08-31T20:44:14.622499Z"
    }
   },
   "outputs": [],
   "source": [
    "final_data = pd.merge(left=data, right=winner_data, \n",
    "                      how ='left', on=['Candidate', 'Criminal Cases', \\\n",
    "                                       'Constituency', 'Party', 'Education', \\\n",
    "                                       'Liabilities','Total Assets'])\n",
    "\n",
    "final_data = pd.merge(left=final_data, right=women_data, \n",
    "                      how ='left', on=['Candidate', 'Criminal Cases', \\\n",
    "                                       'Constituency', 'Party', 'Education', \\\n",
    "                                       'Liabilities','Total Assets'])"
   ]
  },
  {
   "cell_type": "code",
   "execution_count": 19,
   "metadata": {
    "ExecuteTime": {
     "end_time": "2020-08-31T20:44:15.733219Z",
     "start_time": "2020-08-31T20:44:15.691095Z"
    }
   },
   "outputs": [
    {
     "data": {
      "text/html": [
       "<div>\n",
       "<style scoped>\n",
       "    .dataframe tbody tr th:only-of-type {\n",
       "        vertical-align: middle;\n",
       "    }\n",
       "\n",
       "    .dataframe tbody tr th {\n",
       "        vertical-align: top;\n",
       "    }\n",
       "\n",
       "    .dataframe thead th {\n",
       "        text-align: right;\n",
       "    }\n",
       "</style>\n",
       "<table border=\"1\" class=\"dataframe\">\n",
       "  <thead>\n",
       "    <tr style=\"text-align: right;\">\n",
       "      <th></th>\n",
       "      <th>Candidate</th>\n",
       "      <th>Party</th>\n",
       "      <th>Criminal Cases</th>\n",
       "      <th>Education</th>\n",
       "      <th>Age</th>\n",
       "      <th>Total Assets</th>\n",
       "      <th>Constituency</th>\n",
       "      <th>Liabilities</th>\n",
       "      <th>Winner</th>\n",
       "      <th>Gender</th>\n",
       "    </tr>\n",
       "  </thead>\n",
       "  <tbody>\n",
       "    <tr>\n",
       "      <th>0</th>\n",
       "      <td>Manoranjan Bhakta</td>\n",
       "      <td>INC</td>\n",
       "      <td>0</td>\n",
       "      <td>Post Graduate</td>\n",
       "      <td>65</td>\n",
       "      <td>5926740</td>\n",
       "      <td>Andaman &amp; Nicobar Islands</td>\n",
       "      <td>272061</td>\n",
       "      <td>1</td>\n",
       "      <td>NaN</td>\n",
       "    </tr>\n",
       "    <tr>\n",
       "      <th>1</th>\n",
       "      <td>A K Biswas</td>\n",
       "      <td>BSP</td>\n",
       "      <td>0</td>\n",
       "      <td>Graduate</td>\n",
       "      <td>61</td>\n",
       "      <td>7876500</td>\n",
       "      <td>Andaman &amp; Nicobar Islands</td>\n",
       "      <td>65000</td>\n",
       "      <td>NaN</td>\n",
       "      <td>NaN</td>\n",
       "    </tr>\n",
       "    <tr>\n",
       "      <th>2</th>\n",
       "      <td>Asit Baran Dutta</td>\n",
       "      <td>IND</td>\n",
       "      <td>0</td>\n",
       "      <td>Graduate</td>\n",
       "      <td>50</td>\n",
       "      <td>3070000</td>\n",
       "      <td>Andaman &amp; Nicobar Islands</td>\n",
       "      <td>0</td>\n",
       "      <td>NaN</td>\n",
       "      <td>NaN</td>\n",
       "    </tr>\n",
       "    <tr>\n",
       "      <th>3</th>\n",
       "      <td>Bishnu Pada Ray</td>\n",
       "      <td>BJP</td>\n",
       "      <td>0</td>\n",
       "      <td>Graduate</td>\n",
       "      <td>54</td>\n",
       "      <td>1250619</td>\n",
       "      <td>Andaman &amp; Nicobar Islands</td>\n",
       "      <td>128710</td>\n",
       "      <td>NaN</td>\n",
       "      <td>NaN</td>\n",
       "    </tr>\n",
       "    <tr>\n",
       "      <th>4</th>\n",
       "      <td>Deepak Biswas</td>\n",
       "      <td>IND</td>\n",
       "      <td>0</td>\n",
       "      <td>Not Given</td>\n",
       "      <td>28</td>\n",
       "      <td>3000</td>\n",
       "      <td>Andaman &amp; Nicobar Islands</td>\n",
       "      <td>0</td>\n",
       "      <td>NaN</td>\n",
       "      <td>NaN</td>\n",
       "    </tr>\n",
       "    <tr>\n",
       "      <th>...</th>\n",
       "      <td>...</td>\n",
       "      <td>...</td>\n",
       "      <td>...</td>\n",
       "      <td>...</td>\n",
       "      <td>...</td>\n",
       "      <td>...</td>\n",
       "      <td>...</td>\n",
       "      <td>...</td>\n",
       "      <td>...</td>\n",
       "      <td>...</td>\n",
       "    </tr>\n",
       "    <tr>\n",
       "      <th>3637</th>\n",
       "      <td>Susmita Bauri</td>\n",
       "      <td>CPM</td>\n",
       "      <td>0</td>\n",
       "      <td>Graduate Professional</td>\n",
       "      <td>29</td>\n",
       "      <td>33000</td>\n",
       "      <td>Vishnupur</td>\n",
       "      <td>10000</td>\n",
       "      <td>1</td>\n",
       "      <td>F</td>\n",
       "    </tr>\n",
       "    <tr>\n",
       "      <th>3638</th>\n",
       "      <td>Achintya Majhi</td>\n",
       "      <td>INC</td>\n",
       "      <td>0</td>\n",
       "      <td>Graduate</td>\n",
       "      <td>38</td>\n",
       "      <td>67264</td>\n",
       "      <td>Vishnupur</td>\n",
       "      <td>50050</td>\n",
       "      <td>NaN</td>\n",
       "      <td>NaN</td>\n",
       "    </tr>\n",
       "    <tr>\n",
       "      <th>3639</th>\n",
       "      <td>Ajoy Bauri</td>\n",
       "      <td>BSP</td>\n",
       "      <td>0</td>\n",
       "      <td>Not Given</td>\n",
       "      <td>40</td>\n",
       "      <td>35000</td>\n",
       "      <td>Vishnupur</td>\n",
       "      <td>0</td>\n",
       "      <td>NaN</td>\n",
       "      <td>NaN</td>\n",
       "    </tr>\n",
       "    <tr>\n",
       "      <th>3640</th>\n",
       "      <td>Janardan Saha</td>\n",
       "      <td>AITC</td>\n",
       "      <td>0</td>\n",
       "      <td>Post Graduate</td>\n",
       "      <td>37</td>\n",
       "      <td>233612</td>\n",
       "      <td>Vishnupur</td>\n",
       "      <td>14000</td>\n",
       "      <td>NaN</td>\n",
       "      <td>NaN</td>\n",
       "    </tr>\n",
       "    <tr>\n",
       "      <th>3641</th>\n",
       "      <td>Sraban Mondal</td>\n",
       "      <td>IND</td>\n",
       "      <td>0</td>\n",
       "      <td>Graduate</td>\n",
       "      <td>40</td>\n",
       "      <td>Nil</td>\n",
       "      <td>Vishnupur</td>\n",
       "      <td>0</td>\n",
       "      <td>NaN</td>\n",
       "      <td>NaN</td>\n",
       "    </tr>\n",
       "  </tbody>\n",
       "</table>\n",
       "<p>3642 rows × 10 columns</p>\n",
       "</div>"
      ],
      "text/plain": [
       "              Candidate Party Criminal Cases              Education Age  \\\n",
       "0     Manoranjan Bhakta   INC              0          Post Graduate  65   \n",
       "1            A K Biswas   BSP              0               Graduate  61   \n",
       "2      Asit Baran Dutta   IND              0               Graduate  50   \n",
       "3       Bishnu Pada Ray   BJP              0               Graduate  54   \n",
       "4         Deepak Biswas   IND              0              Not Given  28   \n",
       "...                 ...   ...            ...                    ...  ..   \n",
       "3637      Susmita Bauri   CPM              0  Graduate Professional  29   \n",
       "3638     Achintya Majhi   INC              0               Graduate  38   \n",
       "3639         Ajoy Bauri   BSP              0              Not Given  40   \n",
       "3640      Janardan Saha  AITC              0          Post Graduate  37   \n",
       "3641      Sraban Mondal   IND              0               Graduate  40   \n",
       "\n",
       "     Total Assets               Constituency Liabilities Winner Gender  \n",
       "0         5926740  Andaman & Nicobar Islands      272061      1    NaN  \n",
       "1         7876500  Andaman & Nicobar Islands       65000    NaN    NaN  \n",
       "2         3070000  Andaman & Nicobar Islands           0    NaN    NaN  \n",
       "3         1250619  Andaman & Nicobar Islands      128710    NaN    NaN  \n",
       "4            3000  Andaman & Nicobar Islands           0    NaN    NaN  \n",
       "...           ...                        ...         ...    ...    ...  \n",
       "3637        33000                  Vishnupur       10000      1      F  \n",
       "3638        67264                  Vishnupur       50050    NaN    NaN  \n",
       "3639        35000                  Vishnupur           0    NaN    NaN  \n",
       "3640       233612                  Vishnupur       14000    NaN    NaN  \n",
       "3641          Nil                  Vishnupur           0    NaN    NaN  \n",
       "\n",
       "[3642 rows x 10 columns]"
      ]
     },
     "execution_count": 19,
     "metadata": {},
     "output_type": "execute_result"
    }
   ],
   "source": [
    "final_data"
   ]
  },
  {
   "cell_type": "code",
   "execution_count": 20,
   "metadata": {
    "ExecuteTime": {
     "end_time": "2020-08-31T20:44:16.521333Z",
     "start_time": "2020-08-31T20:44:16.498996Z"
    }
   },
   "outputs": [],
   "source": [
    "final_data['Winner'] = final_data['Winner'].fillna('0')\n",
    "final_data['Gender'] = final_data['Gender'].fillna('M')"
   ]
  },
  {
   "cell_type": "code",
   "execution_count": 21,
   "metadata": {
    "ExecuteTime": {
     "end_time": "2020-08-31T20:44:17.289118Z",
     "start_time": "2020-08-31T20:44:17.256645Z"
    }
   },
   "outputs": [],
   "source": [
    "final_data.Winner = final_data.Winner.astype('object')\n",
    "final_data['Criminal Cases'] = final_data['Criminal Cases'].astype('int')"
   ]
  },
  {
   "cell_type": "markdown",
   "metadata": {},
   "source": [
    "# Data Analysis"
   ]
  },
  {
   "cell_type": "markdown",
   "metadata": {},
   "source": [
    "## Check Data Shape"
   ]
  },
  {
   "cell_type": "code",
   "execution_count": 22,
   "metadata": {
    "ExecuteTime": {
     "end_time": "2020-08-31T20:44:17.961713Z",
     "start_time": "2020-08-31T20:44:17.955185Z"
    }
   },
   "outputs": [
    {
     "name": "stdout",
     "output_type": "stream",
     "text": [
      "(3642, 10)\n"
     ]
    }
   ],
   "source": [
    "# data shape\n",
    "print(final_data.shape)"
   ]
  },
  {
   "cell_type": "markdown",
   "metadata": {},
   "source": [
    "## Look at Example Records"
   ]
  },
  {
   "cell_type": "code",
   "execution_count": 23,
   "metadata": {
    "ExecuteTime": {
     "end_time": "2020-08-31T20:44:18.541489Z",
     "start_time": "2020-08-31T20:44:18.521297Z"
    }
   },
   "outputs": [
    {
     "data": {
      "text/html": [
       "<div>\n",
       "<style scoped>\n",
       "    .dataframe tbody tr th:only-of-type {\n",
       "        vertical-align: middle;\n",
       "    }\n",
       "\n",
       "    .dataframe tbody tr th {\n",
       "        vertical-align: top;\n",
       "    }\n",
       "\n",
       "    .dataframe thead th {\n",
       "        text-align: right;\n",
       "    }\n",
       "</style>\n",
       "<table border=\"1\" class=\"dataframe\">\n",
       "  <thead>\n",
       "    <tr style=\"text-align: right;\">\n",
       "      <th></th>\n",
       "      <th>Candidate</th>\n",
       "      <th>Party</th>\n",
       "      <th>Criminal Cases</th>\n",
       "      <th>Education</th>\n",
       "      <th>Age</th>\n",
       "      <th>Total Assets</th>\n",
       "      <th>Constituency</th>\n",
       "      <th>Liabilities</th>\n",
       "      <th>Winner</th>\n",
       "      <th>Gender</th>\n",
       "    </tr>\n",
       "  </thead>\n",
       "  <tbody>\n",
       "    <tr>\n",
       "      <th>0</th>\n",
       "      <td>Manoranjan Bhakta</td>\n",
       "      <td>INC</td>\n",
       "      <td>0</td>\n",
       "      <td>Post Graduate</td>\n",
       "      <td>65</td>\n",
       "      <td>5926740</td>\n",
       "      <td>Andaman &amp; Nicobar Islands</td>\n",
       "      <td>272061</td>\n",
       "      <td>1</td>\n",
       "      <td>M</td>\n",
       "    </tr>\n",
       "    <tr>\n",
       "      <th>1</th>\n",
       "      <td>A K Biswas</td>\n",
       "      <td>BSP</td>\n",
       "      <td>0</td>\n",
       "      <td>Graduate</td>\n",
       "      <td>61</td>\n",
       "      <td>7876500</td>\n",
       "      <td>Andaman &amp; Nicobar Islands</td>\n",
       "      <td>65000</td>\n",
       "      <td>0</td>\n",
       "      <td>M</td>\n",
       "    </tr>\n",
       "    <tr>\n",
       "      <th>2</th>\n",
       "      <td>Asit Baran Dutta</td>\n",
       "      <td>IND</td>\n",
       "      <td>0</td>\n",
       "      <td>Graduate</td>\n",
       "      <td>50</td>\n",
       "      <td>3070000</td>\n",
       "      <td>Andaman &amp; Nicobar Islands</td>\n",
       "      <td>0</td>\n",
       "      <td>0</td>\n",
       "      <td>M</td>\n",
       "    </tr>\n",
       "    <tr>\n",
       "      <th>3</th>\n",
       "      <td>Bishnu Pada Ray</td>\n",
       "      <td>BJP</td>\n",
       "      <td>0</td>\n",
       "      <td>Graduate</td>\n",
       "      <td>54</td>\n",
       "      <td>1250619</td>\n",
       "      <td>Andaman &amp; Nicobar Islands</td>\n",
       "      <td>128710</td>\n",
       "      <td>0</td>\n",
       "      <td>M</td>\n",
       "    </tr>\n",
       "    <tr>\n",
       "      <th>4</th>\n",
       "      <td>Deepak Biswas</td>\n",
       "      <td>IND</td>\n",
       "      <td>0</td>\n",
       "      <td>Not Given</td>\n",
       "      <td>28</td>\n",
       "      <td>3000</td>\n",
       "      <td>Andaman &amp; Nicobar Islands</td>\n",
       "      <td>0</td>\n",
       "      <td>0</td>\n",
       "      <td>M</td>\n",
       "    </tr>\n",
       "  </tbody>\n",
       "</table>\n",
       "</div>"
      ],
      "text/plain": [
       "           Candidate Party  Criminal Cases      Education Age Total Assets  \\\n",
       "0  Manoranjan Bhakta   INC               0  Post Graduate  65      5926740   \n",
       "1         A K Biswas   BSP               0       Graduate  61      7876500   \n",
       "2   Asit Baran Dutta   IND               0       Graduate  50      3070000   \n",
       "3    Bishnu Pada Ray   BJP               0       Graduate  54      1250619   \n",
       "4      Deepak Biswas   IND               0      Not Given  28         3000   \n",
       "\n",
       "                Constituency Liabilities Winner Gender  \n",
       "0  Andaman & Nicobar Islands      272061      1      M  \n",
       "1  Andaman & Nicobar Islands       65000      0      M  \n",
       "2  Andaman & Nicobar Islands           0      0      M  \n",
       "3  Andaman & Nicobar Islands      128710      0      M  \n",
       "4  Andaman & Nicobar Islands           0      0      M  "
      ]
     },
     "execution_count": 23,
     "metadata": {},
     "output_type": "execute_result"
    }
   ],
   "source": [
    "# check few top rows of data\n",
    "final_data.head()"
   ]
  },
  {
   "cell_type": "markdown",
   "metadata": {},
   "source": [
    "## Descriptive Statistics"
   ]
  },
  {
   "cell_type": "code",
   "execution_count": 24,
   "metadata": {
    "ExecuteTime": {
     "end_time": "2020-08-31T20:44:19.235502Z",
     "start_time": "2020-08-31T20:44:19.186481Z"
    }
   },
   "outputs": [
    {
     "data": {
      "text/html": [
       "<div>\n",
       "<style scoped>\n",
       "    .dataframe tbody tr th:only-of-type {\n",
       "        vertical-align: middle;\n",
       "    }\n",
       "\n",
       "    .dataframe tbody tr th {\n",
       "        vertical-align: top;\n",
       "    }\n",
       "\n",
       "    .dataframe thead th {\n",
       "        text-align: right;\n",
       "    }\n",
       "</style>\n",
       "<table border=\"1\" class=\"dataframe\">\n",
       "  <thead>\n",
       "    <tr style=\"text-align: right;\">\n",
       "      <th></th>\n",
       "      <th>Criminal Cases</th>\n",
       "    </tr>\n",
       "  </thead>\n",
       "  <tbody>\n",
       "    <tr>\n",
       "      <th>count</th>\n",
       "      <td>3642.000000</td>\n",
       "    </tr>\n",
       "    <tr>\n",
       "      <th>mean</th>\n",
       "      <td>0.373421</td>\n",
       "    </tr>\n",
       "    <tr>\n",
       "      <th>std</th>\n",
       "      <td>1.809383</td>\n",
       "    </tr>\n",
       "    <tr>\n",
       "      <th>min</th>\n",
       "      <td>0.000000</td>\n",
       "    </tr>\n",
       "    <tr>\n",
       "      <th>25%</th>\n",
       "      <td>0.000000</td>\n",
       "    </tr>\n",
       "    <tr>\n",
       "      <th>50%</th>\n",
       "      <td>0.000000</td>\n",
       "    </tr>\n",
       "    <tr>\n",
       "      <th>75%</th>\n",
       "      <td>0.000000</td>\n",
       "    </tr>\n",
       "    <tr>\n",
       "      <th>max</th>\n",
       "      <td>36.000000</td>\n",
       "    </tr>\n",
       "  </tbody>\n",
       "</table>\n",
       "</div>"
      ],
      "text/plain": [
       "       Criminal Cases\n",
       "count     3642.000000\n",
       "mean         0.373421\n",
       "std          1.809383\n",
       "min          0.000000\n",
       "25%          0.000000\n",
       "50%          0.000000\n",
       "75%          0.000000\n",
       "max         36.000000"
      ]
     },
     "execution_count": 24,
     "metadata": {},
     "output_type": "execute_result"
    }
   ],
   "source": [
    "# getting Generate descriptive statistics of data. Generate descriptive statistics include count, mean, std, min_value, 25%, 50%, 75%, max_value\n",
    "final_data.describe()"
   ]
  },
  {
   "cell_type": "markdown",
   "metadata": {},
   "source": [
    "## Summary of data-type, columns, non-null values, memory usage."
   ]
  },
  {
   "cell_type": "code",
   "execution_count": 25,
   "metadata": {
    "ExecuteTime": {
     "end_time": "2020-08-31T20:44:19.879103Z",
     "start_time": "2020-08-31T20:44:19.865249Z"
    }
   },
   "outputs": [
    {
     "name": "stdout",
     "output_type": "stream",
     "text": [
      "<class 'pandas.core.frame.DataFrame'>\n",
      "Int64Index: 3642 entries, 0 to 3641\n",
      "Data columns (total 10 columns):\n",
      " #   Column          Non-Null Count  Dtype \n",
      "---  ------          --------------  ----- \n",
      " 0   Candidate       3642 non-null   object\n",
      " 1   Party           3642 non-null   object\n",
      " 2   Criminal Cases  3642 non-null   int64 \n",
      " 3   Education       3642 non-null   object\n",
      " 4   Age             3642 non-null   object\n",
      " 5   Total Assets    3642 non-null   object\n",
      " 6   Constituency    3642 non-null   object\n",
      " 7   Liabilities     3642 non-null   object\n",
      " 8   Winner          3642 non-null   object\n",
      " 9   Gender          3642 non-null   object\n",
      "dtypes: int64(1), object(9)\n",
      "memory usage: 313.0+ KB\n"
     ]
    }
   ],
   "source": [
    "# data info\n",
    "final_data.info()"
   ]
  },
  {
   "cell_type": "markdown",
   "metadata": {},
   "source": [
    "## Column labels"
   ]
  },
  {
   "cell_type": "code",
   "execution_count": 26,
   "metadata": {
    "ExecuteTime": {
     "end_time": "2020-08-31T20:44:20.711868Z",
     "start_time": "2020-08-31T20:44:20.701842Z"
    }
   },
   "outputs": [
    {
     "data": {
      "text/plain": [
       "Index(['Candidate', 'Party', 'Criminal Cases', 'Education', 'Age',\n",
       "       'Total Assets', 'Constituency', 'Liabilities', 'Winner', 'Gender'],\n",
       "      dtype='object')"
      ]
     },
     "execution_count": 26,
     "metadata": {},
     "output_type": "execute_result"
    }
   ],
   "source": [
    "# get the column labels of the data.\n",
    "final_data.columns"
   ]
  },
  {
   "cell_type": "markdown",
   "metadata": {},
   "source": [
    "# Save Data into CSV"
   ]
  },
  {
   "cell_type": "code",
   "execution_count": 27,
   "metadata": {
    "ExecuteTime": {
     "end_time": "2020-08-31T20:44:21.387598Z",
     "start_time": "2020-08-31T20:44:21.342107Z"
    }
   },
   "outputs": [],
   "source": [
    "# save data\n",
    "final_data.to_csv('LokSabha2004.csv', index=False)"
   ]
  }
 ],
 "metadata": {
  "kernelspec": {
   "display_name": "Python 3",
   "language": "python",
   "name": "python3"
  },
  "language_info": {
   "codemirror_mode": {
    "name": "ipython",
    "version": 3
   },
   "file_extension": ".py",
   "mimetype": "text/x-python",
   "name": "python",
   "nbconvert_exporter": "python",
   "pygments_lexer": "ipython3",
   "version": "3.8.4"
  },
  "latex_envs": {
   "LaTeX_envs_menu_present": true,
   "autoclose": false,
   "autocomplete": true,
   "bibliofile": "biblio.bib",
   "cite_by": "apalike",
   "current_citInitial": 1,
   "eqLabelWithNumbers": true,
   "eqNumInitial": 1,
   "hotkeys": {
    "equation": "Ctrl-E",
    "itemize": "Ctrl-I"
   },
   "labels_anchors": false,
   "latex_user_defs": false,
   "report_style_numbering": false,
   "user_envs_cfg": false
  },
  "toc": {
   "base_numbering": 1,
   "nav_menu": {},
   "number_sections": true,
   "sideBar": true,
   "skip_h1_title": false,
   "title_cell": "Table of Contents",
   "title_sidebar": "Contents",
   "toc_cell": false,
   "toc_position": {},
   "toc_section_display": true,
   "toc_window_display": false
  },
  "varInspector": {
   "cols": {
    "lenName": 16,
    "lenType": 16,
    "lenVar": 40
   },
   "kernels_config": {
    "python": {
     "delete_cmd_postfix": "",
     "delete_cmd_prefix": "del ",
     "library": "var_list.py",
     "varRefreshCmd": "print(var_dic_list())"
    },
    "r": {
     "delete_cmd_postfix": ") ",
     "delete_cmd_prefix": "rm(",
     "library": "var_list.r",
     "varRefreshCmd": "cat(var_dic_list()) "
    }
   },
   "types_to_exclude": [
    "module",
    "function",
    "builtin_function_or_method",
    "instance",
    "_Feature"
   ],
   "window_display": false
  }
 },
 "nbformat": 4,
 "nbformat_minor": 4
}
