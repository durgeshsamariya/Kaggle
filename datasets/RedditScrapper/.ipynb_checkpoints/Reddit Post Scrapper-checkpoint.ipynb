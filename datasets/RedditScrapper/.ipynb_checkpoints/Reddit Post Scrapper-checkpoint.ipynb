{
 "cells": [
  {
   "cell_type": "markdown",
   "metadata": {},
   "source": [
    "# Reddit Posts Scrapper"
   ]
  },
  {
   "cell_type": "markdown",
   "metadata": {},
   "source": [
    "To scrape data from the reddit, first of all you need to validate your self."
   ]
  },
  {
   "cell_type": "code",
   "execution_count": 1,
   "metadata": {
    "ExecuteTime": {
     "end_time": "2020-08-25T08:39:09.581879Z",
     "start_time": "2020-08-25T08:39:07.078516Z"
    }
   },
   "outputs": [],
   "source": [
    "import praw\n",
    "import pandas as pd\n",
    "import datetime as dt"
   ]
  },
  {
   "cell_type": "code",
   "execution_count": 2,
   "metadata": {
    "ExecuteTime": {
     "end_time": "2020-08-25T08:39:09.613094Z",
     "start_time": "2020-08-25T08:39:09.595816Z"
    }
   },
   "outputs": [],
   "source": [
    "# chenge this\n",
    "my_client_id = 'Personal_Use_Script'\n",
    "my_client_secret = 'Client_Secret_Key'\n",
    "my_user_agent = 'Reddit_App_Name'"
   ]
  },
  {
   "cell_type": "code",
   "execution_count": 3,
   "metadata": {
    "ExecuteTime": {
     "end_time": "2020-08-25T08:39:09.632776Z",
     "start_time": "2020-08-25T08:39:09.622701Z"
    }
   },
   "outputs": [],
   "source": [
    "reddit = praw.Reddit(client_id=my_client_id, \\\n",
    "                     client_secret=my_client_secret, \\\n",
    "                     user_agent=my_user_agent)"
   ]
  },
  {
   "cell_type": "code",
   "execution_count": 4,
   "metadata": {
    "ExecuteTime": {
     "end_time": "2020-08-25T08:39:09.658724Z",
     "start_time": "2020-08-25T08:39:09.646878Z"
    }
   },
   "outputs": [],
   "source": [
    "data_dict = {\"title\":[], \"score\":[], \"id\":[], \"subreddit\":[], \"url\":[], \"num_comments\": [], \"created_on\": [], \"body\":[]}"
   ]
  },
  {
   "cell_type": "code",
   "execution_count": 5,
   "metadata": {
    "ExecuteTime": {
     "end_time": "2020-08-25T08:39:09.683216Z",
     "start_time": "2020-08-25T08:39:09.663030Z"
    }
   },
   "outputs": [],
   "source": [
    "def get_posts(subreddit_name):\n",
    "    subreddit= reddit.subreddit(subreddit_name)\n",
    "    for submission in subreddit.top(limit=1000):\n",
    "        data_dict[\"title\"].append(submission.title)\n",
    "        data_dict[\"score\"].append(submission.score)\n",
    "        data_dict[\"id\"].append(submission.id)\n",
    "        data_dict[\"subreddit\"].append(submission.subreddit)\n",
    "        data_dict[\"url\"].append(submission.url)\n",
    "        data_dict[\"num_comments\"].append(submission.num_comments)\n",
    "        data_dict[\"created_on\"].append(submission.created)\n",
    "        data_dict[\"body\"].append(submission.selftext)"
   ]
  },
  {
   "cell_type": "code",
   "execution_count": 6,
   "metadata": {
    "ExecuteTime": {
     "end_time": "2020-08-25T08:39:09.711750Z",
     "start_time": "2020-08-25T08:39:09.701240Z"
    }
   },
   "outputs": [],
   "source": [
    "subreddits= ['datascience', 'MachineLearning', 'learnmachinelearning', \n",
    "             'LanguageTechnology', 'deeplearning', 'datasets', 'visualization',\n",
    "             'dataisbeautiful', 'learnpython', 'MLQuestions', 'DataVizRequests',\n",
    "             'statistics', 'SQL', 'neuralnetworks', 'mlpapers', 'MachinesLearn',\n",
    "             'datacleaning', 'artificial']"
   ]
  },
  {
   "cell_type": "code",
   "execution_count": 7,
   "metadata": {
    "ExecuteTime": {
     "end_time": "2020-08-25T08:48:27.018167Z",
     "start_time": "2020-08-25T08:39:09.718883Z"
    }
   },
   "outputs": [],
   "source": [
    "for subreddit in subreddits:\n",
    "    get_posts(subreddit)"
   ]
  },
  {
   "cell_type": "code",
   "execution_count": 8,
   "metadata": {
    "ExecuteTime": {
     "end_time": "2020-08-25T08:48:27.089791Z",
     "start_time": "2020-08-25T08:48:27.025427Z"
    }
   },
   "outputs": [],
   "source": [
    "data = pd.DataFrame(data_dict)"
   ]
  },
  {
   "cell_type": "code",
   "execution_count": 9,
   "metadata": {
    "ExecuteTime": {
     "end_time": "2020-08-25T08:48:27.156518Z",
     "start_time": "2020-08-25T08:48:27.095629Z"
    }
   },
   "outputs": [
    {
     "data": {
      "text/html": [
       "<div>\n",
       "<style scoped>\n",
       "    .dataframe tbody tr th:only-of-type {\n",
       "        vertical-align: middle;\n",
       "    }\n",
       "\n",
       "    .dataframe tbody tr th {\n",
       "        vertical-align: top;\n",
       "    }\n",
       "\n",
       "    .dataframe thead th {\n",
       "        text-align: right;\n",
       "    }\n",
       "</style>\n",
       "<table border=\"1\" class=\"dataframe\">\n",
       "  <thead>\n",
       "    <tr style=\"text-align: right;\">\n",
       "      <th></th>\n",
       "      <th>title</th>\n",
       "      <th>score</th>\n",
       "      <th>id</th>\n",
       "      <th>subreddit</th>\n",
       "      <th>url</th>\n",
       "      <th>num_comments</th>\n",
       "      <th>created_on</th>\n",
       "      <th>body</th>\n",
       "    </tr>\n",
       "  </thead>\n",
       "  <tbody>\n",
       "    <tr>\n",
       "      <th>0</th>\n",
       "      <td>It’s never too early</td>\n",
       "      <td>2885</td>\n",
       "      <td>fg73za</td>\n",
       "      <td>datascience</td>\n",
       "      <td>https://i.redd.it/0c9louclfrl41.jpg</td>\n",
       "      <td>58</td>\n",
       "      <td>1.583838e+09</td>\n",
       "      <td></td>\n",
       "    </tr>\n",
       "    <tr>\n",
       "      <th>1</th>\n",
       "      <td>Shout Out to All the Mediocre Data Scientists ...</td>\n",
       "      <td>2641</td>\n",
       "      <td>hohvgq</td>\n",
       "      <td>datascience</td>\n",
       "      <td>https://www.reddit.com/r/datascience/comments/...</td>\n",
       "      <td>262</td>\n",
       "      <td>1.594382e+09</td>\n",
       "      <td>I've been lurking on this sub for a while now ...</td>\n",
       "    </tr>\n",
       "    <tr>\n",
       "      <th>2</th>\n",
       "      <td>Imposter Syndrome is a problem for me and I th...</td>\n",
       "      <td>2496</td>\n",
       "      <td>e6iy5o</td>\n",
       "      <td>datascience</td>\n",
       "      <td>https://i.redd.it/e292g50m4u241.jpg</td>\n",
       "      <td>136</td>\n",
       "      <td>1.575590e+09</td>\n",
       "      <td></td>\n",
       "    </tr>\n",
       "    <tr>\n",
       "      <th>3</th>\n",
       "      <td>True that</td>\n",
       "      <td>2316</td>\n",
       "      <td>ejvao9</td>\n",
       "      <td>datascience</td>\n",
       "      <td>https://i.redd.it/vh0ey1fgsm841.jpg</td>\n",
       "      <td>227</td>\n",
       "      <td>1.578164e+09</td>\n",
       "      <td></td>\n",
       "    </tr>\n",
       "    <tr>\n",
       "      <th>4</th>\n",
       "      <td>Graph of graph analysis</td>\n",
       "      <td>2227</td>\n",
       "      <td>frkgr7</td>\n",
       "      <td>datascience</td>\n",
       "      <td>https://i.redd.it/m99e3svtpqp41.jpg</td>\n",
       "      <td>43</td>\n",
       "      <td>1.585572e+09</td>\n",
       "      <td></td>\n",
       "    </tr>\n",
       "    <tr>\n",
       "      <th>...</th>\n",
       "      <td>...</td>\n",
       "      <td>...</td>\n",
       "      <td>...</td>\n",
       "      <td>...</td>\n",
       "      <td>...</td>\n",
       "      <td>...</td>\n",
       "      <td>...</td>\n",
       "      <td>...</td>\n",
       "    </tr>\n",
       "    <tr>\n",
       "      <th>15927</th>\n",
       "      <td>I/O 2019 | Your Data Stays on Your Phone: Goog...</td>\n",
       "      <td>52</td>\n",
       "      <td>blyrbf</td>\n",
       "      <td>artificial</td>\n",
       "      <td>https://medium.com/syncedreview/i-o-2019-your-...</td>\n",
       "      <td>10</td>\n",
       "      <td>1.557305e+09</td>\n",
       "      <td></td>\n",
       "    </tr>\n",
       "    <tr>\n",
       "      <th>15928</th>\n",
       "      <td>Japan aims to produce 250,000 AI experts a year</td>\n",
       "      <td>55</td>\n",
       "      <td>b7yql0</td>\n",
       "      <td>artificial</td>\n",
       "      <td>https://asia.nikkei.com/Economy/Japan-aims-to-...</td>\n",
       "      <td>11</td>\n",
       "      <td>1.554131e+09</td>\n",
       "      <td></td>\n",
       "    </tr>\n",
       "    <tr>\n",
       "      <th>15929</th>\n",
       "      <td>Why AI progress is faster than Moore’s Law — t...</td>\n",
       "      <td>49</td>\n",
       "      <td>b229a0</td>\n",
       "      <td>artificial</td>\n",
       "      <td>https://hackernoon.com/the-age-of-the-algorith...</td>\n",
       "      <td>39</td>\n",
       "      <td>1.552832e+09</td>\n",
       "      <td></td>\n",
       "    </tr>\n",
       "    <tr>\n",
       "      <th>15930</th>\n",
       "      <td>Introducing GPipe, an Open Source Library for ...</td>\n",
       "      <td>50</td>\n",
       "      <td>azh242</td>\n",
       "      <td>artificial</td>\n",
       "      <td>https://ai.googleblog.com/2019/03/introducing-...</td>\n",
       "      <td>0</td>\n",
       "      <td>1.552263e+09</td>\n",
       "      <td></td>\n",
       "    </tr>\n",
       "    <tr>\n",
       "      <th>15931</th>\n",
       "      <td>AI is not “magic dust” for your company, says ...</td>\n",
       "      <td>52</td>\n",
       "      <td>9vkwbw</td>\n",
       "      <td>artificial</td>\n",
       "      <td>https://www.technologyreview.com/s/612394/ai-i...</td>\n",
       "      <td>7</td>\n",
       "      <td>1.541803e+09</td>\n",
       "      <td></td>\n",
       "    </tr>\n",
       "  </tbody>\n",
       "</table>\n",
       "<p>15932 rows × 8 columns</p>\n",
       "</div>"
      ],
      "text/plain": [
       "                                                   title  score      id  \\\n",
       "0                                   It’s never too early   2885  fg73za   \n",
       "1      Shout Out to All the Mediocre Data Scientists ...   2641  hohvgq   \n",
       "2      Imposter Syndrome is a problem for me and I th...   2496  e6iy5o   \n",
       "3                                              True that   2316  ejvao9   \n",
       "4                                Graph of graph analysis   2227  frkgr7   \n",
       "...                                                  ...    ...     ...   \n",
       "15927  I/O 2019 | Your Data Stays on Your Phone: Goog...     52  blyrbf   \n",
       "15928    Japan aims to produce 250,000 AI experts a year     55  b7yql0   \n",
       "15929  Why AI progress is faster than Moore’s Law — t...     49  b229a0   \n",
       "15930  Introducing GPipe, an Open Source Library for ...     50  azh242   \n",
       "15931  AI is not “magic dust” for your company, says ...     52  9vkwbw   \n",
       "\n",
       "         subreddit                                                url  \\\n",
       "0      datascience                https://i.redd.it/0c9louclfrl41.jpg   \n",
       "1      datascience  https://www.reddit.com/r/datascience/comments/...   \n",
       "2      datascience                https://i.redd.it/e292g50m4u241.jpg   \n",
       "3      datascience                https://i.redd.it/vh0ey1fgsm841.jpg   \n",
       "4      datascience                https://i.redd.it/m99e3svtpqp41.jpg   \n",
       "...            ...                                                ...   \n",
       "15927   artificial  https://medium.com/syncedreview/i-o-2019-your-...   \n",
       "15928   artificial  https://asia.nikkei.com/Economy/Japan-aims-to-...   \n",
       "15929   artificial  https://hackernoon.com/the-age-of-the-algorith...   \n",
       "15930   artificial  https://ai.googleblog.com/2019/03/introducing-...   \n",
       "15931   artificial  https://www.technologyreview.com/s/612394/ai-i...   \n",
       "\n",
       "       num_comments    created_on  \\\n",
       "0                58  1.583838e+09   \n",
       "1               262  1.594382e+09   \n",
       "2               136  1.575590e+09   \n",
       "3               227  1.578164e+09   \n",
       "4                43  1.585572e+09   \n",
       "...             ...           ...   \n",
       "15927            10  1.557305e+09   \n",
       "15928            11  1.554131e+09   \n",
       "15929            39  1.552832e+09   \n",
       "15930             0  1.552263e+09   \n",
       "15931             7  1.541803e+09   \n",
       "\n",
       "                                                    body  \n",
       "0                                                         \n",
       "1      I've been lurking on this sub for a while now ...  \n",
       "2                                                         \n",
       "3                                                         \n",
       "4                                                         \n",
       "...                                                  ...  \n",
       "15927                                                     \n",
       "15928                                                     \n",
       "15929                                                     \n",
       "15930                                                     \n",
       "15931                                                     \n",
       "\n",
       "[15932 rows x 8 columns]"
      ]
     },
     "execution_count": 9,
     "metadata": {},
     "output_type": "execute_result"
    }
   ],
   "source": [
    "data"
   ]
  },
  {
   "cell_type": "code",
   "execution_count": 10,
   "metadata": {
    "ExecuteTime": {
     "end_time": "2020-08-25T08:48:27.204656Z",
     "start_time": "2020-08-25T08:48:27.162326Z"
    }
   },
   "outputs": [],
   "source": [
    "data['created_on'] = data['created_on'].apply(lambda x: dt.datetime.fromtimestamp(x))"
   ]
  },
  {
   "cell_type": "code",
   "execution_count": 11,
   "metadata": {
    "ExecuteTime": {
     "end_time": "2020-08-25T08:48:27.250787Z",
     "start_time": "2020-08-25T08:48:27.210645Z"
    }
   },
   "outputs": [
    {
     "data": {
      "text/html": [
       "<div>\n",
       "<style scoped>\n",
       "    .dataframe tbody tr th:only-of-type {\n",
       "        vertical-align: middle;\n",
       "    }\n",
       "\n",
       "    .dataframe tbody tr th {\n",
       "        vertical-align: top;\n",
       "    }\n",
       "\n",
       "    .dataframe thead th {\n",
       "        text-align: right;\n",
       "    }\n",
       "</style>\n",
       "<table border=\"1\" class=\"dataframe\">\n",
       "  <thead>\n",
       "    <tr style=\"text-align: right;\">\n",
       "      <th></th>\n",
       "      <th>title</th>\n",
       "      <th>score</th>\n",
       "      <th>id</th>\n",
       "      <th>subreddit</th>\n",
       "      <th>url</th>\n",
       "      <th>num_comments</th>\n",
       "      <th>created_on</th>\n",
       "      <th>body</th>\n",
       "    </tr>\n",
       "  </thead>\n",
       "  <tbody>\n",
       "    <tr>\n",
       "      <th>0</th>\n",
       "      <td>It’s never too early</td>\n",
       "      <td>2885</td>\n",
       "      <td>fg73za</td>\n",
       "      <td>datascience</td>\n",
       "      <td>https://i.redd.it/0c9louclfrl41.jpg</td>\n",
       "      <td>58</td>\n",
       "      <td>2020-03-10 16:26:29</td>\n",
       "      <td></td>\n",
       "    </tr>\n",
       "    <tr>\n",
       "      <th>1</th>\n",
       "      <td>Shout Out to All the Mediocre Data Scientists ...</td>\n",
       "      <td>2641</td>\n",
       "      <td>hohvgq</td>\n",
       "      <td>datascience</td>\n",
       "      <td>https://www.reddit.com/r/datascience/comments/...</td>\n",
       "      <td>262</td>\n",
       "      <td>2020-07-10 17:15:31</td>\n",
       "      <td>I've been lurking on this sub for a while now ...</td>\n",
       "    </tr>\n",
       "    <tr>\n",
       "      <th>2</th>\n",
       "      <td>Imposter Syndrome is a problem for me and I th...</td>\n",
       "      <td>2496</td>\n",
       "      <td>e6iy5o</td>\n",
       "      <td>datascience</td>\n",
       "      <td>https://i.redd.it/e292g50m4u241.jpg</td>\n",
       "      <td>136</td>\n",
       "      <td>2019-12-06 05:16:05</td>\n",
       "      <td></td>\n",
       "    </tr>\n",
       "    <tr>\n",
       "      <th>3</th>\n",
       "      <td>True that</td>\n",
       "      <td>2316</td>\n",
       "      <td>ejvao9</td>\n",
       "      <td>datascience</td>\n",
       "      <td>https://i.redd.it/vh0ey1fgsm841.jpg</td>\n",
       "      <td>227</td>\n",
       "      <td>2020-01-05 00:23:50</td>\n",
       "      <td></td>\n",
       "    </tr>\n",
       "    <tr>\n",
       "      <th>4</th>\n",
       "      <td>Graph of graph analysis</td>\n",
       "      <td>2227</td>\n",
       "      <td>frkgr7</td>\n",
       "      <td>datascience</td>\n",
       "      <td>https://i.redd.it/m99e3svtpqp41.jpg</td>\n",
       "      <td>43</td>\n",
       "      <td>2020-03-30 18:17:40</td>\n",
       "      <td></td>\n",
       "    </tr>\n",
       "    <tr>\n",
       "      <th>...</th>\n",
       "      <td>...</td>\n",
       "      <td>...</td>\n",
       "      <td>...</td>\n",
       "      <td>...</td>\n",
       "      <td>...</td>\n",
       "      <td>...</td>\n",
       "      <td>...</td>\n",
       "      <td>...</td>\n",
       "    </tr>\n",
       "    <tr>\n",
       "      <th>15927</th>\n",
       "      <td>I/O 2019 | Your Data Stays on Your Phone: Goog...</td>\n",
       "      <td>52</td>\n",
       "      <td>blyrbf</td>\n",
       "      <td>artificial</td>\n",
       "      <td>https://medium.com/syncedreview/i-o-2019-your-...</td>\n",
       "      <td>10</td>\n",
       "      <td>2019-05-08 14:18:50</td>\n",
       "      <td></td>\n",
       "    </tr>\n",
       "    <tr>\n",
       "      <th>15928</th>\n",
       "      <td>Japan aims to produce 250,000 AI experts a year</td>\n",
       "      <td>55</td>\n",
       "      <td>b7yql0</td>\n",
       "      <td>artificial</td>\n",
       "      <td>https://asia.nikkei.com/Economy/Japan-aims-to-...</td>\n",
       "      <td>11</td>\n",
       "      <td>2019-04-01 20:31:45</td>\n",
       "      <td></td>\n",
       "    </tr>\n",
       "    <tr>\n",
       "      <th>15929</th>\n",
       "      <td>Why AI progress is faster than Moore’s Law — t...</td>\n",
       "      <td>49</td>\n",
       "      <td>b229a0</td>\n",
       "      <td>artificial</td>\n",
       "      <td>https://hackernoon.com/the-age-of-the-algorith...</td>\n",
       "      <td>39</td>\n",
       "      <td>2019-03-17 19:40:56</td>\n",
       "      <td></td>\n",
       "    </tr>\n",
       "    <tr>\n",
       "      <th>15930</th>\n",
       "      <td>Introducing GPipe, an Open Source Library for ...</td>\n",
       "      <td>50</td>\n",
       "      <td>azh242</td>\n",
       "      <td>artificial</td>\n",
       "      <td>https://ai.googleblog.com/2019/03/introducing-...</td>\n",
       "      <td>0</td>\n",
       "      <td>2019-03-11 05:31:48</td>\n",
       "      <td></td>\n",
       "    </tr>\n",
       "    <tr>\n",
       "      <th>15931</th>\n",
       "      <td>AI is not “magic dust” for your company, says ...</td>\n",
       "      <td>52</td>\n",
       "      <td>9vkwbw</td>\n",
       "      <td>artificial</td>\n",
       "      <td>https://www.technologyreview.com/s/612394/ai-i...</td>\n",
       "      <td>7</td>\n",
       "      <td>2018-11-10 04:03:24</td>\n",
       "      <td></td>\n",
       "    </tr>\n",
       "  </tbody>\n",
       "</table>\n",
       "<p>15932 rows × 8 columns</p>\n",
       "</div>"
      ],
      "text/plain": [
       "                                                   title  score      id  \\\n",
       "0                                   It’s never too early   2885  fg73za   \n",
       "1      Shout Out to All the Mediocre Data Scientists ...   2641  hohvgq   \n",
       "2      Imposter Syndrome is a problem for me and I th...   2496  e6iy5o   \n",
       "3                                              True that   2316  ejvao9   \n",
       "4                                Graph of graph analysis   2227  frkgr7   \n",
       "...                                                  ...    ...     ...   \n",
       "15927  I/O 2019 | Your Data Stays on Your Phone: Goog...     52  blyrbf   \n",
       "15928    Japan aims to produce 250,000 AI experts a year     55  b7yql0   \n",
       "15929  Why AI progress is faster than Moore’s Law — t...     49  b229a0   \n",
       "15930  Introducing GPipe, an Open Source Library for ...     50  azh242   \n",
       "15931  AI is not “magic dust” for your company, says ...     52  9vkwbw   \n",
       "\n",
       "         subreddit                                                url  \\\n",
       "0      datascience                https://i.redd.it/0c9louclfrl41.jpg   \n",
       "1      datascience  https://www.reddit.com/r/datascience/comments/...   \n",
       "2      datascience                https://i.redd.it/e292g50m4u241.jpg   \n",
       "3      datascience                https://i.redd.it/vh0ey1fgsm841.jpg   \n",
       "4      datascience                https://i.redd.it/m99e3svtpqp41.jpg   \n",
       "...            ...                                                ...   \n",
       "15927   artificial  https://medium.com/syncedreview/i-o-2019-your-...   \n",
       "15928   artificial  https://asia.nikkei.com/Economy/Japan-aims-to-...   \n",
       "15929   artificial  https://hackernoon.com/the-age-of-the-algorith...   \n",
       "15930   artificial  https://ai.googleblog.com/2019/03/introducing-...   \n",
       "15931   artificial  https://www.technologyreview.com/s/612394/ai-i...   \n",
       "\n",
       "       num_comments          created_on  \\\n",
       "0                58 2020-03-10 16:26:29   \n",
       "1               262 2020-07-10 17:15:31   \n",
       "2               136 2019-12-06 05:16:05   \n",
       "3               227 2020-01-05 00:23:50   \n",
       "4                43 2020-03-30 18:17:40   \n",
       "...             ...                 ...   \n",
       "15927            10 2019-05-08 14:18:50   \n",
       "15928            11 2019-04-01 20:31:45   \n",
       "15929            39 2019-03-17 19:40:56   \n",
       "15930             0 2019-03-11 05:31:48   \n",
       "15931             7 2018-11-10 04:03:24   \n",
       "\n",
       "                                                    body  \n",
       "0                                                         \n",
       "1      I've been lurking on this sub for a while now ...  \n",
       "2                                                         \n",
       "3                                                         \n",
       "4                                                         \n",
       "...                                                  ...  \n",
       "15927                                                     \n",
       "15928                                                     \n",
       "15929                                                     \n",
       "15930                                                     \n",
       "15931                                                     \n",
       "\n",
       "[15932 rows x 8 columns]"
      ]
     },
     "execution_count": 11,
     "metadata": {},
     "output_type": "execute_result"
    }
   ],
   "source": [
    "data"
   ]
  },
  {
   "cell_type": "code",
   "execution_count": 12,
   "metadata": {
    "ExecuteTime": {
     "end_time": "2020-08-25T08:48:27.864251Z",
     "start_time": "2020-08-25T08:48:27.255240Z"
    }
   },
   "outputs": [],
   "source": [
    "data.to_csv('machine_learning_and_data_science_subreddit_data.csv', index=False) "
   ]
  }
 ],
 "metadata": {
  "kernelspec": {
   "display_name": "Python 3",
   "language": "python",
   "name": "python3"
  },
  "language_info": {
   "codemirror_mode": {
    "name": "ipython",
    "version": 3
   },
   "file_extension": ".py",
   "mimetype": "text/x-python",
   "name": "python",
   "nbconvert_exporter": "python",
   "pygments_lexer": "ipython3",
   "version": "3.8.4"
  },
  "latex_envs": {
   "LaTeX_envs_menu_present": true,
   "autoclose": false,
   "autocomplete": true,
   "bibliofile": "biblio.bib",
   "cite_by": "apalike",
   "current_citInitial": 1,
   "eqLabelWithNumbers": true,
   "eqNumInitial": 1,
   "hotkeys": {
    "equation": "Ctrl-E",
    "itemize": "Ctrl-I"
   },
   "labels_anchors": false,
   "latex_user_defs": false,
   "report_style_numbering": false,
   "user_envs_cfg": false
  },
  "toc": {
   "base_numbering": 1,
   "nav_menu": {},
   "number_sections": true,
   "sideBar": true,
   "skip_h1_title": false,
   "title_cell": "Table of Contents",
   "title_sidebar": "Contents",
   "toc_cell": false,
   "toc_position": {},
   "toc_section_display": true,
   "toc_window_display": false
  },
  "varInspector": {
   "cols": {
    "lenName": 16,
    "lenType": 16,
    "lenVar": 40
   },
   "kernels_config": {
    "python": {
     "delete_cmd_postfix": "",
     "delete_cmd_prefix": "del ",
     "library": "var_list.py",
     "varRefreshCmd": "print(var_dic_list())"
    },
    "r": {
     "delete_cmd_postfix": ") ",
     "delete_cmd_prefix": "rm(",
     "library": "var_list.r",
     "varRefreshCmd": "cat(var_dic_list()) "
    }
   },
   "types_to_exclude": [
    "module",
    "function",
    "builtin_function_or_method",
    "instance",
    "_Feature"
   ],
   "window_display": false
  }
 },
 "nbformat": 4,
 "nbformat_minor": 4
}
