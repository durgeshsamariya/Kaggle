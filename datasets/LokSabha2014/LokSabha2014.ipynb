{
 "cells": [
  {
   "cell_type": "markdown",
   "metadata": {},
   "source": [
    "# Import Libraries\n",
    "Importing libraries are necessary for any project.\n",
    "We're going to import commonly used Webscrapping and Data Analysis libraries. Make sure all libraries are installed."
   ]
  },
  {
   "cell_type": "code",
   "execution_count": 1,
   "metadata": {
    "ExecuteTime": {
     "end_time": "2020-08-07T07:02:19.449902Z",
     "start_time": "2020-08-07T07:02:17.801979Z"
    }
   },
   "outputs": [],
   "source": [
    "import requests # for getting web contents\n",
    "from bs4 import BeautifulSoup # for scraping web contents\n",
    "import pandas as pd # for data analysis"
   ]
  },
  {
   "cell_type": "markdown",
   "metadata": {},
   "source": [
    "# URL\n",
    "For web scrapping it's important to have url."
   ]
  },
  {
   "cell_type": "code",
   "execution_count": 6,
   "metadata": {
    "ExecuteTime": {
     "end_time": "2020-08-07T07:02:29.418795Z",
     "start_time": "2020-08-07T07:02:24.888731Z"
    }
   },
   "outputs": [],
   "source": [
    "# link from where you want to scrap data\n",
    "URL = 'https://myneta.info/ls2014/'\n",
    "\n",
    "# get web data\n",
    "page = requests.get(URL)\n",
    "\n",
    "# parse web data\n",
    "soup = BeautifulSoup(page.content, \"html.parser\")"
   ]
  },
  {
   "cell_type": "code",
   "execution_count": 8,
   "metadata": {
    "ExecuteTime": {
     "end_time": "2020-08-07T07:02:30.442005Z",
     "start_time": "2020-08-07T07:02:30.385760Z"
    }
   },
   "outputs": [],
   "source": [
    "# find the table\n",
    "# our trageted table is last\n",
    "\n",
    "# this link have lists of links so first get all the links, all links stored in table so getting last table\n",
    "table = soup.find_all('table')[-1]\n",
    "\n",
    "# links stored in div class='items'\n",
    "divs = table.find_all('div', class_=\"items\")\n",
    "\n",
    "links = []\n",
    "cities = []\n",
    "\n",
    "for div in divs:\n",
    "    for a in div.find_all('a', href=True):\n",
    "        link = a['href']\n",
    "        if '/' in link:\n",
    "            link = link.split('/')[-1:]\n",
    "            links.append(link)\n",
    "        elif '/' not in link:\n",
    "            links.append(link)\n",
    "        city = a.text.strip()\n",
    "        cities.append(city)"
   ]
  },
  {
   "cell_type": "code",
   "execution_count": 9,
   "metadata": {
    "ExecuteTime": {
     "end_time": "2020-08-07T07:02:43.426774Z",
     "start_time": "2020-08-07T07:02:43.416034Z"
    }
   },
   "outputs": [],
   "source": [
    "# function to scrape values from each url\n",
    "def url_scrraper(url,city):\n",
    "    page = requests.get(url)\n",
    "    soup = BeautifulSoup(page.content, \"html.parser\")\n",
    "    table = soup.find_all('table')[-1]\n",
    "    thead = [th for th in table.find_all('th')]\n",
    "    for i in thead:\n",
    "        headings.append(i.text)\n",
    "    headings.insert(-1,'City')\n",
    "    \n",
    "    html_text = [tr for tr in table.find_all('tr')][1:]\n",
    "    \n",
    "    for text in html_text:\n",
    "        td = [cells for cells in text.find_all('td')]\n",
    "        if len(td)!= 0 :\n",
    "            name = td[0].find('a').get_text()\n",
    "            party = td[1].get_text()\n",
    "            case = td[2].get_text()\n",
    "            edu = td[3].get_text()\n",
    "            age = td[4].get_text()\n",
    "            ta = td[5].get_text()\n",
    "            la = td[6].get_text()\n",
    "            row = [name, party, case, edu, age, ta, la]\n",
    "            row.insert(-1,city)\n",
    "\n",
    "            #print(row)\n",
    "            content.append(row)"
   ]
  },
  {
   "cell_type": "code",
   "execution_count": 11,
   "metadata": {
    "ExecuteTime": {
     "end_time": "2020-08-07T07:10:33.467390Z",
     "start_time": "2020-08-07T07:03:02.236835Z"
    }
   },
   "outputs": [],
   "source": [
    "base_url = 'https://myneta.info/ls2014/'\n",
    "content = []\n",
    "\n",
    "for i in range(len(cities)):\n",
    "    headings = []\n",
    "    if type(links[i]) == list:\n",
    "        url = base_url + links[i][0]\n",
    "    else:\n",
    "        url = base_url + links[i]\n",
    "    url_scrraper(url, cities[i])"
   ]
  },
  {
   "cell_type": "code",
   "execution_count": 12,
   "metadata": {
    "ExecuteTime": {
     "end_time": "2020-08-07T07:10:36.519781Z",
     "start_time": "2020-08-07T07:10:36.498617Z"
    }
   },
   "outputs": [],
   "source": [
    "# save contents in a dataframe\n",
    "data = pd.DataFrame(content[:], columns=headings)"
   ]
  },
  {
   "cell_type": "markdown",
   "metadata": {},
   "source": [
    "# Data Analysis"
   ]
  },
  {
   "cell_type": "markdown",
   "metadata": {},
   "source": [
    "## Check Data Shape"
   ]
  },
  {
   "cell_type": "code",
   "execution_count": 13,
   "metadata": {
    "ExecuteTime": {
     "end_time": "2020-08-07T07:15:50.290567Z",
     "start_time": "2020-08-07T07:15:50.250348Z"
    }
   },
   "outputs": [
    {
     "name": "stdout",
     "output_type": "stream",
     "text": [
      "(8484, 8)\n"
     ]
    }
   ],
   "source": [
    "# data shape\n",
    "print(data.shape)"
   ]
  },
  {
   "cell_type": "markdown",
   "metadata": {},
   "source": [
    "## Look at Example Records"
   ]
  },
  {
   "cell_type": "code",
   "execution_count": 14,
   "metadata": {
    "ExecuteTime": {
     "end_time": "2020-08-07T07:16:00.293355Z",
     "start_time": "2020-08-07T07:16:00.239740Z"
    }
   },
   "outputs": [
    {
     "data": {
      "text/html": [
       "<div>\n",
       "<style scoped>\n",
       "    .dataframe tbody tr th:only-of-type {\n",
       "        vertical-align: middle;\n",
       "    }\n",
       "\n",
       "    .dataframe tbody tr th {\n",
       "        vertical-align: top;\n",
       "    }\n",
       "\n",
       "    .dataframe thead th {\n",
       "        text-align: right;\n",
       "    }\n",
       "</style>\n",
       "<table border=\"1\" class=\"dataframe\">\n",
       "  <thead>\n",
       "    <tr style=\"text-align: right;\">\n",
       "      <th></th>\n",
       "      <th>Candidate</th>\n",
       "      <th>Party</th>\n",
       "      <th>Criminal Cases</th>\n",
       "      <th>Education</th>\n",
       "      <th>Age</th>\n",
       "      <th>Total Assets</th>\n",
       "      <th>City</th>\n",
       "      <th>Liabilities</th>\n",
       "    </tr>\n",
       "  </thead>\n",
       "  <tbody>\n",
       "    <tr>\n",
       "      <th>0</th>\n",
       "      <td>Bishnu Pada Ray</td>\n",
       "      <td>BJP</td>\n",
       "      <td>1</td>\n",
       "      <td>Graduate</td>\n",
       "      <td>64</td>\n",
       "      <td>Rs 56,58,980 ~ 56 Lacs+</td>\n",
       "      <td>ANDAMAN AND NICOBAR ISLANDS</td>\n",
       "      <td>Rs 1,75,115 ~ 1 Lacs+</td>\n",
       "    </tr>\n",
       "    <tr>\n",
       "      <th>1</th>\n",
       "      <td>A Pandian</td>\n",
       "      <td>AIFB</td>\n",
       "      <td>0</td>\n",
       "      <td>12th Pass</td>\n",
       "      <td>41</td>\n",
       "      <td>Rs 8,59,410 ~ 8 Lacs+</td>\n",
       "      <td>ANDAMAN AND NICOBAR ISLANDS</td>\n",
       "      <td>Rs 3,50,000 ~ 3 Lacs+</td>\n",
       "    </tr>\n",
       "    <tr>\n",
       "      <th>2</th>\n",
       "      <td>Anita Mondal</td>\n",
       "      <td>AITC</td>\n",
       "      <td>1</td>\n",
       "      <td>Graduate</td>\n",
       "      <td>48</td>\n",
       "      <td>Rs 54,71,073 ~ 54 Lacs+</td>\n",
       "      <td>ANDAMAN AND NICOBAR ISLANDS</td>\n",
       "      <td>Rs 6,000 ~ 6 Thou+</td>\n",
       "    </tr>\n",
       "    <tr>\n",
       "      <th>3</th>\n",
       "      <td>C G Saji Kumar</td>\n",
       "      <td>IND</td>\n",
       "      <td>0</td>\n",
       "      <td>12th Pass</td>\n",
       "      <td>41</td>\n",
       "      <td>Rs 50,000 ~ 50 Thou+</td>\n",
       "      <td>ANDAMAN AND NICOBAR ISLANDS</td>\n",
       "      <td>Rs 0 ~</td>\n",
       "    </tr>\n",
       "    <tr>\n",
       "      <th>4</th>\n",
       "      <td>Gaur Chandra Majumder</td>\n",
       "      <td>BSP</td>\n",
       "      <td>0</td>\n",
       "      <td>Graduate</td>\n",
       "      <td>47</td>\n",
       "      <td>Rs 31,92,819 ~ 31 Lacs+</td>\n",
       "      <td>ANDAMAN AND NICOBAR ISLANDS</td>\n",
       "      <td>Rs 6,88,689 ~ 6 Lacs+</td>\n",
       "    </tr>\n",
       "  </tbody>\n",
       "</table>\n",
       "</div>"
      ],
      "text/plain": [
       "               Candidate Party Criminal Cases  Education Age  \\\n",
       "0        Bishnu Pada Ray   BJP             1    Graduate  64   \n",
       "1              A Pandian  AIFB              0  12th Pass  41   \n",
       "2           Anita Mondal  AITC             1    Graduate  48   \n",
       "3         C G Saji Kumar   IND              0  12th Pass  41   \n",
       "4  Gaur Chandra Majumder   BSP              0   Graduate  47   \n",
       "\n",
       "              Total Assets                         City            Liabilities  \n",
       "0  Rs 56,58,980 ~ 56 Lacs+  ANDAMAN AND NICOBAR ISLANDS  Rs 1,75,115 ~ 1 Lacs+  \n",
       "1    Rs 8,59,410 ~ 8 Lacs+  ANDAMAN AND NICOBAR ISLANDS  Rs 3,50,000 ~ 3 Lacs+  \n",
       "2  Rs 54,71,073 ~ 54 Lacs+  ANDAMAN AND NICOBAR ISLANDS     Rs 6,000 ~ 6 Thou+  \n",
       "3     Rs 50,000 ~ 50 Thou+  ANDAMAN AND NICOBAR ISLANDS                Rs 0 ~   \n",
       "4  Rs 31,92,819 ~ 31 Lacs+  ANDAMAN AND NICOBAR ISLANDS  Rs 6,88,689 ~ 6 Lacs+  "
      ]
     },
     "execution_count": 14,
     "metadata": {},
     "output_type": "execute_result"
    }
   ],
   "source": [
    "# check few top rows of data\n",
    "data.head()"
   ]
  },
  {
   "cell_type": "markdown",
   "metadata": {},
   "source": [
    "## Descriptive Statistics"
   ]
  },
  {
   "cell_type": "code",
   "execution_count": 15,
   "metadata": {
    "ExecuteTime": {
     "end_time": "2020-08-07T07:16:03.288393Z",
     "start_time": "2020-08-07T07:16:03.176403Z"
    }
   },
   "outputs": [
    {
     "data": {
      "text/html": [
       "<div>\n",
       "<style scoped>\n",
       "    .dataframe tbody tr th:only-of-type {\n",
       "        vertical-align: middle;\n",
       "    }\n",
       "\n",
       "    .dataframe tbody tr th {\n",
       "        vertical-align: top;\n",
       "    }\n",
       "\n",
       "    .dataframe thead th {\n",
       "        text-align: right;\n",
       "    }\n",
       "</style>\n",
       "<table border=\"1\" class=\"dataframe\">\n",
       "  <thead>\n",
       "    <tr style=\"text-align: right;\">\n",
       "      <th></th>\n",
       "      <th>Candidate</th>\n",
       "      <th>Party</th>\n",
       "      <th>Criminal Cases</th>\n",
       "      <th>Education</th>\n",
       "      <th>Age</th>\n",
       "      <th>Total Assets</th>\n",
       "      <th>City</th>\n",
       "      <th>Liabilities</th>\n",
       "    </tr>\n",
       "  </thead>\n",
       "  <tbody>\n",
       "    <tr>\n",
       "      <th>count</th>\n",
       "      <td>8484</td>\n",
       "      <td>8484</td>\n",
       "      <td>8484</td>\n",
       "      <td>8484</td>\n",
       "      <td>8484</td>\n",
       "      <td>8484</td>\n",
       "      <td>8484</td>\n",
       "      <td>8484</td>\n",
       "    </tr>\n",
       "    <tr>\n",
       "      <th>unique</th>\n",
       "      <td>8114</td>\n",
       "      <td>513</td>\n",
       "      <td>33</td>\n",
       "      <td>12</td>\n",
       "      <td>64</td>\n",
       "      <td>7041</td>\n",
       "      <td>571</td>\n",
       "      <td>2270</td>\n",
       "    </tr>\n",
       "    <tr>\n",
       "      <th>top</th>\n",
       "      <td>Ashok Kumar</td>\n",
       "      <td>IND</td>\n",
       "      <td>0</td>\n",
       "      <td>Graduate</td>\n",
       "      <td>43</td>\n",
       "      <td>Nil</td>\n",
       "      <td>VARANASI</td>\n",
       "      <td>Rs 0 ~</td>\n",
       "    </tr>\n",
       "    <tr>\n",
       "      <th>freq</th>\n",
       "      <td>15</td>\n",
       "      <td>3337</td>\n",
       "      <td>7036</td>\n",
       "      <td>1560</td>\n",
       "      <td>300</td>\n",
       "      <td>78</td>\n",
       "      <td>42</td>\n",
       "      <td>4904</td>\n",
       "    </tr>\n",
       "  </tbody>\n",
       "</table>\n",
       "</div>"
      ],
      "text/plain": [
       "          Candidate Party Criminal Cases Education   Age Total Assets  \\\n",
       "count          8484  8484           8484      8484  8484         8484   \n",
       "unique         8114   513             33        12    64         7041   \n",
       "top     Ashok Kumar   IND              0  Graduate    43          Nil   \n",
       "freq             15  3337           7036      1560   300           78   \n",
       "\n",
       "            City Liabilities  \n",
       "count       8484        8484  \n",
       "unique       571        2270  \n",
       "top     VARANASI     Rs 0 ~   \n",
       "freq          42        4904  "
      ]
     },
     "execution_count": 15,
     "metadata": {},
     "output_type": "execute_result"
    }
   ],
   "source": [
    "# getting Generate descriptive statistics of data. Generate descriptive statistics include count, mean, std, min_value, 25%, 50%, 75%, max_value\n",
    "data.describe()"
   ]
  },
  {
   "cell_type": "markdown",
   "metadata": {},
   "source": [
    "## Summary of data-type, columns, non-null values, memory usage."
   ]
  },
  {
   "cell_type": "code",
   "execution_count": 16,
   "metadata": {
    "ExecuteTime": {
     "end_time": "2020-08-07T07:16:08.670925Z",
     "start_time": "2020-08-07T07:16:08.643332Z"
    }
   },
   "outputs": [
    {
     "name": "stdout",
     "output_type": "stream",
     "text": [
      "<class 'pandas.core.frame.DataFrame'>\n",
      "RangeIndex: 8484 entries, 0 to 8483\n",
      "Data columns (total 8 columns):\n",
      " #   Column          Non-Null Count  Dtype \n",
      "---  ------          --------------  ----- \n",
      " 0   Candidate       8484 non-null   object\n",
      " 1   Party           8484 non-null   object\n",
      " 2   Criminal Cases  8484 non-null   object\n",
      " 3   Education       8484 non-null   object\n",
      " 4   Age             8484 non-null   object\n",
      " 5   Total Assets    8484 non-null   object\n",
      " 6   City            8484 non-null   object\n",
      " 7   Liabilities     8484 non-null   object\n",
      "dtypes: object(8)\n",
      "memory usage: 530.4+ KB\n"
     ]
    }
   ],
   "source": [
    "# data info\n",
    "data.info()"
   ]
  },
  {
   "cell_type": "markdown",
   "metadata": {},
   "source": [
    "## Column labels"
   ]
  },
  {
   "cell_type": "code",
   "execution_count": 17,
   "metadata": {
    "ExecuteTime": {
     "end_time": "2020-08-07T07:16:11.554972Z",
     "start_time": "2020-08-07T07:16:11.548020Z"
    }
   },
   "outputs": [
    {
     "data": {
      "text/plain": [
       "Index(['Candidate', 'Party', 'Criminal Cases', 'Education', 'Age',\n",
       "       'Total Assets', 'City', 'Liabilities'],\n",
       "      dtype='object')"
      ]
     },
     "execution_count": 17,
     "metadata": {},
     "output_type": "execute_result"
    }
   ],
   "source": [
    "# get the column labels of the data.\n",
    "data.columns"
   ]
  },
  {
   "cell_type": "markdown",
   "metadata": {},
   "source": [
    "# Data Cleaning"
   ]
  },
  {
   "cell_type": "markdown",
   "metadata": {},
   "source": [
    "## Drop Column"
   ]
  },
  {
   "cell_type": "code",
   "execution_count": 18,
   "metadata": {
    "ExecuteTime": {
     "end_time": "2020-08-07T07:16:15.159214Z",
     "start_time": "2020-08-07T07:16:15.146114Z"
    }
   },
   "outputs": [],
   "source": [
    "# drop column\n",
    "data = data.drop(['Total Assets', 'Liabilities'], axis=1)"
   ]
  },
  {
   "cell_type": "code",
   "execution_count": 19,
   "metadata": {
    "ExecuteTime": {
     "end_time": "2020-08-07T07:16:17.918920Z",
     "start_time": "2020-08-07T07:16:17.898790Z"
    }
   },
   "outputs": [
    {
     "data": {
      "text/html": [
       "<div>\n",
       "<style scoped>\n",
       "    .dataframe tbody tr th:only-of-type {\n",
       "        vertical-align: middle;\n",
       "    }\n",
       "\n",
       "    .dataframe tbody tr th {\n",
       "        vertical-align: top;\n",
       "    }\n",
       "\n",
       "    .dataframe thead th {\n",
       "        text-align: right;\n",
       "    }\n",
       "</style>\n",
       "<table border=\"1\" class=\"dataframe\">\n",
       "  <thead>\n",
       "    <tr style=\"text-align: right;\">\n",
       "      <th></th>\n",
       "      <th>Candidate</th>\n",
       "      <th>Party</th>\n",
       "      <th>Criminal Cases</th>\n",
       "      <th>Education</th>\n",
       "      <th>Age</th>\n",
       "      <th>City</th>\n",
       "    </tr>\n",
       "  </thead>\n",
       "  <tbody>\n",
       "    <tr>\n",
       "      <th>0</th>\n",
       "      <td>Bishnu Pada Ray</td>\n",
       "      <td>BJP</td>\n",
       "      <td>1</td>\n",
       "      <td>Graduate</td>\n",
       "      <td>64</td>\n",
       "      <td>ANDAMAN AND NICOBAR ISLANDS</td>\n",
       "    </tr>\n",
       "    <tr>\n",
       "      <th>1</th>\n",
       "      <td>A Pandian</td>\n",
       "      <td>AIFB</td>\n",
       "      <td>0</td>\n",
       "      <td>12th Pass</td>\n",
       "      <td>41</td>\n",
       "      <td>ANDAMAN AND NICOBAR ISLANDS</td>\n",
       "    </tr>\n",
       "    <tr>\n",
       "      <th>2</th>\n",
       "      <td>Anita Mondal</td>\n",
       "      <td>AITC</td>\n",
       "      <td>1</td>\n",
       "      <td>Graduate</td>\n",
       "      <td>48</td>\n",
       "      <td>ANDAMAN AND NICOBAR ISLANDS</td>\n",
       "    </tr>\n",
       "    <tr>\n",
       "      <th>3</th>\n",
       "      <td>C G Saji Kumar</td>\n",
       "      <td>IND</td>\n",
       "      <td>0</td>\n",
       "      <td>12th Pass</td>\n",
       "      <td>41</td>\n",
       "      <td>ANDAMAN AND NICOBAR ISLANDS</td>\n",
       "    </tr>\n",
       "    <tr>\n",
       "      <th>4</th>\n",
       "      <td>Gaur Chandra Majumder</td>\n",
       "      <td>BSP</td>\n",
       "      <td>0</td>\n",
       "      <td>Graduate</td>\n",
       "      <td>47</td>\n",
       "      <td>ANDAMAN AND NICOBAR ISLANDS</td>\n",
       "    </tr>\n",
       "    <tr>\n",
       "      <th>...</th>\n",
       "      <td>...</td>\n",
       "      <td>...</td>\n",
       "      <td>...</td>\n",
       "      <td>...</td>\n",
       "      <td>...</td>\n",
       "      <td>...</td>\n",
       "    </tr>\n",
       "    <tr>\n",
       "      <th>8479</th>\n",
       "      <td>Sabiruddin Molla</td>\n",
       "      <td>CPI(M)</td>\n",
       "      <td>0</td>\n",
       "      <td>Graduate</td>\n",
       "      <td>43</td>\n",
       "      <td>ULUBERIA : BYE ELECTION ON 29-01-2018</td>\n",
       "    </tr>\n",
       "    <tr>\n",
       "      <th>8480</th>\n",
       "      <td>Sanjib Karmakar</td>\n",
       "      <td>IND</td>\n",
       "      <td>0</td>\n",
       "      <td>12th Pass</td>\n",
       "      <td>59</td>\n",
       "      <td>ULUBERIA : BYE ELECTION ON 29-01-2018</td>\n",
       "    </tr>\n",
       "    <tr>\n",
       "      <th>8481</th>\n",
       "      <td>Simal Saren</td>\n",
       "      <td>IND</td>\n",
       "      <td>0</td>\n",
       "      <td>Graduate</td>\n",
       "      <td>30</td>\n",
       "      <td>ULUBERIA : BYE ELECTION ON 29-01-2018</td>\n",
       "    </tr>\n",
       "    <tr>\n",
       "      <th>8482</th>\n",
       "      <td>Sk. Madassar Hossain Warsi</td>\n",
       "      <td>INC</td>\n",
       "      <td>0</td>\n",
       "      <td>Post Graduate</td>\n",
       "      <td>35</td>\n",
       "      <td>ULUBERIA : BYE ELECTION ON 29-01-2018</td>\n",
       "    </tr>\n",
       "    <tr>\n",
       "      <th>8483</th>\n",
       "      <td>Tapas Mondal</td>\n",
       "      <td>IND</td>\n",
       "      <td>0</td>\n",
       "      <td>8th Pass</td>\n",
       "      <td>43</td>\n",
       "      <td>ULUBERIA : BYE ELECTION ON 29-01-2018</td>\n",
       "    </tr>\n",
       "  </tbody>\n",
       "</table>\n",
       "<p>8484 rows × 6 columns</p>\n",
       "</div>"
      ],
      "text/plain": [
       "                       Candidate   Party Criminal Cases      Education Age  \\\n",
       "0                Bishnu Pada Ray     BJP             1        Graduate  64   \n",
       "1                      A Pandian    AIFB              0      12th Pass  41   \n",
       "2                   Anita Mondal    AITC             1        Graduate  48   \n",
       "3                 C G Saji Kumar     IND              0      12th Pass  41   \n",
       "4          Gaur Chandra Majumder     BSP              0       Graduate  47   \n",
       "...                          ...     ...            ...            ...  ..   \n",
       "8479            Sabiruddin Molla  CPI(M)              0       Graduate  43   \n",
       "8480             Sanjib Karmakar     IND              0      12th Pass  59   \n",
       "8481                 Simal Saren     IND              0       Graduate  30   \n",
       "8482  Sk. Madassar Hossain Warsi     INC              0  Post Graduate  35   \n",
       "8483                Tapas Mondal     IND              0       8th Pass  43   \n",
       "\n",
       "                                       City  \n",
       "0               ANDAMAN AND NICOBAR ISLANDS  \n",
       "1               ANDAMAN AND NICOBAR ISLANDS  \n",
       "2               ANDAMAN AND NICOBAR ISLANDS  \n",
       "3               ANDAMAN AND NICOBAR ISLANDS  \n",
       "4               ANDAMAN AND NICOBAR ISLANDS  \n",
       "...                                     ...  \n",
       "8479  ULUBERIA : BYE ELECTION ON 29-01-2018  \n",
       "8480  ULUBERIA : BYE ELECTION ON 29-01-2018  \n",
       "8481  ULUBERIA : BYE ELECTION ON 29-01-2018  \n",
       "8482  ULUBERIA : BYE ELECTION ON 29-01-2018  \n",
       "8483  ULUBERIA : BYE ELECTION ON 29-01-2018  \n",
       "\n",
       "[8484 rows x 6 columns]"
      ]
     },
     "execution_count": 19,
     "metadata": {},
     "output_type": "execute_result"
    }
   ],
   "source": [
    "# data\n",
    "data"
   ]
  },
  {
   "cell_type": "markdown",
   "metadata": {},
   "source": [
    "# Save Data into CSV"
   ]
  },
  {
   "cell_type": "code",
   "execution_count": 20,
   "metadata": {
    "ExecuteTime": {
     "end_time": "2020-08-07T07:19:30.991371Z",
     "start_time": "2020-08-07T07:19:30.934596Z"
    }
   },
   "outputs": [],
   "source": [
    "# save data\n",
    "data.to_csv('LokSabha2014.csv', index=False)"
   ]
  }
 ],
 "metadata": {
  "kernelspec": {
   "display_name": "Python 3",
   "language": "python",
   "name": "python3"
  },
  "language_info": {
   "codemirror_mode": {
    "name": "ipython",
    "version": 3
   },
   "file_extension": ".py",
   "mimetype": "text/x-python",
   "name": "python",
   "nbconvert_exporter": "python",
   "pygments_lexer": "ipython3",
   "version": "3.8.4"
  },
  "latex_envs": {
   "LaTeX_envs_menu_present": true,
   "autoclose": false,
   "autocomplete": true,
   "bibliofile": "biblio.bib",
   "cite_by": "apalike",
   "current_citInitial": 1,
   "eqLabelWithNumbers": true,
   "eqNumInitial": 1,
   "hotkeys": {
    "equation": "Ctrl-E",
    "itemize": "Ctrl-I"
   },
   "labels_anchors": false,
   "latex_user_defs": false,
   "report_style_numbering": false,
   "user_envs_cfg": false
  },
  "toc": {
   "base_numbering": 1,
   "nav_menu": {},
   "number_sections": true,
   "sideBar": true,
   "skip_h1_title": false,
   "title_cell": "Table of Contents",
   "title_sidebar": "Contents",
   "toc_cell": false,
   "toc_position": {},
   "toc_section_display": true,
   "toc_window_display": false
  },
  "varInspector": {
   "cols": {
    "lenName": 16,
    "lenType": 16,
    "lenVar": 40
   },
   "kernels_config": {
    "python": {
     "delete_cmd_postfix": "",
     "delete_cmd_prefix": "del ",
     "library": "var_list.py",
     "varRefreshCmd": "print(var_dic_list())"
    },
    "r": {
     "delete_cmd_postfix": ") ",
     "delete_cmd_prefix": "rm(",
     "library": "var_list.r",
     "varRefreshCmd": "cat(var_dic_list()) "
    }
   },
   "types_to_exclude": [
    "module",
    "function",
    "builtin_function_or_method",
    "instance",
    "_Feature"
   ],
   "window_display": false
  }
 },
 "nbformat": 4,
 "nbformat_minor": 4
}
