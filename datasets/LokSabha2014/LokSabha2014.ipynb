{
 "cells": [
  {
   "cell_type": "markdown",
   "metadata": {},
   "source": [
    "# Import Libraries\n",
    "Importing libraries are necessary for any project.\n",
    "We're going to import commonly used Webscrapping and Data Analysis libraries. Make sure all libraries are installed."
   ]
  },
  {
   "cell_type": "code",
   "execution_count": 1,
   "metadata": {
    "ExecuteTime": {
     "end_time": "2020-09-10T08:42:00.542703Z",
     "start_time": "2020-09-10T08:41:59.703049Z"
    }
   },
   "outputs": [],
   "source": [
    "import requests # for getting web contents\n",
    "from bs4 import BeautifulSoup # for scraping web contents\n",
    "import pandas as pd # for data analysis\n",
    "import numpy as np\n",
    "from progressbar import ProgressBar, Percentage, Bar"
   ]
  },
  {
   "cell_type": "markdown",
   "metadata": {},
   "source": [
    "# URL\n",
    "For web scrapping it's important to have url."
   ]
  },
  {
   "cell_type": "code",
   "execution_count": 2,
   "metadata": {
    "ExecuteTime": {
     "end_time": "2020-09-10T08:42:11.150950Z",
     "start_time": "2020-09-10T08:42:00.933994Z"
    }
   },
   "outputs": [],
   "source": [
    "# link from where you want to scrap data\n",
    "base_url = 'https://myneta.info/ls2014/'\n",
    "\n",
    "# get web data\n",
    "page = requests.get(base_url)\n",
    "                        \n",
    "# parse web data\n",
    "soup = BeautifulSoup(page.content, \"html.parser\")"
   ]
  },
  {
   "cell_type": "code",
   "execution_count": 3,
   "metadata": {
    "ExecuteTime": {
     "end_time": "2020-09-10T08:42:11.581587Z",
     "start_time": "2020-09-10T08:42:11.524472Z"
    }
   },
   "outputs": [],
   "source": [
    "# find the table\n",
    "# our trageted table is last\n",
    "\n",
    "# this link have lists of links so first get all the links, all links stored in table so getting last table\n",
    "table = soup.find_all('table')[-1]\n",
    "\n",
    "# links stored in div class='items'\n",
    "divs = table.find_all('div', class_=\"items\")\n",
    "\n",
    "links = []\n",
    "cities = []\n",
    "\n",
    "for div in divs:\n",
    "    for a in div.find_all('a', href=True):\n",
    "        link = a['href']\n",
    "        if '/' in link:\n",
    "            link = link.split('/')[-1:]\n",
    "            links.append(link)\n",
    "        elif '/' not in link:\n",
    "            links.append(link)\n",
    "        city = a.text.strip()\n",
    "        cities.append(city)"
   ]
  },
  {
   "cell_type": "code",
   "execution_count": 4,
   "metadata": {
    "ExecuteTime": {
     "end_time": "2020-09-10T08:42:12.282072Z",
     "start_time": "2020-09-10T08:42:12.270716Z"
    }
   },
   "outputs": [],
   "source": [
    "# function to scrape values from each url\n",
    "def url_scrraper(url,city):\n",
    "    page = requests.get(url)\n",
    "    soup = BeautifulSoup(page.content, \"html.parser\")\n",
    "    table = soup.find_all('table')[-1]\n",
    "    thead = [th for th in table.find_all('th')]\n",
    "    for i in thead:\n",
    "        headings.append(i.text)\n",
    "    headings.insert(-1,'Constituency')\n",
    "    \n",
    "    html_text = [tr for tr in table.find_all('tr')][1:]\n",
    "    \n",
    "    for text in html_text:\n",
    "        td = [cells for cells in text.find_all('td')]\n",
    "        if len(td)!= 0 :\n",
    "            name = td[0].find('a').get_text().title()\n",
    "            party = td[1].get_text()\n",
    "            case = td[2].get_text()\n",
    "            edu = td[3].get_text()\n",
    "            age = td[4].get_text()\n",
    "            ta = td[5].contents[0].strip().replace(u'Rs\\xa0',u'').replace(',','')\n",
    "            la = td[6].contents[0].strip().replace(u'Rs\\xa0',u'').replace(',','')\n",
    "            if(ta == 'Nil'):\n",
    "                ta = np.NaN\n",
    "            if(la == 'Nil'):\n",
    "                la = np.NaN\n",
    "            row = [name, party, case, edu, age, ta, la]\n",
    "            row.insert(-1,city)\n",
    "            content.append(row)"
   ]
  },
  {
   "cell_type": "code",
   "execution_count": 5,
   "metadata": {
    "ExecuteTime": {
     "end_time": "2020-09-10T08:52:12.962372Z",
     "start_time": "2020-09-10T08:42:12.981256Z"
    }
   },
   "outputs": [
    {
     "name": "stderr",
     "output_type": "stream",
     "text": [
      "100%|#########################################################################|\n"
     ]
    }
   ],
   "source": [
    "content = []\n",
    "\n",
    "pbar = ProgressBar(widgets=[Percentage(), Bar()], maxval=len(cities)).start()\n",
    "\n",
    "for i in range(len(cities)):\n",
    "    pbar.update(i+1)\n",
    "    headings = []\n",
    "    if type(links[i]) == list:\n",
    "        url = base_url + links[i][0]\n",
    "    else:\n",
    "        url = base_url + links[i]\n",
    "    url_scrraper(url, cities[i])\n",
    "    \n",
    "pbar.finish()"
   ]
  },
  {
   "cell_type": "code",
   "execution_count": 6,
   "metadata": {
    "ExecuteTime": {
     "end_time": "2020-09-10T08:52:13.923541Z",
     "start_time": "2020-09-10T08:52:13.872329Z"
    }
   },
   "outputs": [],
   "source": [
    "# save contents in a dataframe\n",
    "data = pd.DataFrame(content[:], columns=headings)"
   ]
  },
  {
   "cell_type": "code",
   "execution_count": 7,
   "metadata": {
    "ExecuteTime": {
     "end_time": "2020-09-10T08:52:27.032377Z",
     "start_time": "2020-09-10T08:52:14.795348Z"
    }
   },
   "outputs": [],
   "source": [
    "# link from where you want to scrap data\n",
    "winner_url = 'index.php?action=show_winners&sort=default'\n",
    "\n",
    "# get web data\n",
    "page = requests.get(base_url+winner_url)\n",
    "\n",
    "# parse web data\n",
    "soup = BeautifulSoup(page.content, \"html.parser\")"
   ]
  },
  {
   "cell_type": "code",
   "execution_count": 8,
   "metadata": {
    "ExecuteTime": {
     "end_time": "2020-09-10T08:52:28.492917Z",
     "start_time": "2020-09-10T08:52:28.408913Z"
    }
   },
   "outputs": [],
   "source": [
    "table = soup.find_all('table')[-2]\n",
    "thead = [th for th in table.find_all('th')]\n",
    "winner_headings = []\n",
    "\n",
    "for i in thead:\n",
    "    winner_headings.append(i.text.strip())\n",
    "\n",
    "winner_content = []\n",
    "html_text = [tr for tr in table.find_all('tr')][1:]\n",
    "    \n",
    "for text in html_text:\n",
    "    td = [cells for cells in text.find_all('td')]\n",
    "    if len(td)!= 0 :\n",
    "        name = td[1].find('a').get_text()\n",
    "        city = td[2].get_text().title()\n",
    "        party = td[3].get_text().strip()\n",
    "        case = td[4].get_text().strip()\n",
    "        edu = td[5].get_text().strip()\n",
    "        ta = td[6].contents[0].strip().replace(u'Rs\\xa0',u'').replace(',','')\n",
    "        la = td[7].contents[0].strip().replace(u'Rs\\xa0',u'').replace(',','')\n",
    "        if(ta == 'Nil'):\n",
    "            ta = np.NaN\n",
    "        if(la == 'Nil'):\n",
    "            la = np.NaN\n",
    "        row = [name, city, party, case, edu, ta, la]\n",
    "        winner_content.append(row)"
   ]
  },
  {
   "cell_type": "code",
   "execution_count": 9,
   "metadata": {
    "ExecuteTime": {
     "end_time": "2020-09-10T08:52:30.862421Z",
     "start_time": "2020-09-10T08:52:30.855360Z"
    }
   },
   "outputs": [],
   "source": [
    "# save contents in a dataframe\n",
    "winner_data = pd.DataFrame(winner_content[:], columns=winner_headings[1:])"
   ]
  },
  {
   "cell_type": "code",
   "execution_count": 10,
   "metadata": {
    "ExecuteTime": {
     "end_time": "2020-09-10T08:52:33.436669Z",
     "start_time": "2020-09-10T08:52:33.417719Z"
    }
   },
   "outputs": [],
   "source": [
    "winner_data = winner_data.rename(columns={'Constituency ∇':'Constituency', 'Criminal Case':'Criminal Cases'})"
   ]
  },
  {
   "cell_type": "code",
   "execution_count": 11,
   "metadata": {
    "ExecuteTime": {
     "end_time": "2020-09-10T08:52:35.918321Z",
     "start_time": "2020-09-10T08:52:35.895261Z"
    }
   },
   "outputs": [],
   "source": [
    "winner_data['Winner'] = 1"
   ]
  },
  {
   "cell_type": "code",
   "execution_count": 12,
   "metadata": {
    "ExecuteTime": {
     "end_time": "2020-09-10T08:52:40.367569Z",
     "start_time": "2020-09-10T08:52:38.371271Z"
    }
   },
   "outputs": [],
   "source": [
    "women_url = \"index.php?action=summary&subAction=women_candidate&sort=candidate#summary\"\n",
    "page = requests.get(base_url + women_url)\n",
    "soup = BeautifulSoup(page.content, 'html.parser')\n",
    "\n",
    "women_headings = []\n",
    "\n",
    "table = soup.find_all('table')[-1]\n",
    "thead = [th for th in table.find_all('th')]\n",
    "\n",
    "for i in thead:\n",
    "    women_headings.append(i.text.strip())\n",
    "\n",
    "women_content = []\n",
    "html_text = [tr for tr in table.find_all('tr')][1:]\n",
    "    \n",
    "for text in html_text:\n",
    "    td = [cells for cells in text.find_all('td')]\n",
    "    if len(td)!= 0 :\n",
    "        name = td[1].find('a').get_text()\n",
    "        city = td[2].get_text().title()\n",
    "        party = td[3].get_text().strip()\n",
    "        case = td[4].get_text().strip()\n",
    "        edu = td[5].get_text().strip()\n",
    "        ta = td[6].contents[0].strip().replace(u'Rs\\xa0',u'').replace(',','')\n",
    "        la = td[7].contents[0].strip().replace(u'Rs\\xa0',u'').replace(',','')\n",
    "        if(ta == 'Nil'):\n",
    "            ta = np.NaN\n",
    "        if(la == 'Nil'):\n",
    "            la = np.NaN\n",
    "        row = [name, city, party, case, edu, ta, la]\n",
    "        women_content.append(row)"
   ]
  },
  {
   "cell_type": "code",
   "execution_count": 13,
   "metadata": {
    "ExecuteTime": {
     "end_time": "2020-09-10T08:52:42.718375Z",
     "start_time": "2020-09-10T08:52:42.711856Z"
    }
   },
   "outputs": [],
   "source": [
    "# save contents in a dataframe\n",
    "women_data = pd.DataFrame(women_content[:], columns=women_headings[1:])"
   ]
  },
  {
   "cell_type": "code",
   "execution_count": 14,
   "metadata": {
    "ExecuteTime": {
     "end_time": "2020-09-10T08:52:45.077760Z",
     "start_time": "2020-09-10T08:52:45.070996Z"
    }
   },
   "outputs": [],
   "source": [
    "women_data = women_data.rename(columns={'Candidate∇':'Candidate', 'Criminal Case':'Criminal Cases'})"
   ]
  },
  {
   "cell_type": "code",
   "execution_count": 15,
   "metadata": {
    "ExecuteTime": {
     "end_time": "2020-09-10T08:52:47.475199Z",
     "start_time": "2020-09-10T08:52:47.469370Z"
    }
   },
   "outputs": [],
   "source": [
    "women_data['Gender'] = 'F'"
   ]
  },
  {
   "cell_type": "code",
   "execution_count": 16,
   "metadata": {
    "ExecuteTime": {
     "end_time": "2020-09-10T08:52:49.955065Z",
     "start_time": "2020-09-10T08:52:49.861864Z"
    }
   },
   "outputs": [],
   "source": [
    "final_data = pd.merge(left=data, right=winner_data, \n",
    "                      how ='left', on=['Candidate', 'Criminal Cases', \\\n",
    "                                       'Constituency', 'Party', 'Education', \\\n",
    "                                       'Liabilities','Total Assets'])\n",
    "\n",
    "final_data = pd.merge(left=final_data, right=women_data, \n",
    "                      how ='left', on=['Candidate', 'Criminal Cases', \\\n",
    "                                       'Constituency', 'Party', 'Education', \\\n",
    "                                       'Liabilities','Total Assets'])"
   ]
  },
  {
   "cell_type": "code",
   "execution_count": 17,
   "metadata": {
    "ExecuteTime": {
     "end_time": "2020-09-10T08:52:52.385313Z",
     "start_time": "2020-09-10T08:52:52.344852Z"
    }
   },
   "outputs": [
    {
     "data": {
      "text/html": [
       "<div>\n",
       "<style scoped>\n",
       "    .dataframe tbody tr th:only-of-type {\n",
       "        vertical-align: middle;\n",
       "    }\n",
       "\n",
       "    .dataframe tbody tr th {\n",
       "        vertical-align: top;\n",
       "    }\n",
       "\n",
       "    .dataframe thead th {\n",
       "        text-align: right;\n",
       "    }\n",
       "</style>\n",
       "<table border=\"1\" class=\"dataframe\">\n",
       "  <thead>\n",
       "    <tr style=\"text-align: right;\">\n",
       "      <th></th>\n",
       "      <th>Candidate</th>\n",
       "      <th>Party</th>\n",
       "      <th>Criminal Cases</th>\n",
       "      <th>Education</th>\n",
       "      <th>Age</th>\n",
       "      <th>Total Assets</th>\n",
       "      <th>Constituency</th>\n",
       "      <th>Liabilities</th>\n",
       "      <th>Winner</th>\n",
       "      <th>Gender</th>\n",
       "    </tr>\n",
       "  </thead>\n",
       "  <tbody>\n",
       "    <tr>\n",
       "      <th>0</th>\n",
       "      <td>Bishnu Pada Ray</td>\n",
       "      <td>BJP</td>\n",
       "      <td>1</td>\n",
       "      <td>Graduate</td>\n",
       "      <td>64</td>\n",
       "      <td>5658980</td>\n",
       "      <td>ANDAMAN AND NICOBAR ISLANDS</td>\n",
       "      <td>175115</td>\n",
       "      <td>NaN</td>\n",
       "      <td>NaN</td>\n",
       "    </tr>\n",
       "    <tr>\n",
       "      <th>1</th>\n",
       "      <td>A Pandian</td>\n",
       "      <td>AIFB</td>\n",
       "      <td>0</td>\n",
       "      <td>12th Pass</td>\n",
       "      <td>41</td>\n",
       "      <td>859410</td>\n",
       "      <td>ANDAMAN AND NICOBAR ISLANDS</td>\n",
       "      <td>350000</td>\n",
       "      <td>NaN</td>\n",
       "      <td>NaN</td>\n",
       "    </tr>\n",
       "    <tr>\n",
       "      <th>2</th>\n",
       "      <td>Anita Mondal</td>\n",
       "      <td>AITC</td>\n",
       "      <td>1</td>\n",
       "      <td>Graduate</td>\n",
       "      <td>48</td>\n",
       "      <td>5471073</td>\n",
       "      <td>ANDAMAN AND NICOBAR ISLANDS</td>\n",
       "      <td>6000</td>\n",
       "      <td>NaN</td>\n",
       "      <td>NaN</td>\n",
       "    </tr>\n",
       "    <tr>\n",
       "      <th>3</th>\n",
       "      <td>C G Saji Kumar</td>\n",
       "      <td>IND</td>\n",
       "      <td>0</td>\n",
       "      <td>12th Pass</td>\n",
       "      <td>41</td>\n",
       "      <td>50000</td>\n",
       "      <td>ANDAMAN AND NICOBAR ISLANDS</td>\n",
       "      <td>0</td>\n",
       "      <td>NaN</td>\n",
       "      <td>NaN</td>\n",
       "    </tr>\n",
       "    <tr>\n",
       "      <th>4</th>\n",
       "      <td>Gaur Chandra Majumder</td>\n",
       "      <td>BSP</td>\n",
       "      <td>0</td>\n",
       "      <td>Graduate</td>\n",
       "      <td>47</td>\n",
       "      <td>3192819</td>\n",
       "      <td>ANDAMAN AND NICOBAR ISLANDS</td>\n",
       "      <td>688689</td>\n",
       "      <td>NaN</td>\n",
       "      <td>NaN</td>\n",
       "    </tr>\n",
       "    <tr>\n",
       "      <th>...</th>\n",
       "      <td>...</td>\n",
       "      <td>...</td>\n",
       "      <td>...</td>\n",
       "      <td>...</td>\n",
       "      <td>...</td>\n",
       "      <td>...</td>\n",
       "      <td>...</td>\n",
       "      <td>...</td>\n",
       "      <td>...</td>\n",
       "      <td>...</td>\n",
       "    </tr>\n",
       "    <tr>\n",
       "      <th>8479</th>\n",
       "      <td>Sabiruddin Molla</td>\n",
       "      <td>CPI(M)</td>\n",
       "      <td>0</td>\n",
       "      <td>Graduate</td>\n",
       "      <td>43</td>\n",
       "      <td>344722</td>\n",
       "      <td>ULUBERIA : BYE ELECTION ON 29-01-2018</td>\n",
       "      <td>0</td>\n",
       "      <td>NaN</td>\n",
       "      <td>NaN</td>\n",
       "    </tr>\n",
       "    <tr>\n",
       "      <th>8480</th>\n",
       "      <td>Sanjib Karmakar</td>\n",
       "      <td>IND</td>\n",
       "      <td>0</td>\n",
       "      <td>12th Pass</td>\n",
       "      <td>59</td>\n",
       "      <td>147859</td>\n",
       "      <td>ULUBERIA : BYE ELECTION ON 29-01-2018</td>\n",
       "      <td>0</td>\n",
       "      <td>NaN</td>\n",
       "      <td>NaN</td>\n",
       "    </tr>\n",
       "    <tr>\n",
       "      <th>8481</th>\n",
       "      <td>Simal Saren</td>\n",
       "      <td>IND</td>\n",
       "      <td>0</td>\n",
       "      <td>Graduate</td>\n",
       "      <td>30</td>\n",
       "      <td>517817</td>\n",
       "      <td>ULUBERIA : BYE ELECTION ON 29-01-2018</td>\n",
       "      <td>602000</td>\n",
       "      <td>NaN</td>\n",
       "      <td>NaN</td>\n",
       "    </tr>\n",
       "    <tr>\n",
       "      <th>8482</th>\n",
       "      <td>Sk. Madassar Hossain Warsi</td>\n",
       "      <td>INC</td>\n",
       "      <td>0</td>\n",
       "      <td>Post Graduate</td>\n",
       "      <td>35</td>\n",
       "      <td>1692838</td>\n",
       "      <td>ULUBERIA : BYE ELECTION ON 29-01-2018</td>\n",
       "      <td>0</td>\n",
       "      <td>NaN</td>\n",
       "      <td>NaN</td>\n",
       "    </tr>\n",
       "    <tr>\n",
       "      <th>8483</th>\n",
       "      <td>Tapas Mondal</td>\n",
       "      <td>IND</td>\n",
       "      <td>0</td>\n",
       "      <td>8th Pass</td>\n",
       "      <td>43</td>\n",
       "      <td>444588</td>\n",
       "      <td>ULUBERIA : BYE ELECTION ON 29-01-2018</td>\n",
       "      <td>0</td>\n",
       "      <td>NaN</td>\n",
       "      <td>NaN</td>\n",
       "    </tr>\n",
       "  </tbody>\n",
       "</table>\n",
       "<p>8484 rows × 10 columns</p>\n",
       "</div>"
      ],
      "text/plain": [
       "                       Candidate   Party Criminal Cases      Education Age  \\\n",
       "0                Bishnu Pada Ray     BJP             1        Graduate  64   \n",
       "1                      A Pandian    AIFB              0      12th Pass  41   \n",
       "2                   Anita Mondal    AITC             1        Graduate  48   \n",
       "3                 C G Saji Kumar     IND              0      12th Pass  41   \n",
       "4          Gaur Chandra Majumder     BSP              0       Graduate  47   \n",
       "...                          ...     ...            ...            ...  ..   \n",
       "8479            Sabiruddin Molla  CPI(M)              0       Graduate  43   \n",
       "8480             Sanjib Karmakar     IND              0      12th Pass  59   \n",
       "8481                 Simal Saren     IND              0       Graduate  30   \n",
       "8482  Sk. Madassar Hossain Warsi     INC              0  Post Graduate  35   \n",
       "8483                Tapas Mondal     IND              0       8th Pass  43   \n",
       "\n",
       "     Total Assets                           Constituency Liabilities  Winner  \\\n",
       "0         5658980            ANDAMAN AND NICOBAR ISLANDS      175115     NaN   \n",
       "1          859410            ANDAMAN AND NICOBAR ISLANDS      350000     NaN   \n",
       "2         5471073            ANDAMAN AND NICOBAR ISLANDS        6000     NaN   \n",
       "3           50000            ANDAMAN AND NICOBAR ISLANDS           0     NaN   \n",
       "4         3192819            ANDAMAN AND NICOBAR ISLANDS      688689     NaN   \n",
       "...           ...                                    ...         ...     ...   \n",
       "8479       344722  ULUBERIA : BYE ELECTION ON 29-01-2018           0     NaN   \n",
       "8480       147859  ULUBERIA : BYE ELECTION ON 29-01-2018           0     NaN   \n",
       "8481       517817  ULUBERIA : BYE ELECTION ON 29-01-2018      602000     NaN   \n",
       "8482      1692838  ULUBERIA : BYE ELECTION ON 29-01-2018           0     NaN   \n",
       "8483       444588  ULUBERIA : BYE ELECTION ON 29-01-2018           0     NaN   \n",
       "\n",
       "     Gender  \n",
       "0       NaN  \n",
       "1       NaN  \n",
       "2       NaN  \n",
       "3       NaN  \n",
       "4       NaN  \n",
       "...     ...  \n",
       "8479    NaN  \n",
       "8480    NaN  \n",
       "8481    NaN  \n",
       "8482    NaN  \n",
       "8483    NaN  \n",
       "\n",
       "[8484 rows x 10 columns]"
      ]
     },
     "execution_count": 17,
     "metadata": {},
     "output_type": "execute_result"
    }
   ],
   "source": [
    "final_data"
   ]
  },
  {
   "cell_type": "code",
   "execution_count": 18,
   "metadata": {
    "ExecuteTime": {
     "end_time": "2020-09-10T08:52:54.868070Z",
     "start_time": "2020-09-10T08:52:54.846109Z"
    }
   },
   "outputs": [],
   "source": [
    "final_data['Winner'] = final_data['Winner'].fillna(0)\n",
    "final_data['Gender'] = final_data['Gender'].fillna('M')"
   ]
  },
  {
   "cell_type": "code",
   "execution_count": 19,
   "metadata": {
    "ExecuteTime": {
     "end_time": "2020-09-10T08:52:57.289284Z",
     "start_time": "2020-09-10T08:52:57.265524Z"
    }
   },
   "outputs": [],
   "source": [
    "final_data.Winner = final_data.Winner.astype('object')\n",
    "final_data['Criminal Cases'] = final_data['Criminal Cases'].astype('int')"
   ]
  },
  {
   "cell_type": "markdown",
   "metadata": {},
   "source": [
    "# Data Analysis"
   ]
  },
  {
   "cell_type": "markdown",
   "metadata": {},
   "source": [
    "## Check Data Shape"
   ]
  },
  {
   "cell_type": "code",
   "execution_count": 20,
   "metadata": {
    "ExecuteTime": {
     "end_time": "2020-09-10T08:52:59.679384Z",
     "start_time": "2020-09-10T08:52:59.673496Z"
    }
   },
   "outputs": [
    {
     "name": "stdout",
     "output_type": "stream",
     "text": [
      "(8484, 10)\n"
     ]
    }
   ],
   "source": [
    "# data shape\n",
    "print(final_data.shape)"
   ]
  },
  {
   "cell_type": "markdown",
   "metadata": {},
   "source": [
    "## Look at Example Records"
   ]
  },
  {
   "cell_type": "code",
   "execution_count": 21,
   "metadata": {
    "ExecuteTime": {
     "end_time": "2020-09-10T08:53:02.128042Z",
     "start_time": "2020-09-10T08:53:02.109068Z"
    }
   },
   "outputs": [
    {
     "data": {
      "text/html": [
       "<div>\n",
       "<style scoped>\n",
       "    .dataframe tbody tr th:only-of-type {\n",
       "        vertical-align: middle;\n",
       "    }\n",
       "\n",
       "    .dataframe tbody tr th {\n",
       "        vertical-align: top;\n",
       "    }\n",
       "\n",
       "    .dataframe thead th {\n",
       "        text-align: right;\n",
       "    }\n",
       "</style>\n",
       "<table border=\"1\" class=\"dataframe\">\n",
       "  <thead>\n",
       "    <tr style=\"text-align: right;\">\n",
       "      <th></th>\n",
       "      <th>Candidate</th>\n",
       "      <th>Party</th>\n",
       "      <th>Criminal Cases</th>\n",
       "      <th>Education</th>\n",
       "      <th>Age</th>\n",
       "      <th>Total Assets</th>\n",
       "      <th>Constituency</th>\n",
       "      <th>Liabilities</th>\n",
       "      <th>Winner</th>\n",
       "      <th>Gender</th>\n",
       "    </tr>\n",
       "  </thead>\n",
       "  <tbody>\n",
       "    <tr>\n",
       "      <th>0</th>\n",
       "      <td>Bishnu Pada Ray</td>\n",
       "      <td>BJP</td>\n",
       "      <td>1</td>\n",
       "      <td>Graduate</td>\n",
       "      <td>64</td>\n",
       "      <td>5658980</td>\n",
       "      <td>ANDAMAN AND NICOBAR ISLANDS</td>\n",
       "      <td>175115</td>\n",
       "      <td>0</td>\n",
       "      <td>M</td>\n",
       "    </tr>\n",
       "    <tr>\n",
       "      <th>1</th>\n",
       "      <td>A Pandian</td>\n",
       "      <td>AIFB</td>\n",
       "      <td>0</td>\n",
       "      <td>12th Pass</td>\n",
       "      <td>41</td>\n",
       "      <td>859410</td>\n",
       "      <td>ANDAMAN AND NICOBAR ISLANDS</td>\n",
       "      <td>350000</td>\n",
       "      <td>0</td>\n",
       "      <td>M</td>\n",
       "    </tr>\n",
       "    <tr>\n",
       "      <th>2</th>\n",
       "      <td>Anita Mondal</td>\n",
       "      <td>AITC</td>\n",
       "      <td>1</td>\n",
       "      <td>Graduate</td>\n",
       "      <td>48</td>\n",
       "      <td>5471073</td>\n",
       "      <td>ANDAMAN AND NICOBAR ISLANDS</td>\n",
       "      <td>6000</td>\n",
       "      <td>0</td>\n",
       "      <td>M</td>\n",
       "    </tr>\n",
       "    <tr>\n",
       "      <th>3</th>\n",
       "      <td>C G Saji Kumar</td>\n",
       "      <td>IND</td>\n",
       "      <td>0</td>\n",
       "      <td>12th Pass</td>\n",
       "      <td>41</td>\n",
       "      <td>50000</td>\n",
       "      <td>ANDAMAN AND NICOBAR ISLANDS</td>\n",
       "      <td>0</td>\n",
       "      <td>0</td>\n",
       "      <td>M</td>\n",
       "    </tr>\n",
       "    <tr>\n",
       "      <th>4</th>\n",
       "      <td>Gaur Chandra Majumder</td>\n",
       "      <td>BSP</td>\n",
       "      <td>0</td>\n",
       "      <td>Graduate</td>\n",
       "      <td>47</td>\n",
       "      <td>3192819</td>\n",
       "      <td>ANDAMAN AND NICOBAR ISLANDS</td>\n",
       "      <td>688689</td>\n",
       "      <td>0</td>\n",
       "      <td>M</td>\n",
       "    </tr>\n",
       "  </tbody>\n",
       "</table>\n",
       "</div>"
      ],
      "text/plain": [
       "               Candidate Party  Criminal Cases  Education Age Total Assets  \\\n",
       "0        Bishnu Pada Ray   BJP               1   Graduate  64      5658980   \n",
       "1              A Pandian  AIFB               0  12th Pass  41       859410   \n",
       "2           Anita Mondal  AITC               1   Graduate  48      5471073   \n",
       "3         C G Saji Kumar   IND               0  12th Pass  41        50000   \n",
       "4  Gaur Chandra Majumder   BSP               0   Graduate  47      3192819   \n",
       "\n",
       "                  Constituency Liabilities Winner Gender  \n",
       "0  ANDAMAN AND NICOBAR ISLANDS      175115      0      M  \n",
       "1  ANDAMAN AND NICOBAR ISLANDS      350000      0      M  \n",
       "2  ANDAMAN AND NICOBAR ISLANDS        6000      0      M  \n",
       "3  ANDAMAN AND NICOBAR ISLANDS           0      0      M  \n",
       "4  ANDAMAN AND NICOBAR ISLANDS      688689      0      M  "
      ]
     },
     "execution_count": 21,
     "metadata": {},
     "output_type": "execute_result"
    }
   ],
   "source": [
    "# check few top rows of data\n",
    "final_data.head()"
   ]
  },
  {
   "cell_type": "markdown",
   "metadata": {},
   "source": [
    "## Descriptive Statistics"
   ]
  },
  {
   "cell_type": "code",
   "execution_count": 22,
   "metadata": {
    "ExecuteTime": {
     "end_time": "2020-09-10T08:53:04.707091Z",
     "start_time": "2020-09-10T08:53:04.664123Z"
    }
   },
   "outputs": [
    {
     "data": {
      "text/html": [
       "<div>\n",
       "<style scoped>\n",
       "    .dataframe tbody tr th:only-of-type {\n",
       "        vertical-align: middle;\n",
       "    }\n",
       "\n",
       "    .dataframe tbody tr th {\n",
       "        vertical-align: top;\n",
       "    }\n",
       "\n",
       "    .dataframe thead th {\n",
       "        text-align: right;\n",
       "    }\n",
       "</style>\n",
       "<table border=\"1\" class=\"dataframe\">\n",
       "  <thead>\n",
       "    <tr style=\"text-align: right;\">\n",
       "      <th></th>\n",
       "      <th>Criminal Cases</th>\n",
       "    </tr>\n",
       "  </thead>\n",
       "  <tbody>\n",
       "    <tr>\n",
       "      <th>count</th>\n",
       "      <td>8484.000000</td>\n",
       "    </tr>\n",
       "    <tr>\n",
       "      <th>mean</th>\n",
       "      <td>0.550684</td>\n",
       "    </tr>\n",
       "    <tr>\n",
       "      <th>std</th>\n",
       "      <td>6.147574</td>\n",
       "    </tr>\n",
       "    <tr>\n",
       "      <th>min</th>\n",
       "      <td>0.000000</td>\n",
       "    </tr>\n",
       "    <tr>\n",
       "      <th>25%</th>\n",
       "      <td>0.000000</td>\n",
       "    </tr>\n",
       "    <tr>\n",
       "      <th>50%</th>\n",
       "      <td>0.000000</td>\n",
       "    </tr>\n",
       "    <tr>\n",
       "      <th>75%</th>\n",
       "      <td>0.000000</td>\n",
       "    </tr>\n",
       "    <tr>\n",
       "      <th>max</th>\n",
       "      <td>382.000000</td>\n",
       "    </tr>\n",
       "  </tbody>\n",
       "</table>\n",
       "</div>"
      ],
      "text/plain": [
       "       Criminal Cases\n",
       "count     8484.000000\n",
       "mean         0.550684\n",
       "std          6.147574\n",
       "min          0.000000\n",
       "25%          0.000000\n",
       "50%          0.000000\n",
       "75%          0.000000\n",
       "max        382.000000"
      ]
     },
     "execution_count": 22,
     "metadata": {},
     "output_type": "execute_result"
    }
   ],
   "source": [
    "# getting Generate descriptive statistics of data. Generate descriptive statistics include count, mean, std, min_value, 25%, 50%, 75%, max_value\n",
    "final_data.describe()"
   ]
  },
  {
   "cell_type": "markdown",
   "metadata": {},
   "source": [
    "## Summary of data-type, columns, non-null values, memory usage."
   ]
  },
  {
   "cell_type": "code",
   "execution_count": 23,
   "metadata": {
    "ExecuteTime": {
     "end_time": "2020-09-10T09:08:47.772596Z",
     "start_time": "2020-09-10T09:08:47.700540Z"
    }
   },
   "outputs": [
    {
     "name": "stdout",
     "output_type": "stream",
     "text": [
      "<class 'pandas.core.frame.DataFrame'>\n",
      "Int64Index: 8484 entries, 0 to 8483\n",
      "Data columns (total 10 columns):\n",
      " #   Column          Non-Null Count  Dtype \n",
      "---  ------          --------------  ----- \n",
      " 0   Candidate       8484 non-null   object\n",
      " 1   Party           8484 non-null   object\n",
      " 2   Criminal Cases  8484 non-null   int64 \n",
      " 3   Education       8484 non-null   object\n",
      " 4   Age             8484 non-null   object\n",
      " 5   Total Assets    8406 non-null   object\n",
      " 6   Constituency    8484 non-null   object\n",
      " 7   Liabilities     8484 non-null   object\n",
      " 8   Winner          8484 non-null   object\n",
      " 9   Gender          8484 non-null   object\n",
      "dtypes: int64(1), object(9)\n",
      "memory usage: 729.1+ KB\n"
     ]
    }
   ],
   "source": [
    "# data info\n",
    "final_data.info()"
   ]
  },
  {
   "cell_type": "markdown",
   "metadata": {},
   "source": [
    "## Column labels"
   ]
  },
  {
   "cell_type": "code",
   "execution_count": 24,
   "metadata": {
    "ExecuteTime": {
     "end_time": "2020-09-10T09:08:56.375569Z",
     "start_time": "2020-09-10T09:08:56.365777Z"
    }
   },
   "outputs": [
    {
     "data": {
      "text/plain": [
       "Index(['Candidate', 'Party', 'Criminal Cases', 'Education', 'Age',\n",
       "       'Total Assets', 'Constituency', 'Liabilities', 'Winner', 'Gender'],\n",
       "      dtype='object')"
      ]
     },
     "execution_count": 24,
     "metadata": {},
     "output_type": "execute_result"
    }
   ],
   "source": [
    "# get the column labels of the data.\n",
    "final_data.columns"
   ]
  },
  {
   "cell_type": "markdown",
   "metadata": {},
   "source": [
    "# Save Data into CSV"
   ]
  },
  {
   "cell_type": "code",
   "execution_count": 25,
   "metadata": {
    "ExecuteTime": {
     "end_time": "2020-09-10T09:09:05.874425Z",
     "start_time": "2020-09-10T09:09:05.744086Z"
    }
   },
   "outputs": [],
   "source": [
    "# save data\n",
    "final_data.to_csv('LokSabha2014.csv', index=False)"
   ]
  }
 ],
 "metadata": {
  "kernelspec": {
   "display_name": "Python 3",
   "language": "python",
   "name": "python3"
  },
  "language_info": {
   "codemirror_mode": {
    "name": "ipython",
    "version": 3
   },
   "file_extension": ".py",
   "mimetype": "text/x-python",
   "name": "python",
   "nbconvert_exporter": "python",
   "pygments_lexer": "ipython3",
   "version": "3.8.4"
  },
  "latex_envs": {
   "LaTeX_envs_menu_present": true,
   "autoclose": false,
   "autocomplete": true,
   "bibliofile": "biblio.bib",
   "cite_by": "apalike",
   "current_citInitial": 1,
   "eqLabelWithNumbers": true,
   "eqNumInitial": 1,
   "hotkeys": {
    "equation": "Ctrl-E",
    "itemize": "Ctrl-I"
   },
   "labels_anchors": false,
   "latex_user_defs": false,
   "report_style_numbering": false,
   "user_envs_cfg": false
  },
  "toc": {
   "base_numbering": 1,
   "nav_menu": {},
   "number_sections": true,
   "sideBar": true,
   "skip_h1_title": false,
   "title_cell": "Table of Contents",
   "title_sidebar": "Contents",
   "toc_cell": false,
   "toc_position": {},
   "toc_section_display": true,
   "toc_window_display": false
  },
  "varInspector": {
   "cols": {
    "lenName": 16,
    "lenType": 16,
    "lenVar": 40
   },
   "kernels_config": {
    "python": {
     "delete_cmd_postfix": "",
     "delete_cmd_prefix": "del ",
     "library": "var_list.py",
     "varRefreshCmd": "print(var_dic_list())"
    },
    "r": {
     "delete_cmd_postfix": ") ",
     "delete_cmd_prefix": "rm(",
     "library": "var_list.r",
     "varRefreshCmd": "cat(var_dic_list()) "
    }
   },
   "types_to_exclude": [
    "module",
    "function",
    "builtin_function_or_method",
    "instance",
    "_Feature"
   ],
   "window_display": false
  }
 },
 "nbformat": 4,
 "nbformat_minor": 4
}
