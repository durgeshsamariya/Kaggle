{
 "cells": [
  {
   "cell_type": "code",
   "execution_count": 1,
   "metadata": {
    "ExecuteTime": {
     "end_time": "2020-07-20T14:11:00.109877Z",
     "start_time": "2020-07-20T14:10:57.259176Z"
    }
   },
   "outputs": [],
   "source": [
    "# Initial imports\n",
    "import numpy as np\n",
    "import pandas as pd \n",
    "import matplotlib.pyplot as plt\n",
    "import seaborn as sns\n",
    "from scipy import stats\n",
    "%matplotlib inline\n",
    "\n",
    "import random\n",
    "import urllib.request\n",
    "import requests\n",
    "from bs4 import BeautifulSoup\n",
    "import warnings\n",
    "warnings.filterwarnings('ignore')"
   ]
  },
  {
   "cell_type": "code",
   "execution_count": 8,
   "metadata": {
    "ExecuteTime": {
     "end_time": "2020-07-20T15:14:51.718810Z",
     "start_time": "2020-07-20T15:14:49.282737Z"
    }
   },
   "outputs": [
    {
     "name": "stdout",
     "output_type": "stream",
     "text": [
      "[['\\n\\n'], [], ['', '', '9494', 'Lionel Messi', 'RWSTCF', '33', '328', ''], ['', '', '9393', 'Cristiano Ronaldo', 'STLW', '35', '323', ''], ['', '', '9292', 'Neymar Jr', 'LWCAM', '28', '190', ''], ['', '', '9192', 'Virgil van Dijk', 'CB', '29', '136', ''], ['', '', '9193', 'Jan Oblak', 'GK', '27', '64', ''], ['\\n\\n'], [], ['', '', '9191', 'Kevin De Bruyne', 'CAMCM', '29', '122', ''], ['', '', '9191', 'Robert Lewandowski', 'ST', '31', '93', ''], ['', '', '9191', 'Eden Hazard', 'LWST', '29', '110', ''], ['', '', '9091', 'Alisson', 'GK', '27', '66', ''], ['', '', '9090', 'Mohamed Salah', 'RWST', '28', '129', ''], ['\\n\\n'], [], ['', '', '9090', 'Sadio Mané', 'LW', '28', '95', ''], ['', '', '9093', 'Marc-André ter Stegen', 'GK', '28', '80', ''], ['', '', '9090', 'Sergio Agüero', 'ST', '32', '54', ''], ['', '', '8995', 'Kylian Mbappé', 'STLWRW', '21', '226', ''], ['', '', '8989', \"N'Golo Kanté\", 'CDMCM', '29', '86', ''], ['\\n\\n'], [], ['', '', '8991', 'Harry Kane', 'ST', '26', '113', ''], ['', '', '8989', 'Antoine Griezmann', 'CFSTLW', '29', '98', ''], ['', '', '8989', 'Toni Kroos', 'CM', '30', '57', ''], ['', '', '8989', 'Luka Modrić', 'CM', '34', '72', ''], ['', '', '8989', 'Luis Suárez', 'ST', '33', '77', ''], ['\\n\\n'], [], ['', '', '8989', 'Manuel Neuer', 'GK', '34', '43', ''], ['', '', '8989', 'Sergio Ramos', 'CB', '34', '93', ''], ['', '', '8891', 'Ederson', 'GK', '26', '37', ''], ['', '', '8890', 'Raheem Sterling', 'LWRW', '25', '90', ''], ['', '', '8888', 'Roberto Firmino', 'CF', '28', '69', ''], ['\\n\\n'], [], ['', '', '8890', 'Kalidou Koulibaly', 'CB', '29', '80', ''], ['', '', '8889', 'Casemiro', 'CDM', '28', '67', ''], ['', '', '8888', 'De Gea', 'GK', '29', '68', ''], ['', '', '8889', 'Thibaut Courtois', 'GK', '28', '59', ''], ['', '', '8888', 'Sergio Busquets', 'CDM', '32', '42', '']]\n"
     ]
    }
   ],
   "source": [
    "URL = \"https://www.fifaindex.com/players/\"\n",
    "\n",
    "page = requests.get(URL)\n",
    "\n",
    "soup = BeautifulSoup(page.content, \"html.parser\")\n",
    "\n",
    "html_tbody = soup.find_all('tbody')[-1]\n",
    "html_text = [tr for tr in html_tbody.find_all('tr')]\n",
    "\n",
    "content = []\n",
    "for tr in html_text:\n",
    "    td = tr.find_all(['td'])\n",
    "    row = [i.text for i in td]\n",
    "    content.append(row)\n",
    "\n",
    "print(content)"
   ]
  },
  {
   "cell_type": "code",
   "execution_count": 7,
   "metadata": {
    "ExecuteTime": {
     "end_time": "2020-07-20T15:04:01.589672Z",
     "start_time": "2020-07-20T15:04:01.477350Z"
    }
   },
   "outputs": [
    {
     "data": {
      "text/html": [
       "<div>\n",
       "<style scoped>\n",
       "    .dataframe tbody tr th:only-of-type {\n",
       "        vertical-align: middle;\n",
       "    }\n",
       "\n",
       "    .dataframe tbody tr th {\n",
       "        vertical-align: top;\n",
       "    }\n",
       "\n",
       "    .dataframe thead th {\n",
       "        text-align: right;\n",
       "    }\n",
       "</style>\n",
       "<table border=\"1\" class=\"dataframe\">\n",
       "  <thead>\n",
       "    <tr style=\"text-align: right;\">\n",
       "      <th></th>\n",
       "      <th>ID</th>\n",
       "      <th>Name</th>\n",
       "      <th>Age</th>\n",
       "      <th>Photo</th>\n",
       "      <th>Nationality</th>\n",
       "      <th>Flag</th>\n",
       "      <th>Overall</th>\n",
       "      <th>Potential</th>\n",
       "    </tr>\n",
       "  </thead>\n",
       "  <tbody>\n",
       "  </tbody>\n",
       "</table>\n",
       "</div>"
      ],
      "text/plain": [
       "Empty DataFrame\n",
       "Columns: [ID, Name, Age, Photo, Nationality, Flag, Overall, Potential]\n",
       "Index: []"
      ]
     },
     "execution_count": 7,
     "metadata": {},
     "output_type": "execute_result"
    }
   ],
   "source": [
    "data"
   ]
  },
  {
   "cell_type": "code",
   "execution_count": null,
   "metadata": {},
   "outputs": [],
   "source": [
    "for row in table_body.findAll('tr', {'data-playerid'}):\n",
    "        td = row.findAll('td')\n",
    "        picture = td[0].find('img').get('data-src')\n",
    "        p_id = td[0].find('img').get('id')\n",
    "        nationality = td[1].find('a').get('title')\n",
    "        flag_img = td[1].find('img').get('data-src')\n",
    "        overall = td[2].findAll('span')[0].text\n",
    "        potential = td[2].findAll('span')[1].text\n",
    "        name = td[3].find('a').text\n",
    "        age = td[5].text\n",
    "        hits = td[6].text\n",
    "        player_data = DataFrame([[pid, name, age, picture, nationality, flag_img, overall, \n",
    "                                  potential]])\n",
    "        player_data.columns = columns\n",
    "        data = data.append(player_data, ignore_index=True)\n",
    "    #data.to_csv('full_player_data.csv', encoding='utf-8')"
   ]
  }
 ],
 "metadata": {
  "kernelspec": {
   "display_name": "Python 3",
   "language": "python",
   "name": "python3"
  },
  "language_info": {
   "codemirror_mode": {
    "name": "ipython",
    "version": 3
   },
   "file_extension": ".py",
   "mimetype": "text/x-python",
   "name": "python",
   "nbconvert_exporter": "python",
   "pygments_lexer": "ipython3",
   "version": "3.8.4"
  },
  "latex_envs": {
   "LaTeX_envs_menu_present": true,
   "autoclose": false,
   "autocomplete": true,
   "bibliofile": "biblio.bib",
   "cite_by": "apalike",
   "current_citInitial": 1,
   "eqLabelWithNumbers": true,
   "eqNumInitial": 1,
   "hotkeys": {
    "equation": "Ctrl-E",
    "itemize": "Ctrl-I"
   },
   "labels_anchors": false,
   "latex_user_defs": false,
   "report_style_numbering": false,
   "user_envs_cfg": false
  },
  "toc": {
   "base_numbering": 1,
   "nav_menu": {},
   "number_sections": true,
   "sideBar": true,
   "skip_h1_title": false,
   "title_cell": "Table of Contents",
   "title_sidebar": "Contents",
   "toc_cell": false,
   "toc_position": {},
   "toc_section_display": true,
   "toc_window_display": false
  },
  "varInspector": {
   "cols": {
    "lenName": 16,
    "lenType": 16,
    "lenVar": 40
   },
   "kernels_config": {
    "python": {
     "delete_cmd_postfix": "",
     "delete_cmd_prefix": "del ",
     "library": "var_list.py",
     "varRefreshCmd": "print(var_dic_list())"
    },
    "r": {
     "delete_cmd_postfix": ") ",
     "delete_cmd_prefix": "rm(",
     "library": "var_list.r",
     "varRefreshCmd": "cat(var_dic_list()) "
    }
   },
   "types_to_exclude": [
    "module",
    "function",
    "builtin_function_or_method",
    "instance",
    "_Feature"
   ],
   "window_display": false
  }
 },
 "nbformat": 4,
 "nbformat_minor": 4
}
