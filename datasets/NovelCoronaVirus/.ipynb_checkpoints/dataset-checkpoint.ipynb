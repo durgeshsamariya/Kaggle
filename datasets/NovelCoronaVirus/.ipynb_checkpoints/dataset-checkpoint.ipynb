{
 "cells": [
  {
   "cell_type": "code",
   "execution_count": 1,
   "metadata": {
    "ExecuteTime": {
     "end_time": "2020-09-06T05:13:07.796610Z",
     "start_time": "2020-09-06T05:13:06.620053Z"
    }
   },
   "outputs": [],
   "source": [
    "#libraries\n",
    "import pandas as pd\n",
    "import wget"
   ]
  },
  {
   "cell_type": "code",
   "execution_count": 2,
   "metadata": {
    "ExecuteTime": {
     "end_time": "2020-09-06T05:13:07.855989Z",
     "start_time": "2020-09-06T05:13:07.811325Z"
    }
   },
   "outputs": [],
   "source": [
    "import os, ssl\n",
    "if (not os.environ.get('PYTHONHTTPSVERIFY', '') and\n",
    "getattr(ssl, '_create_unverified_context', None)):\n",
    "    ssl._create_default_https_context = ssl._create_unverified_context"
   ]
  },
  {
   "cell_type": "code",
   "execution_count": 3,
   "metadata": {
    "ExecuteTime": {
     "end_time": "2020-09-06T05:13:11.122704Z",
     "start_time": "2020-09-06T05:13:07.874453Z"
    }
   },
   "outputs": [],
   "source": [
    "# remove existing files\n",
    "!rm *.csv\n",
    "\n",
    "# urls of the files\n",
    "\n",
    "urls = ['https://raw.githubusercontent.com/CSSEGISandData/COVID-19/master/csse_covid_19_data/csse_covid_19_time_series/time_series_covid19_confirmed_global.csv',\n",
    "        'https://raw.githubusercontent.com/CSSEGISandData/COVID-19/master/csse_covid_19_data/csse_covid_19_time_series/time_series_covid19_deaths_global.csv',\n",
    "        'https://raw.githubusercontent.com/CSSEGISandData/COVID-19/master/csse_covid_19_data/csse_covid_19_time_series/time_series_covid19_recovered_global.csv',\n",
    "        'https://raw.githubusercontent.com/CSSEGISandData/COVID-19/web-data/data/cases_country.csv'\n",
    "]\n",
    "    \n",
    "# download files\n",
    "for url in urls:\n",
    "    filename = wget.download(url)"
   ]
  },
  {
   "cell_type": "code",
   "execution_count": 4,
   "metadata": {
    "ExecuteTime": {
     "end_time": "2020-09-06T05:13:11.309806Z",
     "start_time": "2020-09-06T05:13:11.130135Z"
    }
   },
   "outputs": [],
   "source": [
    "# generate DataFrames\n",
    "confirmed_global = pd.read_csv('time_series_covid19_confirmed_global.csv')\n",
    "deaths_global = pd.read_csv('time_series_covid19_deaths_global.csv')\n",
    "recovered_global = pd.read_csv('time_series_covid19_recovered_global.csv')\n",
    "covid19_data = pd.read_csv('cases_country.csv')"
   ]
  },
  {
   "cell_type": "code",
   "execution_count": 5,
   "metadata": {
    "ExecuteTime": {
     "end_time": "2020-09-06T05:13:11.519633Z",
     "start_time": "2020-09-06T05:13:11.314246Z"
    }
   },
   "outputs": [
    {
     "data": {
      "text/html": [
       "<div>\n",
       "<style scoped>\n",
       "    .dataframe tbody tr th:only-of-type {\n",
       "        vertical-align: middle;\n",
       "    }\n",
       "\n",
       "    .dataframe tbody tr th {\n",
       "        vertical-align: top;\n",
       "    }\n",
       "\n",
       "    .dataframe thead th {\n",
       "        text-align: right;\n",
       "    }\n",
       "</style>\n",
       "<table border=\"1\" class=\"dataframe\">\n",
       "  <thead>\n",
       "    <tr style=\"text-align: right;\">\n",
       "      <th></th>\n",
       "      <th>Province/State</th>\n",
       "      <th>Country/Region</th>\n",
       "      <th>Lat</th>\n",
       "      <th>Long</th>\n",
       "      <th>1/22/20</th>\n",
       "      <th>1/23/20</th>\n",
       "      <th>1/24/20</th>\n",
       "      <th>1/25/20</th>\n",
       "      <th>1/26/20</th>\n",
       "      <th>1/27/20</th>\n",
       "      <th>...</th>\n",
       "      <th>8/27/20</th>\n",
       "      <th>8/28/20</th>\n",
       "      <th>8/29/20</th>\n",
       "      <th>8/30/20</th>\n",
       "      <th>8/31/20</th>\n",
       "      <th>9/1/20</th>\n",
       "      <th>9/2/20</th>\n",
       "      <th>9/3/20</th>\n",
       "      <th>9/4/20</th>\n",
       "      <th>9/5/20</th>\n",
       "    </tr>\n",
       "  </thead>\n",
       "  <tbody>\n",
       "    <tr>\n",
       "      <th>0</th>\n",
       "      <td>NaN</td>\n",
       "      <td>Afghanistan</td>\n",
       "      <td>33.93911</td>\n",
       "      <td>67.709953</td>\n",
       "      <td>0</td>\n",
       "      <td>0</td>\n",
       "      <td>0</td>\n",
       "      <td>0</td>\n",
       "      <td>0</td>\n",
       "      <td>0</td>\n",
       "      <td>...</td>\n",
       "      <td>38129</td>\n",
       "      <td>38140</td>\n",
       "      <td>38143</td>\n",
       "      <td>38162</td>\n",
       "      <td>38165</td>\n",
       "      <td>38196</td>\n",
       "      <td>38243</td>\n",
       "      <td>38288</td>\n",
       "      <td>38304</td>\n",
       "      <td>38324</td>\n",
       "    </tr>\n",
       "    <tr>\n",
       "      <th>1</th>\n",
       "      <td>NaN</td>\n",
       "      <td>Albania</td>\n",
       "      <td>41.15330</td>\n",
       "      <td>20.168300</td>\n",
       "      <td>0</td>\n",
       "      <td>0</td>\n",
       "      <td>0</td>\n",
       "      <td>0</td>\n",
       "      <td>0</td>\n",
       "      <td>0</td>\n",
       "      <td>...</td>\n",
       "      <td>9083</td>\n",
       "      <td>9195</td>\n",
       "      <td>9279</td>\n",
       "      <td>9380</td>\n",
       "      <td>9513</td>\n",
       "      <td>9606</td>\n",
       "      <td>9728</td>\n",
       "      <td>9844</td>\n",
       "      <td>9967</td>\n",
       "      <td>10102</td>\n",
       "    </tr>\n",
       "    <tr>\n",
       "      <th>2</th>\n",
       "      <td>NaN</td>\n",
       "      <td>Algeria</td>\n",
       "      <td>28.03390</td>\n",
       "      <td>1.659600</td>\n",
       "      <td>0</td>\n",
       "      <td>0</td>\n",
       "      <td>0</td>\n",
       "      <td>0</td>\n",
       "      <td>0</td>\n",
       "      <td>0</td>\n",
       "      <td>...</td>\n",
       "      <td>43016</td>\n",
       "      <td>43403</td>\n",
       "      <td>43781</td>\n",
       "      <td>44146</td>\n",
       "      <td>44494</td>\n",
       "      <td>44833</td>\n",
       "      <td>45158</td>\n",
       "      <td>45469</td>\n",
       "      <td>45773</td>\n",
       "      <td>46071</td>\n",
       "    </tr>\n",
       "    <tr>\n",
       "      <th>3</th>\n",
       "      <td>NaN</td>\n",
       "      <td>Andorra</td>\n",
       "      <td>42.50630</td>\n",
       "      <td>1.521800</td>\n",
       "      <td>0</td>\n",
       "      <td>0</td>\n",
       "      <td>0</td>\n",
       "      <td>0</td>\n",
       "      <td>0</td>\n",
       "      <td>0</td>\n",
       "      <td>...</td>\n",
       "      <td>1098</td>\n",
       "      <td>1124</td>\n",
       "      <td>1124</td>\n",
       "      <td>1124</td>\n",
       "      <td>1176</td>\n",
       "      <td>1184</td>\n",
       "      <td>1199</td>\n",
       "      <td>1199</td>\n",
       "      <td>1215</td>\n",
       "      <td>1215</td>\n",
       "    </tr>\n",
       "    <tr>\n",
       "      <th>4</th>\n",
       "      <td>NaN</td>\n",
       "      <td>Angola</td>\n",
       "      <td>-11.20270</td>\n",
       "      <td>17.873900</td>\n",
       "      <td>0</td>\n",
       "      <td>0</td>\n",
       "      <td>0</td>\n",
       "      <td>0</td>\n",
       "      <td>0</td>\n",
       "      <td>0</td>\n",
       "      <td>...</td>\n",
       "      <td>2415</td>\n",
       "      <td>2471</td>\n",
       "      <td>2551</td>\n",
       "      <td>2624</td>\n",
       "      <td>2654</td>\n",
       "      <td>2729</td>\n",
       "      <td>2777</td>\n",
       "      <td>2805</td>\n",
       "      <td>2876</td>\n",
       "      <td>2935</td>\n",
       "    </tr>\n",
       "  </tbody>\n",
       "</table>\n",
       "<p>5 rows × 232 columns</p>\n",
       "</div>"
      ],
      "text/plain": [
       "  Province/State Country/Region       Lat       Long  1/22/20  1/23/20  \\\n",
       "0            NaN    Afghanistan  33.93911  67.709953        0        0   \n",
       "1            NaN        Albania  41.15330  20.168300        0        0   \n",
       "2            NaN        Algeria  28.03390   1.659600        0        0   \n",
       "3            NaN        Andorra  42.50630   1.521800        0        0   \n",
       "4            NaN         Angola -11.20270  17.873900        0        0   \n",
       "\n",
       "   1/24/20  1/25/20  1/26/20  1/27/20  ...  8/27/20  8/28/20  8/29/20  \\\n",
       "0        0        0        0        0  ...    38129    38140    38143   \n",
       "1        0        0        0        0  ...     9083     9195     9279   \n",
       "2        0        0        0        0  ...    43016    43403    43781   \n",
       "3        0        0        0        0  ...     1098     1124     1124   \n",
       "4        0        0        0        0  ...     2415     2471     2551   \n",
       "\n",
       "   8/30/20  8/31/20  9/1/20  9/2/20  9/3/20  9/4/20  9/5/20  \n",
       "0    38162    38165   38196   38243   38288   38304   38324  \n",
       "1     9380     9513    9606    9728    9844    9967   10102  \n",
       "2    44146    44494   44833   45158   45469   45773   46071  \n",
       "3     1124     1176    1184    1199    1199    1215    1215  \n",
       "4     2624     2654    2729    2777    2805    2876    2935  \n",
       "\n",
       "[5 rows x 232 columns]"
      ]
     },
     "execution_count": 5,
     "metadata": {},
     "output_type": "execute_result"
    }
   ],
   "source": [
    "confirmed_global.head()"
   ]
  },
  {
   "cell_type": "code",
   "execution_count": 6,
   "metadata": {
    "ExecuteTime": {
     "end_time": "2020-09-06T05:13:11.645148Z",
     "start_time": "2020-09-06T05:13:11.526554Z"
    }
   },
   "outputs": [],
   "source": [
    "# merging three dataframes based on first for columns as all three have same columns.\n",
    "dates = confirmed_global.columns[4:]\n",
    "confirmed_global_long = confirmed_global.melt(id_vars=['Province/State', 'Country/Region', 'Lat', 'Long'], \n",
    "                                              value_vars=dates, var_name='Date', value_name='Confirmed')\n",
    "\n",
    "deaths_global_long = deaths_global.melt(id_vars=['Province/State', 'Country/Region', 'Lat', 'Long'], \n",
    "                                        value_vars=dates, var_name='Date', value_name='Deaths')\n",
    "\n",
    "recovered_global_long = recovered_global.melt(id_vars=['Province/State', 'Country/Region', 'Lat', 'Long'],\n",
    "                                              value_vars=dates, var_name='Date', value_name='Recovered')"
   ]
  },
  {
   "cell_type": "code",
   "execution_count": 7,
   "metadata": {
    "ExecuteTime": {
     "end_time": "2020-09-06T05:13:11.906595Z",
     "start_time": "2020-09-06T05:13:11.648892Z"
    }
   },
   "outputs": [],
   "source": [
    "data = pd.merge(left=confirmed_global_long, right=deaths_global_long, \n",
    "                how ='left', on=['Province/State', 'Country/Region', 'Date', 'Lat', 'Long'])\n",
    "\n",
    "data = pd.merge(left=data, right=recovered_global_long, how='left',\n",
    "                on=['Province/State', 'Country/Region', 'Date', 'Lat', 'Long'])\n",
    "\n",
    "data['Recovered'] = data['Recovered'].fillna(0)\n",
    "data['Recovered'] = data['Recovered'].astype('int')\n"
   ]
  },
  {
   "cell_type": "code",
   "execution_count": 8,
   "metadata": {
    "ExecuteTime": {
     "end_time": "2020-09-06T05:13:11.995575Z",
     "start_time": "2020-09-06T05:13:11.917657Z"
    }
   },
   "outputs": [],
   "source": [
    "# renaming countries, regions, provinces\n",
    "# i manually find this\n",
    "data['Country/Region'] = data['Country/Region'].replace('Korea, South', 'South Korea')\n",
    "data.loc[data['Country/Region'] == \"Taiwan*\", \"Country/Region\"] = \"Taiwan\"\n",
    "\n",
    "#Change column name\n",
    "data = data.rename(columns={\"Country/Region\": \"Country\"})\n",
    "data = data.rename(columns={\"Province/State\": \"State\"})\n",
    "\n",
    "data['State'] = data['State'].fillna('')\n",
    "\n",
    "#create active case column\n",
    "data[\"Active\"] = data[\"Confirmed\"]-data[\"Recovered\"]-data[\"Deaths\"]"
   ]
  },
  {
   "cell_type": "code",
   "execution_count": 9,
   "metadata": {
    "ExecuteTime": {
     "end_time": "2020-09-06T05:13:12.493316Z",
     "start_time": "2020-09-06T05:13:12.009334Z"
    }
   },
   "outputs": [],
   "source": [
    "data.to_csv('novel_corona_virus_dataset.csv', index=False)"
   ]
  }
 ],
 "metadata": {
  "kernelspec": {
   "display_name": "Python 3",
   "language": "python",
   "name": "python3"
  },
  "language_info": {
   "codemirror_mode": {
    "name": "ipython",
    "version": 3
   },
   "file_extension": ".py",
   "mimetype": "text/x-python",
   "name": "python",
   "nbconvert_exporter": "python",
   "pygments_lexer": "ipython3",
   "version": "3.8.4"
  },
  "latex_envs": {
   "LaTeX_envs_menu_present": true,
   "autoclose": false,
   "autocomplete": true,
   "bibliofile": "biblio.bib",
   "cite_by": "apalike",
   "current_citInitial": 1,
   "eqLabelWithNumbers": true,
   "eqNumInitial": 1,
   "hotkeys": {
    "equation": "Ctrl-E",
    "itemize": "Ctrl-I"
   },
   "labels_anchors": false,
   "latex_user_defs": false,
   "report_style_numbering": false,
   "user_envs_cfg": false
  },
  "toc": {
   "base_numbering": 1,
   "nav_menu": {},
   "number_sections": true,
   "sideBar": true,
   "skip_h1_title": false,
   "title_cell": "Table of Contents",
   "title_sidebar": "Contents",
   "toc_cell": false,
   "toc_position": {},
   "toc_section_display": true,
   "toc_window_display": false
  },
  "varInspector": {
   "cols": {
    "lenName": 16,
    "lenType": 16,
    "lenVar": 40
   },
   "kernels_config": {
    "python": {
     "delete_cmd_postfix": "",
     "delete_cmd_prefix": "del ",
     "library": "var_list.py",
     "varRefreshCmd": "print(var_dic_list())"
    },
    "r": {
     "delete_cmd_postfix": ") ",
     "delete_cmd_prefix": "rm(",
     "library": "var_list.r",
     "varRefreshCmd": "cat(var_dic_list()) "
    }
   },
   "types_to_exclude": [
    "module",
    "function",
    "builtin_function_or_method",
    "instance",
    "_Feature"
   ],
   "window_display": false
  }
 },
 "nbformat": 4,
 "nbformat_minor": 4
}
