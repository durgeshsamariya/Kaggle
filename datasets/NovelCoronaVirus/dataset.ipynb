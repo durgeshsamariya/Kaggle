{
 "cells": [
  {
   "cell_type": "code",
   "execution_count": 1,
   "metadata": {
    "ExecuteTime": {
     "end_time": "2020-08-24T02:38:07.210125Z",
     "start_time": "2020-08-24T02:38:06.341588Z"
    }
   },
   "outputs": [],
   "source": [
    "#libraries\n",
    "import pandas as pd\n",
    "import wget"
   ]
  },
  {
   "cell_type": "code",
   "execution_count": 2,
   "metadata": {
    "ExecuteTime": {
     "end_time": "2020-08-24T02:38:07.228745Z",
     "start_time": "2020-08-24T02:38:07.214737Z"
    }
   },
   "outputs": [],
   "source": [
    "import os, ssl\n",
    "if (not os.environ.get('PYTHONHTTPSVERIFY', '') and\n",
    "getattr(ssl, '_create_unverified_context', None)):\n",
    "    ssl._create_default_https_context = ssl._create_unverified_context"
   ]
  },
  {
   "cell_type": "code",
   "execution_count": 3,
   "metadata": {
    "ExecuteTime": {
     "end_time": "2020-08-24T02:38:09.748884Z",
     "start_time": "2020-08-24T02:38:07.236584Z"
    }
   },
   "outputs": [],
   "source": [
    "# remove existing files\n",
    "!rm *.csv\n",
    "\n",
    "# urls of the files\n",
    "\n",
    "urls = ['https://raw.githubusercontent.com/CSSEGISandData/COVID-19/master/csse_covid_19_data/csse_covid_19_time_series/time_series_covid19_confirmed_global.csv',\n",
    "        'https://raw.githubusercontent.com/CSSEGISandData/COVID-19/master/csse_covid_19_data/csse_covid_19_time_series/time_series_covid19_deaths_global.csv',\n",
    "        'https://raw.githubusercontent.com/CSSEGISandData/COVID-19/master/csse_covid_19_data/csse_covid_19_time_series/time_series_covid19_recovered_global.csv',\n",
    "        'https://raw.githubusercontent.com/CSSEGISandData/COVID-19/web-data/data/cases_country.csv'\n",
    "]\n",
    "    \n",
    "# download files\n",
    "for url in urls:\n",
    "    filename = wget.download(url)"
   ]
  },
  {
   "cell_type": "code",
   "execution_count": 4,
   "metadata": {
    "ExecuteTime": {
     "end_time": "2020-08-24T02:38:09.866770Z",
     "start_time": "2020-08-24T02:38:09.755052Z"
    }
   },
   "outputs": [],
   "source": [
    "# generate DataFrames\n",
    "confirmed_global = pd.read_csv('time_series_covid19_confirmed_global.csv')\n",
    "deaths_global = pd.read_csv('time_series_covid19_deaths_global.csv')\n",
    "recovered_global = pd.read_csv('time_series_covid19_recovered_global.csv')\n",
    "covid19_data = pd.read_csv('cases_country.csv')"
   ]
  },
  {
   "cell_type": "code",
   "execution_count": 5,
   "metadata": {
    "ExecuteTime": {
     "end_time": "2020-08-24T02:38:09.923432Z",
     "start_time": "2020-08-24T02:38:09.874749Z"
    }
   },
   "outputs": [
    {
     "data": {
      "text/html": [
       "<div>\n",
       "<style scoped>\n",
       "    .dataframe tbody tr th:only-of-type {\n",
       "        vertical-align: middle;\n",
       "    }\n",
       "\n",
       "    .dataframe tbody tr th {\n",
       "        vertical-align: top;\n",
       "    }\n",
       "\n",
       "    .dataframe thead th {\n",
       "        text-align: right;\n",
       "    }\n",
       "</style>\n",
       "<table border=\"1\" class=\"dataframe\">\n",
       "  <thead>\n",
       "    <tr style=\"text-align: right;\">\n",
       "      <th></th>\n",
       "      <th>Province/State</th>\n",
       "      <th>Country/Region</th>\n",
       "      <th>Lat</th>\n",
       "      <th>Long</th>\n",
       "      <th>1/22/20</th>\n",
       "      <th>1/23/20</th>\n",
       "      <th>1/24/20</th>\n",
       "      <th>1/25/20</th>\n",
       "      <th>1/26/20</th>\n",
       "      <th>1/27/20</th>\n",
       "      <th>...</th>\n",
       "      <th>8/13/20</th>\n",
       "      <th>8/14/20</th>\n",
       "      <th>8/15/20</th>\n",
       "      <th>8/16/20</th>\n",
       "      <th>8/17/20</th>\n",
       "      <th>8/18/20</th>\n",
       "      <th>8/19/20</th>\n",
       "      <th>8/20/20</th>\n",
       "      <th>8/21/20</th>\n",
       "      <th>8/22/20</th>\n",
       "    </tr>\n",
       "  </thead>\n",
       "  <tbody>\n",
       "    <tr>\n",
       "      <th>0</th>\n",
       "      <td>NaN</td>\n",
       "      <td>Afghanistan</td>\n",
       "      <td>33.93911</td>\n",
       "      <td>67.709953</td>\n",
       "      <td>0</td>\n",
       "      <td>0</td>\n",
       "      <td>0</td>\n",
       "      <td>0</td>\n",
       "      <td>0</td>\n",
       "      <td>0</td>\n",
       "      <td>...</td>\n",
       "      <td>37424</td>\n",
       "      <td>37431</td>\n",
       "      <td>37551</td>\n",
       "      <td>37596</td>\n",
       "      <td>37599</td>\n",
       "      <td>37599</td>\n",
       "      <td>37599</td>\n",
       "      <td>37856</td>\n",
       "      <td>37894</td>\n",
       "      <td>37953</td>\n",
       "    </tr>\n",
       "    <tr>\n",
       "      <th>1</th>\n",
       "      <td>NaN</td>\n",
       "      <td>Albania</td>\n",
       "      <td>41.15330</td>\n",
       "      <td>20.168300</td>\n",
       "      <td>0</td>\n",
       "      <td>0</td>\n",
       "      <td>0</td>\n",
       "      <td>0</td>\n",
       "      <td>0</td>\n",
       "      <td>0</td>\n",
       "      <td>...</td>\n",
       "      <td>6971</td>\n",
       "      <td>7117</td>\n",
       "      <td>7260</td>\n",
       "      <td>7380</td>\n",
       "      <td>7499</td>\n",
       "      <td>7654</td>\n",
       "      <td>7812</td>\n",
       "      <td>7967</td>\n",
       "      <td>8119</td>\n",
       "      <td>8275</td>\n",
       "    </tr>\n",
       "    <tr>\n",
       "      <th>2</th>\n",
       "      <td>NaN</td>\n",
       "      <td>Algeria</td>\n",
       "      <td>28.03390</td>\n",
       "      <td>1.659600</td>\n",
       "      <td>0</td>\n",
       "      <td>0</td>\n",
       "      <td>0</td>\n",
       "      <td>0</td>\n",
       "      <td>0</td>\n",
       "      <td>0</td>\n",
       "      <td>...</td>\n",
       "      <td>37187</td>\n",
       "      <td>37664</td>\n",
       "      <td>38133</td>\n",
       "      <td>38583</td>\n",
       "      <td>39025</td>\n",
       "      <td>39444</td>\n",
       "      <td>39847</td>\n",
       "      <td>40258</td>\n",
       "      <td>40667</td>\n",
       "      <td>41068</td>\n",
       "    </tr>\n",
       "    <tr>\n",
       "      <th>3</th>\n",
       "      <td>NaN</td>\n",
       "      <td>Andorra</td>\n",
       "      <td>42.50630</td>\n",
       "      <td>1.521800</td>\n",
       "      <td>0</td>\n",
       "      <td>0</td>\n",
       "      <td>0</td>\n",
       "      <td>0</td>\n",
       "      <td>0</td>\n",
       "      <td>0</td>\n",
       "      <td>...</td>\n",
       "      <td>981</td>\n",
       "      <td>989</td>\n",
       "      <td>989</td>\n",
       "      <td>989</td>\n",
       "      <td>1005</td>\n",
       "      <td>1005</td>\n",
       "      <td>1024</td>\n",
       "      <td>1024</td>\n",
       "      <td>1045</td>\n",
       "      <td>1045</td>\n",
       "    </tr>\n",
       "    <tr>\n",
       "      <th>4</th>\n",
       "      <td>NaN</td>\n",
       "      <td>Angola</td>\n",
       "      <td>-11.20270</td>\n",
       "      <td>17.873900</td>\n",
       "      <td>0</td>\n",
       "      <td>0</td>\n",
       "      <td>0</td>\n",
       "      <td>0</td>\n",
       "      <td>0</td>\n",
       "      <td>0</td>\n",
       "      <td>...</td>\n",
       "      <td>1815</td>\n",
       "      <td>1852</td>\n",
       "      <td>1879</td>\n",
       "      <td>1906</td>\n",
       "      <td>1935</td>\n",
       "      <td>1966</td>\n",
       "      <td>2015</td>\n",
       "      <td>2044</td>\n",
       "      <td>2068</td>\n",
       "      <td>2134</td>\n",
       "    </tr>\n",
       "  </tbody>\n",
       "</table>\n",
       "<p>5 rows × 218 columns</p>\n",
       "</div>"
      ],
      "text/plain": [
       "  Province/State Country/Region       Lat       Long  1/22/20  1/23/20  \\\n",
       "0            NaN    Afghanistan  33.93911  67.709953        0        0   \n",
       "1            NaN        Albania  41.15330  20.168300        0        0   \n",
       "2            NaN        Algeria  28.03390   1.659600        0        0   \n",
       "3            NaN        Andorra  42.50630   1.521800        0        0   \n",
       "4            NaN         Angola -11.20270  17.873900        0        0   \n",
       "\n",
       "   1/24/20  1/25/20  1/26/20  1/27/20  ...  8/13/20  8/14/20  8/15/20  \\\n",
       "0        0        0        0        0  ...    37424    37431    37551   \n",
       "1        0        0        0        0  ...     6971     7117     7260   \n",
       "2        0        0        0        0  ...    37187    37664    38133   \n",
       "3        0        0        0        0  ...      981      989      989   \n",
       "4        0        0        0        0  ...     1815     1852     1879   \n",
       "\n",
       "   8/16/20  8/17/20  8/18/20  8/19/20  8/20/20  8/21/20  8/22/20  \n",
       "0    37596    37599    37599    37599    37856    37894    37953  \n",
       "1     7380     7499     7654     7812     7967     8119     8275  \n",
       "2    38583    39025    39444    39847    40258    40667    41068  \n",
       "3      989     1005     1005     1024     1024     1045     1045  \n",
       "4     1906     1935     1966     2015     2044     2068     2134  \n",
       "\n",
       "[5 rows x 218 columns]"
      ]
     },
     "execution_count": 5,
     "metadata": {},
     "output_type": "execute_result"
    }
   ],
   "source": [
    "confirmed_global.head()"
   ]
  },
  {
   "cell_type": "code",
   "execution_count": 6,
   "metadata": {
    "ExecuteTime": {
     "end_time": "2020-08-24T02:38:10.001039Z",
     "start_time": "2020-08-24T02:38:09.926985Z"
    }
   },
   "outputs": [],
   "source": [
    "# merging three dataframes based on first for columns as all three have same columns.\n",
    "dates = confirmed_global.columns[4:]\n",
    "confirmed_global_long = confirmed_global.melt(id_vars=['Province/State', 'Country/Region', 'Lat', 'Long'], \n",
    "                                              value_vars=dates, var_name='Date', value_name='Confirmed')\n",
    "\n",
    "deaths_global_long = deaths_global.melt(id_vars=['Province/State', 'Country/Region', 'Lat', 'Long'], \n",
    "                                        value_vars=dates, var_name='Date', value_name='Deaths')\n",
    "\n",
    "recovered_global_long = recovered_global.melt(id_vars=['Province/State', 'Country/Region', 'Lat', 'Long'],\n",
    "                                              value_vars=dates, var_name='Date', value_name='Recovered')"
   ]
  },
  {
   "cell_type": "code",
   "execution_count": 7,
   "metadata": {
    "ExecuteTime": {
     "end_time": "2020-08-24T02:38:10.251222Z",
     "start_time": "2020-08-24T02:38:10.006283Z"
    }
   },
   "outputs": [],
   "source": [
    "data = pd.merge(left=confirmed_global_long, right=deaths_global_long, \n",
    "                how ='left', on=['Province/State', 'Country/Region', 'Date', 'Lat', 'Long'])\n",
    "\n",
    "data = pd.merge(left=data, right=recovered_global_long, how='left',\n",
    "                on=['Province/State', 'Country/Region', 'Date', 'Lat', 'Long'])\n",
    "\n",
    "data['Recovered'] = data['Recovered'].fillna(0)\n",
    "data['Recovered'] = data['Recovered'].astype('int')\n"
   ]
  },
  {
   "cell_type": "code",
   "execution_count": 8,
   "metadata": {
    "ExecuteTime": {
     "end_time": "2020-08-24T02:38:10.314802Z",
     "start_time": "2020-08-24T02:38:10.258327Z"
    }
   },
   "outputs": [],
   "source": [
    "# renaming countries, regions, provinces\n",
    "# i manually find this\n",
    "data['Country/Region'] = data['Country/Region'].replace('Korea, South', 'South Korea')\n",
    "data.loc[data['Country/Region'] == \"Taiwan*\", \"Country/Region\"] = \"Taiwan\"\n",
    "\n",
    "#Change column name\n",
    "data = data.rename(columns={\"Country/Region\": \"Country\"})\n",
    "data = data.rename(columns={\"Province/State\": \"State\"})\n",
    "\n",
    "data['State'] = data['State'].fillna('')\n",
    "\n",
    "#create active case column\n",
    "data[\"Active\"] = data[\"Confirmed\"]-data[\"Recovered\"]-data[\"Deaths\"]"
   ]
  },
  {
   "cell_type": "code",
   "execution_count": 9,
   "metadata": {
    "ExecuteTime": {
     "end_time": "2020-08-24T02:38:10.888446Z",
     "start_time": "2020-08-24T02:38:10.321067Z"
    }
   },
   "outputs": [],
   "source": [
    "data.to_csv('novel_corona_virus_dataset.csv', index=False)"
   ]
  }
 ],
 "metadata": {
  "kernelspec": {
   "display_name": "Python 3",
   "language": "python",
   "name": "python3"
  },
  "language_info": {
   "codemirror_mode": {
    "name": "ipython",
    "version": 3
   },
   "file_extension": ".py",
   "mimetype": "text/x-python",
   "name": "python",
   "nbconvert_exporter": "python",
   "pygments_lexer": "ipython3",
   "version": "3.8.4"
  },
  "latex_envs": {
   "LaTeX_envs_menu_present": true,
   "autoclose": false,
   "autocomplete": true,
   "bibliofile": "biblio.bib",
   "cite_by": "apalike",
   "current_citInitial": 1,
   "eqLabelWithNumbers": true,
   "eqNumInitial": 1,
   "hotkeys": {
    "equation": "Ctrl-E",
    "itemize": "Ctrl-I"
   },
   "labels_anchors": false,
   "latex_user_defs": false,
   "report_style_numbering": false,
   "user_envs_cfg": false
  },
  "toc": {
   "base_numbering": 1,
   "nav_menu": {},
   "number_sections": true,
   "sideBar": true,
   "skip_h1_title": false,
   "title_cell": "Table of Contents",
   "title_sidebar": "Contents",
   "toc_cell": false,
   "toc_position": {},
   "toc_section_display": true,
   "toc_window_display": false
  },
  "varInspector": {
   "cols": {
    "lenName": 16,
    "lenType": 16,
    "lenVar": 40
   },
   "kernels_config": {
    "python": {
     "delete_cmd_postfix": "",
     "delete_cmd_prefix": "del ",
     "library": "var_list.py",
     "varRefreshCmd": "print(var_dic_list())"
    },
    "r": {
     "delete_cmd_postfix": ") ",
     "delete_cmd_prefix": "rm(",
     "library": "var_list.r",
     "varRefreshCmd": "cat(var_dic_list()) "
    }
   },
   "types_to_exclude": [
    "module",
    "function",
    "builtin_function_or_method",
    "instance",
    "_Feature"
   ],
   "window_display": false
  }
 },
 "nbformat": 4,
 "nbformat_minor": 4
}
